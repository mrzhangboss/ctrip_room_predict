{
 "cells": [
  {
   "cell_type": "code",
   "execution_count": 22,
   "metadata": {
    "collapsed": true
   },
   "outputs": [],
   "source": [
    "import os\n",
    "import sys\n",
    "from datetime import datetime\n",
    "from os import remove\n",
    "from os.path import join, abspath, exists\n",
    "from warnings import warn\n",
    "from subprocess import check_output\n",
    "\n",
    "\n",
    "import numpy as np\n",
    "import pandas as pd\n",
    "import scipy as sp\n",
    "\n",
    "from utils import *"
   ]
  },
  {
   "cell_type": "code",
   "execution_count": 23,
   "metadata": {
    "collapsed": true
   },
   "outputs": [],
   "source": [
    "dir_arg = sys.argv[1]\n",
    "if dir_arg == '-f':\n",
    "    file_dir = join('..', 'dataset', 'train')\n",
    "else:\n",
    "    file_dir = join('..', 'dataset',  dir_arg)"
   ]
  },
  {
   "cell_type": "code",
   "execution_count": 24,
   "metadata": {
    "collapsed": false
   },
   "outputs": [
    {
     "name": "stdout",
     "output_type": "stream",
     "text": [
      "2017-08-06 11:39:39.168461 begin combine ../dataset/train/all_feature.pkl\n"
     ]
    }
   ],
   "source": [
    "feature_path = join(file_dir, 'all_feature.pkl')\n",
    "print(datetime.now(), 'begin combine', feature_path)\n",
    "\n",
    "order_path = join(file_dir, 'order_feature.pkl')\n",
    "\n",
    "hotel_path = join(file_dir, 'hotel_feature.pkl')\n",
    "\n",
    "basic_path = join(file_dir, 'basic_room_feature.pkl')\n",
    "\n",
    "room_path = join(file_dir, 'room_feature.pkl')\n",
    "\n",
    "hotel_room_path = join(file_dir, 'hotel_room_feature.pkl')\n",
    "\n",
    "user_path = join(file_dir, 'user_feature.pkl')"
   ]
  },
  {
   "cell_type": "code",
   "execution_count": 25,
   "metadata": {
    "collapsed": true
   },
   "outputs": [],
   "source": [
    "if exists(abspath(feature_path)):\n",
    "    remove(abspath(feature_path))"
   ]
  },
  {
   "cell_type": "code",
   "execution_count": 26,
   "metadata": {
    "collapsed": false
   },
   "outputs": [
    {
     "name": "stdout",
     "output_type": "stream",
     "text": [
      "b''\n"
     ]
    }
   ],
   "source": [
    "print(check_output(['ln', '-s', abspath(order_path), abspath(feature_path)]))"
   ]
  },
  {
   "cell_type": "code",
   "execution_count": null,
   "metadata": {
    "collapsed": true
   },
   "outputs": [],
   "source": [
    "# order_df = pd.read_pickle(order_path)"
   ]
  },
  {
   "cell_type": "code",
   "execution_count": null,
   "metadata": {
    "collapsed": true
   },
   "outputs": [],
   "source": [
    "t = 'hotelid'"
   ]
  },
  {
   "cell_type": "code",
   "execution_count": null,
   "metadata": {
    "collapsed": true
   },
   "outputs": [],
   "source": [
    "p = hotel_path"
   ]
  },
  {
   "cell_type": "code",
   "execution_count": null,
   "metadata": {
    "collapsed": true
   },
   "outputs": [],
   "source": [
    "def join_df(t, p, order_df):\n",
    "    df = pd.read_pickle(p).set_index(t)\n",
    "    order_df = order_df.join(df, on=t)\n",
    "    return order_df"
   ]
  },
  {
   "cell_type": "code",
   "execution_count": null,
   "metadata": {
    "collapsed": false
   },
   "outputs": [],
   "source": [
    "# order_df = join_df('hotelid', hotel_path, order_df)\n",
    "\n",
    "# order_df = join_df('basicroomid', basic_path, order_df)\n",
    "\n",
    "# order_df = join_df('roomid', room_path, order_df)\n",
    "\n",
    "# order_df = join_df('hotel_roomid', hotel_room_path, order_df)\n",
    "\n",
    "# order_df = join_df('uid', user_path, order_df)"
   ]
  },
  {
   "cell_type": "code",
   "execution_count": null,
   "metadata": {
    "collapsed": false
   },
   "outputs": [],
   "source": [
    "# print(order_df.shape)"
   ]
  },
  {
   "cell_type": "code",
   "execution_count": 27,
   "metadata": {
    "collapsed": false
   },
   "outputs": [
    {
     "name": "stdout",
     "output_type": "stream",
     "text": [
      "2017-08-06 11:39:44.801389 save to ../dataset/train/all_feature.pkl\n"
     ]
    }
   ],
   "source": [
    "# order_df.to_pickle(feature_path)\n",
    "\n",
    "print(datetime.now(), 'save to', feature_path)"
   ]
  }
 ],
 "metadata": {
  "anaconda-cloud": {},
  "hide_input": false,
  "kernelspec": {
   "display_name": "Python 3",
   "language": "python",
   "name": "python3"
  },
  "language_info": {
   "codemirror_mode": {
    "name": "ipython",
    "version": 3
   },
   "file_extension": ".py",
   "mimetype": "text/x-python",
   "name": "python",
   "nbconvert_exporter": "python",
   "pygments_lexer": "ipython3",
   "version": "3.5.1"
  }
 },
 "nbformat": 4,
 "nbformat_minor": 2
}
