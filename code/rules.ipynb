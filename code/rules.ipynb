{
 "cells": [
  {
   "cell_type": "code",
   "execution_count": 1,
   "metadata": {
    "collapsed": true
   },
   "outputs": [],
   "source": [
    "import pandas as pd\n",
    "import numpy as np\n",
    "import scipy as sp"
   ]
  },
  {
   "cell_type": "code",
   "execution_count": 2,
   "metadata": {
    "collapsed": true
   },
   "outputs": [],
   "source": [
    "test = pd.read_table('../dataset/competition_extratime_test.txt')"
   ]
  },
  {
   "cell_type": "code",
   "execution_count": 5,
   "metadata": {
    "collapsed": true
   },
   "outputs": [
    {
     "data": {
      "text/plain": [
       "0         0.163399\n",
       "1         0.163399\n",
       "2         0.163399\n",
       "3         0.163399\n",
       "4         0.163399\n",
       "5         0.163399\n",
       "6         0.163399\n",
       "7         0.163399\n",
       "8         0.163399\n",
       "9         0.163399\n",
       "10        0.163399\n",
       "11        0.163399\n",
       "12        0.163399\n",
       "13        0.163399\n",
       "14        0.163399\n",
       "15        0.163399\n",
       "16        0.163399\n",
       "17        0.163399\n",
       "18        0.163399\n",
       "19        0.163399\n",
       "20        0.163399\n",
       "21        0.163399\n",
       "22        0.166667\n",
       "23        0.166667\n",
       "24        0.166667\n",
       "25        0.166667\n",
       "26        0.166667\n",
       "27        0.166667\n",
       "28        0.166667\n",
       "29        0.166667\n",
       "            ...   \n",
       "978268    0.200000\n",
       "978269    0.200000\n",
       "978270    0.192308\n",
       "978271    0.192308\n",
       "978272    0.192308\n",
       "978273    0.192308\n",
       "978274    0.192308\n",
       "978275    0.192308\n",
       "978276    0.192308\n",
       "978277    0.192308\n",
       "978278    0.192308\n",
       "978279    0.192308\n",
       "978280    0.192308\n",
       "978281    0.192308\n",
       "978282    0.192308\n",
       "978283    0.192308\n",
       "978284    0.192308\n",
       "978285    0.192308\n",
       "978286    0.192308\n",
       "978287    0.192308\n",
       "978288    0.192308\n",
       "978289    0.192308\n",
       "978290    0.192308\n",
       "978291    0.192308\n",
       "978292    0.192308\n",
       "978293    0.192308\n",
       "978294    0.192308\n",
       "978295    0.192308\n",
       "978296    0.192308\n",
       "978297    0.192308\n",
       "Name: user_roomservice_4_3ratio, Length: 978298, dtype: float64"
      ]
     },
     "execution_count": 5,
     "metadata": {},
     "output_type": "execute_result"
    }
   ],
   "source": [
    "test.user_roomservice_4_3ratio"
   ]
  },
  {
   "cell_type": "code",
   "execution_count": 6,
   "metadata": {
    "collapsed": true
   },
   "outputs": [],
   "source": [
    "?np.argmax"
   ]
  },
  {
   "cell_type": "code",
   "execution_count": null,
   "metadata": {
    "collapsed": true
   },
   "outputs": [],
   "source": []
  }
 ],
 "metadata": {
  "anaconda-cloud": {},
  "hide_input": false,
  "kernelspec": {
   "display_name": "Python 3",
   "language": "python",
   "name": "python3"
  },
  "language_info": {
   "codemirror_mode": {
    "name": "ipython",
    "version": 3
   },
   "file_extension": ".py",
   "mimetype": "text/x-python",
   "name": "python",
   "nbconvert_exporter": "python",
   "pygments_lexer": "ipython3",
   "version": "3.5.1"
  }
 },
 "nbformat": 4,
 "nbformat_minor": 2
}
