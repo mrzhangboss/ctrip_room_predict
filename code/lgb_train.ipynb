{
 "cells": [
  {
   "cell_type": "code",
   "execution_count": 45,
   "metadata": {
    "collapsed": false
   },
   "outputs": [],
   "source": [
    "import pickle\n",
    "from datetime import datetime\n",
    "from os import mkdir\n",
    "from os.path import join, exists\n",
    "\n",
    "import numpy as np\n",
    "import pandas as pd\n",
    "import scipy as sp\n",
    "\n",
    "# import matplotlib.pyplot as plt\n",
    "\n",
    "from sklearn import model_selection\n",
    "from sklearn.model_selection import KFold\n",
    "from sklearn.model_selection import train_test_split\n",
    "\n",
    "import lightgbm as lgb\n",
    "from lightgbm import LGBMClassifier\n",
    "\n",
    "from sklearn import model_selection\n",
    "from sklearn.linear_model import LogisticRegression\n",
    "from sklearn.neighbors import KNeighborsClassifier\n",
    "from sklearn.naive_bayes import GaussianNB \n",
    "from sklearn.ensemble import RandomForestClassifier\n",
    "from mlxtend.classifier import StackingClassifier\n",
    "from mlxtend.classifier import StackingCVClassifier"
   ]
  },
  {
   "cell_type": "code",
   "execution_count": 46,
   "metadata": {
    "collapsed": false
   },
   "outputs": [
    {
     "data": {
      "text/plain": [
       "(1080976, 282)"
      ]
     },
     "execution_count": 46,
     "metadata": {},
     "output_type": "execute_result"
    }
   ],
   "source": [
    "train_features = pd.read_pickle('../dataset/all_feature.pkl').reset_index(drop=True)\n",
    "train_features.shape"
   ]
  },
  {
   "cell_type": "code",
   "execution_count": 47,
   "metadata": {
    "collapsed": true
   },
   "outputs": [],
   "source": [
    "model_path = '../dataset/lightgbmmodel.pkl'"
   ]
  },
  {
   "cell_type": "code",
   "execution_count": 48,
   "metadata": {
    "collapsed": true
   },
   "outputs": [],
   "source": [
    "luck = 123456"
   ]
  },
  {
   "cell_type": "code",
   "execution_count": 49,
   "metadata": {
    "collapsed": true
   },
   "outputs": [],
   "source": [
    "model = LGBMClassifier(nthread=4, silent=False, objective= 'binary', seed=luck)"
   ]
  },
  {
   "cell_type": "code",
   "execution_count": 50,
   "metadata": {
    "collapsed": true
   },
   "outputs": [],
   "source": [
    "parameters = {\n",
    "#     'gamma': [0.05],\n",
    "    #     'n_estimators': [800],\n",
    "#     'max_depth': [2, 6, 12],\n",
    "    'max_depth': [12],\n",
    "    'num_leaves': range(30, 50, 4), \n",
    "\n",
    "#     'learning_rate': [0.15, 0.3],\n",
    "#         'subsample': [0.9],\n",
    "#         'colsample_bytree': [0.9],\n",
    "    #     'reg_alpha': [0, 1, 5],\n",
    "    #     'reg_lambda': [0, 1, 4],\n",
    "}"
   ]
  },
  {
   "cell_type": "code",
   "execution_count": 51,
   "metadata": {
    "collapsed": true
   },
   "outputs": [],
   "source": [
    "use_columns = [\n",
    "    x for x in train_features.columns\n",
    "    if x not in [\n",
    "        'orderid', 'uid', 'hotelid', 'basicroomid', 'hotel_roomid', 'roomid',\n",
    "        'orderlabel'\n",
    "    ]\n",
    "]"
   ]
  },
  {
   "cell_type": "code",
   "execution_count": 52,
   "metadata": {
    "collapsed": true
   },
   "outputs": [],
   "source": [
    "cv = model_selection.ShuffleSplit(n_splits=1, test_size=0.2, random_state=luck)\n",
    "clf = model_selection.GridSearchCV(model, parameters, cv=cv, n_jobs=-1, verbose=True)"
   ]
  },
  {
   "cell_type": "code",
   "execution_count": 53,
   "metadata": {
    "collapsed": false
   },
   "outputs": [],
   "source": [
    "clf_feture = train_features.sample(100000, random_state=luck)"
   ]
  },
  {
   "cell_type": "code",
   "execution_count": 54,
   "metadata": {
    "collapsed": false
   },
   "outputs": [
    {
     "name": "stdout",
     "output_type": "stream",
     "text": [
      "Fitting 1 folds for each of 5 candidates, totalling 5 fits\n"
     ]
    },
    {
     "name": "stderr",
     "output_type": "stream",
     "text": [
      "[Parallel(n_jobs=-1)]: Done   5 out of   5 | elapsed:   16.6s finished\n"
     ]
    },
    {
     "name": "stdout",
     "output_type": "stream",
     "text": [
      "CPU times: user 11.7 s, sys: 365 ms, total: 12.1 s\n",
      "Wall time: 20.3 s\n"
     ]
    },
    {
     "data": {
      "text/plain": [
       "GridSearchCV(cv=ShuffleSplit(n_splits=1, random_state=123456, test_size=0.2, train_size=None),\n",
       "       error_score='raise',\n",
       "       estimator=LGBMClassifier(boosting_type='gbdt', colsample_bytree=1, learning_rate=0.1,\n",
       "        max_bin=255, max_depth=-1, min_child_samples=10,\n",
       "        min_child_weight=5, min_split_gain=0, n_estimators=10, nthread=4,\n",
       "        num_leaves=31, objective='binary', reg_alpha=0, reg_lambda=0,\n",
       "        seed=123456, silent=False, subsample=1, subsample_for_bin=50000,\n",
       "        subsample_freq=1),\n",
       "       fit_params={}, iid=True, n_jobs=-1,\n",
       "       param_grid={'max_depth': [12], 'num_leaves': range(30, 50, 4)},\n",
       "       pre_dispatch='2*n_jobs', refit=True, return_train_score=True,\n",
       "       scoring=None, verbose=True)"
      ]
     },
     "execution_count": 54,
     "metadata": {},
     "output_type": "execute_result"
    }
   ],
   "source": [
    "%time clf.fit(clf_feture[use_columns], clf_feture['orderlabel'])"
   ]
  },
  {
   "cell_type": "code",
   "execution_count": 55,
   "metadata": {
    "collapsed": false
   },
   "outputs": [
    {
     "data": {
      "text/plain": [
       "0.97294999999999998"
      ]
     },
     "execution_count": 55,
     "metadata": {},
     "output_type": "execute_result"
    }
   ],
   "source": [
    "clf.best_score_"
   ]
  },
  {
   "cell_type": "code",
   "execution_count": 56,
   "metadata": {
    "collapsed": false
   },
   "outputs": [
    {
     "data": {
      "text/plain": [
       "{'max_depth': 12, 'num_leaves': 46}"
      ]
     },
     "execution_count": 56,
     "metadata": {},
     "output_type": "execute_result"
    }
   ],
   "source": [
    "clf.best_params_"
   ]
  },
  {
   "cell_type": "code",
   "execution_count": 75,
   "metadata": {
    "collapsed": false
   },
   "outputs": [
    {
     "data": {
      "text/plain": [
       "64"
      ]
     },
     "execution_count": 75,
     "metadata": {},
     "output_type": "execute_result"
    }
   ],
   "source": [
    "2**6"
   ]
  },
  {
   "cell_type": "code",
   "execution_count": 76,
   "metadata": {
    "collapsed": true
   },
   "outputs": [],
   "source": [
    "# # clf.best_params_['n_estimators'] = \n",
    "clf.best_params_['max_depth'] = 6\n",
    "# clf.best_params_['reg_lambda'] = 0.5\n",
    "clf.best_params_['subsample'] = 0.8\n",
    "clf.best_params_['colsample_bytree'] = 0.8\n",
    "# clf.best_params_['n_estimators'] = 1000\n",
    "clf.best_params_['learning_rate'] = 0.1\n",
    "clf.best_params_['num_leaves'] = 60\n",
    "# clf.best_params_['reg_alpha'] = 1\n",
    "# clf.best_params_['min_data_in_leaf'] = 3\n",
    "\n",
    "# clf.best_params_['min_child_weight'] = 1"
   ]
  },
  {
   "cell_type": "code",
   "execution_count": 77,
   "metadata": {
    "collapsed": false
   },
   "outputs": [
    {
     "data": {
      "text/plain": [
       "LGBMClassifier(boosting_type='gbdt', colsample_bytree=0.8, learning_rate=0.1,\n",
       "        max_bin=255, max_depth=6, min_child_samples=10, min_child_weight=5,\n",
       "        min_split_gain=0, n_estimators=4000, nthread=4, num_leaves=60,\n",
       "        objective='binary', reg_alpha=0, reg_lambda=0, seed=123456,\n",
       "        silent=False, subsample=0.8, subsample_for_bin=50000,\n",
       "        subsample_freq=1)"
      ]
     },
     "execution_count": 77,
     "metadata": {},
     "output_type": "execute_result"
    }
   ],
   "source": [
    "model = LGBMClassifier(\n",
    "    nthread=4,\n",
    "    silent=False,\n",
    "    objective='binary',\n",
    "    seed=luck,\n",
    "#     learning_rate=0.3,\n",
    "    n_estimators=4000,\n",
    "    **clf.best_params_)\n",
    "model"
   ]
  },
  {
   "cell_type": "code",
   "execution_count": 59,
   "metadata": {
    "collapsed": false
   },
   "outputs": [],
   "source": [
    "X_train, X_test, y_train, y_test = train_test_split(\n",
    "    train_features[use_columns],\n",
    "    train_features['orderlabel'],\n",
    "    test_size=0.33,\n",
    "    random_state=42)"
   ]
  },
  {
   "cell_type": "code",
   "execution_count": 79,
   "metadata": {
    "collapsed": false
   },
   "outputs": [
    {
     "name": "stdout",
     "output_type": "stream",
     "text": [
      "[1]\ttraining's auc: 0.897172\tvalid_1's auc: 0.890173\n",
      "Train until valid scores didn't improve in 100 rounds.\n",
      "[2]\ttraining's auc: 0.911038\tvalid_1's auc: 0.90594\n",
      "[3]\ttraining's auc: 0.912208\tvalid_1's auc: 0.907868\n",
      "[4]\ttraining's auc: 0.912216\tvalid_1's auc: 0.908057\n",
      "[5]\ttraining's auc: 0.912284\tvalid_1's auc: 0.908194\n",
      "[6]\ttraining's auc: 0.913538\tvalid_1's auc: 0.909078\n",
      "[7]\ttraining's auc: 0.914969\tvalid_1's auc: 0.910817\n",
      "[8]\ttraining's auc: 0.91608\tvalid_1's auc: 0.911812\n",
      "[9]\ttraining's auc: 0.916449\tvalid_1's auc: 0.912689\n",
      "[10]\ttraining's auc: 0.916536\tvalid_1's auc: 0.912676\n",
      "[11]\ttraining's auc: 0.916747\tvalid_1's auc: 0.912782\n",
      "[12]\ttraining's auc: 0.916944\tvalid_1's auc: 0.913209\n",
      "[13]\ttraining's auc: 0.917514\tvalid_1's auc: 0.913596\n",
      "[14]\ttraining's auc: 0.917388\tvalid_1's auc: 0.913394\n",
      "[15]\ttraining's auc: 0.917807\tvalid_1's auc: 0.913882\n",
      "[16]\ttraining's auc: 0.918518\tvalid_1's auc: 0.914492\n",
      "[17]\ttraining's auc: 0.918624\tvalid_1's auc: 0.914394\n",
      "[18]\ttraining's auc: 0.919068\tvalid_1's auc: 0.914665\n",
      "[19]\ttraining's auc: 0.919518\tvalid_1's auc: 0.915091\n",
      "[20]\ttraining's auc: 0.919592\tvalid_1's auc: 0.915245\n",
      "[21]\ttraining's auc: 0.919672\tvalid_1's auc: 0.915271\n",
      "[22]\ttraining's auc: 0.919809\tvalid_1's auc: 0.915611\n",
      "[23]\ttraining's auc: 0.920086\tvalid_1's auc: 0.915829\n",
      "[24]\ttraining's auc: 0.920308\tvalid_1's auc: 0.915979\n",
      "[25]\ttraining's auc: 0.920612\tvalid_1's auc: 0.916223\n",
      "[26]\ttraining's auc: 0.921151\tvalid_1's auc: 0.916531\n",
      "[27]\ttraining's auc: 0.921657\tvalid_1's auc: 0.916761\n",
      "[28]\ttraining's auc: 0.922036\tvalid_1's auc: 0.91701\n",
      "[29]\ttraining's auc: 0.922136\tvalid_1's auc: 0.91709\n",
      "[30]\ttraining's auc: 0.922551\tvalid_1's auc: 0.9173\n",
      "[31]\ttraining's auc: 0.922943\tvalid_1's auc: 0.917488\n",
      "[32]\ttraining's auc: 0.923213\tvalid_1's auc: 0.917675\n",
      "[33]\ttraining's auc: 0.923462\tvalid_1's auc: 0.917846\n",
      "[34]\ttraining's auc: 0.924006\tvalid_1's auc: 0.918181\n",
      "[35]\ttraining's auc: 0.924439\tvalid_1's auc: 0.918465\n",
      "[36]\ttraining's auc: 0.924665\tvalid_1's auc: 0.918605\n",
      "[37]\ttraining's auc: 0.925094\tvalid_1's auc: 0.918821\n",
      "[38]\ttraining's auc: 0.925506\tvalid_1's auc: 0.919014\n",
      "[39]\ttraining's auc: 0.925922\tvalid_1's auc: 0.919244\n",
      "[40]\ttraining's auc: 0.926391\tvalid_1's auc: 0.919466\n",
      "[41]\ttraining's auc: 0.926711\tvalid_1's auc: 0.91964\n",
      "[42]\ttraining's auc: 0.927066\tvalid_1's auc: 0.91989\n",
      "[43]\ttraining's auc: 0.92746\tvalid_1's auc: 0.92007\n",
      "[44]\ttraining's auc: 0.927876\tvalid_1's auc: 0.920285\n",
      "[45]\ttraining's auc: 0.928202\tvalid_1's auc: 0.920478\n",
      "[46]\ttraining's auc: 0.928636\tvalid_1's auc: 0.920747\n",
      "[47]\ttraining's auc: 0.928906\tvalid_1's auc: 0.920902\n",
      "[48]\ttraining's auc: 0.92929\tvalid_1's auc: 0.921106\n",
      "[49]\ttraining's auc: 0.92956\tvalid_1's auc: 0.921207\n",
      "[50]\ttraining's auc: 0.92992\tvalid_1's auc: 0.921383\n",
      "[51]\ttraining's auc: 0.93022\tvalid_1's auc: 0.921464\n",
      "[52]\ttraining's auc: 0.930598\tvalid_1's auc: 0.921618\n",
      "[53]\ttraining's auc: 0.930989\tvalid_1's auc: 0.921864\n",
      "[54]\ttraining's auc: 0.931476\tvalid_1's auc: 0.922134\n",
      "[55]\ttraining's auc: 0.931829\tvalid_1's auc: 0.922312\n",
      "[56]\ttraining's auc: 0.932265\tvalid_1's auc: 0.922494\n",
      "[57]\ttraining's auc: 0.932555\tvalid_1's auc: 0.922737\n",
      "[58]\ttraining's auc: 0.932863\tvalid_1's auc: 0.922861\n",
      "[59]\ttraining's auc: 0.933194\tvalid_1's auc: 0.922992\n",
      "[60]\ttraining's auc: 0.933563\tvalid_1's auc: 0.923203\n",
      "[61]\ttraining's auc: 0.933957\tvalid_1's auc: 0.923436\n",
      "[62]\ttraining's auc: 0.934313\tvalid_1's auc: 0.92365\n",
      "[63]\ttraining's auc: 0.934647\tvalid_1's auc: 0.923693\n",
      "[64]\ttraining's auc: 0.934883\tvalid_1's auc: 0.923774\n",
      "[65]\ttraining's auc: 0.935189\tvalid_1's auc: 0.923855\n",
      "[66]\ttraining's auc: 0.935506\tvalid_1's auc: 0.923908\n",
      "[67]\ttraining's auc: 0.935726\tvalid_1's auc: 0.923909\n",
      "[68]\ttraining's auc: 0.936084\tvalid_1's auc: 0.92412\n",
      "[69]\ttraining's auc: 0.936286\tvalid_1's auc: 0.924257\n",
      "[70]\ttraining's auc: 0.936546\tvalid_1's auc: 0.92439\n",
      "[71]\ttraining's auc: 0.936815\tvalid_1's auc: 0.924537\n",
      "[72]\ttraining's auc: 0.937114\tvalid_1's auc: 0.924675\n",
      "[73]\ttraining's auc: 0.937363\tvalid_1's auc: 0.924821\n",
      "[74]\ttraining's auc: 0.937578\tvalid_1's auc: 0.924922\n",
      "[75]\ttraining's auc: 0.937855\tvalid_1's auc: 0.924969\n",
      "[76]\ttraining's auc: 0.938013\tvalid_1's auc: 0.925008\n",
      "[77]\ttraining's auc: 0.938281\tvalid_1's auc: 0.925135\n",
      "[78]\ttraining's auc: 0.938463\tvalid_1's auc: 0.925149\n",
      "[79]\ttraining's auc: 0.938681\tvalid_1's auc: 0.925217\n",
      "[80]\ttraining's auc: 0.938924\tvalid_1's auc: 0.925334\n",
      "[81]\ttraining's auc: 0.939102\tvalid_1's auc: 0.925362\n",
      "[82]\ttraining's auc: 0.939404\tvalid_1's auc: 0.925542\n",
      "[83]\ttraining's auc: 0.939657\tvalid_1's auc: 0.925654\n",
      "[84]\ttraining's auc: 0.939816\tvalid_1's auc: 0.925748\n",
      "[85]\ttraining's auc: 0.940102\tvalid_1's auc: 0.925821\n",
      "[86]\ttraining's auc: 0.940195\tvalid_1's auc: 0.925841\n",
      "[87]\ttraining's auc: 0.94038\tvalid_1's auc: 0.92596\n",
      "[88]\ttraining's auc: 0.940657\tvalid_1's auc: 0.92603\n",
      "[89]\ttraining's auc: 0.940858\tvalid_1's auc: 0.926057\n",
      "[90]\ttraining's auc: 0.941066\tvalid_1's auc: 0.926141\n",
      "[91]\ttraining's auc: 0.941313\tvalid_1's auc: 0.926218\n",
      "[92]\ttraining's auc: 0.941564\tvalid_1's auc: 0.926282\n",
      "[93]\ttraining's auc: 0.941773\tvalid_1's auc: 0.926315\n",
      "[94]\ttraining's auc: 0.941926\tvalid_1's auc: 0.926412\n",
      "[95]\ttraining's auc: 0.942159\tvalid_1's auc: 0.926401\n",
      "[96]\ttraining's auc: 0.942336\tvalid_1's auc: 0.926441\n",
      "[97]\ttraining's auc: 0.942501\tvalid_1's auc: 0.926537\n",
      "[98]\ttraining's auc: 0.942659\tvalid_1's auc: 0.926611\n",
      "[99]\ttraining's auc: 0.942845\tvalid_1's auc: 0.926661\n",
      "[100]\ttraining's auc: 0.943032\tvalid_1's auc: 0.926677\n",
      "[101]\ttraining's auc: 0.943173\tvalid_1's auc: 0.926652\n",
      "[102]\ttraining's auc: 0.943325\tvalid_1's auc: 0.926681\n",
      "[103]\ttraining's auc: 0.943495\tvalid_1's auc: 0.926738\n",
      "[104]\ttraining's auc: 0.943693\tvalid_1's auc: 0.926781\n",
      "[105]\ttraining's auc: 0.943796\tvalid_1's auc: 0.926803\n",
      "[106]\ttraining's auc: 0.943885\tvalid_1's auc: 0.926824\n",
      "[107]\ttraining's auc: 0.943959\tvalid_1's auc: 0.926819\n",
      "[108]\ttraining's auc: 0.944093\tvalid_1's auc: 0.926878\n",
      "[109]\ttraining's auc: 0.944325\tvalid_1's auc: 0.926917\n",
      "[110]\ttraining's auc: 0.944485\tvalid_1's auc: 0.926889\n",
      "[111]\ttraining's auc: 0.944648\tvalid_1's auc: 0.926888\n",
      "[112]\ttraining's auc: 0.944735\tvalid_1's auc: 0.926939\n",
      "[113]\ttraining's auc: 0.944841\tvalid_1's auc: 0.92695\n",
      "[114]\ttraining's auc: 0.944856\tvalid_1's auc: 0.926947\n",
      "[115]\ttraining's auc: 0.945013\tvalid_1's auc: 0.926956\n",
      "[116]\ttraining's auc: 0.945061\tvalid_1's auc: 0.926953\n",
      "[117]\ttraining's auc: 0.945229\tvalid_1's auc: 0.926977\n",
      "[118]\ttraining's auc: 0.945371\tvalid_1's auc: 0.926987\n",
      "[119]\ttraining's auc: 0.945476\tvalid_1's auc: 0.92698\n",
      "[120]\ttraining's auc: 0.945745\tvalid_1's auc: 0.927051\n",
      "[121]\ttraining's auc: 0.945837\tvalid_1's auc: 0.927053\n",
      "[122]\ttraining's auc: 0.945894\tvalid_1's auc: 0.927044\n",
      "[123]\ttraining's auc: 0.946054\tvalid_1's auc: 0.927031\n",
      "[124]\ttraining's auc: 0.946157\tvalid_1's auc: 0.92703\n",
      "[125]\ttraining's auc: 0.946241\tvalid_1's auc: 0.927077\n",
      "[126]\ttraining's auc: 0.946371\tvalid_1's auc: 0.927075\n",
      "[127]\ttraining's auc: 0.94651\tvalid_1's auc: 0.927076\n",
      "[128]\ttraining's auc: 0.946718\tvalid_1's auc: 0.927068\n",
      "[129]\ttraining's auc: 0.946838\tvalid_1's auc: 0.927079\n",
      "[130]\ttraining's auc: 0.946997\tvalid_1's auc: 0.927075\n",
      "[131]\ttraining's auc: 0.947138\tvalid_1's auc: 0.927129\n",
      "[132]\ttraining's auc: 0.947264\tvalid_1's auc: 0.927162\n",
      "[133]\ttraining's auc: 0.94744\tvalid_1's auc: 0.927156\n",
      "[134]\ttraining's auc: 0.947563\tvalid_1's auc: 0.927144\n",
      "[135]\ttraining's auc: 0.9477\tvalid_1's auc: 0.927124\n",
      "[136]\ttraining's auc: 0.947754\tvalid_1's auc: 0.927111\n",
      "[137]\ttraining's auc: 0.947824\tvalid_1's auc: 0.927123\n",
      "[138]\ttraining's auc: 0.948035\tvalid_1's auc: 0.927192\n",
      "[139]\ttraining's auc: 0.948107\tvalid_1's auc: 0.927182\n",
      "[140]\ttraining's auc: 0.948238\tvalid_1's auc: 0.927162\n",
      "[141]\ttraining's auc: 0.94836\tvalid_1's auc: 0.927152\n",
      "[142]\ttraining's auc: 0.948479\tvalid_1's auc: 0.927138\n",
      "[143]\ttraining's auc: 0.948636\tvalid_1's auc: 0.927181\n",
      "[144]\ttraining's auc: 0.948706\tvalid_1's auc: 0.927129\n",
      "[145]\ttraining's auc: 0.948765\tvalid_1's auc: 0.927093\n",
      "[146]\ttraining's auc: 0.948882\tvalid_1's auc: 0.927079\n",
      "[147]\ttraining's auc: 0.949044\tvalid_1's auc: 0.927105\n",
      "[148]\ttraining's auc: 0.949153\tvalid_1's auc: 0.927063\n",
      "[149]\ttraining's auc: 0.949245\tvalid_1's auc: 0.927032\n",
      "[150]\ttraining's auc: 0.949376\tvalid_1's auc: 0.927043\n",
      "[151]\ttraining's auc: 0.949416\tvalid_1's auc: 0.92702\n",
      "[152]\ttraining's auc: 0.949606\tvalid_1's auc: 0.927047\n",
      "[153]\ttraining's auc: 0.94968\tvalid_1's auc: 0.927034\n",
      "[154]\ttraining's auc: 0.949766\tvalid_1's auc: 0.926997\n",
      "[155]\ttraining's auc: 0.949896\tvalid_1's auc: 0.927006\n",
      "[156]\ttraining's auc: 0.950032\tvalid_1's auc: 0.927094\n",
      "[157]\ttraining's auc: 0.950142\tvalid_1's auc: 0.927097\n",
      "[158]\ttraining's auc: 0.950266\tvalid_1's auc: 0.927052\n",
      "[159]\ttraining's auc: 0.950398\tvalid_1's auc: 0.927001\n",
      "[160]\ttraining's auc: 0.950453\tvalid_1's auc: 0.926944\n",
      "[161]\ttraining's auc: 0.950546\tvalid_1's auc: 0.926924\n",
      "[162]\ttraining's auc: 0.950623\tvalid_1's auc: 0.92693\n",
      "[163]\ttraining's auc: 0.950709\tvalid_1's auc: 0.926898\n",
      "[164]\ttraining's auc: 0.950731\tvalid_1's auc: 0.926889\n",
      "[165]\ttraining's auc: 0.950863\tvalid_1's auc: 0.92691\n",
      "[166]\ttraining's auc: 0.950992\tvalid_1's auc: 0.926906\n",
      "[167]\ttraining's auc: 0.951109\tvalid_1's auc: 0.926892\n",
      "[168]\ttraining's auc: 0.951178\tvalid_1's auc: 0.926889\n",
      "[169]\ttraining's auc: 0.951282\tvalid_1's auc: 0.92685\n",
      "[170]\ttraining's auc: 0.951366\tvalid_1's auc: 0.926814\n",
      "[171]\ttraining's auc: 0.951515\tvalid_1's auc: 0.926857\n",
      "[172]\ttraining's auc: 0.951597\tvalid_1's auc: 0.926828\n",
      "[173]\ttraining's auc: 0.951677\tvalid_1's auc: 0.92683\n",
      "[174]\ttraining's auc: 0.95174\tvalid_1's auc: 0.926787\n",
      "[175]\ttraining's auc: 0.951783\tvalid_1's auc: 0.926787\n",
      "[176]\ttraining's auc: 0.951906\tvalid_1's auc: 0.926832\n",
      "[177]\ttraining's auc: 0.952035\tvalid_1's auc: 0.926845\n",
      "[178]\ttraining's auc: 0.952128\tvalid_1's auc: 0.926805\n",
      "[179]\ttraining's auc: 0.952242\tvalid_1's auc: 0.926828\n",
      "[180]\ttraining's auc: 0.952324\tvalid_1's auc: 0.926838\n",
      "[181]\ttraining's auc: 0.952402\tvalid_1's auc: 0.926828\n",
      "[182]\ttraining's auc: 0.952502\tvalid_1's auc: 0.926782\n",
      "[183]\ttraining's auc: 0.952524\tvalid_1's auc: 0.926777\n",
      "[184]\ttraining's auc: 0.952547\tvalid_1's auc: 0.926766\n",
      "[185]\ttraining's auc: 0.952694\tvalid_1's auc: 0.926761\n",
      "[186]\ttraining's auc: 0.952799\tvalid_1's auc: 0.926723\n",
      "[187]\ttraining's auc: 0.952972\tvalid_1's auc: 0.926744\n",
      "[188]\ttraining's auc: 0.953017\tvalid_1's auc: 0.92672\n",
      "[189]\ttraining's auc: 0.953168\tvalid_1's auc: 0.926729\n",
      "[190]\ttraining's auc: 0.953245\tvalid_1's auc: 0.926735\n",
      "[191]\ttraining's auc: 0.953266\tvalid_1's auc: 0.92672\n",
      "[192]\ttraining's auc: 0.953335\tvalid_1's auc: 0.926691\n",
      "[193]\ttraining's auc: 0.953436\tvalid_1's auc: 0.92667\n",
      "[194]\ttraining's auc: 0.953499\tvalid_1's auc: 0.926679\n",
      "[195]\ttraining's auc: 0.953595\tvalid_1's auc: 0.926653\n",
      "[196]\ttraining's auc: 0.953704\tvalid_1's auc: 0.926618\n",
      "[197]\ttraining's auc: 0.953763\tvalid_1's auc: 0.926598\n",
      "[198]\ttraining's auc: 0.953866\tvalid_1's auc: 0.926596\n",
      "[199]\ttraining's auc: 0.95392\tvalid_1's auc: 0.926575\n",
      "[200]\ttraining's auc: 0.95398\tvalid_1's auc: 0.926563\n",
      "[201]\ttraining's auc: 0.954109\tvalid_1's auc: 0.926591\n",
      "[202]\ttraining's auc: 0.954192\tvalid_1's auc: 0.926597\n",
      "[203]\ttraining's auc: 0.95432\tvalid_1's auc: 0.926559\n",
      "[204]\ttraining's auc: 0.954369\tvalid_1's auc: 0.926543\n",
      "[205]\ttraining's auc: 0.954451\tvalid_1's auc: 0.926521\n",
      "[206]\ttraining's auc: 0.954531\tvalid_1's auc: 0.926529\n",
      "[207]\ttraining's auc: 0.954596\tvalid_1's auc: 0.92651\n",
      "[208]\ttraining's auc: 0.954659\tvalid_1's auc: 0.926476\n",
      "[209]\ttraining's auc: 0.95473\tvalid_1's auc: 0.926454\n",
      "[210]\ttraining's auc: 0.954849\tvalid_1's auc: 0.926399\n",
      "[211]\ttraining's auc: 0.954939\tvalid_1's auc: 0.926378\n",
      "[212]\ttraining's auc: 0.955011\tvalid_1's auc: 0.926333\n",
      "[213]\ttraining's auc: 0.955057\tvalid_1's auc: 0.926301\n",
      "[214]\ttraining's auc: 0.955111\tvalid_1's auc: 0.926284\n",
      "[215]\ttraining's auc: 0.955194\tvalid_1's auc: 0.9263\n",
      "[216]\ttraining's auc: 0.955246\tvalid_1's auc: 0.926283\n",
      "[217]\ttraining's auc: 0.955363\tvalid_1's auc: 0.926261\n",
      "[218]\ttraining's auc: 0.95541\tvalid_1's auc: 0.926238\n",
      "[219]\ttraining's auc: 0.95545\tvalid_1's auc: 0.926204\n",
      "[220]\ttraining's auc: 0.955532\tvalid_1's auc: 0.926174\n",
      "[221]\ttraining's auc: 0.955545\tvalid_1's auc: 0.926165\n",
      "[222]\ttraining's auc: 0.955659\tvalid_1's auc: 0.926129\n",
      "[223]\ttraining's auc: 0.955679\tvalid_1's auc: 0.926117\n",
      "[224]\ttraining's auc: 0.955704\tvalid_1's auc: 0.926083\n",
      "[225]\ttraining's auc: 0.955787\tvalid_1's auc: 0.926029\n",
      "[226]\ttraining's auc: 0.955846\tvalid_1's auc: 0.926002\n",
      "[227]\ttraining's auc: 0.955923\tvalid_1's auc: 0.925979\n",
      "[228]\ttraining's auc: 0.955995\tvalid_1's auc: 0.925962\n",
      "[229]\ttraining's auc: 0.956057\tvalid_1's auc: 0.925958\n",
      "[230]\ttraining's auc: 0.956159\tvalid_1's auc: 0.925919\n",
      "[231]\ttraining's auc: 0.956228\tvalid_1's auc: 0.925886\n",
      "[232]\ttraining's auc: 0.956289\tvalid_1's auc: 0.925863\n",
      "[233]\ttraining's auc: 0.956348\tvalid_1's auc: 0.925834\n",
      "[234]\ttraining's auc: 0.956452\tvalid_1's auc: 0.92586\n",
      "[235]\ttraining's auc: 0.956501\tvalid_1's auc: 0.925841\n",
      "[236]\ttraining's auc: 0.956597\tvalid_1's auc: 0.925804\n",
      "[237]\ttraining's auc: 0.956651\tvalid_1's auc: 0.925765\n",
      "[238]\ttraining's auc: 0.956715\tvalid_1's auc: 0.925776\n",
      "Early stopping, best iteration is:\n",
      "[138]\ttraining's auc: 0.948035\tvalid_1's auc: 0.927192\n"
     ]
    },
    {
     "data": {
      "text/plain": [
       "LGBMClassifier(boosting_type='gbdt', colsample_bytree=0.8, learning_rate=0.1,\n",
       "        max_bin=255, max_depth=6, min_child_samples=10, min_child_weight=5,\n",
       "        min_split_gain=0, n_estimators=4000, nthread=4, num_leaves=60,\n",
       "        objective='binary', reg_alpha=0, reg_lambda=0, seed=123456,\n",
       "        silent=False, subsample=0.8, subsample_for_bin=50000,\n",
       "        subsample_freq=1)"
      ]
     },
     "execution_count": 79,
     "metadata": {},
     "output_type": "execute_result"
    }
   ],
   "source": [
    "model.fit(\n",
    "    X_train,\n",
    "    y_train,\n",
    "    eval_set=[(X_train, y_train), (X_test, y_test)],\n",
    "    early_stopping_rounds=100,\n",
    "    eval_metric='auc',\n",
    "    verbose=True\n",
    "    )"
   ]
  },
  {
   "cell_type": "code",
   "execution_count": 80,
   "metadata": {
    "collapsed": true
   },
   "outputs": [],
   "source": [
    "def get_score(model, X_train, train_features):\n",
    "    result = model.predict_proba(X_train)[:, 1]\n",
    "    train_features['prob'] = np.nan\n",
    "    train_features.loc[X_train.index, 'prob'] = result\n",
    "    train_x = train_features.loc[X_train.index, ['orderid', 'prob', 'orderlabel']]\n",
    "    train_x.sort_values('prob', ascending=False, inplace=True)\n",
    "    finall_result_x = train_x.drop_duplicates(['orderid'])\n",
    "    train_score = finall_result_x.orderlabel.mean()\n",
    "    print(train_score)\n",
    "    return train_score"
   ]
  },
  {
   "cell_type": "code",
   "execution_count": 81,
   "metadata": {
    "collapsed": false,
    "scrolled": true
   },
   "outputs": [
    {
     "name": "stdout",
     "output_type": "stream",
     "text": [
      "0.358606489323\n"
     ]
    }
   ],
   "source": [
    "train_score = get_score(model, X_train, train_features)"
   ]
  },
  {
   "cell_type": "code",
   "execution_count": 82,
   "metadata": {
    "collapsed": false
   },
   "outputs": [
    {
     "name": "stdout",
     "output_type": "stream",
     "text": [
      "0.209509057849\n"
     ]
    }
   ],
   "source": [
    "test_score = get_score(model, X_test, train_features)"
   ]
  },
  {
   "cell_type": "code",
   "execution_count": 83,
   "metadata": {
    "collapsed": false
   },
   "outputs": [
    {
     "data": {
      "text/plain": [
       "'models/04-0731-importance.txt'"
      ]
     },
     "execution_count": 83,
     "metadata": {},
     "output_type": "execute_result"
    }
   ],
   "source": [
    "if not exists('models'):\n",
    "    mkdir('models')\n",
    "model_importance_path = join('models', datetime.now().strftime('%d-%H%M-importance.txt'))\n",
    "model_importance_path"
   ]
  },
  {
   "cell_type": "code",
   "execution_count": 84,
   "metadata": {
    "collapsed": false
   },
   "outputs": [],
   "source": [
    "importance_df = pd.DataFrame(model.feature_importances_, index=use_columns)\n",
    "\n",
    "importance_df.sort_values(0, ascending=False, inplace=True)\n",
    "importance_df.to_csv(model_importance_path)"
   ]
  },
  {
   "cell_type": "code",
   "execution_count": 85,
   "metadata": {
    "collapsed": false
   },
   "outputs": [
    {
     "data": {
      "text/plain": [
       "'subsample: 0.8,max_depth: 6,colsample_bytree: 0.8,learning_rate: 0.1,num_leaves: 60'"
      ]
     },
     "execution_count": 85,
     "metadata": {},
     "output_type": "execute_result"
    }
   ],
   "source": [
    "parms = ','.join(['{}: {}'.format(k, v) for k, v in clf.best_params_.items()])\n",
    "parms"
   ]
  },
  {
   "cell_type": "code",
   "execution_count": 86,
   "metadata": {
    "collapsed": false
   },
   "outputs": [
    {
     "data": {
      "text/plain": [
       "defaultdict(dict,\n",
       "            {'training': {'auc': 0.94803508075567711},\n",
       "             'valid_1': {'auc': 0.92719231720801976}})"
      ]
     },
     "execution_count": 86,
     "metadata": {},
     "output_type": "execute_result"
    }
   ],
   "source": [
    "model.best_score"
   ]
  },
  {
   "cell_type": "code",
   "execution_count": 87,
   "metadata": {
    "collapsed": false
   },
   "outputs": [
    {
     "name": "stdout",
     "output_type": "stream",
     "text": [
      "04-07-31:  online  ??  test_score  0.209509057849  train_score  0.358606489323  model_train  0.948035080756  model_test  0.927192317208  n  138  params  subsample: 0.8,max_depth: 6,colsample_bytree: 0.8,learning_rate: 0.1,num_leaves: 60\n"
     ]
    }
   ],
   "source": [
    "print(datetime.now().strftime('%d-%H-%M:'),\n",
    "      'online', '??',\n",
    "     'test_score', test_score,\n",
    "     'train_score', train_score,\n",
    "     'model_train', model.best_score['training']['auc'],\n",
    "     'model_test', model.best_score['valid_1']['auc'],\n",
    "     'n', model.best_iteration,\n",
    "     'params', parms, end='\\n', sep='  ')"
   ]
  },
  {
   "cell_type": "code",
   "execution_count": 88,
   "metadata": {
    "collapsed": false
   },
   "outputs": [],
   "source": [
    "print(datetime.now().strftime('%d-%H-%M:'),\n",
    "      'online', '??',\n",
    "     'test_score', test_score,\n",
    "     'train_score', train_score,\n",
    "     'model_train', model.best_score['training']['auc'],\n",
    "     'model_test', model.best_score['valid_1']['auc'],\n",
    "     'n', model.best_iteration,\n",
    "      'shape', train_features.shape,\n",
    "     'params', parms, end='\\n', sep=',', file=open('lgb_result.txt', 'a+'))"
   ]
  },
  {
   "cell_type": "code",
   "execution_count": 89,
   "metadata": {
    "collapsed": true
   },
   "outputs": [],
   "source": [
    "pickle.dump(model, open(model_path, 'wb'))"
   ]
  },
  {
   "cell_type": "code",
   "execution_count": 90,
   "metadata": {
    "collapsed": true
   },
   "outputs": [],
   "source": [
    "# clf1 =  LGBMClassifier(\n",
    "#     nthread=4,\n",
    "#     silent=False,\n",
    "#     objective='binary',\n",
    "#     seed=luck,\n",
    "#     n_estimators=400,\n",
    "#     num_leaves=42, max_depth=6)\n",
    "# clf2 = LGBMClassifier(\n",
    "#     nthread=4,\n",
    "#     silent=False,\n",
    "#     objective='binary',\n",
    "#     seed=luck,\n",
    "#     n_estimators=400,\n",
    "#     num_leaves=32, max_depth=5)\n",
    "# clf3 = LGBMClassifier(\n",
    "#     nthread=4,\n",
    "#     silent=False,\n",
    "#     objective='binary',\n",
    "#     seed=luck,\n",
    "#     n_estimators=400,\n",
    "#     num_leaves=27, max_depth=3)\n",
    "# lr = LogisticRegression()\n",
    "# sclf = StackingCVClassifier(classifiers=[clf1, clf2, clf3], \n",
    "#                           meta_classifier=lr)\n",
    "\n",
    "# model = sclf"
   ]
  }
 ],
 "metadata": {
  "anaconda-cloud": {},
  "hide_input": false,
  "kernelspec": {
   "display_name": "Python 3",
   "language": "python",
   "name": "python3"
  },
  "language_info": {
   "codemirror_mode": {
    "name": "ipython",
    "version": 3
   },
   "file_extension": ".py",
   "mimetype": "text/x-python",
   "name": "python",
   "nbconvert_exporter": "python",
   "pygments_lexer": "ipython3",
   "version": "3.5.1"
  }
 },
 "nbformat": 4,
 "nbformat_minor": 2
}
