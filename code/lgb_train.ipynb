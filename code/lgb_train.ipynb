{
 "cells": [
  {
   "cell_type": "code",
   "execution_count": 1,
   "metadata": {
    "collapsed": false
   },
   "outputs": [],
   "source": [
    "import pickle\n",
    "from datetime import datetime\n",
    "from os import mkdir\n",
    "from os.path import join, exists\n",
    "\n",
    "import numpy as np\n",
    "import pandas as pd\n",
    "import scipy as sp\n",
    "\n",
    "# import matplotlib.pyplot as plt\n",
    "\n",
    "from sklearn import model_selection\n",
    "from sklearn.model_selection import KFold\n",
    "from sklearn.model_selection import train_test_split\n",
    "\n",
    "import lightgbm as lgb\n",
    "from lightgbm import LGBMClassifier"
   ]
  },
  {
   "cell_type": "code",
   "execution_count": 2,
   "metadata": {
    "collapsed": false
   },
   "outputs": [
    {
     "data": {
      "text/plain": [
       "(1080976, 347)"
      ]
     },
     "execution_count": 2,
     "metadata": {},
     "output_type": "execute_result"
    }
   ],
   "source": [
    "train_features = pd.read_pickle('../dataset/all_feature.pkl').reset_index(drop=True)\n",
    "train_features.shape"
   ]
  },
  {
   "cell_type": "code",
   "execution_count": 3,
   "metadata": {
    "collapsed": true
   },
   "outputs": [],
   "source": [
    "model_path = '../dataset/lightgbmmodel.pkl'"
   ]
  },
  {
   "cell_type": "code",
   "execution_count": 4,
   "metadata": {
    "collapsed": true
   },
   "outputs": [],
   "source": [
    "luck = 123456"
   ]
  },
  {
   "cell_type": "code",
   "execution_count": 5,
   "metadata": {
    "collapsed": true
   },
   "outputs": [],
   "source": [
    "model = LGBMClassifier(nthread=4, silent=False, objective= 'binary', seed=luck)"
   ]
  },
  {
   "cell_type": "code",
   "execution_count": 54,
   "metadata": {
    "collapsed": true
   },
   "outputs": [],
   "source": [
    "parameters = {\n",
    "#     'gamma': [0.05],\n",
    "    #     'n_estimators': [800],\n",
    "#     'max_depth': [2, 6, 12],\n",
    "    'max_depth': [12],\n",
    "    'num_leaves': range(30, 50, 4), \n",
    "\n",
    "#     'learning_rate': [0.15, 0.3],\n",
    "#         'subsample': [0.9],\n",
    "#         'colsample_bytree': [0.9],\n",
    "    #     'reg_alpha': [0, 1, 5],\n",
    "    #     'reg_lambda': [0, 1, 4],\n",
    "}"
   ]
  },
  {
   "cell_type": "code",
   "execution_count": 55,
   "metadata": {
    "collapsed": true
   },
   "outputs": [],
   "source": [
    "use_columns = [\n",
    "    x for x in train_features.columns\n",
    "    if x not in [\n",
    "        'orderid', 'uid', 'hotelid', 'basicroomid', 'hotel_roomid', 'roomid',\n",
    "        'orderlabel'\n",
    "    ]\n",
    "]"
   ]
  },
  {
   "cell_type": "code",
   "execution_count": 56,
   "metadata": {
    "collapsed": true
   },
   "outputs": [],
   "source": [
    "cv = model_selection.ShuffleSplit(n_splits=1, test_size=0.2, random_state=luck)\n",
    "clf = model_selection.GridSearchCV(model, parameters, cv=cv, n_jobs=-1, verbose=True)"
   ]
  },
  {
   "cell_type": "code",
   "execution_count": 50,
   "metadata": {
    "collapsed": false
   },
   "outputs": [],
   "source": [
    "clf_feture = train_features.sample(100000, random_state=luck)"
   ]
  },
  {
   "cell_type": "code",
   "execution_count": 57,
   "metadata": {
    "collapsed": false
   },
   "outputs": [
    {
     "name": "stdout",
     "output_type": "stream",
     "text": [
      "Fitting 1 folds for each of 5 candidates, totalling 5 fits\n"
     ]
    },
    {
     "name": "stderr",
     "output_type": "stream",
     "text": [
      "[Parallel(n_jobs=-1)]: Done   5 out of   5 | elapsed:   17.6s finished\n"
     ]
    },
    {
     "name": "stdout",
     "output_type": "stream",
     "text": [
      "CPU times: user 12 s, sys: 359 ms, total: 12.4 s\n",
      "Wall time: 21.3 s\n"
     ]
    },
    {
     "data": {
      "text/plain": [
       "GridSearchCV(cv=ShuffleSplit(n_splits=1, random_state=123456, test_size=0.2, train_size=None),\n",
       "       error_score='raise',\n",
       "       estimator=LGBMClassifier(boosting_type='gbdt', colsample_bytree=1, learning_rate=0.1,\n",
       "        max_bin=255, max_depth=-1, min_child_samples=10,\n",
       "        min_child_weight=5, min_split_gain=0, n_estimators=10, nthread=4,\n",
       "        num_leaves=31, objective='binary', reg_alpha=0, reg_lambda=0,\n",
       "        seed=123456, silent=False, subsample=1, subsample_for_bin=50000,\n",
       "        subsample_freq=1),\n",
       "       fit_params={}, iid=True, n_jobs=-1,\n",
       "       param_grid={'num_leaves': range(30, 50, 4), 'max_depth': [12]},\n",
       "       pre_dispatch='2*n_jobs', refit=True, return_train_score=True,\n",
       "       scoring=None, verbose=True)"
      ]
     },
     "execution_count": 57,
     "metadata": {},
     "output_type": "execute_result"
    }
   ],
   "source": [
    "%time clf.fit(clf_feture[use_columns], clf_feture['orderlabel'])"
   ]
  },
  {
   "cell_type": "code",
   "execution_count": 58,
   "metadata": {
    "collapsed": false
   },
   "outputs": [
    {
     "data": {
      "text/plain": [
       "0.97275"
      ]
     },
     "execution_count": 58,
     "metadata": {},
     "output_type": "execute_result"
    }
   ],
   "source": [
    "clf.best_score_"
   ]
  },
  {
   "cell_type": "code",
   "execution_count": 59,
   "metadata": {
    "collapsed": false
   },
   "outputs": [
    {
     "data": {
      "text/plain": [
       "{'max_depth': 12, 'num_leaves': 42}"
      ]
     },
     "execution_count": 59,
     "metadata": {},
     "output_type": "execute_result"
    }
   ],
   "source": [
    "clf.best_params_"
   ]
  },
  {
   "cell_type": "code",
   "execution_count": 60,
   "metadata": {
    "collapsed": true
   },
   "outputs": [],
   "source": [
    "# # clf.best_params_['n_estimators'] = \n",
    "clf.best_params_['max_depth'] = 12\n",
    "# clf.best_params_['reg_lambda'] = 0.5\n",
    "clf.best_params_['subsample'] = 1\n",
    "clf.best_params_['colsample_bytree'] = 1\n",
    "# clf.best_params_['n_estimators'] = 1000\n",
    "clf.best_params_['learning_rate'] = 0.1\n",
    "clf.best_params_['num_leaves'] = 42\n",
    "# clf.best_params_['reg_alpha'] = 1\n",
    "# clf.best_params_['min_data_in_leaf'] = 3\n",
    "\n",
    "# clf.best_params_['min_child_weight'] = 1"
   ]
  },
  {
   "cell_type": "code",
   "execution_count": 61,
   "metadata": {
    "collapsed": false
   },
   "outputs": [
    {
     "data": {
      "text/plain": [
       "LGBMClassifier(boosting_type='gbdt', colsample_bytree=1, learning_rate=0.1,\n",
       "        max_bin=255, max_depth=12, min_child_samples=10,\n",
       "        min_child_weight=5, min_split_gain=0, n_estimators=4000, nthread=4,\n",
       "        num_leaves=42, objective='binary', reg_alpha=0, reg_lambda=0,\n",
       "        seed=123456, silent=False, subsample=1, subsample_for_bin=50000,\n",
       "        subsample_freq=1)"
      ]
     },
     "execution_count": 61,
     "metadata": {},
     "output_type": "execute_result"
    }
   ],
   "source": [
    "model = LGBMClassifier(\n",
    "    nthread=4,\n",
    "    silent=False,\n",
    "    objective='binary',\n",
    "    seed=luck,\n",
    "#     learning_rate=0.3,\n",
    "    n_estimators=4000,\n",
    "    **clf.best_params_)\n",
    "model"
   ]
  },
  {
   "cell_type": "code",
   "execution_count": 62,
   "metadata": {
    "collapsed": false
   },
   "outputs": [],
   "source": [
    "X_train, X_test, y_train, y_test = train_test_split(\n",
    "    train_features[use_columns],\n",
    "    train_features['orderlabel'],\n",
    "    test_size=0.33,\n",
    "    random_state=42)"
   ]
  },
  {
   "cell_type": "code",
   "execution_count": 63,
   "metadata": {
    "collapsed": false
   },
   "outputs": [
    {
     "name": "stdout",
     "output_type": "stream",
     "text": [
      "[1]\ttraining's auc: 0.876836\tvalid_1's auc: 0.86957\n",
      "Train until valid scores didn't improve in 20 rounds.\n",
      "[2]\ttraining's auc: 0.891539\tvalid_1's auc: 0.884449\n",
      "[3]\ttraining's auc: 0.89349\tvalid_1's auc: 0.885998\n",
      "[4]\ttraining's auc: 0.89988\tvalid_1's auc: 0.893978\n",
      "[5]\ttraining's auc: 0.900888\tvalid_1's auc: 0.895101\n",
      "[6]\ttraining's auc: 0.905443\tvalid_1's auc: 0.901641\n",
      "[7]\ttraining's auc: 0.906339\tvalid_1's auc: 0.902393\n",
      "[8]\ttraining's auc: 0.907824\tvalid_1's auc: 0.904533\n",
      "[9]\ttraining's auc: 0.90736\tvalid_1's auc: 0.903903\n",
      "[10]\ttraining's auc: 0.90875\tvalid_1's auc: 0.905809\n",
      "[11]\ttraining's auc: 0.908921\tvalid_1's auc: 0.906195\n",
      "[12]\ttraining's auc: 0.909062\tvalid_1's auc: 0.906104\n",
      "[13]\ttraining's auc: 0.909463\tvalid_1's auc: 0.906624\n",
      "[14]\ttraining's auc: 0.909941\tvalid_1's auc: 0.907189\n",
      "[15]\ttraining's auc: 0.910255\tvalid_1's auc: 0.907489\n",
      "[16]\ttraining's auc: 0.912091\tvalid_1's auc: 0.909319\n",
      "[17]\ttraining's auc: 0.912507\tvalid_1's auc: 0.909669\n",
      "[18]\ttraining's auc: 0.913302\tvalid_1's auc: 0.910182\n",
      "[19]\ttraining's auc: 0.914079\tvalid_1's auc: 0.910802\n",
      "[20]\ttraining's auc: 0.913906\tvalid_1's auc: 0.910684\n",
      "[21]\ttraining's auc: 0.914266\tvalid_1's auc: 0.911023\n",
      "[22]\ttraining's auc: 0.914566\tvalid_1's auc: 0.911434\n",
      "[23]\ttraining's auc: 0.915297\tvalid_1's auc: 0.912123\n",
      "[24]\ttraining's auc: 0.915825\tvalid_1's auc: 0.912342\n",
      "[25]\ttraining's auc: 0.916357\tvalid_1's auc: 0.912712\n",
      "[26]\ttraining's auc: 0.916609\tvalid_1's auc: 0.912908\n",
      "[27]\ttraining's auc: 0.917276\tvalid_1's auc: 0.9134\n",
      "[28]\ttraining's auc: 0.917757\tvalid_1's auc: 0.913617\n",
      "[29]\ttraining's auc: 0.918268\tvalid_1's auc: 0.914131\n",
      "[30]\ttraining's auc: 0.919035\tvalid_1's auc: 0.914778\n",
      "[31]\ttraining's auc: 0.919339\tvalid_1's auc: 0.914995\n",
      "[32]\ttraining's auc: 0.919543\tvalid_1's auc: 0.915154\n",
      "[33]\ttraining's auc: 0.920306\tvalid_1's auc: 0.915504\n",
      "[34]\ttraining's auc: 0.920872\tvalid_1's auc: 0.915961\n",
      "[35]\ttraining's auc: 0.921251\tvalid_1's auc: 0.916224\n",
      "[36]\ttraining's auc: 0.921771\tvalid_1's auc: 0.916611\n",
      "[37]\ttraining's auc: 0.922586\tvalid_1's auc: 0.917004\n",
      "[38]\ttraining's auc: 0.923123\tvalid_1's auc: 0.91735\n",
      "[39]\ttraining's auc: 0.923438\tvalid_1's auc: 0.917576\n",
      "[40]\ttraining's auc: 0.923916\tvalid_1's auc: 0.917941\n",
      "[41]\ttraining's auc: 0.924474\tvalid_1's auc: 0.918283\n",
      "[42]\ttraining's auc: 0.925033\tvalid_1's auc: 0.918635\n",
      "[43]\ttraining's auc: 0.9254\tvalid_1's auc: 0.918808\n",
      "[44]\ttraining's auc: 0.92598\tvalid_1's auc: 0.919157\n",
      "[45]\ttraining's auc: 0.926374\tvalid_1's auc: 0.919362\n",
      "[46]\ttraining's auc: 0.926745\tvalid_1's auc: 0.91957\n",
      "[47]\ttraining's auc: 0.927291\tvalid_1's auc: 0.919995\n",
      "[48]\ttraining's auc: 0.927677\tvalid_1's auc: 0.920227\n",
      "[49]\ttraining's auc: 0.927987\tvalid_1's auc: 0.920363\n",
      "[50]\ttraining's auc: 0.928408\tvalid_1's auc: 0.92065\n",
      "[51]\ttraining's auc: 0.928793\tvalid_1's auc: 0.920793\n",
      "[52]\ttraining's auc: 0.929102\tvalid_1's auc: 0.920951\n",
      "[53]\ttraining's auc: 0.929479\tvalid_1's auc: 0.921226\n",
      "[54]\ttraining's auc: 0.929821\tvalid_1's auc: 0.921437\n",
      "[55]\ttraining's auc: 0.930242\tvalid_1's auc: 0.92166\n",
      "[56]\ttraining's auc: 0.930705\tvalid_1's auc: 0.922072\n",
      "[57]\ttraining's auc: 0.931106\tvalid_1's auc: 0.922242\n",
      "[58]\ttraining's auc: 0.931533\tvalid_1's auc: 0.922479\n",
      "[59]\ttraining's auc: 0.931935\tvalid_1's auc: 0.922664\n",
      "[60]\ttraining's auc: 0.932324\tvalid_1's auc: 0.922913\n",
      "[61]\ttraining's auc: 0.93277\tvalid_1's auc: 0.923221\n",
      "[62]\ttraining's auc: 0.933124\tvalid_1's auc: 0.923343\n",
      "[63]\ttraining's auc: 0.933441\tvalid_1's auc: 0.923592\n",
      "[64]\ttraining's auc: 0.933792\tvalid_1's auc: 0.923705\n",
      "[65]\ttraining's auc: 0.934132\tvalid_1's auc: 0.923875\n",
      "[66]\ttraining's auc: 0.934446\tvalid_1's auc: 0.924085\n",
      "[67]\ttraining's auc: 0.934857\tvalid_1's auc: 0.924242\n",
      "[68]\ttraining's auc: 0.935164\tvalid_1's auc: 0.924323\n",
      "[69]\ttraining's auc: 0.935462\tvalid_1's auc: 0.924466\n",
      "[70]\ttraining's auc: 0.935732\tvalid_1's auc: 0.924584\n",
      "[71]\ttraining's auc: 0.936052\tvalid_1's auc: 0.924755\n",
      "[72]\ttraining's auc: 0.936345\tvalid_1's auc: 0.924834\n",
      "[73]\ttraining's auc: 0.936622\tvalid_1's auc: 0.924987\n",
      "[74]\ttraining's auc: 0.936971\tvalid_1's auc: 0.925089\n",
      "[75]\ttraining's auc: 0.937243\tvalid_1's auc: 0.925253\n",
      "[76]\ttraining's auc: 0.937508\tvalid_1's auc: 0.925272\n",
      "[77]\ttraining's auc: 0.937799\tvalid_1's auc: 0.925412\n",
      "[78]\ttraining's auc: 0.938064\tvalid_1's auc: 0.925477\n",
      "[79]\ttraining's auc: 0.938323\tvalid_1's auc: 0.925549\n",
      "[80]\ttraining's auc: 0.938581\tvalid_1's auc: 0.925594\n",
      "[81]\ttraining's auc: 0.938824\tvalid_1's auc: 0.925681\n",
      "[82]\ttraining's auc: 0.939052\tvalid_1's auc: 0.925721\n",
      "[83]\ttraining's auc: 0.93923\tvalid_1's auc: 0.925788\n",
      "[84]\ttraining's auc: 0.939492\tvalid_1's auc: 0.925906\n",
      "[85]\ttraining's auc: 0.939832\tvalid_1's auc: 0.925991\n",
      "[86]\ttraining's auc: 0.940043\tvalid_1's auc: 0.926125\n",
      "[87]\ttraining's auc: 0.940327\tvalid_1's auc: 0.926137\n",
      "[88]\ttraining's auc: 0.94057\tvalid_1's auc: 0.926272\n",
      "[89]\ttraining's auc: 0.940765\tvalid_1's auc: 0.926245\n",
      "[90]\ttraining's auc: 0.940999\tvalid_1's auc: 0.926251\n",
      "[91]\ttraining's auc: 0.941206\tvalid_1's auc: 0.926271\n",
      "[92]\ttraining's auc: 0.941369\tvalid_1's auc: 0.926262\n",
      "[93]\ttraining's auc: 0.941582\tvalid_1's auc: 0.926282\n",
      "[94]\ttraining's auc: 0.941788\tvalid_1's auc: 0.926337\n",
      "[95]\ttraining's auc: 0.941977\tvalid_1's auc: 0.926434\n",
      "[96]\ttraining's auc: 0.942172\tvalid_1's auc: 0.926461\n",
      "[97]\ttraining's auc: 0.942403\tvalid_1's auc: 0.92648\n",
      "[98]\ttraining's auc: 0.942585\tvalid_1's auc: 0.926467\n",
      "[99]\ttraining's auc: 0.942732\tvalid_1's auc: 0.926482\n",
      "[100]\ttraining's auc: 0.942908\tvalid_1's auc: 0.926478\n",
      "[101]\ttraining's auc: 0.943085\tvalid_1's auc: 0.926509\n",
      "[102]\ttraining's auc: 0.943283\tvalid_1's auc: 0.926607\n",
      "[103]\ttraining's auc: 0.943447\tvalid_1's auc: 0.926628\n",
      "[104]\ttraining's auc: 0.943653\tvalid_1's auc: 0.926666\n",
      "[105]\ttraining's auc: 0.943856\tvalid_1's auc: 0.926765\n",
      "[106]\ttraining's auc: 0.944054\tvalid_1's auc: 0.926779\n",
      "[107]\ttraining's auc: 0.944271\tvalid_1's auc: 0.926773\n",
      "[108]\ttraining's auc: 0.944468\tvalid_1's auc: 0.926841\n",
      "[109]\ttraining's auc: 0.94462\tvalid_1's auc: 0.926897\n",
      "[110]\ttraining's auc: 0.944803\tvalid_1's auc: 0.926877\n",
      "[111]\ttraining's auc: 0.945002\tvalid_1's auc: 0.926844\n",
      "[112]\ttraining's auc: 0.94514\tvalid_1's auc: 0.926854\n",
      "[113]\ttraining's auc: 0.945324\tvalid_1's auc: 0.926842\n",
      "[114]\ttraining's auc: 0.945433\tvalid_1's auc: 0.926867\n",
      "[115]\ttraining's auc: 0.945659\tvalid_1's auc: 0.926832\n",
      "[116]\ttraining's auc: 0.945867\tvalid_1's auc: 0.926833\n",
      "[117]\ttraining's auc: 0.946022\tvalid_1's auc: 0.926789\n",
      "[118]\ttraining's auc: 0.946159\tvalid_1's auc: 0.926802\n",
      "[119]\ttraining's auc: 0.946277\tvalid_1's auc: 0.926782\n",
      "[120]\ttraining's auc: 0.946475\tvalid_1's auc: 0.926875\n",
      "[121]\ttraining's auc: 0.946589\tvalid_1's auc: 0.926845\n",
      "[122]\ttraining's auc: 0.946739\tvalid_1's auc: 0.926811\n",
      "[123]\ttraining's auc: 0.946855\tvalid_1's auc: 0.926786\n",
      "[124]\ttraining's auc: 0.947006\tvalid_1's auc: 0.92685\n",
      "[125]\ttraining's auc: 0.947174\tvalid_1's auc: 0.926836\n",
      "[126]\ttraining's auc: 0.947291\tvalid_1's auc: 0.926836\n",
      "[127]\ttraining's auc: 0.947518\tvalid_1's auc: 0.926855\n",
      "[128]\ttraining's auc: 0.947628\tvalid_1's auc: 0.926887\n",
      "[129]\ttraining's auc: 0.947717\tvalid_1's auc: 0.926882\n",
      "Early stopping, best iteration is:\n",
      "[109]\ttraining's auc: 0.94462\tvalid_1's auc: 0.926897\n"
     ]
    },
    {
     "data": {
      "text/plain": [
       "LGBMClassifier(boosting_type='gbdt', colsample_bytree=1, learning_rate=0.1,\n",
       "        max_bin=255, max_depth=12, min_child_samples=10,\n",
       "        min_child_weight=5, min_split_gain=0, n_estimators=4000, nthread=4,\n",
       "        num_leaves=42, objective='binary', reg_alpha=0, reg_lambda=0,\n",
       "        seed=123456, silent=False, subsample=1, subsample_for_bin=50000,\n",
       "        subsample_freq=1)"
      ]
     },
     "execution_count": 63,
     "metadata": {},
     "output_type": "execute_result"
    }
   ],
   "source": [
    "model.fit(\n",
    "    X_train,\n",
    "    y_train,\n",
    "    eval_set=[(X_train, y_train), (X_test, y_test)],\n",
    "    early_stopping_rounds=20,\n",
    "    eval_metric='auc',\n",
    "    verbose=True, )"
   ]
  },
  {
   "cell_type": "code",
   "execution_count": 65,
   "metadata": {
    "collapsed": true
   },
   "outputs": [],
   "source": [
    "def get_score(model, X_train, train_features):\n",
    "    result = model.predict_proba(X_train)[:, 1]\n",
    "    train_features['prob'] = np.nan\n",
    "    train_features.loc[X_train.index, 'prob'] = result\n",
    "    train_x = train_features.loc[X_train.index, ['orderid', 'prob', 'orderlabel']]\n",
    "    train_x.sort_values('prob', ascending=False, inplace=True)\n",
    "    finall_result_x = train_x.drop_duplicates(['orderid'])\n",
    "    train_score = finall_result_x.orderlabel.mean()\n",
    "    print(train_score)\n",
    "    return train_score"
   ]
  },
  {
   "cell_type": "code",
   "execution_count": 66,
   "metadata": {
    "collapsed": false,
    "scrolled": true
   },
   "outputs": [
    {
     "name": "stdout",
     "output_type": "stream",
     "text": [
      "0.355451496131\n"
     ]
    }
   ],
   "source": [
    "train_score = get_score(model, X_train, train_features)"
   ]
  },
  {
   "cell_type": "code",
   "execution_count": 67,
   "metadata": {
    "collapsed": false
   },
   "outputs": [
    {
     "name": "stdout",
     "output_type": "stream",
     "text": [
      "0.209104990235\n"
     ]
    }
   ],
   "source": [
    "test_score = get_score(model, X_test, train_features)"
   ]
  },
  {
   "cell_type": "code",
   "execution_count": 68,
   "metadata": {
    "collapsed": false
   },
   "outputs": [
    {
     "data": {
      "text/plain": [
       "'models/02-0753-importance.txt'"
      ]
     },
     "execution_count": 68,
     "metadata": {},
     "output_type": "execute_result"
    }
   ],
   "source": [
    "if not exists('models'):\n",
    "    mkdir('models')\n",
    "model_importance_path = join('models', datetime.now().strftime('%d-%H%M-importance.txt'))\n",
    "model_importance_path"
   ]
  },
  {
   "cell_type": "code",
   "execution_count": 69,
   "metadata": {
    "collapsed": true
   },
   "outputs": [],
   "source": [
    "importance_df = pd.DataFrame(model.feature_importances_, index=use_columns)\n",
    "\n",
    "importance_df.sort_values(0, ascending=False, inplace=True)\n",
    "importance_df.to_csv(model_importance_path)"
   ]
  },
  {
   "cell_type": "code",
   "execution_count": 70,
   "metadata": {
    "collapsed": false
   },
   "outputs": [
    {
     "data": {
      "text/plain": [
       "'colsample_bytree: 1,num_leaves: 42,max_depth: 12,subsample: 1,learning_rate: 0.1'"
      ]
     },
     "execution_count": 70,
     "metadata": {},
     "output_type": "execute_result"
    }
   ],
   "source": [
    "parms = ','.join(['{}: {}'.format(k, v) for k, v in clf.best_params_.items()])\n",
    "parms"
   ]
  },
  {
   "cell_type": "code",
   "execution_count": 71,
   "metadata": {
    "collapsed": false
   },
   "outputs": [
    {
     "name": "stdout",
     "output_type": "stream",
     "text": [
      "02-07-53:  online  ??  test_score  0.209104990235  train_score  0.355451496131  model_train  0.94462017366  model_test  0.926896935512  n  109  params  colsample_bytree: 1,num_leaves: 42,max_depth: 12,subsample: 1,learning_rate: 0.1\n"
     ]
    }
   ],
   "source": [
    "print(datetime.now().strftime('%d-%H-%M:'),\n",
    "      'online', '??',\n",
    "     'test_score', test_score,\n",
    "     'train_score', train_score,\n",
    "     'model_train', model.best_score['training']['auc'],\n",
    "     'model_test', model.best_score['valid_1']['auc'],\n",
    "     'n', model.best_iteration,\n",
    "     'params', parms, end='\\n', sep='  ')"
   ]
  },
  {
   "cell_type": "code",
   "execution_count": 72,
   "metadata": {
    "collapsed": false
   },
   "outputs": [],
   "source": [
    "print(datetime.now().strftime('%d-%H-%M:'),\n",
    "      'online', '??',\n",
    "     'test_score', test_score,\n",
    "     'train_score', train_score,\n",
    "     'model_train', model.best_score['training']['auc'],\n",
    "     'model_test', model.best_score['valid_1']['auc'],\n",
    "     'n', model.best_iteration,\n",
    "      'shape', train_features.shape,\n",
    "     'params', parms, end='\\n', sep=',', file=open('lgb_result.txt', 'a+'))"
   ]
  },
  {
   "cell_type": "code",
   "execution_count": 73,
   "metadata": {
    "collapsed": true
   },
   "outputs": [],
   "source": [
    "pickle.dump(model, open(model_path, 'wb'))"
   ]
  }
 ],
 "metadata": {
  "anaconda-cloud": {},
  "hide_input": false,
  "kernelspec": {
   "display_name": "Python 3",
   "language": "python",
   "name": "python3"
  },
  "language_info": {
   "codemirror_mode": {
    "name": "ipython",
    "version": 3
   },
   "file_extension": ".py",
   "mimetype": "text/x-python",
   "name": "python",
   "nbconvert_exporter": "python",
   "pygments_lexer": "ipython3",
   "version": "3.5.1"
  }
 },
 "nbformat": 4,
 "nbformat_minor": 2
}
