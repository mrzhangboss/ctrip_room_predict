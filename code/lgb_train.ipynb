{
 "cells": [
  {
   "cell_type": "code",
   "execution_count": 1,
   "metadata": {
    "collapsed": false
   },
   "outputs": [],
   "source": [
    "import pickle\n",
    "from datetime import datetime\n",
    "from os import mkdir\n",
    "from os.path import join, exists\n",
    "\n",
    "import numpy as np\n",
    "import pandas as pd\n",
    "import scipy as sp\n",
    "\n",
    "# import matplotlib.pyplot as plt\n",
    "\n",
    "from sklearn import model_selection\n",
    "from sklearn.model_selection import KFold\n",
    "from sklearn.model_selection import train_test_split\n",
    "\n",
    "import lightgbm as lgb\n",
    "from lightgbm import LGBMClassifier"
   ]
  },
  {
   "cell_type": "code",
   "execution_count": 2,
   "metadata": {
    "collapsed": false
   },
   "outputs": [
    {
     "data": {
      "text/plain": [
       "(1080976, 328)"
      ]
     },
     "execution_count": 2,
     "metadata": {},
     "output_type": "execute_result"
    }
   ],
   "source": [
    "train_features = pd.read_pickle('../dataset/all_feature.pkl').reset_index(drop=True)\n",
    "train_features.shape"
   ]
  },
  {
   "cell_type": "code",
   "execution_count": 3,
   "metadata": {
    "collapsed": true
   },
   "outputs": [],
   "source": [
    "model_path = '../dataset/lightgbmmodel.pkl'"
   ]
  },
  {
   "cell_type": "code",
   "execution_count": 4,
   "metadata": {
    "collapsed": true
   },
   "outputs": [],
   "source": [
    "luck = 123456"
   ]
  },
  {
   "cell_type": "code",
   "execution_count": 5,
   "metadata": {
    "collapsed": true
   },
   "outputs": [],
   "source": [
    "model = LGBMClassifier(nthread=4, silent=False, objective= 'binary', seed=luck)"
   ]
  },
  {
   "cell_type": "code",
   "execution_count": 6,
   "metadata": {
    "collapsed": true
   },
   "outputs": [],
   "source": [
    "parameters = {\n",
    "#     'gamma': [0.05],\n",
    "    #     'n_estimators': [800],\n",
    "    'max_depth': [2, 3, 4],\n",
    "#     'learning_rate': [0.15, 0.3],\n",
    "        'subsample': [0.9],\n",
    "        'colsample_bytree': [0.9],\n",
    "    #     'reg_alpha': [0, 1, 5],\n",
    "    #     'reg_lambda': [0, 1, 4],\n",
    "}"
   ]
  },
  {
   "cell_type": "code",
   "execution_count": 44,
   "metadata": {
    "collapsed": true
   },
   "outputs": [],
   "source": [
    "use_columns = [\n",
    "    x for x in train_features.columns\n",
    "    if x not in [\n",
    "        'orderid', 'uid', 'hotelid', 'basicroomid', 'hotel_roomid', 'roomid',\n",
    "        'orderlabel'\n",
    "    ]\n",
    "]"
   ]
  },
  {
   "cell_type": "code",
   "execution_count": 8,
   "metadata": {
    "collapsed": true
   },
   "outputs": [],
   "source": [
    "cv = model_selection.ShuffleSplit(n_splits=1, test_size=0.2, random_state=luck)\n",
    "clf = model_selection.GridSearchCV(model, parameters, cv=cv, n_jobs=-1, verbose=True)"
   ]
  },
  {
   "cell_type": "code",
   "execution_count": 9,
   "metadata": {
    "collapsed": false
   },
   "outputs": [],
   "source": [
    "clf_feture = train_features.sample(1000, random_state=luck)"
   ]
  },
  {
   "cell_type": "code",
   "execution_count": 54,
   "metadata": {
    "collapsed": false
   },
   "outputs": [
    {
     "name": "stdout",
     "output_type": "stream",
     "text": [
      "price_dif_hotel <class 'pandas.core.frame.DataFrame'>\n",
      "price_dif_hotel_rt <class 'pandas.core.frame.DataFrame'>\n",
      "price_dif_hotel <class 'pandas.core.frame.DataFrame'>\n",
      "price_dif_hotel_rt <class 'pandas.core.frame.DataFrame'>\n"
     ]
    }
   ],
   "source": [
    "for x in clf_feture.columns:\n",
    "    if type(clf_feture[x]) != pd.Series:\n",
    "        print(x, type(clf_feture[x]))"
   ]
  },
  {
   "cell_type": "code",
   "execution_count": 48,
   "metadata": {
    "collapsed": false
   },
   "outputs": [
    {
     "name": "stdout",
     "output_type": "stream",
     "text": [
      "<class 'pandas.core.frame.DataFrame'>\n",
      "Int64Index: 1000 entries, 901048 to 778863\n",
      "Columns: 285 entries, orderhour to uid__uid_diff_basic_minprice_lastord_75\n",
      "dtypes: float16(125), float32(58), int16(12), int32(6), int8(84)\n",
      "memory usage: 607.4 KB\n"
     ]
    }
   ],
   "source": [
    "clf_feture.info()"
   ]
  },
  {
   "cell_type": "code",
   "execution_count": 18,
   "metadata": {
    "collapsed": false
   },
   "outputs": [
    {
     "name": "stdout",
     "output_type": "stream",
     "text": [
      "Fitting 1 folds for each of 3 candidates, totalling 3 fits\n",
      "CPU times: user 201 ms, sys: 76.3 ms, total: 277 ms\n",
      "Wall time: 670 ms\n"
     ]
    },
    {
     "name": "stderr",
     "output_type": "stream",
     "text": [
      "[Parallel(n_jobs=-1)]: Done   3 out of   3 | elapsed:    0.4s finished\n"
     ]
    },
    {
     "data": {
      "text/plain": [
       "GridSearchCV(cv=ShuffleSplit(n_splits=1, random_state=123456, test_size=0.2, train_size=None),\n",
       "       error_score='raise',\n",
       "       estimator=LGBMClassifier(boosting_type='gbdt', colsample_bytree=1, learning_rate=0.1,\n",
       "        max_bin=255, max_depth=-1, min_child_samples=10,\n",
       "        min_child_weight=5, min_split_gain=0, n_estimators=10, nthread=4,\n",
       "        num_leaves=31, objective='binary', reg_alpha=0, reg_lambda=0,\n",
       "        seed=123456, silent=False, subsample=1, subsample_for_bin=50000,\n",
       "        subsample_freq=1),\n",
       "       fit_params={}, iid=True, n_jobs=-1,\n",
       "       param_grid={'colsample_bytree': [0.9], 'subsample': [0.9], 'max_depth': [2, 3, 4]},\n",
       "       pre_dispatch='2*n_jobs', refit=True, return_train_score=True,\n",
       "       scoring=None, verbose=True)"
      ]
     },
     "execution_count": 18,
     "metadata": {},
     "output_type": "execute_result"
    }
   ],
   "source": [
    "%time clf.fit(clf_feture[use_columns], clf_feture['orderlabel'])"
   ]
  },
  {
   "cell_type": "code",
   "execution_count": 38,
   "metadata": {
    "collapsed": true
   },
   "outputs": [],
   "source": [
    "# # clf.best_params_['n_estimators'] = \n",
    "clf.best_params_['max_depth'] = 20\n",
    "# clf.best_params_['reg_lambda'] = 0.5\n",
    "clf.best_params_['subsample'] = 1\n",
    "clf.best_params_['colsample_bytree'] = 1\n",
    "# clf.best_params_['n_estimators'] = 1000\n",
    "clf.best_params_['learning_rate'] = 0.1\n",
    "clf.best_params_['num_leaves'] = 40\n",
    "# clf.best_params_['reg_alpha'] = 1\n",
    "# clf.best_params_['min_data_in_leaf'] = 3\n",
    "\n",
    "# clf.best_params_['min_child_weight'] = 1"
   ]
  },
  {
   "cell_type": "code",
   "execution_count": 39,
   "metadata": {
    "collapsed": false
   },
   "outputs": [
    {
     "data": {
      "text/plain": [
       "LGBMClassifier(boosting_type='gbdt', colsample_bytree=1, learning_rate=0.1,\n",
       "        max_bin=255, max_depth=20, min_child_samples=10,\n",
       "        min_child_weight=5, min_split_gain=0, n_estimators=4000, nthread=4,\n",
       "        num_leaves=40, objective='binary', reg_alpha=0, reg_lambda=0,\n",
       "        seed=123456, silent=False, subsample=1, subsample_for_bin=50000,\n",
       "        subsample_freq=1)"
      ]
     },
     "execution_count": 39,
     "metadata": {},
     "output_type": "execute_result"
    }
   ],
   "source": [
    "model = LGBMClassifier(\n",
    "    nthread=4,\n",
    "    silent=False,\n",
    "    objective='binary',\n",
    "    seed=luck,\n",
    "#     learning_rate=0.3,\n",
    "    n_estimators=4000,\n",
    "    **clf.best_params_)\n",
    "model"
   ]
  },
  {
   "cell_type": "code",
   "execution_count": 28,
   "metadata": {
    "collapsed": false
   },
   "outputs": [],
   "source": [
    "X_train, X_test, y_train, y_test = train_test_split(\n",
    "    train_features[use_columns],\n",
    "    train_features['orderlabel'],\n",
    "    test_size=0.33,\n",
    "    random_state=42)"
   ]
  },
  {
   "cell_type": "code",
   "execution_count": 40,
   "metadata": {
    "collapsed": true
   },
   "outputs": [
    {
     "name": "stdout",
     "output_type": "stream",
     "text": [
      "[1]\ttraining's auc: 0.892453\tvalid_1's auc: 0.889166\n",
      "Train until valid scores didn't improve in 20 rounds.\n",
      "[2]\ttraining's auc: 0.902205\tvalid_1's auc: 0.900372\n",
      "[3]\ttraining's auc: 0.903522\tvalid_1's auc: 0.901192\n",
      "[4]\ttraining's auc: 0.904462\tvalid_1's auc: 0.901868\n",
      "[5]\ttraining's auc: 0.906127\tvalid_1's auc: 0.903785\n",
      "[6]\ttraining's auc: 0.905933\tvalid_1's auc: 0.903418\n",
      "[7]\ttraining's auc: 0.906447\tvalid_1's auc: 0.90385\n",
      "[8]\ttraining's auc: 0.907066\tvalid_1's auc: 0.904256\n",
      "[9]\ttraining's auc: 0.908764\tvalid_1's auc: 0.905876\n",
      "[10]\ttraining's auc: 0.909182\tvalid_1's auc: 0.906123\n",
      "[11]\ttraining's auc: 0.909879\tvalid_1's auc: 0.906768\n",
      "[12]\ttraining's auc: 0.910234\tvalid_1's auc: 0.907229\n",
      "[13]\ttraining's auc: 0.910785\tvalid_1's auc: 0.907453\n",
      "[14]\ttraining's auc: 0.911292\tvalid_1's auc: 0.908343\n",
      "[15]\ttraining's auc: 0.911787\tvalid_1's auc: 0.908833\n",
      "[16]\ttraining's auc: 0.912216\tvalid_1's auc: 0.909171\n",
      "[17]\ttraining's auc: 0.912526\tvalid_1's auc: 0.909398\n",
      "[18]\ttraining's auc: 0.912805\tvalid_1's auc: 0.909579\n",
      "[19]\ttraining's auc: 0.912957\tvalid_1's auc: 0.909818\n",
      "[20]\ttraining's auc: 0.913714\tvalid_1's auc: 0.910345\n",
      "[21]\ttraining's auc: 0.914283\tvalid_1's auc: 0.910862\n",
      "[22]\ttraining's auc: 0.914432\tvalid_1's auc: 0.91121\n",
      "[23]\ttraining's auc: 0.914433\tvalid_1's auc: 0.911194\n",
      "[24]\ttraining's auc: 0.914555\tvalid_1's auc: 0.911295\n",
      "[25]\ttraining's auc: 0.914629\tvalid_1's auc: 0.911224\n",
      "[26]\ttraining's auc: 0.914854\tvalid_1's auc: 0.911393\n",
      "[27]\ttraining's auc: 0.91545\tvalid_1's auc: 0.911956\n",
      "[28]\ttraining's auc: 0.915786\tvalid_1's auc: 0.91222\n",
      "[29]\ttraining's auc: 0.916324\tvalid_1's auc: 0.91257\n",
      "[30]\ttraining's auc: 0.916695\tvalid_1's auc: 0.912819\n",
      "[31]\ttraining's auc: 0.917063\tvalid_1's auc: 0.913111\n",
      "[32]\ttraining's auc: 0.917406\tvalid_1's auc: 0.913333\n",
      "[33]\ttraining's auc: 0.917932\tvalid_1's auc: 0.913729\n",
      "[34]\ttraining's auc: 0.918359\tvalid_1's auc: 0.914\n",
      "[35]\ttraining's auc: 0.918899\tvalid_1's auc: 0.914436\n",
      "[36]\ttraining's auc: 0.91936\tvalid_1's auc: 0.914797\n",
      "[37]\ttraining's auc: 0.91997\tvalid_1's auc: 0.915152\n",
      "[38]\ttraining's auc: 0.920443\tvalid_1's auc: 0.915336\n",
      "[39]\ttraining's auc: 0.920922\tvalid_1's auc: 0.915504\n",
      "[40]\ttraining's auc: 0.92117\tvalid_1's auc: 0.915596\n",
      "[41]\ttraining's auc: 0.921702\tvalid_1's auc: 0.915973\n",
      "[42]\ttraining's auc: 0.922142\tvalid_1's auc: 0.916302\n",
      "[43]\ttraining's auc: 0.922668\tvalid_1's auc: 0.916681\n",
      "[44]\ttraining's auc: 0.923105\tvalid_1's auc: 0.916948\n",
      "[45]\ttraining's auc: 0.923612\tvalid_1's auc: 0.917238\n",
      "[46]\ttraining's auc: 0.924066\tvalid_1's auc: 0.917565\n",
      "[47]\ttraining's auc: 0.924449\tvalid_1's auc: 0.917756\n",
      "[48]\ttraining's auc: 0.924816\tvalid_1's auc: 0.918049\n",
      "[49]\ttraining's auc: 0.925173\tvalid_1's auc: 0.918242\n",
      "[50]\ttraining's auc: 0.925785\tvalid_1's auc: 0.918739\n",
      "[51]\ttraining's auc: 0.926175\tvalid_1's auc: 0.918936\n",
      "[52]\ttraining's auc: 0.92668\tvalid_1's auc: 0.919259\n",
      "[53]\ttraining's auc: 0.92707\tvalid_1's auc: 0.919575\n",
      "[54]\ttraining's auc: 0.927401\tvalid_1's auc: 0.919758\n",
      "[55]\ttraining's auc: 0.927853\tvalid_1's auc: 0.920133\n",
      "[56]\ttraining's auc: 0.928346\tvalid_1's auc: 0.920342\n",
      "[57]\ttraining's auc: 0.928811\tvalid_1's auc: 0.920735\n",
      "[58]\ttraining's auc: 0.929216\tvalid_1's auc: 0.920881\n",
      "[59]\ttraining's auc: 0.929646\tvalid_1's auc: 0.921186\n",
      "[60]\ttraining's auc: 0.930092\tvalid_1's auc: 0.921409\n",
      "[61]\ttraining's auc: 0.930574\tvalid_1's auc: 0.92152\n",
      "[62]\ttraining's auc: 0.931051\tvalid_1's auc: 0.92178\n",
      "[63]\ttraining's auc: 0.931502\tvalid_1's auc: 0.92211\n",
      "[64]\ttraining's auc: 0.931855\tvalid_1's auc: 0.922265\n",
      "[65]\ttraining's auc: 0.932245\tvalid_1's auc: 0.922399\n",
      "[66]\ttraining's auc: 0.932606\tvalid_1's auc: 0.922691\n",
      "[67]\ttraining's auc: 0.932958\tvalid_1's auc: 0.922931\n",
      "[68]\ttraining's auc: 0.933289\tvalid_1's auc: 0.92303\n",
      "[69]\ttraining's auc: 0.933609\tvalid_1's auc: 0.92311\n",
      "[70]\ttraining's auc: 0.93401\tvalid_1's auc: 0.923262\n",
      "[71]\ttraining's auc: 0.934296\tvalid_1's auc: 0.923538\n",
      "[72]\ttraining's auc: 0.934588\tvalid_1's auc: 0.923598\n",
      "[73]\ttraining's auc: 0.934915\tvalid_1's auc: 0.923705\n",
      "[74]\ttraining's auc: 0.935255\tvalid_1's auc: 0.92382\n",
      "[75]\ttraining's auc: 0.935495\tvalid_1's auc: 0.923954\n",
      "[76]\ttraining's auc: 0.935744\tvalid_1's auc: 0.924101\n",
      "[77]\ttraining's auc: 0.936004\tvalid_1's auc: 0.924196\n",
      "[78]\ttraining's auc: 0.936243\tvalid_1's auc: 0.924279\n",
      "[79]\ttraining's auc: 0.936536\tvalid_1's auc: 0.924316\n",
      "[80]\ttraining's auc: 0.936774\tvalid_1's auc: 0.924358\n",
      "[81]\ttraining's auc: 0.937037\tvalid_1's auc: 0.924434\n",
      "[82]\ttraining's auc: 0.937275\tvalid_1's auc: 0.924486\n",
      "[83]\ttraining's auc: 0.937599\tvalid_1's auc: 0.924636\n",
      "[84]\ttraining's auc: 0.937772\tvalid_1's auc: 0.924651\n",
      "[85]\ttraining's auc: 0.938038\tvalid_1's auc: 0.924709\n",
      "[86]\ttraining's auc: 0.938305\tvalid_1's auc: 0.924784\n",
      "[87]\ttraining's auc: 0.938571\tvalid_1's auc: 0.924843\n",
      "[88]\ttraining's auc: 0.938878\tvalid_1's auc: 0.925083\n",
      "[89]\ttraining's auc: 0.939074\tvalid_1's auc: 0.925154\n",
      "[90]\ttraining's auc: 0.939293\tvalid_1's auc: 0.925185\n",
      "[91]\ttraining's auc: 0.939637\tvalid_1's auc: 0.925353\n",
      "[92]\ttraining's auc: 0.939859\tvalid_1's auc: 0.92542\n",
      "[93]\ttraining's auc: 0.940076\tvalid_1's auc: 0.925591\n",
      "[94]\ttraining's auc: 0.940225\tvalid_1's auc: 0.925643\n",
      "[95]\ttraining's auc: 0.940476\tvalid_1's auc: 0.925695\n",
      "[96]\ttraining's auc: 0.940586\tvalid_1's auc: 0.925721\n",
      "[97]\ttraining's auc: 0.940745\tvalid_1's auc: 0.925696\n",
      "[98]\ttraining's auc: 0.940958\tvalid_1's auc: 0.92573\n",
      "[99]\ttraining's auc: 0.941204\tvalid_1's auc: 0.925869\n",
      "[100]\ttraining's auc: 0.941365\tvalid_1's auc: 0.925888\n",
      "[101]\ttraining's auc: 0.94153\tvalid_1's auc: 0.92589\n",
      "[102]\ttraining's auc: 0.941753\tvalid_1's auc: 0.925938\n",
      "[103]\ttraining's auc: 0.941989\tvalid_1's auc: 0.925929\n",
      "[104]\ttraining's auc: 0.942224\tvalid_1's auc: 0.92596\n",
      "[105]\ttraining's auc: 0.942377\tvalid_1's auc: 0.925953\n",
      "[106]\ttraining's auc: 0.94256\tvalid_1's auc: 0.925933\n",
      "[107]\ttraining's auc: 0.942771\tvalid_1's auc: 0.925956\n",
      "[108]\ttraining's auc: 0.942994\tvalid_1's auc: 0.926093\n",
      "[109]\ttraining's auc: 0.943205\tvalid_1's auc: 0.926113\n",
      "[110]\ttraining's auc: 0.943363\tvalid_1's auc: 0.92615\n",
      "[111]\ttraining's auc: 0.943509\tvalid_1's auc: 0.926173\n",
      "[112]\ttraining's auc: 0.943663\tvalid_1's auc: 0.926205\n",
      "[113]\ttraining's auc: 0.943822\tvalid_1's auc: 0.926187\n",
      "[114]\ttraining's auc: 0.943955\tvalid_1's auc: 0.926203\n",
      "[115]\ttraining's auc: 0.944092\tvalid_1's auc: 0.926217\n",
      "[116]\ttraining's auc: 0.94432\tvalid_1's auc: 0.926272\n",
      "[117]\ttraining's auc: 0.944516\tvalid_1's auc: 0.926285\n",
      "[118]\ttraining's auc: 0.944652\tvalid_1's auc: 0.926335\n",
      "[119]\ttraining's auc: 0.944791\tvalid_1's auc: 0.926318\n",
      "[120]\ttraining's auc: 0.944924\tvalid_1's auc: 0.926285\n",
      "[121]\ttraining's auc: 0.945032\tvalid_1's auc: 0.926284\n",
      "[122]\ttraining's auc: 0.945214\tvalid_1's auc: 0.926348\n",
      "[123]\ttraining's auc: 0.945336\tvalid_1's auc: 0.926319\n",
      "[124]\ttraining's auc: 0.945521\tvalid_1's auc: 0.926384\n",
      "[125]\ttraining's auc: 0.945724\tvalid_1's auc: 0.926325\n",
      "[126]\ttraining's auc: 0.945879\tvalid_1's auc: 0.926303\n",
      "[127]\ttraining's auc: 0.946019\tvalid_1's auc: 0.926337\n",
      "[128]\ttraining's auc: 0.946143\tvalid_1's auc: 0.926312\n",
      "[129]\ttraining's auc: 0.946261\tvalid_1's auc: 0.92631\n",
      "[130]\ttraining's auc: 0.946402\tvalid_1's auc: 0.92631\n",
      "[131]\ttraining's auc: 0.94659\tvalid_1's auc: 0.926298\n",
      "[132]\ttraining's auc: 0.946665\tvalid_1's auc: 0.926285\n",
      "[133]\ttraining's auc: 0.946801\tvalid_1's auc: 0.926249\n",
      "[134]\ttraining's auc: 0.946945\tvalid_1's auc: 0.926244\n",
      "[135]\ttraining's auc: 0.947097\tvalid_1's auc: 0.926305\n",
      "[136]\ttraining's auc: 0.947221\tvalid_1's auc: 0.926304\n",
      "[137]\ttraining's auc: 0.947308\tvalid_1's auc: 0.926303\n",
      "[138]\ttraining's auc: 0.947381\tvalid_1's auc: 0.9263\n",
      "[139]\ttraining's auc: 0.94749\tvalid_1's auc: 0.926262\n",
      "[140]\ttraining's auc: 0.94764\tvalid_1's auc: 0.926304\n",
      "[141]\ttraining's auc: 0.947747\tvalid_1's auc: 0.926312\n",
      "[142]\ttraining's auc: 0.947925\tvalid_1's auc: 0.926299\n",
      "[143]\ttraining's auc: 0.948069\tvalid_1's auc: 0.926275\n",
      "[144]\ttraining's auc: 0.94823\tvalid_1's auc: 0.926292\n",
      "Early stopping, best iteration is:\n",
      "[124]\ttraining's auc: 0.945521\tvalid_1's auc: 0.926384\n"
     ]
    },
    {
     "data": {
      "text/plain": [
       "LGBMClassifier(boosting_type='gbdt', colsample_bytree=1, learning_rate=0.1,\n",
       "        max_bin=255, max_depth=20, min_child_samples=10,\n",
       "        min_child_weight=5, min_split_gain=0, n_estimators=4000, nthread=4,\n",
       "        num_leaves=40, objective='binary', reg_alpha=0, reg_lambda=0,\n",
       "        seed=123456, silent=False, subsample=1, subsample_for_bin=50000,\n",
       "        subsample_freq=1)"
      ]
     },
     "execution_count": 40,
     "metadata": {},
     "output_type": "execute_result"
    }
   ],
   "source": [
    "model.fit(\n",
    "    X_train,\n",
    "    y_train,\n",
    "    eval_set=[(X_train, y_train), (X_test, y_test)],\n",
    "    early_stopping_rounds=20,\n",
    "    eval_metric='auc',\n",
    "    verbose=True, )"
   ]
  },
  {
   "cell_type": "code",
   "execution_count": 23,
   "metadata": {
    "collapsed": true
   },
   "outputs": [],
   "source": [
    "def get_score(model, X_train, train_features):\n",
    "    result = model.predict_proba(X_train)[:, 1]\n",
    "    train_features['prob'] = np.nan\n",
    "    train_features.loc[X_train.index, 'prob'] = result\n",
    "    train_x = train_features.loc[X_train.index, ['orderid', 'prob', 'orderlabel']]\n",
    "    train_x.sort_values('prob', ascending=False, inplace=True)\n",
    "    finall_result_x = train_x.drop_duplicates(['orderid'])\n",
    "    train_score = finall_result_x.orderlabel.mean()\n",
    "    print(train_score)\n",
    "    return train_score"
   ]
  },
  {
   "cell_type": "code",
   "execution_count": 41,
   "metadata": {
    "collapsed": false,
    "scrolled": true
   },
   "outputs": [
    {
     "name": "stdout",
     "output_type": "stream",
     "text": [
      "0.355152602039\n"
     ]
    }
   ],
   "source": [
    "train_score = get_score(model, X_train, train_features)"
   ]
  },
  {
   "cell_type": "code",
   "execution_count": 37,
   "metadata": {
    "collapsed": false
   },
   "outputs": [
    {
     "name": "stdout",
     "output_type": "stream",
     "text": [
      "0.208128493501\n"
     ]
    }
   ],
   "source": [
    "test_score = get_score(model, X_test, train_features)"
   ]
  },
  {
   "cell_type": "code",
   "execution_count": 48,
   "metadata": {
    "collapsed": false
   },
   "outputs": [
    {
     "data": {
      "text/plain": [
       "'models/01-2242-importance.txt'"
      ]
     },
     "execution_count": 48,
     "metadata": {},
     "output_type": "execute_result"
    }
   ],
   "source": [
    "if not exists('models'):\n",
    "    mkdir('models')\n",
    "model_importance_path = join('models', datetime.now().strftime('%d-%H%M-importance.txt'))\n",
    "model_importance_path"
   ]
  },
  {
   "cell_type": "code",
   "execution_count": 49,
   "metadata": {
    "collapsed": true
   },
   "outputs": [
    {
     "ename": "ValueError",
     "evalue": "Shape of passed values is (1, 325), indices imply (1, 322)",
     "output_type": "error",
     "traceback": [
      "\u001b[1;31m\u001b[0m",
      "\u001b[1;31mValueError\u001b[0mTraceback (most recent call last)",
      "\u001b[1;32m/home/zhanglun/.pyenv/versions/anaconda3-4.1.0/lib/python3.5/site-packages/pandas/core/internals.py\u001b[0m in \u001b[0;36mcreate_block_manager_from_blocks\u001b[1;34m(blocks, axes)\u001b[0m\n\u001b[0;32m   4295\u001b[0m \u001b[1;33m\u001b[0m\u001b[0m\n\u001b[1;32m-> 4296\u001b[1;33m         \u001b[0mmgr\u001b[0m \u001b[1;33m=\u001b[0m \u001b[0mBlockManager\u001b[0m\u001b[1;33m(\u001b[0m\u001b[0mblocks\u001b[0m\u001b[1;33m,\u001b[0m \u001b[0maxes\u001b[0m\u001b[1;33m)\u001b[0m\u001b[1;33m\u001b[0m\u001b[0m\n\u001b[0m\u001b[0;32m   4297\u001b[0m         \u001b[0mmgr\u001b[0m\u001b[1;33m.\u001b[0m\u001b[0m_consolidate_inplace\u001b[0m\u001b[1;33m(\u001b[0m\u001b[1;33m)\u001b[0m\u001b[1;33m\u001b[0m\u001b[0m\n",
      "\u001b[1;32m/home/zhanglun/.pyenv/versions/anaconda3-4.1.0/lib/python3.5/site-packages/pandas/core/internals.py\u001b[0m in \u001b[0;36m__init__\u001b[1;34m(self, blocks, axes, do_integrity_check, fastpath)\u001b[0m\n\u001b[0;32m   2794\u001b[0m         \u001b[1;32mif\u001b[0m \u001b[0mdo_integrity_check\u001b[0m\u001b[1;33m:\u001b[0m\u001b[1;33m\u001b[0m\u001b[0m\n\u001b[1;32m-> 2795\u001b[1;33m             \u001b[0mself\u001b[0m\u001b[1;33m.\u001b[0m\u001b[0m_verify_integrity\u001b[0m\u001b[1;33m(\u001b[0m\u001b[1;33m)\u001b[0m\u001b[1;33m\u001b[0m\u001b[0m\n\u001b[0m\u001b[0;32m   2796\u001b[0m \u001b[1;33m\u001b[0m\u001b[0m\n",
      "\u001b[1;32m/home/zhanglun/.pyenv/versions/anaconda3-4.1.0/lib/python3.5/site-packages/pandas/core/internals.py\u001b[0m in \u001b[0;36m_verify_integrity\u001b[1;34m(self)\u001b[0m\n\u001b[0;32m   3005\u001b[0m             \u001b[1;32mif\u001b[0m \u001b[0mblock\u001b[0m\u001b[1;33m.\u001b[0m\u001b[0m_verify_integrity\u001b[0m \u001b[1;32mand\u001b[0m \u001b[0mblock\u001b[0m\u001b[1;33m.\u001b[0m\u001b[0mshape\u001b[0m\u001b[1;33m[\u001b[0m\u001b[1;36m1\u001b[0m\u001b[1;33m:\u001b[0m\u001b[1;33m]\u001b[0m \u001b[1;33m!=\u001b[0m \u001b[0mmgr_shape\u001b[0m\u001b[1;33m[\u001b[0m\u001b[1;36m1\u001b[0m\u001b[1;33m:\u001b[0m\u001b[1;33m]\u001b[0m\u001b[1;33m:\u001b[0m\u001b[1;33m\u001b[0m\u001b[0m\n\u001b[1;32m-> 3006\u001b[1;33m                 \u001b[0mconstruction_error\u001b[0m\u001b[1;33m(\u001b[0m\u001b[0mtot_items\u001b[0m\u001b[1;33m,\u001b[0m \u001b[0mblock\u001b[0m\u001b[1;33m.\u001b[0m\u001b[0mshape\u001b[0m\u001b[1;33m[\u001b[0m\u001b[1;36m1\u001b[0m\u001b[1;33m:\u001b[0m\u001b[1;33m]\u001b[0m\u001b[1;33m,\u001b[0m \u001b[0mself\u001b[0m\u001b[1;33m.\u001b[0m\u001b[0maxes\u001b[0m\u001b[1;33m)\u001b[0m\u001b[1;33m\u001b[0m\u001b[0m\n\u001b[0m\u001b[0;32m   3007\u001b[0m         \u001b[1;32mif\u001b[0m \u001b[0mlen\u001b[0m\u001b[1;33m(\u001b[0m\u001b[0mself\u001b[0m\u001b[1;33m.\u001b[0m\u001b[0mitems\u001b[0m\u001b[1;33m)\u001b[0m \u001b[1;33m!=\u001b[0m \u001b[0mtot_items\u001b[0m\u001b[1;33m:\u001b[0m\u001b[1;33m\u001b[0m\u001b[0m\n",
      "\u001b[1;32m/home/zhanglun/.pyenv/versions/anaconda3-4.1.0/lib/python3.5/site-packages/pandas/core/internals.py\u001b[0m in \u001b[0;36mconstruction_error\u001b[1;34m(tot_items, block_shape, axes, e)\u001b[0m\n\u001b[0;32m   4279\u001b[0m     raise ValueError(\"Shape of passed values is {0}, indices imply {1}\".format(\n\u001b[1;32m-> 4280\u001b[1;33m         passed, implied))\n\u001b[0m\u001b[0;32m   4281\u001b[0m \u001b[1;33m\u001b[0m\u001b[0m\n",
      "\u001b[1;31mValueError\u001b[0m: Shape of passed values is (1, 325), indices imply (1, 322)",
      "\nDuring handling of the above exception, another exception occurred:\n",
      "\u001b[1;31mValueError\u001b[0mTraceback (most recent call last)",
      "\u001b[1;32m<ipython-input-49-57ac09fd5f96>\u001b[0m in \u001b[0;36m<module>\u001b[1;34m()\u001b[0m\n\u001b[1;32m----> 1\u001b[1;33m \u001b[0mimportance_df\u001b[0m \u001b[1;33m=\u001b[0m \u001b[0mpd\u001b[0m\u001b[1;33m.\u001b[0m\u001b[0mDataFrame\u001b[0m\u001b[1;33m(\u001b[0m\u001b[0mmodel\u001b[0m\u001b[1;33m.\u001b[0m\u001b[0mfeature_importances_\u001b[0m\u001b[1;33m,\u001b[0m \u001b[0mindex\u001b[0m\u001b[1;33m=\u001b[0m\u001b[0muse_columns\u001b[0m\u001b[1;33m)\u001b[0m\u001b[1;33m\u001b[0m\u001b[0m\n\u001b[0m\u001b[0;32m      2\u001b[0m \u001b[1;33m\u001b[0m\u001b[0m\n\u001b[0;32m      3\u001b[0m \u001b[0mimportance_df\u001b[0m\u001b[1;33m.\u001b[0m\u001b[0msort_values\u001b[0m\u001b[1;33m(\u001b[0m\u001b[1;36m0\u001b[0m\u001b[1;33m,\u001b[0m \u001b[0mascending\u001b[0m\u001b[1;33m=\u001b[0m\u001b[1;32mFalse\u001b[0m\u001b[1;33m,\u001b[0m \u001b[0minplace\u001b[0m\u001b[1;33m=\u001b[0m\u001b[1;32mTrue\u001b[0m\u001b[1;33m)\u001b[0m\u001b[1;33m\u001b[0m\u001b[0m\n\u001b[0;32m      4\u001b[0m \u001b[0mimportance_df\u001b[0m\u001b[1;33m.\u001b[0m\u001b[0mto_csv\u001b[0m\u001b[1;33m(\u001b[0m\u001b[0mmodel_importance_path\u001b[0m\u001b[1;33m)\u001b[0m\u001b[1;33m\u001b[0m\u001b[0m\n",
      "\u001b[1;32m/home/zhanglun/.pyenv/versions/anaconda3-4.1.0/lib/python3.5/site-packages/pandas/core/frame.py\u001b[0m in \u001b[0;36m__init__\u001b[1;34m(self, data, index, columns, dtype, copy)\u001b[0m\n\u001b[0;32m    304\u001b[0m             \u001b[1;32melse\u001b[0m\u001b[1;33m:\u001b[0m\u001b[1;33m\u001b[0m\u001b[0m\n\u001b[0;32m    305\u001b[0m                 mgr = self._init_ndarray(data, index, columns, dtype=dtype,\n\u001b[1;32m--> 306\u001b[1;33m                                          copy=copy)\n\u001b[0m\u001b[0;32m    307\u001b[0m         \u001b[1;32melif\u001b[0m \u001b[0misinstance\u001b[0m\u001b[1;33m(\u001b[0m\u001b[0mdata\u001b[0m\u001b[1;33m,\u001b[0m \u001b[1;33m(\u001b[0m\u001b[0mlist\u001b[0m\u001b[1;33m,\u001b[0m \u001b[0mtypes\u001b[0m\u001b[1;33m.\u001b[0m\u001b[0mGeneratorType\u001b[0m\u001b[1;33m)\u001b[0m\u001b[1;33m)\u001b[0m\u001b[1;33m:\u001b[0m\u001b[1;33m\u001b[0m\u001b[0m\n\u001b[0;32m    308\u001b[0m             \u001b[1;32mif\u001b[0m \u001b[0misinstance\u001b[0m\u001b[1;33m(\u001b[0m\u001b[0mdata\u001b[0m\u001b[1;33m,\u001b[0m \u001b[0mtypes\u001b[0m\u001b[1;33m.\u001b[0m\u001b[0mGeneratorType\u001b[0m\u001b[1;33m)\u001b[0m\u001b[1;33m:\u001b[0m\u001b[1;33m\u001b[0m\u001b[0m\n",
      "\u001b[1;32m/home/zhanglun/.pyenv/versions/anaconda3-4.1.0/lib/python3.5/site-packages/pandas/core/frame.py\u001b[0m in \u001b[0;36m_init_ndarray\u001b[1;34m(self, values, index, columns, dtype, copy)\u001b[0m\n\u001b[0;32m    481\u001b[0m             \u001b[0mvalues\u001b[0m \u001b[1;33m=\u001b[0m \u001b[0mmaybe_infer_to_datetimelike\u001b[0m\u001b[1;33m(\u001b[0m\u001b[0mvalues\u001b[0m\u001b[1;33m)\u001b[0m\u001b[1;33m\u001b[0m\u001b[0m\n\u001b[0;32m    482\u001b[0m \u001b[1;33m\u001b[0m\u001b[0m\n\u001b[1;32m--> 483\u001b[1;33m         \u001b[1;32mreturn\u001b[0m \u001b[0mcreate_block_manager_from_blocks\u001b[0m\u001b[1;33m(\u001b[0m\u001b[1;33m[\u001b[0m\u001b[0mvalues\u001b[0m\u001b[1;33m]\u001b[0m\u001b[1;33m,\u001b[0m \u001b[1;33m[\u001b[0m\u001b[0mcolumns\u001b[0m\u001b[1;33m,\u001b[0m \u001b[0mindex\u001b[0m\u001b[1;33m]\u001b[0m\u001b[1;33m)\u001b[0m\u001b[1;33m\u001b[0m\u001b[0m\n\u001b[0m\u001b[0;32m    484\u001b[0m \u001b[1;33m\u001b[0m\u001b[0m\n\u001b[0;32m    485\u001b[0m     \u001b[1;33m@\u001b[0m\u001b[0mproperty\u001b[0m\u001b[1;33m\u001b[0m\u001b[0m\n",
      "\u001b[1;32m/home/zhanglun/.pyenv/versions/anaconda3-4.1.0/lib/python3.5/site-packages/pandas/core/internals.py\u001b[0m in \u001b[0;36mcreate_block_manager_from_blocks\u001b[1;34m(blocks, axes)\u001b[0m\n\u001b[0;32m   4301\u001b[0m         \u001b[0mblocks\u001b[0m \u001b[1;33m=\u001b[0m \u001b[1;33m[\u001b[0m\u001b[0mgetattr\u001b[0m\u001b[1;33m(\u001b[0m\u001b[0mb\u001b[0m\u001b[1;33m,\u001b[0m \u001b[1;34m'values'\u001b[0m\u001b[1;33m,\u001b[0m \u001b[0mb\u001b[0m\u001b[1;33m)\u001b[0m \u001b[1;32mfor\u001b[0m \u001b[0mb\u001b[0m \u001b[1;32min\u001b[0m \u001b[0mblocks\u001b[0m\u001b[1;33m]\u001b[0m\u001b[1;33m\u001b[0m\u001b[0m\n\u001b[0;32m   4302\u001b[0m         \u001b[0mtot_items\u001b[0m \u001b[1;33m=\u001b[0m \u001b[0msum\u001b[0m\u001b[1;33m(\u001b[0m\u001b[0mb\u001b[0m\u001b[1;33m.\u001b[0m\u001b[0mshape\u001b[0m\u001b[1;33m[\u001b[0m\u001b[1;36m0\u001b[0m\u001b[1;33m]\u001b[0m \u001b[1;32mfor\u001b[0m \u001b[0mb\u001b[0m \u001b[1;32min\u001b[0m \u001b[0mblocks\u001b[0m\u001b[1;33m)\u001b[0m\u001b[1;33m\u001b[0m\u001b[0m\n\u001b[1;32m-> 4303\u001b[1;33m         \u001b[0mconstruction_error\u001b[0m\u001b[1;33m(\u001b[0m\u001b[0mtot_items\u001b[0m\u001b[1;33m,\u001b[0m \u001b[0mblocks\u001b[0m\u001b[1;33m[\u001b[0m\u001b[1;36m0\u001b[0m\u001b[1;33m]\u001b[0m\u001b[1;33m.\u001b[0m\u001b[0mshape\u001b[0m\u001b[1;33m[\u001b[0m\u001b[1;36m1\u001b[0m\u001b[1;33m:\u001b[0m\u001b[1;33m]\u001b[0m\u001b[1;33m,\u001b[0m \u001b[0maxes\u001b[0m\u001b[1;33m,\u001b[0m \u001b[0me\u001b[0m\u001b[1;33m)\u001b[0m\u001b[1;33m\u001b[0m\u001b[0m\n\u001b[0m\u001b[0;32m   4304\u001b[0m \u001b[1;33m\u001b[0m\u001b[0m\n\u001b[0;32m   4305\u001b[0m \u001b[1;33m\u001b[0m\u001b[0m\n",
      "\u001b[1;32m/home/zhanglun/.pyenv/versions/anaconda3-4.1.0/lib/python3.5/site-packages/pandas/core/internals.py\u001b[0m in \u001b[0;36mconstruction_error\u001b[1;34m(tot_items, block_shape, axes, e)\u001b[0m\n\u001b[0;32m   4278\u001b[0m         \u001b[1;32mraise\u001b[0m \u001b[0mValueError\u001b[0m\u001b[1;33m(\u001b[0m\u001b[1;34m\"Empty data passed with indices specified.\"\u001b[0m\u001b[1;33m)\u001b[0m\u001b[1;33m\u001b[0m\u001b[0m\n\u001b[0;32m   4279\u001b[0m     raise ValueError(\"Shape of passed values is {0}, indices imply {1}\".format(\n\u001b[1;32m-> 4280\u001b[1;33m         passed, implied))\n\u001b[0m\u001b[0;32m   4281\u001b[0m \u001b[1;33m\u001b[0m\u001b[0m\n\u001b[0;32m   4282\u001b[0m \u001b[1;33m\u001b[0m\u001b[0m\n",
      "\u001b[1;31mValueError\u001b[0m: Shape of passed values is (1, 325), indices imply (1, 322)"
     ]
    }
   ],
   "source": [
    "importance_df = pd.DataFrame(model.feature_importances_, index=use_columns)\n",
    "\n",
    "importance_df.sort_values(0, ascending=False, inplace=True)\n",
    "importance_df.to_csv(model_importance_path)"
   ]
  },
  {
   "cell_type": "code",
   "execution_count": 46,
   "metadata": {
    "collapsed": false
   },
   "outputs": [
    {
     "data": {
      "text/plain": [
       "'learning_rate: 0.1,max_depth: 20,subsample: 1,colsample_bytree: 1,num_leaves: 40'"
      ]
     },
     "execution_count": 46,
     "metadata": {},
     "output_type": "execute_result"
    }
   ],
   "source": [
    "parms = ','.join(['{}: {}'.format(k, v) for k, v in clf.best_params_.items()])\n",
    "parms"
   ]
  },
  {
   "cell_type": "code",
   "execution_count": 47,
   "metadata": {
    "collapsed": false
   },
   "outputs": [
    {
     "name": "stdout",
     "output_type": "stream",
     "text": [
      "01-22-41:  online  ??  test_score  0.208128493501  train_score  0.355152602039  model_train  0.945521460169  model_test  0.926384139075  n  124  params  learning_rate: 0.1,max_depth: 20,subsample: 1,colsample_bytree: 1,num_leaves: 40\n"
     ]
    }
   ],
   "source": [
    "print(datetime.now().strftime('%d-%H-%M:'),\n",
    "      'online', '??',\n",
    "     'test_score', test_score,\n",
    "     'train_score', train_score,\n",
    "     'model_train', model.best_score['training']['auc'],\n",
    "     'model_test', model.best_score['valid_1']['auc'],\n",
    "     'n', model.best_iteration,\n",
    "     'params', parms, end='\\n', sep='  ')"
   ]
  },
  {
   "cell_type": "code",
   "execution_count": 61,
   "metadata": {
    "collapsed": false
   },
   "outputs": [],
   "source": [
    "print(datetime.now().strftime('%d-%H-%M:'),\n",
    "      'online', '??',\n",
    "     'test_score', test_score,\n",
    "     'train_score', train_score,\n",
    "     'model_train', model.best_score['training']['auc'],\n",
    "     'model_test', model.best_score['valid_1']['auc'],\n",
    "     'n', model.best_iteration,\n",
    "      'shape', train_features.shape,\n",
    "     'params', parms, end='\\n', sep=',', file=open('lgb_result.txt', 'a+'))"
   ]
  },
  {
   "cell_type": "code",
   "execution_count": 62,
   "metadata": {
    "collapsed": true
   },
   "outputs": [],
   "source": [
    "pickle.dump(model, open(model_path, 'wb'))"
   ]
  }
 ],
 "metadata": {
  "anaconda-cloud": {},
  "hide_input": false,
  "kernelspec": {
   "display_name": "Python 3",
   "language": "python",
   "name": "python3"
  },
  "language_info": {
   "codemirror_mode": {
    "name": "ipython",
    "version": 3
   },
   "file_extension": ".py",
   "mimetype": "text/x-python",
   "name": "python",
   "nbconvert_exporter": "python",
   "pygments_lexer": "ipython3",
   "version": "3.5.1"
  }
 },
 "nbformat": 4,
 "nbformat_minor": 2
}
