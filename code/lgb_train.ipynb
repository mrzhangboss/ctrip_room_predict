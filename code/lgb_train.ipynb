{
 "cells": [
  {
   "cell_type": "code",
   "execution_count": 1,
   "metadata": {
    "collapsed": false
   },
   "outputs": [],
   "source": [
    "import pickle\n",
    "import gc\n",
    "from datetime import datetime\n",
    "from os import mkdir\n",
    "from os.path import join, exists\n",
    "\n",
    "import numpy as np\n",
    "import pandas as pd\n",
    "import scipy as sp\n",
    "\n",
    "from sklearn import model_selection\n",
    "from sklearn.model_selection import KFold\n",
    "from sklearn.model_selection import train_test_split\n",
    "\n",
    "import lightgbm as lgb\n",
    "from lightgbm import LGBMClassifier\n",
    "\n",
    "from sklearn import model_selection\n",
    "from sklearn.linear_model import LogisticRegression\n",
    "from sklearn.neighbors import KNeighborsClassifier\n",
    "from sklearn.naive_bayes import GaussianNB \n",
    "from sklearn.ensemble import RandomForestClassifier\n",
    "from mlxtend.classifier import StackingClassifier\n",
    "from mlxtend.classifier import StackingCVClassifier\n",
    "\n",
    "from sklearn import metrics"
   ]
  },
  {
   "cell_type": "code",
   "execution_count": 2,
   "metadata": {
    "collapsed": false
   },
   "outputs": [
    {
     "data": {
      "text/plain": [
       "(879539, 443)"
      ]
     },
     "execution_count": 2,
     "metadata": {},
     "output_type": "execute_result"
    }
   ],
   "source": [
    "train_f = pd.read_pickle('../dataset/train/train_all_feature.pkl')\n",
    "train_f.shape"
   ]
  },
  {
   "cell_type": "code",
   "execution_count": 3,
   "metadata": {
    "collapsed": false
   },
   "outputs": [
    {
     "data": {
      "text/plain": [
       "(215287, 443)"
      ]
     },
     "execution_count": 3,
     "metadata": {},
     "output_type": "execute_result"
    }
   ],
   "source": [
    "test_f = pd.read_pickle('../dataset/train/test_all_feature.pkl')\n",
    "test_f.shape"
   ]
  },
  {
   "cell_type": "code",
   "execution_count": 4,
   "metadata": {
    "collapsed": true
   },
   "outputs": [],
   "source": [
    "model_path = '../dataset/lightgbmmodel.pkl'"
   ]
  },
  {
   "cell_type": "code",
   "execution_count": 5,
   "metadata": {
    "collapsed": true
   },
   "outputs": [],
   "source": [
    "old_model_path = '../dataset/old_lightgbmmodel.pkl'"
   ]
  },
  {
   "cell_type": "code",
   "execution_count": 6,
   "metadata": {
    "collapsed": true
   },
   "outputs": [],
   "source": [
    "luck = 123456"
   ]
  },
  {
   "cell_type": "code",
   "execution_count": 7,
   "metadata": {
    "collapsed": false
   },
   "outputs": [],
   "source": [
    "model = LGBMClassifier(nthread=4, silent=False, objective= 'binary', seed=luck)"
   ]
  },
  {
   "cell_type": "code",
   "execution_count": 8,
   "metadata": {
    "collapsed": true
   },
   "outputs": [],
   "source": [
    "parameters = {\n",
    "#     'gamma': [0.05],\n",
    "    #     'n_estimators': [800],\n",
    "    'max_depth': [2, 6, 12],\n",
    "#     'max_depth': [12],\n",
    "#     'num_leaves': range(30, 50, 4), \n",
    "\n",
    "#     'learning_rate': [0.15, 0.3],\n",
    "#         'subsample': [0.9],\n",
    "#         'colsample_bytree': [0.9],\n",
    "    #     'reg_alpha': [0, 1, 5],\n",
    "    #     'reg_lambda': [0, 1, 4],\n",
    "}"
   ]
  },
  {
   "cell_type": "code",
   "execution_count": 9,
   "metadata": {
    "collapsed": false
   },
   "outputs": [],
   "source": [
    "# select_columns = pickle.load(open('select_columns.pkl', 'rb'))"
   ]
  },
  {
   "cell_type": "code",
   "execution_count": 41,
   "metadata": {
    "collapsed": false
   },
   "outputs": [],
   "source": [
    "use_columns = [\n",
    "    x for x in train_f.columns\n",
    "    if x not in [\n",
    "        'orderid', 'uid', 'hotelid', 'basicroomid', 'hotel_roomid', 'roomid',\n",
    "        'orderlabel', 'index'\n",
    "    ]\n",
    "]"
   ]
  },
  {
   "cell_type": "code",
   "execution_count": 11,
   "metadata": {
    "collapsed": true
   },
   "outputs": [],
   "source": [
    "cv = model_selection.ShuffleSplit(n_splits=1, test_size=0.2, random_state=luck)\n",
    "clf = model_selection.GridSearchCV(model, parameters, cv=cv, n_jobs=-1, verbose=True)"
   ]
  },
  {
   "cell_type": "code",
   "execution_count": 12,
   "metadata": {
    "collapsed": false
   },
   "outputs": [],
   "source": [
    "clf_feture = train_f.sample(1000, random_state=luck)"
   ]
  },
  {
   "cell_type": "code",
   "execution_count": 13,
   "metadata": {
    "collapsed": false
   },
   "outputs": [
    {
     "name": "stdout",
     "output_type": "stream",
     "text": [
      "Fitting 1 folds for each of 3 candidates, totalling 3 fits\n",
      "CPU times: user 260 ms, sys: 43.2 ms, total: 303 ms\n",
      "Wall time: 757 ms\n"
     ]
    },
    {
     "name": "stderr",
     "output_type": "stream",
     "text": [
      "[Parallel(n_jobs=-1)]: Done   3 out of   3 | elapsed:    0.5s finished\n"
     ]
    },
    {
     "data": {
      "text/plain": [
       "GridSearchCV(cv=ShuffleSplit(n_splits=1, random_state=123456, test_size=0.2, train_size=None),\n",
       "       error_score='raise',\n",
       "       estimator=LGBMClassifier(boosting_type='gbdt', colsample_bytree=1, learning_rate=0.1,\n",
       "        max_bin=255, max_depth=-1, min_child_samples=10,\n",
       "        min_child_weight=5, min_split_gain=0, n_estimators=10, nthread=4,\n",
       "        num_leaves=31, objective='binary', reg_alpha=0, reg_lambda=0,\n",
       "        seed=123456, silent=False, subsample=1, subsample_for_bin=50000,\n",
       "        subsample_freq=1),\n",
       "       fit_params={}, iid=True, n_jobs=-1,\n",
       "       param_grid={'max_depth': [2, 6, 12]}, pre_dispatch='2*n_jobs',\n",
       "       refit=True, return_train_score=True, scoring=None, verbose=True)"
      ]
     },
     "execution_count": 13,
     "metadata": {},
     "output_type": "execute_result"
    }
   ],
   "source": [
    "%time clf.fit(clf_feture[use_columns], clf_feture['orderlabel'])"
   ]
  },
  {
   "cell_type": "code",
   "execution_count": 14,
   "metadata": {
    "collapsed": false
   },
   "outputs": [
    {
     "data": {
      "text/plain": [
       "0.96499999999999997"
      ]
     },
     "execution_count": 14,
     "metadata": {},
     "output_type": "execute_result"
    }
   ],
   "source": [
    "clf.best_score_"
   ]
  },
  {
   "cell_type": "code",
   "execution_count": 15,
   "metadata": {
    "collapsed": false
   },
   "outputs": [
    {
     "data": {
      "text/plain": [
       "{'max_depth': 2}"
      ]
     },
     "execution_count": 15,
     "metadata": {},
     "output_type": "execute_result"
    }
   ],
   "source": [
    "clf.best_params_"
   ]
  },
  {
   "cell_type": "code",
   "execution_count": 16,
   "metadata": {
    "collapsed": true
   },
   "outputs": [],
   "source": [
    "# # clf.best_params_['n_estimators'] = \n",
    "clf.best_params_['max_depth'] = 6\n",
    "# clf.best_params_['reg_lambda'] = 0.5\n",
    "clf.best_params_['subsample'] = 0.8\n",
    "clf.best_params_['colsample_bytree'] = 0.8\n",
    "\n",
    "clf.best_params_['colsample_bylevel'] = 0.7\n",
    "\n",
    "# clf.best_params_['n_estimators'] = 1000\n",
    "clf.best_params_['learning_rate'] = 0.1\n",
    "clf.best_params_['num_leaves'] = 56\n",
    "\n",
    "\n",
    "# clf.best_params_['reg_alpha'] = 1\n",
    "# clf.best_params_['min_data_in_leaf'] = 3\n",
    "\n",
    "# clf.best_params_['min_child_weight'] = 1\n",
    "clf.best_params_['lambda_l2'] = 10\n",
    "clf.best_params_['tree_method'] = 'exact'\n",
    "clf.best_params_['metric'] = 'binary_logloss'\n",
    "\n"
   ]
  },
  {
   "cell_type": "code",
   "execution_count": 17,
   "metadata": {
    "collapsed": false
   },
   "outputs": [],
   "source": [
    "params = {\n",
    "    'boosting_type': 'gbdt',\n",
    "#     'objective': 'binary',\n",
    "#     'metric': 'binary_logloss',\n",
    "        'metric': 'auc',\n",
    "    'min_child_weight': 1.5,\n",
    "#     'num_leaves': 2 ** 7,\n",
    "    'max_depth':6,\n",
    "      'num_leaves':36,\n",
    "#     'lambda_l2': 10,\n",
    "    'subsample': 0.5,\n",
    "    'colsample_bytree': 0.5,\n",
    "#     'colsample_bylevel': 0.7,\n",
    "    'learning_rate': 0.05,\n",
    "#     'tree_method': 'exact',\n",
    "    'subsample_freq': 10,\n",
    "#     'bagging_freq':10,\n",
    "}"
   ]
  },
  {
   "cell_type": "code",
   "execution_count": 18,
   "metadata": {
    "collapsed": false
   },
   "outputs": [
    {
     "data": {
      "text/plain": [
       "LGBMClassifier(boosting_type='gbdt', colsample_bytree=0.5, learning_rate=0.05,\n",
       "        max_bin=255, max_depth=6, metric='auc', min_child_samples=10,\n",
       "        min_child_weight=1.5, min_split_gain=0, n_estimators=1300,\n",
       "        nthread=4, num_leaves=36, objective='binary', reg_alpha=0,\n",
       "        reg_lambda=0, seed=123456, silent=False, subsample=0.5,\n",
       "        subsample_for_bin=50000, subsample_freq=10)"
      ]
     },
     "execution_count": 18,
     "metadata": {},
     "output_type": "execute_result"
    }
   ],
   "source": [
    "model = LGBMClassifier(\n",
    "    nthread=4,\n",
    "    silent=False,\n",
    "    objective='binary',\n",
    "    seed=luck,\n",
    "#     learning_rate=0.3,\n",
    "    n_estimators=1300,\n",
    "    **params)\n",
    "model"
   ]
  },
  {
   "cell_type": "code",
   "execution_count": 19,
   "metadata": {
    "collapsed": true
   },
   "outputs": [],
   "source": [
    "# categorical_feature=['order_' + x for x in  ['roomservice_8','roomservice_4','roomservice_3','roomtag_1']]"
   ]
  },
  {
   "cell_type": "code",
   "execution_count": 20,
   "metadata": {
    "collapsed": false
   },
   "outputs": [
    {
     "name": "stdout",
     "output_type": "stream",
     "text": [
      "[1]\tvalid_0's auc: 0.883546\tvalid_1's auc: 0.881634\n",
      "Train until valid scores didn't improve in 50 rounds.\n",
      "[2]\tvalid_0's auc: 0.894047\tvalid_1's auc: 0.892918\n",
      "[3]\tvalid_0's auc: 0.899647\tvalid_1's auc: 0.896809\n",
      "[4]\tvalid_0's auc: 0.90497\tvalid_1's auc: 0.902394\n",
      "[5]\tvalid_0's auc: 0.905767\tvalid_1's auc: 0.903566\n",
      "[6]\tvalid_0's auc: 0.905776\tvalid_1's auc: 0.903847\n",
      "[7]\tvalid_0's auc: 0.906888\tvalid_1's auc: 0.904648\n",
      "[8]\tvalid_0's auc: 0.907308\tvalid_1's auc: 0.905128\n",
      "[9]\tvalid_0's auc: 0.90915\tvalid_1's auc: 0.906952\n",
      "[10]\tvalid_0's auc: 0.909024\tvalid_1's auc: 0.906792\n",
      "[11]\tvalid_0's auc: 0.910031\tvalid_1's auc: 0.907683\n",
      "[12]\tvalid_0's auc: 0.910097\tvalid_1's auc: 0.907768\n",
      "[13]\tvalid_0's auc: 0.910348\tvalid_1's auc: 0.90828\n",
      "[14]\tvalid_0's auc: 0.910329\tvalid_1's auc: 0.908412\n",
      "[15]\tvalid_0's auc: 0.911166\tvalid_1's auc: 0.909006\n",
      "[16]\tvalid_0's auc: 0.910978\tvalid_1's auc: 0.908939\n",
      "[17]\tvalid_0's auc: 0.911446\tvalid_1's auc: 0.909477\n",
      "[18]\tvalid_0's auc: 0.911358\tvalid_1's auc: 0.909393\n",
      "[19]\tvalid_0's auc: 0.91133\tvalid_1's auc: 0.909468\n",
      "[20]\tvalid_0's auc: 0.911258\tvalid_1's auc: 0.909477\n",
      "[21]\tvalid_0's auc: 0.911877\tvalid_1's auc: 0.910013\n",
      "[22]\tvalid_0's auc: 0.911955\tvalid_1's auc: 0.910168\n",
      "[23]\tvalid_0's auc: 0.911827\tvalid_1's auc: 0.910019\n",
      "[24]\tvalid_0's auc: 0.911856\tvalid_1's auc: 0.910177\n",
      "[25]\tvalid_0's auc: 0.91196\tvalid_1's auc: 0.910368\n",
      "[26]\tvalid_0's auc: 0.912098\tvalid_1's auc: 0.9105\n",
      "[27]\tvalid_0's auc: 0.912065\tvalid_1's auc: 0.910517\n",
      "[28]\tvalid_0's auc: 0.91214\tvalid_1's auc: 0.910645\n",
      "[29]\tvalid_0's auc: 0.912351\tvalid_1's auc: 0.910843\n",
      "[30]\tvalid_0's auc: 0.912542\tvalid_1's auc: 0.911129\n",
      "[31]\tvalid_0's auc: 0.912543\tvalid_1's auc: 0.911124\n",
      "[32]\tvalid_0's auc: 0.913087\tvalid_1's auc: 0.911457\n",
      "[33]\tvalid_0's auc: 0.913723\tvalid_1's auc: 0.912084\n",
      "[34]\tvalid_0's auc: 0.913857\tvalid_1's auc: 0.91217\n",
      "[35]\tvalid_0's auc: 0.914022\tvalid_1's auc: 0.912187\n",
      "[36]\tvalid_0's auc: 0.914858\tvalid_1's auc: 0.912814\n",
      "[37]\tvalid_0's auc: 0.91517\tvalid_1's auc: 0.913096\n",
      "[38]\tvalid_0's auc: 0.915417\tvalid_1's auc: 0.913347\n",
      "[39]\tvalid_0's auc: 0.915458\tvalid_1's auc: 0.913414\n",
      "[40]\tvalid_0's auc: 0.915586\tvalid_1's auc: 0.913513\n",
      "[41]\tvalid_0's auc: 0.915753\tvalid_1's auc: 0.913696\n",
      "[42]\tvalid_0's auc: 0.916338\tvalid_1's auc: 0.914077\n",
      "[43]\tvalid_0's auc: 0.916332\tvalid_1's auc: 0.914045\n",
      "[44]\tvalid_0's auc: 0.916366\tvalid_1's auc: 0.914054\n",
      "[45]\tvalid_0's auc: 0.916486\tvalid_1's auc: 0.914163\n",
      "[46]\tvalid_0's auc: 0.916517\tvalid_1's auc: 0.914236\n",
      "[47]\tvalid_0's auc: 0.916472\tvalid_1's auc: 0.914189\n",
      "[48]\tvalid_0's auc: 0.916502\tvalid_1's auc: 0.91419\n",
      "[49]\tvalid_0's auc: 0.916824\tvalid_1's auc: 0.914401\n",
      "[50]\tvalid_0's auc: 0.916897\tvalid_1's auc: 0.914503\n",
      "[51]\tvalid_0's auc: 0.917008\tvalid_1's auc: 0.914549\n",
      "[52]\tvalid_0's auc: 0.917389\tvalid_1's auc: 0.914898\n",
      "[53]\tvalid_0's auc: 0.917737\tvalid_1's auc: 0.915165\n",
      "[54]\tvalid_0's auc: 0.91796\tvalid_1's auc: 0.915376\n",
      "[55]\tvalid_0's auc: 0.918155\tvalid_1's auc: 0.915542\n",
      "[56]\tvalid_0's auc: 0.918533\tvalid_1's auc: 0.915868\n",
      "[57]\tvalid_0's auc: 0.918701\tvalid_1's auc: 0.916067\n",
      "[58]\tvalid_0's auc: 0.918803\tvalid_1's auc: 0.91617\n",
      "[59]\tvalid_0's auc: 0.918939\tvalid_1's auc: 0.916177\n",
      "[60]\tvalid_0's auc: 0.919071\tvalid_1's auc: 0.916295\n",
      "[61]\tvalid_0's auc: 0.919145\tvalid_1's auc: 0.916354\n",
      "[62]\tvalid_0's auc: 0.919396\tvalid_1's auc: 0.916703\n",
      "[63]\tvalid_0's auc: 0.919523\tvalid_1's auc: 0.916807\n",
      "[64]\tvalid_0's auc: 0.919704\tvalid_1's auc: 0.916965\n",
      "[65]\tvalid_0's auc: 0.919852\tvalid_1's auc: 0.91708\n",
      "[66]\tvalid_0's auc: 0.920002\tvalid_1's auc: 0.917168\n",
      "[67]\tvalid_0's auc: 0.920209\tvalid_1's auc: 0.917321\n",
      "[68]\tvalid_0's auc: 0.920551\tvalid_1's auc: 0.917566\n",
      "[69]\tvalid_0's auc: 0.920747\tvalid_1's auc: 0.917696\n",
      "[70]\tvalid_0's auc: 0.921058\tvalid_1's auc: 0.917925\n",
      "[71]\tvalid_0's auc: 0.921227\tvalid_1's auc: 0.918001\n",
      "[72]\tvalid_0's auc: 0.921418\tvalid_1's auc: 0.918116\n",
      "[73]\tvalid_0's auc: 0.921542\tvalid_1's auc: 0.918169\n",
      "[74]\tvalid_0's auc: 0.921794\tvalid_1's auc: 0.918305\n",
      "[75]\tvalid_0's auc: 0.921921\tvalid_1's auc: 0.918362\n",
      "[76]\tvalid_0's auc: 0.922185\tvalid_1's auc: 0.918571\n",
      "[77]\tvalid_0's auc: 0.922366\tvalid_1's auc: 0.918735\n",
      "[78]\tvalid_0's auc: 0.9225\tvalid_1's auc: 0.918836\n",
      "[79]\tvalid_0's auc: 0.922769\tvalid_1's auc: 0.919023\n",
      "[80]\tvalid_0's auc: 0.922867\tvalid_1's auc: 0.919116\n",
      "[81]\tvalid_0's auc: 0.923159\tvalid_1's auc: 0.919428\n",
      "[82]\tvalid_0's auc: 0.923398\tvalid_1's auc: 0.91968\n",
      "[83]\tvalid_0's auc: 0.923498\tvalid_1's auc: 0.919685\n",
      "[84]\tvalid_0's auc: 0.923703\tvalid_1's auc: 0.91988\n",
      "[85]\tvalid_0's auc: 0.923968\tvalid_1's auc: 0.920113\n",
      "[86]\tvalid_0's auc: 0.924125\tvalid_1's auc: 0.920236\n",
      "[87]\tvalid_0's auc: 0.92425\tvalid_1's auc: 0.920314\n",
      "[88]\tvalid_0's auc: 0.924501\tvalid_1's auc: 0.9205\n",
      "[89]\tvalid_0's auc: 0.924645\tvalid_1's auc: 0.920546\n",
      "[90]\tvalid_0's auc: 0.924845\tvalid_1's auc: 0.920672\n",
      "[91]\tvalid_0's auc: 0.924977\tvalid_1's auc: 0.920704\n",
      "[92]\tvalid_0's auc: 0.925107\tvalid_1's auc: 0.920755\n",
      "[93]\tvalid_0's auc: 0.925306\tvalid_1's auc: 0.920865\n",
      "[94]\tvalid_0's auc: 0.925431\tvalid_1's auc: 0.92094\n",
      "[95]\tvalid_0's auc: 0.925592\tvalid_1's auc: 0.921027\n",
      "[96]\tvalid_0's auc: 0.925693\tvalid_1's auc: 0.921038\n",
      "[97]\tvalid_0's auc: 0.925923\tvalid_1's auc: 0.921202\n",
      "[98]\tvalid_0's auc: 0.92606\tvalid_1's auc: 0.921291\n",
      "[99]\tvalid_0's auc: 0.9263\tvalid_1's auc: 0.921467\n",
      "[100]\tvalid_0's auc: 0.926439\tvalid_1's auc: 0.921561\n",
      "[101]\tvalid_0's auc: 0.926598\tvalid_1's auc: 0.921589\n",
      "[102]\tvalid_0's auc: 0.926738\tvalid_1's auc: 0.921678\n",
      "[103]\tvalid_0's auc: 0.926919\tvalid_1's auc: 0.921736\n",
      "[104]\tvalid_0's auc: 0.927069\tvalid_1's auc: 0.921847\n",
      "[105]\tvalid_0's auc: 0.927227\tvalid_1's auc: 0.922008\n",
      "[106]\tvalid_0's auc: 0.927302\tvalid_1's auc: 0.922043\n",
      "[107]\tvalid_0's auc: 0.927504\tvalid_1's auc: 0.922193\n",
      "[108]\tvalid_0's auc: 0.927626\tvalid_1's auc: 0.922359\n",
      "[109]\tvalid_0's auc: 0.92774\tvalid_1's auc: 0.922429\n",
      "[110]\tvalid_0's auc: 0.927966\tvalid_1's auc: 0.922597\n",
      "[111]\tvalid_0's auc: 0.928185\tvalid_1's auc: 0.922783\n",
      "[112]\tvalid_0's auc: 0.928396\tvalid_1's auc: 0.922953\n",
      "[113]\tvalid_0's auc: 0.928645\tvalid_1's auc: 0.923087\n",
      "[114]\tvalid_0's auc: 0.92881\tvalid_1's auc: 0.923208\n",
      "[115]\tvalid_0's auc: 0.928971\tvalid_1's auc: 0.923282\n",
      "[116]\tvalid_0's auc: 0.929152\tvalid_1's auc: 0.923417\n",
      "[117]\tvalid_0's auc: 0.929328\tvalid_1's auc: 0.923529\n",
      "[118]\tvalid_0's auc: 0.929464\tvalid_1's auc: 0.923615\n",
      "[119]\tvalid_0's auc: 0.929568\tvalid_1's auc: 0.923668\n",
      "[120]\tvalid_0's auc: 0.929684\tvalid_1's auc: 0.923725\n",
      "[121]\tvalid_0's auc: 0.929812\tvalid_1's auc: 0.92379\n",
      "[122]\tvalid_0's auc: 0.929921\tvalid_1's auc: 0.923908\n",
      "[123]\tvalid_0's auc: 0.930036\tvalid_1's auc: 0.923959\n",
      "[124]\tvalid_0's auc: 0.930166\tvalid_1's auc: 0.924062\n",
      "[125]\tvalid_0's auc: 0.930283\tvalid_1's auc: 0.924133\n",
      "[126]\tvalid_0's auc: 0.930376\tvalid_1's auc: 0.924198\n",
      "[127]\tvalid_0's auc: 0.930471\tvalid_1's auc: 0.924237\n",
      "[128]\tvalid_0's auc: 0.93055\tvalid_1's auc: 0.924273\n",
      "[129]\tvalid_0's auc: 0.930723\tvalid_1's auc: 0.924364\n",
      "[130]\tvalid_0's auc: 0.930807\tvalid_1's auc: 0.924401\n",
      "[131]\tvalid_0's auc: 0.930989\tvalid_1's auc: 0.924508\n",
      "[132]\tvalid_0's auc: 0.931179\tvalid_1's auc: 0.924635\n",
      "[133]\tvalid_0's auc: 0.931369\tvalid_1's auc: 0.924737\n",
      "[134]\tvalid_0's auc: 0.931503\tvalid_1's auc: 0.924828\n",
      "[135]\tvalid_0's auc: 0.931611\tvalid_1's auc: 0.924909\n",
      "[136]\tvalid_0's auc: 0.931747\tvalid_1's auc: 0.925028\n",
      "[137]\tvalid_0's auc: 0.931891\tvalid_1's auc: 0.925142\n",
      "[138]\tvalid_0's auc: 0.931957\tvalid_1's auc: 0.925185\n",
      "[139]\tvalid_0's auc: 0.932094\tvalid_1's auc: 0.925278\n",
      "[140]\tvalid_0's auc: 0.932232\tvalid_1's auc: 0.925401\n",
      "[141]\tvalid_0's auc: 0.932305\tvalid_1's auc: 0.925421\n",
      "[142]\tvalid_0's auc: 0.932451\tvalid_1's auc: 0.925516\n",
      "[143]\tvalid_0's auc: 0.932539\tvalid_1's auc: 0.925575\n",
      "[144]\tvalid_0's auc: 0.932682\tvalid_1's auc: 0.925604\n",
      "[145]\tvalid_0's auc: 0.932801\tvalid_1's auc: 0.925697\n",
      "[146]\tvalid_0's auc: 0.932902\tvalid_1's auc: 0.92573\n",
      "[147]\tvalid_0's auc: 0.932976\tvalid_1's auc: 0.92577\n",
      "[148]\tvalid_0's auc: 0.933062\tvalid_1's auc: 0.925813\n",
      "[149]\tvalid_0's auc: 0.933138\tvalid_1's auc: 0.92586\n",
      "[150]\tvalid_0's auc: 0.933242\tvalid_1's auc: 0.925939\n",
      "[151]\tvalid_0's auc: 0.933349\tvalid_1's auc: 0.926033\n",
      "[152]\tvalid_0's auc: 0.933502\tvalid_1's auc: 0.92611\n",
      "[153]\tvalid_0's auc: 0.933596\tvalid_1's auc: 0.926186\n",
      "[154]\tvalid_0's auc: 0.933683\tvalid_1's auc: 0.926242\n",
      "[155]\tvalid_0's auc: 0.933788\tvalid_1's auc: 0.926294\n",
      "[156]\tvalid_0's auc: 0.933867\tvalid_1's auc: 0.926351\n",
      "[157]\tvalid_0's auc: 0.933974\tvalid_1's auc: 0.926431\n",
      "[158]\tvalid_0's auc: 0.934096\tvalid_1's auc: 0.926526\n",
      "[159]\tvalid_0's auc: 0.934197\tvalid_1's auc: 0.926605\n",
      "[160]\tvalid_0's auc: 0.934279\tvalid_1's auc: 0.92665\n",
      "[161]\tvalid_0's auc: 0.934364\tvalid_1's auc: 0.926708\n",
      "[162]\tvalid_0's auc: 0.934481\tvalid_1's auc: 0.926804\n",
      "[163]\tvalid_0's auc: 0.934576\tvalid_1's auc: 0.926864\n",
      "[164]\tvalid_0's auc: 0.93467\tvalid_1's auc: 0.926919\n",
      "[165]\tvalid_0's auc: 0.934756\tvalid_1's auc: 0.926979\n",
      "[166]\tvalid_0's auc: 0.934852\tvalid_1's auc: 0.926998\n",
      "[167]\tvalid_0's auc: 0.934944\tvalid_1's auc: 0.92702\n",
      "[168]\tvalid_0's auc: 0.935053\tvalid_1's auc: 0.927113\n",
      "[169]\tvalid_0's auc: 0.935161\tvalid_1's auc: 0.927138\n",
      "[170]\tvalid_0's auc: 0.935252\tvalid_1's auc: 0.927174\n",
      "[171]\tvalid_0's auc: 0.935372\tvalid_1's auc: 0.927295\n",
      "[172]\tvalid_0's auc: 0.935449\tvalid_1's auc: 0.927287\n",
      "[173]\tvalid_0's auc: 0.935579\tvalid_1's auc: 0.927364\n",
      "[174]\tvalid_0's auc: 0.935699\tvalid_1's auc: 0.927444\n",
      "[175]\tvalid_0's auc: 0.935798\tvalid_1's auc: 0.927495\n",
      "[176]\tvalid_0's auc: 0.935879\tvalid_1's auc: 0.927566\n",
      "[177]\tvalid_0's auc: 0.936007\tvalid_1's auc: 0.927657\n",
      "[178]\tvalid_0's auc: 0.936099\tvalid_1's auc: 0.927698\n",
      "[179]\tvalid_0's auc: 0.936177\tvalid_1's auc: 0.927747\n",
      "[180]\tvalid_0's auc: 0.93625\tvalid_1's auc: 0.927796\n",
      "[181]\tvalid_0's auc: 0.936343\tvalid_1's auc: 0.927848\n",
      "[182]\tvalid_0's auc: 0.93642\tvalid_1's auc: 0.927875\n",
      "[183]\tvalid_0's auc: 0.936525\tvalid_1's auc: 0.927971\n",
      "[184]\tvalid_0's auc: 0.936659\tvalid_1's auc: 0.928082\n",
      "[185]\tvalid_0's auc: 0.936763\tvalid_1's auc: 0.928136\n",
      "[186]\tvalid_0's auc: 0.93684\tvalid_1's auc: 0.928188\n",
      "[187]\tvalid_0's auc: 0.936918\tvalid_1's auc: 0.928237\n",
      "[188]\tvalid_0's auc: 0.936982\tvalid_1's auc: 0.928251\n",
      "[189]\tvalid_0's auc: 0.937093\tvalid_1's auc: 0.928304\n",
      "[190]\tvalid_0's auc: 0.93715\tvalid_1's auc: 0.928319\n",
      "[191]\tvalid_0's auc: 0.937241\tvalid_1's auc: 0.928381\n",
      "[192]\tvalid_0's auc: 0.937303\tvalid_1's auc: 0.928413\n",
      "[193]\tvalid_0's auc: 0.937351\tvalid_1's auc: 0.928449\n",
      "[194]\tvalid_0's auc: 0.937419\tvalid_1's auc: 0.928486\n",
      "[195]\tvalid_0's auc: 0.937491\tvalid_1's auc: 0.928525\n",
      "[196]\tvalid_0's auc: 0.937602\tvalid_1's auc: 0.928573\n",
      "[197]\tvalid_0's auc: 0.937692\tvalid_1's auc: 0.928649\n",
      "[198]\tvalid_0's auc: 0.937749\tvalid_1's auc: 0.928675\n",
      "[199]\tvalid_0's auc: 0.93783\tvalid_1's auc: 0.928716\n",
      "[200]\tvalid_0's auc: 0.937911\tvalid_1's auc: 0.928736\n",
      "[201]\tvalid_0's auc: 0.937963\tvalid_1's auc: 0.928762\n",
      "[202]\tvalid_0's auc: 0.938009\tvalid_1's auc: 0.928785\n",
      "[203]\tvalid_0's auc: 0.93807\tvalid_1's auc: 0.928845\n",
      "[204]\tvalid_0's auc: 0.938126\tvalid_1's auc: 0.928882\n",
      "[205]\tvalid_0's auc: 0.938171\tvalid_1's auc: 0.928894\n",
      "[206]\tvalid_0's auc: 0.938216\tvalid_1's auc: 0.92893\n",
      "[207]\tvalid_0's auc: 0.938269\tvalid_1's auc: 0.928948\n",
      "[208]\tvalid_0's auc: 0.938354\tvalid_1's auc: 0.928964\n",
      "[209]\tvalid_0's auc: 0.93839\tvalid_1's auc: 0.928986\n",
      "[210]\tvalid_0's auc: 0.938478\tvalid_1's auc: 0.929016\n",
      "[211]\tvalid_0's auc: 0.938556\tvalid_1's auc: 0.929049\n",
      "[212]\tvalid_0's auc: 0.938674\tvalid_1's auc: 0.929063\n",
      "[213]\tvalid_0's auc: 0.938771\tvalid_1's auc: 0.92912\n",
      "[214]\tvalid_0's auc: 0.938834\tvalid_1's auc: 0.929142\n",
      "[215]\tvalid_0's auc: 0.938909\tvalid_1's auc: 0.929173\n",
      "[216]\tvalid_0's auc: 0.939009\tvalid_1's auc: 0.929212\n",
      "[217]\tvalid_0's auc: 0.93906\tvalid_1's auc: 0.929254\n",
      "[218]\tvalid_0's auc: 0.939115\tvalid_1's auc: 0.929246\n",
      "[219]\tvalid_0's auc: 0.939192\tvalid_1's auc: 0.929245\n",
      "[220]\tvalid_0's auc: 0.939275\tvalid_1's auc: 0.929298\n",
      "[221]\tvalid_0's auc: 0.939359\tvalid_1's auc: 0.929323\n",
      "[222]\tvalid_0's auc: 0.939425\tvalid_1's auc: 0.929338\n",
      "[223]\tvalid_0's auc: 0.939505\tvalid_1's auc: 0.929385\n",
      "[224]\tvalid_0's auc: 0.939573\tvalid_1's auc: 0.929417\n",
      "[225]\tvalid_0's auc: 0.939654\tvalid_1's auc: 0.92943\n",
      "[226]\tvalid_0's auc: 0.939727\tvalid_1's auc: 0.929458\n",
      "[227]\tvalid_0's auc: 0.939796\tvalid_1's auc: 0.929473\n",
      "[228]\tvalid_0's auc: 0.939829\tvalid_1's auc: 0.929474\n",
      "[229]\tvalid_0's auc: 0.939888\tvalid_1's auc: 0.929458\n",
      "[230]\tvalid_0's auc: 0.939918\tvalid_1's auc: 0.929445\n",
      "[231]\tvalid_0's auc: 0.939973\tvalid_1's auc: 0.929475\n",
      "[232]\tvalid_0's auc: 0.940048\tvalid_1's auc: 0.929517\n",
      "[233]\tvalid_0's auc: 0.940086\tvalid_1's auc: 0.929539\n",
      "[234]\tvalid_0's auc: 0.940123\tvalid_1's auc: 0.929547\n",
      "[235]\tvalid_0's auc: 0.940177\tvalid_1's auc: 0.929603\n",
      "[236]\tvalid_0's auc: 0.940224\tvalid_1's auc: 0.92964\n",
      "[237]\tvalid_0's auc: 0.940325\tvalid_1's auc: 0.929664\n",
      "[238]\tvalid_0's auc: 0.940388\tvalid_1's auc: 0.929698\n",
      "[239]\tvalid_0's auc: 0.940465\tvalid_1's auc: 0.929764\n",
      "[240]\tvalid_0's auc: 0.940508\tvalid_1's auc: 0.929802\n",
      "[241]\tvalid_0's auc: 0.940577\tvalid_1's auc: 0.929799\n",
      "[242]\tvalid_0's auc: 0.940632\tvalid_1's auc: 0.929818\n",
      "[243]\tvalid_0's auc: 0.940678\tvalid_1's auc: 0.929822\n",
      "[244]\tvalid_0's auc: 0.940722\tvalid_1's auc: 0.929842\n",
      "[245]\tvalid_0's auc: 0.940763\tvalid_1's auc: 0.929856\n",
      "[246]\tvalid_0's auc: 0.940803\tvalid_1's auc: 0.929851\n",
      "[247]\tvalid_0's auc: 0.940847\tvalid_1's auc: 0.92985\n",
      "[248]\tvalid_0's auc: 0.940892\tvalid_1's auc: 0.929858\n",
      "[249]\tvalid_0's auc: 0.940942\tvalid_1's auc: 0.929883\n",
      "[250]\tvalid_0's auc: 0.940983\tvalid_1's auc: 0.929903\n",
      "[251]\tvalid_0's auc: 0.941051\tvalid_1's auc: 0.929939\n",
      "[252]\tvalid_0's auc: 0.941129\tvalid_1's auc: 0.929983\n",
      "[253]\tvalid_0's auc: 0.941213\tvalid_1's auc: 0.930048\n",
      "[254]\tvalid_0's auc: 0.941305\tvalid_1's auc: 0.930131\n",
      "[255]\tvalid_0's auc: 0.941354\tvalid_1's auc: 0.93015\n",
      "[256]\tvalid_0's auc: 0.941412\tvalid_1's auc: 0.93017\n",
      "[257]\tvalid_0's auc: 0.941478\tvalid_1's auc: 0.930209\n",
      "[258]\tvalid_0's auc: 0.941518\tvalid_1's auc: 0.930225\n",
      "[259]\tvalid_0's auc: 0.941567\tvalid_1's auc: 0.930267\n",
      "[260]\tvalid_0's auc: 0.941655\tvalid_1's auc: 0.930324\n",
      "[261]\tvalid_0's auc: 0.941712\tvalid_1's auc: 0.930356\n",
      "[262]\tvalid_0's auc: 0.941795\tvalid_1's auc: 0.930349\n",
      "[263]\tvalid_0's auc: 0.941871\tvalid_1's auc: 0.930406\n",
      "[264]\tvalid_0's auc: 0.941908\tvalid_1's auc: 0.930426\n",
      "[265]\tvalid_0's auc: 0.941972\tvalid_1's auc: 0.930426\n",
      "[266]\tvalid_0's auc: 0.942026\tvalid_1's auc: 0.930438\n",
      "[267]\tvalid_0's auc: 0.94208\tvalid_1's auc: 0.930488\n",
      "[268]\tvalid_0's auc: 0.942133\tvalid_1's auc: 0.930516\n",
      "[269]\tvalid_0's auc: 0.942167\tvalid_1's auc: 0.930544\n",
      "[270]\tvalid_0's auc: 0.942211\tvalid_1's auc: 0.930551\n",
      "[271]\tvalid_0's auc: 0.942254\tvalid_1's auc: 0.930562\n",
      "[272]\tvalid_0's auc: 0.942294\tvalid_1's auc: 0.930561\n",
      "[273]\tvalid_0's auc: 0.942343\tvalid_1's auc: 0.930543\n",
      "[274]\tvalid_0's auc: 0.942391\tvalid_1's auc: 0.930561\n",
      "[275]\tvalid_0's auc: 0.942447\tvalid_1's auc: 0.930552\n",
      "[276]\tvalid_0's auc: 0.942513\tvalid_1's auc: 0.930559\n",
      "[277]\tvalid_0's auc: 0.942557\tvalid_1's auc: 0.930554\n",
      "[278]\tvalid_0's auc: 0.942607\tvalid_1's auc: 0.930551\n",
      "[279]\tvalid_0's auc: 0.942654\tvalid_1's auc: 0.930567\n",
      "[280]\tvalid_0's auc: 0.942716\tvalid_1's auc: 0.930597\n",
      "[281]\tvalid_0's auc: 0.942755\tvalid_1's auc: 0.93061\n",
      "[282]\tvalid_0's auc: 0.942789\tvalid_1's auc: 0.930635\n",
      "[283]\tvalid_0's auc: 0.942855\tvalid_1's auc: 0.930662\n",
      "[284]\tvalid_0's auc: 0.942893\tvalid_1's auc: 0.930662\n",
      "[285]\tvalid_0's auc: 0.942933\tvalid_1's auc: 0.930655\n",
      "[286]\tvalid_0's auc: 0.942985\tvalid_1's auc: 0.930654\n",
      "[287]\tvalid_0's auc: 0.943011\tvalid_1's auc: 0.930674\n",
      "[288]\tvalid_0's auc: 0.943055\tvalid_1's auc: 0.930689\n",
      "[289]\tvalid_0's auc: 0.94309\tvalid_1's auc: 0.930688\n",
      "[290]\tvalid_0's auc: 0.943121\tvalid_1's auc: 0.930689\n",
      "[291]\tvalid_0's auc: 0.943174\tvalid_1's auc: 0.93071\n",
      "[292]\tvalid_0's auc: 0.943219\tvalid_1's auc: 0.930736\n",
      "[293]\tvalid_0's auc: 0.943287\tvalid_1's auc: 0.930755\n",
      "[294]\tvalid_0's auc: 0.943338\tvalid_1's auc: 0.930761\n",
      "[295]\tvalid_0's auc: 0.943397\tvalid_1's auc: 0.930764\n",
      "[296]\tvalid_0's auc: 0.943433\tvalid_1's auc: 0.930771\n",
      "[297]\tvalid_0's auc: 0.943449\tvalid_1's auc: 0.930776\n",
      "[298]\tvalid_0's auc: 0.943481\tvalid_1's auc: 0.930792\n",
      "[299]\tvalid_0's auc: 0.943512\tvalid_1's auc: 0.930794\n",
      "[300]\tvalid_0's auc: 0.943533\tvalid_1's auc: 0.930804\n",
      "[301]\tvalid_0's auc: 0.943587\tvalid_1's auc: 0.930825\n",
      "[302]\tvalid_0's auc: 0.943657\tvalid_1's auc: 0.930869\n",
      "[303]\tvalid_0's auc: 0.943739\tvalid_1's auc: 0.930877\n",
      "[304]\tvalid_0's auc: 0.943787\tvalid_1's auc: 0.930882\n",
      "[305]\tvalid_0's auc: 0.94382\tvalid_1's auc: 0.930891\n",
      "[306]\tvalid_0's auc: 0.943881\tvalid_1's auc: 0.930902\n",
      "[307]\tvalid_0's auc: 0.943936\tvalid_1's auc: 0.930914\n",
      "[308]\tvalid_0's auc: 0.944001\tvalid_1's auc: 0.930942\n",
      "[309]\tvalid_0's auc: 0.944057\tvalid_1's auc: 0.93095\n",
      "[310]\tvalid_0's auc: 0.944102\tvalid_1's auc: 0.930975\n",
      "[311]\tvalid_0's auc: 0.944163\tvalid_1's auc: 0.93101\n",
      "[312]\tvalid_0's auc: 0.944219\tvalid_1's auc: 0.931043\n",
      "[313]\tvalid_0's auc: 0.944264\tvalid_1's auc: 0.931074\n",
      "[314]\tvalid_0's auc: 0.944291\tvalid_1's auc: 0.931097\n",
      "[315]\tvalid_0's auc: 0.944326\tvalid_1's auc: 0.9311\n",
      "[316]\tvalid_0's auc: 0.944393\tvalid_1's auc: 0.931138\n",
      "[317]\tvalid_0's auc: 0.944445\tvalid_1's auc: 0.931164\n",
      "[318]\tvalid_0's auc: 0.944485\tvalid_1's auc: 0.931172\n",
      "[319]\tvalid_0's auc: 0.944509\tvalid_1's auc: 0.931206\n",
      "[320]\tvalid_0's auc: 0.944585\tvalid_1's auc: 0.931225\n",
      "[321]\tvalid_0's auc: 0.94463\tvalid_1's auc: 0.931235\n",
      "[322]\tvalid_0's auc: 0.944672\tvalid_1's auc: 0.931253\n",
      "[323]\tvalid_0's auc: 0.944734\tvalid_1's auc: 0.931274\n",
      "[324]\tvalid_0's auc: 0.944785\tvalid_1's auc: 0.931302\n",
      "[325]\tvalid_0's auc: 0.944831\tvalid_1's auc: 0.931328\n",
      "[326]\tvalid_0's auc: 0.944861\tvalid_1's auc: 0.931344\n",
      "[327]\tvalid_0's auc: 0.94491\tvalid_1's auc: 0.931349\n",
      "[328]\tvalid_0's auc: 0.944958\tvalid_1's auc: 0.931361\n",
      "[329]\tvalid_0's auc: 0.945004\tvalid_1's auc: 0.931359\n",
      "[330]\tvalid_0's auc: 0.945043\tvalid_1's auc: 0.931365\n",
      "[331]\tvalid_0's auc: 0.94508\tvalid_1's auc: 0.931376\n",
      "[332]\tvalid_0's auc: 0.945119\tvalid_1's auc: 0.93138\n",
      "[333]\tvalid_0's auc: 0.945156\tvalid_1's auc: 0.931375\n",
      "[334]\tvalid_0's auc: 0.94519\tvalid_1's auc: 0.931393\n",
      "[335]\tvalid_0's auc: 0.945225\tvalid_1's auc: 0.931388\n",
      "[336]\tvalid_0's auc: 0.945239\tvalid_1's auc: 0.931385\n",
      "[337]\tvalid_0's auc: 0.945294\tvalid_1's auc: 0.931428\n",
      "[338]\tvalid_0's auc: 0.945319\tvalid_1's auc: 0.931425\n",
      "[339]\tvalid_0's auc: 0.94536\tvalid_1's auc: 0.931452\n",
      "[340]\tvalid_0's auc: 0.945384\tvalid_1's auc: 0.931453\n",
      "[341]\tvalid_0's auc: 0.945399\tvalid_1's auc: 0.931459\n",
      "[342]\tvalid_0's auc: 0.94542\tvalid_1's auc: 0.931464\n",
      "[343]\tvalid_0's auc: 0.945454\tvalid_1's auc: 0.931459\n",
      "[344]\tvalid_0's auc: 0.945516\tvalid_1's auc: 0.931472\n",
      "[345]\tvalid_0's auc: 0.945568\tvalid_1's auc: 0.931505\n",
      "[346]\tvalid_0's auc: 0.945609\tvalid_1's auc: 0.931508\n",
      "[347]\tvalid_0's auc: 0.945639\tvalid_1's auc: 0.931521\n",
      "[348]\tvalid_0's auc: 0.945706\tvalid_1's auc: 0.931512\n",
      "[349]\tvalid_0's auc: 0.945748\tvalid_1's auc: 0.93152\n",
      "[350]\tvalid_0's auc: 0.945783\tvalid_1's auc: 0.931509\n",
      "[351]\tvalid_0's auc: 0.945796\tvalid_1's auc: 0.93153\n",
      "[352]\tvalid_0's auc: 0.945817\tvalid_1's auc: 0.931545\n",
      "[353]\tvalid_0's auc: 0.94585\tvalid_1's auc: 0.931558\n",
      "[354]\tvalid_0's auc: 0.945877\tvalid_1's auc: 0.931536\n",
      "[355]\tvalid_0's auc: 0.945893\tvalid_1's auc: 0.931543\n",
      "[356]\tvalid_0's auc: 0.945926\tvalid_1's auc: 0.931551\n",
      "[357]\tvalid_0's auc: 0.945936\tvalid_1's auc: 0.931543\n",
      "[358]\tvalid_0's auc: 0.945964\tvalid_1's auc: 0.931558\n",
      "[359]\tvalid_0's auc: 0.946012\tvalid_1's auc: 0.931549\n",
      "[360]\tvalid_0's auc: 0.946033\tvalid_1's auc: 0.931549\n",
      "[361]\tvalid_0's auc: 0.946078\tvalid_1's auc: 0.931545\n",
      "[362]\tvalid_0's auc: 0.946127\tvalid_1's auc: 0.931539\n",
      "[363]\tvalid_0's auc: 0.946196\tvalid_1's auc: 0.931554\n",
      "[364]\tvalid_0's auc: 0.946251\tvalid_1's auc: 0.931558\n",
      "[365]\tvalid_0's auc: 0.946278\tvalid_1's auc: 0.931544\n",
      "[366]\tvalid_0's auc: 0.946355\tvalid_1's auc: 0.931576\n",
      "[367]\tvalid_0's auc: 0.946433\tvalid_1's auc: 0.93159\n",
      "[368]\tvalid_0's auc: 0.946468\tvalid_1's auc: 0.931609\n",
      "[369]\tvalid_0's auc: 0.946505\tvalid_1's auc: 0.931628\n",
      "[370]\tvalid_0's auc: 0.946541\tvalid_1's auc: 0.93163\n",
      "[371]\tvalid_0's auc: 0.94658\tvalid_1's auc: 0.931637\n",
      "[372]\tvalid_0's auc: 0.946647\tvalid_1's auc: 0.931661\n",
      "[373]\tvalid_0's auc: 0.946673\tvalid_1's auc: 0.93167\n",
      "[374]\tvalid_0's auc: 0.946711\tvalid_1's auc: 0.93168\n",
      "[375]\tvalid_0's auc: 0.946755\tvalid_1's auc: 0.931693\n",
      "[376]\tvalid_0's auc: 0.946776\tvalid_1's auc: 0.93169\n",
      "[377]\tvalid_0's auc: 0.946806\tvalid_1's auc: 0.931719\n",
      "[378]\tvalid_0's auc: 0.946837\tvalid_1's auc: 0.931724\n",
      "[379]\tvalid_0's auc: 0.94686\tvalid_1's auc: 0.931729\n",
      "[380]\tvalid_0's auc: 0.946887\tvalid_1's auc: 0.931729\n",
      "[381]\tvalid_0's auc: 0.946917\tvalid_1's auc: 0.931747\n",
      "[382]\tvalid_0's auc: 0.946953\tvalid_1's auc: 0.931733\n",
      "[383]\tvalid_0's auc: 0.94698\tvalid_1's auc: 0.931723\n",
      "[384]\tvalid_0's auc: 0.947016\tvalid_1's auc: 0.93172\n",
      "[385]\tvalid_0's auc: 0.947045\tvalid_1's auc: 0.931726\n",
      "[386]\tvalid_0's auc: 0.947067\tvalid_1's auc: 0.93173\n",
      "[387]\tvalid_0's auc: 0.947099\tvalid_1's auc: 0.931718\n",
      "[388]\tvalid_0's auc: 0.947119\tvalid_1's auc: 0.931712\n",
      "[389]\tvalid_0's auc: 0.947166\tvalid_1's auc: 0.931729\n",
      "[390]\tvalid_0's auc: 0.94723\tvalid_1's auc: 0.931738\n",
      "[391]\tvalid_0's auc: 0.947284\tvalid_1's auc: 0.931728\n",
      "[392]\tvalid_0's auc: 0.947333\tvalid_1's auc: 0.931761\n",
      "[393]\tvalid_0's auc: 0.947363\tvalid_1's auc: 0.931778\n",
      "[394]\tvalid_0's auc: 0.947415\tvalid_1's auc: 0.931812\n",
      "[395]\tvalid_0's auc: 0.947455\tvalid_1's auc: 0.931801\n",
      "[396]\tvalid_0's auc: 0.947465\tvalid_1's auc: 0.931804\n",
      "[397]\tvalid_0's auc: 0.947498\tvalid_1's auc: 0.931805\n",
      "[398]\tvalid_0's auc: 0.947534\tvalid_1's auc: 0.931808\n",
      "[399]\tvalid_0's auc: 0.947545\tvalid_1's auc: 0.931818\n",
      "[400]\tvalid_0's auc: 0.947614\tvalid_1's auc: 0.931815\n",
      "[401]\tvalid_0's auc: 0.947641\tvalid_1's auc: 0.931814\n",
      "[402]\tvalid_0's auc: 0.947679\tvalid_1's auc: 0.93181\n",
      "[403]\tvalid_0's auc: 0.947715\tvalid_1's auc: 0.931805\n",
      "[404]\tvalid_0's auc: 0.947743\tvalid_1's auc: 0.931804\n",
      "[405]\tvalid_0's auc: 0.947754\tvalid_1's auc: 0.931808\n",
      "[406]\tvalid_0's auc: 0.947812\tvalid_1's auc: 0.931803\n",
      "[407]\tvalid_0's auc: 0.94784\tvalid_1's auc: 0.931814\n",
      "[408]\tvalid_0's auc: 0.947868\tvalid_1's auc: 0.931811\n",
      "[409]\tvalid_0's auc: 0.9479\tvalid_1's auc: 0.931809\n",
      "[410]\tvalid_0's auc: 0.947931\tvalid_1's auc: 0.931795\n",
      "[411]\tvalid_0's auc: 0.948007\tvalid_1's auc: 0.931841\n",
      "[412]\tvalid_0's auc: 0.948056\tvalid_1's auc: 0.931857\n",
      "[413]\tvalid_0's auc: 0.948118\tvalid_1's auc: 0.931855\n",
      "[414]\tvalid_0's auc: 0.948144\tvalid_1's auc: 0.93184\n",
      "[415]\tvalid_0's auc: 0.948194\tvalid_1's auc: 0.931866\n",
      "[416]\tvalid_0's auc: 0.948234\tvalid_1's auc: 0.931861\n",
      "[417]\tvalid_0's auc: 0.948253\tvalid_1's auc: 0.931853\n",
      "[418]\tvalid_0's auc: 0.94832\tvalid_1's auc: 0.9319\n",
      "[419]\tvalid_0's auc: 0.948344\tvalid_1's auc: 0.931914\n",
      "[420]\tvalid_0's auc: 0.94839\tvalid_1's auc: 0.931917\n",
      "[421]\tvalid_0's auc: 0.948416\tvalid_1's auc: 0.931912\n",
      "[422]\tvalid_0's auc: 0.948433\tvalid_1's auc: 0.931898\n",
      "[423]\tvalid_0's auc: 0.948458\tvalid_1's auc: 0.931904\n",
      "[424]\tvalid_0's auc: 0.948502\tvalid_1's auc: 0.931918\n",
      "[425]\tvalid_0's auc: 0.948532\tvalid_1's auc: 0.931935\n",
      "[426]\tvalid_0's auc: 0.948548\tvalid_1's auc: 0.931926\n",
      "[427]\tvalid_0's auc: 0.948595\tvalid_1's auc: 0.931929\n",
      "[428]\tvalid_0's auc: 0.948636\tvalid_1's auc: 0.931922\n",
      "[429]\tvalid_0's auc: 0.948676\tvalid_1's auc: 0.931933\n",
      "[430]\tvalid_0's auc: 0.948703\tvalid_1's auc: 0.931947\n",
      "[431]\tvalid_0's auc: 0.948763\tvalid_1's auc: 0.931964\n",
      "[432]\tvalid_0's auc: 0.948803\tvalid_1's auc: 0.93196\n",
      "[433]\tvalid_0's auc: 0.948861\tvalid_1's auc: 0.931974\n",
      "[434]\tvalid_0's auc: 0.948887\tvalid_1's auc: 0.931973\n",
      "[435]\tvalid_0's auc: 0.948926\tvalid_1's auc: 0.931971\n",
      "[436]\tvalid_0's auc: 0.948984\tvalid_1's auc: 0.931989\n",
      "[437]\tvalid_0's auc: 0.949005\tvalid_1's auc: 0.931996\n",
      "[438]\tvalid_0's auc: 0.949019\tvalid_1's auc: 0.931999\n",
      "[439]\tvalid_0's auc: 0.949066\tvalid_1's auc: 0.932028\n",
      "[440]\tvalid_0's auc: 0.949096\tvalid_1's auc: 0.932022\n",
      "[441]\tvalid_0's auc: 0.949121\tvalid_1's auc: 0.932023\n",
      "[442]\tvalid_0's auc: 0.949174\tvalid_1's auc: 0.932021\n",
      "[443]\tvalid_0's auc: 0.949217\tvalid_1's auc: 0.932024\n",
      "[444]\tvalid_0's auc: 0.949254\tvalid_1's auc: 0.932029\n",
      "[445]\tvalid_0's auc: 0.949288\tvalid_1's auc: 0.932036\n",
      "[446]\tvalid_0's auc: 0.949316\tvalid_1's auc: 0.932054\n",
      "[447]\tvalid_0's auc: 0.949355\tvalid_1's auc: 0.932052\n",
      "[448]\tvalid_0's auc: 0.949387\tvalid_1's auc: 0.93204\n",
      "[449]\tvalid_0's auc: 0.949427\tvalid_1's auc: 0.932039\n",
      "[450]\tvalid_0's auc: 0.949452\tvalid_1's auc: 0.93203\n",
      "[451]\tvalid_0's auc: 0.949494\tvalid_1's auc: 0.932037\n",
      "[452]\tvalid_0's auc: 0.949533\tvalid_1's auc: 0.932049\n",
      "[453]\tvalid_0's auc: 0.949583\tvalid_1's auc: 0.932063\n",
      "[454]\tvalid_0's auc: 0.949623\tvalid_1's auc: 0.932067\n",
      "[455]\tvalid_0's auc: 0.949658\tvalid_1's auc: 0.932044\n",
      "[456]\tvalid_0's auc: 0.949694\tvalid_1's auc: 0.93206\n",
      "[457]\tvalid_0's auc: 0.949736\tvalid_1's auc: 0.932044\n",
      "[458]\tvalid_0's auc: 0.949761\tvalid_1's auc: 0.932049\n",
      "[459]\tvalid_0's auc: 0.949776\tvalid_1's auc: 0.932053\n",
      "[460]\tvalid_0's auc: 0.949824\tvalid_1's auc: 0.932054\n",
      "[461]\tvalid_0's auc: 0.949848\tvalid_1's auc: 0.93205\n",
      "[462]\tvalid_0's auc: 0.949883\tvalid_1's auc: 0.932052\n",
      "[463]\tvalid_0's auc: 0.949905\tvalid_1's auc: 0.932046\n",
      "[464]\tvalid_0's auc: 0.949935\tvalid_1's auc: 0.932037\n",
      "[465]\tvalid_0's auc: 0.949963\tvalid_1's auc: 0.93204\n",
      "[466]\tvalid_0's auc: 0.95\tvalid_1's auc: 0.932039\n",
      "[467]\tvalid_0's auc: 0.950032\tvalid_1's auc: 0.932045\n",
      "[468]\tvalid_0's auc: 0.950062\tvalid_1's auc: 0.932056\n",
      "[469]\tvalid_0's auc: 0.950083\tvalid_1's auc: 0.932053\n",
      "[470]\tvalid_0's auc: 0.950103\tvalid_1's auc: 0.932047\n",
      "[471]\tvalid_0's auc: 0.950133\tvalid_1's auc: 0.93205\n",
      "[472]\tvalid_0's auc: 0.950161\tvalid_1's auc: 0.932053\n",
      "[473]\tvalid_0's auc: 0.950194\tvalid_1's auc: 0.932056\n",
      "[474]\tvalid_0's auc: 0.950241\tvalid_1's auc: 0.93206\n",
      "[475]\tvalid_0's auc: 0.950268\tvalid_1's auc: 0.932066\n",
      "[476]\tvalid_0's auc: 0.950291\tvalid_1's auc: 0.932069\n",
      "[477]\tvalid_0's auc: 0.95031\tvalid_1's auc: 0.932067\n",
      "[478]\tvalid_0's auc: 0.950338\tvalid_1's auc: 0.932062\n",
      "[479]\tvalid_0's auc: 0.950373\tvalid_1's auc: 0.932053\n",
      "[480]\tvalid_0's auc: 0.950407\tvalid_1's auc: 0.932076\n",
      "[481]\tvalid_0's auc: 0.950459\tvalid_1's auc: 0.932089\n",
      "[482]\tvalid_0's auc: 0.950493\tvalid_1's auc: 0.932088\n",
      "[483]\tvalid_0's auc: 0.950512\tvalid_1's auc: 0.932074\n",
      "[484]\tvalid_0's auc: 0.950543\tvalid_1's auc: 0.932084\n",
      "[485]\tvalid_0's auc: 0.95056\tvalid_1's auc: 0.932077\n",
      "[486]\tvalid_0's auc: 0.950588\tvalid_1's auc: 0.932083\n",
      "[487]\tvalid_0's auc: 0.95063\tvalid_1's auc: 0.932088\n",
      "[488]\tvalid_0's auc: 0.950669\tvalid_1's auc: 0.932104\n",
      "[489]\tvalid_0's auc: 0.950702\tvalid_1's auc: 0.93211\n",
      "[490]\tvalid_0's auc: 0.950727\tvalid_1's auc: 0.932112\n",
      "[491]\tvalid_0's auc: 0.950769\tvalid_1's auc: 0.932115\n",
      "[492]\tvalid_0's auc: 0.950803\tvalid_1's auc: 0.932121\n",
      "[493]\tvalid_0's auc: 0.950819\tvalid_1's auc: 0.932127\n",
      "[494]\tvalid_0's auc: 0.950833\tvalid_1's auc: 0.932137\n",
      "[495]\tvalid_0's auc: 0.950848\tvalid_1's auc: 0.932147\n",
      "[496]\tvalid_0's auc: 0.950907\tvalid_1's auc: 0.93214\n",
      "[497]\tvalid_0's auc: 0.950923\tvalid_1's auc: 0.932139\n",
      "[498]\tvalid_0's auc: 0.950951\tvalid_1's auc: 0.932139\n",
      "[499]\tvalid_0's auc: 0.950992\tvalid_1's auc: 0.932131\n",
      "[500]\tvalid_0's auc: 0.951022\tvalid_1's auc: 0.932139\n",
      "[501]\tvalid_0's auc: 0.951066\tvalid_1's auc: 0.932146\n",
      "[502]\tvalid_0's auc: 0.951097\tvalid_1's auc: 0.932144\n",
      "[503]\tvalid_0's auc: 0.951122\tvalid_1's auc: 0.932146\n",
      "[504]\tvalid_0's auc: 0.951139\tvalid_1's auc: 0.932146\n",
      "[505]\tvalid_0's auc: 0.951175\tvalid_1's auc: 0.932149\n",
      "[506]\tvalid_0's auc: 0.951211\tvalid_1's auc: 0.932156\n",
      "[507]\tvalid_0's auc: 0.951247\tvalid_1's auc: 0.932158\n",
      "[508]\tvalid_0's auc: 0.951296\tvalid_1's auc: 0.932175\n",
      "[509]\tvalid_0's auc: 0.951327\tvalid_1's auc: 0.932178\n",
      "[510]\tvalid_0's auc: 0.951372\tvalid_1's auc: 0.932178\n",
      "[511]\tvalid_0's auc: 0.951389\tvalid_1's auc: 0.932164\n",
      "[512]\tvalid_0's auc: 0.951404\tvalid_1's auc: 0.932156\n",
      "[513]\tvalid_0's auc: 0.951433\tvalid_1's auc: 0.932134\n",
      "[514]\tvalid_0's auc: 0.951454\tvalid_1's auc: 0.932131\n",
      "[515]\tvalid_0's auc: 0.951482\tvalid_1's auc: 0.932119\n",
      "[516]\tvalid_0's auc: 0.951517\tvalid_1's auc: 0.932104\n",
      "[517]\tvalid_0's auc: 0.951534\tvalid_1's auc: 0.932092\n",
      "[518]\tvalid_0's auc: 0.951553\tvalid_1's auc: 0.93208\n",
      "[519]\tvalid_0's auc: 0.951578\tvalid_1's auc: 0.932084\n",
      "[520]\tvalid_0's auc: 0.951595\tvalid_1's auc: 0.932087\n",
      "[521]\tvalid_0's auc: 0.951642\tvalid_1's auc: 0.932099\n",
      "[522]\tvalid_0's auc: 0.951689\tvalid_1's auc: 0.932081\n",
      "[523]\tvalid_0's auc: 0.951717\tvalid_1's auc: 0.932084\n",
      "[524]\tvalid_0's auc: 0.951749\tvalid_1's auc: 0.932089\n",
      "[525]\tvalid_0's auc: 0.951781\tvalid_1's auc: 0.932088\n",
      "[526]\tvalid_0's auc: 0.951824\tvalid_1's auc: 0.932066\n",
      "[527]\tvalid_0's auc: 0.951839\tvalid_1's auc: 0.932066\n",
      "[528]\tvalid_0's auc: 0.951888\tvalid_1's auc: 0.932065\n",
      "[529]\tvalid_0's auc: 0.951933\tvalid_1's auc: 0.932073\n",
      "[530]\tvalid_0's auc: 0.951959\tvalid_1's auc: 0.93208\n",
      "[531]\tvalid_0's auc: 0.951986\tvalid_1's auc: 0.932095\n",
      "[532]\tvalid_0's auc: 0.952012\tvalid_1's auc: 0.932099\n",
      "[533]\tvalid_0's auc: 0.95204\tvalid_1's auc: 0.932114\n",
      "[534]\tvalid_0's auc: 0.952069\tvalid_1's auc: 0.932128\n",
      "[535]\tvalid_0's auc: 0.952091\tvalid_1's auc: 0.93213\n",
      "[536]\tvalid_0's auc: 0.952119\tvalid_1's auc: 0.932134\n",
      "[537]\tvalid_0's auc: 0.952148\tvalid_1's auc: 0.932132\n",
      "[538]\tvalid_0's auc: 0.952166\tvalid_1's auc: 0.932142\n",
      "[539]\tvalid_0's auc: 0.952201\tvalid_1's auc: 0.932145\n",
      "[540]\tvalid_0's auc: 0.952214\tvalid_1's auc: 0.93215\n",
      "[541]\tvalid_0's auc: 0.952251\tvalid_1's auc: 0.932144\n",
      "[542]\tvalid_0's auc: 0.952295\tvalid_1's auc: 0.932144\n",
      "[543]\tvalid_0's auc: 0.952337\tvalid_1's auc: 0.932147\n",
      "[544]\tvalid_0's auc: 0.95236\tvalid_1's auc: 0.932145\n",
      "[545]\tvalid_0's auc: 0.952382\tvalid_1's auc: 0.932142\n",
      "[546]\tvalid_0's auc: 0.952408\tvalid_1's auc: 0.932129\n",
      "[547]\tvalid_0's auc: 0.952434\tvalid_1's auc: 0.932125\n",
      "[548]\tvalid_0's auc: 0.952456\tvalid_1's auc: 0.932126\n",
      "[549]\tvalid_0's auc: 0.952487\tvalid_1's auc: 0.932125\n",
      "[550]\tvalid_0's auc: 0.952518\tvalid_1's auc: 0.932119\n",
      "[551]\tvalid_0's auc: 0.952545\tvalid_1's auc: 0.932102\n",
      "[552]\tvalid_0's auc: 0.952566\tvalid_1's auc: 0.932109\n",
      "[553]\tvalid_0's auc: 0.952605\tvalid_1's auc: 0.93211\n",
      "[554]\tvalid_0's auc: 0.952623\tvalid_1's auc: 0.932105\n",
      "[555]\tvalid_0's auc: 0.952641\tvalid_1's auc: 0.932097\n",
      "[556]\tvalid_0's auc: 0.952686\tvalid_1's auc: 0.932103\n",
      "[557]\tvalid_0's auc: 0.952716\tvalid_1's auc: 0.932109\n",
      "[558]\tvalid_0's auc: 0.952741\tvalid_1's auc: 0.932118\n",
      "[559]\tvalid_0's auc: 0.952771\tvalid_1's auc: 0.932118\n",
      "[560]\tvalid_0's auc: 0.952786\tvalid_1's auc: 0.932123\n",
      "Early stopping, best iteration is:\n",
      "[510]\tvalid_0's auc: 0.951372\tvalid_1's auc: 0.932178\n"
     ]
    },
    {
     "data": {
      "text/plain": [
       "LGBMClassifier(boosting_type='gbdt', colsample_bytree=0.5, learning_rate=0.05,\n",
       "        max_bin=255, max_depth=6, metric='auc', min_child_samples=10,\n",
       "        min_child_weight=1.5, min_split_gain=0, n_estimators=1300,\n",
       "        nthread=4, num_leaves=36, objective='binary', reg_alpha=0,\n",
       "        reg_lambda=0, seed=123456, silent=False, subsample=0.5,\n",
       "        subsample_for_bin=50000, subsample_freq=10)"
      ]
     },
     "execution_count": 20,
     "metadata": {},
     "output_type": "execute_result"
    }
   ],
   "source": [
    "model.fit(\n",
    "    train_f[use_columns],\n",
    "    train_f['orderlabel'],\n",
    "    eval_set=[(train_f[use_columns],\n",
    "    train_f['orderlabel']),\n",
    "             (test_f[use_columns],\n",
    "    test_f['orderlabel'])],\n",
    "    eval_metric='auc',\n",
    "    verbose=True,\n",
    "    early_stopping_rounds=50,\n",
    ")"
   ]
  },
  {
   "cell_type": "code",
   "execution_count": 21,
   "metadata": {
    "collapsed": true
   },
   "outputs": [],
   "source": [
    "pickle.dump(model, open(old_model_path, 'wb'))"
   ]
  },
  {
   "cell_type": "code",
   "execution_count": 22,
   "metadata": {
    "collapsed": true
   },
   "outputs": [],
   "source": [
    "def get_score(model, train_f):\n",
    "    result = model.predict_proba(train_f[use_columns])[:, 1]\n",
    "    train_f['prob'] = result\n",
    "    train_x = train_f[['orderid', 'prob', 'orderlabel']]\n",
    "    train_x.sort_values('prob', ascending=False, inplace=True)\n",
    "    finall_result_x = train_x.drop_duplicates(['orderid'])\n",
    "    train_score = finall_result_x.orderlabel.mean()\n",
    "    print(train_score)\n",
    "    return train_score"
   ]
  },
  {
   "cell_type": "code",
   "execution_count": 23,
   "metadata": {
    "collapsed": false,
    "scrolled": false
   },
   "outputs": [
    {
     "name": "stdout",
     "output_type": "stream",
     "text": [
      "0.472955820333\n"
     ]
    },
    {
     "name": "stderr",
     "output_type": "stream",
     "text": [
      "/home/zhanglun/.pyenv/versions/anaconda3-4.1.0/lib/python3.5/site-packages/ipykernel/__main__.py:5: SettingWithCopyWarning: \n",
      "A value is trying to be set on a copy of a slice from a DataFrame\n",
      "\n",
      "See the caveats in the documentation: http://pandas.pydata.org/pandas-docs/stable/indexing.html#indexing-view-versus-copy\n"
     ]
    }
   ],
   "source": [
    "train_score = get_score(model, train_f)"
   ]
  },
  {
   "cell_type": "code",
   "execution_count": 24,
   "metadata": {
    "collapsed": false
   },
   "outputs": [
    {
     "name": "stdout",
     "output_type": "stream",
     "text": [
      "0.434355023767\n"
     ]
    },
    {
     "name": "stderr",
     "output_type": "stream",
     "text": [
      "/home/zhanglun/.pyenv/versions/anaconda3-4.1.0/lib/python3.5/site-packages/ipykernel/__main__.py:5: SettingWithCopyWarning: \n",
      "A value is trying to be set on a copy of a slice from a DataFrame\n",
      "\n",
      "See the caveats in the documentation: http://pandas.pydata.org/pandas-docs/stable/indexing.html#indexing-view-versus-copy\n"
     ]
    }
   ],
   "source": [
    "test_score = get_score(model, test_f)"
   ]
  },
  {
   "cell_type": "code",
   "execution_count": 25,
   "metadata": {
    "collapsed": false
   },
   "outputs": [
    {
     "data": {
      "text/plain": [
       "0.97425761889942264"
      ]
     },
     "execution_count": 25,
     "metadata": {},
     "output_type": "execute_result"
    }
   ],
   "source": [
    "acu = model.score(test_f[use_columns], test_f['orderlabel'])\n",
    "acu"
   ]
  },
  {
   "cell_type": "code",
   "execution_count": 26,
   "metadata": {
    "collapsed": true
   },
   "outputs": [],
   "source": [
    "# y_predict = model.predict_proba(train_features[use_columns])[:, 1]\n",
    "# fpr, tpr, thresholds  = metrics.roc_curve(train_features['orderlabel'], y_predict, pos_label=1)\n",
    "# auc_score = metrics.auc(fpr, tpr)\n",
    "# auc_score"
   ]
  },
  {
   "cell_type": "code",
   "execution_count": 27,
   "metadata": {
    "collapsed": false
   },
   "outputs": [
    {
     "data": {
      "text/plain": [
       "'models/08-0810-importance.txt'"
      ]
     },
     "execution_count": 27,
     "metadata": {},
     "output_type": "execute_result"
    }
   ],
   "source": [
    "if not exists('models'):\n",
    "    mkdir('models')\n",
    "model_importance_path = join('models', datetime.now().strftime('%d-%H%M-importance.txt'))\n",
    "model_importance_path"
   ]
  },
  {
   "cell_type": "code",
   "execution_count": 28,
   "metadata": {
    "collapsed": false
   },
   "outputs": [],
   "source": [
    "importance_df = pd.DataFrame(model.feature_importances_, index=use_columns)\n",
    "\n",
    "importance_df.sort_values(0, ascending=False, inplace=True)\n",
    "importance_df.to_csv(model_importance_path)"
   ]
  },
  {
   "cell_type": "code",
   "execution_count": 29,
   "metadata": {
    "collapsed": false
   },
   "outputs": [
    {
     "data": {
      "text/plain": [
       "'learning_rate: 0.1,num_leaves: 56,metric: binary_logloss,colsample_bylevel: 0.7,lambda_l2: 10,colsample_bytree: 0.8,subsample: 0.8,max_depth: 6,tree_method: exact'"
      ]
     },
     "execution_count": 29,
     "metadata": {},
     "output_type": "execute_result"
    }
   ],
   "source": [
    "parms = ','.join(['{}: {}'.format(k, v) for k, v in clf.best_params_.items()])\n",
    "parms"
   ]
  },
  {
   "cell_type": "code",
   "execution_count": 30,
   "metadata": {
    "collapsed": false
   },
   "outputs": [
    {
     "data": {
      "text/plain": [
       "'num_leaves: 36,learning_rate: 0.05,metric: auc,boosting_type: gbdt,colsample_bytree: 0.5,min_child_weight: 1.5,subsample: 0.5,subsample_freq: 10,max_depth: 6'"
      ]
     },
     "execution_count": 30,
     "metadata": {},
     "output_type": "execute_result"
    }
   ],
   "source": [
    "parms = ','.join(['{}: {}'.format(k, v) for k, v in params.items()])\n",
    "parms"
   ]
  },
  {
   "cell_type": "code",
   "execution_count": 31,
   "metadata": {
    "collapsed": false
   },
   "outputs": [
    {
     "name": "stdout",
     "output_type": "stream",
     "text": [
      "08-08-10:  online  ??  test_score  0.434355023767  train_score  0.472955820333  model_train  0.951371501786  model_test  0.932178471347  accu  0.974257618899  n  510  params  num_leaves: 36,learning_rate: 0.05,metric: auc,boosting_type: gbdt,colsample_bytree: 0.5,min_child_weight: 1.5,subsample: 0.5,subsample_freq: 10,max_depth: 6  shape  (879539, 444)\n"
     ]
    }
   ],
   "source": [
    "print(\n",
    "    datetime.now().strftime('%d-%H-%M:'),\n",
    "    'online',\n",
    "    '??',\n",
    "    'test_score',\n",
    "    test_score,\n",
    "    'train_score',\n",
    "    train_score,\n",
    "    'model_train',\n",
    "    model.best_score['valid_0']['auc'],\n",
    "    'model_test',\n",
    "    model.best_score['valid_1']['auc'],\n",
    "    'accu',\n",
    "    acu,\n",
    "    'n',\n",
    "    model.best_iteration,\n",
    "    'params',\n",
    "    parms,\n",
    "    'shape', train_f.shape,\n",
    "    end='\\n',\n",
    "    sep='  ')"
   ]
  },
  {
   "cell_type": "code",
   "execution_count": 32,
   "metadata": {
    "collapsed": false
   },
   "outputs": [],
   "source": [
    "print(\n",
    "    datetime.now().strftime('%d-%H-%M:'),\n",
    "    'online',\n",
    "    '??',\n",
    "    'test_score',\n",
    "    test_score,\n",
    "    'train_score',\n",
    "    train_score,\n",
    "    'model_train',\n",
    "    model.best_score['valid_0']['auc'],\n",
    "    'model_test',\n",
    "    model.best_score['valid_1']['auc'],\n",
    "    'accu',\n",
    "    acu,\n",
    "    'n',\n",
    "    model.best_iteration,\n",
    "    'params',\n",
    "    parms,\n",
    "    'shape', train_f.shape,\n",
    "    end='\\n',\n",
    "    sep='  ', file=open('lgb_result.txt', 'a+'))"
   ]
  },
  {
   "cell_type": "code",
   "execution_count": 33,
   "metadata": {
    "collapsed": false
   },
   "outputs": [
    {
     "data": {
      "text/plain": [
       "88"
      ]
     },
     "execution_count": 33,
     "metadata": {},
     "output_type": "execute_result"
    }
   ],
   "source": [
    "del train_f, test_f\n",
    "gc.collect()"
   ]
  },
  {
   "cell_type": "code",
   "execution_count": 34,
   "metadata": {
    "collapsed": false
   },
   "outputs": [
    {
     "data": {
      "text/plain": [
       "(1094826, 443)"
      ]
     },
     "execution_count": 34,
     "metadata": {},
     "output_type": "execute_result"
    }
   ],
   "source": [
    "train_f = pd.read_pickle('../dataset/train/all_feature.pkl')\n",
    "train_f.shape"
   ]
  },
  {
   "cell_type": "code",
   "execution_count": 35,
   "metadata": {
    "collapsed": true
   },
   "outputs": [],
   "source": [
    "# result = model.predict(train_f[use_columns])"
   ]
  },
  {
   "cell_type": "code",
   "execution_count": 36,
   "metadata": {
    "collapsed": true
   },
   "outputs": [],
   "source": [
    "# train_f['predict'] = result"
   ]
  },
  {
   "cell_type": "code",
   "execution_count": 37,
   "metadata": {
    "collapsed": false
   },
   "outputs": [],
   "source": [
    "n_est = model.best_iteration  + 200 if model.best_iteration > 0 else 1300"
   ]
  },
  {
   "cell_type": "code",
   "execution_count": 38,
   "metadata": {
    "collapsed": false
   },
   "outputs": [
    {
     "data": {
      "text/plain": [
       "LGBMClassifier(boosting_type='gbdt', colsample_bytree=0.5, learning_rate=0.05,\n",
       "        max_bin=255, max_depth=6, metric='auc', min_child_samples=10,\n",
       "        min_child_weight=1.5, min_split_gain=0, n_estimators=710,\n",
       "        nthread=4, num_leaves=36, objective='binary', reg_alpha=0,\n",
       "        reg_lambda=0, seed=123456, silent=False, subsample=0.5,\n",
       "        subsample_for_bin=50000, subsample_freq=10)"
      ]
     },
     "execution_count": 38,
     "metadata": {},
     "output_type": "execute_result"
    }
   ],
   "source": [
    "model = LGBMClassifier(\n",
    "    nthread=4,\n",
    "    silent=False,\n",
    "    objective='binary',\n",
    "    seed=luck,\n",
    "#     learning_rate=0.3,\n",
    "    n_estimators=n_est,\n",
    "    **params)\n",
    "model"
   ]
  },
  {
   "cell_type": "code",
   "execution_count": 39,
   "metadata": {
    "collapsed": true
   },
   "outputs": [],
   "source": [
    "# categorical_feature=['order_' + x for x in  ['roomservice_8','roomservice_4','roomservice_3','roomtag_1']]"
   ]
  },
  {
   "cell_type": "code",
   "execution_count": 40,
   "metadata": {
    "collapsed": false
   },
   "outputs": [
    {
     "name": "stdout",
     "output_type": "stream",
     "text": [
      "[1]\tvalid_0's auc: 0.889266\n",
      "[2]\tvalid_0's auc: 0.898151\n",
      "[3]\tvalid_0's auc: 0.900477\n",
      "[4]\tvalid_0's auc: 0.904093\n",
      "[5]\tvalid_0's auc: 0.904008\n",
      "[6]\tvalid_0's auc: 0.903426\n",
      "[7]\tvalid_0's auc: 0.905321\n",
      "[8]\tvalid_0's auc: 0.905688\n",
      "[9]\tvalid_0's auc: 0.907161\n",
      "[10]\tvalid_0's auc: 0.907323\n",
      "[11]\tvalid_0's auc: 0.908506\n",
      "[12]\tvalid_0's auc: 0.908949\n",
      "[13]\tvalid_0's auc: 0.909128\n",
      "[14]\tvalid_0's auc: 0.909315\n",
      "[15]\tvalid_0's auc: 0.909514\n",
      "[16]\tvalid_0's auc: 0.909691\n",
      "[17]\tvalid_0's auc: 0.910468\n",
      "[18]\tvalid_0's auc: 0.91047\n",
      "[19]\tvalid_0's auc: 0.910587\n",
      "[20]\tvalid_0's auc: 0.910522\n",
      "[21]\tvalid_0's auc: 0.911578\n",
      "[22]\tvalid_0's auc: 0.911542\n",
      "[23]\tvalid_0's auc: 0.911509\n",
      "[24]\tvalid_0's auc: 0.911983\n",
      "[25]\tvalid_0's auc: 0.911942\n",
      "[26]\tvalid_0's auc: 0.911977\n",
      "[27]\tvalid_0's auc: 0.911981\n",
      "[28]\tvalid_0's auc: 0.91192\n",
      "[29]\tvalid_0's auc: 0.912064\n",
      "[30]\tvalid_0's auc: 0.912035\n",
      "[31]\tvalid_0's auc: 0.912356\n",
      "[32]\tvalid_0's auc: 0.913242\n",
      "[33]\tvalid_0's auc: 0.913553\n",
      "[34]\tvalid_0's auc: 0.913585\n",
      "[35]\tvalid_0's auc: 0.913762\n",
      "[36]\tvalid_0's auc: 0.914522\n",
      "[37]\tvalid_0's auc: 0.914677\n",
      "[38]\tvalid_0's auc: 0.915016\n",
      "[39]\tvalid_0's auc: 0.915257\n",
      "[40]\tvalid_0's auc: 0.915603\n",
      "[41]\tvalid_0's auc: 0.915761\n",
      "[42]\tvalid_0's auc: 0.91628\n",
      "[43]\tvalid_0's auc: 0.916219\n",
      "[44]\tvalid_0's auc: 0.916172\n",
      "[45]\tvalid_0's auc: 0.916248\n",
      "[46]\tvalid_0's auc: 0.916255\n",
      "[47]\tvalid_0's auc: 0.916409\n",
      "[48]\tvalid_0's auc: 0.916535\n",
      "[49]\tvalid_0's auc: 0.916821\n",
      "[50]\tvalid_0's auc: 0.917033\n",
      "[51]\tvalid_0's auc: 0.917192\n",
      "[52]\tvalid_0's auc: 0.917556\n",
      "[53]\tvalid_0's auc: 0.917845\n",
      "[54]\tvalid_0's auc: 0.918137\n",
      "Traceback (most recent call last):\n",
      "  File \"/home/zhanglun/.pyenv/versions/anaconda3-4.1.0/lib/python3.5/site-packages/IPython/core/interactiveshell.py\", line 2885, in run_code\n",
      "    exec(code_obj, self.user_global_ns, self.user_ns)\n",
      "  File \"<ipython-input-40-fe228afe2922>\", line 7, in <module>\n",
      "    verbose=True,\n",
      "  File \"/home/zhanglun/.pyenv/versions/anaconda3-4.1.0/lib/python3.5/site-packages/lightgbm/sklearn.py\", line 539, in fit\n",
      "    callbacks=callbacks)\n",
      "  File \"/home/zhanglun/.pyenv/versions/anaconda3-4.1.0/lib/python3.5/site-packages/lightgbm/sklearn.py\", line 391, in fit\n",
      "    callbacks=callbacks)\n",
      "  File \"/home/zhanglun/.pyenv/versions/anaconda3-4.1.0/lib/python3.5/site-packages/lightgbm/engine.py\", line 180, in train\n",
      "    booster.update(fobj=fobj)\n",
      "  File \"/home/zhanglun/.pyenv/versions/anaconda3-4.1.0/lib/python3.5/site-packages/lightgbm/basic.py\", line 1370, in update\n",
      "    ctypes.byref(is_finished)))\n",
      "KeyboardInterrupt\n",
      "\n",
      "During handling of the above exception, another exception occurred:\n",
      "\n",
      "Traceback (most recent call last):\n",
      "  File \"/home/zhanglun/.pyenv/versions/anaconda3-4.1.0/lib/python3.5/site-packages/IPython/core/interactiveshell.py\", line 1827, in showtraceback\n",
      "    stb = value._render_traceback_()\n",
      "AttributeError: 'KeyboardInterrupt' object has no attribute '_render_traceback_'\n",
      "\n",
      "During handling of the above exception, another exception occurred:\n",
      "\n",
      "Traceback (most recent call last):\n",
      "  File \"/home/zhanglun/.pyenv/versions/anaconda3-4.1.0/lib/python3.5/site-packages/IPython/core/ultratb.py\", line 1120, in get_records\n",
      "    return _fixed_getinnerframes(etb, number_of_lines_of_context, tb_offset)\n",
      "  File \"/home/zhanglun/.pyenv/versions/anaconda3-4.1.0/lib/python3.5/site-packages/IPython/core/ultratb.py\", line 301, in wrapped\n",
      "    return f(*args, **kwargs)\n",
      "  File \"/home/zhanglun/.pyenv/versions/anaconda3-4.1.0/lib/python3.5/site-packages/IPython/core/ultratb.py\", line 346, in _fixed_getinnerframes\n",
      "    records = fix_frame_records_filenames(inspect.getinnerframes(etb, context))\n",
      "  File \"/home/zhanglun/.pyenv/versions/anaconda3-4.1.0/lib/python3.5/inspect.py\", line 1453, in getinnerframes\n",
      "    frameinfo = (tb.tb_frame,) + getframeinfo(tb, context)\n",
      "  File \"/home/zhanglun/.pyenv/versions/anaconda3-4.1.0/lib/python3.5/inspect.py\", line 1410, in getframeinfo\n",
      "    filename = getsourcefile(frame) or getfile(frame)\n",
      "  File \"/home/zhanglun/.pyenv/versions/anaconda3-4.1.0/lib/python3.5/inspect.py\", line 672, in getsourcefile\n",
      "    if getattr(getmodule(object, filename), '__loader__', None) is not None:\n",
      "  File \"/home/zhanglun/.pyenv/versions/anaconda3-4.1.0/lib/python3.5/inspect.py\", line 715, in getmodule\n",
      "    f = getabsfile(module)\n",
      "  File \"/home/zhanglun/.pyenv/versions/anaconda3-4.1.0/lib/python3.5/inspect.py\", line 684, in getabsfile\n",
      "    _filename = getsourcefile(object) or getfile(object)\n",
      "  File \"/home/zhanglun/.pyenv/versions/anaconda3-4.1.0/lib/python3.5/inspect.py\", line 663, in getsourcefile\n",
      "    if any(filename.endswith(s) for s in all_bytecode_suffixes):\n",
      "  File \"/home/zhanglun/.pyenv/versions/anaconda3-4.1.0/lib/python3.5/inspect.py\", line 663, in <genexpr>\n",
      "    if any(filename.endswith(s) for s in all_bytecode_suffixes):\n",
      "KeyboardInterrupt\n"
     ]
    },
    {
     "name": "stderr",
     "output_type": "stream",
     "text": [
      "ERROR: Internal Python error in the inspect module.\n",
      "Below is the traceback from this internal error.\n",
      "\n",
      "\n",
      "Unfortunately, your original traceback can not be constructed.\n",
      "\n"
     ]
    },
    {
     "ename": "KeyboardInterrupt",
     "evalue": "",
     "output_type": "error",
     "traceback": [
      "\u001b[1;31m\u001b[0m"
     ]
    }
   ],
   "source": [
    "model.fit(\n",
    "    train_f[use_columns],\n",
    "    train_f['orderlabel'],\n",
    "    eval_set=[(train_f[use_columns],\n",
    "    train_f['orderlabel'])],\n",
    "    eval_metric='auc',\n",
    "    verbose=True,\n",
    ")"
   ]
  },
  {
   "cell_type": "code",
   "execution_count": null,
   "metadata": {
    "collapsed": true
   },
   "outputs": [],
   "source": [
    "pickle.dump(model, open(model_path, 'wb'))"
   ]
  },
  {
   "cell_type": "code",
   "execution_count": null,
   "metadata": {
    "collapsed": true
   },
   "outputs": [],
   "source": [
    "# clf1 =  LGBMClassifier(\n",
    "#     nthread=4,\n",
    "#     silent=False,\n",
    "#     objective='binary',\n",
    "#     seed=luck,\n",
    "#     n_estimators=400,\n",
    "#     num_leaves=42, max_depth=6)\n",
    "# clf2 = LGBMClassifier(\n",
    "#     nthread=4,\n",
    "#     silent=False,\n",
    "#     objective='binary',\n",
    "#     seed=luck,\n",
    "#     n_estimators=400,\n",
    "#     num_leaves=32, max_depth=5)\n",
    "# clf3 = LGBMClassifier(\n",
    "#     nthread=4,\n",
    "#     silent=False,\n",
    "#     objective='binary',\n",
    "#     seed=luck,\n",
    "#     n_estimators=400,\n",
    "#     num_leaves=27, max_depth=3)\n",
    "# lr = LogisticRegression()\n",
    "# sclf = StackingCVClassifier(classifiers=[clf1, clf2, clf3], \n",
    "#                           meta_classifier=lr)\n",
    "\n",
    "# model = sclf"
   ]
  }
 ],
 "metadata": {
  "anaconda-cloud": {},
  "hide_input": false,
  "kernelspec": {
   "display_name": "Python 3",
   "language": "python",
   "name": "python3"
  },
  "language_info": {
   "codemirror_mode": {
    "name": "ipython",
    "version": 3
   },
   "file_extension": ".py",
   "mimetype": "text/x-python",
   "name": "python",
   "nbconvert_exporter": "python",
   "pygments_lexer": "ipython3",
   "version": "3.5.1"
  }
 },
 "nbformat": 4,
 "nbformat_minor": 2
}
