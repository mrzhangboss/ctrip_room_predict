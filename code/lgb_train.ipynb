{
 "cells": [
  {
   "cell_type": "code",
   "execution_count": 1,
   "metadata": {
    "collapsed": false
   },
   "outputs": [],
   "source": [
    "import pickle\n",
    "from datetime import datetime\n",
    "\n",
    "import numpy as np\n",
    "import pandas as pd\n",
    "import scipy as sp\n",
    "\n",
    "# import matplotlib.pyplot as plt\n",
    "\n",
    "from sklearn import model_selection\n",
    "from sklearn.model_selection import KFold\n",
    "from sklearn.model_selection import train_test_split\n",
    "\n",
    "import lightgbm as lgb\n",
    "from lightgbm import LGBMClassifier"
   ]
  },
  {
   "cell_type": "code",
   "execution_count": 2,
   "metadata": {
    "collapsed": false
   },
   "outputs": [
    {
     "data": {
      "text/plain": [
       "(1080976, 265)"
      ]
     },
     "execution_count": 2,
     "metadata": {},
     "output_type": "execute_result"
    }
   ],
   "source": [
    "train_features = pd.read_pickle('../dataset/all_feature.pkl').reset_index(drop=True)\n",
    "train_features.shape"
   ]
  },
  {
   "cell_type": "code",
   "execution_count": 3,
   "metadata": {
    "collapsed": true
   },
   "outputs": [],
   "source": [
    "model_path = '../dataset/lightgbmmodel.pkl'"
   ]
  },
  {
   "cell_type": "code",
   "execution_count": 4,
   "metadata": {
    "collapsed": true
   },
   "outputs": [],
   "source": [
    "luck = 123456"
   ]
  },
  {
   "cell_type": "code",
   "execution_count": 5,
   "metadata": {
    "collapsed": true
   },
   "outputs": [],
   "source": [
    "model = LGBMClassifier(nthread=4, silent=False, objective= 'binary', seed=luck)"
   ]
  },
  {
   "cell_type": "code",
   "execution_count": 6,
   "metadata": {
    "collapsed": true
   },
   "outputs": [],
   "source": [
    "parameters = {\n",
    "#     'gamma': [0.05],\n",
    "    #     'n_estimators': [800],\n",
    "    'max_depth': [2, 3, 4],\n",
    "#     'learning_rate': [0.15, 0.3],\n",
    "        'subsample': [0.9],\n",
    "        'colsample_bytree': [0.9],\n",
    "    #     'reg_alpha': [0, 1, 5],\n",
    "    #     'reg_lambda': [0, 1, 4],\n",
    "}"
   ]
  },
  {
   "cell_type": "code",
   "execution_count": 3,
   "metadata": {
    "collapsed": true
   },
   "outputs": [],
   "source": [
    "use_columns = [\n",
    "    x for x in train_features.columns\n",
    "    if x not in [\n",
    "        'orderid', 'uid', 'hotelid', 'basicroomid', 'hotel_roomid', 'roomid',\n",
    "        'orderlabel'\n",
    "    ]\n",
    "]"
   ]
  },
  {
   "cell_type": "code",
   "execution_count": 4,
   "metadata": {
    "collapsed": false
   },
   "outputs": [
    {
     "data": {
      "text/plain": [
       "['orderhour',\n",
       " 'orderspan',\n",
       " 'roomservice_1',\n",
       " 'roomservice_2',\n",
       " 'roomservice_3',\n",
       " 'roomservice_4',\n",
       " 'roomservice_5',\n",
       " 'roomservice_6',\n",
       " 'roomservice_7',\n",
       " 'roomservice_8',\n",
       " 'roomtag_1',\n",
       " 'roomtag_2',\n",
       " 'roomtag_3',\n",
       " 'roomtag_4',\n",
       " 'hotelid_star',\n",
       " 'hotelid__basicroomid_count',\n",
       " 'hotelid__roomid_count',\n",
       " 'hotelid__roomservice_1_count',\n",
       " 'hotelid__roomservice_2_count',\n",
       " 'hotelid__roomservice_3_count',\n",
       " 'hotelid__roomservice_4_count',\n",
       " 'hotelid__roomservice_5_count',\n",
       " 'hotelid__roomservice_6_count',\n",
       " 'hotelid__roomservice_7_count',\n",
       " 'hotelid__roomservice_8_count',\n",
       " 'hotelid__roomtag_2_count',\n",
       " 'hotelid__roomtag_3_count',\n",
       " 'hotelid__roomtag_4_count',\n",
       " 'hotelid__price_deduct_max',\n",
       " 'hotelid__price_deduct_min',\n",
       " 'hotelid__price_deduct_75',\n",
       " 'hotelid__price_deduct_mean',\n",
       " 'hotelid__price_deduct_std',\n",
       " 'hotelid__price_real_max',\n",
       " 'hotelid__price_real_mean',\n",
       " 'hotelid__returnvalue_max',\n",
       " 'hotelid__basic_minarea_max',\n",
       " 'hotelid__basic_minarea_mean',\n",
       " 'hotelid__basic_minarea_75',\n",
       " 'hotelid__basic_maxarea_min',\n",
       " 'hotelid__basic_maxarea_mean',\n",
       " 'hotelid__basic_maxarea_25',\n",
       " 'hotelid__basic_week_ordernum_ratio_min',\n",
       " 'hotelid__basic_week_ordernum_ratio_mean',\n",
       " 'hotelid__basic_recent3_ordernum_ratio_min',\n",
       " 'hotelid__basic_recent3_ordernum_ratio_mean',\n",
       " 'hotelid__basic_comment_ratio_min',\n",
       " 'hotelid__basic_comment_ratio_mean',\n",
       " 'hotelid__basic_30days_ordnumratio_min',\n",
       " 'hotelid__basic_30days_ordnumratio_mean',\n",
       " 'hotelid__basic_30days_realratio_min',\n",
       " 'hotelid__basic_30days_realratio_mean',\n",
       " 'hotelid__room_30days_ordnumratio_max',\n",
       " 'hotelid__room_30days_ordnumratio_min',\n",
       " 'hotelid__room_30days_realratio_max',\n",
       " 'hotelid__room_30days_realratio_min',\n",
       " 'hotelid__hotelid_diff_price_last_lastord_mean',\n",
       " 'hotelid__hotelid_diff_price_last_lastord_max',\n",
       " 'hotelid__hotelid_diff_hotel_minprice_lastord_mean',\n",
       " 'hotelid__hotelid_diff_hotel_minprice_lastord_max',\n",
       " 'hotelid__hotelid_diff_basic_minprice_lastord_mean',\n",
       " 'hotelid__hotelid_diff_basic_minprice_lastord_max',\n",
       " 'hotelid_lastord_is_nan',\n",
       " 'hotelid_is_lastord',\n",
       " 'basicroomid_basic_minarea',\n",
       " 'basicroomid_basic_maxarea',\n",
       " 'basicroomid_basic_week_ordernum_ratio',\n",
       " 'basicroomid_basic_recent3_ordernum_ratio',\n",
       " 'basicroomid_basic_comment_ratio',\n",
       " 'basicroomid_basic_30days_ordnumratio',\n",
       " 'basicroomid_basic_30days_realratio',\n",
       " 'basicroomid__roomservice_2_count',\n",
       " 'basicroomid__roomservice_3_count',\n",
       " 'basicroomid__roomservice_4_count',\n",
       " 'basicroomid__roomservice_5_count',\n",
       " 'basicroomid__roomservice_6_count',\n",
       " 'basicroomid__roomservice_7_count',\n",
       " 'basicroomid__roomservice_8_count',\n",
       " 'basicroomid__roomtag_1_count',\n",
       " 'basicroomid__roomtag_2_count',\n",
       " 'basicroomid__roomtag_3_count',\n",
       " 'basicroomid__roomtag_4_count',\n",
       " 'basicroomid__roomid_count',\n",
       " 'basicroomid__price_deduct_max',\n",
       " 'basicroomid__price_deduct_min',\n",
       " 'basicroomid__price_deduct_75',\n",
       " 'basicroomid__price_deduct_mean',\n",
       " 'basicroomid__price_deduct_std',\n",
       " 'basicroomid__price_real_max',\n",
       " 'basicroomid__price_real_mean',\n",
       " 'basicroomid__returnvalue_max',\n",
       " 'basicroomid__room_30days_ordnumratio_max',\n",
       " 'basicroomid__room_30days_ordnumratio_min',\n",
       " 'basicroomid__room_30days_ordnumratio_25',\n",
       " 'basicroomid__room_30days_ordnumratio_50',\n",
       " 'basicroomid__room_30days_ordnumratio_75',\n",
       " 'basicroomid__room_30days_ordnumratio_std',\n",
       " 'basicroomid__room_30days_ordnumratio_mean',\n",
       " 'basicroomid__room_30days_realratio_min',\n",
       " 'basicroomid__room_30days_realratio_25',\n",
       " 'basicroomid__room_30days_realratio_75',\n",
       " 'basicroomid__room_30days_realratio_mean',\n",
       " 'basicroomid__basicroomid_diff_price_last_lastord_max',\n",
       " 'basicroomid__basicroomid_diff_price_last_lastord_std',\n",
       " 'basicroomid__basicroomid_diff_price_last_lastord_mean',\n",
       " 'basicroomid__basicroomid_diff_hotel_minprice_lastord_max',\n",
       " 'basicroomid__basicroomid_diff_hotel_minprice_lastord_std',\n",
       " 'basicroomid__basicroomid_diff_hotel_minprice_lastord_mean',\n",
       " 'basicroomid__basicroomid_diff_basic_minprice_lastord_max',\n",
       " 'basicroomid__basicroomid_diff_basic_minprice_lastord_std',\n",
       " 'basicroomid__basicroomid_diff_basic_minprice_lastord_mean',\n",
       " 'basicroomid_lastord_is_nan',\n",
       " 'basicroomid_is_lastord',\n",
       " 'roomid__hotel_roomid_count',\n",
       " 'roomid_lastord_is_nan',\n",
       " 'hotel_roomid_room_30days_ordnumratio',\n",
       " 'hotel_roomid_room_30days_realratio',\n",
       " 'hotel_roomid_basic_minarea',\n",
       " 'hotel_roomid_basic_maxarea',\n",
       " 'hotel_roomid_rank',\n",
       " 'hotel_roomid_roomservice_1',\n",
       " 'hotel_roomid__roomservice_1_count',\n",
       " 'hotel_roomid__roomservice_2_count',\n",
       " 'hotel_roomid__roomservice_3_count',\n",
       " 'hotel_roomid__roomservice_4_count',\n",
       " 'hotel_roomid__roomservice_5_count',\n",
       " 'hotel_roomid__roomservice_6_count',\n",
       " 'hotel_roomid__roomservice_7_count',\n",
       " 'hotel_roomid__roomservice_8_count',\n",
       " 'hotel_roomid__roomtag_1_count',\n",
       " 'hotel_roomid__roomtag_2_count',\n",
       " 'hotel_roomid__roomtag_3_count',\n",
       " 'hotel_roomid__roomtag_4_count',\n",
       " 'hotel_roomid__hotel_roomid_diff_price_last_lastord_mean',\n",
       " 'hotel_roomid__hotel_roomid_diff_price_last_lastord_max',\n",
       " 'hotel_roomid__hotel_roomid_diff_hotel_minprice_lastord_mean',\n",
       " 'hotel_roomid__hotel_roomid_diff_hotel_minprice_lastord_max',\n",
       " 'hotel_roomid__hotel_roomid_diff_basic_minprice_lastord_mean',\n",
       " 'hotel_roomid__hotel_roomid_diff_basic_minprice_lastord_max',\n",
       " 'uid__hotel_roomid_count',\n",
       " 'uid__roomservice_2_is_equal_count',\n",
       " 'uid__roomservice_3_is_equal_count',\n",
       " 'uid__roomservice_4_is_equal_count',\n",
       " 'uid__roomservice_5_is_equal_count',\n",
       " 'uid__roomservice_6_is_equal_count',\n",
       " 'uid__roomservice_8_is_equal_count',\n",
       " 'uid__roomtag_2_is_equal_count',\n",
       " 'uid__roomtag_3_is_equal_count',\n",
       " 'uid__roomtag_4_is_equal_count',\n",
       " 'uid__rank_is_equal_count',\n",
       " 'uid__star_is_equal_count',\n",
       " 'uid_hotel_minprice_lastord',\n",
       " 'uid_basic_minprice_lastord',\n",
       " 'uid_star_lastord',\n",
       " 'uid_ordertype_1_ratio',\n",
       " 'uid_ordertype_2_ratio',\n",
       " 'uid_ordertype_3_ratio',\n",
       " 'uid_ordertype_4_ratio',\n",
       " 'uid_ordertype_5_ratio',\n",
       " 'uid_ordertype_6_ratio',\n",
       " 'uid_ordertype_7_ratio',\n",
       " 'uid_ordertype_8_ratio',\n",
       " 'uid_ordertype_9_ratio',\n",
       " 'uid_ordertype_10_ratio',\n",
       " 'uid_ordertype_11_ratio',\n",
       " 'uid_orderbehavior_1_ratio',\n",
       " 'uid_orderbehavior_2_ratio',\n",
       " 'uid_orderbehavior_3_ratio_1week',\n",
       " 'uid_orderbehavior_4_ratio_1week',\n",
       " 'uid_orderbehavior_5_ratio_1week',\n",
       " 'uid_orderbehavior_3_ratio_3month',\n",
       " 'uid_orderbehavior_4_ratio_3month',\n",
       " 'uid_orderbehavior_5_ratio_3month',\n",
       " 'uid_orderbehavior_6_ratio',\n",
       " 'uid_orderbehavior_7_ratio',\n",
       " 'uid_orderbehavior_8',\n",
       " 'uid_orderbehavior_9',\n",
       " 'uid_user_confirmtime',\n",
       " 'uid_user_avgadvanceddate',\n",
       " 'uid_user_avgstar',\n",
       " 'uid_user_avggoldstar',\n",
       " 'uid_user_avgrecommendlevel',\n",
       " 'uid_user_avgroomnum',\n",
       " 'uid_user_avgdealpriceholiday',\n",
       " 'uid_user_avgdealpriceworkday',\n",
       " 'uid_user_avgdealprice',\n",
       " 'uid_user_avgpromotion',\n",
       " 'uid_user_avgprice_star',\n",
       " 'uid_user_ordernum',\n",
       " 'uid_user_activation',\n",
       " 'uid_user_avgprice',\n",
       " 'uid_user_maxprice',\n",
       " 'uid_user_minprice',\n",
       " 'uid_user_stdprice',\n",
       " 'uid_user_cvprice',\n",
       " 'uid_user_citynum',\n",
       " 'uid_user_avgroomarea',\n",
       " 'uid_user_roomservice_4_0ratio',\n",
       " 'uid_user_roomservice_4_2ratio',\n",
       " 'uid_user_roomservice_4_3ratio',\n",
       " 'uid_user_roomservice_4_4ratio',\n",
       " 'uid_user_roomservice_4_1ratio',\n",
       " 'uid_user_roomservice_4_5ratio',\n",
       " 'uid_user_roomservice_3_123ratio',\n",
       " 'uid_user_roomservice_6_2ratio',\n",
       " 'uid_user_roomservice_6_1ratio',\n",
       " 'uid_user_roomservice_6_0ratio',\n",
       " 'uid_user_roomservice_5_1ratio',\n",
       " 'uid_user_roomservice_7_0ratio',\n",
       " 'uid_user_roomservice_2_1ratio',\n",
       " 'uid_user_roomservice_8_1ratio',\n",
       " 'uid_user_rank_ratio',\n",
       " 'uid_user_roomservice_8_345ratio',\n",
       " 'uid_user_ordnum_1week',\n",
       " 'uid_user_avgprice_1week',\n",
       " 'uid_user_medprice_1week',\n",
       " 'uid_user_minprice_1week',\n",
       " 'uid_user_maxprice_1week',\n",
       " 'uid_user_roomservice_3_123ratio_1week',\n",
       " 'uid_user_roomservice_7_1ratio_1week',\n",
       " 'uid_user_roomservice_7_0ratio_1week',\n",
       " 'uid_user_roomservice_4_5ratio_1week',\n",
       " 'uid_user_roomservice_4_4ratio_1week',\n",
       " 'uid_user_roomservice_4_2ratio_1week',\n",
       " 'uid_user_roomservice_4_3ratio_1week',\n",
       " 'uid_user_roomservice_4_0ratio_1week',\n",
       " 'uid_user_ordnum_1month',\n",
       " 'uid_user_avgprice_1month',\n",
       " 'uid_user_medprice_1month',\n",
       " 'uid_user_minprice_1month',\n",
       " 'uid_user_maxprice_1month',\n",
       " 'uid_user_roomservice_3_123ratio_1month',\n",
       " 'uid_user_roomservice_7_1ratio_1month',\n",
       " 'uid_user_roomservice_7_0ratio_1month',\n",
       " 'uid_user_roomservice_4_5ratio_1month',\n",
       " 'uid_user_roomservice_4_4ratio_1month',\n",
       " 'uid_user_roomservice_4_2ratio_1month',\n",
       " 'uid_user_roomservice_4_3ratio_1month',\n",
       " 'uid_user_roomservice_4_0ratio_1month',\n",
       " 'uid_user_ordnum_3month',\n",
       " 'uid_user_avgprice_3month',\n",
       " 'uid_user_medprice_3month',\n",
       " 'uid_user_minprice_3month',\n",
       " 'uid_user_maxprice_3month',\n",
       " 'uid_user_roomservice_3_123ratio_3month',\n",
       " 'uid_user_roomservice_7_1ratio_3month',\n",
       " 'uid_user_roomservice_7_0ratio_3month',\n",
       " 'uid_user_roomservice_4_5ratio_3month',\n",
       " 'uid_user_roomservice_4_4ratio_3month',\n",
       " 'uid_user_roomservice_4_2ratio_3month',\n",
       " 'uid_user_roomservice_4_3ratio_3month',\n",
       " 'uid_user_roomservice_4_0ratio_3month',\n",
       " 'uid__uid_diff_price_last_lastord_mean',\n",
       " 'uid__uid_diff_price_last_lastord_75',\n",
       " 'uid__uid_diff_hotel_minprice_lastord_mean',\n",
       " 'uid__uid_diff_hotel_minprice_lastord_75',\n",
       " 'uid__uid_diff_basic_minprice_lastord_mean',\n",
       " 'uid__uid_diff_basic_minprice_lastord_75']"
      ]
     },
     "execution_count": 4,
     "metadata": {},
     "output_type": "execute_result"
    }
   ],
   "source": [
    "use_columns"
   ]
  },
  {
   "cell_type": "code",
   "execution_count": 8,
   "metadata": {
    "collapsed": true
   },
   "outputs": [],
   "source": [
    "cv = model_selection.ShuffleSplit(n_splits=1, test_size=0.2, random_state=luck)\n",
    "clf = model_selection.GridSearchCV(model, parameters, cv=cv, n_jobs=-1, verbose=True)"
   ]
  },
  {
   "cell_type": "code",
   "execution_count": 9,
   "metadata": {
    "collapsed": false
   },
   "outputs": [],
   "source": [
    "clf_feture = train_features.sample(1000, random_state=luck)"
   ]
  },
  {
   "cell_type": "code",
   "execution_count": 10,
   "metadata": {
    "collapsed": false
   },
   "outputs": [
    {
     "name": "stdout",
     "output_type": "stream",
     "text": [
      "Fitting 1 folds for each of 3 candidates, totalling 3 fits\n",
      "CPU times: user 177 ms, sys: 44.1 ms, total: 221 ms\n",
      "Wall time: 432 ms\n"
     ]
    },
    {
     "name": "stderr",
     "output_type": "stream",
     "text": [
      "[Parallel(n_jobs=-1)]: Done   3 out of   3 | elapsed:    0.3s finished\n"
     ]
    },
    {
     "data": {
      "text/plain": [
       "GridSearchCV(cv=ShuffleSplit(n_splits=1, random_state=123456, test_size=0.2, train_size=None),\n",
       "       error_score='raise',\n",
       "       estimator=LGBMClassifier(boosting_type='gbdt', colsample_bytree=1, learning_rate=0.1,\n",
       "        max_bin=255, max_depth=-1, min_child_samples=10,\n",
       "        min_child_weight=5, min_split_gain=0, n_estimators=10, nthread=4,\n",
       "        num_leaves=31, objective='binary', reg_alpha=0, reg_lambda=0,\n",
       "        seed=123456, silent=False, subsample=1, subsample_for_bin=50000,\n",
       "        subsample_freq=1),\n",
       "       fit_params={}, iid=True, n_jobs=-1,\n",
       "       param_grid={'subsample': [0.9], 'max_depth': [2, 3, 4], 'colsample_bytree': [0.9]},\n",
       "       pre_dispatch='2*n_jobs', refit=True, return_train_score=True,\n",
       "       scoring=None, verbose=True)"
      ]
     },
     "execution_count": 10,
     "metadata": {},
     "output_type": "execute_result"
    }
   ],
   "source": [
    "%time clf.fit(clf_feture[use_columns], clf_feture['orderlabel'])"
   ]
  },
  {
   "cell_type": "code",
   "execution_count": 11,
   "metadata": {
    "collapsed": true
   },
   "outputs": [],
   "source": [
    "# # clf.best_params_['n_estimators'] = \n",
    "clf.best_params_['max_depth'] = 6\n",
    "# clf.best_params_['reg_lambda'] = 0.5\n",
    "# clf.best_params_['subsample'] = 0.7\n",
    "# clf.best_params_['colsample_bytree'] = 0.7\n",
    "# clf.best_params_['n_estimators'] = 1000\n",
    "clf.best_params_['learning_rate'] = 0.1\n",
    "clf.best_params_['num_leaves'] = 12\n",
    "# clf.best_params_['reg_alpha'] = 1\n",
    "# clf.best_params_['min_data_in_leaf'] = 3\n",
    "\n",
    "# clf.best_params_['min_child_weight'] = 1"
   ]
  },
  {
   "cell_type": "code",
   "execution_count": 12,
   "metadata": {
    "collapsed": false
   },
   "outputs": [
    {
     "data": {
      "text/plain": [
       "LGBMClassifier(boosting_type='gbdt', colsample_bytree=0.9, learning_rate=0.1,\n",
       "        max_bin=255, max_depth=6, min_child_samples=10, min_child_weight=5,\n",
       "        min_split_gain=0, n_estimators=4000, nthread=4, num_leaves=12,\n",
       "        objective='binary', reg_alpha=0, reg_lambda=0, seed=123456,\n",
       "        silent=False, subsample=0.9, subsample_for_bin=50000,\n",
       "        subsample_freq=1)"
      ]
     },
     "execution_count": 12,
     "metadata": {},
     "output_type": "execute_result"
    }
   ],
   "source": [
    "model = LGBMClassifier(\n",
    "    nthread=4,\n",
    "    silent=False,\n",
    "    objective='binary',\n",
    "    seed=luck,\n",
    "#     learning_rate=0.3,\n",
    "    n_estimators=4000,\n",
    "    **clf.best_params_)\n",
    "model"
   ]
  },
  {
   "cell_type": "code",
   "execution_count": 13,
   "metadata": {
    "collapsed": false
   },
   "outputs": [],
   "source": [
    "X_train, X_test, y_train, y_test = train_test_split(\n",
    "    train_features[use_columns],\n",
    "    train_features['orderlabel'],\n",
    "    test_size=0.33,\n",
    "    random_state=42)"
   ]
  },
  {
   "cell_type": "code",
   "execution_count": 14,
   "metadata": {
    "collapsed": false
   },
   "outputs": [
    {
     "name": "stdout",
     "output_type": "stream",
     "text": [
      "[1]\ttraining's auc: 0.859508\tvalid_1's auc: 0.856279\n",
      "Train until valid scores didn't improve in 20 rounds.\n",
      "[2]\ttraining's auc: 0.868695\tvalid_1's auc: 0.866376\n",
      "[3]\ttraining's auc: 0.873964\tvalid_1's auc: 0.872536\n",
      "[4]\ttraining's auc: 0.881543\tvalid_1's auc: 0.880219\n",
      "[5]\ttraining's auc: 0.880597\tvalid_1's auc: 0.879201\n",
      "[6]\ttraining's auc: 0.881931\tvalid_1's auc: 0.880433\n",
      "[7]\ttraining's auc: 0.881605\tvalid_1's auc: 0.880229\n",
      "[8]\ttraining's auc: 0.883361\tvalid_1's auc: 0.882088\n",
      "[9]\ttraining's auc: 0.889735\tvalid_1's auc: 0.887965\n",
      "[10]\ttraining's auc: 0.889572\tvalid_1's auc: 0.887891\n",
      "[11]\ttraining's auc: 0.890879\tvalid_1's auc: 0.889048\n",
      "[12]\ttraining's auc: 0.891018\tvalid_1's auc: 0.889227\n",
      "[13]\ttraining's auc: 0.892521\tvalid_1's auc: 0.890432\n",
      "[14]\ttraining's auc: 0.892409\tvalid_1's auc: 0.890206\n",
      "[15]\ttraining's auc: 0.892906\tvalid_1's auc: 0.890624\n",
      "[16]\ttraining's auc: 0.894123\tvalid_1's auc: 0.892049\n",
      "[17]\ttraining's auc: 0.894965\tvalid_1's auc: 0.892873\n",
      "[18]\ttraining's auc: 0.894873\tvalid_1's auc: 0.893051\n",
      "[19]\ttraining's auc: 0.895322\tvalid_1's auc: 0.893556\n",
      "[20]\ttraining's auc: 0.895538\tvalid_1's auc: 0.893943\n",
      "[21]\ttraining's auc: 0.896004\tvalid_1's auc: 0.894545\n",
      "[22]\ttraining's auc: 0.897183\tvalid_1's auc: 0.895531\n",
      "[23]\ttraining's auc: 0.897219\tvalid_1's auc: 0.895691\n",
      "[24]\ttraining's auc: 0.897219\tvalid_1's auc: 0.895788\n",
      "[25]\ttraining's auc: 0.898194\tvalid_1's auc: 0.896711\n",
      "[26]\ttraining's auc: 0.899272\tvalid_1's auc: 0.897642\n",
      "[27]\ttraining's auc: 0.899403\tvalid_1's auc: 0.897654\n",
      "[28]\ttraining's auc: 0.899489\tvalid_1's auc: 0.897564\n",
      "[29]\ttraining's auc: 0.899667\tvalid_1's auc: 0.897681\n",
      "[30]\ttraining's auc: 0.900063\tvalid_1's auc: 0.89808\n",
      "[31]\ttraining's auc: 0.901362\tvalid_1's auc: 0.899323\n",
      "[32]\ttraining's auc: 0.902185\tvalid_1's auc: 0.900102\n",
      "[33]\ttraining's auc: 0.902497\tvalid_1's auc: 0.900356\n",
      "[34]\ttraining's auc: 0.902834\tvalid_1's auc: 0.90074\n",
      "[35]\ttraining's auc: 0.903335\tvalid_1's auc: 0.901341\n",
      "[36]\ttraining's auc: 0.90366\tvalid_1's auc: 0.901675\n",
      "[37]\ttraining's auc: 0.903964\tvalid_1's auc: 0.901853\n",
      "[38]\ttraining's auc: 0.903849\tvalid_1's auc: 0.901757\n",
      "[39]\ttraining's auc: 0.90458\tvalid_1's auc: 0.902471\n",
      "[40]\ttraining's auc: 0.904576\tvalid_1's auc: 0.902463\n",
      "[41]\ttraining's auc: 0.904735\tvalid_1's auc: 0.902614\n",
      "[42]\ttraining's auc: 0.904895\tvalid_1's auc: 0.90277\n",
      "[43]\ttraining's auc: 0.904865\tvalid_1's auc: 0.902785\n",
      "[44]\ttraining's auc: 0.905074\tvalid_1's auc: 0.903093\n",
      "[45]\ttraining's auc: 0.90529\tvalid_1's auc: 0.903329\n",
      "[46]\ttraining's auc: 0.905333\tvalid_1's auc: 0.903303\n",
      "[47]\ttraining's auc: 0.906057\tvalid_1's auc: 0.903868\n",
      "[48]\ttraining's auc: 0.906314\tvalid_1's auc: 0.904192\n",
      "[49]\ttraining's auc: 0.90654\tvalid_1's auc: 0.90444\n",
      "[50]\ttraining's auc: 0.907294\tvalid_1's auc: 0.905133\n",
      "[51]\ttraining's auc: 0.907491\tvalid_1's auc: 0.90541\n",
      "[52]\ttraining's auc: 0.907923\tvalid_1's auc: 0.905748\n",
      "[53]\ttraining's auc: 0.908185\tvalid_1's auc: 0.905942\n",
      "[54]\ttraining's auc: 0.908613\tvalid_1's auc: 0.906197\n",
      "[55]\ttraining's auc: 0.908716\tvalid_1's auc: 0.906333\n",
      "[56]\ttraining's auc: 0.909024\tvalid_1's auc: 0.90651\n",
      "[57]\ttraining's auc: 0.9091\tvalid_1's auc: 0.906647\n",
      "[58]\ttraining's auc: 0.90942\tvalid_1's auc: 0.906924\n",
      "[59]\ttraining's auc: 0.909781\tvalid_1's auc: 0.907256\n",
      "[60]\ttraining's auc: 0.909991\tvalid_1's auc: 0.907455\n",
      "[61]\ttraining's auc: 0.910259\tvalid_1's auc: 0.907648\n",
      "[62]\ttraining's auc: 0.910526\tvalid_1's auc: 0.907827\n",
      "[63]\ttraining's auc: 0.910749\tvalid_1's auc: 0.907995\n",
      "[64]\ttraining's auc: 0.910987\tvalid_1's auc: 0.908126\n",
      "[65]\ttraining's auc: 0.911203\tvalid_1's auc: 0.908386\n",
      "[66]\ttraining's auc: 0.911503\tvalid_1's auc: 0.908642\n",
      "[67]\ttraining's auc: 0.911686\tvalid_1's auc: 0.908718\n",
      "[68]\ttraining's auc: 0.911982\tvalid_1's auc: 0.908944\n",
      "[69]\ttraining's auc: 0.912256\tvalid_1's auc: 0.909187\n",
      "[70]\ttraining's auc: 0.912461\tvalid_1's auc: 0.909384\n",
      "[71]\ttraining's auc: 0.912681\tvalid_1's auc: 0.909594\n",
      "[72]\ttraining's auc: 0.91286\tvalid_1's auc: 0.909696\n",
      "[73]\ttraining's auc: 0.912956\tvalid_1's auc: 0.909777\n",
      "[74]\ttraining's auc: 0.913079\tvalid_1's auc: 0.909824\n",
      "[75]\ttraining's auc: 0.913191\tvalid_1's auc: 0.90988\n",
      "[76]\ttraining's auc: 0.913401\tvalid_1's auc: 0.910066\n",
      "[77]\ttraining's auc: 0.91363\tvalid_1's auc: 0.910267\n",
      "[78]\ttraining's auc: 0.913746\tvalid_1's auc: 0.910344\n",
      "[79]\ttraining's auc: 0.913916\tvalid_1's auc: 0.910445\n",
      "[80]\ttraining's auc: 0.914011\tvalid_1's auc: 0.910497\n",
      "[81]\ttraining's auc: 0.914107\tvalid_1's auc: 0.910544\n",
      "[82]\ttraining's auc: 0.914369\tvalid_1's auc: 0.910785\n",
      "[83]\ttraining's auc: 0.914667\tvalid_1's auc: 0.911096\n",
      "[84]\ttraining's auc: 0.914837\tvalid_1's auc: 0.911211\n",
      "[85]\ttraining's auc: 0.914987\tvalid_1's auc: 0.911319\n",
      "[86]\ttraining's auc: 0.915104\tvalid_1's auc: 0.911396\n",
      "[87]\ttraining's auc: 0.9152\tvalid_1's auc: 0.911423\n",
      "[88]\ttraining's auc: 0.91538\tvalid_1's auc: 0.911566\n",
      "[89]\ttraining's auc: 0.915467\tvalid_1's auc: 0.911616\n",
      "[90]\ttraining's auc: 0.915691\tvalid_1's auc: 0.911814\n",
      "[91]\ttraining's auc: 0.91577\tvalid_1's auc: 0.911852\n",
      "[92]\ttraining's auc: 0.915889\tvalid_1's auc: 0.911984\n",
      "[93]\ttraining's auc: 0.916014\tvalid_1's auc: 0.912072\n",
      "[94]\ttraining's auc: 0.916133\tvalid_1's auc: 0.912172\n",
      "[95]\ttraining's auc: 0.916365\tvalid_1's auc: 0.912317\n",
      "[96]\ttraining's auc: 0.916447\tvalid_1's auc: 0.912373\n",
      "[97]\ttraining's auc: 0.916576\tvalid_1's auc: 0.912444\n",
      "[98]\ttraining's auc: 0.916795\tvalid_1's auc: 0.912631\n",
      "[99]\ttraining's auc: 0.916866\tvalid_1's auc: 0.912658\n",
      "[100]\ttraining's auc: 0.917049\tvalid_1's auc: 0.912821\n",
      "[101]\ttraining's auc: 0.917127\tvalid_1's auc: 0.912816\n",
      "[102]\ttraining's auc: 0.917221\tvalid_1's auc: 0.91288\n",
      "[103]\ttraining's auc: 0.917303\tvalid_1's auc: 0.912933\n",
      "[104]\ttraining's auc: 0.917392\tvalid_1's auc: 0.913013\n",
      "[105]\ttraining's auc: 0.917511\tvalid_1's auc: 0.913105\n",
      "[106]\ttraining's auc: 0.917595\tvalid_1's auc: 0.913162\n",
      "[107]\ttraining's auc: 0.917684\tvalid_1's auc: 0.913225\n",
      "[108]\ttraining's auc: 0.917823\tvalid_1's auc: 0.913346\n",
      "[109]\ttraining's auc: 0.917917\tvalid_1's auc: 0.913411\n",
      "[110]\ttraining's auc: 0.918036\tvalid_1's auc: 0.913479\n",
      "[111]\ttraining's auc: 0.918218\tvalid_1's auc: 0.913602\n",
      "[112]\ttraining's auc: 0.918285\tvalid_1's auc: 0.913671\n",
      "[113]\ttraining's auc: 0.918357\tvalid_1's auc: 0.913731\n",
      "[114]\ttraining's auc: 0.918455\tvalid_1's auc: 0.913793\n",
      "[115]\ttraining's auc: 0.918583\tvalid_1's auc: 0.913882\n",
      "[116]\ttraining's auc: 0.918729\tvalid_1's auc: 0.913983\n",
      "[117]\ttraining's auc: 0.918805\tvalid_1's auc: 0.914021\n",
      "[118]\ttraining's auc: 0.918873\tvalid_1's auc: 0.914063\n",
      "[119]\ttraining's auc: 0.918973\tvalid_1's auc: 0.914123\n",
      "[120]\ttraining's auc: 0.919193\tvalid_1's auc: 0.914328\n",
      "[121]\ttraining's auc: 0.919254\tvalid_1's auc: 0.91435\n",
      "[122]\ttraining's auc: 0.919333\tvalid_1's auc: 0.914351\n",
      "[123]\ttraining's auc: 0.919442\tvalid_1's auc: 0.914395\n",
      "[124]\ttraining's auc: 0.919574\tvalid_1's auc: 0.914441\n",
      "[125]\ttraining's auc: 0.919625\tvalid_1's auc: 0.91444\n",
      "[126]\ttraining's auc: 0.919689\tvalid_1's auc: 0.914438\n",
      "[127]\ttraining's auc: 0.919771\tvalid_1's auc: 0.914443\n",
      "[128]\ttraining's auc: 0.919817\tvalid_1's auc: 0.914463\n",
      "[129]\ttraining's auc: 0.919926\tvalid_1's auc: 0.91454\n",
      "[130]\ttraining's auc: 0.920055\tvalid_1's auc: 0.914613\n",
      "[131]\ttraining's auc: 0.920137\tvalid_1's auc: 0.914653\n",
      "[132]\ttraining's auc: 0.920219\tvalid_1's auc: 0.914717\n",
      "[133]\ttraining's auc: 0.920325\tvalid_1's auc: 0.914754\n",
      "[134]\ttraining's auc: 0.920455\tvalid_1's auc: 0.914808\n",
      "[135]\ttraining's auc: 0.920557\tvalid_1's auc: 0.914808\n",
      "[136]\ttraining's auc: 0.920609\tvalid_1's auc: 0.914855\n",
      "[137]\ttraining's auc: 0.920697\tvalid_1's auc: 0.91488\n",
      "[138]\ttraining's auc: 0.920761\tvalid_1's auc: 0.914899\n",
      "[139]\ttraining's auc: 0.920804\tvalid_1's auc: 0.914944\n",
      "[140]\ttraining's auc: 0.920909\tvalid_1's auc: 0.914986\n",
      "[141]\ttraining's auc: 0.920973\tvalid_1's auc: 0.915026\n",
      "[142]\ttraining's auc: 0.92106\tvalid_1's auc: 0.915032\n",
      "[143]\ttraining's auc: 0.921131\tvalid_1's auc: 0.915053\n",
      "[144]\ttraining's auc: 0.921184\tvalid_1's auc: 0.915057\n",
      "[145]\ttraining's auc: 0.921242\tvalid_1's auc: 0.915098\n",
      "[146]\ttraining's auc: 0.921333\tvalid_1's auc: 0.915114\n",
      "[147]\ttraining's auc: 0.921423\tvalid_1's auc: 0.915135\n",
      "[148]\ttraining's auc: 0.921545\tvalid_1's auc: 0.915177\n",
      "[149]\ttraining's auc: 0.921579\tvalid_1's auc: 0.915166\n",
      "[150]\ttraining's auc: 0.92164\tvalid_1's auc: 0.915168\n",
      "[151]\ttraining's auc: 0.921666\tvalid_1's auc: 0.915176\n",
      "[152]\ttraining's auc: 0.921743\tvalid_1's auc: 0.915196\n",
      "[153]\ttraining's auc: 0.921834\tvalid_1's auc: 0.915197\n",
      "[154]\ttraining's auc: 0.921881\tvalid_1's auc: 0.915204\n",
      "[155]\ttraining's auc: 0.922018\tvalid_1's auc: 0.915346\n",
      "[156]\ttraining's auc: 0.922067\tvalid_1's auc: 0.915336\n",
      "[157]\ttraining's auc: 0.922138\tvalid_1's auc: 0.915357\n",
      "[158]\ttraining's auc: 0.922207\tvalid_1's auc: 0.915395\n",
      "[159]\ttraining's auc: 0.922281\tvalid_1's auc: 0.915434\n",
      "[160]\ttraining's auc: 0.92234\tvalid_1's auc: 0.915473\n",
      "[161]\ttraining's auc: 0.922397\tvalid_1's auc: 0.915487\n",
      "[162]\ttraining's auc: 0.922458\tvalid_1's auc: 0.915512\n",
      "[163]\ttraining's auc: 0.9225\tvalid_1's auc: 0.915496\n",
      "[164]\ttraining's auc: 0.922733\tvalid_1's auc: 0.915681\n",
      "[165]\ttraining's auc: 0.922794\tvalid_1's auc: 0.915693\n",
      "[166]\ttraining's auc: 0.922876\tvalid_1's auc: 0.915688\n",
      "[167]\ttraining's auc: 0.922924\tvalid_1's auc: 0.915714\n",
      "[168]\ttraining's auc: 0.923077\tvalid_1's auc: 0.91583\n",
      "[169]\ttraining's auc: 0.923138\tvalid_1's auc: 0.915837\n",
      "[170]\ttraining's auc: 0.923217\tvalid_1's auc: 0.915909\n",
      "[171]\ttraining's auc: 0.923259\tvalid_1's auc: 0.91592\n",
      "[172]\ttraining's auc: 0.923316\tvalid_1's auc: 0.915921\n",
      "[173]\ttraining's auc: 0.923382\tvalid_1's auc: 0.915959\n",
      "[174]\ttraining's auc: 0.923425\tvalid_1's auc: 0.91595\n",
      "[175]\ttraining's auc: 0.923477\tvalid_1's auc: 0.915958\n",
      "[176]\ttraining's auc: 0.923543\tvalid_1's auc: 0.916006\n",
      "[177]\ttraining's auc: 0.923618\tvalid_1's auc: 0.915987\n",
      "[178]\ttraining's auc: 0.923664\tvalid_1's auc: 0.916023\n",
      "[179]\ttraining's auc: 0.923725\tvalid_1's auc: 0.916062\n",
      "[180]\ttraining's auc: 0.923762\tvalid_1's auc: 0.916049\n",
      "[181]\ttraining's auc: 0.923807\tvalid_1's auc: 0.916052\n",
      "[182]\ttraining's auc: 0.923853\tvalid_1's auc: 0.916048\n",
      "[183]\ttraining's auc: 0.923912\tvalid_1's auc: 0.916053\n",
      "[184]\ttraining's auc: 0.923991\tvalid_1's auc: 0.916097\n",
      "[185]\ttraining's auc: 0.924154\tvalid_1's auc: 0.916235\n",
      "[186]\ttraining's auc: 0.924243\tvalid_1's auc: 0.91625\n",
      "[187]\ttraining's auc: 0.924284\tvalid_1's auc: 0.916258\n",
      "[188]\ttraining's auc: 0.924352\tvalid_1's auc: 0.916276\n",
      "[189]\ttraining's auc: 0.924386\tvalid_1's auc: 0.916287\n",
      "[190]\ttraining's auc: 0.924431\tvalid_1's auc: 0.916313\n",
      "[191]\ttraining's auc: 0.924481\tvalid_1's auc: 0.916326\n",
      "[192]\ttraining's auc: 0.924507\tvalid_1's auc: 0.916324\n",
      "[193]\ttraining's auc: 0.924587\tvalid_1's auc: 0.916354\n",
      "[194]\ttraining's auc: 0.924702\tvalid_1's auc: 0.91639\n",
      "[195]\ttraining's auc: 0.924833\tvalid_1's auc: 0.916499\n",
      "[196]\ttraining's auc: 0.924913\tvalid_1's auc: 0.916521\n",
      "[197]\ttraining's auc: 0.924932\tvalid_1's auc: 0.916511\n",
      "[198]\ttraining's auc: 0.924987\tvalid_1's auc: 0.916523\n",
      "[199]\ttraining's auc: 0.925061\tvalid_1's auc: 0.916538\n",
      "[200]\ttraining's auc: 0.925118\tvalid_1's auc: 0.916539\n",
      "[201]\ttraining's auc: 0.925179\tvalid_1's auc: 0.916541\n",
      "[202]\ttraining's auc: 0.925212\tvalid_1's auc: 0.91656\n",
      "[203]\ttraining's auc: 0.925255\tvalid_1's auc: 0.916567\n",
      "[204]\ttraining's auc: 0.92532\tvalid_1's auc: 0.916588\n",
      "[205]\ttraining's auc: 0.925372\tvalid_1's auc: 0.916604\n",
      "[206]\ttraining's auc: 0.925395\tvalid_1's auc: 0.9166\n",
      "[207]\ttraining's auc: 0.925427\tvalid_1's auc: 0.916593\n",
      "[208]\ttraining's auc: 0.925479\tvalid_1's auc: 0.916579\n",
      "[209]\ttraining's auc: 0.925515\tvalid_1's auc: 0.916574\n",
      "[210]\ttraining's auc: 0.92554\tvalid_1's auc: 0.91659\n",
      "[211]\ttraining's auc: 0.925634\tvalid_1's auc: 0.916655\n",
      "[212]\ttraining's auc: 0.925691\tvalid_1's auc: 0.916669\n",
      "[213]\ttraining's auc: 0.925723\tvalid_1's auc: 0.916682\n",
      "[214]\ttraining's auc: 0.925809\tvalid_1's auc: 0.916716\n",
      "[215]\ttraining's auc: 0.92589\tvalid_1's auc: 0.916747\n",
      "[216]\ttraining's auc: 0.92593\tvalid_1's auc: 0.916754\n",
      "[217]\ttraining's auc: 0.925981\tvalid_1's auc: 0.91676\n",
      "[218]\ttraining's auc: 0.926024\tvalid_1's auc: 0.916766\n",
      "[219]\ttraining's auc: 0.926111\tvalid_1's auc: 0.916776\n",
      "[220]\ttraining's auc: 0.926142\tvalid_1's auc: 0.916777\n",
      "[221]\ttraining's auc: 0.926176\tvalid_1's auc: 0.916772\n",
      "[222]\ttraining's auc: 0.926244\tvalid_1's auc: 0.916764\n",
      "[223]\ttraining's auc: 0.926331\tvalid_1's auc: 0.916816\n",
      "[224]\ttraining's auc: 0.926468\tvalid_1's auc: 0.91688\n",
      "[225]\ttraining's auc: 0.926494\tvalid_1's auc: 0.916872\n",
      "[226]\ttraining's auc: 0.926569\tvalid_1's auc: 0.916888\n",
      "[227]\ttraining's auc: 0.926599\tvalid_1's auc: 0.916884\n",
      "[228]\ttraining's auc: 0.926642\tvalid_1's auc: 0.916892\n",
      "[229]\ttraining's auc: 0.926699\tvalid_1's auc: 0.916902\n",
      "[230]\ttraining's auc: 0.926751\tvalid_1's auc: 0.916937\n",
      "[231]\ttraining's auc: 0.926806\tvalid_1's auc: 0.916963\n",
      "[232]\ttraining's auc: 0.926872\tvalid_1's auc: 0.917014\n",
      "[233]\ttraining's auc: 0.926908\tvalid_1's auc: 0.917034\n",
      "[234]\ttraining's auc: 0.926968\tvalid_1's auc: 0.917048\n",
      "[235]\ttraining's auc: 0.92702\tvalid_1's auc: 0.91703\n",
      "[236]\ttraining's auc: 0.927072\tvalid_1's auc: 0.917041\n",
      "[237]\ttraining's auc: 0.927142\tvalid_1's auc: 0.91705\n",
      "[238]\ttraining's auc: 0.927156\tvalid_1's auc: 0.917042\n",
      "[239]\ttraining's auc: 0.927212\tvalid_1's auc: 0.917083\n",
      "[240]\ttraining's auc: 0.927256\tvalid_1's auc: 0.917078\n",
      "[241]\ttraining's auc: 0.927295\tvalid_1's auc: 0.91707\n",
      "[242]\ttraining's auc: 0.927328\tvalid_1's auc: 0.917065\n",
      "[243]\ttraining's auc: 0.927381\tvalid_1's auc: 0.917078\n",
      "[244]\ttraining's auc: 0.927418\tvalid_1's auc: 0.917089\n",
      "[245]\ttraining's auc: 0.927519\tvalid_1's auc: 0.917125\n",
      "[246]\ttraining's auc: 0.927577\tvalid_1's auc: 0.917143\n",
      "[247]\ttraining's auc: 0.927629\tvalid_1's auc: 0.917153\n",
      "[248]\ttraining's auc: 0.927702\tvalid_1's auc: 0.917117\n",
      "[249]\ttraining's auc: 0.927769\tvalid_1's auc: 0.917169\n",
      "[250]\ttraining's auc: 0.927788\tvalid_1's auc: 0.917157\n",
      "[251]\ttraining's auc: 0.927863\tvalid_1's auc: 0.917177\n",
      "[252]\ttraining's auc: 0.927889\tvalid_1's auc: 0.917185\n",
      "[253]\ttraining's auc: 0.927935\tvalid_1's auc: 0.91718\n",
      "[254]\ttraining's auc: 0.92799\tvalid_1's auc: 0.917189\n",
      "[255]\ttraining's auc: 0.928037\tvalid_1's auc: 0.917196\n",
      "[256]\ttraining's auc: 0.928074\tvalid_1's auc: 0.917179\n",
      "[257]\ttraining's auc: 0.928165\tvalid_1's auc: 0.917244\n",
      "[258]\ttraining's auc: 0.928208\tvalid_1's auc: 0.917252\n",
      "[259]\ttraining's auc: 0.928256\tvalid_1's auc: 0.917242\n",
      "[260]\ttraining's auc: 0.928302\tvalid_1's auc: 0.917242\n",
      "[261]\ttraining's auc: 0.92837\tvalid_1's auc: 0.917233\n",
      "[262]\ttraining's auc: 0.928426\tvalid_1's auc: 0.917227\n",
      "[263]\ttraining's auc: 0.928475\tvalid_1's auc: 0.917241\n",
      "[264]\ttraining's auc: 0.928517\tvalid_1's auc: 0.917254\n",
      "[265]\ttraining's auc: 0.928571\tvalid_1's auc: 0.917239\n",
      "[266]\ttraining's auc: 0.928648\tvalid_1's auc: 0.917249\n",
      "[267]\ttraining's auc: 0.928662\tvalid_1's auc: 0.917246\n",
      "[268]\ttraining's auc: 0.928694\tvalid_1's auc: 0.917226\n",
      "[269]\ttraining's auc: 0.928759\tvalid_1's auc: 0.917269\n",
      "[270]\ttraining's auc: 0.928807\tvalid_1's auc: 0.91726\n",
      "[271]\ttraining's auc: 0.928866\tvalid_1's auc: 0.917271\n",
      "[272]\ttraining's auc: 0.928934\tvalid_1's auc: 0.917303\n",
      "[273]\ttraining's auc: 0.928981\tvalid_1's auc: 0.917301\n",
      "[274]\ttraining's auc: 0.929019\tvalid_1's auc: 0.917295\n",
      "[275]\ttraining's auc: 0.929083\tvalid_1's auc: 0.917284\n",
      "[276]\ttraining's auc: 0.929156\tvalid_1's auc: 0.917312\n",
      "[277]\ttraining's auc: 0.929222\tvalid_1's auc: 0.917307\n",
      "[278]\ttraining's auc: 0.929263\tvalid_1's auc: 0.917301\n",
      "[279]\ttraining's auc: 0.929303\tvalid_1's auc: 0.917277\n",
      "[280]\ttraining's auc: 0.92938\tvalid_1's auc: 0.917357\n",
      "[281]\ttraining's auc: 0.929405\tvalid_1's auc: 0.917343\n",
      "[282]\ttraining's auc: 0.929424\tvalid_1's auc: 0.917338\n",
      "[283]\ttraining's auc: 0.929476\tvalid_1's auc: 0.917332\n",
      "[284]\ttraining's auc: 0.929511\tvalid_1's auc: 0.917327\n",
      "[285]\ttraining's auc: 0.929551\tvalid_1's auc: 0.917315\n",
      "[286]\ttraining's auc: 0.929597\tvalid_1's auc: 0.917313\n",
      "[287]\ttraining's auc: 0.929655\tvalid_1's auc: 0.917337\n",
      "[288]\ttraining's auc: 0.929672\tvalid_1's auc: 0.917326\n",
      "[289]\ttraining's auc: 0.929709\tvalid_1's auc: 0.917297\n",
      "[290]\ttraining's auc: 0.929739\tvalid_1's auc: 0.917285\n",
      "[291]\ttraining's auc: 0.929779\tvalid_1's auc: 0.9173\n",
      "[292]\ttraining's auc: 0.929839\tvalid_1's auc: 0.917289\n",
      "[293]\ttraining's auc: 0.929879\tvalid_1's auc: 0.917284\n",
      "[294]\ttraining's auc: 0.929949\tvalid_1's auc: 0.91727\n",
      "[295]\ttraining's auc: 0.930011\tvalid_1's auc: 0.91726\n",
      "[296]\ttraining's auc: 0.930062\tvalid_1's auc: 0.91726\n",
      "[297]\ttraining's auc: 0.930099\tvalid_1's auc: 0.917277\n",
      "[298]\ttraining's auc: 0.930151\tvalid_1's auc: 0.917308\n",
      "[299]\ttraining's auc: 0.93019\tvalid_1's auc: 0.917318\n",
      "[300]\ttraining's auc: 0.930232\tvalid_1's auc: 0.917333\n",
      "Early stopping, best iteration is:\n",
      "[280]\ttraining's auc: 0.92938\tvalid_1's auc: 0.917357\n"
     ]
    },
    {
     "data": {
      "text/plain": [
       "LGBMClassifier(boosting_type='gbdt', colsample_bytree=0.9, learning_rate=0.1,\n",
       "        max_bin=255, max_depth=6, min_child_samples=10, min_child_weight=5,\n",
       "        min_split_gain=0, n_estimators=4000, nthread=4, num_leaves=12,\n",
       "        objective='binary', reg_alpha=0, reg_lambda=0, seed=123456,\n",
       "        silent=False, subsample=0.9, subsample_for_bin=50000,\n",
       "        subsample_freq=1)"
      ]
     },
     "execution_count": 14,
     "metadata": {},
     "output_type": "execute_result"
    }
   ],
   "source": [
    "model.fit(\n",
    "    X_train,\n",
    "    y_train,\n",
    "    eval_set=[(X_train, y_train), (X_test, y_test)],\n",
    "    early_stopping_rounds=20,\n",
    "    eval_metric='auc',\n",
    "    verbose=True, )"
   ]
  },
  {
   "cell_type": "code",
   "execution_count": 15,
   "metadata": {
    "collapsed": true
   },
   "outputs": [],
   "source": [
    "def get_score(model, X_train, train_features):\n",
    "    result = model.predict_proba(X_train)[:, 1]\n",
    "    train_features['prob'] = np.nan\n",
    "    train_features.loc[X_train.index, 'prob'] = result\n",
    "    train_x = train_features.loc[X_train.index, ['orderid', 'prob', 'orderlabel']]\n",
    "    train_x.sort_values('prob', ascending=False, inplace=True)\n",
    "    finall_result_x = train_x.drop_duplicates(['orderid'])\n",
    "    train_score = finall_result_x.orderlabel.mean()\n",
    "    print(train_score)\n",
    "    return train_score"
   ]
  },
  {
   "cell_type": "code",
   "execution_count": 20,
   "metadata": {
    "collapsed": false
   },
   "outputs": [
    {
     "name": "stdout",
     "output_type": "stream",
     "text": [
      "0.328783501046\n"
     ]
    },
    {
     "data": {
      "text/plain": [
       "0.3287835010461293"
      ]
     },
     "execution_count": 20,
     "metadata": {},
     "output_type": "execute_result"
    }
   ],
   "source": [
    "get_score(model, X_train, train_features)"
   ]
  },
  {
   "cell_type": "code",
   "execution_count": 21,
   "metadata": {
    "collapsed": false
   },
   "outputs": [
    {
     "name": "stdout",
     "output_type": "stream",
     "text": [
      "0.201629739376\n"
     ]
    },
    {
     "data": {
      "text/plain": [
       "0.20162973937638898"
      ]
     },
     "execution_count": 21,
     "metadata": {},
     "output_type": "execute_result"
    }
   ],
   "source": [
    "get_score(model, X_test, train_features)"
   ]
  },
  {
   "cell_type": "code",
   "execution_count": 22,
   "metadata": {
    "collapsed": false
   },
   "outputs": [
    {
     "data": {
      "text/plain": [
       "'hotel_roomid_rank:0.072727270424366 , basicroomid__room_30days_ordnumratio_max:0.048376623541116714 , roomservice_8:0.04577922075986862 , uid__hotel_roomid_count:0.03279220685362816 , hotel_roomid__hotel_roomid_diff_price_last_lastord_mean:0.02922077849507332 , hotel_roomid__hotel_roomid_diff_price_last_lastord_max:0.024025974795222282 , hotelid__room_30days_ordnumratio_max:0.020129870623350143 , roomtag_1:0.019155845046043396 , hotel_roomid_room_30days_realratio:0.01785714365541935 , basicroomid__roomtag_1_count:0.016558442264795303 , basicroomid__price_deduct_std:0.01461038924753666 , basicroomid_is_lastord:0.013636363670229912 , roomtag_3:0.013311687856912613 , uid_user_rank_ratio:0.012987012974917889 , hotelid__price_deduct_min:0.012662338092923164 , basicroomid__room_30days_realratio_min:0.012337662279605865 , uid_user_avgpromotion:0.012012987397611141 , hotelid__basicroomid_count:0.012012987397611141 , basicroomid__room_30days_ordnumratio_mean:0.011363636702299118 , roomservice_7:0.01103896088898182 , roomservice_4:0.010714286006987095 , uid_orderbehavior_8:0.010714286006987095 , roomservice_3:0.010714286006987095 , basicroomid__room_30days_ordnumratio_std:0.010714286006987095 , basicroomid__basicroomid_diff_price_last_lastord_mean:0.010389610193669796 , hotel_roomid__hotel_roomid_diff_basic_minprice_lastord_mean:0.010389610193669796 , hotel_roomid__hotel_roomid_diff_hotel_minprice_lastord_max:0.010389610193669796 , basicroomid__room_30days_realratio_mean:0.009415584616363049 , hotelid__roomid_count:0.009415584616363049 , basicroomid__roomid_count:0.009415584616363049 , uid__uid_diff_hotel_minprice_lastord_mean:0.009415584616363049 , orderspan:0.008766233921051025 , hotel_roomid__hotel_roomid_diff_hotel_minprice_lastord_mean:0.008441558107733727 , uid__uid_diff_price_last_lastord_mean:0.008441558107733727 , hotelid_is_lastord:0.008116883225739002 , basicroomid__price_deduct_min:0.007792207878082991 , basicroomid__room_30days_ordnumratio_75:0.007792207878082991 , uid_user_avgprice_star:0.007467532530426979 , basicroomid__room_30days_realratio_25:0.006493506487458944 , uid_basic_minprice_lastord:0.006493506487458944 , basicroomid__room_30days_ordnumratio_25:0.006493506487458944 , basicroomid__room_30days_realratio_75:0.006168831139802933 , basicroomid__basicroomid_diff_basic_minprice_lastord_mean:0.005844155792146921 , uid__uid_diff_basic_minprice_lastord_75:0.005844155792146921 , uid_user_ordnum_3month:0.005844155792146921 , basicroomid__roomtag_3_count:0.00551948044449091 , hotel_roomid__hotel_roomid_diff_basic_minprice_lastord_max:0.00551948044449091 , roomservice_1:0.00551948044449091 , uid__uid_diff_price_last_lastord_75:0.00551948044449091 , basicroomid__room_30days_ordnumratio_min:0.005194805096834898 '"
      ]
     },
     "execution_count": 22,
     "metadata": {},
     "output_type": "execute_result"
    }
   ],
   "source": [
    "importance_df = pd.DataFrame(model.feature_importances_, index=use_columns)\n",
    "\n",
    "importance_df.sort_values(0, ascending=False, inplace=True)\n",
    "importance_df.to_pickle('xgb_importance.pkl')\n",
    "importance_top50 = ', '.join(['{}:{} '.format(x, importance_df.loc[x].values[0]) for x in importance_df.index][:50])\n",
    "importance_top50"
   ]
  },
  {
   "cell_type": "code",
   "execution_count": 23,
   "metadata": {
    "collapsed": true
   },
   "outputs": [],
   "source": [
    "pickle.dump(model, open(model_path, 'wb'))"
   ]
  }
 ],
 "metadata": {
  "anaconda-cloud": {},
  "hide_input": false,
  "kernelspec": {
   "display_name": "Python 3",
   "language": "python",
   "name": "python3"
  },
  "language_info": {
   "codemirror_mode": {
    "name": "ipython",
    "version": 3
   },
   "file_extension": ".py",
   "mimetype": "text/x-python",
   "name": "python",
   "nbconvert_exporter": "python",
   "pygments_lexer": "ipython3",
   "version": "3.5.1"
  }
 },
 "nbformat": 4,
 "nbformat_minor": 2
}
