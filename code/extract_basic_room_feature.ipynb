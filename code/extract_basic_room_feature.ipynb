{
 "cells": [
  {
   "cell_type": "code",
   "execution_count": 20,
   "metadata": {
    "collapsed": true
   },
   "outputs": [],
   "source": [
    "import sys\n",
    "import gc\n",
    "from datetime import datetime\n",
    "from os.path import join\n",
    "from warnings import warn\n",
    "\n",
    "import numpy as np\n",
    "import pandas as pd\n",
    "import scipy as sp\n",
    "\n",
    "from utils import *"
   ]
  },
  {
   "cell_type": "code",
   "execution_count": 13,
   "metadata": {
    "collapsed": true
   },
   "outputs": [],
   "source": [
    "# sys.argv[1] = 'test'"
   ]
  },
  {
   "cell_type": "code",
   "execution_count": 14,
   "metadata": {
    "collapsed": true
   },
   "outputs": [],
   "source": [
    "dir_arg = sys.argv[1]\n",
    "if dir_arg == '-f':\n",
    "    is_test = False\n",
    "    file_dir = join('..', 'dataset', 'train')\n",
    "else:\n",
    "    is_test = True\n",
    "    file_dir = join('..', 'dataset',  dir_arg)"
   ]
  },
  {
   "cell_type": "code",
   "execution_count": 56,
   "metadata": {
    "collapsed": false
   },
   "outputs": [
    {
     "name": "stdout",
     "output_type": "stream",
     "text": [
      "2017-08-06 00:18:45.845209 2017-06-12\n",
      "2017-08-06 00:18:45.845431\n",
      "--------------------\n",
      "uid uniuqe shape 34632\n",
      "hotelid uniuqe shape 34632\n",
      "basicroomid uniuqe shape 192816\n",
      "roomid uniuqe shape 974533\n",
      "--------------------\n"
     ]
    }
   ],
   "source": [
    "train_df = pd.read_pickle(join(file_dir, 'base_feauture.pkl'))\n",
    "\n",
    "sample = pd.read_pickle(join(file_dir, 'basicroomid.pkl'))\n",
    "\n",
    "now_date = train_df.orderdate.max().date()\n",
    "print(datetime.now(), now_date)\n",
    "\n",
    "uid_shape, hotelid_shape, basicroomid_shape, roomid_shape = print_shape(\n",
    "    train_df, ['uid', 'hotelid', 'basicroomid', 'roomid'])"
   ]
  },
  {
   "cell_type": "code",
   "execution_count": 16,
   "metadata": {
    "collapsed": false
   },
   "outputs": [
    {
     "name": "stdout",
     "output_type": "stream",
     "text": [
      "2017-08-05 23:43:41.293413 begin ../dataset/test/basic_room_feature.pkl\n"
     ]
    }
   ],
   "source": [
    "feature_path = join(file_dir, 'basic_room_feature.pkl')\n",
    "print(datetime.now(), 'begin', feature_path)"
   ]
  },
  {
   "cell_type": "markdown",
   "metadata": {},
   "source": [
    "## 基本分类计数特征"
   ]
  },
  {
   "cell_type": "code",
   "execution_count": 6,
   "metadata": {
    "collapsed": true
   },
   "outputs": [],
   "source": [
    "train_df.loc[train_df.basic_minarea<0, 'basic_minarea'] = np.nan\n",
    "train_df.loc[train_df.basic_maxarea<0, 'basic_maxarea'] = np.nan"
   ]
  },
  {
   "cell_type": "code",
   "execution_count": 7,
   "metadata": {
    "collapsed": true
   },
   "outputs": [],
   "source": [
    "sample = add_column(train_df, sample, 'basicroomid', 'basic_minarea')\n",
    "sample = add_column(train_df, sample, 'basicroomid', 'basic_maxarea')"
   ]
  },
  {
   "cell_type": "code",
   "execution_count": 8,
   "metadata": {
    "collapsed": true
   },
   "outputs": [],
   "source": [
    "basic_cols = [\n",
    "    'basic_week_ordernum_ratio', 'basic_recent3_ordernum_ratio',\n",
    "    'basic_comment_ratio', 'basic_30days_ordnumratio', 'basic_30days_realratio'\n",
    "]"
   ]
  },
  {
   "cell_type": "code",
   "execution_count": 10,
   "metadata": {
    "collapsed": false
   },
   "outputs": [],
   "source": [
    "# for col in basic_cols:\n",
    "#     sample = add_column(train_df, sample, 'basicroomid', col)"
   ]
  },
  {
   "cell_type": "code",
   "execution_count": 11,
   "metadata": {
    "collapsed": true
   },
   "outputs": [],
   "source": [
    "for i in range(1, 8):\n",
    "    f = 'roomservice_%d' % (i+1)\n",
    "    sample = extract_feature_count('basicroomid', f, train_df, sample)"
   ]
  },
  {
   "cell_type": "code",
   "execution_count": 12,
   "metadata": {
    "collapsed": true
   },
   "outputs": [],
   "source": [
    "for i in range(4):\n",
    "    f = 'roomtag_%d' % (i+1)\n",
    "    sample = extract_feature_count('basicroomid', f, train_df, sample)"
   ]
  },
  {
   "cell_type": "code",
   "execution_count": 13,
   "metadata": {
    "collapsed": true
   },
   "outputs": [],
   "source": [
    "sample = extract_feature_count('basicroomid', 'roomid', train_df, sample)"
   ]
  },
  {
   "cell_type": "code",
   "execution_count": 14,
   "metadata": {
    "collapsed": true
   },
   "outputs": [],
   "source": [
    "# get_corr(train_df, sample, 'basicroomid')"
   ]
  },
  {
   "cell_type": "markdown",
   "metadata": {},
   "source": [
    "## 数值统计特征"
   ]
  },
  {
   "cell_type": "markdown",
   "metadata": {},
   "source": [
    "### 价格"
   ]
  },
  {
   "cell_type": "code",
   "execution_count": 15,
   "metadata": {
    "collapsed": true
   },
   "outputs": [],
   "source": [
    "use_describe = ['max', 'min', 'median', 'mean', 'std', 'nunique']"
   ]
  },
  {
   "cell_type": "code",
   "execution_count": 16,
   "metadata": {
    "collapsed": false
   },
   "outputs": [],
   "source": [
    "train_df['price_real'] = train_df['price_deduct'] + train_df['returnvalue']"
   ]
  },
  {
   "cell_type": "code",
   "execution_count": 17,
   "metadata": {
    "collapsed": false
   },
   "outputs": [],
   "source": [
    "sample = extract_value_describe_feature('basicroomid', 'price_deduct', train_df, sample, use_describe)\n",
    "\n",
    "sample = extract_value_describe_feature('basicroomid', 'price_real', train_df, sample, ['max', 'mean', 'min', 'median'])\n",
    "\n",
    "sample = extract_value_describe_feature('basicroomid', 'returnvalue', train_df, sample,['max', 'min', 'median'] )"
   ]
  },
  {
   "cell_type": "markdown",
   "metadata": {},
   "source": [
    "### 价格排序"
   ]
  },
  {
   "cell_type": "code",
   "execution_count": 18,
   "metadata": {
    "collapsed": true
   },
   "outputs": [],
   "source": [
    "def df_min_orderid(df):\n",
    "    add = pd.DataFrame(df.groupby([\"orderid\"]).price_deduct.min()).reset_index()\n",
    "    add.columns = [\"orderid\", \"orderid_price_deduct_min\"]\n",
    "    df = df.merge(add, on=[\"orderid\"], how=\"left\")\n",
    "    df = press_date(df, ['orderid_price_deduct_min'])\n",
    "    return df"
   ]
  },
  {
   "cell_type": "code",
   "execution_count": 19,
   "metadata": {
    "collapsed": true
   },
   "outputs": [],
   "source": [
    "def df_rank_mean(df):\n",
    "    add = pd.DataFrame(df.groupby([\"basicroomid\"]).orderid_price_deduct_min_rank.mean()).reset_index()\n",
    "    add.columns = [\"basicroomid\",\"orderid_price_deduct_min_rank_mean\"]\n",
    "    df = df.merge(add, on=[\"basicroomid\"], how=\"left\")\n",
    "    df = press_date(df, ['orderid_price_deduct_min_rank_mean'])\n",
    "    return df"
   ]
  },
  {
   "cell_type": "code",
   "execution_count": 20,
   "metadata": {
    "collapsed": true
   },
   "outputs": [],
   "source": [
    "# train_df = df_min_orderid(df)\n",
    "\n",
    "# train_df[\"orderid_price_deduct_min_rank\"] = train_df['orderid_price_deduct_min'].groupby(train_df['orderid']).rank()\n",
    "\n",
    "# train_df[\"orderid_price_deduct_min_rank\"]\n",
    "\n",
    "# train_df = df_rank_mean(train_df)"
   ]
  },
  {
   "cell_type": "code",
   "execution_count": 21,
   "metadata": {
    "collapsed": false
   },
   "outputs": [],
   "source": [
    "# sample['basicroomid__price_deduct_min_rank'] = sample.basicroomid__price_deduct_min.rank()"
   ]
  },
  {
   "cell_type": "markdown",
   "metadata": {},
   "source": [
    "## 子房型rank统计特征"
   ]
  },
  {
   "cell_type": "code",
   "execution_count": 22,
   "metadata": {
    "collapsed": true
   },
   "outputs": [],
   "source": [
    "sample = extract_value_describe_feature('basicroomid', 'rank',\n",
    "                                        train_df, sample,\n",
    "                                        ['max', 'min', 'median', 'mean', 'std', 'nunique'])"
   ]
  },
  {
   "cell_type": "code",
   "execution_count": 23,
   "metadata": {
    "collapsed": false
   },
   "outputs": [],
   "source": [
    "# get_corr(train_df, sample, 'basicroomid')"
   ]
  },
  {
   "cell_type": "markdown",
   "metadata": {},
   "source": [
    "## 物理房型统计特征 "
   ]
  },
  {
   "cell_type": "code",
   "execution_count": 19,
   "metadata": {
    "collapsed": true
   },
   "outputs": [],
   "source": [
    "basic_stat_cols = [\n",
    "    'basicroomid', 'orderdate', 'basic_week_ordernum_ratio',\n",
    "    'basic_recent3_ordernum_ratio', 'basic_comment_ratio',\n",
    "    'basic_30days_ordnumratio', 'basic_30days_realratio'\n",
    "]"
   ]
  },
  {
   "cell_type": "code",
   "execution_count": 59,
   "metadata": {
    "collapsed": false
   },
   "outputs": [
    {
     "name": "stdout",
     "output_type": "stream",
     "text": [
      "get test_df  (772957, 7)\n"
     ]
    }
   ],
   "source": [
    "if is_test:\n",
    "    history_df = pd.read_pickle('../dataset/train.pkl')\n",
    "    history_df = history_df.loc[history_df.basicroomid.isin(train_df.basicroomid.unique()), basic_stat_cols]\n",
    "    print('get test_df ', history_df.shape)\n",
    "    tdf = train_df[basic_stat_cols]\n",
    "    tdf = pd.concat([tdf, history_df])\n",
    "    del history_df\n",
    "    gc.collect()\n",
    "else:\n",
    "    tdf = train_df[basic_stat_cols]"
   ]
  },
  {
   "cell_type": "code",
   "execution_count": 61,
   "metadata": {
    "collapsed": false
   },
   "outputs": [],
   "source": [
    "tdf.orderdate = tdf.orderdate.dt.weekday\n",
    "\n",
    "ntdf = tdf[basic_stat_cols].groupby(['basicroomid', 'orderdate']).mean().reset_index()"
   ]
  },
  {
   "cell_type": "code",
   "execution_count": 62,
   "metadata": {
    "collapsed": true
   },
   "outputs": [],
   "source": [
    "stat_cols = [\n",
    "    'basic_week_ordernum_ratio', 'basic_recent3_ordernum_ratio',\n",
    "    'basic_comment_ratio', 'basic_30days_ordnumratio', 'basic_30days_realratio'\n",
    "]"
   ]
  },
  {
   "cell_type": "code",
   "execution_count": 64,
   "metadata": {
    "collapsed": true
   },
   "outputs": [],
   "source": [
    "use_describe = ['max', 'mean', 'mad', 'var', 'median', 'sum']"
   ]
  },
  {
   "cell_type": "code",
   "execution_count": 51,
   "metadata": {
    "collapsed": false
   },
   "outputs": [],
   "source": [
    "# sample = extract_value_describe_feature('basicroomid', 'basic_week_ordernum_ratio_var', ntdf, sample,\n",
    "#                                         ['max', 'mean', 'median', 'sum'])"
   ]
  },
  {
   "cell_type": "code",
   "execution_count": null,
   "metadata": {
    "collapsed": true
   },
   "outputs": [],
   "source": [
    "['basic_week_ordernum_ratio_mad', 'basicroomid__basic_week_ordernum_ratio_var',\n",
    "'basicroomid__basic_recent3_ordernum_ratio_mad', \n",
    "'basicroomid__basic_recent3_ordernum_ratio_var',\n",
    "'basicroomid__basic_comment_ratio_var',\n",
    "'basicroomid__basic_30days_ordnumratio_mad',\n",
    "'basicroomid__basic_30days_ordnumratio_var',\n",
    "'basicroomid__basic_30days_realratio_var']"
   ]
  },
  {
   "cell_type": "code",
   "execution_count": 65,
   "metadata": {
    "collapsed": true
   },
   "outputs": [
    {
     "name": "stderr",
     "output_type": "stream",
     "text": [
      "/home/zhanglun/notebook/room/code/utils.py:30: UserWarning: column  basicroomid__basic_week_ordernum_ratio_mad is  may be error when meet percent max:0.5\n",
      "  warn('column  {} is  may be error when meet percent max:{}'.format(c, c_max))\n",
      "/home/zhanglun/notebook/room/code/utils.py:30: UserWarning: column  basicroomid__basic_week_ordernum_ratio_var is  may be error when meet percent max:0.5\n",
      "  warn('column  {} is  may be error when meet percent max:{}'.format(c, c_max))\n",
      "/home/zhanglun/notebook/room/code/utils.py:30: UserWarning: column  basicroomid__basic_recent3_ordernum_ratio_mad is  may be error when meet percent max:0.5\n",
      "  warn('column  {} is  may be error when meet percent max:{}'.format(c, c_max))\n",
      "/home/zhanglun/notebook/room/code/utils.py:30: UserWarning: column  basicroomid__basic_recent3_ordernum_ratio_var is  may be error when meet percent max:0.5\n",
      "  warn('column  {} is  may be error when meet percent max:{}'.format(c, c_max))\n",
      "/home/zhanglun/notebook/room/code/utils.py:30: UserWarning: column  basicroomid__basic_comment_ratio_mad is  may be error when meet percent max:0.5\n",
      "  warn('column  {} is  may be error when meet percent max:{}'.format(c, c_max))\n",
      "/home/zhanglun/notebook/room/code/utils.py:30: UserWarning: column  basicroomid__basic_comment_ratio_var is  may be error when meet percent max:0.5\n",
      "  warn('column  {} is  may be error when meet percent max:{}'.format(c, c_max))\n",
      "/home/zhanglun/notebook/room/code/utils.py:30: UserWarning: column  basicroomid__basic_30days_ordnumratio_mad is  may be error when meet percent max:0.3333740234375\n",
      "  warn('column  {} is  may be error when meet percent max:{}'.format(c, c_max))\n",
      "/home/zhanglun/notebook/room/code/utils.py:30: UserWarning: column  basicroomid__basic_30days_ordnumratio_var is  may be error when meet percent max:0.2222764790058136\n",
      "  warn('column  {} is  may be error when meet percent max:{}'.format(c, c_max))\n"
     ]
    }
   ],
   "source": [
    "for c in stat_cols:\n",
    "    print('extract',  c, use_describe)\n",
    "    sample = extract_value_describe_feature(\n",
    "        'basicroomid', c, ntdf, sample, use_describe)"
   ]
  },
  {
   "cell_type": "code",
   "execution_count": 67,
   "metadata": {
    "collapsed": false
   },
   "outputs": [],
   "source": [
    "# get_corr(train_df, sample, 'basicroomid')"
   ]
  },
  {
   "cell_type": "markdown",
   "metadata": {},
   "source": [
    "## 子房型的统计特征 "
   ]
  },
  {
   "cell_type": "code",
   "execution_count": 24,
   "metadata": {
    "collapsed": true
   },
   "outputs": [],
   "source": [
    "room_cols = ['room_30days_ordnumratio', 'room_30days_realratio']"
   ]
  },
  {
   "cell_type": "code",
   "execution_count": 25,
   "metadata": {
    "collapsed": false,
    "scrolled": true
   },
   "outputs": [
    {
     "name": "stderr",
     "output_type": "stream",
     "text": [
      "/home/zhanglun/notebook/room/code/utils.py:30: UserWarning: column  basicroomid__room_30days_ordnumratio_std is  may be error when meet percent max:0.6240700717747484\n",
      "  warn('column  {} is  may be error when meet percent max:{}'.format(c, c_max))\n"
     ]
    }
   ],
   "source": [
    "sample = extract_value_describe_feature(\n",
    "    'basicroomid', 'room_30days_ordnumratio', train_df, sample,\n",
    "    ['max', 'min', 'median', 'mean', 'std', 'nunique', 'var', 'mad', 'sum'])"
   ]
  },
  {
   "cell_type": "code",
   "execution_count": 26,
   "metadata": {
    "collapsed": true
   },
   "outputs": [],
   "source": [
    "sample = extract_value_describe_feature('basicroomid', 'room_30days_realratio',\n",
    "                                        train_df, sample,\n",
    "                                        ['max', 'min', 'median', 'mean', 'std', 'nunique', 'count',  'var', 'mad', 'sum'])"
   ]
  },
  {
   "cell_type": "code",
   "execution_count": 27,
   "metadata": {
    "collapsed": true
   },
   "outputs": [],
   "source": [
    "# get_corr(train_df, sample, 'basicroomid').tail(10)"
   ]
  },
  {
   "cell_type": "markdown",
   "metadata": {},
   "source": [
    "## 历史价格统计特征"
   ]
  },
  {
   "cell_type": "code",
   "execution_count": 28,
   "metadata": {
    "collapsed": true
   },
   "outputs": [],
   "source": [
    "price_use_describe = ['max', 'std', 'mean', 'min']"
   ]
  },
  {
   "cell_type": "code",
   "execution_count": 29,
   "metadata": {
    "collapsed": true
   },
   "outputs": [],
   "source": [
    "name_fmt = '{}_diff_{}'.format('basicroomid', '{}')\n",
    "\n",
    "price_diff_name = name_fmt.format('price_last_lastord')\n",
    "hotel_minprice_diff_name = name_fmt.format('hotel_minprice_lastord')\n",
    "basic_minprice_diff_name = name_fmt.format('basic_minprice_lastord')"
   ]
  },
  {
   "cell_type": "code",
   "execution_count": 30,
   "metadata": {
    "collapsed": true
   },
   "outputs": [],
   "source": [
    "train_df[price_diff_name] = train_df['price_deduct'] - train_df['price_last_lastord']\n",
    "train_df[hotel_minprice_diff_name] = train_df['price_deduct'] - train_df['hotel_minprice_lastord']\n",
    "train_df[basic_minprice_diff_name] = train_df['price_deduct'] - train_df['basic_minprice_lastord']"
   ]
  },
  {
   "cell_type": "code",
   "execution_count": 31,
   "metadata": {
    "collapsed": true
   },
   "outputs": [],
   "source": [
    "sample = extract_value_describe_feature('basicroomid', price_diff_name, train_df, sample, price_use_describe)"
   ]
  },
  {
   "cell_type": "code",
   "execution_count": 32,
   "metadata": {
    "collapsed": false
   },
   "outputs": [],
   "source": [
    "sample = extract_value_describe_feature('basicroomid', hotel_minprice_diff_name, train_df, sample, price_use_describe)\n",
    "sample = extract_value_describe_feature('basicroomid', basic_minprice_diff_name, train_df, sample, price_use_describe)"
   ]
  },
  {
   "cell_type": "code",
   "execution_count": 33,
   "metadata": {
    "collapsed": true
   },
   "outputs": [],
   "source": [
    "# get_corr(train_df, sample, 'basicroomid').tail(20)"
   ]
  },
  {
   "cell_type": "markdown",
   "metadata": {},
   "source": [
    "## 历史时间间隔统计特征"
   ]
  },
  {
   "cell_type": "code",
   "execution_count": 34,
   "metadata": {
    "collapsed": true
   },
   "outputs": [],
   "source": [
    "span_name, t = '{}_span'.format('basicroomid'), 'basicroomid'"
   ]
  },
  {
   "cell_type": "code",
   "execution_count": 35,
   "metadata": {
    "collapsed": false
   },
   "outputs": [],
   "source": [
    "# train_df[span_name] = (now_date - train_df.orderdate_lastord).dt.days\n",
    "\n",
    "# sample = extract_value_describe_feature(t, span_name, train_df, sample, ['max', 'min', 'mean'])"
   ]
  },
  {
   "cell_type": "code",
   "execution_count": 36,
   "metadata": {
    "collapsed": true
   },
   "outputs": [],
   "source": [
    "# get_corr(train_df, sample, 'basicroomid')"
   ]
  },
  {
   "cell_type": "markdown",
   "metadata": {},
   "source": [
    "## 上次订购的特征 "
   ]
  },
  {
   "cell_type": "code",
   "execution_count": 37,
   "metadata": {
    "collapsed": false
   },
   "outputs": [],
   "source": [
    "# basic_cols = [c for c in train_df.columns if c.startswith('basic') and not c.endswith('area')]\n",
    "# basic_cols"
   ]
  },
  {
   "cell_type": "code",
   "execution_count": 79,
   "metadata": {
    "collapsed": false
   },
   "outputs": [],
   "source": [
    "# use_cols = ['uid', 'orderdate_lastord', 'hotelid', 'basicroomid_lastord', 'basicroomid'] "
   ]
  },
  {
   "cell_type": "code",
   "execution_count": 80,
   "metadata": {
    "collapsed": true
   },
   "outputs": [],
   "source": [
    "# basic_feature = train_df[use_cols].drop_duplicates()"
   ]
  },
  {
   "cell_type": "code",
   "execution_count": 81,
   "metadata": {
    "collapsed": false
   },
   "outputs": [
    {
     "name": "stderr",
     "output_type": "stream",
     "text": [
      "/home/zhanglun/.pyenv/versions/anaconda3-4.1.0/lib/python3.5/site-packages/ipykernel/__main__.py:2: UserWarning: [uid, basicroomid].shape[0] != basic_feature.shape[0]\n",
      "  from ipykernel import kernelapp as app\n"
     ]
    }
   ],
   "source": [
    "# if train_df.drop_duplicates(['uid', 'basicroomid']).shape[0] != basic_feature.shape[0]:\n",
    "#     warn('[uid, basicroomid].shape[0] != basic_feature.shape[0]')"
   ]
  },
  {
   "cell_type": "code",
   "execution_count": 82,
   "metadata": {
    "collapsed": true
   },
   "outputs": [],
   "source": [
    "# cols = [x for x in train_df.columns if x.endswith('lastord')]"
   ]
  },
  {
   "cell_type": "code",
   "execution_count": 88,
   "metadata": {
    "collapsed": false
   },
   "outputs": [],
   "source": [
    "# train_df.loc[train_df.orderdate_lastord.isnull()][cols].return_lastord.value_counts()"
   ]
  },
  {
   "cell_type": "code",
   "execution_count": 89,
   "metadata": {
    "collapsed": true
   },
   "outputs": [],
   "source": [
    "# sample = extract_lastord_is_nan(basic_feature, sample, 'basicroomid', 'basicroomid_lastord')"
   ]
  },
  {
   "cell_type": "code",
   "execution_count": 85,
   "metadata": {
    "collapsed": true
   },
   "outputs": [],
   "source": [
    "# sample = extract_is_lastord(basic_feature, sample, 'basicroomid', 'basicroomid_lastord')"
   ]
  },
  {
   "cell_type": "code",
   "execution_count": 38,
   "metadata": {
    "collapsed": false
   },
   "outputs": [
    {
     "name": "stdout",
     "output_type": "stream",
     "text": [
      "2017-08-05 08:48:01.176270 save to ../dataset/train/basic_room_feature.pkl\n"
     ]
    }
   ],
   "source": [
    "sample.to_pickle(feature_path)\n",
    "\n",
    "print(datetime.now(), 'save to', feature_path)"
   ]
  }
 ],
 "metadata": {
  "anaconda-cloud": {},
  "hide_input": false,
  "kernelspec": {
   "display_name": "Python 3",
   "language": "python",
   "name": "python3"
  },
  "language_info": {
   "codemirror_mode": {
    "name": "ipython",
    "version": 3
   },
   "file_extension": ".py",
   "mimetype": "text/x-python",
   "name": "python",
   "nbconvert_exporter": "python",
   "pygments_lexer": "ipython3",
   "version": "3.5.1"
  }
 },
 "nbformat": 4,
 "nbformat_minor": 2
}
