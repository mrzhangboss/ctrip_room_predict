{
 "cells": [
  {
   "cell_type": "code",
   "execution_count": 1,
   "metadata": {
    "collapsed": true
   },
   "outputs": [],
   "source": [
    "import sys\n",
    "from datetime import datetime\n",
    "from os.path import join\n",
    "from warnings import warn\n",
    "\n",
    "import numpy as np\n",
    "import pandas as pd\n",
    "import scipy as sp\n",
    "\n",
    "from utils import *"
   ]
  },
  {
   "cell_type": "code",
   "execution_count": 2,
   "metadata": {
    "collapsed": true
   },
   "outputs": [],
   "source": [
    "dir_arg = sys.argv[1]\n",
    "if dir_arg == '-f':\n",
    "    file_dir = join('..', 'dataset', '11')\n",
    "else:\n",
    "    file_dir = join('..', 'dataset',  dir_arg)"
   ]
  },
  {
   "cell_type": "code",
   "execution_count": 3,
   "metadata": {
    "collapsed": false
   },
   "outputs": [
    {
     "name": "stdout",
     "output_type": "stream",
     "text": [
      "2017-08-04 07:50:56.352915 2017-06-11\n",
      "2017-08-04 07:50:56.353113\n",
      "--------------------\n",
      "uid uniuqe shape 3552\n",
      "hotelid uniuqe shape 3194\n",
      "basicroomid uniuqe shape 19542\n",
      "roomid uniuqe shape 121802\n",
      "--------------------\n"
     ]
    }
   ],
   "source": [
    "train_df = pd.read_pickle(join(file_dir, 'base_feauture.pkl'))\n",
    "\n",
    "sample = pd.read_pickle(join(file_dir, 'basicroomid.pkl'))\n",
    "\n",
    "now_date = train_df.orderdate.max().date()\n",
    "print(datetime.now(), now_date)\n",
    "\n",
    "uid_shape, hotelid_shape, basicroomid_shape, roomid_shape = print_shape(\n",
    "    train_df, ['uid', 'hotelid', 'basicroomid', 'roomid'])"
   ]
  },
  {
   "cell_type": "code",
   "execution_count": 4,
   "metadata": {
    "collapsed": false
   },
   "outputs": [
    {
     "name": "stdout",
     "output_type": "stream",
     "text": [
      "2017-08-04 07:50:56.375004 begin ../dataset/11/basic_room_feature.pkl\n"
     ]
    }
   ],
   "source": [
    "feature_path = join(file_dir, 'basic_room_feature.pkl')\n",
    "print(datetime.now(), 'begin', feature_path)"
   ]
  },
  {
   "cell_type": "markdown",
   "metadata": {},
   "source": [
    "## 基本分类计数特征"
   ]
  },
  {
   "cell_type": "code",
   "execution_count": 5,
   "metadata": {
    "collapsed": true
   },
   "outputs": [],
   "source": [
    "train_df.loc[train_df.basic_minarea<0, 'basic_minarea'] = np.nan\n",
    "train_df.loc[train_df.basic_maxarea<0, 'basic_maxarea'] = np.nan"
   ]
  },
  {
   "cell_type": "code",
   "execution_count": 6,
   "metadata": {
    "collapsed": true
   },
   "outputs": [],
   "source": [
    "sample = add_column(train_df, sample, 'basicroomid', 'basic_minarea')\n",
    "sample = add_column(train_df, sample, 'basicroomid', 'basic_maxarea')"
   ]
  },
  {
   "cell_type": "code",
   "execution_count": 7,
   "metadata": {
    "collapsed": true
   },
   "outputs": [],
   "source": [
    "basic_cols = [\n",
    "    'basic_week_ordernum_ratio', 'basic_recent3_ordernum_ratio',\n",
    "    'basic_comment_ratio', 'basic_30days_ordnumratio', 'basic_30days_realratio'\n",
    "]"
   ]
  },
  {
   "cell_type": "code",
   "execution_count": 8,
   "metadata": {
    "collapsed": true
   },
   "outputs": [],
   "source": [
    "for col in basic_cols:\n",
    "    sample = add_column(train_df, sample, 'basicroomid', col)"
   ]
  },
  {
   "cell_type": "code",
   "execution_count": 9,
   "metadata": {
    "collapsed": true
   },
   "outputs": [],
   "source": [
    "for i in range(1, 8):\n",
    "    f = 'roomservice_%d' % (i+1)\n",
    "    sample = extract_feature_count('basicroomid', f, train_df, sample)"
   ]
  },
  {
   "cell_type": "code",
   "execution_count": 10,
   "metadata": {
    "collapsed": true
   },
   "outputs": [],
   "source": [
    "for i in range(4):\n",
    "    f = 'roomtag_%d' % (i+1)\n",
    "    sample = extract_feature_count('basicroomid', f, train_df, sample)"
   ]
  },
  {
   "cell_type": "code",
   "execution_count": 11,
   "metadata": {
    "collapsed": true
   },
   "outputs": [],
   "source": [
    "sample = extract_feature_count('basicroomid', 'roomid', train_df, sample)"
   ]
  },
  {
   "cell_type": "code",
   "execution_count": 12,
   "metadata": {
    "collapsed": true
   },
   "outputs": [],
   "source": [
    "# get_corr(train_df, sample, 'basicroomid')"
   ]
  },
  {
   "cell_type": "markdown",
   "metadata": {},
   "source": [
    "## 数值统计特征"
   ]
  },
  {
   "cell_type": "markdown",
   "metadata": {},
   "source": [
    "### 价格"
   ]
  },
  {
   "cell_type": "code",
   "execution_count": 13,
   "metadata": {
    "collapsed": true
   },
   "outputs": [],
   "source": [
    "use_describe = ['max', 'min', 'median', 'mean', 'std', 'nunique']"
   ]
  },
  {
   "cell_type": "code",
   "execution_count": 14,
   "metadata": {
    "collapsed": false
   },
   "outputs": [],
   "source": [
    "train_df['price_real'] = train_df['price_deduct'] + train_df['returnvalue']"
   ]
  },
  {
   "cell_type": "code",
   "execution_count": 15,
   "metadata": {
    "collapsed": false
   },
   "outputs": [],
   "source": [
    "sample = extract_value_describe_feature('basicroomid', 'price_deduct', train_df, sample, use_describe)\n",
    "\n",
    "sample = extract_value_describe_feature('basicroomid', 'price_real', train_df, sample, ['max', 'mean', 'min', 'median'])\n",
    "\n",
    "sample = extract_value_describe_feature('basicroomid', 'returnvalue', train_df, sample,['max', 'min', 'median'] )"
   ]
  },
  {
   "cell_type": "markdown",
   "metadata": {},
   "source": [
    "### 价格排序"
   ]
  },
  {
   "cell_type": "code",
   "execution_count": 16,
   "metadata": {
    "collapsed": true
   },
   "outputs": [],
   "source": [
    "def df_min_orderid(df):\n",
    "    add = pd.DataFrame(df.groupby([\"orderid\"]).price_deduct.min()).reset_index()\n",
    "    add.columns = [\"orderid\", \"orderid_price_deduct_min\"]\n",
    "    df = df.merge(add, on=[\"orderid\"], how=\"left\")\n",
    "    df = press_date(df, ['orderid_price_deduct_min'])\n",
    "    return df"
   ]
  },
  {
   "cell_type": "code",
   "execution_count": 17,
   "metadata": {
    "collapsed": true
   },
   "outputs": [],
   "source": [
    "def df_rank_mean(df):\n",
    "    add = pd.DataFrame(df.groupby([\"basicroomid\"]).orderid_price_deduct_min_rank.mean()).reset_index()\n",
    "    add.columns = [\"basicroomid\",\"orderid_price_deduct_min_rank_mean\"]\n",
    "    df = df.merge(add, on=[\"basicroomid\"], how=\"left\")\n",
    "    df = press_date(df, ['orderid_price_deduct_min_rank_mean'])\n",
    "    return df"
   ]
  },
  {
   "cell_type": "code",
   "execution_count": 18,
   "metadata": {
    "collapsed": true
   },
   "outputs": [],
   "source": [
    "# train_df = df_min_orderid(df)\n",
    "\n",
    "# train_df[\"orderid_price_deduct_min_rank\"] = train_df['orderid_price_deduct_min'].groupby(train_df['orderid']).rank()\n",
    "\n",
    "# train_df[\"orderid_price_deduct_min_rank\"]\n",
    "\n",
    "# train_df = df_rank_mean(train_df)"
   ]
  },
  {
   "cell_type": "code",
   "execution_count": 19,
   "metadata": {
    "collapsed": false
   },
   "outputs": [],
   "source": [
    "# sample['basicroomid__price_deduct_min_rank'] = sample.basicroomid__price_deduct_min.rank()"
   ]
  },
  {
   "cell_type": "markdown",
   "metadata": {},
   "source": [
    "## 子房型rank统计特征"
   ]
  },
  {
   "cell_type": "code",
   "execution_count": 20,
   "metadata": {
    "collapsed": true
   },
   "outputs": [],
   "source": [
    "sample = extract_value_describe_feature('basicroomid', 'rank',\n",
    "                                        train_df, sample,\n",
    "                                        ['max', 'min', 'median', 'mean', 'std', 'nunique'])"
   ]
  },
  {
   "cell_type": "code",
   "execution_count": 21,
   "metadata": {
    "collapsed": false
   },
   "outputs": [],
   "source": [
    "# get_corr(train_df, sample, 'basicroomid')"
   ]
  },
  {
   "cell_type": "markdown",
   "metadata": {},
   "source": [
    "## 子房型的统计特征 "
   ]
  },
  {
   "cell_type": "code",
   "execution_count": 22,
   "metadata": {
    "collapsed": true
   },
   "outputs": [],
   "source": [
    "room_cols = ['room_30days_ordnumratio', 'room_30days_realratio']"
   ]
  },
  {
   "cell_type": "code",
   "execution_count": 23,
   "metadata": {
    "collapsed": false,
    "scrolled": true
   },
   "outputs": [
    {
     "name": "stderr",
     "output_type": "stream",
     "text": [
      "/home/zhanglun/notebook/room/code/utils.py:30: UserWarning: column  basicroomid__room_30days_ordnumratio_std is  may be error when meet percent max:0.49685050736729985\n",
      "  warn('column  {} is  may be error when meet percent max:{}'.format(c, c_max))\n"
     ]
    }
   ],
   "source": [
    "sample = extract_value_describe_feature(\n",
    "    'basicroomid', 'room_30days_ordnumratio', train_df, sample,\n",
    "    ['max', 'min', 'median', 'mean', 'std', 'nunique'])"
   ]
  },
  {
   "cell_type": "code",
   "execution_count": 24,
   "metadata": {
    "collapsed": true
   },
   "outputs": [],
   "source": [
    "sample = extract_value_describe_feature('basicroomid', 'room_30days_realratio',\n",
    "                                        train_df, sample,\n",
    "                                        ['max', 'min', 'median', 'mean', 'std', 'nunique', 'count'])"
   ]
  },
  {
   "cell_type": "code",
   "execution_count": 25,
   "metadata": {
    "collapsed": true
   },
   "outputs": [],
   "source": [
    "# get_corr(train_df, sample, 'basicroomid').tail(10)"
   ]
  },
  {
   "cell_type": "markdown",
   "metadata": {},
   "source": [
    "## 历史价格统计特征"
   ]
  },
  {
   "cell_type": "code",
   "execution_count": 26,
   "metadata": {
    "collapsed": true
   },
   "outputs": [],
   "source": [
    "price_use_describe = ['max', 'std', 'mean', 'min']"
   ]
  },
  {
   "cell_type": "code",
   "execution_count": 27,
   "metadata": {
    "collapsed": true
   },
   "outputs": [],
   "source": [
    "name_fmt = '{}_diff_{}'.format('basicroomid', '{}')\n",
    "\n",
    "price_diff_name = name_fmt.format('price_last_lastord')\n",
    "hotel_minprice_diff_name = name_fmt.format('hotel_minprice_lastord')\n",
    "basic_minprice_diff_name = name_fmt.format('basic_minprice_lastord')"
   ]
  },
  {
   "cell_type": "code",
   "execution_count": 28,
   "metadata": {
    "collapsed": true
   },
   "outputs": [],
   "source": [
    "train_df[price_diff_name] = train_df['price_deduct'] - train_df['price_last_lastord']\n",
    "train_df[hotel_minprice_diff_name] = train_df['price_deduct'] - train_df['hotel_minprice_lastord']\n",
    "train_df[basic_minprice_diff_name] = train_df['price_deduct'] - train_df['basic_minprice_lastord']"
   ]
  },
  {
   "cell_type": "code",
   "execution_count": 29,
   "metadata": {
    "collapsed": true
   },
   "outputs": [],
   "source": [
    "sample = extract_value_describe_feature('basicroomid', price_diff_name, train_df, sample, price_use_describe)"
   ]
  },
  {
   "cell_type": "code",
   "execution_count": 30,
   "metadata": {
    "collapsed": false
   },
   "outputs": [],
   "source": [
    "sample = extract_value_describe_feature('basicroomid', hotel_minprice_diff_name, train_df, sample, price_use_describe)\n",
    "sample = extract_value_describe_feature('basicroomid', basic_minprice_diff_name, train_df, sample, price_use_describe)"
   ]
  },
  {
   "cell_type": "code",
   "execution_count": 31,
   "metadata": {
    "collapsed": true
   },
   "outputs": [],
   "source": [
    "# get_corr(train_df, sample, 'basicroomid').tail(20)"
   ]
  },
  {
   "cell_type": "markdown",
   "metadata": {},
   "source": [
    "## 历史时间间隔统计特征"
   ]
  },
  {
   "cell_type": "code",
   "execution_count": 32,
   "metadata": {
    "collapsed": true
   },
   "outputs": [],
   "source": [
    "span_name, t = '{}_span'.format('basicroomid'), 'basicroomid'"
   ]
  },
  {
   "cell_type": "code",
   "execution_count": 33,
   "metadata": {
    "collapsed": false
   },
   "outputs": [],
   "source": [
    "# train_df[span_name] = (now_date - train_df.orderdate_lastord).dt.days\n",
    "\n",
    "# sample = extract_value_describe_feature(t, span_name, train_df, sample, ['max', 'min', 'mean'])"
   ]
  },
  {
   "cell_type": "code",
   "execution_count": 34,
   "metadata": {
    "collapsed": true
   },
   "outputs": [],
   "source": [
    "# get_corr(train_df, sample, 'basicroomid')"
   ]
  },
  {
   "cell_type": "markdown",
   "metadata": {},
   "source": [
    "## 上次订购的特征 "
   ]
  },
  {
   "cell_type": "code",
   "execution_count": 35,
   "metadata": {
    "collapsed": false
   },
   "outputs": [
    {
     "data": {
      "text/plain": [
       "['basicroomid',\n",
       " 'basic_week_ordernum_ratio',\n",
       " 'basic_recent3_ordernum_ratio',\n",
       " 'basic_comment_ratio',\n",
       " 'basic_30days_ordnumratio',\n",
       " 'basic_30days_realratio',\n",
       " 'basicroomid_lastord',\n",
       " 'basic_minprice_lastord',\n",
       " 'basicroomid_diff_price_last_lastord',\n",
       " 'basicroomid_diff_hotel_minprice_lastord',\n",
       " 'basicroomid_diff_basic_minprice_lastord']"
      ]
     },
     "execution_count": 35,
     "metadata": {},
     "output_type": "execute_result"
    }
   ],
   "source": [
    "basic_cols = [c for c in train_df.columns if c.startswith('basic') and not c.endswith('area')]\n",
    "basic_cols"
   ]
  },
  {
   "cell_type": "code",
   "execution_count": 36,
   "metadata": {
    "collapsed": false
   },
   "outputs": [],
   "source": [
    "use_cols = ['uid', 'orderdate_lastord', 'hotelid', 'basicroomid_lastord', 'basicroomid'] "
   ]
  },
  {
   "cell_type": "code",
   "execution_count": 37,
   "metadata": {
    "collapsed": true
   },
   "outputs": [],
   "source": [
    "basic_feature = train_df[use_cols].drop_duplicates()"
   ]
  },
  {
   "cell_type": "code",
   "execution_count": 38,
   "metadata": {
    "collapsed": false
   },
   "outputs": [],
   "source": [
    "if train_df.drop_duplicates(['uid', 'basicroomid']).shape[0] != basic_feature.shape[0]:\n",
    "    warn('[uid, basicroomid].shape[0] != basic_feature.shape[0]')"
   ]
  },
  {
   "cell_type": "code",
   "execution_count": 39,
   "metadata": {
    "collapsed": true
   },
   "outputs": [],
   "source": [
    "cols = [x for x in train_df.columns if x.endswith('lastord')]"
   ]
  },
  {
   "cell_type": "code",
   "execution_count": 40,
   "metadata": {
    "collapsed": false
   },
   "outputs": [
    {
     "data": {
      "text/plain": [
       "200.0    11080\n",
       "Name: return_lastord, dtype: int64"
      ]
     },
     "execution_count": 40,
     "metadata": {},
     "output_type": "execute_result"
    }
   ],
   "source": [
    "train_df.loc[train_df.orderdate_lastord.isnull()][cols].return_lastord.value_counts()"
   ]
  },
  {
   "cell_type": "code",
   "execution_count": 41,
   "metadata": {
    "collapsed": true
   },
   "outputs": [],
   "source": [
    "sample = extract_lastord_is_nan(basic_feature, sample, 'basicroomid', 'basicroomid_lastord')"
   ]
  },
  {
   "cell_type": "code",
   "execution_count": 42,
   "metadata": {
    "collapsed": true
   },
   "outputs": [],
   "source": [
    "# sample = extract_is_lastord(basic_feature, sample, 'basicroomid', 'basicroomid_lastord')"
   ]
  },
  {
   "cell_type": "code",
   "execution_count": 43,
   "metadata": {
    "collapsed": false
   },
   "outputs": [
    {
     "name": "stdout",
     "output_type": "stream",
     "text": [
      "2017-08-04 07:50:58.322549 save to ../dataset/11/basic_room_feature.pkl\n"
     ]
    }
   ],
   "source": [
    "sample.to_pickle(feature_path)\n",
    "\n",
    "print(datetime.now(), 'save to', feature_path)"
   ]
  }
 ],
 "metadata": {
  "anaconda-cloud": {},
  "hide_input": false,
  "kernelspec": {
   "display_name": "Python 3",
   "language": "python",
   "name": "python3"
  },
  "language_info": {
   "codemirror_mode": {
    "name": "ipython",
    "version": 3
   },
   "file_extension": ".py",
   "mimetype": "text/x-python",
   "name": "python",
   "nbconvert_exporter": "python",
   "pygments_lexer": "ipython3",
   "version": "3.5.1"
  }
 },
 "nbformat": 4,
 "nbformat_minor": 2
}
