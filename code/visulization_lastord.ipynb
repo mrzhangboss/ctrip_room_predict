{
 "cells": [
  {
   "cell_type": "code",
   "execution_count": 1,
   "metadata": {
    "collapsed": true
   },
   "outputs": [],
   "source": [
    "import sys\n",
    "from datetime import datetime\n",
    "from os.path import join\n",
    "from warnings import warn\n",
    "\n",
    "import numpy as np\n",
    "import pandas as pd\n",
    "import scipy as sp\n",
    "\n",
    "from utils import *"
   ]
  },
  {
   "cell_type": "code",
   "execution_count": 2,
   "metadata": {
    "collapsed": true
   },
   "outputs": [],
   "source": [
    "train_df = pd.read_pickle('../dataset/train.pkl')"
   ]
  },
  {
   "cell_type": "code",
   "execution_count": 3,
   "metadata": {
    "collapsed": true
   },
   "outputs": [],
   "source": [
    "test_df = pd.read_pickle('../dataset/test.pkl')"
   ]
  },
  {
   "cell_type": "code",
   "execution_count": 4,
   "metadata": {
    "collapsed": false
   },
   "outputs": [],
   "source": [
    "hotelid = train_df.hotelid.unique()"
   ]
  },
  {
   "cell_type": "code",
   "execution_count": 5,
   "metadata": {
    "collapsed": false
   },
   "outputs": [],
   "source": [
    "lastord = train_df.hotelid_lastord.unique()"
   ]
  },
  {
   "cell_type": "code",
   "execution_count": 6,
   "metadata": {
    "collapsed": true
   },
   "outputs": [],
   "source": [
    "test_id = test_df.hotelid.unique()"
   ]
  },
  {
   "cell_type": "code",
   "execution_count": 22,
   "metadata": {
    "collapsed": true
   },
   "outputs": [],
   "source": [
    "test_lastord = test_df.hotelid_lastord.unique()"
   ]
  },
  {
   "cell_type": "code",
   "execution_count": 9,
   "metadata": {
    "collapsed": false
   },
   "outputs": [
    {
     "data": {
      "text/plain": [
       "(18543,)"
      ]
     },
     "execution_count": 9,
     "metadata": {},
     "output_type": "execute_result"
    }
   ],
   "source": [
    "hotelid.shape"
   ]
  },
  {
   "cell_type": "code",
   "execution_count": 10,
   "metadata": {
    "collapsed": false
   },
   "outputs": [
    {
     "data": {
      "text/plain": [
       "(17400,)"
      ]
     },
     "execution_count": 10,
     "metadata": {},
     "output_type": "execute_result"
    }
   ],
   "source": [
    "lastord.shape"
   ]
  },
  {
   "cell_type": "code",
   "execution_count": 25,
   "metadata": {
    "collapsed": false
   },
   "outputs": [
    {
     "data": {
      "text/plain": [
       "(22716,)"
      ]
     },
     "execution_count": 25,
     "metadata": {},
     "output_type": "execute_result"
    }
   ],
   "source": [
    "test_lastord.shape"
   ]
  },
  {
   "cell_type": "code",
   "execution_count": 12,
   "metadata": {
    "collapsed": false
   },
   "outputs": [
    {
     "data": {
      "text/plain": [
       "10031"
      ]
     },
     "execution_count": 12,
     "metadata": {},
     "output_type": "execute_result"
    }
   ],
   "source": [
    "len([x for x in hotelid if x not in lastord])"
   ]
  },
  {
   "cell_type": "code",
   "execution_count": 18,
   "metadata": {
    "collapsed": false
   },
   "outputs": [
    {
     "data": {
      "text/plain": [
       "4974"
      ]
     },
     "execution_count": 18,
     "metadata": {},
     "output_type": "execute_result"
    }
   ],
   "source": [
    "len([x for x in lastord  if x not in hotelid and x not in test_id ])"
   ]
  },
  {
   "cell_type": "code",
   "execution_count": 23,
   "metadata": {
    "collapsed": false
   },
   "outputs": [
    {
     "data": {
      "text/plain": [
       "7312"
      ]
     },
     "execution_count": 23,
     "metadata": {},
     "output_type": "execute_result"
    }
   ],
   "source": [
    "len([x for x in test_lastord  if x not in hotelid and x not in test_id ])"
   ]
  },
  {
   "cell_type": "code",
   "execution_count": 12,
   "metadata": {
    "collapsed": false
   },
   "outputs": [
    {
     "data": {
      "text/plain": [
       "0"
      ]
     },
     "execution_count": 12,
     "metadata": {},
     "output_type": "execute_result"
    }
   ],
   "source": [
    "train_df.roomservice_8.isnull().sum()"
   ]
  },
  {
   "cell_type": "code",
   "execution_count": 10,
   "metadata": {
    "collapsed": true
   },
   "outputs": [
    {
     "data": {
      "text/html": [
       "<div>\n",
       "<style>\n",
       "    .dataframe thead tr:only-child th {\n",
       "        text-align: right;\n",
       "    }\n",
       "\n",
       "    .dataframe thead th {\n",
       "        text-align: left;\n",
       "    }\n",
       "\n",
       "    .dataframe tbody tr th {\n",
       "        vertical-align: top;\n",
       "    }\n",
       "</style>\n",
       "<table border=\"1\" class=\"dataframe\">\n",
       "  <thead>\n",
       "    <tr style=\"text-align: right;\">\n",
       "      <th></th>\n",
       "      <th></th>\n",
       "      <th>orderid</th>\n",
       "      <th>uid</th>\n",
       "      <th>orderdate</th>\n",
       "      <th>hotelid</th>\n",
       "      <th>basicroomid</th>\n",
       "      <th>roomid</th>\n",
       "      <th>star</th>\n",
       "      <th>rank</th>\n",
       "      <th>returnvalue</th>\n",
       "      <th>price_deduct</th>\n",
       "      <th>...</th>\n",
       "      <th>roomservice_6_lastord</th>\n",
       "      <th>roomservice_8_lastord</th>\n",
       "      <th>roomtag_2_lastord</th>\n",
       "      <th>roomtag_3_lastord</th>\n",
       "      <th>roomtag_4_lastord</th>\n",
       "      <th>roomtag_5_lastord</th>\n",
       "      <th>star_lastord</th>\n",
       "      <th>hotel_minprice_lastord</th>\n",
       "      <th>basic_minprice_lastord</th>\n",
       "      <th>hotel_roomid</th>\n",
       "    </tr>\n",
       "    <tr>\n",
       "      <th>orderlabel</th>\n",
       "      <th>roomservice_8</th>\n",
       "      <th></th>\n",
       "      <th></th>\n",
       "      <th></th>\n",
       "      <th></th>\n",
       "      <th></th>\n",
       "      <th></th>\n",
       "      <th></th>\n",
       "      <th></th>\n",
       "      <th></th>\n",
       "      <th></th>\n",
       "      <th></th>\n",
       "      <th></th>\n",
       "      <th></th>\n",
       "      <th></th>\n",
       "      <th></th>\n",
       "      <th></th>\n",
       "      <th></th>\n",
       "      <th></th>\n",
       "      <th></th>\n",
       "      <th></th>\n",
       "      <th></th>\n",
       "    </tr>\n",
       "  </thead>\n",
       "  <tbody>\n",
       "    <tr>\n",
       "      <th rowspan=\"5\" valign=\"top\">0</th>\n",
       "      <th>1</th>\n",
       "      <td>377162</td>\n",
       "      <td>377162</td>\n",
       "      <td>377162</td>\n",
       "      <td>377162</td>\n",
       "      <td>377162</td>\n",
       "      <td>377162</td>\n",
       "      <td>377162</td>\n",
       "      <td>377162</td>\n",
       "      <td>377162</td>\n",
       "      <td>377162</td>\n",
       "      <td>...</td>\n",
       "      <td>341232</td>\n",
       "      <td>341811</td>\n",
       "      <td>59366</td>\n",
       "      <td>312705</td>\n",
       "      <td>341811</td>\n",
       "      <td>341811</td>\n",
       "      <td>341811</td>\n",
       "      <td>341811</td>\n",
       "      <td>341811</td>\n",
       "      <td>377162</td>\n",
       "    </tr>\n",
       "    <tr>\n",
       "      <th>2</th>\n",
       "      <td>282011</td>\n",
       "      <td>282011</td>\n",
       "      <td>282011</td>\n",
       "      <td>282011</td>\n",
       "      <td>282011</td>\n",
       "      <td>282011</td>\n",
       "      <td>282011</td>\n",
       "      <td>282011</td>\n",
       "      <td>282011</td>\n",
       "      <td>282011</td>\n",
       "      <td>...</td>\n",
       "      <td>256739</td>\n",
       "      <td>257061</td>\n",
       "      <td>47222</td>\n",
       "      <td>236533</td>\n",
       "      <td>257061</td>\n",
       "      <td>257061</td>\n",
       "      <td>257061</td>\n",
       "      <td>257061</td>\n",
       "      <td>257061</td>\n",
       "      <td>282011</td>\n",
       "    </tr>\n",
       "    <tr>\n",
       "      <th>3</th>\n",
       "      <td>91040</td>\n",
       "      <td>91040</td>\n",
       "      <td>91040</td>\n",
       "      <td>91040</td>\n",
       "      <td>91040</td>\n",
       "      <td>91040</td>\n",
       "      <td>91040</td>\n",
       "      <td>91040</td>\n",
       "      <td>91040</td>\n",
       "      <td>91040</td>\n",
       "      <td>...</td>\n",
       "      <td>83017</td>\n",
       "      <td>83121</td>\n",
       "      <td>14977</td>\n",
       "      <td>76108</td>\n",
       "      <td>83121</td>\n",
       "      <td>83121</td>\n",
       "      <td>83121</td>\n",
       "      <td>83121</td>\n",
       "      <td>83121</td>\n",
       "      <td>91040</td>\n",
       "    </tr>\n",
       "    <tr>\n",
       "      <th>4</th>\n",
       "      <td>145403</td>\n",
       "      <td>145403</td>\n",
       "      <td>145403</td>\n",
       "      <td>145403</td>\n",
       "      <td>145403</td>\n",
       "      <td>145403</td>\n",
       "      <td>145403</td>\n",
       "      <td>145403</td>\n",
       "      <td>145403</td>\n",
       "      <td>145403</td>\n",
       "      <td>...</td>\n",
       "      <td>132158</td>\n",
       "      <td>132343</td>\n",
       "      <td>24185</td>\n",
       "      <td>121028</td>\n",
       "      <td>132343</td>\n",
       "      <td>132343</td>\n",
       "      <td>132343</td>\n",
       "      <td>132343</td>\n",
       "      <td>132343</td>\n",
       "      <td>145403</td>\n",
       "    </tr>\n",
       "    <tr>\n",
       "      <th>5</th>\n",
       "      <td>168686</td>\n",
       "      <td>168686</td>\n",
       "      <td>168686</td>\n",
       "      <td>168686</td>\n",
       "      <td>168686</td>\n",
       "      <td>168686</td>\n",
       "      <td>168686</td>\n",
       "      <td>168686</td>\n",
       "      <td>168686</td>\n",
       "      <td>168686</td>\n",
       "      <td>...</td>\n",
       "      <td>154990</td>\n",
       "      <td>155197</td>\n",
       "      <td>27879</td>\n",
       "      <td>143109</td>\n",
       "      <td>155197</td>\n",
       "      <td>155197</td>\n",
       "      <td>155197</td>\n",
       "      <td>155197</td>\n",
       "      <td>155197</td>\n",
       "      <td>168686</td>\n",
       "    </tr>\n",
       "    <tr>\n",
       "      <th rowspan=\"5\" valign=\"top\">1</th>\n",
       "      <th>1</th>\n",
       "      <td>18548</td>\n",
       "      <td>18548</td>\n",
       "      <td>18548</td>\n",
       "      <td>18548</td>\n",
       "      <td>18548</td>\n",
       "      <td>18548</td>\n",
       "      <td>18548</td>\n",
       "      <td>18548</td>\n",
       "      <td>18548</td>\n",
       "      <td>18548</td>\n",
       "      <td>...</td>\n",
       "      <td>16646</td>\n",
       "      <td>16682</td>\n",
       "      <td>2641</td>\n",
       "      <td>15180</td>\n",
       "      <td>16682</td>\n",
       "      <td>16682</td>\n",
       "      <td>16682</td>\n",
       "      <td>16682</td>\n",
       "      <td>16682</td>\n",
       "      <td>18548</td>\n",
       "    </tr>\n",
       "    <tr>\n",
       "      <th>2</th>\n",
       "      <td>5375</td>\n",
       "      <td>5375</td>\n",
       "      <td>5375</td>\n",
       "      <td>5375</td>\n",
       "      <td>5375</td>\n",
       "      <td>5375</td>\n",
       "      <td>5375</td>\n",
       "      <td>5375</td>\n",
       "      <td>5375</td>\n",
       "      <td>5375</td>\n",
       "      <td>...</td>\n",
       "      <td>4837</td>\n",
       "      <td>4841</td>\n",
       "      <td>1075</td>\n",
       "      <td>4372</td>\n",
       "      <td>4841</td>\n",
       "      <td>4841</td>\n",
       "      <td>4841</td>\n",
       "      <td>4841</td>\n",
       "      <td>4841</td>\n",
       "      <td>5375</td>\n",
       "    </tr>\n",
       "    <tr>\n",
       "      <th>3</th>\n",
       "      <td>1149</td>\n",
       "      <td>1149</td>\n",
       "      <td>1149</td>\n",
       "      <td>1149</td>\n",
       "      <td>1149</td>\n",
       "      <td>1149</td>\n",
       "      <td>1149</td>\n",
       "      <td>1149</td>\n",
       "      <td>1149</td>\n",
       "      <td>1149</td>\n",
       "      <td>...</td>\n",
       "      <td>1061</td>\n",
       "      <td>1062</td>\n",
       "      <td>211</td>\n",
       "      <td>997</td>\n",
       "      <td>1062</td>\n",
       "      <td>1062</td>\n",
       "      <td>1062</td>\n",
       "      <td>1062</td>\n",
       "      <td>1062</td>\n",
       "      <td>1149</td>\n",
       "    </tr>\n",
       "    <tr>\n",
       "      <th>4</th>\n",
       "      <td>297</td>\n",
       "      <td>297</td>\n",
       "      <td>297</td>\n",
       "      <td>297</td>\n",
       "      <td>297</td>\n",
       "      <td>297</td>\n",
       "      <td>297</td>\n",
       "      <td>297</td>\n",
       "      <td>297</td>\n",
       "      <td>297</td>\n",
       "      <td>...</td>\n",
       "      <td>279</td>\n",
       "      <td>279</td>\n",
       "      <td>70</td>\n",
       "      <td>258</td>\n",
       "      <td>279</td>\n",
       "      <td>279</td>\n",
       "      <td>279</td>\n",
       "      <td>279</td>\n",
       "      <td>279</td>\n",
       "      <td>297</td>\n",
       "    </tr>\n",
       "    <tr>\n",
       "      <th>5</th>\n",
       "      <td>5155</td>\n",
       "      <td>5155</td>\n",
       "      <td>5155</td>\n",
       "      <td>5155</td>\n",
       "      <td>5155</td>\n",
       "      <td>5155</td>\n",
       "      <td>5155</td>\n",
       "      <td>5155</td>\n",
       "      <td>5155</td>\n",
       "      <td>5155</td>\n",
       "      <td>...</td>\n",
       "      <td>4740</td>\n",
       "      <td>4744</td>\n",
       "      <td>982</td>\n",
       "      <td>4304</td>\n",
       "      <td>4744</td>\n",
       "      <td>4744</td>\n",
       "      <td>4744</td>\n",
       "      <td>4744</td>\n",
       "      <td>4744</td>\n",
       "      <td>5155</td>\n",
       "    </tr>\n",
       "  </tbody>\n",
       "</table>\n",
       "<p>10 rows × 149 columns</p>\n",
       "</div>"
      ],
      "text/plain": [
       "                          orderid     uid  orderdate  hotelid  basicroomid  \\\n",
       "orderlabel roomservice_8                                                     \n",
       "0          1               377162  377162     377162   377162       377162   \n",
       "           2               282011  282011     282011   282011       282011   \n",
       "           3                91040   91040      91040    91040        91040   \n",
       "           4               145403  145403     145403   145403       145403   \n",
       "           5               168686  168686     168686   168686       168686   \n",
       "1          1                18548   18548      18548    18548        18548   \n",
       "           2                 5375    5375       5375     5375         5375   \n",
       "           3                 1149    1149       1149     1149         1149   \n",
       "           4                  297     297        297      297          297   \n",
       "           5                 5155    5155       5155     5155         5155   \n",
       "\n",
       "                          roomid    star    rank  returnvalue  price_deduct  \\\n",
       "orderlabel roomservice_8                                                      \n",
       "0          1              377162  377162  377162       377162        377162   \n",
       "           2              282011  282011  282011       282011        282011   \n",
       "           3               91040   91040   91040        91040         91040   \n",
       "           4              145403  145403  145403       145403        145403   \n",
       "           5              168686  168686  168686       168686        168686   \n",
       "1          1               18548   18548   18548        18548         18548   \n",
       "           2                5375    5375    5375         5375          5375   \n",
       "           3                1149    1149    1149         1149          1149   \n",
       "           4                 297     297     297          297           297   \n",
       "           5                5155    5155    5155         5155          5155   \n",
       "\n",
       "                              ...       roomservice_6_lastord  \\\n",
       "orderlabel roomservice_8      ...                               \n",
       "0          1                  ...                      341232   \n",
       "           2                  ...                      256739   \n",
       "           3                  ...                       83017   \n",
       "           4                  ...                      132158   \n",
       "           5                  ...                      154990   \n",
       "1          1                  ...                       16646   \n",
       "           2                  ...                        4837   \n",
       "           3                  ...                        1061   \n",
       "           4                  ...                         279   \n",
       "           5                  ...                        4740   \n",
       "\n",
       "                          roomservice_8_lastord  roomtag_2_lastord  \\\n",
       "orderlabel roomservice_8                                             \n",
       "0          1                             341811              59366   \n",
       "           2                             257061              47222   \n",
       "           3                              83121              14977   \n",
       "           4                             132343              24185   \n",
       "           5                             155197              27879   \n",
       "1          1                              16682               2641   \n",
       "           2                               4841               1075   \n",
       "           3                               1062                211   \n",
       "           4                                279                 70   \n",
       "           5                               4744                982   \n",
       "\n",
       "                          roomtag_3_lastord  roomtag_4_lastord  \\\n",
       "orderlabel roomservice_8                                         \n",
       "0          1                         312705             341811   \n",
       "           2                         236533             257061   \n",
       "           3                          76108              83121   \n",
       "           4                         121028             132343   \n",
       "           5                         143109             155197   \n",
       "1          1                          15180              16682   \n",
       "           2                           4372               4841   \n",
       "           3                            997               1062   \n",
       "           4                            258                279   \n",
       "           5                           4304               4744   \n",
       "\n",
       "                          roomtag_5_lastord  star_lastord  \\\n",
       "orderlabel roomservice_8                                    \n",
       "0          1                         341811        341811   \n",
       "           2                         257061        257061   \n",
       "           3                          83121         83121   \n",
       "           4                         132343        132343   \n",
       "           5                         155197        155197   \n",
       "1          1                          16682         16682   \n",
       "           2                           4841          4841   \n",
       "           3                           1062          1062   \n",
       "           4                            279           279   \n",
       "           5                           4744          4744   \n",
       "\n",
       "                          hotel_minprice_lastord  basic_minprice_lastord  \\\n",
       "orderlabel roomservice_8                                                   \n",
       "0          1                              341811                  341811   \n",
       "           2                              257061                  257061   \n",
       "           3                               83121                   83121   \n",
       "           4                              132343                  132343   \n",
       "           5                              155197                  155197   \n",
       "1          1                               16682                   16682   \n",
       "           2                                4841                    4841   \n",
       "           3                                1062                    1062   \n",
       "           4                                 279                     279   \n",
       "           5                                4744                    4744   \n",
       "\n",
       "                          hotel_roomid  \n",
       "orderlabel roomservice_8                \n",
       "0          1                    377162  \n",
       "           2                    282011  \n",
       "           3                     91040  \n",
       "           4                    145403  \n",
       "           5                    168686  \n",
       "1          1                     18548  \n",
       "           2                      5375  \n",
       "           3                      1149  \n",
       "           4                       297  \n",
       "           5                      5155  \n",
       "\n",
       "[10 rows x 149 columns]"
      ]
     },
     "execution_count": 10,
     "metadata": {},
     "output_type": "execute_result"
    }
   ],
   "source": [
    "train_df.groupby(['orderlabel', 'roomservice_8']).count()"
   ]
  },
  {
   "cell_type": "code",
   "execution_count": 17,
   "metadata": {
    "collapsed": false
   },
   "outputs": [
    {
     "data": {
      "text/plain": [
       "orderlabel  roomservice_8_lastord\n",
       "0           1.0                      593516\n",
       "            2.0                      188729\n",
       "            3.0                       35365\n",
       "            4.0                       10212\n",
       "            5.0                      141711\n",
       "1           1.0                       17197\n",
       "            2.0                        5102\n",
       "            3.0                         933\n",
       "            4.0                         302\n",
       "            5.0                        4074\n",
       "Name: uid, dtype: int64"
      ]
     },
     "execution_count": 17,
     "metadata": {},
     "output_type": "execute_result"
    }
   ],
   "source": [
    "train_df.groupby(['orderlabel', 'roomservice_8_lastord']).uid.count()"
   ]
  },
  {
   "cell_type": "code",
   "execution_count": 21,
   "metadata": {
    "collapsed": false
   },
   "outputs": [],
   "source": [
    "train_df['r8e'] = (train_df.roomservice_8 == train_df.roomservice_8_lastord).astype(int)"
   ]
  },
  {
   "cell_type": "code",
   "execution_count": 27,
   "metadata": {
    "collapsed": false
   },
   "outputs": [
    {
     "data": {
      "text/plain": [
       "(1094826, 152)"
      ]
     },
     "execution_count": 27,
     "metadata": {},
     "output_type": "execute_result"
    }
   ],
   "source": [
    "train_df.shape"
   ]
  },
  {
   "cell_type": "code",
   "execution_count": 26,
   "metadata": {
    "collapsed": false
   },
   "outputs": [
    {
     "data": {
      "text/plain": [
       "1094826"
      ]
     },
     "execution_count": 26,
     "metadata": {},
     "output_type": "execute_result"
    }
   ],
   "source": [
    "765361 + 298941 + 16202 + 14322"
   ]
  },
  {
   "cell_type": "code",
   "execution_count": 34,
   "metadata": {
    "collapsed": false
   },
   "outputs": [
    {
     "data": {
      "text/plain": [
       "orderlabel  r8e  roomservice_8\n",
       "0           0.0  1                128327\n",
       "                 2                200883\n",
       "                 3                 80045\n",
       "                 4                130818\n",
       "                 5                130519\n",
       "            1.0  1                213484\n",
       "                 2                 56178\n",
       "                 3                  3076\n",
       "                 4                  1525\n",
       "                 5                 24678\n",
       "1           0.0  1                  5267\n",
       "                 2                  3600\n",
       "                 3                   860\n",
       "                 4                   215\n",
       "                 5                  3344\n",
       "            1.0  1                 11415\n",
       "                 2                  1241\n",
       "                 3                   202\n",
       "                 4                    64\n",
       "                 5                  1400\n",
       "Name: uid, dtype: int64"
      ]
     },
     "execution_count": 34,
     "metadata": {},
     "output_type": "execute_result"
    }
   ],
   "source": [
    "train_df.groupby(['orderlabel', 'r8e', 'roomservice_8']).uid.count()"
   ]
  },
  {
   "cell_type": "code",
   "execution_count": 32,
   "metadata": {
    "collapsed": false
   },
   "outputs": [],
   "source": [
    "train_df.loc[train_df.orderdate_lastord.isnull(), 'r8e'] = np.nan"
   ]
  },
  {
   "cell_type": "code",
   "execution_count": 30,
   "metadata": {
    "collapsed": false
   },
   "outputs": [
    {
     "data": {
      "text/plain": [
       "97685"
      ]
     },
     "execution_count": 30,
     "metadata": {},
     "output_type": "execute_result"
    }
   ],
   "source": [
    "train_df.orderdate_lastord.isnull().sum()"
   ]
  },
  {
   "cell_type": "code",
   "execution_count": null,
   "metadata": {
    "collapsed": true
   },
   "outputs": [],
   "source": []
  }
 ],
 "metadata": {
  "anaconda-cloud": {},
  "hide_input": false,
  "kernelspec": {
   "display_name": "Python 3",
   "language": "python",
   "name": "python3"
  },
  "language_info": {
   "codemirror_mode": {
    "name": "ipython",
    "version": 3
   },
   "file_extension": ".py",
   "mimetype": "text/x-python",
   "name": "python",
   "nbconvert_exporter": "python",
   "pygments_lexer": "ipython3",
   "version": "3.5.1"
  }
 },
 "nbformat": 4,
 "nbformat_minor": 2
}
