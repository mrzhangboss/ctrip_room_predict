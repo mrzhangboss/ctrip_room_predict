{
 "cells": [
  {
   "cell_type": "code",
   "execution_count": 1,
   "metadata": {
    "collapsed": false
   },
   "outputs": [],
   "source": [
    "import pandas as pd\n",
    "import numpy as np\n",
    "import scipy as sp\n",
    "\n",
    "import matplotlib.pyplot as plt\n",
    "import seaborn as sns\n",
    "%matplotlib inline\n",
    "\n",
    "from utils import *"
   ]
  },
  {
   "cell_type": "markdown",
   "metadata": {},
   "source": [
    "# 解决方案总结\n",
    "\n",
    "我们发现数据抽样过于稀疏,导致每天给的7天训练数据对应用户来说独立(只有300左右回头客个),训练历史数据对未来基本预测没有影响,所以把每天数据独立出来,变成测试样本,原因如下\n",
    "\n",
    "- 第一对于每天数据,统计特征独立,可以分离成为user, hotel, room 三个维度\n",
    "- 当然对应 roomtag 和 roomservice 有异常数据,可以提取出来\n",
    "- 对应一天内订购两次的我们把它作为异常数据处理(测试集没有)"
   ]
  },
  {
   "cell_type": "code",
   "execution_count": 2,
   "metadata": {
    "collapsed": false
   },
   "outputs": [],
   "source": [
    "train_df = pd.read_pickle('../dataset/train.pkl')"
   ]
  },
  {
   "cell_type": "code",
   "execution_count": 3,
   "metadata": {
    "collapsed": true
   },
   "outputs": [],
   "source": [
    "test_df = pd.read_pickle('../dataset/test.pkl')"
   ]
  },
  {
   "cell_type": "code",
   "execution_count": 144,
   "metadata": {
    "collapsed": true
   },
   "outputs": [],
   "source": [
    "train_df = train_df.set_index('orderdate').loc['2017-06-11'].reset_index()"
   ]
  },
  {
   "cell_type": "markdown",
   "metadata": {},
   "source": [
    "# 任务描述 \n",
    "\n",
    "### 根据6月5号到6月11号的数据预测6月12号的数据\n",
    "\n",
    "根据给出的oderid预测用户在这个酒店预定的子房型,每个子房型会有一个猜你喜欢(roomtag_1)\n",
    "\n",
    "使用30524个订单预测34632个订单\n",
    "\n",
    "训练集和预测集的异常数据\n",
    "\n",
    "- roomtag_5 0\n",
    "- roomtag_6 0\n",
    "- orderbehavior_3_ratio_1month 0 过去一个月发生行为3的占比\n",
    "- orderbehavior_4_ratio_1month 0 过去一个月发生行为4的占比\n",
    "- orderbehavior_5_ratio_1month 0 过去一个月发生行为5的占比\n",
    "- orderid_lastord 0 似乎是错误的，时间有，或者全部归0了\n",
    "- roomtag_6_lastord 0 上次预定的标签为0\n",
    "\n",
    "## roomid 子房型 basicroomid 物理房型号 hotelid 酒店号 三者关系\n",
    "\n",
    "每个酒店物理房型固定，就是basicroomid 对应 唯一的hotelid\n",
    "\n",
    "物理房型下面可能有多个子房型（具体为旅行社不同，价格也不同），但是单个子房型不对应唯一物理房型，也就是子房型可能对应多个物理房型，训练集很奇怪有7105个roomid对应的两个hotelid和basicroomid，测试集只有3765，原以为是异常数据但是测试集占了20%(2万）的数据，删掉容易失真\n",
    "\n",
    "\n"
   ]
  },
  {
   "cell_type": "markdown",
   "metadata": {},
   "source": [
    "### 检测三个id之间的关系"
   ]
  },
  {
   "cell_type": "code",
   "execution_count": 3,
   "metadata": {
    "collapsed": true
   },
   "outputs": [],
   "source": [
    "xdf = train_df.drop_duplicates(['hotelid', 'basicroomid'])[['hotelid', 'basicroomid']]"
   ]
  },
  {
   "cell_type": "code",
   "execution_count": 6,
   "metadata": {
    "collapsed": false
   },
   "outputs": [
    {
     "data": {
      "text/plain": [
       "0"
      ]
     },
     "execution_count": 6,
     "metadata": {},
     "output_type": "execute_result"
    }
   ],
   "source": [
    "(xdf.groupby('basicroomid').count().hotelid != 1).sum()"
   ]
  },
  {
   "cell_type": "code",
   "execution_count": 7,
   "metadata": {
    "collapsed": false
   },
   "outputs": [],
   "source": [
    "tdf = train_df.drop_duplicates(['roomid', 'hotelid'])[['roomid', 'hotelid']]"
   ]
  },
  {
   "cell_type": "code",
   "execution_count": 8,
   "metadata": {
    "collapsed": false
   },
   "outputs": [],
   "source": [
    "ndf = tdf.groupby('roomid').count()"
   ]
  },
  {
   "cell_type": "code",
   "execution_count": 9,
   "metadata": {
    "collapsed": false
   },
   "outputs": [
    {
     "data": {
      "text/plain": [
       "(7105, 1)"
      ]
     },
     "execution_count": 9,
     "metadata": {},
     "output_type": "execute_result"
    }
   ],
   "source": [
    "ndf.loc[ndf.hotelid!=1].shape"
   ]
  },
  {
   "cell_type": "markdown",
   "metadata": {},
   "source": [
    "## 订单时间异常数据\n",
    "\n",
    "用户 -- 102620 80805 72575 52982 22135 18034 过去订单和订单时间不满足时序关系，时序错乱（猜测为异常数据，或者取消了订单）\n",
    "观察 80805 用户可知，其在同一家酒店9988住了四天，然而仍然时序错乱，推测可能为异常数据，需要清理\n",
    "\n",
    "用户 31170 2522 正常\n",
    "\n",
    "训练集总共29724个用户只有一次订单记录，228个两次订单，7个三次以上\n",
    "测试集总共34632个用户全部只有一次订单记录\n",
    "\n",
    "7个三次以上在测试集只有三个有记录，两个是在同一酒店预定，其中一个可以确定未来要预定的房间"
   ]
  },
  {
   "cell_type": "markdown",
   "metadata": {},
   "source": [
    "### 由于异常数据较为少，所以前期不进行清理"
   ]
  },
  {
   "cell_type": "code",
   "execution_count": 13,
   "metadata": {
    "collapsed": false,
    "scrolled": true
   },
   "outputs": [
    {
     "name": "stderr",
     "output_type": "stream",
     "text": [
      "/home/zhanglun/.pyenv/versions/anaconda3-4.1.0/lib/python3.5/site-packages/ipykernel/__main__.py:1: FutureWarning: currently extract(expand=None) means expand=False (return Index/Series/DataFrame) but in a future version of pandas this will be changed to expand=True (return DataFrame)\n",
      "  if __name__ == '__main__':\n"
     ]
    }
   ],
   "source": [
    "cols = train_df.columns.str.extract('(user_)')\n",
    "\n",
    "ucols = list(train_df.columns[cols.notnull()])+['uid']\n",
    "\n",
    "udf = train_df[list(train_df.columns[cols.notnull()])+['uid']]\n",
    "\n",
    "udf.columns\n",
    "\n",
    "udf.shape\n",
    "\n",
    "train_df.loc[]\n",
    "\n",
    "train_df.loc[train_df.uid==17724].drop_duplicates([\n",
    "    'user_confirmtime', 'user_avgadvanceddate', 'user_avgstar',\n",
    "    'user_avggoldstar', 'user_avgrecommendlevel', 'user_avgroomnum'\n",
    "])[ucols]\n",
    "\n",
    "train_df.orderdate_lastord.value_counts().sort_values()\n",
    "\n",
    "train_df.loc[train_df.uid==17724]\n",
    "\n",
    "train_df.loc[train_df.uid==17724][ucols+['orderid', 'orderdate', 'orderdate_lastord']].fillna(0).drop_duplicates([\n",
    "    'user_confirmtime', 'user_avgadvanceddate', 'user_avgstar',\n",
    "    'user_avggoldstar', 'user_avgrecommendlevel', 'user_avgroomnum', 'uid', 'orderid'\n",
    "])\n",
    "\n",
    "ntdf = train_df.drop_duplicates([\n",
    "    'user_confirmtime', 'user_avgadvanceddate', 'user_avgstar',\n",
    "    'user_avggoldstar', 'user_avgrecommendlevel', 'user_avgroomnum', 'uid'\n",
    "])\n",
    "\n",
    "uc = ntdf.groupby('uid').count()\n",
    "\n",
    "tntdf = test_df.drop_duplicates([\n",
    "    'user_confirmtime', 'user_avgadvanceddate', 'user_avgstar',\n",
    "    'user_avggoldstar', 'user_avgrecommendlevel', 'user_avgroomnum', 'uid'\n",
    "])\n",
    "\n",
    "test_df.drop_duplicates('orderid').shape\n",
    "\n",
    "tuc = tntdf.groupby('uid').count()\n",
    "\n",
    "v = train_df.uid.unique()\n",
    "\n",
    "[x for x in test_df.uid.unique() if x in v]\n",
    "\n",
    "uc_index = uc.loc[uc.orderid==3].index\n",
    "\n",
    "[x for x in d if x in uc_index]\n",
    "\n",
    "train_df.loc[(train_df.uid==18034)&(train_df.orderlabel==1)]\n",
    "\n",
    "test_df.loc[(test_df.uid==18034)&(test_df.roomid!=11037555)]\n",
    "\n",
    "tuc.loc[tuc.orderid==1].shape\n",
    "\n",
    "tuc.loc[tuc.orderid==2].shape\n",
    "\n",
    "tuc.loc[tuc.orderid==3].shape\n",
    "\n",
    "train_df.orderdate_lastord.value_counts().sort_index()\n",
    "\n",
    "train_df.orderid_lastord\n",
    "\n",
    "def check_time_error(train_df, uid):\n",
    "    df = train_df.loc[train_df.uid == uid][ucols + [\n",
    "        'orderid', 'orderdate', 'orderdate_lastord', 'hotelid_lastord'\n",
    "    ]].fillna(0).drop_duplicates(ucols)\n",
    "    if np.all(df.sort_values('orderdate_lastord').index == df.sort_values('orderdate').index):\n",
    "        return True\n",
    "        print(df.uid.unique()[0])\n",
    "\n",
    "df = train_df.loc[train_df.uid == 102620][ucols + [\n",
    "    'orderid', 'orderdate', 'orderdate_lastord', 'hotelid_lastord'\n",
    "]].fillna(0).drop_duplicates(ucols)\n",
    "\n",
    "df\n",
    "\n",
    "df.sort_values('orderdate_lastord').index == df.sort_values('orderdate').index\n",
    "\n",
    "if all(df.sort_values('orderdate_lastord') == df.sort_values('orderdate')):\n",
    "    print(df.uid.unique()[0])\n",
    "\n",
    "uc.loc[uc.orderid==2].shape, uc.loc[uc.orderid==3].shape\n",
    "\n",
    "for i in uc.loc[uc.orderid==3].index:\n",
    "    \n",
    "    if check_time_error(train_df, i):\n",
    "        print(i, 'success')\n",
    "    else:\n",
    "        print('error', i)\n",
    "\n",
    "train_df[ucols].fillna(0).drop_duplicates([\n",
    "    'user_confirmtime', 'user_avgadvanceddate', 'user_avgstar',\n",
    "    'user_avggoldstar', 'user_avgrecommendlevel', 'user_avgroomnum', 'uid'\n",
    "]).shape\n",
    "\n",
    "\n",
    "\n",
    "uorder = train_df[['uid', 'orderid']].drop_duplicates()\n",
    "\n",
    "ucount = uorder.groupby('uid').count()\n",
    "\n",
    "ucount.loc[ucount.orderid>2]\n",
    "\n",
    "ucount.describe()\n",
    "\n",
    "train_df.groupby('uid').orderid.count().sort_values()\n",
    "\n",
    "udf.drop_duplicates('uid').shape\n",
    "\n",
    "udf.drop_duplicates().shape\n",
    "\n",
    "np.abs(corr['orderlabel']).sort_values(ascending=False)\n",
    "\n",
    "train_df.orderbehavior_3_ratio_1month.value_counts()\n",
    "\n",
    "corr['orderlabel']['roomtag_3']\n",
    "\n",
    "test_df.roomtag_2_lastord.value_counts()\n",
    "\n",
    "train_df.roomtag_2_lastord.value_counts()"
   ]
  },
  {
   "cell_type": "markdown",
   "metadata": {},
   "source": [
    "## 物理属性分析\n",
    "\n",
    "- hotelid 酒店 ((18543,), (34632,))\n",
    "- basicroomid 物理房型((108611,), (192816,))\n",
    "- roomid 子房型 ((811475, 151), (978298, 149))"
   ]
  },
  {
   "cell_type": "markdown",
   "metadata": {},
   "source": [
    "## 酒店\n",
    "\n",
    "训练集有3万个酒店，测试集也有三万，但是测试集总共订单也为3万，所以测试集基本上每个酒店只有一个订单\n",
    "\n",
    "\n",
    "每个酒店平均接单1.64个，也就是说采样数据较为分散\n",
    "\n",
    "每个房型 roomservice_1 保持不变\n",
    "但是 roomservice_2-6 roomtag_1-4 会根据用户，根据时间变化（抽样结果线上，相同时间有可能会根据用户变化，相同用户会根据不同时间变化）\n"
   ]
  },
  {
   "cell_type": "code",
   "execution_count": 88,
   "metadata": {
    "collapsed": false
   },
   "outputs": [
    {
     "name": "stderr",
     "output_type": "stream",
     "text": [
      "/home/zhanglun/.pyenv/versions/anaconda3-4.1.0/lib/python3.5/site-packages/ipykernel/__main__.py:1: FutureWarning: currently extract(expand=None) means expand=False (return Index/Series/DataFrame) but in a future version of pandas this will be changed to expand=True (return DataFrame)\n",
      "  if __name__ == '__main__':\n"
     ]
    }
   ],
   "source": [
    "roomcols = train_df.columns[train_df.columns.str.extract('(room)').notnull()]"
   ]
  },
  {
   "cell_type": "code",
   "execution_count": 21,
   "metadata": {
    "collapsed": false
   },
   "outputs": [
    {
     "data": {
      "text/plain": [
       "(34632,)"
      ]
     },
     "execution_count": 21,
     "metadata": {},
     "output_type": "execute_result"
    }
   ],
   "source": [
    "test_df.orderid.value_counts().shape"
   ]
  },
  {
   "cell_type": "code",
   "execution_count": 68,
   "metadata": {
    "collapsed": false
   },
   "outputs": [
    {
     "data": {
      "text/plain": [
       "((108611,), (192816,))"
      ]
     },
     "execution_count": 68,
     "metadata": {},
     "output_type": "execute_result"
    }
   ],
   "source": [
    "train_df.basicroomid.value_counts().shape, test_df.basicroomid.value_counts().shape"
   ]
  },
  {
   "cell_type": "code",
   "execution_count": 7,
   "metadata": {
    "collapsed": false
   },
   "outputs": [
    {
     "data": {
      "text/plain": [
       "((18543,), (34632,))"
      ]
     },
     "execution_count": 7,
     "metadata": {},
     "output_type": "execute_result"
    }
   ],
   "source": [
    "train_df.hotelid.value_counts().shape, test_df.hotelid.value_counts().shape"
   ]
  },
  {
   "cell_type": "code",
   "execution_count": 70,
   "metadata": {
    "collapsed": false
   },
   "outputs": [
    {
     "data": {
      "text/plain": [
       "((811475, 151), (978298, 149))"
      ]
     },
     "execution_count": 70,
     "metadata": {},
     "output_type": "execute_result"
    }
   ],
   "source": [
    "train_df.drop_duplicates(['hotelid', 'roomid']).shape, test_df.drop_duplicates(['hotelid', 'roomid']).shape"
   ]
  },
  {
   "cell_type": "code",
   "execution_count": 16,
   "metadata": {
    "collapsed": true
   },
   "outputs": [
    {
     "data": {
      "text/plain": [
       "count    18543.000000\n",
       "mean         1.646120\n",
       "std          1.469935\n",
       "min          1.000000\n",
       "25%          1.000000\n",
       "50%          1.000000\n",
       "75%          2.000000\n",
       "max         33.000000\n",
       "Name: uid, dtype: float64"
      ]
     },
     "execution_count": 16,
     "metadata": {},
     "output_type": "execute_result"
    }
   ],
   "source": [
    "train_df.loc[train_df.orderlabel==1].groupby('hotelid').uid.count().describe()"
   ]
  },
  {
   "cell_type": "code",
   "execution_count": 17,
   "metadata": {
    "collapsed": true
   },
   "outputs": [
    {
     "data": {
      "text/plain": [
       "count    23917.000000\n",
       "mean         1.276247\n",
       "std          0.867107\n",
       "min          1.000000\n",
       "25%          1.000000\n",
       "50%          1.000000\n",
       "75%          1.000000\n",
       "max         30.000000\n",
       "Name: uid, dtype: float64"
      ]
     },
     "execution_count": 17,
     "metadata": {},
     "output_type": "execute_result"
    }
   ],
   "source": [
    "train_df.loc[train_df.orderlabel==1].groupby('basicroomid').uid.count().describe()"
   ]
  },
  {
   "cell_type": "code",
   "execution_count": 67,
   "metadata": {
    "collapsed": false
   },
   "outputs": [
    {
     "data": {
      "text/plain": [
       "count    28695.000000\n",
       "mean         1.063739\n",
       "std          0.304609\n",
       "min          1.000000\n",
       "25%          1.000000\n",
       "50%          1.000000\n",
       "75%          1.000000\n",
       "max         10.000000\n",
       "Name: uid, dtype: float64"
      ]
     },
     "execution_count": 67,
     "metadata": {},
     "output_type": "execute_result"
    }
   ],
   "source": [
    "train_df.loc[train_df.orderlabel==1].groupby(['hotelid', 'roomid']).uid.count().describe()"
   ]
  },
  {
   "cell_type": "code",
   "execution_count": 8,
   "metadata": {
    "collapsed": false
   },
   "outputs": [
    {
     "data": {
      "text/plain": [
       "((108611,), (192816,))"
      ]
     },
     "execution_count": 8,
     "metadata": {},
     "output_type": "execute_result"
    }
   ],
   "source": [
    "train_df.basicroomid.value_counts().shape, test_df.basicroomid.value_counts().shape"
   ]
  },
  {
   "cell_type": "code",
   "execution_count": 10,
   "metadata": {
    "collapsed": false
   },
   "outputs": [
    {
     "data": {
      "text/plain": [
       "((804370,), (974533,))"
      ]
     },
     "execution_count": 10,
     "metadata": {},
     "output_type": "execute_result"
    }
   ],
   "source": [
    "train_df.roomid.value_counts().shape, test_df.roomid.value_counts().shape"
   ]
  },
  {
   "cell_type": "code",
   "execution_count": 23,
   "metadata": {
    "collapsed": false
   },
   "outputs": [],
   "source": [
    "train_df['real_price'] = train_df['returnvalue'] + train_df['price_deduct']"
   ]
  },
  {
   "cell_type": "code",
   "execution_count": 72,
   "metadata": {
    "collapsed": false
   },
   "outputs": [
    {
     "name": "stdout",
     "output_type": "stream",
     "text": [
      "(811475, 3)\n",
      "(818623, 3)\n",
      "(811951, 3)\n",
      "(811544, 3)\n",
      "(834782, 3)\n",
      "(836001, 3)\n",
      "(813669, 3)\n",
      "(841460, 3)\n"
     ]
    }
   ],
   "source": [
    "for i in range(1, 9):\n",
    "    print(train_df[['roomservice_%s'%i, 'hotelid', 'roomid']].drop_duplicates().shape)"
   ]
  },
  {
   "cell_type": "code",
   "execution_count": 74,
   "metadata": {
    "collapsed": false
   },
   "outputs": [
    {
     "name": "stdout",
     "output_type": "stream",
     "text": [
      "(816476, 3)\n",
      "(850356, 3)\n",
      "(860581, 3)\n",
      "(827531, 3)\n"
     ]
    }
   ],
   "source": [
    "for i in range(1, 5):\n",
    "    print(train_df[['roomtag_%s'%i, 'hotelid', 'roomid']].drop_duplicates().shape)"
   ]
  },
  {
   "cell_type": "code",
   "execution_count": 110,
   "metadata": {
    "collapsed": false
   },
   "outputs": [],
   "source": [
    "ndf = train_df[['roomservice_2', 'hotelid', 'roomid']].drop_duplicates()"
   ]
  },
  {
   "cell_type": "code",
   "execution_count": 111,
   "metadata": {
    "collapsed": false
   },
   "outputs": [],
   "source": [
    "ncount = ndf.groupby(['hotelid', 'roomid']).count()"
   ]
  },
  {
   "cell_type": "code",
   "execution_count": 112,
   "metadata": {
    "collapsed": false
   },
   "outputs": [],
   "source": [
    "index = ncount.loc[ncount.roomservice_2>1].index"
   ]
  },
  {
   "cell_type": "code",
   "execution_count": 113,
   "metadata": {
    "collapsed": false
   },
   "outputs": [
    {
     "data": {
      "text/plain": [
       "Int64Index([   31043,    84213,    84217,   339011,   529611,   529613,\n",
       "              529717,   529719,   529721,   529811,\n",
       "            ...\n",
       "            11434385, 11434405, 11434427, 11434495, 11434555, 11434575,\n",
       "            11434605, 11436863, 11436883, 11436923],\n",
       "           dtype='int64', name='roomid', length=7148)"
      ]
     },
     "execution_count": 113,
     "metadata": {},
     "output_type": "execute_result"
    }
   ],
   "source": [
    "index.get_level_values(1)"
   ]
  },
  {
   "cell_type": "code",
   "execution_count": 122,
   "metadata": {
    "collapsed": false
   },
   "outputs": [],
   "source": [
    "d = train_df.orderdate[:1]"
   ]
  },
  {
   "cell_type": "code",
   "execution_count": 123,
   "metadata": {
    "collapsed": false
   },
   "outputs": [
    {
     "data": {
      "text/plain": [
       "0    1497140524000000000\n",
       "Name: orderdate, dtype: int64"
      ]
     },
     "execution_count": 123,
     "metadata": {},
     "output_type": "execute_result"
    }
   ],
   "source": [
    "d.astype(np.int)"
   ]
  },
  {
   "cell_type": "code",
   "execution_count": 127,
   "metadata": {
    "collapsed": false
   },
   "outputs": [
    {
     "name": "stdout",
     "output_type": "stream",
     "text": [
      "                 orderdate  roomservice_2\n",
      "295654 2017-06-08 06:56:23              1\n",
      "991712 2017-06-08 14:16:37              0\n",
      "                 orderdate  roomservice_2\n",
      "231267 2017-06-11 18:55:16              1\n",
      "726046 2017-06-11 08:00:18              0\n",
      "                 orderdate  roomservice_2\n",
      "231249 2017-06-11 18:55:16              1\n",
      "726018 2017-06-11 08:00:18              0\n",
      "                 orderdate  roomservice_2\n",
      "231274 2017-06-11 18:55:16              1\n",
      "726059 2017-06-11 08:00:18              0\n",
      "                 orderdate  roomservice_2\n",
      "70925  2017-06-11 12:05:29              0\n",
      "231266 2017-06-11 18:55:16              1\n",
      "726060 2017-06-11 08:00:18              0\n",
      "                 orderdate  roomservice_2\n",
      "231238 2017-06-11 18:55:16              1\n",
      "726025 2017-06-11 08:00:18              0\n",
      "                 orderdate  roomservice_2\n",
      "521458 2017-06-08 13:38:48              1\n",
      "678796 2017-06-08 02:41:47              0\n",
      "                 orderdate  roomservice_2\n",
      "600456 2017-06-05 22:57:35              1\n",
      "891404 2017-06-05 09:22:06              0\n",
      "                 orderdate  roomservice_2\n",
      "510035 2017-06-05 12:28:33              1\n",
      "600434 2017-06-05 22:57:35              0\n",
      "                 orderdate  roomservice_2\n",
      "591007 2017-06-09 18:50:05              1\n",
      "893528 2017-06-09 15:16:46              0\n",
      "                 orderdate  roomservice_2\n",
      "590995 2017-06-09 18:50:05              1\n",
      "893486 2017-06-09 15:16:46              0\n",
      "                  orderdate  roomservice_2\n",
      "3754    2017-06-08 09:29:37              0\n",
      "1065097 2017-06-08 19:19:57              1\n",
      "                 orderdate  roomservice_2\n",
      "149313 2017-06-11 10:06:53              0\n",
      "849594 2017-06-11 20:27:42              1\n",
      "                 orderdate  roomservice_2\n",
      "149392 2017-06-11 10:06:53              0\n",
      "849671 2017-06-11 20:27:42              1\n",
      "                 orderdate  roomservice_2\n",
      "149311 2017-06-11 10:06:53              0\n",
      "209150 2017-06-11 13:54:56              0\n",
      "849598 2017-06-11 20:27:42              1\n",
      "                 orderdate  roomservice_2\n",
      "149346 2017-06-11 10:06:53              0\n",
      "849641 2017-06-11 20:27:42              1\n",
      "                 orderdate  roomservice_2\n",
      "209106 2017-06-11 13:54:56              0\n",
      "849646 2017-06-11 20:27:42              1\n",
      "                 orderdate  roomservice_2\n",
      "209181 2017-06-11 13:54:56              0\n",
      "849665 2017-06-11 20:27:42              1\n",
      "                 orderdate  roomservice_2\n",
      "149387 2017-06-11 10:06:53              0\n",
      "209183 2017-06-11 13:54:56              0\n",
      "849685 2017-06-11 20:27:42              1\n",
      "                 orderdate  roomservice_2\n",
      "149306 2017-06-11 10:06:53              0\n",
      "209157 2017-06-11 13:54:56              0\n",
      "849602 2017-06-11 20:27:42              1\n",
      "                 orderdate  roomservice_2\n",
      "149393 2017-06-11 10:06:53              0\n",
      "209194 2017-06-11 13:54:56              0\n",
      "849676 2017-06-11 20:27:42              1\n",
      "                 orderdate  roomservice_2\n",
      "577934 2017-06-11 15:26:04              1\n",
      "892645 2017-06-11 20:39:26              0\n",
      "                  orderdate  roomservice_2\n",
      "719264  2017-06-11 12:31:32              0\n",
      "1024346 2017-06-11 22:04:15              1\n",
      "                 orderdate  roomservice_2\n",
      "289428 2017-06-08 13:39:47              1\n",
      "413583 2017-06-08 10:26:01              0\n",
      "                 orderdate  roomservice_2\n",
      "289429 2017-06-08 13:39:47              1\n",
      "413584 2017-06-08 10:26:01              0\n",
      "                 orderdate  roomservice_2\n",
      "289415 2017-06-08 13:39:47              1\n",
      "413595 2017-06-08 10:26:01              0\n",
      "                 orderdate  roomservice_2\n",
      "289414 2017-06-08 13:39:47              1\n",
      "413591 2017-06-08 10:26:01              0\n",
      "                 orderdate  roomservice_2\n",
      "396023 2017-06-10 16:25:32              1\n",
      "948734 2017-06-10 11:57:05              0\n",
      "                 orderdate  roomservice_2\n",
      "396011 2017-06-10 16:25:32              1\n",
      "948738 2017-06-10 11:57:05              0\n",
      "                 orderdate  roomservice_2\n",
      "723397 2017-06-10 18:37:35              1\n",
      "792992 2017-06-10 12:59:26              0\n",
      "                 orderdate  roomservice_2\n",
      "808987 2017-06-05 16:02:01              0\n",
      "830160 2017-06-05 16:45:14              1\n",
      "                  orderdate  roomservice_2\n",
      "123317  2017-06-07 22:25:38              1\n",
      "1090146 2017-06-07 14:20:08              0\n",
      "                 orderdate  roomservice_2\n",
      "392733 2017-06-09 18:31:42              0\n",
      "781730 2017-06-09 11:36:07              1\n",
      "840364 2017-06-09 14:44:27              1\n",
      "                 orderdate  roomservice_2\n",
      "50117  2017-06-09 08:46:50              1\n",
      "392654 2017-06-09 18:31:42              0\n",
      "781766 2017-06-09 11:36:07              1\n",
      "840433 2017-06-09 14:44:27              1\n",
      "                 orderdate  roomservice_2\n",
      "90664  2017-06-07 15:32:09              0\n",
      "110569 2017-06-07 11:08:54              1\n",
      "                  orderdate  roomservice_2\n",
      "220383  2017-06-08 21:54:36              1\n",
      "1091781 2017-06-08 09:37:19              0\n",
      "                 orderdate  roomservice_2\n",
      "131275 2017-06-07 20:33:21              1\n",
      "195081 2017-06-07 13:22:47              0\n",
      "                 orderdate  roomservice_2\n",
      "66046  2017-06-11 21:16:33              1\n",
      "256902 2017-06-11 11:12:41              0\n",
      "                 orderdate  roomservice_2\n",
      "66043  2017-06-11 21:16:33              1\n",
      "256906 2017-06-11 11:12:41              0\n",
      "                 orderdate  roomservice_2\n",
      "66020  2017-06-11 21:16:33              1\n",
      "256875 2017-06-11 11:12:41              0\n",
      "                 orderdate  roomservice_2\n",
      "799617 2017-06-11 22:07:52              0\n",
      "898329 2017-06-11 17:20:50              1\n",
      "                 orderdate  roomservice_2\n",
      "164203 2017-06-11 13:06:34              1\n",
      "331516 2017-06-11 11:06:08              0\n",
      "                 orderdate  roomservice_2\n",
      "382090 2017-06-10 21:22:38              1\n",
      "987605 2017-06-10 16:06:25              0\n",
      "                 orderdate  roomservice_2\n",
      "382089 2017-06-10 21:22:38              1\n",
      "987603 2017-06-10 16:06:25              0\n",
      "                 orderdate  roomservice_2\n",
      "382094 2017-06-10 21:22:38              1\n",
      "987595 2017-06-10 16:06:25              0\n",
      "                 orderdate  roomservice_2\n",
      "382099 2017-06-10 21:22:38              1\n",
      "987590 2017-06-10 16:06:25              0\n",
      "                 orderdate  roomservice_2\n",
      "382103 2017-06-10 21:22:38              1\n",
      "987593 2017-06-10 16:06:25              0\n",
      "                 orderdate  roomservice_2\n",
      "382117 2017-06-10 21:22:38              1\n",
      "987616 2017-06-10 16:06:25              0\n",
      "                 orderdate  roomservice_2\n",
      "382098 2017-06-10 21:22:38              1\n",
      "987591 2017-06-10 16:06:25              0\n",
      "                 orderdate  roomservice_2\n",
      "382088 2017-06-10 21:22:38              1\n",
      "987610 2017-06-10 16:06:25              0\n",
      "                 orderdate  roomservice_2\n",
      "382082 2017-06-10 21:22:38              1\n",
      "987601 2017-06-10 16:06:25              0\n",
      "                 orderdate  roomservice_2\n",
      "382104 2017-06-10 21:22:38              1\n",
      "987588 2017-06-10 16:06:25              0\n",
      "                 orderdate  roomservice_2\n",
      "382097 2017-06-10 21:22:38              1\n",
      "987589 2017-06-10 16:06:25              0\n",
      "                 orderdate  roomservice_2\n",
      "382109 2017-06-10 21:22:38              1\n",
      "987622 2017-06-10 16:06:25              0\n",
      "                 orderdate  roomservice_2\n",
      "382108 2017-06-10 21:22:38              1\n",
      "987621 2017-06-10 16:06:25              0\n",
      "                 orderdate  roomservice_2\n",
      "382115 2017-06-10 21:22:38              1\n",
      "987619 2017-06-10 16:06:25              0\n",
      "                 orderdate  roomservice_2\n",
      "382116 2017-06-10 21:22:38              1\n",
      "987618 2017-06-10 16:06:25              0\n",
      "                 orderdate  roomservice_2\n",
      "382086 2017-06-10 21:22:38              1\n",
      "987602 2017-06-10 16:06:25              0\n",
      "                 orderdate  roomservice_2\n",
      "382087 2017-06-10 21:22:38              1\n",
      "987607 2017-06-10 16:06:25              0\n",
      "                 orderdate  roomservice_2\n",
      "756936 2017-06-07 21:19:30              1\n",
      "920303 2017-06-07 10:25:15              0\n",
      "                 orderdate  roomservice_2\n",
      "346257 2017-06-11 14:01:42              0\n",
      "724823 2017-06-11 22:38:58              1\n",
      "                 orderdate  roomservice_2\n",
      "724818 2017-06-11 22:38:58              0\n",
      "993575 2017-06-11 17:40:24              1\n",
      "                  orderdate  roomservice_2\n",
      "638965  2017-06-05 21:16:51              0\n",
      "1093525 2017-06-05 20:54:55              1\n",
      "                  orderdate  roomservice_2\n",
      "638966  2017-06-05 21:16:51              0\n",
      "1093528 2017-06-05 20:54:55              1\n",
      "                  orderdate  roomservice_2\n",
      "638924  2017-06-05 21:16:51              0\n",
      "1093583 2017-06-05 20:54:55              1\n",
      "                  orderdate  roomservice_2\n",
      "638939  2017-06-05 21:16:51              0\n",
      "1093537 2017-06-05 20:54:55              1\n",
      "                 orderdate  roomservice_2\n",
      "376386 2017-06-08 18:50:03              1\n",
      "566829 2017-06-08 15:38:29              0\n",
      "                 orderdate  roomservice_2\n",
      "185979 2017-06-08 18:29:25              0\n",
      "376351 2017-06-08 18:50:03              1\n",
      "                 orderdate  roomservice_2\n",
      "376353 2017-06-08 18:50:03              1\n",
      "566778 2017-06-08 15:38:29              0\n",
      "                 orderdate  roomservice_2\n",
      "376373 2017-06-08 18:50:03              1\n",
      "566794 2017-06-08 15:38:29              0\n",
      "                 orderdate  roomservice_2\n",
      "376357 2017-06-08 18:50:03              1\n",
      "535681 2017-06-08 18:11:50              0\n",
      "566781 2017-06-08 15:38:29              0\n",
      "                 orderdate  roomservice_2\n",
      "376356 2017-06-08 18:50:03              1\n",
      "566779 2017-06-08 15:38:29              0\n",
      "                 orderdate  roomservice_2\n",
      "940695 2017-06-09 18:22:30              1\n",
      "984787 2017-06-09 15:48:38              0\n",
      "                 orderdate  roomservice_2\n",
      "373470 2017-06-11 10:29:00              0\n",
      "735046 2017-06-11 13:00:52              1\n",
      "                 orderdate  roomservice_2\n",
      "508849 2017-06-05 16:55:15              1\n",
      "719390 2017-06-05 18:04:55              0\n",
      "                  orderdate  roomservice_2\n",
      "879889  2017-06-09 11:36:37              1\n",
      "1028722 2017-06-09 13:20:37              0\n",
      "                  orderdate  roomservice_2\n",
      "879886  2017-06-09 11:36:37              1\n",
      "1028694 2017-06-09 13:20:37              0\n",
      "                 orderdate  roomservice_2\n",
      "6686   2017-06-11 20:30:05              1\n",
      "994561 2017-06-11 08:23:32              0\n",
      "                 orderdate  roomservice_2\n",
      "6676   2017-06-11 20:30:05              1\n",
      "994554 2017-06-11 08:23:32              0\n",
      "                 orderdate  roomservice_2\n",
      "6665   2017-06-11 20:30:05              1\n",
      "994594 2017-06-11 08:23:32              0\n",
      "                 orderdate  roomservice_2\n",
      "6679   2017-06-11 20:30:05              1\n",
      "994568 2017-06-11 08:23:32              0\n",
      "                 orderdate  roomservice_2\n",
      "381125 2017-06-09 13:10:55              1\n",
      "826398 2017-06-09 17:40:11              0\n",
      "                 orderdate  roomservice_2\n",
      "187293 2017-06-06 19:57:01              1\n",
      "383604 2017-06-06 22:48:03              0\n",
      "                 orderdate  roomservice_2\n",
      "490803 2017-06-07 20:44:34              1\n",
      "738292 2017-06-07 07:56:22              0\n",
      "                 orderdate  roomservice_2\n",
      "490869 2017-06-07 20:44:34              1\n",
      "738249 2017-06-07 07:56:22              0\n",
      "                 orderdate  roomservice_2\n",
      "309510 2017-06-08 18:16:32              1\n",
      "536494 2017-06-08 13:08:24              0\n",
      "                 orderdate  roomservice_2\n",
      "233153 2017-06-08 20:42:36              0\n",
      "988441 2017-06-08 20:40:41              1\n",
      "                 orderdate  roomservice_2\n",
      "233115 2017-06-08 20:42:36              0\n",
      "988396 2017-06-08 20:40:41              1\n",
      "                 orderdate  roomservice_2\n",
      "233107 2017-06-08 20:42:36              0\n",
      "988411 2017-06-08 20:40:41              1\n",
      "                 orderdate  roomservice_2\n",
      "701082 2017-06-10 02:18:03              0\n",
      "955395 2017-06-10 21:16:08              1\n",
      "                 orderdate  roomservice_2\n",
      "701066 2017-06-10 02:18:03              0\n",
      "955380 2017-06-10 21:16:08              1\n",
      "                 orderdate  roomservice_2\n",
      "681353 2017-06-10 20:57:54              1\n",
      "874573 2017-06-10 13:26:43              0\n",
      "                  orderdate  roomservice_2\n",
      "818860  2017-06-09 13:25:49              0\n",
      "833543  2017-06-09 14:46:44              1\n",
      "1018828 2017-06-09 00:24:54              0\n",
      "1087735 2017-06-09 16:14:17              0\n",
      "                 orderdate  roomservice_2\n",
      "475092 2017-06-06 19:14:57              1\n",
      "618717 2017-06-06 21:34:45              0\n",
      "                 orderdate  roomservice_2\n",
      "469003 2017-06-11 14:38:34              1\n",
      "774060 2017-06-11 20:28:56              1\n",
      "839114 2017-06-11 11:32:46              0\n",
      "                  orderdate  roomservice_2\n",
      "472021  2017-06-11 14:17:14              0\n",
      "1023524 2017-06-11 17:17:49              1\n",
      "                 orderdate  roomservice_2\n",
      "16744  2017-06-08 17:49:38              0\n",
      "623338 2017-06-08 14:05:16              1\n",
      "                 orderdate  roomservice_2\n",
      "558893 2017-06-09 13:34:23              0\n",
      "710673 2017-06-09 21:25:47              1\n",
      "901652 2017-06-09 16:38:54              0\n",
      "                 orderdate  roomservice_2\n",
      "710660 2017-06-09 21:25:47              1\n",
      "901658 2017-06-09 16:38:54              0\n",
      "                 orderdate  roomservice_2\n",
      "710652 2017-06-09 21:25:47              1\n",
      "901679 2017-06-09 16:38:54              0\n",
      "                 orderdate  roomservice_2\n",
      "710667 2017-06-09 21:25:47              1\n",
      "901669 2017-06-09 16:38:54              0\n",
      "                 orderdate  roomservice_2\n",
      "511910 2017-06-07 23:02:01              0\n",
      "620602 2017-06-07 20:18:46              1\n",
      "                 orderdate  roomservice_2\n",
      "351320 2017-06-11 16:15:14              0\n",
      "747153 2017-06-11 22:58:09              1\n",
      "                  orderdate  roomservice_2\n",
      "696375  2017-06-08 17:04:12              0\n",
      "1047579 2017-06-08 15:01:02              1\n",
      "                  orderdate  roomservice_2\n",
      "696379  2017-06-08 17:04:12              0\n",
      "1047583 2017-06-08 15:01:02              1\n",
      "                  orderdate  roomservice_2\n",
      "696385  2017-06-08 17:04:12              0\n",
      "1047559 2017-06-08 15:01:02              1\n",
      "                  orderdate  roomservice_2\n",
      "696380  2017-06-08 17:04:12              0\n",
      "1047585 2017-06-08 15:01:02              1\n",
      "                  orderdate  roomservice_2\n",
      "696373  2017-06-08 17:04:12              0\n",
      "1047590 2017-06-08 15:01:02              1\n",
      "                  orderdate  roomservice_2\n",
      "696389  2017-06-08 17:04:12              0\n",
      "1047564 2017-06-08 15:01:02              1\n",
      "                  orderdate  roomservice_2\n",
      "696371  2017-06-08 17:04:12              0\n",
      "1047592 2017-06-08 15:01:02              1\n",
      "                  orderdate  roomservice_2\n",
      "696370  2017-06-08 17:04:12              0\n",
      "1047593 2017-06-08 15:01:02              1\n",
      "                 orderdate  roomservice_2\n",
      "858038 2017-06-10 09:32:40              0\n",
      "858061 2017-06-10 22:07:57              1\n",
      "                 orderdate  roomservice_2\n",
      "168917 2017-06-08 20:03:54              1\n",
      "382939 2017-06-08 00:18:58              0\n",
      "754421 2017-06-08 20:34:38              0\n",
      "                 orderdate  roomservice_2\n",
      "168889 2017-06-08 20:03:54              1\n",
      "382974 2017-06-08 00:18:58              0\n",
      "                 orderdate  roomservice_2\n",
      "168899 2017-06-08 20:03:54              1\n",
      "730942 2017-06-08 19:27:32              0\n",
      "                 orderdate  roomservice_2\n",
      "168921 2017-06-08 20:03:54              1\n",
      "382940 2017-06-08 00:18:58              0\n",
      "                 orderdate  roomservice_2\n",
      "168916 2017-06-08 20:03:54              1\n",
      "382947 2017-06-08 00:18:58              0\n",
      "                 orderdate  roomservice_2\n",
      "168913 2017-06-08 20:03:54              1\n",
      "754418 2017-06-08 20:34:38              0\n",
      "                 orderdate  roomservice_2\n",
      "168906 2017-06-08 20:03:54              1\n",
      "382941 2017-06-08 00:18:58              0\n",
      "                 orderdate  roomservice_2\n",
      "47134  2017-06-09 21:13:52              1\n",
      "879737 2017-06-09 13:29:10              0\n",
      "                 orderdate  roomservice_2\n",
      "47080  2017-06-09 21:13:52              1\n",
      "879693 2017-06-09 13:29:10              0\n",
      "                 orderdate  roomservice_2\n",
      "82043  2017-06-07 21:07:22              1\n",
      "871225 2017-06-07 13:33:42              0\n",
      "                 orderdate  roomservice_2\n",
      "475894 2017-06-10 22:39:07              0\n",
      "534493 2017-06-10 22:42:17              1\n",
      "                  orderdate  roomservice_2\n",
      "762737  2017-06-08 11:02:42              0\n",
      "1008763 2017-06-08 19:20:14              1\n",
      "                  orderdate  roomservice_2\n",
      "762739  2017-06-08 11:02:42              0\n",
      "1008768 2017-06-08 19:20:14              1\n",
      "                  orderdate  roomservice_2\n",
      "762747  2017-06-08 11:02:42              0\n",
      "1008766 2017-06-08 19:20:14              1\n",
      "                  orderdate  roomservice_2\n",
      "762736  2017-06-08 11:02:42              0\n",
      "1008762 2017-06-08 19:20:14              1\n",
      "                 orderdate  roomservice_2\n",
      "28490  2017-06-11 14:21:46              1\n",
      "606618 2017-06-11 09:21:07              0\n",
      "                 orderdate  roomservice_2\n",
      "28456  2017-06-11 14:21:46              1\n",
      "606581 2017-06-11 09:21:07              0\n",
      "                  orderdate  roomservice_2\n",
      "308426  2017-06-10 08:48:54              0\n",
      "1011787 2017-06-10 20:56:07              1\n",
      "                  orderdate  roomservice_2\n",
      "308429  2017-06-10 08:48:54              0\n",
      "1011790 2017-06-10 20:56:07              1\n",
      "                 orderdate  roomservice_2\n",
      "91227  2017-06-08 21:47:55              0\n",
      "436654 2017-06-08 01:03:30              1\n",
      "                 orderdate  roomservice_2\n",
      "48228  2017-06-07 20:22:05              0\n",
      "714650 2017-06-07 19:36:40              1\n",
      "                 orderdate  roomservice_2\n",
      "107213 2017-06-08 11:52:01              0\n",
      "420149 2017-06-08 22:04:28              1\n",
      "                 orderdate  roomservice_2\n",
      "48224  2017-06-07 20:22:05              0\n",
      "714644 2017-06-07 19:36:40              1\n",
      "                 orderdate  roomservice_2\n",
      "48221  2017-06-07 20:22:05              0\n",
      "714649 2017-06-07 19:36:40              1\n",
      "                 orderdate  roomservice_2\n",
      "107212 2017-06-08 11:52:01              0\n",
      "420142 2017-06-08 22:04:28              1\n",
      "                 orderdate  roomservice_2\n",
      "219934 2017-06-06 14:00:25              1\n",
      "898463 2017-06-06 22:21:56              0\n",
      "                 orderdate  roomservice_2\n",
      "42304  2017-06-09 18:44:47              0\n",
      "529125 2017-06-09 19:50:22              1\n",
      "                 orderdate  roomservice_2\n",
      "42288  2017-06-09 18:44:47              0\n",
      "529126 2017-06-09 19:50:22              1\n",
      "627943 2017-06-09 20:02:39              1\n",
      "                 orderdate  roomservice_2\n",
      "42289  2017-06-09 18:44:47              0\n",
      "529129 2017-06-09 19:50:22              1\n",
      "627944 2017-06-09 20:02:39              1\n",
      "                 orderdate  roomservice_2\n",
      "42269  2017-06-09 18:44:47              0\n",
      "529135 2017-06-09 19:50:22              1\n",
      "627932 2017-06-09 20:02:39              1\n",
      "                 orderdate  roomservice_2\n",
      "42299  2017-06-09 18:44:47              0\n",
      "529121 2017-06-09 19:50:22              1\n",
      "627947 2017-06-09 20:02:39              1\n",
      "                 orderdate  roomservice_2\n",
      "42273  2017-06-09 18:44:47              0\n",
      "529137 2017-06-09 19:50:22              1\n",
      "627930 2017-06-09 20:02:39              1\n",
      "                 orderdate  roomservice_2\n",
      "42274  2017-06-09 18:44:47              0\n",
      "529140 2017-06-09 19:50:22              1\n",
      "627929 2017-06-09 20:02:39              1\n",
      "                 orderdate  roomservice_2\n",
      "42253  2017-06-09 18:44:47              0\n",
      "529133 2017-06-09 19:50:22              1\n",
      "627949 2017-06-09 20:02:39              1\n",
      "                 orderdate  roomservice_2\n",
      "33271  2017-06-10 17:42:19              0\n",
      "503797 2017-06-10 15:01:13              1\n",
      "                 orderdate  roomservice_2\n",
      "673508 2017-06-09 15:06:06              0\n",
      "704330 2017-06-09 20:41:41              1\n",
      "                 orderdate  roomservice_2\n",
      "276996 2017-06-11 18:22:43              1\n",
      "289124 2017-06-11 17:14:13              0\n",
      "                 orderdate  roomservice_2\n",
      "277004 2017-06-11 18:22:43              1\n",
      "289119 2017-06-11 17:14:13              0\n",
      "                 orderdate  roomservice_2\n",
      "473430 2017-06-05 11:02:39              1\n",
      "748875 2017-06-05 11:54:01              0\n",
      "                 orderdate  roomservice_2\n",
      "473447 2017-06-05 11:02:39              1\n",
      "748911 2017-06-05 11:54:01              0\n",
      "                 orderdate  roomservice_2\n",
      "158360 2017-06-06 14:59:34              1\n",
      "684202 2017-06-06 10:19:52              0\n",
      "                 orderdate  roomservice_2\n",
      "380227 2017-06-05 10:22:51              0\n",
      "774253 2017-06-05 19:49:30              1\n",
      "                 orderdate  roomservice_2\n",
      "380230 2017-06-05 10:22:51              0\n",
      "774251 2017-06-05 19:49:30              1\n",
      "                 orderdate  roomservice_2\n",
      "380233 2017-06-05 10:22:51              0\n",
      "774246 2017-06-05 19:49:30              1\n",
      "                 orderdate  roomservice_2\n",
      "380240 2017-06-05 10:22:51              0\n",
      "774249 2017-06-05 19:49:30              1\n",
      "                 orderdate  roomservice_2\n",
      "380211 2017-06-05 10:22:51              0\n",
      "774240 2017-06-05 19:49:30              1\n",
      "                 orderdate  roomservice_2\n",
      "380210 2017-06-05 10:22:51              0\n",
      "774242 2017-06-05 19:49:30              1\n",
      "                 orderdate  roomservice_2\n",
      "154662 2017-06-06 14:30:18              0\n",
      "333190 2017-06-06 17:30:04              1\n",
      "                 orderdate  roomservice_2\n",
      "154649 2017-06-06 14:30:18              0\n",
      "333188 2017-06-06 17:30:04              1\n",
      "                 orderdate  roomservice_2\n",
      "154648 2017-06-06 14:30:18              0\n",
      "333187 2017-06-06 17:30:04              1\n",
      "                  orderdate  roomservice_2\n",
      "83751   2017-06-06 11:35:21              0\n",
      "1035750 2017-06-06 22:20:58              1\n",
      "                  orderdate  roomservice_2\n",
      "613002  2017-06-06 20:59:21              0\n",
      "1035771 2017-06-06 22:20:58              1\n",
      "                 orderdate  roomservice_2\n",
      "133400 2017-06-07 20:39:08              1\n",
      "825805 2017-06-07 12:14:57              0\n",
      "                 orderdate  roomservice_2\n",
      "133404 2017-06-07 20:39:08              1\n",
      "825846 2017-06-07 12:14:57              0\n",
      "                 orderdate  roomservice_2\n",
      "133407 2017-06-07 20:39:08              1\n",
      "825839 2017-06-07 12:14:57              0\n",
      "                 orderdate  roomservice_2\n",
      "133406 2017-06-07 20:39:08              1\n",
      "825845 2017-06-07 12:14:57              0\n",
      "                 orderdate  roomservice_2\n",
      "733583 2017-06-06 16:49:38              0\n",
      "912534 2017-06-06 19:01:57              1\n",
      "                 orderdate  roomservice_2\n",
      "733575 2017-06-06 16:49:38              0\n",
      "912567 2017-06-06 19:01:57              1\n",
      "                 orderdate  roomservice_2\n",
      "912578 2017-06-06 19:01:57              1\n",
      "988289 2017-06-06 15:15:56              0\n",
      "                 orderdate  roomservice_2\n",
      "912570 2017-06-06 19:01:57              1\n",
      "988273 2017-06-06 15:15:56              0\n",
      "                 orderdate  roomservice_2\n",
      "912535 2017-06-06 19:01:57              1\n",
      "988253 2017-06-06 15:15:56              0\n",
      "                 orderdate  roomservice_2\n",
      "912539 2017-06-06 19:01:57              1\n",
      "988249 2017-06-06 15:15:56              0\n",
      "                 orderdate  roomservice_2\n",
      "912582 2017-06-06 19:01:57              1\n",
      "988279 2017-06-06 15:15:56              0\n",
      "                 orderdate  roomservice_2\n",
      "651880 2017-06-10 21:01:32              1\n",
      "934706 2017-06-10 22:04:46              0\n",
      "                 orderdate  roomservice_2\n",
      "651876 2017-06-10 21:01:32              1\n",
      "934718 2017-06-10 22:04:46              0\n",
      "                 orderdate  roomservice_2\n",
      "410018 2017-06-10 21:39:45              1\n",
      "648586 2017-06-10 12:41:06              0\n",
      "                 orderdate  roomservice_2\n",
      "410052 2017-06-10 21:39:45              1\n",
      "491494 2017-06-10 15:27:23              0\n",
      "648537 2017-06-10 12:41:06              0\n",
      "                 orderdate  roomservice_2\n",
      "410023 2017-06-10 21:39:45              1\n",
      "648583 2017-06-10 12:41:06              0\n",
      "                 orderdate  roomservice_2\n",
      "410012 2017-06-10 21:39:45              1\n",
      "491525 2017-06-10 15:27:23              0\n",
      "                 orderdate  roomservice_2\n",
      "132521 2017-06-11 15:47:40              0\n",
      "354697 2017-06-11 00:17:16              1\n",
      "                  orderdate  roomservice_2\n",
      "695652  2017-06-05 12:34:52              0\n",
      "1025927 2017-06-05 20:27:31              1\n",
      "                  orderdate  roomservice_2\n",
      "695655  2017-06-05 12:34:52              0\n",
      "1025936 2017-06-05 20:27:31              1\n",
      "                 orderdate  roomservice_2\n",
      "505951 2017-06-11 20:25:34              1\n",
      "706919 2017-06-11 11:10:30              0\n",
      "                 orderdate  roomservice_2\n",
      "505923 2017-06-11 20:25:34              1\n",
      "706886 2017-06-11 11:10:30              0\n",
      "                 orderdate  roomservice_2\n",
      "505921 2017-06-11 20:25:34              1\n",
      "706902 2017-06-11 11:10:30              0\n",
      "                 orderdate  roomservice_2\n",
      "370821 2017-06-10 11:18:55              0\n",
      "508881 2017-06-10 19:08:54              1\n",
      "                 orderdate  roomservice_2\n",
      "370816 2017-06-10 11:18:55              0\n",
      "508879 2017-06-10 19:08:54              1\n",
      "                 orderdate  roomservice_2\n",
      "370817 2017-06-10 11:18:55              0\n",
      "508880 2017-06-10 19:08:54              1\n",
      "                  orderdate  roomservice_2\n",
      "924850  2017-06-10 09:08:43              1\n",
      "1091245 2017-06-10 13:35:19              0\n",
      "                  orderdate  roomservice_2\n",
      "924821  2017-06-10 09:08:43              1\n",
      "1091259 2017-06-10 13:35:19              0\n",
      "                  orderdate  roomservice_2\n",
      "924824  2017-06-10 09:08:43              1\n",
      "1091267 2017-06-10 13:35:19              0\n",
      "                  orderdate  roomservice_2\n",
      "924854  2017-06-10 09:08:43              1\n",
      "1091252 2017-06-10 13:35:19              0\n",
      "                  orderdate  roomservice_2\n",
      "924852  2017-06-10 09:08:43              1\n",
      "1091251 2017-06-10 13:35:19              0\n",
      "                  orderdate  roomservice_2\n",
      "924856  2017-06-10 09:08:43              1\n",
      "1091250 2017-06-10 13:35:19              0\n",
      "                  orderdate  roomservice_2\n",
      "924858  2017-06-10 09:08:43              1\n",
      "1091249 2017-06-10 13:35:19              0\n",
      "                  orderdate  roomservice_2\n",
      "924851  2017-06-10 09:08:43              1\n",
      "1091257 2017-06-10 13:35:19              0\n",
      "                  orderdate  roomservice_2\n",
      "924845  2017-06-10 09:08:43              1\n",
      "1091241 2017-06-10 13:35:19              0\n",
      "                 orderdate  roomservice_2\n",
      "74010  2017-06-07 14:33:23              1\n",
      "948638 2017-06-07 01:51:39              0\n",
      "                 orderdate  roomservice_2\n",
      "187517 2017-06-05 17:45:25              1\n",
      "980834 2017-06-05 12:00:12              0\n",
      "                 orderdate  roomservice_2\n",
      "187495 2017-06-05 17:45:25              1\n",
      "980828 2017-06-05 12:00:12              0\n",
      "                 orderdate  roomservice_2\n",
      "13304  2017-06-11 10:51:57              1\n",
      "477591 2017-06-11 11:19:08              0\n",
      "                 orderdate  roomservice_2\n",
      "760386 2017-06-09 15:42:01              0\n",
      "787313 2017-06-09 20:21:29              1\n",
      "                  orderdate  roomservice_2\n",
      "245496  2017-06-09 02:47:01              0\n",
      "1068573 2017-06-09 17:17:55              1\n",
      "                  orderdate  roomservice_2\n",
      "245475  2017-06-09 02:47:01              0\n",
      "1068561 2017-06-09 17:17:55              1\n",
      "                  orderdate  roomservice_2\n",
      "245469  2017-06-09 02:47:01              0\n",
      "1068553 2017-06-09 17:17:55              1\n",
      "                 orderdate  roomservice_2\n",
      "327872 2017-06-09 19:43:18              1\n",
      "422884 2017-06-09 11:23:36              0\n",
      "652555 2017-06-09 17:34:51              0\n",
      "                 orderdate  roomservice_2\n",
      "411082 2017-06-05 11:28:32              0\n",
      "570576 2017-06-05 12:21:12              1\n",
      "                 orderdate  roomservice_2\n",
      "720838 2017-06-07 21:13:41              0\n",
      "971728 2017-06-07 21:31:47              1\n",
      "                  orderdate  roomservice_2\n",
      "745248  2017-06-11 20:38:15              1\n",
      "1065480 2017-06-11 18:33:09              0\n",
      "                 orderdate  roomservice_2\n",
      "498483 2017-06-05 20:00:59              1\n",
      "531029 2017-06-05 22:48:31              0\n",
      "                 orderdate  roomservice_2\n",
      "772307 2017-06-10 19:40:46              1\n",
      "787194 2017-06-10 16:54:18              0\n",
      "                 orderdate  roomservice_2\n",
      "772336 2017-06-10 19:40:46              1\n",
      "787174 2017-06-10 16:54:18              0\n",
      "                 orderdate  roomservice_2\n",
      "772347 2017-06-10 19:40:46              1\n",
      "787168 2017-06-10 16:54:18              0\n",
      "                 orderdate  roomservice_2\n",
      "772355 2017-06-10 19:40:46              1\n",
      "787181 2017-06-10 16:54:18              0\n",
      "                 orderdate  roomservice_2\n",
      "772356 2017-06-10 19:40:46              1\n",
      "787186 2017-06-10 16:54:18              0\n",
      "                 orderdate  roomservice_2\n",
      "450786 2017-06-05 21:02:51              1\n",
      "650002 2017-06-05 21:42:13              0\n",
      "                 orderdate  roomservice_2\n",
      "40896  2017-06-10 20:56:28              1\n",
      "189656 2017-06-10 12:58:35              0\n",
      "                 orderdate  roomservice_2\n",
      "553309 2017-06-10 15:45:36              1\n",
      "771926 2017-06-10 09:52:13              0\n",
      "                 orderdate  roomservice_2\n",
      "250613 2017-06-08 07:05:42              0\n",
      "866005 2017-06-08 12:52:16              1\n",
      "                 orderdate  roomservice_2\n",
      "553691 2017-06-10 18:43:05              1\n",
      "576752 2017-06-10 11:42:45              0\n",
      "                 orderdate  roomservice_2\n",
      "67213  2017-06-05 14:51:04              0\n",
      "700275 2017-06-05 20:30:58              1\n",
      "                  orderdate  roomservice_2\n",
      "1031243 2017-06-09 08:02:33              0\n",
      "1051993 2017-06-09 18:58:35              1\n",
      "                  orderdate  roomservice_2\n",
      "1031224 2017-06-09 08:02:33              0\n",
      "1052037 2017-06-09 18:58:35              1\n",
      "                  orderdate  roomservice_2\n",
      "1031215 2017-06-09 08:02:33              0\n",
      "1052034 2017-06-09 18:58:35              1\n",
      "                 orderdate  roomservice_2\n",
      "811819 2017-06-08 13:35:53              0\n",
      "817390 2017-06-08 13:46:45              1\n",
      "                 orderdate  roomservice_2\n",
      "811837 2017-06-08 13:35:53              0\n",
      "817399 2017-06-08 13:46:45              1\n",
      "                 orderdate  roomservice_2\n",
      "811825 2017-06-08 13:35:53              0\n",
      "817394 2017-06-08 13:46:45              1\n",
      "                 orderdate  roomservice_2\n",
      "340908 2017-06-05 13:36:48              0\n",
      "352997 2017-06-05 20:51:12              1\n",
      "                 orderdate  roomservice_2\n",
      "340889 2017-06-05 13:36:48              0\n",
      "353005 2017-06-05 20:51:12              1\n",
      "                 orderdate  roomservice_2\n",
      "340887 2017-06-05 13:36:48              0\n",
      "352986 2017-06-05 20:51:12              1\n",
      "                 orderdate  roomservice_2\n",
      "340902 2017-06-05 13:36:48              0\n",
      "352987 2017-06-05 20:51:12              1\n",
      "                 orderdate  roomservice_2\n",
      "778660 2017-06-10 17:10:29              0\n",
      "999949 2017-06-10 14:00:10              1\n",
      "                 orderdate  roomservice_2\n",
      "799503 2017-06-08 22:04:32              0\n",
      "855070 2017-06-08 18:44:21              1\n",
      "                 orderdate  roomservice_2\n",
      "799520 2017-06-08 22:04:32              0\n",
      "855069 2017-06-08 18:44:21              1\n",
      "                 orderdate  roomservice_2\n",
      "799497 2017-06-08 22:04:32              0\n",
      "855071 2017-06-08 18:44:21              1\n",
      "                 orderdate  roomservice_2\n",
      "727921 2017-06-07 12:33:01              0\n",
      "789356 2017-06-07 20:06:42              1\n",
      "                 orderdate  roomservice_2\n",
      "381900 2017-06-11 11:04:11              0\n",
      "485839 2017-06-11 19:23:49              1\n",
      "                 orderdate  roomservice_2\n",
      "381895 2017-06-11 11:04:11              0\n",
      "485840 2017-06-11 19:23:49              1\n",
      "                 orderdate  roomservice_2\n",
      "381904 2017-06-11 11:04:11              0\n",
      "485841 2017-06-11 19:23:49              1\n",
      "                 orderdate  roomservice_2\n",
      "381932 2017-06-11 11:04:11              0\n",
      "485857 2017-06-11 19:23:49              1\n",
      "                 orderdate  roomservice_2\n",
      "381928 2017-06-11 11:04:11              0\n",
      "485855 2017-06-11 19:23:49              1\n",
      "                 orderdate  roomservice_2\n",
      "381913 2017-06-11 11:04:11              0\n",
      "485844 2017-06-11 19:23:49              1\n",
      "                  orderdate  roomservice_2\n",
      "815407  2017-06-08 19:10:43              0\n",
      "1086976 2017-06-08 11:07:54              1\n",
      "                 orderdate  roomservice_2\n",
      "20634  2017-06-06 13:17:41              0\n",
      "149817 2017-06-06 21:19:01              1\n",
      "                 orderdate  roomservice_2\n",
      "223871 2017-06-05 19:40:58              0\n",
      "742342 2017-06-05 18:36:22              1\n",
      "                 orderdate  roomservice_2\n",
      "223868 2017-06-05 19:40:58              0\n",
      "742344 2017-06-05 18:36:22              1\n",
      "                 orderdate  roomservice_2\n",
      "223869 2017-06-05 19:40:58              0\n",
      "742343 2017-06-05 18:36:22              1\n",
      "                 orderdate  roomservice_2\n",
      "354990 2017-06-10 21:12:06              1\n",
      "697207 2017-06-10 15:18:03              0\n",
      "                 orderdate  roomservice_2\n",
      "354981 2017-06-10 21:12:06              1\n",
      "697200 2017-06-10 15:18:03              0\n",
      "                 orderdate  roomservice_2\n",
      "354989 2017-06-10 21:12:06              1\n",
      "697209 2017-06-10 15:18:03              0\n",
      "                 orderdate  roomservice_2\n",
      "354967 2017-06-10 21:12:06              1\n",
      "697221 2017-06-10 15:18:03              0\n",
      "                 orderdate  roomservice_2\n",
      "354961 2017-06-10 21:12:06              1\n",
      "697219 2017-06-10 15:18:03              0\n",
      "                 orderdate  roomservice_2\n",
      "354970 2017-06-10 21:12:06              1\n",
      "697228 2017-06-10 15:18:03              0\n",
      "                 orderdate  roomservice_2\n",
      "354969 2017-06-10 21:12:06              1\n",
      "697214 2017-06-10 15:18:03              0\n",
      "                 orderdate  roomservice_2\n",
      "354991 2017-06-10 21:12:06              1\n",
      "697210 2017-06-10 15:18:03              0\n",
      "                 orderdate  roomservice_2\n",
      "354978 2017-06-10 21:12:06              1\n",
      "697211 2017-06-10 15:18:03              0\n",
      "                 orderdate  roomservice_2\n",
      "354993 2017-06-10 21:12:06              1\n",
      "697233 2017-06-10 15:18:03              0\n",
      "                 orderdate  roomservice_2\n",
      "354979 2017-06-10 21:12:06              1\n",
      "697199 2017-06-10 15:18:03              0\n",
      "                 orderdate  roomservice_2\n",
      "354995 2017-06-10 21:12:06              1\n",
      "697237 2017-06-10 15:18:03              0\n",
      "                 orderdate  roomservice_2\n",
      "354999 2017-06-10 21:12:06              1\n",
      "697231 2017-06-10 15:18:03              0\n",
      "                 orderdate  roomservice_2\n",
      "354973 2017-06-10 21:12:06              1\n",
      "697225 2017-06-10 15:18:03              0\n",
      "                 orderdate  roomservice_2\n",
      "354968 2017-06-10 21:12:06              1\n",
      "697222 2017-06-10 15:18:03              0\n",
      "                 orderdate  roomservice_2\n",
      "354966 2017-06-10 21:12:06              1\n",
      "697215 2017-06-10 15:18:03              0\n",
      "                 orderdate  roomservice_2\n",
      "17354  2017-06-09 17:23:00              1\n",
      "17355  2017-06-09 17:24:05              1\n",
      "314736 2017-06-09 07:45:42              0\n",
      "                 orderdate  roomservice_2\n",
      "17435  2017-06-09 17:24:05              1\n",
      "17495  2017-06-09 17:23:00              1\n",
      "314835 2017-06-09 07:45:42              0\n",
      "                 orderdate  roomservice_2\n",
      "17339  2017-06-09 17:23:00              1\n",
      "17340  2017-06-09 17:24:05              1\n",
      "314745 2017-06-09 07:45:42              0\n",
      "                 orderdate  roomservice_2\n",
      "17394  2017-06-09 17:24:05              1\n",
      "17395  2017-06-09 17:23:00              1\n",
      "314742 2017-06-09 07:45:42              0\n",
      "                 orderdate  roomservice_2\n",
      "679232 2017-06-06 22:58:52              0\n",
      "779445 2017-06-06 18:25:11              1\n",
      "                 orderdate  roomservice_2\n",
      "679231 2017-06-06 22:58:52              0\n",
      "779450 2017-06-06 18:25:11              1\n",
      "                 orderdate  roomservice_2\n",
      "679220 2017-06-06 22:58:52              0\n",
      "779421 2017-06-06 18:25:11              1\n",
      "                 orderdate  roomservice_2\n",
      "679224 2017-06-06 22:58:52              0\n",
      "779425 2017-06-06 18:25:11              1\n",
      "                 orderdate  roomservice_2\n",
      "451060 2017-06-11 12:40:44              0\n",
      "800361 2017-06-11 16:39:01              1\n",
      "                 orderdate  roomservice_2\n",
      "436448 2017-06-11 13:41:24              0\n",
      "800312 2017-06-11 16:39:01              1\n",
      "                 orderdate  roomservice_2\n",
      "436469 2017-06-11 13:41:24              0\n",
      "800371 2017-06-11 16:39:01              1\n",
      "                 orderdate  roomservice_2\n",
      "436460 2017-06-11 13:41:24              0\n",
      "800373 2017-06-11 16:39:01              1\n",
      "                 orderdate  roomservice_2\n",
      "436493 2017-06-11 13:41:24              0\n",
      "451067 2017-06-11 12:40:44              0\n",
      "800359 2017-06-11 16:39:01              1\n",
      "                 orderdate  roomservice_2\n",
      "436426 2017-06-11 13:41:24              0\n",
      "800320 2017-06-11 16:39:01              1\n",
      "                 orderdate  roomservice_2\n",
      "436466 2017-06-11 13:41:24              0\n",
      "800364 2017-06-11 16:39:01              1\n",
      "                 orderdate  roomservice_2\n",
      "436414 2017-06-11 13:41:24              0\n",
      "800337 2017-06-11 16:39:01              1\n",
      "                 orderdate  roomservice_2\n",
      "436415 2017-06-11 13:41:24              0\n",
      "800317 2017-06-11 16:39:01              1\n",
      "                 orderdate  roomservice_2\n",
      "274089 2017-06-10 12:06:10              0\n",
      "505027 2017-06-10 19:02:05              1\n",
      "                 orderdate  roomservice_2\n",
      "274097 2017-06-10 12:06:10              0\n",
      "505035 2017-06-10 19:02:05              1\n",
      "                 orderdate  roomservice_2\n",
      "553229 2017-06-10 17:21:17              0\n",
      "890849 2017-06-10 18:17:17              1\n",
      "                 orderdate  roomservice_2\n",
      "553248 2017-06-10 17:21:17              0\n",
      "890866 2017-06-10 18:17:17              1\n",
      "                 orderdate  roomservice_2\n",
      "553241 2017-06-10 17:21:17              0\n",
      "890835 2017-06-10 18:17:17              1\n",
      "                 orderdate  roomservice_2\n",
      "553260 2017-06-10 17:21:17              0\n",
      "890870 2017-06-10 18:17:17              1\n",
      "                 orderdate  roomservice_2\n",
      "553253 2017-06-10 17:21:17              0\n",
      "890861 2017-06-10 18:17:17              1\n",
      "                 orderdate  roomservice_2\n",
      "553255 2017-06-10 17:21:17              0\n",
      "890862 2017-06-10 18:17:17              1\n",
      "                 orderdate  roomservice_2\n",
      "553224 2017-06-10 17:21:17              0\n",
      "890855 2017-06-10 18:17:17              1\n",
      "                 orderdate  roomservice_2\n",
      "553231 2017-06-10 17:21:17              0\n",
      "890843 2017-06-10 18:17:17              1\n",
      "                 orderdate  roomservice_2\n",
      "553246 2017-06-10 17:21:17              0\n",
      "890864 2017-06-10 18:17:17              1\n",
      "                 orderdate  roomservice_2\n",
      "553234 2017-06-10 17:21:17              0\n",
      "890845 2017-06-10 18:17:17              1\n",
      "                 orderdate  roomservice_2\n",
      "553244 2017-06-10 17:21:17              0\n",
      "890832 2017-06-10 18:17:17              1\n",
      "                 orderdate  roomservice_2\n",
      "553242 2017-06-10 17:21:17              0\n",
      "890834 2017-06-10 18:17:17              1\n",
      "                 orderdate  roomservice_2\n",
      "553264 2017-06-10 17:21:17              0\n",
      "890874 2017-06-10 18:17:17              1\n",
      "                 orderdate  roomservice_2\n",
      "553230 2017-06-10 17:21:17              0\n",
      "890844 2017-06-10 18:17:17              1\n",
      "                 orderdate  roomservice_2\n",
      "516655 2017-06-05 20:08:41              1\n",
      "714589 2017-06-05 16:31:57              0\n",
      "                  orderdate  roomservice_2\n",
      "795741  2017-06-06 17:29:35              0\n",
      "1086142 2017-06-06 21:57:08              1\n",
      "                  orderdate  roomservice_2\n",
      "283842  2017-06-11 10:36:18              0\n",
      "1070220 2017-06-11 19:12:20              1\n",
      "                  orderdate  roomservice_2\n",
      "283895  2017-06-11 10:36:18              0\n",
      "1070242 2017-06-11 19:12:20              1\n",
      "                  orderdate  roomservice_2\n",
      "283894  2017-06-11 10:36:18              0\n",
      "1070237 2017-06-11 19:12:20              1\n",
      "                 orderdate  roomservice_2\n",
      "715506 2017-06-07 21:49:32              1\n",
      "991692 2017-06-07 09:59:24              0\n",
      "                 orderdate  roomservice_2\n",
      "339414 2017-06-09 20:35:38              1\n",
      "910628 2017-06-09 13:37:17              0\n",
      "                 orderdate  roomservice_2\n",
      "440781 2017-06-06 21:26:17              1\n",
      "762667 2017-06-06 17:19:33              0\n",
      "                 orderdate  roomservice_2\n",
      "268273 2017-06-08 10:45:08              0\n",
      "643717 2017-06-08 21:45:36              1\n",
      "                  orderdate  roomservice_2\n",
      "906571  2017-06-10 19:29:15              1\n",
      "1051924 2017-06-10 01:32:48              0\n",
      "                 orderdate  roomservice_2\n",
      "879357 2017-06-09 16:09:36              0\n",
      "896601 2017-06-09 18:07:56              1\n",
      "                 orderdate  roomservice_2\n",
      "879356 2017-06-09 16:09:36              0\n",
      "896596 2017-06-09 18:07:56              1\n",
      "                 orderdate  roomservice_2\n",
      "879367 2017-06-09 16:09:36              0\n",
      "896627 2017-06-09 18:07:56              1\n",
      "                 orderdate  roomservice_2\n",
      "879366 2017-06-09 16:09:36              0\n",
      "896623 2017-06-09 18:07:56              1\n",
      "                 orderdate  roomservice_2\n",
      "879299 2017-06-09 16:09:36              0\n",
      "896567 2017-06-09 18:07:56              1\n",
      "                 orderdate  roomservice_2\n",
      "148117 2017-06-08 20:31:26              1\n",
      "805411 2017-06-08 18:35:26              0\n",
      "                 orderdate  roomservice_2\n",
      "587289 2017-06-11 13:18:56              1\n",
      "755250 2017-06-11 07:42:08              0\n",
      "                 orderdate  roomservice_2\n",
      "492481 2017-06-08 11:36:28              1\n",
      "926195 2017-06-08 20:50:41              0\n",
      "                 orderdate  roomservice_2\n",
      "492516 2017-06-08 11:36:28              1\n",
      "818658 2017-06-08 22:32:57              0\n",
      "926145 2017-06-08 20:50:41              1\n",
      "                 orderdate  roomservice_2\n",
      "492491 2017-06-08 11:36:28              1\n",
      "926172 2017-06-08 20:50:41              0\n",
      "                  orderdate  roomservice_2\n",
      "56172   2017-06-08 19:36:49              0\n",
      "1057848 2017-06-08 20:26:58              1\n",
      "                  orderdate  roomservice_2\n",
      "56165   2017-06-08 19:36:49              0\n",
      "1057842 2017-06-08 20:26:58              1\n",
      "                  orderdate  roomservice_2\n",
      "584189  2017-06-06 21:36:12              0\n",
      "1022820 2017-06-06 17:55:32              1\n",
      "                  orderdate  roomservice_2\n",
      "584211  2017-06-06 21:36:12              0\n",
      "1022845 2017-06-06 17:55:32              1\n",
      "                  orderdate  roomservice_2\n",
      "726606  2017-06-08 13:31:53              1\n",
      "1025138 2017-06-08 08:53:47              0\n",
      "                 orderdate  roomservice_2\n",
      "147117 2017-06-05 21:19:05              1\n",
      "534337 2017-06-05 09:26:24              0\n",
      "                  orderdate  roomservice_2\n",
      "620734  2017-06-11 11:26:35              0\n",
      "625099  2017-06-11 17:09:27              0\n",
      "1044622 2017-06-11 21:45:19              1\n",
      "                  orderdate  roomservice_2\n",
      "625096  2017-06-11 17:09:27              0\n",
      "1044623 2017-06-11 21:45:19              1\n",
      "                 orderdate  roomservice_2\n",
      "72911  2017-06-09 17:01:10              0\n",
      "183504 2017-06-09 22:29:23              1\n",
      "                 orderdate  roomservice_2\n",
      "72905  2017-06-09 17:01:10              0\n",
      "183503 2017-06-09 22:29:23              1\n",
      "                 orderdate  roomservice_2\n",
      "72919  2017-06-09 17:01:10              0\n",
      "183508 2017-06-09 22:29:23              1\n",
      "                 orderdate  roomservice_2\n",
      "72914  2017-06-09 17:01:10              0\n",
      "183505 2017-06-09 22:29:23              1\n",
      "                 orderdate  roomservice_2\n",
      "72912  2017-06-09 17:01:10              0\n",
      "183507 2017-06-09 22:29:23              1\n",
      "                 orderdate  roomservice_2\n",
      "72915  2017-06-09 17:01:10              0\n",
      "183502 2017-06-09 22:29:23              1\n",
      "                 orderdate  roomservice_2\n",
      "81504  2017-06-10 12:02:37              1\n",
      "162757 2017-06-10 17:15:01              0\n",
      "                 orderdate  roomservice_2\n",
      "81848  2017-06-07 20:26:06              0\n",
      "684024 2017-06-07 13:38:16              1\n",
      "                 orderdate  roomservice_2\n",
      "81843  2017-06-07 20:26:06              1\n",
      "684040 2017-06-07 13:38:16              0\n",
      "                 orderdate  roomservice_2\n",
      "81784  2017-06-07 20:26:06              0\n",
      "684013 2017-06-07 13:38:16              1\n",
      "                 orderdate  roomservice_2\n",
      "81793  2017-06-07 20:26:06              0\n",
      "684001 2017-06-07 13:38:16              1\n",
      "                 orderdate  roomservice_2\n",
      "61246  2017-06-11 17:05:10              1\n",
      "820977 2017-06-11 17:23:28              0\n",
      "                 orderdate  roomservice_2\n",
      "286478 2017-06-06 13:23:23              0\n",
      "454842 2017-06-06 18:05:06              1\n",
      "                 orderdate  roomservice_2\n",
      "286495 2017-06-06 13:23:23              0\n",
      "454817 2017-06-06 18:05:06              1\n",
      "                 orderdate  roomservice_2\n",
      "330724 2017-06-10 21:24:31              1\n",
      "864602 2017-06-10 08:50:42              0\n",
      "864604 2017-06-10 08:47:58              0\n",
      "864609 2017-06-10 08:49:04              0\n",
      "                 orderdate  roomservice_2\n",
      "330708 2017-06-10 21:24:31              1\n",
      "864537 2017-06-10 08:50:42              0\n",
      "864558 2017-06-10 08:47:58              0\n",
      "864560 2017-06-10 08:49:04              0\n",
      "                 orderdate  roomservice_2\n",
      "330726 2017-06-10 21:24:31              1\n",
      "864566 2017-06-10 08:49:04              0\n",
      "864599 2017-06-10 08:50:42              0\n",
      "864605 2017-06-10 08:47:58              0\n",
      "                 orderdate  roomservice_2\n",
      "330716 2017-06-10 21:24:31              1\n",
      "864576 2017-06-10 08:49:04              0\n",
      "864591 2017-06-10 08:50:42              0\n",
      "864611 2017-06-10 08:47:58              0\n",
      "                 orderdate  roomservice_2\n",
      "330701 2017-06-10 21:24:31              1\n",
      "864516 2017-06-10 08:49:04              0\n",
      "864535 2017-06-10 08:50:42              0\n",
      "864536 2017-06-10 08:47:58              0\n",
      "                 orderdate  roomservice_2\n",
      "66431  2017-06-10 21:37:31              1\n",
      "734350 2017-06-10 15:25:38              0\n",
      "                 orderdate  roomservice_2\n",
      "66462  2017-06-10 21:37:31              1\n",
      "734332 2017-06-10 15:25:38              0\n",
      "                 orderdate  roomservice_2\n",
      "66450  2017-06-10 21:37:31              0\n",
      "734336 2017-06-10 15:25:38              1\n",
      "                 orderdate  roomservice_2\n",
      "66430  2017-06-10 21:37:31              1\n",
      "734341 2017-06-10 15:25:38              0\n",
      "                 orderdate  roomservice_2\n",
      "302196 2017-06-08 20:57:58              1\n",
      "362555 2017-06-08 16:39:21              0\n",
      "495259 2017-06-08 14:19:18              0\n",
      "                 orderdate  roomservice_2\n",
      "556077 2017-06-09 16:49:18              1\n",
      "851717 2017-06-09 09:25:36              0\n",
      "                 orderdate  roomservice_2\n",
      "444878 2017-06-06 16:20:19              0\n",
      "935166 2017-06-06 13:03:05              1\n",
      "                  orderdate  roomservice_2\n",
      "167154  2017-06-09 10:20:12              1\n",
      "1084381 2017-06-09 12:29:42              0\n",
      "                 orderdate  roomservice_2\n",
      "692132 2017-06-07 00:24:36              0\n",
      "846158 2017-06-07 22:06:12              1\n",
      "                 orderdate  roomservice_2\n",
      "692124 2017-06-07 00:24:36              0\n",
      "846165 2017-06-07 22:06:12              1\n",
      "                 orderdate  roomservice_2\n",
      "692134 2017-06-07 00:24:36              0\n",
      "846160 2017-06-07 22:06:12              1\n",
      "                 orderdate  roomservice_2\n",
      "184949 2017-06-05 22:24:02              0\n",
      "570969 2017-06-05 22:30:26              1\n",
      "                 orderdate  roomservice_2\n",
      "184959 2017-06-05 22:24:02              0\n",
      "570997 2017-06-05 22:30:26              1\n",
      "                 orderdate  roomservice_2\n",
      "184951 2017-06-05 22:24:02              0\n",
      "570970 2017-06-05 22:30:26              1\n",
      "                 orderdate  roomservice_2\n",
      "184926 2017-06-05 22:24:02              0\n",
      "570961 2017-06-05 22:30:26              1\n",
      "                 orderdate  roomservice_2\n",
      "184923 2017-06-05 22:24:02              0\n",
      "570965 2017-06-05 22:30:26              1\n",
      "                 orderdate  roomservice_2\n",
      "184955 2017-06-05 22:24:02              0\n",
      "570992 2017-06-05 22:30:26              1\n",
      "                 orderdate  roomservice_2\n",
      "184956 2017-06-05 22:24:02              0\n",
      "570991 2017-06-05 22:30:26              1\n",
      "                 orderdate  roomservice_2\n",
      "184946 2017-06-05 22:24:02              0\n",
      "570979 2017-06-05 22:30:26              1\n",
      "                 orderdate  roomservice_2\n",
      "184938 2017-06-05 22:24:02              0\n",
      "570983 2017-06-05 22:30:26              1\n",
      "                 orderdate  roomservice_2\n",
      "184932 2017-06-05 22:24:02              0\n",
      "570976 2017-06-05 22:30:26              1\n",
      "                 orderdate  roomservice_2\n",
      "184939 2017-06-05 22:24:02              0\n",
      "570977 2017-06-05 22:30:26              1\n",
      "                 orderdate  roomservice_2\n",
      "184960 2017-06-05 22:24:02              0\n",
      "570988 2017-06-05 22:30:26              1\n",
      "                 orderdate  roomservice_2\n",
      "184961 2017-06-05 22:24:02              0\n",
      "570987 2017-06-05 22:30:26              1\n",
      "                 orderdate  roomservice_2\n",
      "184952 2017-06-05 22:24:02              0\n",
      "570967 2017-06-05 22:30:26              1\n",
      "                 orderdate  roomservice_2\n",
      "184958 2017-06-05 22:24:02              0\n",
      "570998 2017-06-05 22:30:26              1\n",
      "                 orderdate  roomservice_2\n",
      "184950 2017-06-05 22:24:02              0\n",
      "570972 2017-06-05 22:30:26              1\n",
      "                 orderdate  roomservice_2\n",
      "157993 2017-06-05 16:34:16              0\n",
      "735862 2017-06-05 22:47:51              1\n",
      "                 orderdate  roomservice_2\n",
      "157995 2017-06-05 16:34:16              0\n",
      "735860 2017-06-05 22:47:51              1\n",
      "                 orderdate  roomservice_2\n",
      "158002 2017-06-05 16:34:16              0\n",
      "735857 2017-06-05 22:47:51              1\n",
      "                 orderdate  roomservice_2\n",
      "157992 2017-06-05 16:34:16              0\n",
      "735858 2017-06-05 22:47:51              1\n",
      "                 orderdate  roomservice_2\n",
      "158003 2017-06-05 16:34:16              0\n",
      "735852 2017-06-05 22:47:51              1\n",
      "                 orderdate  roomservice_2\n",
      "157990 2017-06-05 16:34:16              0\n",
      "735861 2017-06-05 22:47:51              1\n",
      "                 orderdate  roomservice_2\n",
      "157999 2017-06-05 16:34:16              0\n",
      "735854 2017-06-05 22:47:51              1\n",
      "                 orderdate  roomservice_2\n",
      "157989 2017-06-05 16:34:16              0\n",
      "735872 2017-06-05 22:47:51              1\n",
      "                 orderdate  roomservice_2\n",
      "770737 2017-06-11 15:23:24              0\n",
      "871707 2017-06-11 14:17:19              1\n",
      "                 orderdate  roomservice_2\n",
      "770717 2017-06-11 15:23:24              0\n",
      "871689 2017-06-11 14:17:19              1\n",
      "                 orderdate  roomservice_2\n",
      "770725 2017-06-11 15:23:24              0\n",
      "871678 2017-06-11 14:17:19              1\n",
      "                 orderdate  roomservice_2\n",
      "770710 2017-06-11 15:23:24              0\n",
      "871687 2017-06-11 14:17:19              1\n",
      "                 orderdate  roomservice_2\n",
      "88572  2017-06-11 19:51:33              1\n",
      "707603 2017-06-11 09:04:43              0\n",
      "                 orderdate  roomservice_2\n",
      "818543 2017-06-10 18:16:36              1\n",
      "915625 2017-06-10 15:31:39              0\n",
      "                 orderdate  roomservice_2\n",
      "696456 2017-06-06 21:48:10              1\n",
      "903401 2017-06-06 17:52:47              0\n",
      "                 orderdate  roomservice_2\n",
      "696453 2017-06-06 21:48:10              1\n",
      "903405 2017-06-06 17:52:47              0\n",
      "                  orderdate  roomservice_2\n",
      "603117  2017-06-11 21:25:13              1\n",
      "1052227 2017-06-11 15:46:53              0\n",
      "                  orderdate  roomservice_2\n",
      "603113  2017-06-11 21:25:13              1\n",
      "1052230 2017-06-11 15:46:53              0\n",
      "                 orderdate  roomservice_2\n",
      "344241 2017-06-09 20:00:53              1\n",
      "410852 2017-06-09 14:51:07              0\n",
      "                 orderdate  roomservice_2\n",
      "626118 2017-06-08 22:54:10              1\n",
      "683178 2017-06-08 18:46:07              0\n",
      "                 orderdate  roomservice_2\n",
      "626121 2017-06-08 22:54:10              1\n",
      "683180 2017-06-08 18:46:07              0\n",
      "                 orderdate  roomservice_2\n",
      "509132 2017-06-11 21:46:37              1\n",
      "752057 2017-06-11 00:55:37              0\n",
      "                 orderdate  roomservice_2\n",
      "509172 2017-06-11 21:46:37              1\n",
      "752087 2017-06-11 00:55:37              0\n",
      "                 orderdate  roomservice_2\n",
      "509140 2017-06-11 21:46:37              1\n",
      "752052 2017-06-11 00:55:37              0\n",
      "                  orderdate  roomservice_2\n",
      "806959  2017-06-10 22:23:31              1\n",
      "1015082 2017-06-10 11:30:03              0\n",
      "                  orderdate  roomservice_2\n",
      "806950  2017-06-10 22:23:31              1\n",
      "1015070 2017-06-10 11:30:03              0\n",
      "                  orderdate  roomservice_2\n",
      "806945  2017-06-10 22:23:31              1\n",
      "1015066 2017-06-10 11:30:03              0\n",
      "                  orderdate  roomservice_2\n",
      "806958  2017-06-10 22:23:31              1\n",
      "1015079 2017-06-10 11:30:03              0\n",
      "                 orderdate  roomservice_2\n",
      "97801  2017-06-08 22:14:13              1\n",
      "672193 2017-06-08 13:11:39              0\n",
      "                 orderdate  roomservice_2\n",
      "97826  2017-06-08 22:14:13              1\n",
      "672171 2017-06-08 13:11:39              0\n",
      "                 orderdate  roomservice_2\n",
      "97820  2017-06-08 22:14:13              1\n",
      "672144 2017-06-08 13:11:39              0\n",
      "                 orderdate  roomservice_2\n",
      "97812  2017-06-08 22:14:13              1\n",
      "672155 2017-06-08 13:11:39              0\n",
      "                 orderdate  roomservice_2\n",
      "97791  2017-06-08 22:14:13              1\n",
      "672184 2017-06-08 13:11:39              0\n",
      "                 orderdate  roomservice_2\n",
      "97799  2017-06-08 22:14:13              1\n",
      "672183 2017-06-08 13:11:39              0\n",
      "                 orderdate  roomservice_2\n",
      "97803  2017-06-08 22:14:13              1\n",
      "672191 2017-06-08 13:11:39              0\n",
      "                 orderdate  roomservice_2\n",
      "97827  2017-06-08 22:14:13              1\n",
      "672166 2017-06-08 13:11:39              0\n",
      "                 orderdate  roomservice_2\n",
      "97811  2017-06-08 22:14:13              1\n",
      "672153 2017-06-08 13:11:39              0\n",
      "                 orderdate  roomservice_2\n",
      "97794  2017-06-08 22:14:13              1\n",
      "672179 2017-06-08 13:11:39              0\n",
      "                 orderdate  roomservice_2\n",
      "201792 2017-06-11 08:35:43              0\n",
      "782773 2017-06-11 21:00:43              1\n",
      "                 orderdate  roomservice_2\n",
      "201810 2017-06-11 08:35:43              0\n",
      "782768 2017-06-11 21:00:43              1\n",
      "                 orderdate  roomservice_2\n",
      "201790 2017-06-11 08:35:43              0\n",
      "782776 2017-06-11 21:00:43              1\n",
      "                 orderdate  roomservice_2\n",
      "201793 2017-06-11 08:35:43              0\n",
      "782792 2017-06-11 21:00:43              1\n",
      "                 orderdate  roomservice_2\n",
      "201791 2017-06-11 08:35:43              0\n",
      "782772 2017-06-11 21:00:43              1\n",
      "                 orderdate  roomservice_2\n",
      "201809 2017-06-11 08:35:43              0\n",
      "782769 2017-06-11 21:00:43              1\n",
      "                 orderdate  roomservice_2\n",
      "201787 2017-06-11 08:35:43              0\n",
      "782775 2017-06-11 21:00:43              1\n",
      "                 orderdate  roomservice_2\n",
      "201794 2017-06-11 08:35:43              0\n",
      "782793 2017-06-11 21:00:43              1\n",
      "                 orderdate  roomservice_2\n",
      "86011  2017-06-11 02:44:26              0\n",
      "182112 2017-06-11 20:51:03              1\n",
      "                 orderdate  roomservice_2\n",
      "372328 2017-06-08 17:12:09              1\n",
      "642119 2017-06-08 06:11:51              0\n",
      "                  orderdate  roomservice_2\n",
      "23525   2017-06-10 11:33:05              1\n",
      "1064843 2017-06-10 13:52:10              0\n",
      "                 orderdate  roomservice_2\n",
      "23672  2017-06-09 21:02:54              1\n",
      "380049 2017-06-09 15:25:03              0\n",
      "                  orderdate  roomservice_2\n",
      "601869  2017-06-08 19:34:55              0\n",
      "1000507 2017-06-08 21:32:05              1\n",
      "                  orderdate  roomservice_2\n",
      "601862  2017-06-08 19:34:55              0\n",
      "1000502 2017-06-08 21:32:05              1\n",
      "                  orderdate  roomservice_2\n",
      "601872  2017-06-08 19:34:55              0\n",
      "1000477 2017-06-08 21:32:05              1\n",
      "                  orderdate  roomservice_2\n",
      "601871  2017-06-08 19:34:55              0\n",
      "1000475 2017-06-08 21:32:05              1\n",
      "                  orderdate  roomservice_2\n",
      "601891  2017-06-08 19:34:55              0\n",
      "1000498 2017-06-08 21:32:05              1\n",
      "                 orderdate  roomservice_2\n",
      "194314 2017-06-11 22:50:14              1\n",
      "469220 2017-06-11 19:21:21              0\n",
      "                 orderdate  roomservice_2\n",
      "84131  2017-06-07 20:30:09              1\n",
      "84137  2017-06-07 08:18:02              0\n",
      "147881 2017-06-07 08:25:36              0\n",
      "                 orderdate  roomservice_2\n",
      "84141  2017-06-07 20:30:09              1\n",
      "84147  2017-06-07 08:18:02              0\n",
      "147888 2017-06-07 08:25:36              0\n",
      "                 orderdate  roomservice_2\n",
      "84157  2017-06-07 20:30:09              1\n",
      "84158  2017-06-07 08:18:02              0\n",
      "147891 2017-06-07 08:25:36              0\n",
      "                 orderdate  roomservice_2\n",
      "84115  2017-06-07 20:30:09              1\n",
      "84121  2017-06-07 08:18:02              0\n",
      "147917 2017-06-07 08:25:36              0\n",
      "                 orderdate  roomservice_2\n",
      "65161  2017-06-08 12:35:30              0\n",
      "666729 2017-06-08 20:19:57              1\n",
      "                 orderdate  roomservice_2\n",
      "65216  2017-06-08 12:35:30              0\n",
      "666724 2017-06-08 20:19:57              1\n",
      "                 orderdate  roomservice_2\n",
      "65169  2017-06-08 12:35:30              0\n",
      "666742 2017-06-08 20:19:57              1\n",
      "                 orderdate  roomservice_2\n",
      "65193  2017-06-08 12:35:30              0\n",
      "666716 2017-06-08 20:19:57              1\n",
      "                 orderdate  roomservice_2\n",
      "65167  2017-06-08 12:35:30              0\n",
      "666736 2017-06-08 20:19:57              1\n",
      "                 orderdate  roomservice_2\n",
      "65172  2017-06-08 12:35:30              0\n",
      "666740 2017-06-08 20:19:57              1\n",
      "                 orderdate  roomservice_2\n",
      "65142  2017-06-08 12:35:30              0\n",
      "666702 2017-06-08 20:19:57              1\n",
      "                 orderdate  roomservice_2\n",
      "65197  2017-06-08 12:35:30              0\n",
      "666711 2017-06-08 20:19:57              1\n",
      "                 orderdate  roomservice_2\n",
      "65170  2017-06-08 12:35:30              0\n",
      "666741 2017-06-08 20:19:57              1\n",
      "                  orderdate  roomservice_2\n",
      "514038  2017-06-05 10:10:26              0\n",
      "848078  2017-06-05 21:27:50              1\n",
      "1001760 2017-06-05 21:23:44              0\n",
      "                  orderdate  roomservice_2\n",
      "848071  2017-06-05 21:27:50              1\n",
      "1001755 2017-06-05 21:23:44              0\n",
      "                  orderdate  roomservice_2\n",
      "848091  2017-06-05 21:27:50              1\n",
      "1001749 2017-06-05 21:23:44              0\n",
      "                 orderdate  roomservice_2\n",
      "514040 2017-06-05 10:10:26              0\n",
      "848082 2017-06-05 21:27:50              1\n",
      "                  orderdate  roomservice_2\n",
      "848089  2017-06-05 21:27:50              1\n",
      "1001752 2017-06-05 21:23:44              0\n",
      "                  orderdate  roomservice_2\n",
      "742922  2017-06-11 16:57:14              0\n",
      "1002734 2017-06-11 19:28:02              1\n",
      "                 orderdate  roomservice_2\n",
      "425667 2017-06-06 16:36:40              0\n",
      "588121 2017-06-06 20:01:50              1\n",
      "                 orderdate  roomservice_2\n",
      "80560  2017-06-06 19:00:18              1\n",
      "563235 2017-06-06 17:31:37              0\n",
      "                 orderdate  roomservice_2\n",
      "80551  2017-06-06 19:00:18              1\n",
      "563247 2017-06-06 17:31:37              0\n",
      "                 orderdate  roomservice_2\n",
      "80557  2017-06-06 19:00:18              1\n",
      "563242 2017-06-06 17:31:37              0\n",
      "                  orderdate  roomservice_2\n",
      "421389  2017-06-05 19:53:00              0\n",
      "1033534 2017-06-05 20:04:07              1\n",
      "                  orderdate  roomservice_2\n",
      "421382  2017-06-05 19:53:00              0\n",
      "1033521 2017-06-05 20:04:07              1\n",
      "                  orderdate  roomservice_2\n",
      "421386  2017-06-05 19:53:00              0\n",
      "1033532 2017-06-05 20:04:07              1\n",
      "                  orderdate  roomservice_2\n",
      "421380  2017-06-05 19:53:00              0\n",
      "1033520 2017-06-05 20:04:07              1\n",
      "                 orderdate  roomservice_2\n",
      "50208  2017-06-05 09:02:55              0\n",
      "953175 2017-06-05 19:17:05              1\n",
      "                 orderdate  roomservice_2\n",
      "508488 2017-06-11 19:35:08              1\n",
      "944161 2017-06-11 10:06:21              0\n",
      "                 orderdate  roomservice_2\n",
      "508487 2017-06-11 19:35:08              1\n",
      "944158 2017-06-11 10:06:21              0\n",
      "                  orderdate  roomservice_2\n",
      "692254  2017-06-11 05:11:49              0\n",
      "1013941 2017-06-11 20:16:13              1\n",
      "                 orderdate  roomservice_2\n",
      "492725 2017-06-08 19:42:14              1\n",
      "736684 2017-06-08 13:20:08              0\n",
      "                 orderdate  roomservice_2\n",
      "492717 2017-06-08 19:42:14              1\n",
      "736661 2017-06-08 13:20:08              0\n",
      "                 orderdate  roomservice_2\n",
      "198936 2017-06-11 21:45:45              1\n",
      "658344 2017-06-11 11:17:01              0\n",
      "                  orderdate  roomservice_2\n",
      "404226  2017-06-10 22:45:20              1\n",
      "1066521 2017-06-10 19:36:26              0\n",
      "                  orderdate  roomservice_2\n",
      "404219  2017-06-10 22:45:20              1\n",
      "1066501 2017-06-10 19:36:26              0\n",
      "                  orderdate  roomservice_2\n",
      "404225  2017-06-10 22:45:20              1\n",
      "1066504 2017-06-10 19:36:26              0\n",
      "                  orderdate  roomservice_2\n",
      "404222  2017-06-10 22:45:20              1\n",
      "1066496 2017-06-10 19:36:26              0\n",
      "                 orderdate  roomservice_2\n",
      "347657 2017-06-05 22:57:12              1\n",
      "855494 2017-06-05 11:23:38              0\n",
      "                  orderdate  roomservice_2\n",
      "462202  2017-06-07 13:08:31              0\n",
      "1066953 2017-06-07 21:09:30              1\n",
      "                  orderdate  roomservice_2\n",
      "298044  2017-06-07 10:10:21              0\n",
      "462222  2017-06-07 13:08:31              0\n",
      "1066941 2017-06-07 21:09:30              1\n",
      "                  orderdate  roomservice_2\n",
      "462219  2017-06-07 13:08:31              0\n",
      "1066939 2017-06-07 21:09:30              1\n",
      "                  orderdate  roomservice_2\n",
      "462204  2017-06-07 13:08:31              0\n",
      "1066951 2017-06-07 21:09:30              1\n",
      "                  orderdate  roomservice_2\n",
      "462220  2017-06-07 13:08:31              0\n",
      "1066940 2017-06-07 21:09:30              1\n",
      "                  orderdate  roomservice_2\n",
      "462213  2017-06-07 13:08:31              0\n",
      "1066933 2017-06-07 21:09:30              1\n",
      "                  orderdate  roomservice_2\n",
      "462196  2017-06-07 13:08:31              0\n",
      "1066950 2017-06-07 21:09:30              1\n",
      "                  orderdate  roomservice_2\n",
      "754826  2017-06-05 18:27:19              1\n",
      "1081752 2017-06-05 10:22:40              0\n",
      "                  orderdate  roomservice_2\n",
      "754821  2017-06-05 18:27:19              1\n",
      "1081744 2017-06-05 10:22:40              0\n",
      "                  orderdate  roomservice_2\n",
      "754820  2017-06-05 18:27:19              1\n",
      "1081746 2017-06-05 10:22:40              0\n",
      "                  orderdate  roomservice_2\n",
      "754822  2017-06-05 18:27:19              1\n",
      "1081745 2017-06-05 10:22:40              0\n",
      "                  orderdate  roomservice_2\n",
      "754817  2017-06-05 18:27:19              1\n",
      "1081742 2017-06-05 10:22:40              0\n",
      "                  orderdate  roomservice_2\n",
      "754816  2017-06-05 18:27:19              1\n",
      "1081739 2017-06-05 10:22:40              0\n",
      "                  orderdate  roomservice_2\n",
      "754823  2017-06-05 18:27:19              1\n",
      "1081749 2017-06-05 10:22:40              0\n",
      "                 orderdate  roomservice_2\n",
      "123625 2017-06-10 10:53:10              0\n",
      "534190 2017-06-10 14:47:17              1\n",
      "                 orderdate  roomservice_2\n",
      "97895  2017-06-09 19:20:13              1\n",
      "780359 2017-06-09 16:50:11              0\n",
      "                 orderdate  roomservice_2\n",
      "97883  2017-06-09 19:20:13              1\n",
      "780375 2017-06-09 16:50:11              0\n",
      "                 orderdate  roomservice_2\n",
      "97885  2017-06-09 19:20:13              1\n",
      "780372 2017-06-09 16:50:11              0\n",
      "                 orderdate  roomservice_2\n",
      "97889  2017-06-09 19:20:13              1\n",
      "780374 2017-06-09 16:50:11              0\n",
      "                  orderdate  roomservice_2\n",
      "590669  2017-06-08 15:19:14              0\n",
      "1086823 2017-06-08 15:17:53              1\n",
      "                  orderdate  roomservice_2\n",
      "590680  2017-06-08 15:19:14              1\n",
      "1086817 2017-06-08 15:17:53              0\n",
      "                 orderdate  roomservice_2\n",
      "192893 2017-06-09 17:48:26              0\n",
      "254375 2017-06-09 19:02:52              1\n",
      "                 orderdate  roomservice_2\n",
      "192901 2017-06-09 17:48:26              0\n",
      "254376 2017-06-09 19:02:52              1\n",
      "                 orderdate  roomservice_2\n",
      "192917 2017-06-09 17:48:26              0\n",
      "254359 2017-06-09 19:02:52              1\n",
      "                 orderdate  roomservice_2\n",
      "676825 2017-06-10 09:30:46              0\n",
      "951906 2017-06-10 22:08:34              1\n",
      "                 orderdate  roomservice_2\n",
      "392454 2017-06-11 13:11:54              0\n",
      "856276 2017-06-11 22:23:22              1\n",
      "                 orderdate  roomservice_2\n",
      "392461 2017-06-11 13:11:54              0\n",
      "856279 2017-06-11 22:23:22              1\n",
      "                  orderdate  roomservice_2\n",
      "558252  2017-06-07 12:19:03              0\n",
      "1059764 2017-06-07 20:55:31              1\n",
      "                  orderdate  roomservice_2\n",
      "558312  2017-06-07 12:19:03              0\n",
      "1059740 2017-06-07 20:55:31              1\n",
      "                  orderdate  roomservice_2\n",
      "558267  2017-06-07 12:19:03              0\n",
      "1059747 2017-06-07 20:55:31              1\n",
      "                 orderdate  roomservice_2\n",
      "714070 2017-06-11 17:05:19              0\n",
      "817622 2017-06-11 19:00:07              1\n",
      "                 orderdate  roomservice_2\n",
      "714058 2017-06-11 17:05:19              0\n",
      "817632 2017-06-11 19:00:07              1\n",
      "                 orderdate  roomservice_2\n",
      "714068 2017-06-11 17:05:19              0\n",
      "817624 2017-06-11 19:00:07              1\n",
      "                 orderdate  roomservice_2\n",
      "316483 2017-06-09 22:24:57              1\n",
      "684597 2017-06-09 09:38:32              0\n",
      "                  orderdate  roomservice_2\n",
      "320480  2017-06-09 14:22:47              0\n",
      "1063410 2017-06-09 22:07:35              1\n",
      "                  orderdate  roomservice_2\n",
      "320481  2017-06-09 14:22:47              0\n",
      "1063409 2017-06-09 22:07:35              1\n",
      "                  orderdate  roomservice_2\n",
      "320461  2017-06-09 14:22:47              0\n",
      "1063421 2017-06-09 22:07:35              1\n",
      "                  orderdate  roomservice_2\n",
      "320460  2017-06-09 14:22:47              0\n",
      "1063428 2017-06-09 22:07:35              1\n",
      "                  orderdate  roomservice_2\n",
      "320466  2017-06-09 14:22:47              0\n",
      "1063419 2017-06-09 22:07:35              1\n",
      "                  orderdate  roomservice_2\n",
      "320468  2017-06-09 14:22:47              0\n",
      "1063422 2017-06-09 22:07:35              1\n",
      "                  orderdate  roomservice_2\n",
      "320469  2017-06-09 14:22:47              0\n",
      "1063413 2017-06-09 22:07:35              1\n",
      "                  orderdate  roomservice_2\n",
      "320459  2017-06-09 14:22:47              0\n",
      "1063403 2017-06-09 22:07:35              1\n",
      "                  orderdate  roomservice_2\n",
      "320467  2017-06-09 14:22:47              0\n",
      "1063415 2017-06-09 22:07:35              1\n",
      "                 orderdate  roomservice_2\n",
      "486833 2017-06-09 21:38:53              1\n",
      "836645 2017-06-09 07:46:12              0\n",
      "                 orderdate  roomservice_2\n",
      "486840 2017-06-09 21:38:53              1\n",
      "836637 2017-06-09 07:46:12              0\n",
      "                 orderdate  roomservice_2\n",
      "486834 2017-06-09 21:38:53              1\n",
      "836644 2017-06-09 07:46:12              0\n",
      "                 orderdate  roomservice_2\n",
      "486830 2017-06-09 21:38:53              1\n",
      "836639 2017-06-09 07:46:12              0\n",
      "                 orderdate  roomservice_2\n",
      "497799 2017-06-06 16:08:40              0\n",
      "920869 2017-06-06 22:36:45              1\n",
      "                 orderdate  roomservice_2\n",
      "497766 2017-06-06 16:08:40              0\n",
      "920832 2017-06-06 22:36:45              1\n",
      "                 orderdate  roomservice_2\n",
      "497780 2017-06-06 16:08:40              0\n",
      "920842 2017-06-06 22:36:45              1\n",
      "                 orderdate  roomservice_2\n",
      "497789 2017-06-06 16:08:40              0\n",
      "920837 2017-06-06 22:36:45              1\n",
      "                 orderdate  roomservice_2\n",
      "497786 2017-06-06 16:08:40              0\n",
      "920847 2017-06-06 22:36:45              1\n",
      "                 orderdate  roomservice_2\n",
      "358870 2017-06-05 20:38:19              1\n",
      "793187 2017-06-05 16:31:26              0\n",
      "                  orderdate  roomservice_2\n",
      "622192  2017-06-09 21:31:32              1\n",
      "1092432 2017-06-09 12:31:58              0\n",
      "                  orderdate  roomservice_2\n",
      "622191  2017-06-09 21:31:32              1\n",
      "1092439 2017-06-09 12:31:58              0\n",
      "                  orderdate  roomservice_2\n",
      "622189  2017-06-09 21:31:32              1\n",
      "1092442 2017-06-09 12:31:58              0\n",
      "                  orderdate  roomservice_2\n",
      "622193  2017-06-09 21:31:32              1\n",
      "1092431 2017-06-09 12:31:58              0\n",
      "                  orderdate  roomservice_2\n",
      "977692  2017-06-06 15:11:00              0\n",
      "1049977 2017-06-06 20:36:03              1\n",
      "                 orderdate  roomservice_2\n",
      "345724 2017-06-05 11:04:52              0\n",
      "730590 2017-06-05 17:54:18              1\n",
      "                  orderdate  roomservice_2\n",
      "730588  2017-06-05 17:54:18              1\n",
      "1000439 2017-06-05 22:55:40              0\n",
      "                 orderdate  roomservice_2\n",
      "341895 2017-06-09 20:58:43              1\n",
      "876057 2017-06-09 14:49:25              0\n",
      "                 orderdate  roomservice_2\n",
      "341825 2017-06-09 20:58:43              1\n",
      "876128 2017-06-09 14:49:25              0\n",
      "                 orderdate  roomservice_2\n",
      "341822 2017-06-09 20:58:43              1\n",
      "876131 2017-06-09 14:49:25              0\n",
      "                 orderdate  roomservice_2\n",
      "60188  2017-06-06 19:01:25              1\n",
      "174526 2017-06-06 13:28:24              0\n",
      "                 orderdate  roomservice_2\n",
      "247824 2017-06-10 20:54:35              1\n",
      "602292 2017-06-10 14:45:46              0\n",
      "                  orderdate  roomservice_2\n",
      "247830  2017-06-10 20:54:35              1\n",
      "602296  2017-06-10 14:45:46              0\n",
      "1077353 2017-06-10 21:06:21              1\n",
      "                 orderdate  roomservice_2\n",
      "285323 2017-06-08 08:02:56              0\n",
      "419835 2017-06-08 21:15:35              1\n",
      "645917 2017-06-08 12:36:13              0\n",
      "                 orderdate  roomservice_2\n",
      "285316 2017-06-08 08:02:56              0\n",
      "419829 2017-06-08 21:15:35              1\n",
      "645915 2017-06-08 12:36:13              0\n",
      "                 orderdate  roomservice_2\n",
      "285360 2017-06-08 08:02:56              1\n",
      "645891 2017-06-08 12:36:13              0\n",
      "                 orderdate  roomservice_2\n",
      "536424 2017-06-08 18:23:15              1\n",
      "673667 2017-06-08 11:47:29              0\n",
      "                 orderdate  roomservice_2\n",
      "536429 2017-06-08 18:23:15              1\n",
      "673647 2017-06-08 11:47:29              0\n",
      "                 orderdate  roomservice_2\n",
      "536439 2017-06-08 18:23:15              1\n",
      "673687 2017-06-08 11:47:29              0\n",
      "                 orderdate  roomservice_2\n",
      "536444 2017-06-08 18:23:15              1\n",
      "673689 2017-06-08 11:47:29              0\n",
      "                 orderdate  roomservice_2\n",
      "536455 2017-06-08 18:23:15              1\n",
      "673704 2017-06-08 11:47:29              0\n",
      "                 orderdate  roomservice_2\n",
      "622539 2017-06-05 18:24:24              1\n",
      "707890 2017-06-05 06:57:25              0\n",
      "                 orderdate  roomservice_2\n",
      "419651 2017-06-05 17:15:24              1\n",
      "707827 2017-06-05 06:57:25              0\n",
      "                 orderdate  roomservice_2\n",
      "419650 2017-06-05 17:15:24              1\n",
      "707829 2017-06-05 06:57:25              0\n",
      "                 orderdate  roomservice_2\n",
      "419624 2017-06-05 17:15:24              1\n",
      "707813 2017-06-05 06:57:25              0\n",
      "                 orderdate  roomservice_2\n",
      "419623 2017-06-05 17:15:24              1\n",
      "707803 2017-06-05 06:57:25              0\n",
      "                 orderdate  roomservice_2\n",
      "419628 2017-06-05 17:15:24              1\n",
      "707802 2017-06-05 06:57:25              0\n",
      "                 orderdate  roomservice_2\n",
      "419675 2017-06-05 17:15:24              1\n",
      "707916 2017-06-05 06:57:25              0\n",
      "                 orderdate  roomservice_2\n",
      "419674 2017-06-05 17:15:24              1\n",
      "707907 2017-06-05 06:57:25              0\n",
      "                 orderdate  roomservice_2\n",
      "419741 2017-06-05 17:15:24              1\n",
      "707873 2017-06-05 06:57:25              0\n",
      "                 orderdate  roomservice_2\n",
      "419681 2017-06-05 17:15:24              1\n",
      "707926 2017-06-05 06:57:25              0\n",
      "                 orderdate  roomservice_2\n",
      "419683 2017-06-05 17:15:24              1\n",
      "707925 2017-06-05 06:57:25              0\n",
      "                 orderdate  roomservice_2\n",
      "419612 2017-06-05 17:15:24              1\n",
      "707817 2017-06-05 06:57:25              0\n",
      "                 orderdate  roomservice_2\n",
      "419735 2017-06-05 17:15:24              1\n",
      "707892 2017-06-05 06:57:25              0\n",
      "                 orderdate  roomservice_2\n",
      "419743 2017-06-05 17:15:24              1\n",
      "707885 2017-06-05 06:57:25              0\n",
      "                 orderdate  roomservice_2\n",
      "415499 2017-06-05 18:57:09              0\n",
      "415919 2017-06-05 19:05:19              1\n",
      "                 orderdate  roomservice_2\n",
      "415496 2017-06-05 18:57:09              0\n",
      "415911 2017-06-05 19:05:19              1\n",
      "                 orderdate  roomservice_2\n",
      "406974 2017-06-09 17:26:05              0\n",
      "522646 2017-06-09 18:28:58              1\n",
      "                 orderdate  roomservice_2\n",
      "406975 2017-06-09 17:26:05              0\n",
      "522645 2017-06-09 18:28:58              1\n",
      "                 orderdate  roomservice_2\n",
      "5641   2017-06-05 15:19:57              0\n",
      "516534 2017-06-05 21:43:59              1\n",
      "583749 2017-06-05 12:32:12              0\n",
      "                 orderdate  roomservice_2\n",
      "61759  2017-06-10 16:00:33              1\n",
      "613503 2017-06-10 12:30:05              0\n",
      "                 orderdate  roomservice_2\n",
      "370450 2017-06-06 21:42:10              1\n",
      "558594 2017-06-06 09:48:03              0\n",
      "                  orderdate  roomservice_2\n",
      "936657  2017-06-11 10:22:41              0\n",
      "1082858 2017-06-11 02:09:50              1\n",
      "                  orderdate  roomservice_2\n",
      "903605  2017-06-09 11:59:40              0\n",
      "1025731 2017-06-09 21:46:40              1\n",
      "                  orderdate  roomservice_2\n",
      "903587  2017-06-09 11:59:40              0\n",
      "1025649 2017-06-09 21:46:40              1\n",
      "                  orderdate  roomservice_2\n",
      "903647  2017-06-09 11:59:40              0\n",
      "1025566 2017-06-09 21:46:40              1\n",
      "                 orderdate  roomservice_2\n",
      "706297 2017-06-10 18:20:09              1\n",
      "792135 2017-06-10 17:59:12              0\n",
      "                 orderdate  roomservice_2\n",
      "251388 2017-06-10 10:04:33              0\n",
      "706290 2017-06-10 18:20:09              1\n",
      "792131 2017-06-10 17:59:12              0\n",
      "                 orderdate  roomservice_2\n",
      "350928 2017-06-10 20:58:31              1\n",
      "599758 2017-06-10 08:46:40              0\n",
      "                 orderdate  roomservice_2\n",
      "274163 2017-06-05 18:31:55              0\n",
      "595725 2017-06-05 09:41:32              1\n",
      "811308 2017-06-05 12:11:56              0\n",
      "                 orderdate  roomservice_2\n",
      "245752 2017-06-08 15:18:55              0\n",
      "440526 2017-06-08 22:00:38              1\n",
      "                 orderdate  roomservice_2\n",
      "245762 2017-06-08 15:18:55              0\n",
      "440536 2017-06-08 22:00:38              1\n",
      "                 orderdate  roomservice_2\n",
      "245757 2017-06-08 15:18:55              0\n",
      "440531 2017-06-08 22:00:38              1\n",
      "                 orderdate  roomservice_2\n",
      "245755 2017-06-08 15:18:55              0\n",
      "440529 2017-06-08 22:00:38              1\n",
      "                 orderdate  roomservice_2\n",
      "245767 2017-06-08 15:18:55              0\n",
      "440538 2017-06-08 22:00:38              1\n",
      "                 orderdate  roomservice_2\n",
      "245766 2017-06-08 15:18:55              0\n",
      "440540 2017-06-08 22:00:38              1\n",
      "                 orderdate  roomservice_2\n",
      "245764 2017-06-08 15:18:55              0\n",
      "440542 2017-06-08 22:00:38              1\n",
      "                 orderdate  roomservice_2\n",
      "245770 2017-06-08 15:18:55              0\n",
      "440541 2017-06-08 22:00:38              1\n",
      "                 orderdate  roomservice_2\n",
      "912906 2017-06-09 20:49:40              1\n",
      "912910 2017-06-09 20:51:34              0\n",
      "                 orderdate  roomservice_2\n",
      "571426 2017-06-07 08:58:44              1\n",
      "582833 2017-06-07 15:23:58              0\n",
      "                 orderdate  roomservice_2\n",
      "571429 2017-06-07 08:58:44              1\n",
      "582831 2017-06-07 15:23:58              0\n",
      "                 orderdate  roomservice_2\n",
      "68026  2017-06-09 21:42:59              1\n",
      "629276 2017-06-09 14:22:13              0\n",
      "                 orderdate  roomservice_2\n",
      "68025  2017-06-09 21:42:59              1\n",
      "629275 2017-06-09 14:22:13              0\n",
      "                 orderdate  roomservice_2\n",
      "459510 2017-06-06 11:58:59              0\n",
      "621168 2017-06-06 19:40:06              1\n",
      "                  orderdate  roomservice_2\n",
      "38249   2017-06-07 21:34:57              1\n",
      "1016132 2017-06-07 13:37:31              0\n",
      "                  orderdate  roomservice_2\n",
      "38247   2017-06-07 21:34:57              1\n",
      "1016130 2017-06-07 13:37:31              0\n",
      "                  orderdate  roomservice_2\n",
      "38244   2017-06-07 21:34:57              1\n",
      "1016131 2017-06-07 13:37:31              0\n",
      "                  orderdate  roomservice_2\n",
      "38243   2017-06-07 21:34:57              1\n",
      "1016134 2017-06-07 13:37:31              0\n",
      "                  orderdate  roomservice_2\n",
      "38241   2017-06-07 21:34:57              1\n",
      "1016121 2017-06-07 13:37:31              0\n",
      "                 orderdate  roomservice_2\n",
      "167003 2017-06-10 20:29:21              1\n",
      "337874 2017-06-10 16:30:40              0\n",
      "                 orderdate  roomservice_2\n",
      "323008 2017-06-07 19:33:39              0\n",
      "594266 2017-06-07 10:46:25              1\n",
      "                 orderdate  roomservice_2\n",
      "180039 2017-06-09 18:33:11              1\n",
      "615984 2017-06-09 09:45:49              0\n",
      "                 orderdate  roomservice_2\n",
      "180033 2017-06-09 18:33:11              1\n",
      "615988 2017-06-09 09:45:49              0\n",
      "                 orderdate  roomservice_2\n",
      "180017 2017-06-09 18:33:11              1\n",
      "615995 2017-06-09 09:45:49              0\n",
      "827715 2017-06-09 22:43:40              1\n",
      "                 orderdate  roomservice_2\n",
      "525023 2017-06-08 10:48:52              0\n",
      "958192 2017-06-08 17:03:06              1\n",
      "                 orderdate  roomservice_2\n",
      "530189 2017-06-10 16:54:37              1\n",
      "911184 2017-06-10 12:06:04              0\n",
      "                 orderdate  roomservice_2\n",
      "530190 2017-06-10 16:54:37              1\n",
      "911185 2017-06-10 12:06:04              0\n",
      "                 orderdate  roomservice_2\n",
      "605618 2017-06-06 19:03:54              1\n",
      "800804 2017-06-06 16:45:00              0\n",
      "                 orderdate  roomservice_2\n",
      "605544 2017-06-06 19:03:54              1\n",
      "800711 2017-06-06 16:45:00              0\n",
      "                 orderdate  roomservice_2\n",
      "605617 2017-06-06 19:03:54              1\n",
      "800806 2017-06-06 16:45:00              0\n",
      "                 orderdate  roomservice_2\n",
      "605608 2017-06-06 19:03:54              1\n",
      "800831 2017-06-06 16:45:00              0\n",
      "                 orderdate  roomservice_2\n",
      "605604 2017-06-06 19:03:54              1\n",
      "800827 2017-06-06 16:45:00              0\n",
      "                 orderdate  roomservice_2\n",
      "605601 2017-06-06 19:03:54              1\n",
      "800824 2017-06-06 16:45:00              0\n",
      "                 orderdate  roomservice_2\n",
      "274663 2017-06-07 07:54:10              0\n",
      "744748 2017-06-07 21:51:22              1\n",
      "                 orderdate  roomservice_2\n",
      "274690 2017-06-07 07:54:10              0\n",
      "744730 2017-06-07 21:51:22              1\n",
      "                 orderdate  roomservice_2\n",
      "274685 2017-06-07 07:54:10              0\n",
      "744725 2017-06-07 21:51:22              1\n",
      "                 orderdate  roomservice_2\n",
      "274650 2017-06-07 07:54:10              0\n",
      "744755 2017-06-07 21:51:22              1\n",
      "                 orderdate  roomservice_2\n",
      "274709 2017-06-07 07:54:10              0\n",
      "744715 2017-06-07 21:51:22              1\n",
      "                 orderdate  roomservice_2\n",
      "274645 2017-06-07 07:54:10              0\n",
      "744761 2017-06-07 21:51:22              1\n",
      "                 orderdate  roomservice_2\n",
      "274691 2017-06-07 07:54:10              0\n",
      "744729 2017-06-07 21:51:22              1\n",
      "                 orderdate  roomservice_2\n",
      "274684 2017-06-07 07:54:10              0\n",
      "744726 2017-06-07 21:51:22              1\n",
      "                 orderdate  roomservice_2\n",
      "126969 2017-06-05 17:20:11              1\n",
      "238666 2017-06-05 15:59:49              0\n",
      "                 orderdate  roomservice_2\n",
      "126968 2017-06-05 17:20:11              1\n",
      "433813 2017-06-05 07:37:28              0\n",
      "933807 2017-06-05 09:45:19              0\n",
      "                 orderdate  roomservice_2\n",
      "126966 2017-06-05 17:20:11              1\n",
      "146009 2017-06-05 21:13:52              0\n",
      "                 orderdate  roomservice_2\n",
      "126964 2017-06-05 17:20:11              1\n",
      "146018 2017-06-05 21:13:52              0\n",
      "433765 2017-06-05 07:37:28              0\n",
      "933760 2017-06-05 09:45:19              0\n",
      "                  orderdate  roomservice_2\n",
      "655787  2017-06-08 07:44:25              0\n",
      "1046441 2017-06-08 19:27:19              1\n",
      "                  orderdate  roomservice_2\n",
      "655790  2017-06-08 07:44:25              0\n",
      "1046443 2017-06-08 19:27:19              1\n",
      "                  orderdate  roomservice_2\n",
      "655788  2017-06-08 07:44:25              0\n",
      "1046444 2017-06-08 19:27:19              1\n",
      "                 orderdate  roomservice_2\n",
      "22689  2017-06-06 22:08:35              1\n",
      "255870 2017-06-06 17:13:43              0\n",
      "                 orderdate  roomservice_2\n",
      "22697  2017-06-06 22:08:35              1\n",
      "255861 2017-06-06 17:13:43              0\n",
      "                 orderdate  roomservice_2\n",
      "22684  2017-06-06 22:08:35              1\n",
      "255865 2017-06-06 17:13:43              0\n",
      "                 orderdate  roomservice_2\n",
      "22683  2017-06-06 22:08:35              1\n",
      "255864 2017-06-06 17:13:43              0\n",
      "                 orderdate  roomservice_2\n",
      "22690  2017-06-06 22:08:35              1\n",
      "255872 2017-06-06 17:13:43              0\n",
      "                 orderdate  roomservice_2\n",
      "770377 2017-06-05 18:35:44              0\n",
      "989018 2017-06-05 20:06:34              1\n",
      "                 orderdate  roomservice_2\n",
      "477077 2017-06-11 22:56:35              1\n",
      "628467 2017-06-11 16:20:41              0\n",
      "                 orderdate  roomservice_2\n",
      "477060 2017-06-11 22:56:35              1\n",
      "628481 2017-06-11 16:20:41              0\n",
      "                 orderdate  roomservice_2\n",
      "477080 2017-06-11 22:56:35              1\n",
      "628477 2017-06-11 16:20:41              0\n",
      "                 orderdate  roomservice_2\n",
      "477083 2017-06-11 22:56:35              1\n",
      "628470 2017-06-11 16:20:41              0\n",
      "                 orderdate  roomservice_2\n",
      "477099 2017-06-11 22:56:35              1\n",
      "628479 2017-06-11 16:20:41              0\n",
      "                 orderdate  roomservice_2\n",
      "477062 2017-06-11 22:56:35              1\n",
      "628486 2017-06-11 16:20:41              0\n",
      "                 orderdate  roomservice_2\n",
      "477071 2017-06-11 22:56:35              1\n",
      "628466 2017-06-11 16:20:41              0\n",
      "                 orderdate  roomservice_2\n",
      "477090 2017-06-11 22:56:35              1\n",
      "628473 2017-06-11 16:20:41              0\n",
      "                 orderdate  roomservice_2\n",
      "210671 2017-06-11 21:28:33              1\n",
      "339470 2017-06-11 20:52:10              0\n",
      "                 orderdate  roomservice_2\n",
      "210658 2017-06-11 21:28:33              1\n",
      "339448 2017-06-11 20:52:10              0\n",
      "                 orderdate  roomservice_2\n",
      "210643 2017-06-11 21:28:33              1\n",
      "339438 2017-06-11 20:52:10              0\n",
      "                 orderdate  roomservice_2\n",
      "210702 2017-06-11 21:28:33              1\n",
      "339461 2017-06-11 20:52:10              0\n",
      "                 orderdate  roomservice_2\n",
      "210651 2017-06-11 21:28:33              1\n",
      "339450 2017-06-11 20:52:10              0\n",
      "                 orderdate  roomservice_2\n",
      "210672 2017-06-11 21:28:33              1\n",
      "339471 2017-06-11 20:52:10              0\n",
      "                 orderdate  roomservice_2\n",
      "210647 2017-06-11 21:28:33              1\n",
      "339449 2017-06-11 20:52:10              0\n",
      "                 orderdate  roomservice_2\n",
      "210649 2017-06-11 21:28:33              1\n",
      "339446 2017-06-11 20:52:10              0\n",
      "                 orderdate  roomservice_2\n",
      "150289 2017-06-05 21:24:45              0\n",
      "677717 2017-06-05 22:07:28              1\n",
      "                 orderdate  roomservice_2\n",
      "150266 2017-06-05 21:24:45              0\n",
      "677704 2017-06-05 22:07:28              1\n",
      "                 orderdate  roomservice_2\n",
      "150285 2017-06-05 21:24:45              0\n",
      "677714 2017-06-05 22:07:28              1\n",
      "                 orderdate  roomservice_2\n",
      "396453 2017-06-08 02:12:20              1\n",
      "629928 2017-06-08 22:56:38              0\n",
      "                 orderdate  roomservice_2\n",
      "396447 2017-06-08 02:12:20              1\n",
      "629911 2017-06-08 22:56:38              0\n",
      "                 orderdate  roomservice_2\n",
      "396454 2017-06-08 02:12:20              1\n",
      "629927 2017-06-08 22:56:38              0\n",
      "                 orderdate  roomservice_2\n",
      "396452 2017-06-08 02:12:20              1\n",
      "629926 2017-06-08 22:56:38              0\n",
      "                 orderdate  roomservice_2\n",
      "43494  2017-06-08 08:59:14              1\n",
      "270702 2017-06-08 11:07:33              0\n",
      "                 orderdate  roomservice_2\n",
      "43512  2017-06-08 08:59:14              1\n",
      "270717 2017-06-08 11:07:33              0\n",
      "                 orderdate  roomservice_2\n",
      "43523  2017-06-08 08:59:14              1\n",
      "270719 2017-06-08 11:07:33              0\n",
      "                 orderdate  roomservice_2\n",
      "43509  2017-06-08 08:59:14              1\n",
      "270724 2017-06-08 11:07:33              0\n",
      "                 orderdate  roomservice_2\n",
      "334130 2017-06-10 00:56:24              0\n",
      "683340 2017-06-10 17:47:14              0\n",
      "826417 2017-06-10 18:04:59              1\n",
      "                 orderdate  roomservice_2\n",
      "334132 2017-06-10 00:56:24              0\n",
      "683330 2017-06-10 17:47:14              0\n",
      "826434 2017-06-10 18:04:59              1\n",
      "                 orderdate  roomservice_2\n",
      "334139 2017-06-10 00:56:24              0\n",
      "683336 2017-06-10 17:47:14              0\n",
      "826424 2017-06-10 18:04:59              1\n",
      "                 orderdate  roomservice_2\n",
      "334142 2017-06-10 00:56:24              0\n",
      "683325 2017-06-10 17:47:14              0\n",
      "826432 2017-06-10 18:04:59              1\n",
      "                 orderdate  roomservice_2\n",
      "334140 2017-06-10 00:56:24              0\n",
      "683339 2017-06-10 17:47:14              0\n",
      "826419 2017-06-10 18:04:59              1\n",
      "                 orderdate  roomservice_2\n",
      "319672 2017-06-06 17:39:36              1\n",
      "943987 2017-06-06 22:45:55              0\n",
      "                 orderdate  roomservice_2\n",
      "252791 2017-06-05 14:06:02              0\n",
      "493846 2017-06-05 21:52:18              1\n",
      "                 orderdate  roomservice_2\n",
      "252781 2017-06-05 14:06:02              0\n",
      "493817 2017-06-05 21:52:18              1\n",
      "                 orderdate  roomservice_2\n",
      "252783 2017-06-05 14:06:02              0\n",
      "493828 2017-06-05 21:52:18              1\n",
      "                 orderdate  roomservice_2\n",
      "35593  2017-06-09 19:39:17              1\n",
      "902908 2017-06-09 16:03:03              0\n"
     ]
    }
   ],
   "source": [
    "for x in index.get_level_values(1)[:]:\n",
    "    s = train_df.loc[train_df.roomid==x]['orderdate'].dt.day.std()\n",
    "    if s == 0:\n",
    "        print(train_df.loc[train_df.roomid==x][['orderdate', 'roomservice_2']])\n",
    "        "
   ]
  },
  {
   "cell_type": "code",
   "execution_count": 108,
   "metadata": {
    "collapsed": false
   },
   "outputs": [
    {
     "data": {
      "text/plain": [
       "0.0"
      ]
     },
     "execution_count": 108,
     "metadata": {},
     "output_type": "execute_result"
    }
   ],
   "source": [
    "train_df.loc[train_df.roomid==31043]['orderdate'].dt.day.std()"
   ]
  },
  {
   "cell_type": "code",
   "execution_count": 106,
   "metadata": {
    "collapsed": false
   },
   "outputs": [
    {
     "data": {
      "text/html": [
       "<div>\n",
       "<style>\n",
       "    .dataframe thead tr:only-child th {\n",
       "        text-align: right;\n",
       "    }\n",
       "\n",
       "    .dataframe thead th {\n",
       "        text-align: left;\n",
       "    }\n",
       "\n",
       "    .dataframe tbody tr th {\n",
       "        vertical-align: top;\n",
       "    }\n",
       "</style>\n",
       "<table border=\"1\" class=\"dataframe\">\n",
       "  <thead>\n",
       "    <tr style=\"text-align: right;\">\n",
       "      <th></th>\n",
       "      <th>orderid</th>\n",
       "      <th>uid</th>\n",
       "      <th>orderdate</th>\n",
       "      <th>hotelid</th>\n",
       "      <th>basicroomid</th>\n",
       "      <th>roomid</th>\n",
       "      <th>orderlabel</th>\n",
       "      <th>star</th>\n",
       "      <th>rank</th>\n",
       "      <th>returnvalue</th>\n",
       "      <th>...</th>\n",
       "      <th>roomservice_6_lastord</th>\n",
       "      <th>roomservice_8_lastord</th>\n",
       "      <th>roomtag_2_lastord</th>\n",
       "      <th>roomtag_3_lastord</th>\n",
       "      <th>roomtag_4_lastord</th>\n",
       "      <th>roomtag_5_lastord</th>\n",
       "      <th>star_lastord</th>\n",
       "      <th>hotel_minprice_lastord</th>\n",
       "      <th>basic_minprice_lastord</th>\n",
       "      <th>real_price</th>\n",
       "    </tr>\n",
       "  </thead>\n",
       "  <tbody>\n",
       "    <tr>\n",
       "      <th>385956</th>\n",
       "      <td>63264</td>\n",
       "      <td>123284</td>\n",
       "      <td>2017-06-09 08:53:53</td>\n",
       "      <td>649</td>\n",
       "      <td>4679</td>\n",
       "      <td>5534421</td>\n",
       "      <td>0</td>\n",
       "      <td>11</td>\n",
       "      <td>21</td>\n",
       "      <td>200.0</td>\n",
       "      <td>...</td>\n",
       "      <td>0.0</td>\n",
       "      <td>5.0</td>\n",
       "      <td>NaN</td>\n",
       "      <td>458.0</td>\n",
       "      <td>0.0</td>\n",
       "      <td>0.0</td>\n",
       "      <td>11.0</td>\n",
       "      <td>1169.0</td>\n",
       "      <td>1169.0</td>\n",
       "      <td>1600.0</td>\n",
       "    </tr>\n",
       "    <tr>\n",
       "      <th>636700</th>\n",
       "      <td>45932</td>\n",
       "      <td>123284</td>\n",
       "      <td>2017-06-08 06:53:48</td>\n",
       "      <td>649</td>\n",
       "      <td>4679</td>\n",
       "      <td>5534421</td>\n",
       "      <td>0</td>\n",
       "      <td>11</td>\n",
       "      <td>21</td>\n",
       "      <td>206.0</td>\n",
       "      <td>...</td>\n",
       "      <td>0.0</td>\n",
       "      <td>5.0</td>\n",
       "      <td>313.0</td>\n",
       "      <td>444.0</td>\n",
       "      <td>0.0</td>\n",
       "      <td>0.0</td>\n",
       "      <td>11.0</td>\n",
       "      <td>1175.0</td>\n",
       "      <td>1175.0</td>\n",
       "      <td>1600.0</td>\n",
       "    </tr>\n",
       "  </tbody>\n",
       "</table>\n",
       "<p>2 rows × 151 columns</p>\n",
       "</div>"
      ],
      "text/plain": [
       "        orderid     uid           orderdate  hotelid  basicroomid   roomid  \\\n",
       "385956    63264  123284 2017-06-09 08:53:53      649         4679  5534421   \n",
       "636700    45932  123284 2017-06-08 06:53:48      649         4679  5534421   \n",
       "\n",
       "        orderlabel  star  rank  returnvalue     ...      \\\n",
       "385956           0    11    21        200.0     ...       \n",
       "636700           0    11    21        206.0     ...       \n",
       "\n",
       "        roomservice_6_lastord  roomservice_8_lastord  roomtag_2_lastord  \\\n",
       "385956                    0.0                    5.0                NaN   \n",
       "636700                    0.0                    5.0              313.0   \n",
       "\n",
       "        roomtag_3_lastord  roomtag_4_lastord  roomtag_5_lastord  star_lastord  \\\n",
       "385956              458.0                0.0                0.0          11.0   \n",
       "636700              444.0                0.0                0.0          11.0   \n",
       "\n",
       "        hotel_minprice_lastord  basic_minprice_lastord  real_price  \n",
       "385956                  1169.0                  1169.0      1600.0  \n",
       "636700                  1175.0                  1175.0      1600.0  \n",
       "\n",
       "[2 rows x 151 columns]"
      ]
     },
     "execution_count": 106,
     "metadata": {},
     "output_type": "execute_result"
    }
   ],
   "source": [
    "train_df.loc[train_df.roomid==5534421]"
   ]
  },
  {
   "cell_type": "code",
   "execution_count": 103,
   "metadata": {
    "collapsed": true
   },
   "outputs": [
    {
     "name": "stdout",
     "output_type": "stream",
     "text": [
      "gg 5534421\n",
      "gg 5536819\n",
      "gg 5537915\n",
      "gg 5539219\n",
      "gg 7314127\n",
      "gg 858417\n",
      "gg 13987021\n",
      "gg 13990219\n",
      "gg 13990221\n",
      "gg 2299597\n",
      "gg 22995415\n",
      "gg 3083783\n",
      "gg 30833723\n",
      "gg 30834227\n",
      "gg 30837623\n",
      "gg 3364495\n",
      "gg 3364673\n",
      "gg 3364849\n",
      "gg 33646011\n",
      "gg 3983533\n",
      "gg 3983607\n",
      "gg 71238311\n",
      "gg 9421727\n",
      "gg 11004213\n",
      "gg 11004215\n",
      "gg 11004223\n",
      "gg 11004243\n",
      "gg 11004263\n"
     ]
    }
   ],
   "source": [
    "for i in index.get_level_values(1):\n",
    "    s = train_df.loc[train_df.roomid==i]['uid'].unique().shape[0]\n",
    "    if s == 1:\n",
    "        print('gg', i)"
   ]
  },
  {
   "cell_type": "markdown",
   "metadata": {},
   "source": [
    "### 酒店星级\n",
    "\n",
    "子房型rank 由物理房型和酒店子房型确定\n",
    "\n",
    "酒店star 1-11(难道不是按5星级来划分？）， 测试的星级要比训练的大\n",
    "\n"
   ]
  },
  {
   "cell_type": "code",
   "execution_count": 49,
   "metadata": {
    "collapsed": false
   },
   "outputs": [],
   "source": [
    "hrank = test_df.drop_duplicates(['basicroomid', 'roomid', 'rank'])"
   ]
  },
  {
   "cell_type": "code",
   "execution_count": 50,
   "metadata": {
    "collapsed": true
   },
   "outputs": [
    {
     "data": {
      "text/plain": [
       "count    978298.0\n",
       "mean          1.0\n",
       "std           0.0\n",
       "min           1.0\n",
       "25%           1.0\n",
       "50%           1.0\n",
       "75%           1.0\n",
       "max           1.0\n",
       "Name: uid, dtype: float64"
      ]
     },
     "execution_count": 50,
     "metadata": {},
     "output_type": "execute_result"
    }
   ],
   "source": [
    "hrank.groupby(['basicroomid', 'roomid']).uid.count().describe()"
   ]
  },
  {
   "cell_type": "code",
   "execution_count": 55,
   "metadata": {
    "collapsed": true
   },
   "outputs": [
    {
     "data": {
      "text/plain": [
       "count    1.094826e+06\n",
       "mean     8.557309e+00\n",
       "std      2.587717e+00\n",
       "min      1.000000e+00\n",
       "25%      7.000000e+00\n",
       "50%      9.000000e+00\n",
       "75%      1.100000e+01\n",
       "max      1.100000e+01\n",
       "Name: star, dtype: float64"
      ]
     },
     "execution_count": 55,
     "metadata": {},
     "output_type": "execute_result"
    }
   ],
   "source": [
    "train_df.star.describe()"
   ]
  },
  {
   "cell_type": "code",
   "execution_count": 44,
   "metadata": {
    "collapsed": false
   },
   "outputs": [
    {
     "data": {
      "text/html": [
       "<div>\n",
       "<style>\n",
       "    .dataframe thead tr:only-child th {\n",
       "        text-align: right;\n",
       "    }\n",
       "\n",
       "    .dataframe thead th {\n",
       "        text-align: left;\n",
       "    }\n",
       "\n",
       "    .dataframe tbody tr th {\n",
       "        vertical-align: top;\n",
       "    }\n",
       "</style>\n",
       "<table border=\"1\" class=\"dataframe\">\n",
       "  <thead>\n",
       "    <tr style=\"text-align: right;\">\n",
       "      <th></th>\n",
       "      <th>star</th>\n",
       "    </tr>\n",
       "    <tr>\n",
       "      <th>orderdate</th>\n",
       "      <th></th>\n",
       "    </tr>\n",
       "  </thead>\n",
       "  <tbody>\n",
       "    <tr>\n",
       "      <th>2017-06-05</th>\n",
       "      <td>8.616157</td>\n",
       "    </tr>\n",
       "    <tr>\n",
       "      <th>2017-06-06</th>\n",
       "      <td>8.609248</td>\n",
       "    </tr>\n",
       "    <tr>\n",
       "      <th>2017-06-07</th>\n",
       "      <td>8.660252</td>\n",
       "    </tr>\n",
       "    <tr>\n",
       "      <th>2017-06-08</th>\n",
       "      <td>8.499137</td>\n",
       "    </tr>\n",
       "    <tr>\n",
       "      <th>2017-06-09</th>\n",
       "      <td>8.517103</td>\n",
       "    </tr>\n",
       "    <tr>\n",
       "      <th>2017-06-10</th>\n",
       "      <td>8.495958</td>\n",
       "    </tr>\n",
       "    <tr>\n",
       "      <th>2017-06-11</th>\n",
       "      <td>8.509195</td>\n",
       "    </tr>\n",
       "  </tbody>\n",
       "</table>\n",
       "</div>"
      ],
      "text/plain": [
       "                star\n",
       "orderdate           \n",
       "2017-06-05  8.616157\n",
       "2017-06-06  8.609248\n",
       "2017-06-07  8.660252\n",
       "2017-06-08  8.499137\n",
       "2017-06-09  8.517103\n",
       "2017-06-10  8.495958\n",
       "2017-06-11  8.509195"
      ]
     },
     "execution_count": 44,
     "metadata": {},
     "output_type": "execute_result"
    }
   ],
   "source": [
    "train_df[['orderdate', 'star']].set_index('orderdate').resample('D').mean()"
   ]
  },
  {
   "cell_type": "code",
   "execution_count": 51,
   "metadata": {
    "collapsed": false
   },
   "outputs": [
    {
     "data": {
      "text/plain": [
       "count    978298.000000\n",
       "mean          6.823575\n",
       "std           2.865185\n",
       "min           1.000000\n",
       "25%           5.000000\n",
       "50%           7.000000\n",
       "75%           9.000000\n",
       "max          11.000000\n",
       "Name: star, dtype: float64"
      ]
     },
     "execution_count": 51,
     "metadata": {},
     "output_type": "execute_result"
    }
   ],
   "source": [
    "test_df['star'].describe()"
   ]
  },
  {
   "cell_type": "code",
   "execution_count": 148,
   "metadata": {
    "collapsed": false
   },
   "outputs": [
    {
     "data": {
      "text/plain": [
       "count    978009.000000\n",
       "mean          8.903394\n",
       "std           5.872304\n",
       "min           3.000000\n",
       "25%           5.000000\n",
       "50%           7.000000\n",
       "75%          11.000000\n",
       "max          63.000000\n",
       "Name: rank, dtype: float64"
      ]
     },
     "execution_count": 148,
     "metadata": {},
     "output_type": "execute_result"
    }
   ],
   "source": [
    "test_df.loc[test_df['rank']<65]['rank'].describe()"
   ]
  },
  {
   "cell_type": "code",
   "execution_count": null,
   "metadata": {
    "collapsed": true
   },
   "outputs": [],
   "source": [
    "train_df.loc[train_df.orderdate==1]"
   ]
  },
  {
   "cell_type": "code",
   "execution_count": 13,
   "metadata": {
    "collapsed": false
   },
   "outputs": [
    {
     "data": {
      "text/plain": [
       "count    1.094826e+06\n",
       "mean     1.106601e+01\n",
       "std      1.198979e+01\n",
       "min      3.000000e+00\n",
       "25%      5.000000e+00\n",
       "50%      9.000000e+00\n",
       "75%      1.300000e+01\n",
       "max      5.450000e+02\n",
       "Name: rank, dtype: float64"
      ]
     },
     "execution_count": 13,
     "metadata": {},
     "output_type": "execute_result"
    }
   ],
   "source": [
    "train_df['rank'].describe()"
   ]
  },
  {
   "cell_type": "code",
   "execution_count": 151,
   "metadata": {
    "collapsed": false
   },
   "outputs": [],
   "source": [
    "corr = train_df[c].sample(100000).corr()"
   ]
  },
  {
   "cell_type": "code",
   "execution_count": 156,
   "metadata": {
    "collapsed": true
   },
   "outputs": [
    {
     "data": {
      "text/plain": [
       "orderlabel                          1.000000\n",
       "roomtag_1                           0.406815\n",
       "room_30days_ordnumratio             0.220140\n",
       "basic_week_ordernum_ratio           0.151447\n",
       "basic_30days_ordnumratio            0.151420\n",
       "basic_recent3_ordernum_ratio        0.144302\n",
       "basic_comment_ratio                 0.126720\n",
       "rank                                0.082593\n",
       "basic_30days_realratio              0.065626\n",
       "star                                0.062201\n",
       "roomservice_8                       0.060242\n",
       "roomid                              0.054190\n",
       "roomservice_3                       0.050297\n",
       "basicroomid                         0.047506\n",
       "hotelid                             0.047016\n",
       "room_30days_realratio               0.041762\n",
       "user_avgprice_star                  0.038415\n",
       "user_avgstar                        0.035385\n",
       "orderbehavior_9                     0.035058\n",
       "user_avgprice_1month                0.032985\n",
       "user_maxprice_1month                0.032165\n",
       "star_lastord                        0.031966\n",
       "real_price                          0.031892\n",
       "user_avgprice                       0.031865\n",
       "price_deduct                        0.031610\n",
       "user_medprice_1month                0.031607\n",
       "basic_maxarea                       0.031383\n",
       "user_avgdealprice                   0.031373\n",
       "basic_minarea                       0.031303\n",
       "user_avgprice_1week                 0.031150\n",
       "                                      ...   \n",
       "user_avgpromotion                   0.003027\n",
       "roomservice_2                       0.002615\n",
       "ordertype_6_ratio                   0.002580\n",
       "roomservice_8_lastord               0.002570\n",
       "orderbehavior_4_ratio_1week         0.002550\n",
       "ordertype_9_ratio                   0.002396\n",
       "user_roomservice_6_2ratio           0.002392\n",
       "user_ordnum_1week                   0.002368\n",
       "user_roomservice_4_1ratio           0.002210\n",
       "ordertype_1_ratio                   0.002117\n",
       "ordertype_7_ratio                   0.001983\n",
       "user_roomservice_8_345ratio         0.001913\n",
       "user_ordnum_3month                  0.001854\n",
       "roomtag_3_lastord                   0.001634\n",
       "user_roomservice_7_0ratio           0.001627\n",
       "user_roomservice_7_1ratio_3month    0.001409\n",
       "user_roomservice_7_0ratio_3month    0.001408\n",
       "user_avgadvanceddate                0.001383\n",
       "user_roomservice_7_1ratio_1month    0.001346\n",
       "user_roomservice_7_0ratio_1month    0.001345\n",
       "orderbehavior_3_ratio_1week         0.001270\n",
       "roomtag_2_lastord                   0.001134\n",
       "ordertype_4_ratio                   0.001098\n",
       "user_roomservice_4_5ratio_3month    0.001066\n",
       "user_ordnum_1month                  0.000747\n",
       "user_roomservice_4_5ratio_1week     0.000645\n",
       "ordertype_11_ratio                  0.000376\n",
       "ordertype_3_ratio                   0.000210\n",
       "user_roomservice_4_3ratio           0.000068\n",
       "user_roomservice_4_3ratio_3month    0.000006\n",
       "Name: orderlabel, Length: 149, dtype: float64"
      ]
     },
     "execution_count": 156,
     "metadata": {},
     "output_type": "execute_result"
    }
   ],
   "source": [
    "abs(corr.orderlabel).sort_values(ascending=False)"
   ]
  },
  {
   "cell_type": "markdown",
   "metadata": {},
   "source": [
    "## 测试和训练用户和酒店交叉的部分 "
   ]
  },
  {
   "cell_type": "code",
   "execution_count": 88,
   "metadata": {
    "collapsed": true
   },
   "outputs": [],
   "source": [
    "def test_cross(f):\n",
    "    truid = train_df[[f]].drop_duplicates()\n",
    "    print('train', truid.shape)\n",
    "\n",
    "    teuid = test_df[[f]].drop_duplicates()\n",
    "    print('test', teuid.shape)\n",
    "    teuid['is_test'] = 1\n",
    "    teuid = teuid.set_index(f)\n",
    "\n",
    "    df = truid.join(teuid, on=f, how='outer')\n",
    "    df.info(null_counts=True, verbose=True)\n",
    "    print(teuid.shape[0] + truid.shape[0] - df.shape[0], 'cross')"
   ]
  },
  {
   "cell_type": "markdown",
   "metadata": {},
   "source": [
    "###  用户\n",
    "\n",
    "训练测试各3万用户，交叉817个"
   ]
  },
  {
   "cell_type": "code",
   "execution_count": 89,
   "metadata": {
    "collapsed": false
   },
   "outputs": [
    {
     "name": "stdout",
     "output_type": "stream",
     "text": [
      "train (29960, 1)\n",
      "test (34632, 1)\n",
      "<class 'pandas.core.frame.DataFrame'>\n",
      "Int64Index: 63765 entries, 0 to 1094738\n",
      "Data columns (total 2 columns):\n",
      "uid        63765 non-null int64\n",
      "is_test    34632 non-null float64\n",
      "dtypes: float64(1), int64(1)\n",
      "memory usage: 1.5 MB\n",
      "827 cross\n"
     ]
    }
   ],
   "source": [
    "test_cross('uid')"
   ]
  },
  {
   "cell_type": "markdown",
   "metadata": {},
   "source": [
    "### 酒店\n",
    "\n",
    "测试3.5万， 训练1.9万，交叉1.1万"
   ]
  },
  {
   "cell_type": "code",
   "execution_count": 87,
   "metadata": {
    "collapsed": false
   },
   "outputs": [
    {
     "name": "stdout",
     "output_type": "stream",
     "text": [
      "train (18543, 1)\n",
      "test (34632, 1)\n",
      "<class 'pandas.core.frame.DataFrame'>\n",
      "Int64Index: 42208 entries, 0 to 1094495\n",
      "Data columns (total 2 columns):\n",
      "hotelid    42208 non-null int64\n",
      "is_test    34632 non-null float64\n",
      "dtypes: float64(1), int64(1)\n",
      "memory usage: 989.2 KB\n",
      "10967 cross\n"
     ]
    }
   ],
   "source": [
    "test_cross('hotelid')"
   ]
  },
  {
   "cell_type": "code",
   "execution_count": 90,
   "metadata": {
    "collapsed": false
   },
   "outputs": [
    {
     "name": "stdout",
     "output_type": "stream",
     "text": [
      "train (108611, 1)\n",
      "test (192816, 1)\n",
      "<class 'pandas.core.frame.DataFrame'>\n",
      "Int64Index: 239130 entries, 0 to 1094507\n",
      "Data columns (total 2 columns):\n",
      "basicroomid    239130 non-null int64\n",
      "is_test        192816 non-null float64\n",
      "dtypes: float64(1), int64(1)\n",
      "memory usage: 5.5 MB\n",
      "62297 cross\n"
     ]
    }
   ],
   "source": [
    "test_cross('basicroomid')"
   ]
  },
  {
   "cell_type": "code",
   "execution_count": 91,
   "metadata": {
    "collapsed": false
   },
   "outputs": [
    {
     "name": "stdout",
     "output_type": "stream",
     "text": [
      "train (804370, 1)\n",
      "test (974533, 1)\n",
      "<class 'pandas.core.frame.DataFrame'>\n",
      "Int64Index: 1567740 entries, 0 to 1094815\n",
      "Data columns (total 2 columns):\n",
      "roomid     1567740 non-null int64\n",
      "is_test    974533 non-null float64\n",
      "dtypes: float64(1), int64(1)\n",
      "memory usage: 35.9 MB\n",
      "211163 cross\n"
     ]
    }
   ],
   "source": [
    "test_cross('roomid')"
   ]
  },
  {
   "cell_type": "markdown",
   "metadata": {},
   "source": [
    "### 子房型价格"
   ]
  },
  {
   "cell_type": "code",
   "execution_count": 92,
   "metadata": {
    "collapsed": true
   },
   "outputs": [],
   "source": [
    "train_df['real_price'] = train_df.price_deduct + train_df.returnvalue"
   ]
  },
  {
   "cell_type": "code",
   "execution_count": 95,
   "metadata": {
    "collapsed": false
   },
   "outputs": [
    {
     "data": {
      "text/plain": [
       "orderdate\n",
       "5     1627.838501\n",
       "6     1632.695679\n",
       "7     1693.120850\n",
       "8     1633.515137\n",
       "9     1612.257690\n",
       "10    1625.537842\n",
       "11    1601.703003\n",
       "Name: real_price, dtype: float32"
      ]
     },
     "execution_count": 95,
     "metadata": {},
     "output_type": "execute_result"
    }
   ],
   "source": [
    "train_df.loc[train_df.orderlabel==1].groupby(train_df.orderdate.dt.day).real_price.mean()"
   ]
  },
  {
   "cell_type": "code",
   "execution_count": 96,
   "metadata": {
    "collapsed": false
   },
   "outputs": [
    {
     "data": {
      "text/plain": [
       "orderdate\n",
       "5     3128.936279\n",
       "6     3184.863770\n",
       "7     3250.051514\n",
       "8     3100.873291\n",
       "9     3088.576660\n",
       "10    3138.731689\n",
       "11    3160.123535\n",
       "Name: real_price, dtype: float32"
      ]
     },
     "execution_count": 96,
     "metadata": {},
     "output_type": "execute_result"
    }
   ],
   "source": [
    "train_df.loc[train_df.orderlabel!=5].groupby(train_df.orderdate.dt.day).real_price.mean()"
   ]
  },
  {
   "cell_type": "code",
   "execution_count": 99,
   "metadata": {
    "collapsed": false
   },
   "outputs": [],
   "source": [
    "cat = train_df.orderdate.astype('category')"
   ]
  },
  {
   "cell_type": "markdown",
   "metadata": {
    "collapsed": true
   },
   "source": [
    "## 酒店属性对应关系"
   ]
  },
  {
   "cell_type": "markdown",
   "metadata": {},
   "source": [
    "\n",
    "- hotelid 酒店 ((18543,), (34632,))\n",
    "- basicroomid 物理房型((108611,), (192816,))\n",
    "- roomid 子房型(hotelid+roomid) ((811475, 151), (978298, 149))\n",
    "\n",
    "- star  --- hotelid\n",
    "\n",
    "- rank --- roomid\n",
    "\n",
    "- returnvalue  --- orderid + uid + roomid\n",
    "\n",
    "- price_deduct --- orderid + uid + roomid\n",
    "\n",
    "- basic_minarea  --- hotelid + roomid\n",
    "\n",
    "- basic_maxarea --- hotelid + roomid\n",
    "\n",
    "- roomservice_[1-8] --- hotelid + roomid\n",
    "\n",
    "差值\n",
    "\n",
    "-  roomservice_1 train 0 test 0\n",
    "-  roomservice_2 train 7148 test 0\n",
    "-  roomservice_3 train 476 test 0\n",
    "-  roomservice_4 train 69 test 0\n",
    "-  roomservice_5 train 23307 test 0\n",
    "-  roomservice_6 train 24526 test 0\n",
    "-  roomservice_7 train 2194 test 0\n",
    "-  roomservice_8 train 29985 test 0\n",
    "\n",
    "差值\n",
    "- roomtag_[1-4] --- hotelid + roomid\n",
    "\n",
    "-  roomtag_1 train 5001 test 0\n",
    "-  roomtag_2 train 38881 test 0\n",
    "-  roomtag_3 train 49106 test 0\n",
    "-  roomtag_4 train 16056 test 0\n",
    "\n",
    "归纳属性基于天来统计\n",
    "\n",
    "-  basic_week_ordernum_ratio train 43347 test 0\n",
    "-  basic_recent3_ordernum_ratio train 40266 test 0\n",
    "-  basic_comment_ratio train 40910 test 0\n",
    "-  basic_30days_ordnumratio train 45894 test 0\n",
    "-  basic_30days_realratio train 25776 test 0\n",
    "\n",
    "-  room_30days_ordnumratio train 130355 test 0\n",
    "-  room_30days_realratio train 65861 test 0\n"
   ]
  },
  {
   "cell_type": "code",
   "execution_count": 86,
   "metadata": {
    "collapsed": false
   },
   "outputs": [],
   "source": [
    "uocount = train_df.drop_duplicates(['uid', 'orderid']).groupby('uid').orderid.count()"
   ]
  },
  {
   "cell_type": "code",
   "execution_count": 87,
   "metadata": {
    "collapsed": false
   },
   "outputs": [],
   "source": [
    "buy_t = uocount.loc[uocount>1]"
   ]
  },
  {
   "cell_type": "code",
   "execution_count": 112,
   "metadata": {
    "collapsed": false
   },
   "outputs": [],
   "source": [
    "# 测试去除购买两次以上的用户对房型属性的影响,结果还是一样,可能数据错误或者房型对用户或者时间改变了\n",
    "# ntrain = train_df.join(buy_t, on='uid', rsuffix='buymany')\n",
    "\n",
    "# train_df = ntrain.loc[ntrain.orderidbuymany.isnull()]\n",
    "\n",
    "# train_df.orderdate.max()\n",
    "\n",
    "# train_df = train_df.set_index('orderdate').loc['2017-06-11'].reset_index()"
   ]
  },
  {
   "cell_type": "code",
   "execution_count": 126,
   "metadata": {
    "collapsed": false
   },
   "outputs": [
    {
     "name": "stdout",
     "output_type": "stream",
     "text": [
      "-  roomservice_1 train 0 test 0\n",
      "-  roomservice_2 train 7148 test 0\n",
      "-  roomservice_3 train 476 test 0\n",
      "-  roomservice_4 train 69 test 0\n",
      "-  roomservice_5 train 23307 test 0\n",
      "-  roomservice_6 train 24526 test 0\n",
      "-  roomservice_7 train 2194 test 0\n",
      "-  roomservice_8 train 29985 test 0\n"
     ]
    }
   ],
   "source": [
    "for i in range(1, 9):\n",
    "    t = 'roomservice_%d' % i\n",
    "    s1 =train_df.drop_duplicates([t, 'roomid', 'hotelid']).shape[0]\n",
    "    s2 = train_df.drop_duplicates([ 'roomid', 'hotelid']).shape[0]\n",
    "    s3 =test_df.drop_duplicates([t, 'roomid', 'hotelid']).shape[0]\n",
    "    s4 = test_df.drop_duplicates([ 'roomid', 'hotelid']).shape[0]\n",
    "    print('- ', t, 'train', s1-s2, 'test', s3 -s4)\n"
   ]
  },
  {
   "cell_type": "code",
   "execution_count": 150,
   "metadata": {
    "collapsed": false
   },
   "outputs": [
    {
     "name": "stdout",
     "output_type": "stream",
     "text": [
      "-  roomtag_1 train 148 test 0\n",
      "-  roomtag_2 train 1624 test 0\n",
      "-  roomtag_3 train 737 test 0\n",
      "-  roomtag_4 train 542 test 0\n"
     ]
    }
   ],
   "source": [
    "for i in range(1, 5):\n",
    "    t = 'roomtag_%d' % i\n",
    "    s1 =train_df.drop_duplicates([t, 'roomid', 'hotelid']).shape[0]\n",
    "    s2 = train_df.drop_duplicates([ 'roomid', 'hotelid']).shape[0]\n",
    "    s3 =test_df.drop_duplicates([t, 'roomid', 'hotelid']).shape[0]\n",
    "    s4 = test_df.drop_duplicates([ 'roomid', 'hotelid']).shape[0]\n",
    "    print('- ', t, 'train', s1-s2, 'test', s3 -s4)\n"
   ]
  },
  {
   "cell_type": "code",
   "execution_count": 130,
   "metadata": {
    "collapsed": false
   },
   "outputs": [],
   "source": [
    "basic_r = [x for x in train_df.columns if x.startswith('basic') and x.endswith('ratio')]"
   ]
  },
  {
   "cell_type": "code",
   "execution_count": 131,
   "metadata": {
    "collapsed": false
   },
   "outputs": [],
   "source": [
    "room_r = [x for x in train_df.columns if x.startswith('room') and x.endswith('ratio')]"
   ]
  },
  {
   "cell_type": "code",
   "execution_count": 137,
   "metadata": {
    "collapsed": true
   },
   "outputs": [],
   "source": [
    "# # 测试去除购买两次以上的用户对房型属性的影响,结果还是一样,可能数据错误或者房型对用户或者时间改变了\n",
    "# old_t = train_df\n",
    "\n",
    "# ntrain = train_df.join(buy_t, on='uid', rsuffix='buymany')\n",
    "\n",
    "# train_df = ntrain.loc[ntrain.orderidbuymany.isnull()]\n",
    "\n",
    "\n",
    "# train_df.orderdate.max()\n",
    "\n",
    "# train_df = train_df.set_index('orderdate').loc['2017-06-11'].reset_index()"
   ]
  },
  {
   "cell_type": "code",
   "execution_count": 141,
   "metadata": {
    "collapsed": true
   },
   "outputs": [],
   "source": [
    "# train_df = old_t"
   ]
  },
  {
   "cell_type": "code",
   "execution_count": null,
   "metadata": {
    "collapsed": true
   },
   "outputs": [],
   "source": [
    "train_df.basicroomid"
   ]
  },
  {
   "cell_type": "code",
   "execution_count": 149,
   "metadata": {
    "collapsed": false
   },
   "outputs": [
    {
     "name": "stdout",
     "output_type": "stream",
     "text": [
      "-  basic_week_ordernum_ratio train 0 test 0\n",
      "-  basic_recent3_ordernum_ratio train 0 test 0\n",
      "-  basic_comment_ratio train 0 test 0\n",
      "-  basic_30days_ordnumratio train 0 test 0\n",
      "-  basic_30days_realratio train 0 test 0\n"
     ]
    }
   ],
   "source": [
    "for t in basic_r:\n",
    "    s1 =train_df.drop_duplicates([t, 'basicroomid']).shape[0]\n",
    "    s2 = train_df.drop_duplicates([ 'basicroomid']).shape[0]\n",
    "    s3 =test_df.drop_duplicates([t, 'basicroomid']).shape[0]\n",
    "    s4 = test_df.drop_duplicates([ 'basicroomid']).shape[0]\n",
    "    print('- ', t, 'train', s1-s2, 'test', s3 -s4)\n"
   ]
  },
  {
   "cell_type": "code",
   "execution_count": 148,
   "metadata": {
    "collapsed": false
   },
   "outputs": [
    {
     "name": "stdout",
     "output_type": "stream",
     "text": [
      "-  room_30days_ordnumratio train 0 test 0\n",
      "-  room_30days_realratio train 0 test 0\n"
     ]
    }
   ],
   "source": [
    "for t in room_r:\n",
    "    s1 =train_df.drop_duplicates([t, 'roomid', 'hotelid']).shape[0]\n",
    "    s2 = train_df.drop_duplicates([ 'roomid', 'hotelid']).shape[0]\n",
    "    s3 =test_df.drop_duplicates([t, 'roomid', 'hotelid']).shape[0]\n",
    "    s4 = test_df.drop_duplicates([ 'roomid', 'hotelid']).shape[0]\n",
    "    print('- ', t, 'train', s1-s2, 'test', s3 -s4)\n"
   ]
  },
  {
   "cell_type": "code",
   "execution_count": null,
   "metadata": {
    "collapsed": true
   },
   "outputs": [],
   "source": []
  },
  {
   "cell_type": "code",
   "execution_count": 60,
   "metadata": {
    "collapsed": false
   },
   "outputs": [
    {
     "data": {
      "text/plain": [
       "0.0    995202\n",
       "1.0      1939\n",
       "Name: roomtag_5_lastord, dtype: int64"
      ]
     },
     "execution_count": 60,
     "metadata": {},
     "output_type": "execute_result"
    }
   ],
   "source": [
    "train_df.roomtag_5_lastord.value_counts()"
   ]
  },
  {
   "cell_type": "code",
   "execution_count": 56,
   "metadata": {
    "collapsed": false
   },
   "outputs": [
    {
     "data": {
      "text/plain": [
       "(978298, 149)"
      ]
     },
     "execution_count": 56,
     "metadata": {},
     "output_type": "execute_result"
    }
   ],
   "source": [
    "test_df.drop_duplicates(['roomservice_2', 'roomid', 'hotelid']).shape"
   ]
  },
  {
   "cell_type": "code",
   "execution_count": 57,
   "metadata": {
    "collapsed": false
   },
   "outputs": [
    {
     "data": {
      "text/plain": [
       "(978298, 149)"
      ]
     },
     "execution_count": 57,
     "metadata": {},
     "output_type": "execute_result"
    }
   ],
   "source": [
    "test_df.drop_duplicates([ 'roomid', 'hotelid']).shape"
   ]
  },
  {
   "cell_type": "markdown",
   "metadata": {},
   "source": [
    "## 用户属性对应关系\n",
    "\n",
    "用户 ((29960, train), (34632, test))\n",
    "\n",
    "\n",
    "去除用户后,无差异\n",
    "\n",
    "- user_confirmtime train 216 test 0\n",
    "- user_avgadvanceddate train 183 test 0\n",
    "- user_avgstar train 166 test 0\n",
    "- user_avggoldstar train 214 test 0\n",
    "- user_avgrecommendlevel train 195 test 0\n",
    "- user_avgroomnum train 25 test 0\n",
    "\n",
    "\n",
    "-  ordertype_1_ratio train 34 test 0\n",
    "-  ordertype_2_ratio train 242 test 0\n",
    "-  ordertype_3_ratio train 18 test 0\n",
    "-  ordertype_4_ratio train 170 test 0\n",
    "-  ordertype_5_ratio train 50 test 0\n",
    "-  ordertype_6_ratio train 372 test 0\n",
    "-  ordertype_7_ratio train 382 test 0\n",
    "-  ordertype_8_ratio train 193 test 0\n",
    "-  ordertype_9_ratio train 200 test 0\n",
    "-  ordertype_10_ratio train 356 test 0\n",
    "-  ordertype_11_ratio train 223 test 0\n",
    "\n",
    "\n",
    "-  user_confirmtime train 216 test 0\n",
    "-  user_avgadvanceddate train 183 test 0\n",
    "-  user_avgstar train 166 test 0\n",
    "-  user_avggoldstar train 214 test 0\n",
    "-  user_avgrecommendlevel train 195 test 0\n",
    "-  user_avgroomnum train 25 test 0\n",
    "-  user_avgdealpriceholiday train 34 test 0\n",
    "-  user_avgdealpriceworkday train 196 test 0\n",
    "-  user_avgdealprice train 201 test 0\n",
    "-  user_avgpromotion train 87 test 0\n",
    "-  user_avgprice_star train 396 test 0\n",
    "-  user_ordernum train 391 test 0\n",
    "-  user_activation train 325 test 0\n",
    "-  user_avgprice train 382 test 0\n",
    "-  user_maxprice train 36 test 0\n",
    "-  user_minprice train 41 test 0\n",
    "-  user_stdprice train 359 test 0\n",
    "-  user_cvprice train 353 test 0\n",
    "-  user_citynum train 144 test 0\n",
    "-  user_avgroomarea train 4 test 0\n",
    "-  user_roomservice_4_0ratio train 78 test 0\n",
    "-  user_roomservice_4_2ratio train 342 test 0\n",
    "-  user_roomservice_4_3ratio train 332 test 0\n",
    "-  user_roomservice_4_4ratio train 207 test 0\n",
    "-  user_roomservice_4_1ratio train 23 test 0\n",
    "-  user_roomservice_4_5ratio train 101 test 0\n",
    "-  user_roomservice_3_123ratio train 299 test 0\n",
    "-  user_roomservice_6_2ratio train 309 test 0\n",
    "-  user_roomservice_6_1ratio train 225 test 0\n",
    "-  user_roomservice_6_0ratio train 327 test 0\n",
    "-  user_roomservice_5_1ratio train 330 test 0\n",
    "-  user_roomservice_7_0ratio train 320 test 0\n",
    "-  user_roomservice_2_1ratio train 246 test 0\n",
    "-  user_roomservice_8_1ratio train 339 test 0\n",
    "-  user_rank_ratio train 362 test 0\n",
    "-  user_roomservice_8_345ratio train 293 test 0\n",
    "-  user_ordnum_1week train 367 test 0\n",
    "-  user_avgprice_1week train 383 test 0\n",
    "-  user_medprice_1week train 339 test 0\n",
    "-  user_minprice_1week train 252 test 0\n",
    "-  user_maxprice_1week train 275 test 0\n",
    "-  user_roomservice_3_123ratio_1week train 260 test 0\n",
    "-  user_roomservice_7_1ratio_1week train 260 test 0\n",
    "-  user_roomservice_7_0ratio_1week train 260 test 0\n",
    "-  user_roomservice_4_5ratio_1week train 168 test 0\n",
    "-  user_roomservice_4_4ratio_1week train 217 test 0\n",
    "-  user_roomservice_4_2ratio_1week train 272 test 0\n",
    "-  user_roomservice_4_3ratio_1week train 263 test 0\n",
    "-  user_roomservice_4_0ratio_1week train 174 test 0\n",
    "-  user_ordnum_1month train 379 test 0\n",
    "-  user_avgprice_1month train 385 test 0\n",
    "-  user_medprice_1month train 318 test 0\n",
    "-  user_minprice_1month train 172 test 0\n",
    "-  user_maxprice_1month train 194 test 0\n",
    "-  user_roomservice_3_123ratio_1month train 253 test 0\n",
    "-  user_roomservice_7_1ratio_1month train 267 test 0\n",
    "-  user_roomservice_7_0ratio_1month train 267 test 0\n",
    "-  user_roomservice_4_5ratio_1month train 92 test 0\n",
    "-  user_roomservice_4_4ratio_1month train 185 test 0\n",
    "-  user_roomservice_4_2ratio_1month train 276 test 0\n",
    "-  user_roomservice_4_3ratio_1month train 256 test 0\n",
    "-  user_roomservice_4_0ratio_1month train 105 test 0\n",
    "-  user_ordnum_3month train 375 test 0\n",
    "-  user_avgprice_3month train 389 test 0\n",
    "-  user_medprice_3month train 299 test 0\n",
    "-  user_minprice_3month train 106 test 0\n",
    "-  user_maxprice_3month train 110 test 0\n",
    "-  user_roomservice_3_123ratio_3month train 274 test 0\n",
    "-  user_roomservice_7_1ratio_3month train 286 test 0\n",
    "-  user_roomservice_7_0ratio_3month train 286 test 0\n",
    "-  user_roomservice_4_5ratio_3month train 56 test 0\n",
    "-  user_roomservice_4_4ratio_3month train 188 test 0\n",
    "-  user_roomservice_4_2ratio_3month train 309 test 0\n",
    "-  user_roomservice_4_3ratio_3month train 287 test 0\n",
    "-  user_roomservice_4_0ratio_3month train 75 test 0"
   ]
  },
  {
   "cell_type": "code",
   "execution_count": 61,
   "metadata": {
    "collapsed": false
   },
   "outputs": [
    {
     "data": {
      "text/plain": [
       "((29960,), (34632,))"
      ]
     },
     "execution_count": 61,
     "metadata": {},
     "output_type": "execute_result"
    }
   ],
   "source": [
    "train_df.uid.unique().shape, test_df.uid.unique().shape"
   ]
  },
  {
   "cell_type": "code",
   "execution_count": 105,
   "metadata": {
    "collapsed": false
   },
   "outputs": [],
   "source": [
    "uocount = train_df.drop_duplicates(['uid', 'orderid']).groupby('uid').orderid.count()"
   ]
  },
  {
   "cell_type": "code",
   "execution_count": 108,
   "metadata": {
    "collapsed": false
   },
   "outputs": [
    {
     "data": {
      "text/plain": [
       "(538,)"
      ]
     },
     "execution_count": 108,
     "metadata": {},
     "output_type": "execute_result"
    }
   ],
   "source": [
    "uocount.loc[uocount>1].shape"
   ]
  },
  {
   "cell_type": "code",
   "execution_count": 106,
   "metadata": {
    "collapsed": false
   },
   "outputs": [],
   "source": [
    "# buy_t = uocount.loc[uocount>1]\n",
    "\n",
    "# ntrain = train_df.join(buy_t, on='uid', rsuffix='buymany')\n",
    "\n",
    "# train_df = ntrain.loc[ntrain.orderidbuymany.isnull()]\n"
   ]
  },
  {
   "cell_type": "code",
   "execution_count": 147,
   "metadata": {
    "collapsed": false
   },
   "outputs": [
    {
     "name": "stdout",
     "output_type": "stream",
     "text": [
      "- user_confirmtime train 0 test 0\n",
      "- user_avgadvanceddate train 0 test 0\n",
      "- user_avgstar train 0 test 0\n",
      "- user_avggoldstar train 0 test 0\n",
      "- user_avgrecommendlevel train 0 test 0\n",
      "- user_avgroomnum train 0 test 0\n"
     ]
    }
   ],
   "source": [
    "for i in ['confirmtime', 'avgadvanceddate', 'avgstar', 'avggoldstar', 'avgrecommendlevel', 'avgroomnum']:\n",
    "    t = 'user_%s' % i\n",
    "    s1 =train_df.drop_duplicates([t, 'uid']).shape[0]\n",
    "    s2 = train_df.drop_duplicates([ 'uid']).shape[0]\n",
    "    s3 =test_df.drop_duplicates([t, 'uid']).shape[0]\n",
    "    s4 = test_df.drop_duplicates([ 'uid']).shape[0]\n",
    "    print('-', t, 'train', s1-s2, 'test', s3 -s4)\n"
   ]
  },
  {
   "cell_type": "code",
   "execution_count": 113,
   "metadata": {
    "collapsed": false
   },
   "outputs": [
    {
     "data": {
      "text/plain": [
       "['ordertype_1_ratio',\n",
       " 'ordertype_2_ratio',\n",
       " 'ordertype_3_ratio',\n",
       " 'ordertype_4_ratio',\n",
       " 'ordertype_5_ratio',\n",
       " 'ordertype_6_ratio',\n",
       " 'ordertype_7_ratio',\n",
       " 'ordertype_8_ratio',\n",
       " 'ordertype_9_ratio',\n",
       " 'ordertype_10_ratio',\n",
       " 'ordertype_11_ratio']"
      ]
     },
     "execution_count": 113,
     "metadata": {},
     "output_type": "execute_result"
    }
   ],
   "source": [
    "[x for x in train_df.columns if x.endswith('ratio') and x.startswith('ordertype')]"
   ]
  },
  {
   "cell_type": "code",
   "execution_count": 120,
   "metadata": {
    "collapsed": true
   },
   "outputs": [],
   "source": [
    "# buy_t = uocount.loc[uocount>1]\n",
    "\n",
    "# ntrain = train_df.join(buy_t, on='uid', rsuffix='buymany')\n",
    "\n",
    "# train_df = ntrain.loc[ntrain.orderidbuymany.isnull()]\n"
   ]
  },
  {
   "cell_type": "code",
   "execution_count": 123,
   "metadata": {
    "collapsed": true
   },
   "outputs": [],
   "source": [
    "# train_df = pd.read_pickle('../dataset/train.pkl')"
   ]
  },
  {
   "cell_type": "code",
   "execution_count": 146,
   "metadata": {
    "collapsed": false
   },
   "outputs": [
    {
     "name": "stdout",
     "output_type": "stream",
     "text": [
      "-  ordertype_1_ratio train 0 test 0\n",
      "-  ordertype_2_ratio train 0 test 0\n",
      "-  ordertype_3_ratio train 0 test 0\n",
      "-  ordertype_4_ratio train 0 test 0\n",
      "-  ordertype_5_ratio train 0 test 0\n",
      "-  ordertype_6_ratio train 0 test 0\n",
      "-  ordertype_7_ratio train 0 test 0\n",
      "-  ordertype_8_ratio train 0 test 0\n",
      "-  ordertype_9_ratio train 0 test 0\n",
      "-  ordertype_10_ratio train 0 test 0\n",
      "-  ordertype_11_ratio train 0 test 0\n"
     ]
    }
   ],
   "source": [
    "for t in [x for x in train_df.columns if x.endswith('ratio') and x.startswith('ordertype')]:\n",
    "    s1 =train_df.drop_duplicates([t, 'uid']).shape[0]\n",
    "    s2 = train_df.drop_duplicates([ 'uid']).shape[0]\n",
    "    s3 =test_df.drop_duplicates([t, 'uid']).shape[0]\n",
    "    s4 = test_df.drop_duplicates([ 'uid']).shape[0]\n",
    "    print('- ', t, 'train', s1-s2, 'test', s3 -s4)\n"
   ]
  },
  {
   "cell_type": "code",
   "execution_count": 145,
   "metadata": {
    "collapsed": false
   },
   "outputs": [
    {
     "name": "stdout",
     "output_type": "stream",
     "text": [
      "-  user_confirmtime train 0 test 0\n",
      "-  user_avgadvanceddate train 0 test 0\n",
      "-  user_avgstar train 0 test 0\n",
      "-  user_avggoldstar train 0 test 0\n",
      "-  user_avgrecommendlevel train 0 test 0\n",
      "-  user_avgroomnum train 0 test 0\n",
      "-  user_avgdealpriceholiday train 0 test 0\n",
      "-  user_avgdealpriceworkday train 0 test 0\n",
      "-  user_avgdealprice train 0 test 0\n",
      "-  user_avgpromotion train 0 test 0\n",
      "-  user_avgprice_star train 6 test 0\n",
      "-  user_ordernum train 0 test 0\n",
      "-  user_activation train 0 test 0\n",
      "-  user_avgprice train 0 test 0\n",
      "-  user_maxprice train 0 test 0\n",
      "-  user_minprice train 0 test 0\n",
      "-  user_stdprice train 0 test 0\n",
      "-  user_cvprice train 0 test 0\n",
      "-  user_citynum train 0 test 0\n",
      "-  user_avgroomarea train 0 test 0\n",
      "-  user_roomservice_4_0ratio train 0 test 0\n",
      "-  user_roomservice_4_2ratio train 0 test 0\n",
      "-  user_roomservice_4_3ratio train 0 test 0\n",
      "-  user_roomservice_4_4ratio train 0 test 0\n",
      "-  user_roomservice_4_1ratio train 0 test 0\n",
      "-  user_roomservice_4_5ratio train 0 test 0\n",
      "-  user_roomservice_3_123ratio train 0 test 0\n",
      "-  user_roomservice_6_2ratio train 0 test 0\n",
      "-  user_roomservice_6_1ratio train 0 test 0\n",
      "-  user_roomservice_6_0ratio train 0 test 0\n",
      "-  user_roomservice_5_1ratio train 0 test 0\n",
      "-  user_roomservice_7_0ratio train 0 test 0\n",
      "-  user_roomservice_2_1ratio train 0 test 0\n",
      "-  user_roomservice_8_1ratio train 0 test 0\n",
      "-  user_rank_ratio train 0 test 0\n",
      "-  user_roomservice_8_345ratio train 0 test 0\n",
      "-  user_ordnum_1week train 0 test 0\n",
      "-  user_avgprice_1week train 0 test 0\n",
      "-  user_medprice_1week train 0 test 0\n",
      "-  user_minprice_1week train 0 test 0\n",
      "-  user_maxprice_1week train 0 test 0\n",
      "-  user_roomservice_3_123ratio_1week train 0 test 0\n",
      "-  user_roomservice_7_1ratio_1week train 0 test 0\n",
      "-  user_roomservice_7_0ratio_1week train 0 test 0\n",
      "-  user_roomservice_4_5ratio_1week train 0 test 0\n",
      "-  user_roomservice_4_4ratio_1week train 0 test 0\n",
      "-  user_roomservice_4_2ratio_1week train 0 test 0\n",
      "-  user_roomservice_4_3ratio_1week train 0 test 0\n",
      "-  user_roomservice_4_0ratio_1week train 0 test 0\n",
      "-  user_ordnum_1month train 0 test 0\n",
      "-  user_avgprice_1month train 0 test 0\n",
      "-  user_medprice_1month train 0 test 0\n",
      "-  user_minprice_1month train 0 test 0\n",
      "-  user_maxprice_1month train 0 test 0\n",
      "-  user_roomservice_3_123ratio_1month train 0 test 0\n",
      "-  user_roomservice_7_1ratio_1month train 0 test 0\n",
      "-  user_roomservice_7_0ratio_1month train 0 test 0\n",
      "-  user_roomservice_4_5ratio_1month train 0 test 0\n",
      "-  user_roomservice_4_4ratio_1month train 0 test 0\n",
      "-  user_roomservice_4_2ratio_1month train 0 test 0\n",
      "-  user_roomservice_4_3ratio_1month train 0 test 0\n",
      "-  user_roomservice_4_0ratio_1month train 0 test 0\n",
      "-  user_ordnum_3month train 0 test 0\n",
      "-  user_avgprice_3month train 0 test 0\n",
      "-  user_medprice_3month train 0 test 0\n",
      "-  user_minprice_3month train 0 test 0\n",
      "-  user_maxprice_3month train 0 test 0\n",
      "-  user_roomservice_3_123ratio_3month train 0 test 0\n",
      "-  user_roomservice_7_1ratio_3month train 0 test 0\n",
      "-  user_roomservice_7_0ratio_3month train 0 test 0\n",
      "-  user_roomservice_4_5ratio_3month train 0 test 0\n",
      "-  user_roomservice_4_4ratio_3month train 0 test 0\n",
      "-  user_roomservice_4_2ratio_3month train 0 test 0\n",
      "-  user_roomservice_4_3ratio_3month train 0 test 0\n",
      "-  user_roomservice_4_0ratio_3month train 0 test 0\n"
     ]
    }
   ],
   "source": [
    "for t in [x for x in train_df.columns if not x.endswith('id') and x.startswith('user')]:\n",
    "    s1 =train_df.drop_duplicates([t, 'uid']).shape[0]\n",
    "    s2 = train_df.drop_duplicates([ 'uid']).shape[0]\n",
    "    s3 =test_df.drop_duplicates([t, 'uid']).shape[0]\n",
    "    s4 = test_df.drop_duplicates([ 'uid']).shape[0]\n",
    "    print('- ', t, 'train', s1-s2, 'test', s3 -s4)\n"
   ]
  },
  {
   "cell_type": "code",
   "execution_count": 63,
   "metadata": {
    "collapsed": false
   },
   "outputs": [
    {
     "data": {
      "text/plain": [
       "(30176, 150)"
      ]
     },
     "execution_count": 63,
     "metadata": {},
     "output_type": "execute_result"
    }
   ],
   "source": [
    "train_df.drop_duplicates(['user_confirmtime', 'uid']).shape"
   ]
  },
  {
   "cell_type": "code",
   "execution_count": 64,
   "metadata": {
    "collapsed": false
   },
   "outputs": [
    {
     "data": {
      "text/plain": [
       "(34632, 149)"
      ]
     },
     "execution_count": 64,
     "metadata": {},
     "output_type": "execute_result"
    }
   ],
   "source": [
    "test_df.drop_duplicates(['user_confirmtime', 'uid']).shape"
   ]
  },
  {
   "cell_type": "code",
   "execution_count": 153,
   "metadata": {
    "collapsed": false
   },
   "outputs": [
    {
     "name": "stdout",
     "output_type": "stream",
     "text": [
      "-  orderdate_lastord train 0 test 0\n",
      "-  hotelid_lastord train 0 test 0\n",
      "-  roomid_lastord train 0 test 0\n",
      "-  basicroomid_lastord train 0 test 0\n",
      "-  rank_lastord train 0 test 0\n",
      "-  return_lastord train 0 test 0\n",
      "-  price_last_lastord train 0 test 0\n",
      "-  roomservice_2_lastord train 0 test 0\n",
      "-  roomservice_3_lastord train 0 test 0\n",
      "-  roomservice_4_lastord train 0 test 0\n",
      "-  roomservice_5_lastord train 0 test 0\n",
      "-  roomservice_6_lastord train 0 test 0\n",
      "-  roomservice_8_lastord train 0 test 0\n",
      "-  roomtag_2_lastord train 0 test 0\n",
      "-  roomtag_3_lastord train 0 test 0\n",
      "-  roomtag_4_lastord train 0 test 0\n",
      "-  roomtag_5_lastord train 0 test 0\n",
      "-  star_lastord train 0 test 0\n",
      "-  hotel_minprice_lastord train 0 test 0\n",
      "-  basic_minprice_lastord train 0 test 0\n"
     ]
    }
   ],
   "source": [
    "for t in [x for x in train_df.columns if  x.endswith('lastord') and x != 'orderlabel']:\n",
    "    s1 =train_df.drop_duplicates([t, 'uid']).shape[0]\n",
    "    s2 = train_df.drop_duplicates([ 'uid']).shape[0]\n",
    "    s3 =test_df.drop_duplicates([t, 'uid']).shape[0]\n",
    "    s4 = test_df.drop_duplicates([ 'uid']).shape[0]\n",
    "    print('- ', t, 'train', s1-s2, 'test', s3 -s4)\n"
   ]
  },
  {
   "cell_type": "code",
   "execution_count": null,
   "metadata": {
    "collapsed": true
   },
   "outputs": [],
   "source": []
  }
 ],
 "metadata": {
  "anaconda-cloud": {},
  "hide_input": false,
  "kernelspec": {
   "display_name": "Python 3",
   "language": "python",
   "name": "python3"
  },
  "language_info": {
   "codemirror_mode": {
    "name": "ipython",
    "version": 3
   },
   "file_extension": ".py",
   "mimetype": "text/x-python",
   "name": "python",
   "nbconvert_exporter": "python",
   "pygments_lexer": "ipython3",
   "version": "3.5.1"
  }
 },
 "nbformat": 4,
 "nbformat_minor": 2
}
