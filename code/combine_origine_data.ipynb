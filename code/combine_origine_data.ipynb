{
 "cells": [
  {
   "cell_type": "code",
   "execution_count": 1,
   "metadata": {
    "collapsed": true
   },
   "outputs": [],
   "source": [
    "import pandas as pd\n",
    "import numpy as np\n",
    "import scipy as sp\n",
    "\n",
    "from utils import *"
   ]
  },
  {
   "cell_type": "code",
   "execution_count": 2,
   "metadata": {
    "collapsed": true
   },
   "outputs": [],
   "source": [
    "str_columns = [\n",
    "    \"orderid\", \"uid\", \"hotelid\", \"basicroomid\", \"roomid\", \"orderid_lastord\",\n",
    "    \"hotelid_lastord\", \"roomid_lastord\", \"basicroomid_lastord\"\n",
    "]"
   ]
  },
  {
   "cell_type": "code",
   "execution_count": 3,
   "metadata": {
    "collapsed": true
   },
   "outputs": [],
   "source": [
    "not_use = [\n",
    "    'roomtag_5', 'roomtag_6', 'orderbehavior_3_ratio_1month',\n",
    "    'orderbehavior_4_ratio_1month', 'orderbehavior_5_ratio_1month',\n",
    "    'orderid_lastord', 'roomtag_6_lastord'\n",
    "]"
   ]
  },
  {
   "cell_type": "code",
   "execution_count": 4,
   "metadata": {
    "collapsed": true
   },
   "outputs": [],
   "source": [
    "def create_hotel_roomid(train_df, test_df):\n",
    "    combine_df = pd.concat([train_df, test_df])\n",
    "    hotelid = combine_df.hotelid.astype(str)\n",
    "    roomid = combine_df.roomid.astype(str)\n",
    "    combine_df['hotel_roomid'] = roomid + hotelid\n",
    "    combine_df['hotel_roomid'] = combine_df.hotel_roomid.astype('category').cat.codes\n",
    "    train_df['hotel_roomid'] = combine_df.loc[combine_df.orderlabel.notnull(), 'hotel_roomid']\n",
    "    test_df['hotel_roomid'] = combine_df.loc[combine_df.orderlabel.isnull(), 'hotel_roomid']"
   ]
  },
  {
   "cell_type": "code",
   "execution_count": 5,
   "metadata": {
    "collapsed": true
   },
   "outputs": [],
   "source": [
    "def split_str(train_df):\n",
    "    for c in str_columns:\n",
    "        print(train_df.dtypes[c], c)\n",
    "        train_df = extract_int_from_str(train_df, c)\n",
    "    return train_df"
   ]
  },
  {
   "cell_type": "code",
   "execution_count": 6,
   "metadata": {
    "collapsed": true
   },
   "outputs": [],
   "source": [
    "def press_train_df(train_df):\n",
    "    train_df = split_str(train_df)\n",
    "    train_df.drop(not_use, axis=1, inplace=True)\n",
    "    train_df = press_date(train_df, train_df.columns, False, excluded=['orderdate', 'orderdate_lastord'])\n",
    "    return train_df"
   ]
  },
  {
   "cell_type": "code",
   "execution_count": 7,
   "metadata": {
    "collapsed": true
   },
   "outputs": [],
   "source": [
    "test_df = pd.read_table('../dataset/competition_extratime_test.txt', parse_dates=['orderdate', 'orderdate_lastord'])"
   ]
  },
  {
   "cell_type": "code",
   "execution_count": 8,
   "metadata": {
    "collapsed": true
   },
   "outputs": [],
   "source": [
    "train_df = pd.read_table('../dataset/competition_extratime_train.txt', parse_dates=['orderdate', 'orderdate_lastord'])"
   ]
  },
  {
   "cell_type": "code",
   "execution_count": 9,
   "metadata": {
    "collapsed": true
   },
   "outputs": [],
   "source": [
    "create_hotel_roomid(train_df, test_df)"
   ]
  },
  {
   "cell_type": "code",
   "execution_count": 10,
   "metadata": {
    "collapsed": false
   },
   "outputs": [
    {
     "name": "stdout",
     "output_type": "stream",
     "text": [
      "<class 'pandas.core.frame.DataFrame'>\n",
      "RangeIndex: 1094826 entries, 0 to 1094825\n",
      "Data columns (total 158 columns):\n",
      "orderid                               1094826 non-null object\n",
      "uid                                   1094826 non-null object\n",
      "orderdate                             1094826 non-null datetime64[ns]\n",
      "hotelid                               1094826 non-null object\n",
      "basicroomid                           1094826 non-null object\n",
      "roomid                                1094826 non-null object\n",
      "orderlabel                            1094826 non-null int64\n",
      "star                                  1094826 non-null int64\n",
      "rank                                  1094826 non-null int64\n",
      "returnvalue                           1094826 non-null float64\n",
      "price_deduct                          1094826 non-null float64\n",
      "basic_minarea                         1094826 non-null float64\n",
      "basic_maxarea                         1094826 non-null float64\n",
      "roomservice_1                         1094826 non-null int64\n",
      "roomservice_2                         1094826 non-null int64\n",
      "roomservice_3                         1094826 non-null int64\n",
      "roomservice_4                         1092465 non-null float64\n",
      "roomservice_5                         1094826 non-null int64\n",
      "roomservice_6                         1094826 non-null int64\n",
      "roomservice_7                         1094826 non-null int64\n",
      "roomservice_8                         1094826 non-null int64\n",
      "roomtag_1                             1094826 non-null int64\n",
      "roomtag_2                             346812 non-null float64\n",
      "roomtag_3                             980190 non-null float64\n",
      "roomtag_4                             1094826 non-null int64\n",
      "roomtag_5                             1094826 non-null int64\n",
      "roomtag_6                             1094826 non-null int64\n",
      "user_confirmtime                      1094815 non-null float64\n",
      "user_avgadvanceddate                  1094826 non-null float64\n",
      "user_avgstar                          1094826 non-null float64\n",
      "user_avggoldstar                      1094826 non-null float64\n",
      "user_avgrecommendlevel                1094826 non-null float64\n",
      "user_avgroomnum                       1094826 non-null float64\n",
      "ordertype_1_ratio                     1094826 non-null float64\n",
      "ordertype_2_ratio                     718538 non-null float64\n",
      "ordertype_3_ratio                     718538 non-null float64\n",
      "ordertype_4_ratio                     718538 non-null float64\n",
      "ordertype_5_ratio                     718538 non-null float64\n",
      "ordertype_6_ratio                     1094826 non-null float64\n",
      "ordertype_7_ratio                     1094826 non-null float64\n",
      "ordertype_8_ratio                     1094826 non-null float64\n",
      "ordertype_9_ratio                     1094826 non-null float64\n",
      "ordertype_10_ratio                    1094826 non-null float64\n",
      "ordertype_11_ratio                    1094826 non-null float64\n",
      "user_avgdealpriceholiday              975608 non-null float64\n",
      "user_avgdealpriceworkday              1007579 non-null float64\n",
      "user_avgdealprice                     1093945 non-null float64\n",
      "user_avgpromotion                     1093945 non-null float64\n",
      "user_avgprice_star                    1049559 non-null float64\n",
      "orderbehavior_1_ratio                 1094826 non-null float64\n",
      "orderbehavior_2_ratio                 718538 non-null float64\n",
      "orderbehavior_3_ratio_1week           357306 non-null float64\n",
      "orderbehavior_4_ratio_1week           357306 non-null float64\n",
      "orderbehavior_5_ratio_1week           357306 non-null float64\n",
      "orderbehavior_3_ratio_1month          0 non-null float64\n",
      "orderbehavior_4_ratio_1month          0 non-null float64\n",
      "orderbehavior_5_ratio_1month          0 non-null float64\n",
      "orderbehavior_3_ratio_3month          821403 non-null float64\n",
      "orderbehavior_4_ratio_3month          821403 non-null float64\n",
      "orderbehavior_5_ratio_3month          821403 non-null float64\n",
      "orderbehavior_6_ratio                 1087220 non-null float64\n",
      "orderbehavior_7_ratio                 1087220 non-null float64\n",
      "orderbehavior_8                       1087209 non-null float64\n",
      "orderbehavior_9                       1087209 non-null float64\n",
      "user_ordernum                         1094826 non-null int64\n",
      "user_activation                       1085317 non-null float64\n",
      "user_avgprice                         1094826 non-null float64\n",
      "user_maxprice                         1094826 non-null float64\n",
      "user_minprice                         1094826 non-null float64\n",
      "user_stdprice                         1044437 non-null float64\n",
      "user_cvprice                          1044437 non-null float64\n",
      "user_citynum                          1094826 non-null int64\n",
      "user_avgroomarea                      1094826 non-null float64\n",
      "user_roomservice_4_0ratio             1018676 non-null float64\n",
      "user_roomservice_4_2ratio             1094826 non-null float64\n",
      "user_roomservice_4_3ratio             1094826 non-null float64\n",
      "user_roomservice_4_4ratio             1094826 non-null float64\n",
      "user_roomservice_4_1ratio             1018676 non-null float64\n",
      "user_roomservice_4_5ratio             1018676 non-null float64\n",
      "user_roomservice_3_123ratio           1094826 non-null float64\n",
      "user_roomservice_6_2ratio             1018676 non-null float64\n",
      "user_roomservice_6_1ratio             1018676 non-null float64\n",
      "user_roomservice_6_0ratio             1018676 non-null float64\n",
      "user_roomservice_5_1ratio             1094826 non-null float64\n",
      "user_roomservice_7_0ratio             1094826 non-null float64\n",
      "user_roomservice_2_1ratio             1018676 non-null float64\n",
      "user_roomservice_8_1ratio             1094826 non-null float64\n",
      "user_rank_ratio                       1018676 non-null float64\n",
      "user_roomservice_8_345ratio           1018676 non-null float64\n",
      "user_ordnum_1week                     444809 non-null float64\n",
      "user_avgprice_1week                   444809 non-null float64\n",
      "user_medprice_1week                   444809 non-null float64\n",
      "user_minprice_1week                   444809 non-null float64\n",
      "user_maxprice_1week                   444809 non-null float64\n",
      "user_roomservice_3_123ratio_1week     444809 non-null float64\n",
      "user_roomservice_7_1ratio_1week       444809 non-null float64\n",
      "user_roomservice_7_0ratio_1week       444809 non-null float64\n",
      "user_roomservice_4_5ratio_1week       444809 non-null float64\n",
      "user_roomservice_4_4ratio_1week       444809 non-null float64\n",
      "user_roomservice_4_2ratio_1week       444809 non-null float64\n",
      "user_roomservice_4_3ratio_1week       444809 non-null float64\n",
      "user_roomservice_4_0ratio_1week       444809 non-null float64\n",
      "user_ordnum_1month                    715834 non-null float64\n",
      "user_avgprice_1month                  715834 non-null float64\n",
      "user_medprice_1month                  715834 non-null float64\n",
      "user_minprice_1month                  715834 non-null float64\n",
      "user_maxprice_1month                  715834 non-null float64\n",
      "user_roomservice_3_123ratio_1month    715834 non-null float64\n",
      "user_roomservice_7_1ratio_1month      715834 non-null float64\n",
      "user_roomservice_7_0ratio_1month      715834 non-null float64\n",
      "user_roomservice_4_5ratio_1month      715834 non-null float64\n",
      "user_roomservice_4_4ratio_1month      715834 non-null float64\n",
      "user_roomservice_4_2ratio_1month      715834 non-null float64\n",
      "user_roomservice_4_3ratio_1month      715834 non-null float64\n",
      "user_roomservice_4_0ratio_1month      715834 non-null float64\n",
      "user_ordnum_3month                    908255 non-null float64\n",
      "user_avgprice_3month                  908255 non-null float64\n",
      "user_medprice_3month                  908255 non-null float64\n",
      "user_minprice_3month                  908255 non-null float64\n",
      "user_maxprice_3month                  908255 non-null float64\n",
      "user_roomservice_3_123ratio_3month    908255 non-null float64\n",
      "user_roomservice_7_1ratio_3month      908255 non-null float64\n",
      "user_roomservice_7_0ratio_3month      908255 non-null float64\n",
      "user_roomservice_4_5ratio_3month      908255 non-null float64\n",
      "user_roomservice_4_4ratio_3month      908255 non-null float64\n",
      "user_roomservice_4_2ratio_3month      908255 non-null float64\n",
      "user_roomservice_4_3ratio_3month      908255 non-null float64\n",
      "user_roomservice_4_0ratio_3month      908255 non-null float64\n",
      "basic_week_ordernum_ratio             1062126 non-null float64\n",
      "basic_recent3_ordernum_ratio          1062126 non-null float64\n",
      "basic_comment_ratio                   1062126 non-null float64\n",
      "basic_30days_ordnumratio              970076 non-null float64\n",
      "basic_30days_realratio                970076 non-null float64\n",
      "room_30days_ordnumratio               636832 non-null float64\n",
      "room_30days_realratio                 636832 non-null float64\n",
      "orderid_lastord                       997141 non-null object\n",
      "orderdate_lastord                     997141 non-null datetime64[ns]\n",
      "hotelid_lastord                       997141 non-null object\n",
      "roomid_lastord                        997141 non-null object\n",
      "basicroomid_lastord                   997141 non-null object\n",
      "rank_lastord                          997141 non-null float64\n",
      "return_lastord                        1094826 non-null float64\n",
      "price_last_lastord                    997141 non-null float64\n",
      "roomservice_2_lastord                 997141 non-null float64\n",
      "roomservice_3_lastord                 997141 non-null float64\n",
      "roomservice_4_lastord                 993953 non-null float64\n",
      "roomservice_5_lastord                 997141 non-null float64\n",
      "roomservice_6_lastord                 995699 non-null float64\n",
      "roomservice_8_lastord                 997141 non-null float64\n",
      "roomtag_2_lastord                     178608 non-null float64\n",
      "roomtag_3_lastord                     914594 non-null float64\n",
      "roomtag_4_lastord                     997141 non-null float64\n",
      "roomtag_5_lastord                     997141 non-null float64\n",
      "roomtag_6_lastord                     997141 non-null float64\n",
      "star_lastord                          997141 non-null float64\n",
      "hotel_minprice_lastord                997141 non-null float64\n",
      "basic_minprice_lastord                997141 non-null float64\n",
      "hotel_roomid                          1094826 non-null int32\n",
      "dtypes: datetime64[ns](2), float64(130), int32(1), int64(16), object(9)\n",
      "memory usage: 1.3+ GB\n"
     ]
    }
   ],
   "source": [
    "train_df.info(null_counts=True, verbose=True)"
   ]
  },
  {
   "cell_type": "code",
   "execution_count": 11,
   "metadata": {
    "collapsed": false
   },
   "outputs": [
    {
     "name": "stdout",
     "output_type": "stream",
     "text": [
      "object orderid\n"
     ]
    },
    {
     "name": "stderr",
     "output_type": "stream",
     "text": [
      "/home/zhanglun/notebook/room/code/utils.py:48: FutureWarning: currently extract(expand=None) means expand=False (return Index/Series/DataFrame) but in a future version of pandas this will be changed to expand=True (return DataFrame)\n",
      "  df[column] = df[column].str.extract('(\\d+)')\n"
     ]
    },
    {
     "name": "stdout",
     "output_type": "stream",
     "text": [
      "object uid\n",
      "object hotelid\n",
      "object basicroomid\n",
      "object roomid\n",
      "object orderid_lastord\n"
     ]
    },
    {
     "name": "stderr",
     "output_type": "stream",
     "text": [
      "/home/zhanglun/notebook/room/code/utils.py:30: UserWarning: column  orderid_lastord is  may be error when meet percent max:0.0\n",
      "  warn('column  {} is  may be error when meet percent max:{}'.format(c, c_max))\n"
     ]
    },
    {
     "name": "stdout",
     "output_type": "stream",
     "text": [
      "object hotelid_lastord\n",
      "object roomid_lastord\n",
      "object basicroomid_lastord\n"
     ]
    },
    {
     "name": "stderr",
     "output_type": "stream",
     "text": [
      "/home/zhanglun/notebook/room/code/utils.py:30: UserWarning: column  ordertype_3_ratio is  may be error when meet percent max:0.5\n",
      "  warn('column  {} is  may be error when meet percent max:{}'.format(c, c_max))\n"
     ]
    }
   ],
   "source": [
    "train_df = press_train_df(train_df)"
   ]
  },
  {
   "cell_type": "code",
   "execution_count": 12,
   "metadata": {
    "collapsed": true
   },
   "outputs": [],
   "source": [
    "train_df.to_pickle('../dataset/train.pkl')"
   ]
  },
  {
   "cell_type": "code",
   "execution_count": 13,
   "metadata": {
    "collapsed": false
   },
   "outputs": [
    {
     "name": "stdout",
     "output_type": "stream",
     "text": [
      "<class 'pandas.core.frame.DataFrame'>\n",
      "RangeIndex: 1094826 entries, 0 to 1094825\n",
      "Data columns (total 151 columns):\n",
      "orderid                               1094826 non-null int32\n",
      "uid                                   1094826 non-null int32\n",
      "orderdate                             1094826 non-null datetime64[ns]\n",
      "hotelid                               1094826 non-null int32\n",
      "basicroomid                           1094826 non-null int32\n",
      "roomid                                1094826 non-null int32\n",
      "orderlabel                            1094826 non-null int8\n",
      "star                                  1094826 non-null int8\n",
      "rank                                  1094826 non-null int16\n",
      "returnvalue                           1094826 non-null float32\n",
      "price_deduct                          1094826 non-null float32\n",
      "basic_minarea                         1094826 non-null float16\n",
      "basic_maxarea                         1094826 non-null float16\n",
      "roomservice_1                         1094826 non-null int8\n",
      "roomservice_2                         1094826 non-null int8\n",
      "roomservice_3                         1094826 non-null int8\n",
      "roomservice_4                         1092465 non-null float16\n",
      "roomservice_5                         1094826 non-null int8\n",
      "roomservice_6                         1094826 non-null int8\n",
      "roomservice_7                         1094826 non-null int8\n",
      "roomservice_8                         1094826 non-null int8\n",
      "roomtag_1                             1094826 non-null int8\n",
      "roomtag_2                             346812 non-null float16\n",
      "roomtag_3                             980190 non-null float16\n",
      "roomtag_4                             1094826 non-null int8\n",
      "user_confirmtime                      1094815 non-null float32\n",
      "user_avgadvanceddate                  1094826 non-null float16\n",
      "user_avgstar                          1094826 non-null float16\n",
      "user_avggoldstar                      1094826 non-null float16\n",
      "user_avgrecommendlevel                1094826 non-null float16\n",
      "user_avgroomnum                       1094826 non-null float16\n",
      "ordertype_1_ratio                     1094826 non-null float16\n",
      "ordertype_2_ratio                     718538 non-null float16\n",
      "ordertype_3_ratio                     718538 non-null float16\n",
      "ordertype_4_ratio                     718538 non-null float16\n",
      "ordertype_5_ratio                     718538 non-null float16\n",
      "ordertype_6_ratio                     1094826 non-null float16\n",
      "ordertype_7_ratio                     1094826 non-null float16\n",
      "ordertype_8_ratio                     1094826 non-null float16\n",
      "ordertype_9_ratio                     1094826 non-null float16\n",
      "ordertype_10_ratio                    1094826 non-null float16\n",
      "ordertype_11_ratio                    1094826 non-null float16\n",
      "user_avgdealpriceholiday              975608 non-null float16\n",
      "user_avgdealpriceworkday              1007579 non-null float16\n",
      "user_avgdealprice                     1093945 non-null float16\n",
      "user_avgpromotion                     1093945 non-null float16\n",
      "user_avgprice_star                    1049559 non-null float16\n",
      "orderbehavior_1_ratio                 1094826 non-null float16\n",
      "orderbehavior_2_ratio                 718538 non-null float16\n",
      "orderbehavior_3_ratio_1week           357306 non-null float16\n",
      "orderbehavior_4_ratio_1week           357306 non-null float16\n",
      "orderbehavior_5_ratio_1week           357306 non-null float16\n",
      "orderbehavior_3_ratio_3month          821403 non-null float16\n",
      "orderbehavior_4_ratio_3month          821403 non-null float16\n",
      "orderbehavior_5_ratio_3month          821403 non-null float16\n",
      "orderbehavior_6_ratio                 1087220 non-null float16\n",
      "orderbehavior_7_ratio                 1087220 non-null float16\n",
      "orderbehavior_8                       1087209 non-null float16\n",
      "orderbehavior_9                       1087209 non-null float16\n",
      "user_ordernum                         1094826 non-null int16\n",
      "user_activation                       1085317 non-null float16\n",
      "user_avgprice                         1094826 non-null float16\n",
      "user_maxprice                         1094826 non-null float32\n",
      "user_minprice                         1094826 non-null float16\n",
      "user_stdprice                         1044437 non-null float16\n",
      "user_cvprice                          1044437 non-null float16\n",
      "user_citynum                          1094826 non-null int16\n",
      "user_avgroomarea                      1094826 non-null float16\n",
      "user_roomservice_4_0ratio             1018676 non-null float16\n",
      "user_roomservice_4_2ratio             1094826 non-null float16\n",
      "user_roomservice_4_3ratio             1094826 non-null float16\n",
      "user_roomservice_4_4ratio             1094826 non-null float16\n",
      "user_roomservice_4_1ratio             1018676 non-null float16\n",
      "user_roomservice_4_5ratio             1018676 non-null float16\n",
      "user_roomservice_3_123ratio           1094826 non-null float16\n",
      "user_roomservice_6_2ratio             1018676 non-null float16\n",
      "user_roomservice_6_1ratio             1018676 non-null float16\n",
      "user_roomservice_6_0ratio             1018676 non-null float16\n",
      "user_roomservice_5_1ratio             1094826 non-null float16\n",
      "user_roomservice_7_0ratio             1094826 non-null float16\n",
      "user_roomservice_2_1ratio             1018676 non-null float16\n",
      "user_roomservice_8_1ratio             1094826 non-null float16\n",
      "user_rank_ratio                       1018676 non-null float16\n",
      "user_roomservice_8_345ratio           1018676 non-null float16\n",
      "user_ordnum_1week                     444809 non-null float16\n",
      "user_avgprice_1week                   444809 non-null float16\n",
      "user_medprice_1week                   444809 non-null float16\n",
      "user_minprice_1week                   444809 non-null float16\n",
      "user_maxprice_1week                   444809 non-null float16\n",
      "user_roomservice_3_123ratio_1week     444809 non-null float16\n",
      "user_roomservice_7_1ratio_1week       444809 non-null float16\n",
      "user_roomservice_7_0ratio_1week       444809 non-null float16\n",
      "user_roomservice_4_5ratio_1week       444809 non-null float16\n",
      "user_roomservice_4_4ratio_1week       444809 non-null float16\n",
      "user_roomservice_4_2ratio_1week       444809 non-null float16\n",
      "user_roomservice_4_3ratio_1week       444809 non-null float16\n",
      "user_roomservice_4_0ratio_1week       444809 non-null float16\n",
      "user_ordnum_1month                    715834 non-null float16\n",
      "user_avgprice_1month                  715834 non-null float16\n",
      "user_medprice_1month                  715834 non-null float16\n",
      "user_minprice_1month                  715834 non-null float16\n",
      "user_maxprice_1month                  715834 non-null float32\n",
      "user_roomservice_3_123ratio_1month    715834 non-null float16\n",
      "user_roomservice_7_1ratio_1month      715834 non-null float16\n",
      "user_roomservice_7_0ratio_1month      715834 non-null float16\n",
      "user_roomservice_4_5ratio_1month      715834 non-null float16\n",
      "user_roomservice_4_4ratio_1month      715834 non-null float16\n",
      "user_roomservice_4_2ratio_1month      715834 non-null float16\n",
      "user_roomservice_4_3ratio_1month      715834 non-null float16\n",
      "user_roomservice_4_0ratio_1month      715834 non-null float16\n",
      "user_ordnum_3month                    908255 non-null float16\n",
      "user_avgprice_3month                  908255 non-null float16\n",
      "user_medprice_3month                  908255 non-null float16\n",
      "user_minprice_3month                  908255 non-null float16\n",
      "user_maxprice_3month                  908255 non-null float32\n",
      "user_roomservice_3_123ratio_3month    908255 non-null float16\n",
      "user_roomservice_7_1ratio_3month      908255 non-null float16\n",
      "user_roomservice_7_0ratio_3month      908255 non-null float16\n",
      "user_roomservice_4_5ratio_3month      908255 non-null float16\n",
      "user_roomservice_4_4ratio_3month      908255 non-null float16\n",
      "user_roomservice_4_2ratio_3month      908255 non-null float16\n",
      "user_roomservice_4_3ratio_3month      908255 non-null float16\n",
      "user_roomservice_4_0ratio_3month      908255 non-null float16\n",
      "basic_week_ordernum_ratio             1062126 non-null float16\n",
      "basic_recent3_ordernum_ratio          1062126 non-null float16\n",
      "basic_comment_ratio                   1062126 non-null float16\n",
      "basic_30days_ordnumratio              970076 non-null float16\n",
      "basic_30days_realratio                970076 non-null float16\n",
      "room_30days_ordnumratio               636832 non-null float16\n",
      "room_30days_realratio                 636832 non-null float16\n",
      "orderdate_lastord                     997141 non-null datetime64[ns]\n",
      "hotelid_lastord                       997141 non-null float32\n",
      "roomid_lastord                        997141 non-null float32\n",
      "basicroomid_lastord                   997141 non-null float32\n",
      "rank_lastord                          997141 non-null float16\n",
      "return_lastord                        1094826 non-null float16\n",
      "price_last_lastord                    997141 non-null float32\n",
      "roomservice_2_lastord                 997141 non-null float16\n",
      "roomservice_3_lastord                 997141 non-null float16\n",
      "roomservice_4_lastord                 993953 non-null float16\n",
      "roomservice_5_lastord                 997141 non-null float16\n",
      "roomservice_6_lastord                 995699 non-null float16\n",
      "roomservice_8_lastord                 997141 non-null float16\n",
      "roomtag_2_lastord                     178608 non-null float16\n",
      "roomtag_3_lastord                     914594 non-null float16\n",
      "roomtag_4_lastord                     997141 non-null float16\n",
      "roomtag_5_lastord                     997141 non-null float16\n",
      "star_lastord                          997141 non-null float16\n",
      "hotel_minprice_lastord                997141 non-null float32\n",
      "basic_minprice_lastord                997141 non-null float32\n",
      "hotel_roomid                          1094826 non-null int32\n",
      "dtypes: datetime64[ns](2), float16(117), float32(12), int16(3), int32(6), int8(11)\n",
      "memory usage: 354.0 MB\n"
     ]
    }
   ],
   "source": [
    "train_df.info(null_counts=True, verbose=True)"
   ]
  },
  {
   "cell_type": "code",
   "execution_count": 14,
   "metadata": {
    "collapsed": true
   },
   "outputs": [],
   "source": [
    "del train_df"
   ]
  },
  {
   "cell_type": "code",
   "execution_count": 15,
   "metadata": {
    "collapsed": false
   },
   "outputs": [
    {
     "name": "stdout",
     "output_type": "stream",
     "text": [
      "object orderid\n"
     ]
    },
    {
     "name": "stderr",
     "output_type": "stream",
     "text": [
      "/home/zhanglun/notebook/room/code/utils.py:48: FutureWarning: currently extract(expand=None) means expand=False (return Index/Series/DataFrame) but in a future version of pandas this will be changed to expand=True (return DataFrame)\n",
      "  df[column] = df[column].str.extract('(\\d+)')\n"
     ]
    },
    {
     "name": "stdout",
     "output_type": "stream",
     "text": [
      "object uid\n",
      "object hotelid\n",
      "object basicroomid\n",
      "object roomid\n",
      "object orderid_lastord\n"
     ]
    },
    {
     "name": "stderr",
     "output_type": "stream",
     "text": [
      "/home/zhanglun/notebook/room/code/utils.py:30: UserWarning: column  orderid_lastord is  may be error when meet percent max:0.0\n",
      "  warn('column  {} is  may be error when meet percent max:{}'.format(c, c_max))\n"
     ]
    },
    {
     "name": "stdout",
     "output_type": "stream",
     "text": [
      "object hotelid_lastord\n",
      "object roomid_lastord\n",
      "object basicroomid_lastord\n"
     ]
    },
    {
     "name": "stderr",
     "output_type": "stream",
     "text": [
      "/home/zhanglun/notebook/room/code/utils.py:30: UserWarning: column  ordertype_3_ratio is  may be error when meet percent max:0.5\n",
      "  warn('column  {} is  may be error when meet percent max:{}'.format(c, c_max))\n"
     ]
    }
   ],
   "source": [
    "test_df = press_train_df(test_df)"
   ]
  },
  {
   "cell_type": "code",
   "execution_count": 16,
   "metadata": {
    "collapsed": true
   },
   "outputs": [],
   "source": [
    "test_df.to_pickle('../dataset/test.pkl')"
   ]
  },
  {
   "cell_type": "code",
   "execution_count": 17,
   "metadata": {
    "collapsed": false
   },
   "outputs": [
    {
     "name": "stdout",
     "output_type": "stream",
     "text": [
      "<class 'pandas.core.frame.DataFrame'>\n",
      "RangeIndex: 978298 entries, 0 to 978297\n",
      "Data columns (total 150 columns):\n",
      "orderid                               978298 non-null int32\n",
      "uid                                   978298 non-null int32\n",
      "orderdate                             978298 non-null datetime64[ns]\n",
      "hotelid                               978298 non-null int32\n",
      "basicroomid                           978298 non-null int32\n",
      "roomid                                978298 non-null int32\n",
      "star                                  978298 non-null int8\n",
      "rank                                  978298 non-null int8\n",
      "returnvalue                           978298 non-null float32\n",
      "price_deduct                          978298 non-null float32\n",
      "basic_minarea                         978298 non-null float16\n",
      "basic_maxarea                         978298 non-null float16\n",
      "roomservice_1                         978298 non-null int8\n",
      "roomservice_2                         978298 non-null int8\n",
      "roomservice_3                         978298 non-null int8\n",
      "roomservice_4                         974625 non-null float16\n",
      "roomservice_5                         978298 non-null int8\n",
      "roomservice_6                         978298 non-null int8\n",
      "roomservice_7                         978298 non-null int8\n",
      "roomservice_8                         978298 non-null int8\n",
      "roomtag_1                             978298 non-null int8\n",
      "roomtag_2                             296548 non-null float16\n",
      "roomtag_3                             851484 non-null float16\n",
      "roomtag_4                             978298 non-null int8\n",
      "user_confirmtime                      978274 non-null float32\n",
      "user_avgadvanceddate                  978298 non-null float16\n",
      "user_avgstar                          978298 non-null float16\n",
      "user_avggoldstar                      978298 non-null float16\n",
      "user_avgrecommendlevel                978272 non-null float16\n",
      "user_avgroomnum                       978298 non-null float16\n",
      "ordertype_1_ratio                     978298 non-null float16\n",
      "ordertype_2_ratio                     638726 non-null float16\n",
      "ordertype_3_ratio                     638726 non-null float16\n",
      "ordertype_4_ratio                     638726 non-null float16\n",
      "ordertype_5_ratio                     638726 non-null float16\n",
      "ordertype_6_ratio                     978298 non-null float16\n",
      "ordertype_7_ratio                     978298 non-null float16\n",
      "ordertype_8_ratio                     978298 non-null float16\n",
      "ordertype_9_ratio                     978298 non-null float16\n",
      "ordertype_10_ratio                    978298 non-null float16\n",
      "ordertype_11_ratio                    978298 non-null float16\n",
      "user_avgdealpriceholiday              856320 non-null float16\n",
      "user_avgdealpriceworkday              886449 non-null float16\n",
      "user_avgdealprice                     977118 non-null float16\n",
      "user_avgpromotion                     977118 non-null float16\n",
      "user_avgprice_star                    876403 non-null float16\n",
      "orderbehavior_1_ratio                 978298 non-null float16\n",
      "orderbehavior_2_ratio                 638726 non-null float16\n",
      "orderbehavior_3_ratio_1week           310929 non-null float16\n",
      "orderbehavior_4_ratio_1week           310929 non-null float16\n",
      "orderbehavior_5_ratio_1week           310929 non-null float16\n",
      "orderbehavior_3_ratio_3month          726517 non-null float16\n",
      "orderbehavior_4_ratio_3month          726517 non-null float16\n",
      "orderbehavior_5_ratio_3month          726517 non-null float16\n",
      "orderbehavior_6_ratio                 971543 non-null float16\n",
      "orderbehavior_7_ratio                 971543 non-null float16\n",
      "orderbehavior_8                       971651 non-null float16\n",
      "orderbehavior_9                       971651 non-null float16\n",
      "user_ordernum                         978298 non-null int16\n",
      "user_activation                       967682 non-null float16\n",
      "user_avgprice                         978298 non-null float16\n",
      "user_maxprice                         978298 non-null float32\n",
      "user_minprice                         978298 non-null float16\n",
      "user_stdprice                         934151 non-null float16\n",
      "user_cvprice                          934151 non-null float16\n",
      "user_citynum                          978298 non-null int16\n",
      "user_avgroomarea                      978298 non-null float16\n",
      "user_roomservice_4_0ratio             909766 non-null float16\n",
      "user_roomservice_4_2ratio             978298 non-null float16\n",
      "user_roomservice_4_3ratio             978298 non-null float16\n",
      "user_roomservice_4_4ratio             978298 non-null float16\n",
      "user_roomservice_4_1ratio             909766 non-null float16\n",
      "user_roomservice_4_5ratio             909766 non-null float16\n",
      "user_roomservice_3_123ratio           978298 non-null float16\n",
      "user_roomservice_6_2ratio             909766 non-null float16\n",
      "user_roomservice_6_1ratio             909766 non-null float16\n",
      "user_roomservice_6_0ratio             909766 non-null float16\n",
      "user_roomservice_5_1ratio             978298 non-null float16\n",
      "user_roomservice_7_0ratio             978298 non-null float16\n",
      "user_roomservice_2_1ratio             909766 non-null float16\n",
      "user_roomservice_8_1ratio             978298 non-null float16\n",
      "user_rank_ratio                       909766 non-null float16\n",
      "user_roomservice_8_345ratio           909766 non-null float16\n",
      "user_ordnum_1week                     416764 non-null float16\n",
      "user_avgprice_1week                   416764 non-null float16\n",
      "user_medprice_1week                   416764 non-null float16\n",
      "user_minprice_1week                   416764 non-null float16\n",
      "user_maxprice_1week                   416764 non-null float16\n",
      "user_roomservice_3_123ratio_1week     416764 non-null float16\n",
      "user_roomservice_7_1ratio_1week       416764 non-null float16\n",
      "user_roomservice_7_0ratio_1week       416764 non-null float16\n",
      "user_roomservice_4_5ratio_1week       416764 non-null float16\n",
      "user_roomservice_4_4ratio_1week       416764 non-null float16\n",
      "user_roomservice_4_2ratio_1week       416764 non-null float16\n",
      "user_roomservice_4_3ratio_1week       416764 non-null float16\n",
      "user_roomservice_4_0ratio_1week       416764 non-null float16\n",
      "user_ordnum_1month                    648275 non-null float16\n",
      "user_avgprice_1month                  648275 non-null float16\n",
      "user_medprice_1month                  648275 non-null float16\n",
      "user_minprice_1month                  648275 non-null float16\n",
      "user_maxprice_1month                  648275 non-null float16\n",
      "user_roomservice_3_123ratio_1month    648275 non-null float16\n",
      "user_roomservice_7_1ratio_1month      648275 non-null float16\n",
      "user_roomservice_7_0ratio_1month      648275 non-null float16\n",
      "user_roomservice_4_5ratio_1month      648275 non-null float16\n",
      "user_roomservice_4_4ratio_1month      648275 non-null float16\n",
      "user_roomservice_4_2ratio_1month      648275 non-null float16\n",
      "user_roomservice_4_3ratio_1month      648275 non-null float16\n",
      "user_roomservice_4_0ratio_1month      648275 non-null float16\n",
      "user_ordnum_3month                    816331 non-null float16\n",
      "user_avgprice_3month                  816331 non-null float32\n",
      "user_medprice_3month                  816331 non-null float32\n",
      "user_minprice_3month                  816331 non-null float32\n",
      "user_maxprice_3month                  816331 non-null float32\n",
      "user_roomservice_3_123ratio_3month    816331 non-null float16\n",
      "user_roomservice_7_1ratio_3month      816331 non-null float16\n",
      "user_roomservice_7_0ratio_3month      816331 non-null float16\n",
      "user_roomservice_4_5ratio_3month      816331 non-null float16\n",
      "user_roomservice_4_4ratio_3month      816331 non-null float16\n",
      "user_roomservice_4_2ratio_3month      816331 non-null float16\n",
      "user_roomservice_4_3ratio_3month      816331 non-null float16\n",
      "user_roomservice_4_0ratio_3month      816331 non-null float16\n",
      "basic_week_ordernum_ratio             920158 non-null float16\n",
      "basic_recent3_ordernum_ratio          920158 non-null float16\n",
      "basic_comment_ratio                   920158 non-null float16\n",
      "basic_30days_ordnumratio              770814 non-null float16\n",
      "basic_30days_realratio                770814 non-null float16\n",
      "room_30days_ordnumratio               490799 non-null float16\n",
      "room_30days_realratio                 490799 non-null float16\n",
      "orderdate_lastord                     890043 non-null datetime64[ns]\n",
      "hotelid_lastord                       890043 non-null float32\n",
      "roomid_lastord                        890043 non-null float32\n",
      "basicroomid_lastord                   890043 non-null float32\n",
      "rank_lastord                          890043 non-null float16\n",
      "return_lastord                        978298 non-null float16\n",
      "price_last_lastord                    890043 non-null float16\n",
      "roomservice_2_lastord                 890043 non-null float16\n",
      "roomservice_3_lastord                 890043 non-null float16\n",
      "roomservice_4_lastord                 887162 non-null float16\n",
      "roomservice_5_lastord                 890043 non-null float16\n",
      "roomservice_6_lastord                 888453 non-null float16\n",
      "roomservice_8_lastord                 890043 non-null float16\n",
      "roomtag_2_lastord                     181397 non-null float16\n",
      "roomtag_3_lastord                     799697 non-null float16\n",
      "roomtag_4_lastord                     890043 non-null float16\n",
      "roomtag_5_lastord                     890043 non-null float16\n",
      "star_lastord                          890043 non-null float16\n",
      "hotel_minprice_lastord                890043 non-null float32\n",
      "basic_minprice_lastord                890043 non-null float16\n",
      "hotel_roomid                          978298 non-null int32\n",
      "dtypes: datetime64[ns](2), float16(117), float32(12), int16(2), int32(6), int8(11)\n",
      "memory usage: 314.4 MB\n"
     ]
    }
   ],
   "source": [
    "test_df.info(null_counts=True, verbose=True)"
   ]
  }
 ],
 "metadata": {
  "anaconda-cloud": {},
  "hide_input": false,
  "kernelspec": {
   "display_name": "Python 3",
   "language": "python",
   "name": "python3"
  },
  "language_info": {
   "codemirror_mode": {
    "name": "ipython",
    "version": 3
   },
   "file_extension": ".py",
   "mimetype": "text/x-python",
   "name": "python",
   "nbconvert_exporter": "python",
   "pygments_lexer": "ipython3",
   "version": "3.5.1"
  }
 },
 "nbformat": 4,
 "nbformat_minor": 2
}
