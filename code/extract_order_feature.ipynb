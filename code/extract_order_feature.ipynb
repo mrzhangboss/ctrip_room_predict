{
 "cells": [
  {
   "cell_type": "code",
   "execution_count": 1,
   "metadata": {
    "collapsed": false
   },
   "outputs": [],
   "source": [
    "import sys\n",
    "import gc\n",
    "from datetime import datetime\n",
    "from os.path import join\n",
    "from warnings import warn\n",
    "from itertools import chain\n",
    "\n",
    "import numpy as np\n",
    "import pandas as pd\n",
    "import scipy as sp\n",
    "\n",
    "from utils import *"
   ]
  },
  {
   "cell_type": "code",
   "execution_count": 2,
   "metadata": {
    "collapsed": true
   },
   "outputs": [],
   "source": [
    "dir_arg = sys.argv[1]\n",
    "if dir_arg == '-f':\n",
    "    file_dir = join('..', 'dataset', 'train')\n",
    "else:\n",
    "    file_dir = join('..', 'dataset',  dir_arg)"
   ]
  },
  {
   "cell_type": "code",
   "execution_count": 3,
   "metadata": {
    "collapsed": false
   },
   "outputs": [
    {
     "name": "stdout",
     "output_type": "stream",
     "text": [
      "2017-08-06 14:22:05.189992 2017-06-11\n",
      "2017-08-06 14:22:05.190190\n",
      "--------------------\n",
      "uid uniuqe shape 29960\n",
      "hotelid uniuqe shape 18543\n",
      "basicroomid uniuqe shape 108611\n",
      "roomid uniuqe shape 804370\n",
      "--------------------\n"
     ]
    }
   ],
   "source": [
    "train_df = pd.read_pickle(join(file_dir, 'base_feauture.pkl'))\n",
    "\n",
    "now_date = train_df.orderdate.max().date()\n",
    "print(datetime.now(), now_date)\n",
    "\n",
    "uid_shape, hotelid_shape, basicroomid_shape, roomid_shape = print_shape(\n",
    "    train_df, ['uid', 'hotelid', 'basicroomid', 'roomid'])"
   ]
  },
  {
   "cell_type": "code",
   "execution_count": 23,
   "metadata": {
    "collapsed": true
   },
   "outputs": [
    {
     "name": "stderr",
     "output_type": "stream",
     "text": [
      "/home/zhanglun/.pyenv/versions/anaconda3-4.1.0/lib/python3.5/site-packages/ipykernel/__main__.py:3: FutureWarning: currently extract(expand=None) means expand=False (return Index/Series/DataFrame) but in a future version of pandas this will be changed to expand=True (return DataFrame)\n",
      "  app.launch_new_instance()\n"
     ]
    },
    {
     "data": {
      "text/html": [
       "<div>\n",
       "<style>\n",
       "    .dataframe thead tr:only-child th {\n",
       "        text-align: right;\n",
       "    }\n",
       "\n",
       "    .dataframe thead th {\n",
       "        text-align: left;\n",
       "    }\n",
       "\n",
       "    .dataframe tbody tr th {\n",
       "        vertical-align: top;\n",
       "    }\n",
       "</style>\n",
       "<table border=\"1\" class=\"dataframe\">\n",
       "  <thead>\n",
       "    <tr style=\"text-align: right;\">\n",
       "      <th></th>\n",
       "      <th>0</th>\n",
       "    </tr>\n",
       "  </thead>\n",
       "  <tbody>\n",
       "    <tr>\n",
       "      <th>order_basicroomid_roomid_rank1_rate</th>\n",
       "      <td>0.018116</td>\n",
       "    </tr>\n",
       "    <tr>\n",
       "      <th>order_price_dif_hotel</th>\n",
       "      <td>0.015700</td>\n",
       "    </tr>\n",
       "    <tr>\n",
       "      <th>order_price_dif_hotel_rt</th>\n",
       "      <td>0.014532</td>\n",
       "    </tr>\n",
       "    <tr>\n",
       "      <th>order_price_deduct_rank</th>\n",
       "      <td>0.014532</td>\n",
       "    </tr>\n",
       "    <tr>\n",
       "      <th>order_true_value_rank</th>\n",
       "      <td>0.013908</td>\n",
       "    </tr>\n",
       "    <tr>\n",
       "      <th>order_price_dif</th>\n",
       "      <td>0.013714</td>\n",
       "    </tr>\n",
       "    <tr>\n",
       "      <th>order_price_dif_rt</th>\n",
       "      <td>0.013207</td>\n",
       "    </tr>\n",
       "    <tr>\n",
       "      <th>order_price_ave_star_dif</th>\n",
       "      <td>0.011064</td>\n",
       "    </tr>\n",
       "    <tr>\n",
       "      <th>order_orderbehavior_6_ratio</th>\n",
       "      <td>0.009974</td>\n",
       "    </tr>\n",
       "    <tr>\n",
       "      <th>order_basicroomid_roomid_rank1</th>\n",
       "      <td>0.009272</td>\n",
       "    </tr>\n",
       "    <tr>\n",
       "      <th>order_order_basic_minprice_rt</th>\n",
       "      <td>0.009038</td>\n",
       "    </tr>\n",
       "    <tr>\n",
       "      <th>order_true_value_basic_rank</th>\n",
       "      <td>0.008727</td>\n",
       "    </tr>\n",
       "    <tr>\n",
       "      <th>order_order_hotel_last_price_min_dif</th>\n",
       "      <td>0.008571</td>\n",
       "    </tr>\n",
       "    <tr>\n",
       "      <th>order_this_last_roomservice_4_gap</th>\n",
       "      <td>0.008376</td>\n",
       "    </tr>\n",
       "    <tr>\n",
       "      <th>order_return_dx</th>\n",
       "      <td>0.008259</td>\n",
       "    </tr>\n",
       "    <tr>\n",
       "      <th>order_order_ordertype_9_num</th>\n",
       "      <td>0.008103</td>\n",
       "    </tr>\n",
       "    <tr>\n",
       "      <th>order_roomservice_4</th>\n",
       "      <td>0.007948</td>\n",
       "    </tr>\n",
       "    <tr>\n",
       "      <th>order_roomtag_3</th>\n",
       "      <td>0.007636</td>\n",
       "    </tr>\n",
       "    <tr>\n",
       "      <th>order_rank</th>\n",
       "      <td>0.007480</td>\n",
       "    </tr>\n",
       "    <tr>\n",
       "      <th>order_basicroomid_is_equal</th>\n",
       "      <td>0.007363</td>\n",
       "    </tr>\n",
       "    <tr>\n",
       "      <th>order_rank_roomservice_8</th>\n",
       "      <td>0.007363</td>\n",
       "    </tr>\n",
       "    <tr>\n",
       "      <th>order_price_diff_order_min</th>\n",
       "      <td>0.007324</td>\n",
       "    </tr>\n",
       "    <tr>\n",
       "      <th>order_roomtag_1</th>\n",
       "      <td>0.007091</td>\n",
       "    </tr>\n",
       "    <tr>\n",
       "      <th>order_orderbehavior_8</th>\n",
       "      <td>0.007052</td>\n",
       "    </tr>\n",
       "    <tr>\n",
       "      <th>order_room_30days_realratio</th>\n",
       "      <td>0.006857</td>\n",
       "    </tr>\n",
       "    <tr>\n",
       "      <th>order_basicroomid_price_rank_mean</th>\n",
       "      <td>0.006818</td>\n",
       "    </tr>\n",
       "    <tr>\n",
       "      <th>order_price_diff_user_med_3month</th>\n",
       "      <td>0.006701</td>\n",
       "    </tr>\n",
       "    <tr>\n",
       "      <th>order_order_ordertype_6_num</th>\n",
       "      <td>0.006662</td>\n",
       "    </tr>\n",
       "    <tr>\n",
       "      <th>order_this_last_roomservice_8_gap</th>\n",
       "      <td>0.006545</td>\n",
       "    </tr>\n",
       "    <tr>\n",
       "      <th>order_orderbehavior_7_ratio</th>\n",
       "      <td>0.006506</td>\n",
       "    </tr>\n",
       "    <tr>\n",
       "      <th>...</th>\n",
       "      <td>...</td>\n",
       "    </tr>\n",
       "    <tr>\n",
       "      <th>order_user_roomservice_4_5ratio</th>\n",
       "      <td>0.000000</td>\n",
       "    </tr>\n",
       "    <tr>\n",
       "      <th>order_user_roomservice_4_0ratio_1week</th>\n",
       "      <td>0.000000</td>\n",
       "    </tr>\n",
       "    <tr>\n",
       "      <th>order_max_basic_week_ordernum_ratio</th>\n",
       "      <td>0.000000</td>\n",
       "    </tr>\n",
       "    <tr>\n",
       "      <th>order_max_basic_recent3_ordernum_ratio</th>\n",
       "      <td>0.000000</td>\n",
       "    </tr>\n",
       "    <tr>\n",
       "      <th>order_max_basic_comment_ratio</th>\n",
       "      <td>0.000000</td>\n",
       "    </tr>\n",
       "    <tr>\n",
       "      <th>order_max_basic_30days_ordnumratio</th>\n",
       "      <td>0.000000</td>\n",
       "    </tr>\n",
       "    <tr>\n",
       "      <th>order_roomtag_5_lastord</th>\n",
       "      <td>0.000000</td>\n",
       "    </tr>\n",
       "    <tr>\n",
       "      <th>order_min_room_30days_ordnumratio</th>\n",
       "      <td>0.000000</td>\n",
       "    </tr>\n",
       "    <tr>\n",
       "      <th>order_max_room_30days_ordnumratio</th>\n",
       "      <td>0.000000</td>\n",
       "    </tr>\n",
       "    <tr>\n",
       "      <th>order_basicroomid_roomid_rank1_ismin</th>\n",
       "      <td>0.000000</td>\n",
       "    </tr>\n",
       "    <tr>\n",
       "      <th>order_basicroomid_roomid_price_ismin</th>\n",
       "      <td>0.000000</td>\n",
       "    </tr>\n",
       "    <tr>\n",
       "      <th>order_roomservice_2_lastord</th>\n",
       "      <td>0.000000</td>\n",
       "    </tr>\n",
       "    <tr>\n",
       "      <th>order_room_30days_ordnumratio</th>\n",
       "      <td>0.000000</td>\n",
       "    </tr>\n",
       "    <tr>\n",
       "      <th>order_basic_30days_ordnumratio</th>\n",
       "      <td>0.000000</td>\n",
       "    </tr>\n",
       "    <tr>\n",
       "      <th>order_order_basic_last_price_min_rt</th>\n",
       "      <td>0.000000</td>\n",
       "    </tr>\n",
       "    <tr>\n",
       "      <th>order_order_hotel_last_price_min_rt</th>\n",
       "      <td>0.000000</td>\n",
       "    </tr>\n",
       "    <tr>\n",
       "      <th>order_user_roomservice_4_5ratio_1month</th>\n",
       "      <td>0.000000</td>\n",
       "    </tr>\n",
       "    <tr>\n",
       "      <th>order_price_tail1</th>\n",
       "      <td>0.000000</td>\n",
       "    </tr>\n",
       "    <tr>\n",
       "      <th>order_user_roomservice_4_0ratio_1month</th>\n",
       "      <td>0.000000</td>\n",
       "    </tr>\n",
       "    <tr>\n",
       "      <th>order_min_returnvalue</th>\n",
       "      <td>0.000000</td>\n",
       "    </tr>\n",
       "    <tr>\n",
       "      <th>order_min_basic_week_ordernum_ratio</th>\n",
       "      <td>0.000000</td>\n",
       "    </tr>\n",
       "    <tr>\n",
       "      <th>order_min_basic_recent3_ordernum_ratio</th>\n",
       "      <td>0.000000</td>\n",
       "    </tr>\n",
       "    <tr>\n",
       "      <th>order_user_roomservice_4_5ratio_3month</th>\n",
       "      <td>0.000000</td>\n",
       "    </tr>\n",
       "    <tr>\n",
       "      <th>order_user_roomservice_4_4ratio_3month</th>\n",
       "      <td>0.000000</td>\n",
       "    </tr>\n",
       "    <tr>\n",
       "      <th>order_min_basic_comment_ratio</th>\n",
       "      <td>0.000000</td>\n",
       "    </tr>\n",
       "    <tr>\n",
       "      <th>order_min_basic_30days_ordnumratio</th>\n",
       "      <td>0.000000</td>\n",
       "    </tr>\n",
       "    <tr>\n",
       "      <th>order_user_roomservice_4_0ratio_3month</th>\n",
       "      <td>0.000000</td>\n",
       "    </tr>\n",
       "    <tr>\n",
       "      <th>order_basic_week_ordernum_ratio</th>\n",
       "      <td>0.000000</td>\n",
       "    </tr>\n",
       "    <tr>\n",
       "      <th>order_basic_recent3_ordernum_ratio</th>\n",
       "      <td>0.000000</td>\n",
       "    </tr>\n",
       "    <tr>\n",
       "      <th>order_basic_comment_ratio</th>\n",
       "      <td>0.000000</td>\n",
       "    </tr>\n",
       "  </tbody>\n",
       "</table>\n",
       "<p>299 rows × 1 columns</p>\n",
       "</div>"
      ],
      "text/plain": [
       "                                               0\n",
       "order_basicroomid_roomid_rank1_rate     0.018116\n",
       "order_price_dif_hotel                   0.015700\n",
       "order_price_dif_hotel_rt                0.014532\n",
       "order_price_deduct_rank                 0.014532\n",
       "order_true_value_rank                   0.013908\n",
       "order_price_dif                         0.013714\n",
       "order_price_dif_rt                      0.013207\n",
       "order_price_ave_star_dif                0.011064\n",
       "order_orderbehavior_6_ratio             0.009974\n",
       "order_basicroomid_roomid_rank1          0.009272\n",
       "order_order_basic_minprice_rt           0.009038\n",
       "order_true_value_basic_rank             0.008727\n",
       "order_order_hotel_last_price_min_dif    0.008571\n",
       "order_this_last_roomservice_4_gap       0.008376\n",
       "order_return_dx                         0.008259\n",
       "order_order_ordertype_9_num             0.008103\n",
       "order_roomservice_4                     0.007948\n",
       "order_roomtag_3                         0.007636\n",
       "order_rank                              0.007480\n",
       "order_basicroomid_is_equal              0.007363\n",
       "order_rank_roomservice_8                0.007363\n",
       "order_price_diff_order_min              0.007324\n",
       "order_roomtag_1                         0.007091\n",
       "order_orderbehavior_8                   0.007052\n",
       "order_room_30days_realratio             0.006857\n",
       "order_basicroomid_price_rank_mean       0.006818\n",
       "order_price_diff_user_med_3month        0.006701\n",
       "order_order_ordertype_6_num             0.006662\n",
       "order_this_last_roomservice_8_gap       0.006545\n",
       "order_orderbehavior_7_ratio             0.006506\n",
       "...                                          ...\n",
       "order_user_roomservice_4_5ratio         0.000000\n",
       "order_user_roomservice_4_0ratio_1week   0.000000\n",
       "order_max_basic_week_ordernum_ratio     0.000000\n",
       "order_max_basic_recent3_ordernum_ratio  0.000000\n",
       "order_max_basic_comment_ratio           0.000000\n",
       "order_max_basic_30days_ordnumratio      0.000000\n",
       "order_roomtag_5_lastord                 0.000000\n",
       "order_min_room_30days_ordnumratio       0.000000\n",
       "order_max_room_30days_ordnumratio       0.000000\n",
       "order_basicroomid_roomid_rank1_ismin    0.000000\n",
       "order_basicroomid_roomid_price_ismin    0.000000\n",
       "order_roomservice_2_lastord             0.000000\n",
       "order_room_30days_ordnumratio           0.000000\n",
       "order_basic_30days_ordnumratio          0.000000\n",
       "order_order_basic_last_price_min_rt     0.000000\n",
       "order_order_hotel_last_price_min_rt     0.000000\n",
       "order_user_roomservice_4_5ratio_1month  0.000000\n",
       "order_price_tail1                       0.000000\n",
       "order_user_roomservice_4_0ratio_1month  0.000000\n",
       "order_min_returnvalue                   0.000000\n",
       "order_min_basic_week_ordernum_ratio     0.000000\n",
       "order_min_basic_recent3_ordernum_ratio  0.000000\n",
       "order_user_roomservice_4_5ratio_3month  0.000000\n",
       "order_user_roomservice_4_4ratio_3month  0.000000\n",
       "order_min_basic_comment_ratio           0.000000\n",
       "order_min_basic_30days_ordnumratio      0.000000\n",
       "order_user_roomservice_4_0ratio_3month  0.000000\n",
       "order_basic_week_ordernum_ratio         0.000000\n",
       "order_basic_recent3_ordernum_ratio      0.000000\n",
       "order_basic_comment_ratio               0.000000\n",
       "\n",
       "[299 rows x 1 columns]"
      ]
     },
     "execution_count": 23,
     "metadata": {},
     "output_type": "execute_result"
    }
   ],
   "source": [
    "# idf = pd.read_csv('models/06-1217-importance.txt', index_col=[0])\n",
    "\n",
    "# nidf = idf.loc[idf.index.str.extract('^(order)').notnull()]\n",
    "\n",
    "# nidf\n",
    "\n",
    "# nidf.loc[nidf['0']==0]\n",
    "\n",
    "# idf.loc[[x for x in nidf.index if x.startswith('basicroomid__basic_30days_realratio')]]\n",
    "\n",
    "# nidf"
   ]
  },
  {
   "cell_type": "code",
   "execution_count": 28,
   "metadata": {
    "collapsed": false
   },
   "outputs": [
    {
     "name": "stdout",
     "output_type": "stream",
     "text": [
      "2017-08-06 10:59:03.418099 begin ../dataset/train/order_feature.pkl\n"
     ]
    }
   ],
   "source": [
    "feature_path = join(file_dir, 'order_feature.pkl')\n",
    "print(datetime.now(), 'begin', feature_path)"
   ]
  },
  {
   "cell_type": "code",
   "execution_count": 29,
   "metadata": {
    "collapsed": true
   },
   "outputs": [],
   "source": [
    "hotel_path = join(file_dir, 'hotel_feature.pkl')\n",
    "basic_path = join(file_dir, 'basic_room_feature.pkl')\n",
    "room_path = join(file_dir, 'room_feature.pkl')\n",
    "hotel_room_path = join(file_dir, 'hotel_room_feature.pkl')\n",
    "user_path = join(file_dir, 'user_feature.pkl')"
   ]
  },
  {
   "cell_type": "code",
   "execution_count": 30,
   "metadata": {
    "collapsed": true
   },
   "outputs": [],
   "source": [
    "not_rename = []"
   ]
  },
  {
   "cell_type": "code",
   "execution_count": 31,
   "metadata": {
    "collapsed": true
   },
   "outputs": [],
   "source": [
    "def join_df(t, p, order_df):\n",
    "    df = pd.read_pickle(p).set_index(t)\n",
    "    not_rename.extend(list(df.columns))\n",
    "    order_df = order_df.join(df, on=t)\n",
    "    return order_df"
   ]
  },
  {
   "cell_type": "code",
   "execution_count": 32,
   "metadata": {
    "collapsed": false
   },
   "outputs": [
    {
     "data": {
      "text/plain": [
       "499"
      ]
     },
     "execution_count": 32,
     "metadata": {},
     "output_type": "execute_result"
    }
   ],
   "source": [
    "train_df = join_df('hotelid', hotel_path, train_df)\n",
    "train_df = join_df('basicroomid', basic_path, train_df)\n",
    "train_df = join_df('roomid', room_path, train_df)\n",
    "train_df = join_df('hotel_roomid', hotel_room_path, train_df)\n",
    "train_df = join_df('uid', user_path, train_df)\n",
    "\n",
    "gc.collect()"
   ]
  },
  {
   "cell_type": "code",
   "execution_count": 13,
   "metadata": {
    "collapsed": true
   },
   "outputs": [],
   "source": [
    "# 每个basicid价格的中位数\n",
    "def df_median(df):\n",
    "    add = pd.DataFrame(df.groupby([\"orderid\", \"basicroomid\"]).price_deduct.median()).reset_index()\n",
    "    add.columns = [\"orderid\", \"basicroomid\", \"basicroomid_price_deduct_median\"]\n",
    "    df = df.merge(add, on=[\"orderid\", \"basicroomid\"], how=\"left\")\n",
    "    return df\n",
    "\n",
    "# 每个basicid价格的最小值\n",
    "def df_min(df):\n",
    "    add = pd.DataFrame(df.groupby([\"orderid\", \"basicroomid\"]).price_deduct.min()).reset_index()\n",
    "    add.columns = [\"orderid\", \"basicroomid\", \"basicroomid_price_deduct_min\"]\n",
    "    df = df.merge(add, on=[\"orderid\", \"basicroomid\"], how=\"left\")\n",
    "    return df\n",
    "\n",
    "# 每个orderid价格的最小值\n",
    "def df_min_orderid(df):\n",
    "    add = pd.DataFrame(df.groupby([\"orderid\"]).price_deduct.min()).reset_index()\n",
    "    add.columns = [\"orderid\", \"orderid_price_deduct_min\"]\n",
    "    df = df.merge(add, on=[\"orderid\"], how=\"left\")\n",
    "    return df\n",
    "\n",
    "#排序特征\n",
    "def df_rank_mean(df):\n",
    "    add = pd.DataFrame(df.groupby([\"basicroomid\"]).orderid_price_deduct_min_rank.mean()).reset_index()\n",
    "    add.columns = [\"basicroomid\",\"orderid_price_deduct_min_rank_mean\"]\n",
    "    df = df.merge(add, on=[\"basicroomid\"], how=\"left\")\n",
    "    return df\n",
    "\n",
    "def df_roomrank_mean(df):\n",
    "    add = pd.DataFrame(df.groupby([\"roomid\"]).basicroomid_price_rank.mean()).reset_index()\n",
    "    add.columns = [\"roomid\",\"basicroomid_price_rank_mean\"]\n",
    "    df = df.merge(add, on=[\"roomid\"], how=\"left\")\n",
    "    return df"
   ]
  },
  {
   "cell_type": "markdown",
   "metadata": {},
   "source": [
    "## 基础特征"
   ]
  },
  {
   "cell_type": "markdown",
   "metadata": {},
   "source": [
    "#### 排序特征"
   ]
  },
  {
   "cell_type": "code",
   "execution_count": 45,
   "metadata": {
    "collapsed": false
   },
   "outputs": [],
   "source": [
    "train_df=df_median(train_df)\n",
    "train_df=df_min(train_df)\n",
    "train_df=df_min_orderid(train_df)"
   ]
  },
  {
   "cell_type": "code",
   "execution_count": 46,
   "metadata": {
    "collapsed": true
   },
   "outputs": [],
   "source": [
    "train_df['basicroomid_price_rank'] = train_df['price_deduct'].groupby([train_df['orderid'], train_df['basicroomid']]).rank()"
   ]
  },
  {
   "cell_type": "code",
   "execution_count": 47,
   "metadata": {
    "collapsed": true
   },
   "outputs": [],
   "source": [
    "train_df = df_roomrank_mean(train_df)"
   ]
  },
  {
   "cell_type": "code",
   "execution_count": 48,
   "metadata": {
    "collapsed": false
   },
   "outputs": [],
   "source": [
    "train_df[\"orderid_price_deduct_min_rank\"] = train_df['orderid_price_deduct_min'].groupby(train_df['orderid']).rank()"
   ]
  },
  {
   "cell_type": "code",
   "execution_count": 49,
   "metadata": {
    "collapsed": false
   },
   "outputs": [],
   "source": [
    "train_df = df_rank_mean(train_df)"
   ]
  },
  {
   "cell_type": "code",
   "execution_count": 50,
   "metadata": {
    "collapsed": false
   },
   "outputs": [],
   "source": [
    "# train_df = press_date(train_df, ['order_basicroomid_price_rank'])"
   ]
  },
  {
   "cell_type": "markdown",
   "metadata": {},
   "source": [
    "### 上次订购的价格和当时最低价的比"
   ]
  },
  {
   "cell_type": "code",
   "execution_count": 51,
   "metadata": {
    "collapsed": false
   },
   "outputs": [],
   "source": [
    "for i in range(2, 9):\n",
    "    t = 'roomservice_%d' % i\n",
    "    if i != 7:\n",
    "        train_df[t + '_is_equal'] = (train_df[t] == train_df[t+'_lastord']).astype(np.int8)\n",
    "        train_df.loc[train_df.orderdate_lastord.isnull(), t + '_is_equal'] = np.nan"
   ]
  },
  {
   "cell_type": "code",
   "execution_count": 52,
   "metadata": {
    "collapsed": true
   },
   "outputs": [],
   "source": [
    "for i in range(2, 5):\n",
    "    t = 'roomtag_%d' % i\n",
    "    train_df[t + '_is_equal'] = (train_df[t] == train_df[t+'_lastord']).astype(np.int8)\n",
    "    train_df.loc[train_df.orderdate_lastord.isnull(), t + '_is_equal'] = np.nan"
   ]
  },
  {
   "cell_type": "code",
   "execution_count": 53,
   "metadata": {
    "collapsed": true
   },
   "outputs": [],
   "source": [
    "for t in ['rank', 'star', 'basicroomid', 'hotelid']:\n",
    "    train_df[t + '_is_equal'] = (train_df[t] == train_df[t+'_lastord']).astype(np.int8)\n",
    "    train_df.loc[train_df.orderdate_lastord.isnull(), t + '_is_equal'] = np.nan"
   ]
  },
  {
   "cell_type": "code",
   "execution_count": 54,
   "metadata": {
    "collapsed": false
   },
   "outputs": [],
   "source": [
    "train_df['order_weekday'] = train_df.orderdate.dt.weekday\n",
    "\n",
    "train_df['order_weekday_lastord'] = train_df.orderdate_lastord.dt.weekday"
   ]
  },
  {
   "cell_type": "code",
   "execution_count": 55,
   "metadata": {
    "collapsed": false
   },
   "outputs": [],
   "source": [
    "train_df[\"city_num\"]=train_df[\"user_ordernum\"]/train_df[\"user_citynum\"]\n",
    "train_df[\"area_price\"]=train_df[\"user_avgprice\"]/train_df[\"user_avgroomarea\"]\n",
    "train_df[\"price_max_min_rt\"]=train_df[\"user_maxprice\"]/train_df[\"user_minprice\"]\n",
    "train_df[\"basicroomid_price_deduct_min_minprice_rt\"]=train_df[\"basicroomid_price_deduct_min\"]/train_df[\"user_minprice\"]\n",
    "\n",
    "train_df[\"price_dif\"]=train_df[\"basicroomid_price_deduct_min\"]-train_df[\"price_deduct\"]\n",
    "train_df[\"price_dif_hotel\"]=train_df[\"basicroomid_price_deduct_min\"]-train_df[\"hotel_minprice_lastord\"]\n",
    "train_df[\"price_dif_basic\"]=train_df[\"basicroomid_price_deduct_min\"]-train_df[\"basic_minprice_lastord\"]\n",
    "\n",
    "train_df[\"price_dif_rt\"]=train_df[\"basicroomid_price_deduct_min\"]/train_df[\"price_deduct\"]\n",
    "train_df[\"price_dif_hotel_rt\"]=train_df[\"basicroomid_price_deduct_min\"]/train_df[\"hotel_minprice_lastord\"]\n",
    "train_df[\"price_dif_basic_rt\"]=train_df[\"basicroomid_price_deduct_min\"]/train_df[\"basic_minprice_lastord\"]\n",
    "\n",
    "train_df[\"price_dif_hotel\"]=train_df[\"orderid_price_deduct_min\"]-train_df[\"price_deduct\"]\n",
    "train_df[\"price_dif_hotel_hotel\"]=train_df[\"orderid_price_deduct_min\"]-train_df[\"hotel_minprice_lastord\"]\n",
    "train_df[\"price_dif_basic_hotel\"]=train_df[\"orderid_price_deduct_min\"]-train_df[\"basic_minprice_lastord\"]\n",
    "\n",
    "train_df[\"price_dif_hotel_rt\"]=train_df[\"orderid_price_deduct_min\"]/train_df[\"price_deduct\"]\n",
    "train_df[\"price_dif_hotel_hotel_rt\"]=train_df[\"orderid_price_deduct_min\"]/train_df[\"hotel_minprice_lastord\"]\n",
    "train_df[\"price_dif_basic_hotel_rt\"]=train_df[\"orderid_price_deduct_min\"]/train_df[\"basic_minprice_lastord\"]\n",
    "\n",
    "train_df[\"order_basic_minprice_rt\"]=train_df[\"basicroomid_price_deduct_min\"]/train_df[\"orderid_price_deduct_min\"]\n",
    "\n",
    "train_df[\"price_tail1\"]=train_df[\"price_deduct\"]%10\n",
    "train_df.loc[(train_df.price_tail1==4)|(train_df.price_tail1==7), \"price_tail1\"]= 1\n",
    "train_df.loc[(train_df.price_tail1!=4)&(train_df.price_tail1!=7), \"price_tail1\"]= 0\n",
    "\n",
    "\n",
    "train_df[\"price_dx\"] = train_df[\"price_deduct\"] - train_df[\"price_last_lastord\"] \n",
    "\n",
    "train_df[\"return_dx\"] = train_df[\"returnvalue\"] - train_df[\"return_lastord\"]\n",
    "\n",
    "train_df[\"price_ori\"] = train_df[\"price_deduct\"] + train_df[\"returnvalue\"]"
   ]
  },
  {
   "cell_type": "markdown",
   "metadata": {},
   "source": [
    "#### 用户特征价格比较 "
   ]
  },
  {
   "cell_type": "markdown",
   "metadata": {},
   "source": [
    "### orderid特征统计"
   ]
  },
  {
   "cell_type": "code",
   "execution_count": 34,
   "metadata": {
    "collapsed": true
   },
   "outputs": [],
   "source": [
    "group = train_df[['orderid','price_deduct','returnvalue','basic_week_ordernum_ratio','basic_recent3_ordernum_ratio','basic_comment_ratio',\n",
    "               'basic_30days_ordnumratio','basic_30days_realratio']].groupby('orderid')\n",
    "\n",
    "group_min = group.min().reset_index()\n",
    "group_min.columns = group_min.columns.map(lambda x: 'min_'+x if x!='orderid' else x)\n",
    "\n",
    "group_max = group.max().reset_index()\n",
    "group_max.columns = group_max.columns.map(lambda x: 'max_'+x if x!='orderid' else x)\n",
    "\n",
    "\n",
    "group2 = train_df[['orderid','basicroomid','room_30days_ordnumratio','room_30days_realratio']].groupby(['orderid','basicroomid'])\n",
    "\n",
    "group2_min = group2.min().reset_index().rename(columns={'room_30days_ordnumratio':'min_room_30days_ordnumratio','room_30days_realratio':'min_room_30days_realratio'})\n",
    "group2_max = group2.max().reset_index().rename(columns={'room_30days_ordnumratio':'max_room_30days_ordnumratio','room_30days_realratio':'max_room_30days_realratio'})\n",
    "\n",
    "train_df = pd.merge(train_df,group_min,how='left',on='orderid')\n",
    "train_df = pd.merge(train_df,group_max,how='left',on='orderid')\n",
    "train_df = pd.merge(train_df,group2_min,how='left',on=['orderid','basicroomid'])\n",
    "train_df = pd.merge(train_df,group2_max,how='left',on=['orderid','basicroomid'])"
   ]
  },
  {
   "cell_type": "code",
   "execution_count": 35,
   "metadata": {
    "collapsed": true
   },
   "outputs": [],
   "source": [
    "train_df['user_price_deduct_user_maxprice_1week']=train_df.price_deduct-train_df.user_maxprice_1week\n",
    "train_df['user_price_deduct_user_minprice_1week']=train_df.price_deduct-train_df.user_minprice_1week\n",
    "train_df['user_price_deduct_user_maxprice_1month']=train_df.price_deduct-train_df.user_maxprice_1month\n",
    "train_df['user_price_deduct_user_minprice_1month']=train_df.price_deduct-train_df.user_minprice_1month\n",
    "train_df['user_price_deduct_user_maxprice_3month']=train_df.price_deduct-train_df.user_maxprice_3month\n",
    "train_df['user_price_deduct_user_minprice_3month']=train_df.price_deduct-train_df.user_minprice_3month\n",
    "train_df['price_deduct_diff_up2std']=train_df.price_deduct-train_df.user_avgprice+2*train_df.user_stdprice\n",
    "train_df['price_deduct_diff_down2std']=train_df.price_deduct-train_df.user_avgprice-2*train_df.user_stdprice\n",
    "\n",
    "train_df['price_diff_order_min'] = train_df['price_deduct']-train_df['min_price_deduct']\n",
    "train_df['price_diff_user_med_1week'] = train_df['price_deduct']-train_df['user_medprice_1week']\n",
    "train_df['price_diff_user_med_1month'] = train_df['price_deduct']-train_df['user_medprice_1month']\n",
    "train_df['price_diff_user_med_3month'] = train_df['price_deduct']-train_df['user_medprice_3month']"
   ]
  },
  {
   "cell_type": "code",
   "execution_count": 38,
   "metadata": {
    "collapsed": false,
    "scrolled": false
   },
   "outputs": [],
   "source": [
    "train_df.user_avgadvanceddate=train_df.user_avgadvanceddate.apply(round).astype('int')#convert user_avgadvanceddata to int,so we can get real data(orderdate+adv_data)\n",
    "train_df['is_holiday']=(((train_df.order_weekday+train_df.user_avgadvanceddate)%7==0)|((train_df.order_weekday+train_df.user_avgadvanceddate)%7==6)).astype(np.int8)"
   ]
  },
  {
   "cell_type": "code",
   "execution_count": 39,
   "metadata": {
    "collapsed": false
   },
   "outputs": [],
   "source": [
    "train_df['basicroomid_roomid_price_rank']=train_df.groupby(['orderid','basicroomid'])['returnvalue'].rank(method='max')\n",
    "train_df['basicroomid_roomid_price_ismin']=(train_df['basicroomid_roomid_price_rank']==1).astype(np.int8)"
   ]
  },
  {
   "cell_type": "code",
   "execution_count": 40,
   "metadata": {
    "collapsed": true
   },
   "outputs": [],
   "source": [
    "train_df['orderid_roomid_price_rank']=train_df.groupby(['orderid'])['returnvalue'].rank(method='max')\n",
    "train_df['orderid_roomid_price_ismin']=(train_df['orderid_roomid_price_rank']==1).astype(np.int8)"
   ]
  },
  {
   "cell_type": "code",
   "execution_count": 41,
   "metadata": {
    "collapsed": true
   },
   "outputs": [],
   "source": [
    "t=train_df[['orderid','basicroomid','roomid']].drop_duplicates()[['orderid','basicroomid']]     ##how many roomid in each (orderid,basicroomid)\n",
    "t['basicroomid_roomid_cnt']=1\n",
    "t=t.groupby(['orderid','basicroomid']).agg('sum').reset_index()\n",
    "train_df=pd.merge(train_df,t,on=['orderid','basicroomid'],how='left')"
   ]
  },
  {
   "cell_type": "code",
   "execution_count": 42,
   "metadata": {
    "collapsed": true
   },
   "outputs": [],
   "source": [
    "train_df['basicroomid_roomid_rank1']=train_df.groupby(['orderid','basicroomid'])['rank'].rank(method='max')\n",
    "# train_df['basicroomid_roomid_rank1_ismin']=(train_df['basicroomid_roomid_price_rank']==1).astype(np.int8)\n",
    "train_df['basicroomid_roomid_rank1_rate']=train_df.basicroomid_roomid_rank1.astype('float')/train_df.basicroomid_roomid_cnt"
   ]
  },
  {
   "cell_type": "code",
   "execution_count": 25,
   "metadata": {
    "collapsed": false
   },
   "outputs": [
    {
     "data": {
      "text/html": [
       "<div>\n",
       "<style>\n",
       "    .dataframe thead tr:only-child th {\n",
       "        text-align: right;\n",
       "    }\n",
       "\n",
       "    .dataframe thead th {\n",
       "        text-align: left;\n",
       "    }\n",
       "\n",
       "    .dataframe tbody tr th {\n",
       "        vertical-align: top;\n",
       "    }\n",
       "</style>\n",
       "<table border=\"1\" class=\"dataframe\">\n",
       "  <thead>\n",
       "    <tr style=\"text-align: right;\">\n",
       "      <th></th>\n",
       "      <th>0</th>\n",
       "    </tr>\n",
       "  </thead>\n",
       "  <tbody>\n",
       "    <tr>\n",
       "      <th>order_basicroomid_roomid_rank1_rate</th>\n",
       "      <td>0.018116</td>\n",
       "    </tr>\n",
       "    <tr>\n",
       "      <th>order_price_dif_hotel</th>\n",
       "      <td>0.015700</td>\n",
       "    </tr>\n",
       "    <tr>\n",
       "      <th>order_price_dif_hotel_rt</th>\n",
       "      <td>0.014532</td>\n",
       "    </tr>\n",
       "    <tr>\n",
       "      <th>order_price_deduct_rank</th>\n",
       "      <td>0.014532</td>\n",
       "    </tr>\n",
       "    <tr>\n",
       "      <th>order_true_value_rank</th>\n",
       "      <td>0.013908</td>\n",
       "    </tr>\n",
       "    <tr>\n",
       "      <th>order_price_dif</th>\n",
       "      <td>0.013714</td>\n",
       "    </tr>\n",
       "    <tr>\n",
       "      <th>order_price_dif_rt</th>\n",
       "      <td>0.013207</td>\n",
       "    </tr>\n",
       "    <tr>\n",
       "      <th>order_price_ave_star_dif</th>\n",
       "      <td>0.011064</td>\n",
       "    </tr>\n",
       "    <tr>\n",
       "      <th>order_orderbehavior_6_ratio</th>\n",
       "      <td>0.009974</td>\n",
       "    </tr>\n",
       "    <tr>\n",
       "      <th>order_basicroomid_roomid_rank1</th>\n",
       "      <td>0.009272</td>\n",
       "    </tr>\n",
       "    <tr>\n",
       "      <th>order_order_basic_minprice_rt</th>\n",
       "      <td>0.009038</td>\n",
       "    </tr>\n",
       "    <tr>\n",
       "      <th>order_true_value_basic_rank</th>\n",
       "      <td>0.008727</td>\n",
       "    </tr>\n",
       "    <tr>\n",
       "      <th>order_order_hotel_last_price_min_dif</th>\n",
       "      <td>0.008571</td>\n",
       "    </tr>\n",
       "    <tr>\n",
       "      <th>order_this_last_roomservice_4_gap</th>\n",
       "      <td>0.008376</td>\n",
       "    </tr>\n",
       "    <tr>\n",
       "      <th>order_return_dx</th>\n",
       "      <td>0.008259</td>\n",
       "    </tr>\n",
       "    <tr>\n",
       "      <th>order_order_ordertype_9_num</th>\n",
       "      <td>0.008103</td>\n",
       "    </tr>\n",
       "    <tr>\n",
       "      <th>order_roomservice_4</th>\n",
       "      <td>0.007948</td>\n",
       "    </tr>\n",
       "    <tr>\n",
       "      <th>order_roomtag_3</th>\n",
       "      <td>0.007636</td>\n",
       "    </tr>\n",
       "    <tr>\n",
       "      <th>order_rank</th>\n",
       "      <td>0.007480</td>\n",
       "    </tr>\n",
       "    <tr>\n",
       "      <th>order_basicroomid_is_equal</th>\n",
       "      <td>0.007363</td>\n",
       "    </tr>\n",
       "    <tr>\n",
       "      <th>order_rank_roomservice_8</th>\n",
       "      <td>0.007363</td>\n",
       "    </tr>\n",
       "    <tr>\n",
       "      <th>order_price_diff_order_min</th>\n",
       "      <td>0.007324</td>\n",
       "    </tr>\n",
       "    <tr>\n",
       "      <th>order_roomtag_1</th>\n",
       "      <td>0.007091</td>\n",
       "    </tr>\n",
       "    <tr>\n",
       "      <th>order_orderbehavior_8</th>\n",
       "      <td>0.007052</td>\n",
       "    </tr>\n",
       "    <tr>\n",
       "      <th>order_room_30days_realratio</th>\n",
       "      <td>0.006857</td>\n",
       "    </tr>\n",
       "    <tr>\n",
       "      <th>order_basicroomid_price_rank_mean</th>\n",
       "      <td>0.006818</td>\n",
       "    </tr>\n",
       "    <tr>\n",
       "      <th>order_price_diff_user_med_3month</th>\n",
       "      <td>0.006701</td>\n",
       "    </tr>\n",
       "    <tr>\n",
       "      <th>order_order_ordertype_6_num</th>\n",
       "      <td>0.006662</td>\n",
       "    </tr>\n",
       "    <tr>\n",
       "      <th>order_this_last_roomservice_8_gap</th>\n",
       "      <td>0.006545</td>\n",
       "    </tr>\n",
       "    <tr>\n",
       "      <th>order_orderbehavior_7_ratio</th>\n",
       "      <td>0.006506</td>\n",
       "    </tr>\n",
       "    <tr>\n",
       "      <th>...</th>\n",
       "      <td>...</td>\n",
       "    </tr>\n",
       "    <tr>\n",
       "      <th>order_user_roomservice_4_5ratio</th>\n",
       "      <td>0.000000</td>\n",
       "    </tr>\n",
       "    <tr>\n",
       "      <th>order_user_roomservice_4_0ratio_1week</th>\n",
       "      <td>0.000000</td>\n",
       "    </tr>\n",
       "    <tr>\n",
       "      <th>order_max_basic_week_ordernum_ratio</th>\n",
       "      <td>0.000000</td>\n",
       "    </tr>\n",
       "    <tr>\n",
       "      <th>order_max_basic_recent3_ordernum_ratio</th>\n",
       "      <td>0.000000</td>\n",
       "    </tr>\n",
       "    <tr>\n",
       "      <th>order_max_basic_comment_ratio</th>\n",
       "      <td>0.000000</td>\n",
       "    </tr>\n",
       "    <tr>\n",
       "      <th>order_max_basic_30days_ordnumratio</th>\n",
       "      <td>0.000000</td>\n",
       "    </tr>\n",
       "    <tr>\n",
       "      <th>order_roomtag_5_lastord</th>\n",
       "      <td>0.000000</td>\n",
       "    </tr>\n",
       "    <tr>\n",
       "      <th>order_min_room_30days_ordnumratio</th>\n",
       "      <td>0.000000</td>\n",
       "    </tr>\n",
       "    <tr>\n",
       "      <th>order_max_room_30days_ordnumratio</th>\n",
       "      <td>0.000000</td>\n",
       "    </tr>\n",
       "    <tr>\n",
       "      <th>order_basicroomid_roomid_rank1_ismin</th>\n",
       "      <td>0.000000</td>\n",
       "    </tr>\n",
       "    <tr>\n",
       "      <th>order_basicroomid_roomid_price_ismin</th>\n",
       "      <td>0.000000</td>\n",
       "    </tr>\n",
       "    <tr>\n",
       "      <th>order_roomservice_2_lastord</th>\n",
       "      <td>0.000000</td>\n",
       "    </tr>\n",
       "    <tr>\n",
       "      <th>order_room_30days_ordnumratio</th>\n",
       "      <td>0.000000</td>\n",
       "    </tr>\n",
       "    <tr>\n",
       "      <th>order_basic_30days_ordnumratio</th>\n",
       "      <td>0.000000</td>\n",
       "    </tr>\n",
       "    <tr>\n",
       "      <th>order_order_basic_last_price_min_rt</th>\n",
       "      <td>0.000000</td>\n",
       "    </tr>\n",
       "    <tr>\n",
       "      <th>order_order_hotel_last_price_min_rt</th>\n",
       "      <td>0.000000</td>\n",
       "    </tr>\n",
       "    <tr>\n",
       "      <th>order_user_roomservice_4_5ratio_1month</th>\n",
       "      <td>0.000000</td>\n",
       "    </tr>\n",
       "    <tr>\n",
       "      <th>order_price_tail1</th>\n",
       "      <td>0.000000</td>\n",
       "    </tr>\n",
       "    <tr>\n",
       "      <th>order_user_roomservice_4_0ratio_1month</th>\n",
       "      <td>0.000000</td>\n",
       "    </tr>\n",
       "    <tr>\n",
       "      <th>order_min_returnvalue</th>\n",
       "      <td>0.000000</td>\n",
       "    </tr>\n",
       "    <tr>\n",
       "      <th>order_min_basic_week_ordernum_ratio</th>\n",
       "      <td>0.000000</td>\n",
       "    </tr>\n",
       "    <tr>\n",
       "      <th>order_min_basic_recent3_ordernum_ratio</th>\n",
       "      <td>0.000000</td>\n",
       "    </tr>\n",
       "    <tr>\n",
       "      <th>order_user_roomservice_4_5ratio_3month</th>\n",
       "      <td>0.000000</td>\n",
       "    </tr>\n",
       "    <tr>\n",
       "      <th>order_user_roomservice_4_4ratio_3month</th>\n",
       "      <td>0.000000</td>\n",
       "    </tr>\n",
       "    <tr>\n",
       "      <th>order_min_basic_comment_ratio</th>\n",
       "      <td>0.000000</td>\n",
       "    </tr>\n",
       "    <tr>\n",
       "      <th>order_min_basic_30days_ordnumratio</th>\n",
       "      <td>0.000000</td>\n",
       "    </tr>\n",
       "    <tr>\n",
       "      <th>order_user_roomservice_4_0ratio_3month</th>\n",
       "      <td>0.000000</td>\n",
       "    </tr>\n",
       "    <tr>\n",
       "      <th>order_basic_week_ordernum_ratio</th>\n",
       "      <td>0.000000</td>\n",
       "    </tr>\n",
       "    <tr>\n",
       "      <th>order_basic_recent3_ordernum_ratio</th>\n",
       "      <td>0.000000</td>\n",
       "    </tr>\n",
       "    <tr>\n",
       "      <th>order_basic_comment_ratio</th>\n",
       "      <td>0.000000</td>\n",
       "    </tr>\n",
       "  </tbody>\n",
       "</table>\n",
       "<p>299 rows × 1 columns</p>\n",
       "</div>"
      ],
      "text/plain": [
       "                                               0\n",
       "order_basicroomid_roomid_rank1_rate     0.018116\n",
       "order_price_dif_hotel                   0.015700\n",
       "order_price_dif_hotel_rt                0.014532\n",
       "order_price_deduct_rank                 0.014532\n",
       "order_true_value_rank                   0.013908\n",
       "order_price_dif                         0.013714\n",
       "order_price_dif_rt                      0.013207\n",
       "order_price_ave_star_dif                0.011064\n",
       "order_orderbehavior_6_ratio             0.009974\n",
       "order_basicroomid_roomid_rank1          0.009272\n",
       "order_order_basic_minprice_rt           0.009038\n",
       "order_true_value_basic_rank             0.008727\n",
       "order_order_hotel_last_price_min_dif    0.008571\n",
       "order_this_last_roomservice_4_gap       0.008376\n",
       "order_return_dx                         0.008259\n",
       "order_order_ordertype_9_num             0.008103\n",
       "order_roomservice_4                     0.007948\n",
       "order_roomtag_3                         0.007636\n",
       "order_rank                              0.007480\n",
       "order_basicroomid_is_equal              0.007363\n",
       "order_rank_roomservice_8                0.007363\n",
       "order_price_diff_order_min              0.007324\n",
       "order_roomtag_1                         0.007091\n",
       "order_orderbehavior_8                   0.007052\n",
       "order_room_30days_realratio             0.006857\n",
       "order_basicroomid_price_rank_mean       0.006818\n",
       "order_price_diff_user_med_3month        0.006701\n",
       "order_order_ordertype_6_num             0.006662\n",
       "order_this_last_roomservice_8_gap       0.006545\n",
       "order_orderbehavior_7_ratio             0.006506\n",
       "...                                          ...\n",
       "order_user_roomservice_4_5ratio         0.000000\n",
       "order_user_roomservice_4_0ratio_1week   0.000000\n",
       "order_max_basic_week_ordernum_ratio     0.000000\n",
       "order_max_basic_recent3_ordernum_ratio  0.000000\n",
       "order_max_basic_comment_ratio           0.000000\n",
       "order_max_basic_30days_ordnumratio      0.000000\n",
       "order_roomtag_5_lastord                 0.000000\n",
       "order_min_room_30days_ordnumratio       0.000000\n",
       "order_max_room_30days_ordnumratio       0.000000\n",
       "order_basicroomid_roomid_rank1_ismin    0.000000\n",
       "order_basicroomid_roomid_price_ismin    0.000000\n",
       "order_roomservice_2_lastord             0.000000\n",
       "order_room_30days_ordnumratio           0.000000\n",
       "order_basic_30days_ordnumratio          0.000000\n",
       "order_order_basic_last_price_min_rt     0.000000\n",
       "order_order_hotel_last_price_min_rt     0.000000\n",
       "order_user_roomservice_4_5ratio_1month  0.000000\n",
       "order_price_tail1                       0.000000\n",
       "order_user_roomservice_4_0ratio_1month  0.000000\n",
       "order_min_returnvalue                   0.000000\n",
       "order_min_basic_week_ordernum_ratio     0.000000\n",
       "order_min_basic_recent3_ordernum_ratio  0.000000\n",
       "order_user_roomservice_4_5ratio_3month  0.000000\n",
       "order_user_roomservice_4_4ratio_3month  0.000000\n",
       "order_min_basic_comment_ratio           0.000000\n",
       "order_min_basic_30days_ordnumratio      0.000000\n",
       "order_user_roomservice_4_0ratio_3month  0.000000\n",
       "order_basic_week_ordernum_ratio         0.000000\n",
       "order_basic_recent3_ordernum_ratio      0.000000\n",
       "order_basic_comment_ratio               0.000000\n",
       "\n",
       "[299 rows x 1 columns]"
      ]
     },
     "execution_count": 25,
     "metadata": {},
     "output_type": "execute_result"
    }
   ],
   "source": [
    "nidf"
   ]
  },
  {
   "cell_type": "code",
   "execution_count": 24,
   "metadata": {
    "collapsed": false
   },
   "outputs": [
    {
     "data": {
      "text/plain": [
       "0    0.00226\n",
       "Name: order_price_deduct_basic_rank, dtype: float64"
      ]
     },
     "execution_count": 24,
     "metadata": {},
     "output_type": "execute_result"
    }
   ],
   "source": [
    "nidf.loc['order_price_deduct_basic_rank']"
   ]
  },
  {
   "cell_type": "code",
   "execution_count": 56,
   "metadata": {
    "collapsed": false,
    "scrolled": true
   },
   "outputs": [],
   "source": [
    "train_df['true_value_basic_rank']=train_df.groupby(['orderid','basicroomid'])['price_ori'].rank(method='max')\n",
    "train_df['price_deduct_basic_rank']=train_df.groupby(['orderid','basicroomid'])['price_deduct'].rank(method='max')"
   ]
  },
  {
   "cell_type": "code",
   "execution_count": 57,
   "metadata": {
    "collapsed": false
   },
   "outputs": [],
   "source": [
    "train_df['true_value_rank']=train_df.groupby(['orderid'])['price_ori'].rank(method='max')\n",
    "train_df['price_deduct_rank']=train_df.groupby(['orderid'])['price_deduct'].rank(method='max')\n",
    "train_df['basic_minarea_rank']=train_df.groupby(['orderid'])['basic_minarea'].rank(method='max')\n",
    "train_df['basic_maxarea_rank']=train_df.groupby(['orderid'])['basic_maxarea'].rank(method='max')"
   ]
  },
  {
   "cell_type": "code",
   "execution_count": 58,
   "metadata": {
    "collapsed": false
   },
   "outputs": [],
   "source": [
    "train_df['this_last_roomservice_2_gap']=train_df.roomservice_2-train_df.roomservice_2_lastord\n",
    "train_df['this_last_roomservice_3_gap']=train_df.roomservice_3-train_df.roomservice_3_lastord\n",
    "train_df['this_last_roomservice_4_gap']=train_df.roomservice_4-train_df.roomservice_4_lastord\n",
    "train_df['this_last_roomservice_5_gap']=train_df.roomservice_5-train_df.roomservice_5_lastord\n",
    "train_df['this_last_roomservice_6_gap']=train_df.roomservice_6-train_df.roomservice_6_lastord\n",
    "train_df['this_last_roomservice_8_gap']=train_df.roomservice_8-train_df.roomservice_8_lastord\n",
    "train_df['this_last_roomtag_4_gap']=train_df.roomtag_4-train_df.roomtag_4_lastord\n",
    "# train_df['this_last_roomtag_5_gap']=train_df.roomtag_5-train_df.roomtag_5_lastord"
   ]
  },
  {
   "cell_type": "code",
   "execution_count": 59,
   "metadata": {
    "collapsed": true
   },
   "outputs": [],
   "source": [
    "train_df['user_maxprice_hotel_minprice_lastord_gap']=train_df.user_maxprice-train_df.hotel_minprice_lastord\n",
    "train_df['user_maxprice_basic_minprice_lastord_gap']=train_df.user_maxprice-train_df.basic_minprice_lastord\n",
    "train_df['user_minprice_hotel_minprice_lastord_gap']=train_df.user_minprice-train_df.hotel_minprice_lastord\n",
    "train_df['user_minprice_basic_minprice_lastord_gap']=train_df.user_minprice-train_df.basic_minprice_lastord\n",
    "train_df['user_stdprice_hotel_minprice_lastord_gap']=train_df.user_stdprice-train_df.hotel_minprice_lastord\n",
    "train_df['user_stdprice_basic_minprice_lastord_gap']=train_df.user_stdprice-train_df.basic_minprice_lastord"
   ]
  },
  {
   "cell_type": "code",
   "execution_count": 60,
   "metadata": {
    "collapsed": true
   },
   "outputs": [],
   "source": [
    "train_df['user_price_deduct_user_avgdealpriceholiday']=train_df.price_deduct-train_df.user_avgdealpriceholiday\n",
    "train_df['user_price_deduct_user_avgdealpriceworkday']=train_df.price_deduct-train_df.user_avgdealpriceworkday\n",
    "train_df['user_price_deduct_user_avgdealprice']=train_df.price_deduct-train_df.user_avgdealprice\n",
    "train_df['user_price_deduct_user_avgprice_1week']=train_df.price_deduct-train_df.user_avgprice_1week\n",
    "train_df['user_price_deduct_user_avgprice_1month']=train_df.price_deduct-train_df.user_avgprice_1month\n",
    "train_df['user_price_deduct_user_avgprice_3month']=train_df.price_deduct-train_df.user_avgprice_3month"
   ]
  },
  {
   "cell_type": "code",
   "execution_count": 61,
   "metadata": {
    "collapsed": true
   },
   "outputs": [],
   "source": [
    "train_df['this_price_last_avgprice_gap']=train_df.price_deduct-train_df.user_avgprice\n",
    "train_df['this_price_last_maxprice_gap']=train_df.price_deduct-train_df.user_maxprice\n",
    "train_df['this_price_last_minprice_gap']=train_df.price_deduct-train_df.user_minprice"
   ]
  },
  {
   "cell_type": "code",
   "execution_count": 62,
   "metadata": {
    "collapsed": true
   },
   "outputs": [],
   "source": [
    "train_df[\"price_star\"]=train_df[\"price_deduct\"]/(train_df[\"star\"])\n",
    "train_df[\"price_minarea\"]=train_df[\"price_deduct\"]/(train_df[\"basic_minarea\"]-1)\n",
    "\n",
    "train_df[\"star_dif\"]=train_df[\"user_avgstar\"]-train_df[\"star\"]\n",
    "\n",
    "train_df[\"price_ave_dif_rt\"]=train_df[\"price_deduct\"]/train_df[\"user_avgdealprice\"]\n",
    "train_df[\"price_ave_star_dif\"]=train_df[\"price_deduct\"]/train_df[\"user_avgprice_star\"]\n",
    "train_df[\"price_h_w_rt\"]=train_df[\"user_avgdealpriceholiday\"]/train_df[\"user_avgdealpriceworkday\"]\n",
    "\n",
    "train_df[\"price_ave_dif\"] = train_df[\"price_deduct\"] - train_df[\"user_avgdealprice\"]\n"
   ]
  },
  {
   "cell_type": "code",
   "execution_count": 63,
   "metadata": {
    "collapsed": true
   },
   "outputs": [],
   "source": [
    "train_df[\"order_hotel_last_price_min_rt\"]=train_df[\"price_last_lastord\"]/train_df[\"hotel_minprice_lastord\"]\n",
    "train_df[\"order_basic_last_price_min_rt\"]=train_df[\"price_last_lastord\"]/train_df[\"basic_minprice_lastord\"]\n",
    "train_df[\"order_hotel_last_price_min_dif\"]=train_df[\"price_last_lastord\"]-train_df[\"hotel_minprice_lastord\"]\n",
    "train_df[\"order_basic_last_price_min_dif\"]=train_df[\"price_last_lastord\"]-train_df[\"basic_minprice_lastord\"]"
   ]
  },
  {
   "cell_type": "code",
   "execution_count": 64,
   "metadata": {
    "collapsed": false
   },
   "outputs": [],
   "source": [
    "train_df = press_date(train_df, ['order_hotel_last_price_min_rt', 'order_basic_last_price_min_rt', 'order_hotel_last_price_min_dif', 'order_basic_last_price_min_dif'])"
   ]
  },
  {
   "cell_type": "markdown",
   "metadata": {},
   "source": [
    "#### 价格特征综合"
   ]
  },
  {
   "cell_type": "code",
   "execution_count": 66,
   "metadata": {
    "collapsed": true
   },
   "outputs": [],
   "source": [
    "tt=train_df.groupby('orderid')['price_deduct'].agg('median').reset_index()\n",
    "tt.rename(columns={'price_deduct':'price_deduct_median'},inplace=True)\n",
    "train_df=pd.merge(train_df,tt,on='orderid',how='left')\n",
    "\n",
    "tt=train_df.groupby('orderid')['returnvalue'].agg('median').reset_index()\n",
    "tt.rename(columns={'returnvalue':'returnvalue_median'},inplace=True)\n",
    "train_df=pd.merge(train_df,tt,on='orderid',how='left')\n",
    "\n",
    "tt=train_df.groupby('orderid')['price_ori'].agg('median').reset_index()\n",
    "tt.rename(columns={'price_ori':'price_ori_median'},inplace=True)\n",
    "train_df=pd.merge(train_df,tt,on='orderid',how='left')\n",
    "\n",
    "tt=train_df.groupby('orderid')['basic_minarea'].agg('median').reset_index()\n",
    "tt.rename(columns={'basic_minarea':'basic_minarea_median'},inplace=True)\n",
    "train_df=pd.merge(train_df,tt,on='orderid',how='left')\n",
    "\n",
    "tt=train_df.groupby('orderid')['basic_maxarea'].agg('median').reset_index()\n",
    "tt.rename(columns={'basic_maxarea':'basic_maxarea_median'},inplace=True)\n",
    "train_df=pd.merge(train_df,tt,on='orderid',how='left')\n",
    "\n",
    "tt=train_df.groupby('orderid')['price_deduct'].agg('std').reset_index()\n",
    "tt.rename(columns={'price_deduct':'price_deduct_std'},inplace=True)\n",
    "train_df=pd.merge(train_df,tt,on='orderid',how='left')\n",
    "\n",
    "tt=train_df.groupby('orderid')['returnvalue'].agg('std').reset_index()\n",
    "tt.rename(columns={'returnvalue':'returnvalue_std'},inplace=True)\n",
    "train_df=pd.merge(train_df,tt,on='orderid',how='left')\n",
    "\n",
    "tt=train_df.groupby('orderid')['price_ori'].agg('std').reset_index()\n",
    "tt.rename(columns={'price_ori':'price_ori_std'},inplace=True)\n",
    "train_df=pd.merge(train_df,tt,on='orderid',how='left')\n",
    "\n",
    "tt=train_df.groupby('orderid')['basic_minarea'].agg('std').reset_index()\n",
    "tt.rename(columns={'basic_minarea':'basic_minarea_std'},inplace=True)\n",
    "train_df=pd.merge(train_df,tt,on='orderid',how='left')\n",
    "\n",
    "tt=train_df.groupby('orderid')['basic_maxarea'].agg('std').reset_index()\n",
    "tt.rename(columns={'basic_maxarea':'basic_maxarea_std'},inplace=True)\n",
    "train_df=pd.merge(train_df,tt,on='orderid',how='left')"
   ]
  },
  {
   "cell_type": "code",
   "execution_count": 84,
   "metadata": {
    "collapsed": true
   },
   "outputs": [],
   "source": [
    "for c in ['basic_minarea_std', 'basic_maxarea_std']:\n",
    "    train_df[c] = train_df[c].astype(np.float).replace([np.inf, -np.inf], np.nan)"
   ]
  },
  {
   "cell_type": "code",
   "execution_count": 85,
   "metadata": {
    "collapsed": true
   },
   "outputs": [],
   "source": [
    "# train_df = press_date(train_df, ['basic_minarea_std', 'basic_maxarea_std'])"
   ]
  },
  {
   "cell_type": "code",
   "execution_count": 90,
   "metadata": {
    "collapsed": false
   },
   "outputs": [
    {
     "data": {
      "text/plain": [
       "False"
      ]
     },
     "execution_count": 90,
     "metadata": {},
     "output_type": "execute_result"
    }
   ],
   "source": [
    "np.any(np.isinf(train_df.basic_minarea_std))"
   ]
  },
  {
   "cell_type": "code",
   "execution_count": 94,
   "metadata": {
    "collapsed": false
   },
   "outputs": [],
   "source": [
    "train_df['price_deduct_std_rate']=train_df.price_deduct_std/train_df.basicroomid_price_deduct_median\n",
    "train_df['returnvalue_std_rate']=train_df.returnvalue_std/train_df.returnvalue_median\n",
    "train_df['price_ori_std_rate']=train_df.price_ori_std/train_df.price_ori_median\n",
    "train_df['basic_minarea_std_rate']=train_df.basic_minarea_std/train_df.basic_minarea_median\n",
    "train_df['basic_maxarea_std_rate']=train_df.basic_maxarea_std/train_df.basic_maxarea_median"
   ]
  },
  {
   "cell_type": "markdown",
   "metadata": {},
   "source": [
    "#### 价格交叉特征 "
   ]
  },
  {
   "cell_type": "markdown",
   "metadata": {},
   "source": [
    "### 用户价格交叉特征 "
   ]
  },
  {
   "cell_type": "markdown",
   "metadata": {},
   "source": [
    "### 用户特征 "
   ]
  },
  {
   "cell_type": "code",
   "execution_count": 72,
   "metadata": {
    "collapsed": true
   },
   "outputs": [],
   "source": [
    "# train_df[\"user_roomservice_8_2ratio\"]=1-train_df[\"user_roomservice_8_345ratio\"]-train_df[\"user_roomservice_8_1ratio\"]\n",
    "# train_df[\"user_roomservice_4_1ratio_3month\"] = 1 - train_df[\"user_roomservice_4_0ratio_3month\"] - train_df[\"user_roomservice_4_2ratio_3month\"] - train_df[\"user_roomservice_4_3ratio_3month\"] - train_df[\"user_roomservice_4_4ratio_3month\"] - train_df[\"user_roomservice_4_5ratio_3month\"]\n",
    "# train_df[\"user_roomservice_4_1ratio_1month\"] = 1 - train_df[\"user_roomservice_4_0ratio_1month\"] - train_df[\"user_roomservice_4_2ratio_1month\"] - train_df[\"user_roomservice_4_3ratio_1month\"] - train_df[\"user_roomservice_4_4ratio_1month\"] - train_df[\"user_roomservice_4_5ratio_1month\"]\n",
    "# train_df[\"user_roomservice_4_1ratio_1week\"] = 1 - train_df[\"user_roomservice_4_0ratio_1week\"] - train_df[\"user_roomservice_4_2ratio_1week\"] - train_df[\"user_roomservice_4_3ratio_1week\"] - train_df[\"user_roomservice_4_4ratio_1week\"] - train_df[\"user_roomservice_4_5ratio_1week\"]\n",
    "train_df[\"user_roomservice_2_0ratio\"]=1-train_df[\"user_roomservice_2_1ratio\"]\n",
    "train_df[\"user_roomservice_3_0ratio\"]=1-train_df[\"user_roomservice_3_123ratio\"]\n",
    "train_df[\"user_roomservice_5_0ratio\"]=1-train_df[\"user_roomservice_5_1ratio\"]\n",
    "# train_df['user_roomservice_6_other_ratio']=1-train_df.user_roomservice_6_0ratio-train_df.user_roomservice_6_1ratio-train_df.user_roomservice_6_2ratio\n",
    "train_df[\"user_roomservice_7_1ratio\"]=1-train_df[\"user_roomservice_7_0ratio\"]\n",
    "# train_df[\"user_roomservice_2_max\"] = np.argmax(train_df[[\"user_roomservice_2_%sratio\" % i for i in range(2)]].values, axis=1)\n",
    "train_df[\"user_roomservice_3_max\"] = np.argmax(train_df[[\"user_roomservice_3_%sratio\" % i for i in [0,123]]].values, axis=1)\n",
    "train_df[\"user_roomservice_5_max\"] = np.argmax(train_df[[\"user_roomservice_5_%sratio\" % i for i in range(2)]].values, axis=1)\n",
    "train_df[\"user_roomservice_7_max\"] = np.argmax(train_df[[\"user_roomservice_7_%sratio\" % i for i in range(2)]].values, axis=1)\n",
    "train_df[\"user_roomservice_4_max\"]=np.argmax(train_df[[\"user_roomservice_4_%sratio\"%i for i in range(6)]].values,axis=1)\n",
    "train_df[\"user_roomservice_6_max\"]=np.argmax(train_df[[\"user_roomservice_6_%sratio\"%i for i in range(3)]].values,axis=1)\n",
    "train_df[\"user_roomservice_8_max\"]=np.argmax(train_df[[\"user_roomservice_8_%sratio\"%i for i in [1,2,345]]].values,axis=1)\n",
    "train_df[\"user_roomservice_4_max_1week\"]=np.argmax(train_df[[\"user_roomservice_4_%sratio_1month\"%i for i in range(6)]].values,axis=1)\n",
    "train_df[\"user_roomservice_4_max_1month\"]=np.argmax(train_df[[\"user_roomservice_4_%sratio_1month\"%i for i in range(6)]].values,axis=1)\n",
    "train_df[\"user_roomservice_4_max_3month\"]=np.argmax(train_df[[\"user_roomservice_4_%sratio_3month\"%i for i in range(6)]].values,axis=1)\n",
    "train_df[\"roomservice_8\"]=train_df[\"roomservice_8\"].apply(lambda x:2 if x>2 else x-1)\n",
    "train_df[\"roomservice_3\"]=train_df[\"roomservice_3\"].apply(lambda x:1 if x>0 else 0)"
   ]
  },
  {
   "cell_type": "code",
   "execution_count": 16,
   "metadata": {
    "collapsed": true
   },
   "outputs": [
    {
     "data": {
      "text/html": [
       "<div>\n",
       "<style>\n",
       "    .dataframe thead tr:only-child th {\n",
       "        text-align: right;\n",
       "    }\n",
       "\n",
       "    .dataframe thead th {\n",
       "        text-align: left;\n",
       "    }\n",
       "\n",
       "    .dataframe tbody tr th {\n",
       "        vertical-align: top;\n",
       "    }\n",
       "</style>\n",
       "<table border=\"1\" class=\"dataframe\">\n",
       "  <thead>\n",
       "    <tr style=\"text-align: right;\">\n",
       "      <th></th>\n",
       "      <th>roomservice_1</th>\n",
       "      <th>roomservice_2</th>\n",
       "    </tr>\n",
       "  </thead>\n",
       "  <tbody>\n",
       "    <tr>\n",
       "      <th>0</th>\n",
       "      <td>2</td>\n",
       "      <td>0</td>\n",
       "    </tr>\n",
       "    <tr>\n",
       "      <th>1</th>\n",
       "      <td>2</td>\n",
       "      <td>0</td>\n",
       "    </tr>\n",
       "    <tr>\n",
       "      <th>2</th>\n",
       "      <td>2</td>\n",
       "      <td>0</td>\n",
       "    </tr>\n",
       "    <tr>\n",
       "      <th>3</th>\n",
       "      <td>2</td>\n",
       "      <td>0</td>\n",
       "    </tr>\n",
       "    <tr>\n",
       "      <th>4</th>\n",
       "      <td>2</td>\n",
       "      <td>0</td>\n",
       "    </tr>\n",
       "    <tr>\n",
       "      <th>5</th>\n",
       "      <td>2</td>\n",
       "      <td>1</td>\n",
       "    </tr>\n",
       "    <tr>\n",
       "      <th>6</th>\n",
       "      <td>2</td>\n",
       "      <td>0</td>\n",
       "    </tr>\n",
       "    <tr>\n",
       "      <th>7</th>\n",
       "      <td>2</td>\n",
       "      <td>0</td>\n",
       "    </tr>\n",
       "    <tr>\n",
       "      <th>8</th>\n",
       "      <td>2</td>\n",
       "      <td>0</td>\n",
       "    </tr>\n",
       "    <tr>\n",
       "      <th>9</th>\n",
       "      <td>2</td>\n",
       "      <td>0</td>\n",
       "    </tr>\n",
       "  </tbody>\n",
       "</table>\n",
       "</div>"
      ],
      "text/plain": [
       "   roomservice_1  roomservice_2\n",
       "0              2              0\n",
       "1              2              0\n",
       "2              2              0\n",
       "3              2              0\n",
       "4              2              0\n",
       "5              2              1\n",
       "6              2              0\n",
       "7              2              0\n",
       "8              2              0\n",
       "9              2              0"
      ]
     },
     "execution_count": 16,
     "metadata": {},
     "output_type": "execute_result"
    }
   ],
   "source": [
    "train_df[['roomservice_1', 'roomservice_2']].iloc[:10]"
   ]
  },
  {
   "cell_type": "code",
   "execution_count": 18,
   "metadata": {
    "collapsed": false
   },
   "outputs": [
    {
     "data": {
      "text/plain": [
       "array([0, 0, 0, 0, 0, 0, 0, 0, 0, 0])"
      ]
     },
     "execution_count": 18,
     "metadata": {},
     "output_type": "execute_result"
    }
   ],
   "source": [
    "np.argmax(train_df[['roomservice_1', 'roomservice_2']].iloc[:10].values, axis=1)"
   ]
  },
  {
   "cell_type": "code",
   "execution_count": 14,
   "metadata": {
    "collapsed": false
   },
   "outputs": [
    {
     "ename": "TypeError",
     "evalue": "argmax() got multiple values for argument 'axis'",
     "output_type": "error",
     "traceback": [
      "\u001b[1;31m\u001b[0m",
      "\u001b[1;31mTypeError\u001b[0mTraceback (most recent call last)",
      "\u001b[1;32m<ipython-input-14-8efa95b76a1e>\u001b[0m in \u001b[0;36m<module>\u001b[1;34m()\u001b[0m\n\u001b[1;32m----> 1\u001b[1;33m \u001b[0mnp\u001b[0m\u001b[1;33m.\u001b[0m\u001b[0margmax\u001b[0m\u001b[1;33m(\u001b[0m\u001b[0mpd\u001b[0m\u001b[1;33m.\u001b[0m\u001b[0mSeries\u001b[0m\u001b[1;33m(\u001b[0m\u001b[1;33m[\u001b[0m\u001b[1;36m6\u001b[0m\u001b[1;33m,\u001b[0m \u001b[1;36m7\u001b[0m\u001b[1;33m]\u001b[0m\u001b[1;33m)\u001b[0m\u001b[1;33m,\u001b[0m \u001b[0mpd\u001b[0m\u001b[1;33m.\u001b[0m\u001b[0mSeries\u001b[0m\u001b[1;33m(\u001b[0m\u001b[1;33m[\u001b[0m\u001b[1;36m4\u001b[0m\u001b[1;33m,\u001b[0m \u001b[1;36m0\u001b[0m\u001b[1;33m]\u001b[0m\u001b[1;33m)\u001b[0m\u001b[1;33m,\u001b[0m \u001b[0maxis\u001b[0m\u001b[1;33m=\u001b[0m\u001b[1;36m1\u001b[0m\u001b[1;33m)\u001b[0m\u001b[1;33m\u001b[0m\u001b[0m\n\u001b[0m",
      "\u001b[1;31mTypeError\u001b[0m: argmax() got multiple values for argument 'axis'"
     ]
    }
   ],
   "source": [
    "np.argmax(pd.Series([6, 7]), pd.Series([4, 0]), axis=1)"
   ]
  },
  {
   "cell_type": "code",
   "execution_count": 9,
   "metadata": {
    "collapsed": false
   },
   "outputs": [
    {
     "data": {
      "text/plain": [
       "0    0.002961\n",
       "Name: order_roomservice_8, dtype: float64"
      ]
     },
     "execution_count": 9,
     "metadata": {},
     "output_type": "execute_result"
    }
   ],
   "source": [
    "idf.loc['order_roomservice_8']"
   ]
  },
  {
   "cell_type": "code",
   "execution_count": 7,
   "metadata": {
    "collapsed": false
   },
   "outputs": [
    {
     "data": {
      "text/plain": [
       "1    395710\n",
       "2    287386\n",
       "5    173841\n",
       "4    145700\n",
       "3     92189\n",
       "Name: roomservice_8, dtype: int64"
      ]
     },
     "execution_count": 7,
     "metadata": {},
     "output_type": "execute_result"
    }
   ],
   "source": [
    "train_df.roomservice_8.value_counts()"
   ]
  },
  {
   "cell_type": "code",
   "execution_count": 73,
   "metadata": {
    "collapsed": false
   },
   "outputs": [],
   "source": [
    "for i in [1,2,3,4,5,6,7,8,9,10,11]:\n",
    "    train_df[\"order_ordertype_%s_num\"%i] = train_df[\"ordertype_%s_ratio\"%i] * train_df[\"user_ordernum\"]\n",
    "    del train_df[\"ordertype_%s_ratio\"%i]\n",
    "\n",
    "for c in [\"orderbehavior_1_ratio\",\"orderbehavior_2_ratio\",\"orderbehavior_6_ratio\",\"orderbehavior_7_ratio\"]:\n",
    "    train_df[c]= train_df[c] * train_df[\"user_ordernum\"]\n",
    "\n",
    "for c in [\"orderbehavior_3_ratio_1week\",\"orderbehavior_4_ratio_1week\",\"orderbehavior_5_ratio_1week\"]:\n",
    "    train_df[c]= train_df[c] * train_df[\"user_ordnum_1week\"]\n",
    "\n",
    "for c in [\"orderbehavior_3_ratio_3month\",\"orderbehavior_4_ratio_3month\",\"orderbehavior_5_ratio_3month\"]:\n",
    "    train_df[c]= train_df[c] * train_df[\"user_ordnum_3month\"]"
   ]
  },
  {
   "cell_type": "code",
   "execution_count": 74,
   "metadata": {
    "collapsed": false
   },
   "outputs": [],
   "source": [
    "train_df['orderspan'] = (now_date - train_df['orderdate_lastord']).dt.days.astype(np.float16)"
   ]
  },
  {
   "cell_type": "code",
   "execution_count": 75,
   "metadata": {
    "collapsed": false
   },
   "outputs": [],
   "source": [
    "train_df['orderhour'] = train_df['orderdate'].dt.hour.astype(np.int8)"
   ]
  },
  {
   "cell_type": "markdown",
   "metadata": {},
   "source": [
    "## 交叉特征"
   ]
  },
  {
   "cell_type": "code",
   "execution_count": 76,
   "metadata": {
    "collapsed": true
   },
   "outputs": [],
   "source": [
    "train_df['rank_roomservice_8'] = (\n",
    "    train_df['roomservice_8'].astype(str) +\n",
    "    train_df['rank'].astype(str)).astype('category').cat.codes"
   ]
  },
  {
   "cell_type": "code",
   "execution_count": null,
   "metadata": {
    "collapsed": true
   },
   "outputs": [],
   "source": [
    "not_use_in_sample_cols = ['orderdate', 'orderdate_lastord', 'user_roomservice_6_1ratio',\n",
    "                         'user_roomservice_5_1ratio', 'user_roomservice_2_1ratio',\n",
    "                         'user_roomservice_8_345ratio', 'user_roomservice_4_5ratio_1week',\n",
    "                         'user_avgroomarea', 'user_roomservice_4_0ratio',\n",
    "                         'user_roomservice_4_0ratio_3month', 'min_returnvalue', 'min_basic_week_ordernum_ratio',\n",
    "                         'min_basic_recent3_ordernum_ratio', 'user_roomservice_4_5ratio_3month',\n",
    "                         'user_roomservice_4_5ratio_3month', 'user_roomservice_4_4ratio_3month',\n",
    "                         'min_basic_comment_ratio', 'min_basic_30days_ordnumratio', 'basic_week_ordernum_ratio',\n",
    "                         'basic_recent3_ordernum_ratio', 'basic_comment_ratio']"
   ]
  },
  {
   "cell_type": "code",
   "execution_count": 77,
   "metadata": {
    "collapsed": true
   },
   "outputs": [],
   "source": [
    "use_cols = [x for x in train_df.columns if x not in not_use_in_sample_cols]"
   ]
  },
  {
   "cell_type": "code",
   "execution_count": 95,
   "metadata": {
    "collapsed": true
   },
   "outputs": [
    {
     "name": "stderr",
     "output_type": "stream",
     "text": [
      "/home/zhanglun/notebook/room/code/utils.py:30: UserWarning: column  basicroomid__basic_week_ordernum_ratio_mad is  may be error when meet percent max:0.0\n",
      "  warn('column  {} is  may be error when meet percent max:{}'.format(c, c_max))\n",
      "/home/zhanglun/notebook/room/code/utils.py:30: UserWarning: column  basicroomid__basic_week_ordernum_ratio_var is  may be error when meet percent max:0.0\n",
      "  warn('column  {} is  may be error when meet percent max:{}'.format(c, c_max))\n",
      "/home/zhanglun/notebook/room/code/utils.py:30: UserWarning: column  basicroomid__basic_recent3_ordernum_ratio_mad is  may be error when meet percent max:0.0\n",
      "  warn('column  {} is  may be error when meet percent max:{}'.format(c, c_max))\n",
      "/home/zhanglun/notebook/room/code/utils.py:30: UserWarning: column  basicroomid__basic_recent3_ordernum_ratio_var is  may be error when meet percent max:0.0\n",
      "  warn('column  {} is  may be error when meet percent max:{}'.format(c, c_max))\n",
      "/home/zhanglun/notebook/room/code/utils.py:30: UserWarning: column  basicroomid__basic_comment_ratio_mad is  may be error when meet percent max:0.0\n",
      "  warn('column  {} is  may be error when meet percent max:{}'.format(c, c_max))\n",
      "/home/zhanglun/notebook/room/code/utils.py:30: UserWarning: column  basicroomid__basic_comment_ratio_var is  may be error when meet percent max:0.0\n",
      "  warn('column  {} is  may be error when meet percent max:{}'.format(c, c_max))\n",
      "/home/zhanglun/notebook/room/code/utils.py:30: UserWarning: column  basicroomid__basic_30days_ordnumratio_mad is  may be error when meet percent max:0.0\n",
      "  warn('column  {} is  may be error when meet percent max:{}'.format(c, c_max))\n",
      "/home/zhanglun/notebook/room/code/utils.py:30: UserWarning: column  basicroomid__basic_30days_ordnumratio_var is  may be error when meet percent max:0.0\n",
      "  warn('column  {} is  may be error when meet percent max:{}'.format(c, c_max))\n",
      "/home/zhanglun/notebook/room/code/utils.py:30: UserWarning: column  basicroomid__room_30days_ordnumratio_std is  may be error when meet percent max:0.0\n",
      "  warn('column  {} is  may be error when meet percent max:{}'.format(c, c_max))\n",
      "/home/zhanglun/notebook/room/code/utils.py:30: UserWarning: column  basicroomid__room_30days_ordnumratio_var is  may be error when meet percent max:0.0\n",
      "  warn('column  {} is  may be error when meet percent max:{}'.format(c, c_max))\n",
      "/home/zhanglun/notebook/room/code/utils.py:30: UserWarning: column  basicroomid__room_30days_ordnumratio_mad is  may be error when meet percent max:0.0\n",
      "  warn('column  {} is  may be error when meet percent max:{}'.format(c, c_max))\n",
      "/home/zhanglun/notebook/room/code/utils.py:30: UserWarning: column  roomid_is_equal is  may be error when meet percent max:0.0\n",
      "  warn('column  {} is  may be error when meet percent max:{}'.format(c, c_max))\n",
      "/home/zhanglun/notebook/room/code/utils.py:30: UserWarning: column  price_tail1 is  may be error when meet percent max:0\n",
      "  warn('column  {} is  may be error when meet percent max:{}'.format(c, c_max))\n"
     ]
    }
   ],
   "source": [
    "train_df = press_date(train_df, [x for x in use_cols if x not in ['orderlabel']])"
   ]
  },
  {
   "cell_type": "code",
   "execution_count": 96,
   "metadata": {
    "collapsed": true
   },
   "outputs": [],
   "source": [
    "sample = train_df[use_cols]"
   ]
  },
  {
   "cell_type": "code",
   "execution_count": 97,
   "metadata": {
    "collapsed": true
   },
   "outputs": [],
   "source": [
    "not_rename  += [\n",
    "        'orderid', 'uid', 'hotelid', 'basicroomid', 'hotel_roomid', 'roomid',\n",
    "        'orderlabel'\n",
    "    ]"
   ]
  },
  {
   "cell_type": "code",
   "execution_count": 98,
   "metadata": {
    "collapsed": false
   },
   "outputs": [
    {
     "name": "stderr",
     "output_type": "stream",
     "text": [
      "/home/zhanglun/.pyenv/versions/anaconda3-4.1.0/lib/python3.5/site-packages/pandas/core/frame.py:2746: SettingWithCopyWarning: \n",
      "A value is trying to be set on a copy of a slice from a DataFrame\n",
      "\n",
      "See the caveats in the documentation: http://pandas.pydata.org/pandas-docs/stable/indexing.html#indexing-view-versus-copy\n",
      "  **kwargs)\n"
     ]
    }
   ],
   "source": [
    "sample.rename_axis({x:'orderid_'+ x for x in use_cols if x not in not_rename}, inplace=True, axis='columns')"
   ]
  },
  {
   "cell_type": "code",
   "execution_count": 99,
   "metadata": {
    "collapsed": false
   },
   "outputs": [
    {
     "data": {
      "text/plain": [
       "(1094826, 486)"
      ]
     },
     "execution_count": 99,
     "metadata": {},
     "output_type": "execute_result"
    }
   ],
   "source": [
    "sample.shape"
   ]
  },
  {
   "cell_type": "code",
   "execution_count": 100,
   "metadata": {
    "collapsed": false
   },
   "outputs": [
    {
     "name": "stdout",
     "output_type": "stream",
     "text": [
      "2017-08-06 11:36:52.078440 save to ../dataset/train/order_feature.pkl\n"
     ]
    }
   ],
   "source": [
    "sample.to_pickle(feature_path)\n",
    "\n",
    "print(datetime.now(), 'save to', feature_path)"
   ]
  }
 ],
 "metadata": {
  "anaconda-cloud": {},
  "hide_input": false,
  "kernelspec": {
   "display_name": "Python 3",
   "language": "python",
   "name": "python3"
  },
  "language_info": {
   "codemirror_mode": {
    "name": "ipython",
    "version": 3
   },
   "file_extension": ".py",
   "mimetype": "text/x-python",
   "name": "python",
   "nbconvert_exporter": "python",
   "pygments_lexer": "ipython3",
   "version": "3.5.1"
  }
 },
 "nbformat": 4,
 "nbformat_minor": 2
}
