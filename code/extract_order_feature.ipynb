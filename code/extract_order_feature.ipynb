{
 "cells": [
  {
   "cell_type": "code",
   "execution_count": 1,
   "metadata": {
    "collapsed": true
   },
   "outputs": [],
   "source": [
    "import sys\n",
    "from datetime import datetime\n",
    "from os.path import join\n",
    "from warnings import warn\n",
    "from itertools import chain\n",
    "\n",
    "import numpy as np\n",
    "import pandas as pd\n",
    "import scipy as sp\n",
    "\n",
    "from utils import *"
   ]
  },
  {
   "cell_type": "code",
   "execution_count": 2,
   "metadata": {
    "collapsed": true
   },
   "outputs": [],
   "source": [
    "dir_arg = sys.argv[1]\n",
    "if dir_arg == '-f':\n",
    "    file_dir = join('..', 'dataset', '11')\n",
    "else:\n",
    "    file_dir = join('..', 'dataset',  dir_arg)"
   ]
  },
  {
   "cell_type": "code",
   "execution_count": 3,
   "metadata": {
    "collapsed": false
   },
   "outputs": [
    {
     "name": "stdout",
     "output_type": "stream",
     "text": [
      "2017-07-31 07:17:30.302031 2017-06-11\n",
      "2017-07-31 07:17:30.302249\n",
      "--------------------\n",
      "uid uniuqe shape 3552\n",
      "hotelid uniuqe shape 3194\n",
      "basicroomid uniuqe shape 19542\n",
      "roomid uniuqe shape 121802\n",
      "--------------------\n"
     ]
    }
   ],
   "source": [
    "train_df = pd.read_pickle(join(file_dir, 'base_feauture.pkl'))\n",
    "\n",
    "now_date = train_df.orderdate.max().date()\n",
    "print(datetime.now(), now_date)\n",
    "\n",
    "uid_shape, hotelid_shape, basicroomid_shape, roomid_shape = print_shape(\n",
    "    train_df, ['uid', 'hotelid', 'basicroomid', 'roomid'])"
   ]
  },
  {
   "cell_type": "code",
   "execution_count": 4,
   "metadata": {
    "collapsed": false
   },
   "outputs": [
    {
     "name": "stdout",
     "output_type": "stream",
     "text": [
      "2017-07-31 07:17:30.324035 begin ../dataset/11/order_feature.pkl\n"
     ]
    }
   ],
   "source": [
    "feature_path = join(file_dir, 'order_feature.pkl')\n",
    "print(datetime.now(), 'begin', feature_path)"
   ]
  },
  {
   "cell_type": "code",
   "execution_count": 5,
   "metadata": {
    "collapsed": false
   },
   "outputs": [],
   "source": [
    "train_df['orderspan'] = (now_date - train_df['orderdate_lastord']).dt.days.astype(np.float16)"
   ]
  },
  {
   "cell_type": "code",
   "execution_count": 6,
   "metadata": {
    "collapsed": false
   },
   "outputs": [],
   "source": [
    "train_df['orderhour'] = train_df['orderdate'].dt.hour.astype(np.int8)"
   ]
  },
  {
   "cell_type": "code",
   "execution_count": 12,
   "metadata": {
    "collapsed": true
   },
   "outputs": [],
   "source": [
    "order_cols = ['orderhour', 'orderid', 'uid', 'hotelid', 'basicroomid', 'hotel_roomid', 'roomid', 'orderlabel',\n",
    "             'orderspan']"
   ]
  },
  {
   "cell_type": "code",
   "execution_count": 13,
   "metadata": {
    "collapsed": true
   },
   "outputs": [],
   "source": [
    "room_service = ['roomservice_%d' % i for i in range(1, 9)]"
   ]
  },
  {
   "cell_type": "code",
   "execution_count": 14,
   "metadata": {
    "collapsed": false
   },
   "outputs": [],
   "source": [
    "room_tag = ['roomtag_%d' % i for i in range(1, 5)]"
   ]
  },
  {
   "cell_type": "code",
   "execution_count": 15,
   "metadata": {
    "collapsed": true
   },
   "outputs": [],
   "source": [
    "total_cols = list(chain(order_cols, room_service, room_tag))"
   ]
  },
  {
   "cell_type": "code",
   "execution_count": 16,
   "metadata": {
    "collapsed": false
   },
   "outputs": [],
   "source": [
    "sample = train_df[total_cols]"
   ]
  },
  {
   "cell_type": "code",
   "execution_count": 17,
   "metadata": {
    "collapsed": false
   },
   "outputs": [
    {
     "name": "stdout",
     "output_type": "stream",
     "text": [
      "2017-07-31 07:18:37.927224 save to ../dataset/11/order_feature.pkl\n"
     ]
    }
   ],
   "source": [
    "sample.to_pickle(feature_path)\n",
    "\n",
    "print(datetime.now(), 'save to', feature_path)"
   ]
  }
 ],
 "metadata": {
  "anaconda-cloud": {},
  "hide_input": false,
  "kernelspec": {
   "display_name": "Python 3",
   "language": "python",
   "name": "python3"
  },
  "language_info": {
   "codemirror_mode": {
    "name": "ipython",
    "version": 3
   },
   "file_extension": ".py",
   "mimetype": "text/x-python",
   "name": "python",
   "nbconvert_exporter": "python",
   "pygments_lexer": "ipython3",
   "version": "3.5.1"
  }
 },
 "nbformat": 4,
 "nbformat_minor": 2
}
