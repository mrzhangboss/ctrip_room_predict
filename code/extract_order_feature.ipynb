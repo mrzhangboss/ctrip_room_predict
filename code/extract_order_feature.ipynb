{
 "cells": [
  {
   "cell_type": "code",
   "execution_count": 2,
   "metadata": {
    "collapsed": true
   },
   "outputs": [],
   "source": [
    "import sys\n",
    "from datetime import datetime\n",
    "from os.path import join\n",
    "from warnings import warn\n",
    "from itertools import chain\n",
    "\n",
    "import numpy as np\n",
    "import pandas as pd\n",
    "import scipy as sp\n",
    "\n",
    "from utils import *"
   ]
  },
  {
   "cell_type": "code",
   "execution_count": 3,
   "metadata": {
    "collapsed": true
   },
   "outputs": [],
   "source": [
    "dir_arg = sys.argv[1]\n",
    "if dir_arg == '-f':\n",
    "    file_dir = join('..', 'dataset', 'train')\n",
    "else:\n",
    "    file_dir = join('..', 'dataset',  dir_arg)"
   ]
  },
  {
   "cell_type": "code",
   "execution_count": 4,
   "metadata": {
    "collapsed": false
   },
   "outputs": [
    {
     "name": "stdout",
     "output_type": "stream",
     "text": [
      "2017-08-05 21:30:03.656572 2017-06-11\n",
      "2017-08-05 21:30:03.656771\n",
      "--------------------\n",
      "uid uniuqe shape 29960\n",
      "hotelid uniuqe shape 18543\n",
      "basicroomid uniuqe shape 108611\n",
      "roomid uniuqe shape 804370\n",
      "--------------------\n"
     ]
    }
   ],
   "source": [
    "train_df = pd.read_pickle(join(file_dir, 'base_feauture.pkl'))\n",
    "\n",
    "now_date = train_df.orderdate.max().date()\n",
    "print(datetime.now(), now_date)\n",
    "\n",
    "uid_shape, hotelid_shape, basicroomid_shape, roomid_shape = print_shape(\n",
    "    train_df, ['uid', 'hotelid', 'basicroomid', 'roomid'])"
   ]
  },
  {
   "cell_type": "code",
   "execution_count": 5,
   "metadata": {
    "collapsed": false
   },
   "outputs": [
    {
     "name": "stdout",
     "output_type": "stream",
     "text": [
      "2017-08-05 21:30:03.733863 begin ../dataset/train/order_feature.pkl\n"
     ]
    }
   ],
   "source": [
    "feature_path = join(file_dir, 'order_feature.pkl')\n",
    "print(datetime.now(), 'begin', feature_path)"
   ]
  },
  {
   "cell_type": "code",
   "execution_count": 6,
   "metadata": {
    "collapsed": true
   },
   "outputs": [],
   "source": [
    "# 每个basicid价格的中位数\n",
    "def df_median(df):\n",
    "    add = pd.DataFrame(df.groupby([\"orderid\", \"basicroomid\"]).price_deduct.median()).reset_index()\n",
    "    add.columns = [\"orderid\", \"basicroomid\", \"basicroomid_price_deduct_median\"]\n",
    "    df = df.merge(add, on=[\"orderid\", \"basicroomid\"], how=\"left\")\n",
    "    return df\n",
    "\n",
    "# 每个basicid价格的最小值\n",
    "def df_min(df):\n",
    "    add = pd.DataFrame(df.groupby([\"orderid\", \"basicroomid\"]).price_deduct.min()).reset_index()\n",
    "    add.columns = [\"orderid\", \"basicroomid\", \"basicroomid_price_deduct_min\"]\n",
    "    df = df.merge(add, on=[\"orderid\", \"basicroomid\"], how=\"left\")\n",
    "    return df\n",
    "\n",
    "# 每个orderid价格的最小值\n",
    "def df_min_orderid(df):\n",
    "    add = pd.DataFrame(df.groupby([\"orderid\"]).price_deduct.min()).reset_index()\n",
    "    add.columns = [\"orderid\", \"orderid_price_deduct_min\"]\n",
    "    df = df.merge(add, on=[\"orderid\"], how=\"left\")\n",
    "    return df\n",
    "\n",
    "#排序特征\n",
    "def df_rank_mean(df):\n",
    "    add = pd.DataFrame(df.groupby([\"basicroomid\"]).orderid_price_deduct_min_rank.mean()).reset_index()\n",
    "    add.columns = [\"basicroomid\",\"orderid_price_deduct_min_rank_mean\"]\n",
    "    df = df.merge(add, on=[\"basicroomid\"], how=\"left\")\n",
    "    return df\n",
    "\n",
    "def df_roomrank_mean(df):\n",
    "    add = pd.DataFrame(df.groupby([\"roomid\"]).basicroomid_price_rank.mean()).reset_index()\n",
    "    add.columns = [\"roomid\",\"basicroomid_price_rank_mean\"]\n",
    "    df = df.merge(add, on=[\"roomid\"], how=\"left\")\n",
    "    return df"
   ]
  },
  {
   "cell_type": "markdown",
   "metadata": {},
   "source": [
    "## 基础特征"
   ]
  },
  {
   "cell_type": "markdown",
   "metadata": {},
   "source": [
    "#### 排序特征"
   ]
  },
  {
   "cell_type": "code",
   "execution_count": 15,
   "metadata": {
    "collapsed": false
   },
   "outputs": [],
   "source": [
    "train_df=df_median(train_df)\n",
    "train_df=df_min(train_df)\n",
    "train_df=df_min_orderid(train_df)"
   ]
  },
  {
   "cell_type": "code",
   "execution_count": 17,
   "metadata": {
    "collapsed": true
   },
   "outputs": [],
   "source": [
    "train_df['basicroomid_price_rank'] = train_df['price_deduct'].groupby([train_df['orderid'], train_df['basicroomid']]).rank()"
   ]
  },
  {
   "cell_type": "code",
   "execution_count": 21,
   "metadata": {
    "collapsed": true
   },
   "outputs": [],
   "source": [
    "train_df = df_roomrank_mean(train_df)"
   ]
  },
  {
   "cell_type": "code",
   "execution_count": 26,
   "metadata": {
    "collapsed": false
   },
   "outputs": [],
   "source": [
    "train_df[\"orderid_price_deduct_min_rank\"] = train_df['orderid_price_deduct_min'].groupby(train_df['orderid']).rank()"
   ]
  },
  {
   "cell_type": "code",
   "execution_count": 30,
   "metadata": {
    "collapsed": false
   },
   "outputs": [],
   "source": [
    "train_df = df_rank_mean(train_df)"
   ]
  },
  {
   "cell_type": "code",
   "execution_count": 8,
   "metadata": {
    "collapsed": false
   },
   "outputs": [],
   "source": [
    "# train_df = press_date(train_df, ['order_basicroomid_price_rank'])"
   ]
  },
  {
   "cell_type": "markdown",
   "metadata": {},
   "source": [
    "### 上次订购的价格和当时最低价的比"
   ]
  },
  {
   "cell_type": "code",
   "execution_count": 40,
   "metadata": {
    "collapsed": false
   },
   "outputs": [],
   "source": [
    "for i in range(2, 9):\n",
    "    t = 'roomservice_%d' % i\n",
    "    if i != 7:\n",
    "        train_df[t + '_is_equal'] = (train_df[t] == train_df[t+'_lastord']).astype(np.int8)\n",
    "        train_df.loc[train_df.orderdate_lastord.isnull(), t + '_is_equal'] = np.nan"
   ]
  },
  {
   "cell_type": "code",
   "execution_count": 13,
   "metadata": {
    "collapsed": true
   },
   "outputs": [],
   "source": [
    "for i in range(2, 5):\n",
    "    t = 'roomtag_%d' % i\n",
    "    train_df[t + '_is_equal'] = (train_df[t] == train_df[t+'_lastord']).astype(np.int8)\n",
    "    train_df.loc[train_df.orderdate_lastord.isnull(), t + '_is_equal'] = np.nan"
   ]
  },
  {
   "cell_type": "code",
   "execution_count": 14,
   "metadata": {
    "collapsed": true
   },
   "outputs": [],
   "source": [
    "for t in ['rank', 'star', 'basicroomid', 'roomid', 'hotelid']:\n",
    "    train_df[t + '_is_equal'] = (train_df[t] == train_df[t+'_lastord']).astype(np.int8)\n",
    "    train_df.loc[train_df.orderdate_lastord.isnull(), t + '_is_equal'] = np.nan"
   ]
  },
  {
   "cell_type": "code",
   "execution_count": 45,
   "metadata": {
    "collapsed": false
   },
   "outputs": [],
   "source": [
    "train_df['order_weekday'] = train_df.orderdate.dt.weekday"
   ]
  },
  {
   "cell_type": "code",
   "execution_count": 47,
   "metadata": {
    "collapsed": false
   },
   "outputs": [],
   "source": [
    "train_df['order_weekday_lastord'] = train_df.orderdate_lastord.dt.weekday"
   ]
  },
  {
   "cell_type": "code",
   "execution_count": 15,
   "metadata": {
    "collapsed": false
   },
   "outputs": [],
   "source": [
    "train_df[\"city_num\"]=train_df[\"user_ordernum\"]/train_df[\"user_citynum\"]\n",
    "train_df[\"area_price\"]=train_df[\"user_avgprice\"]/train_df[\"user_avgroomarea\"]\n",
    "train_df[\"price_max_min_rt\"]=train_df[\"user_maxprice\"]/train_df[\"user_minprice\"]\n",
    "train_df[\"basicroomid_price_deduct_min_minprice_rt\"]=train_df[\"basicroomid_price_deduct_min\"]/train_df[\"user_minprice\"]\n",
    "\n",
    "train_df[\"price_dif\"]=train_df[\"basicroomid_price_deduct_min\"]-train_df[\"price_deduct\"]\n",
    "train_df[\"price_dif_hotel\"]=train_df[\"basicroomid_price_deduct_min\"]-train_df[\"hotel_minprice_lastord\"]\n",
    "train_df[\"price_dif_basic\"]=train_df[\"basicroomid_price_deduct_min\"]-train_df[\"basic_minprice_lastord\"]\n",
    "\n",
    "train_df[\"price_dif_rt\"]=train_df[\"basicroomid_price_deduct_min\"]/train_df[\"price_deduct\"]\n",
    "train_df[\"price_dif_hotel_rt\"]=train_df[\"basicroomid_price_deduct_min\"]/train_df[\"hotel_minprice_lastord\"]\n",
    "train_df[\"price_dif_basic_rt\"]=train_df[\"basicroomid_price_deduct_min\"]/train_df[\"basic_minprice_lastord\"]\n",
    "\n",
    "train_df[\"price_dif_hotel\"]=train_df[\"orderid_price_deduct_min\"]-train_df[\"price_deduct\"]\n",
    "train_df[\"price_dif_hotel_hotel\"]=train_df[\"orderid_price_deduct_min\"]-train_df[\"hotel_minprice_lastord\"]\n",
    "train_df[\"price_dif_basic_hotel\"]=train_df[\"orderid_price_deduct_min\"]-train_df[\"basic_minprice_lastord\"]\n",
    "\n",
    "train_df[\"price_dif_hotel_rt\"]=train_df[\"orderid_price_deduct_min\"]/train_df[\"price_deduct\"]\n",
    "train_df[\"price_dif_hotel_hotel_rt\"]=train_df[\"orderid_price_deduct_min\"]/train_df[\"hotel_minprice_lastord\"]\n",
    "train_df[\"price_dif_basic_hotel_rt\"]=train_df[\"orderid_price_deduct_min\"]/train_df[\"basic_minprice_lastord\"]\n",
    "\n",
    "train_df[\"order_basic_minprice_rt\"]=train_df[\"basicroomid_price_deduct_min\"]/train_df[\"orderid_price_deduct_min\"]\n",
    "\n",
    "\n",
    "\n",
    "train_df[\"price_tail1\"]=train_df[\"price_deduct\"]%10\n",
    "# train_df.loc[(train_df.price_tail1==4)|(train_df.price_tail1==7), \"price_tail1\"]= 1\n",
    "# train_df.loc[(train_df.price_tail1!=4)&(train_df.price_tail1!=7), \"price_tail1\"]= 0\n",
    "\n",
    "\n",
    "train_df[\"price_dx\"] = train_df[\"price_deduct\"] - train_df[\"price_last_lastord\"] \n",
    "\n",
    "train_df[\"return_dx\"] = train_df[\"returnvalue\"] - train_df[\"return_lastord\"]\n",
    "\n",
    "train_df[\"price_ori\"] = train_df[\"price_deduct\"] + train_df[\"returnvalue\"]\n"
   ]
  },
  {
   "cell_type": "code",
   "execution_count": 16,
   "metadata": {
    "collapsed": true
   },
   "outputs": [],
   "source": [
    "train_df[\"price_star\"]=train_df[\"price_deduct\"]/(train_df[\"star\"])\n",
    "train_df[\"price_minarea\"]=train_df[\"price_deduct\"]/(train_df[\"basic_minarea\"]-1)\n",
    "\n",
    "train_df[\"star_dif\"]=train_df[\"user_avgstar\"]-train_df[\"star\"]\n",
    "\n",
    "train_df[\"price_ave_dif_rt\"]=train_df[\"price_deduct\"]/train_df[\"user_avgdealprice\"]\n",
    "train_df[\"price_ave_star_dif\"]=train_df[\"price_deduct\"]/train_df[\"user_avgprice_star\"]\n",
    "train_df[\"price_h_w_rt\"]=train_df[\"user_avgdealpriceholiday\"]/train_df[\"user_avgdealpriceworkday\"]\n",
    "\n",
    "train_df[\"price_ave_dif\"] = train_df[\"price_deduct\"] - train_df[\"user_avgdealprice\"]\n"
   ]
  },
  {
   "cell_type": "code",
   "execution_count": 17,
   "metadata": {
    "collapsed": true
   },
   "outputs": [],
   "source": [
    "train_df[\"order_hotel_last_price_min_rt\"]=train_df[\"price_last_lastord\"]/train_df[\"hotel_minprice_lastord\"]\n",
    "train_df[\"order_basic_last_price_min_rt\"]=train_df[\"price_last_lastord\"]/train_df[\"basic_minprice_lastord\"]\n",
    "train_df[\"order_hotel_last_price_min_dif\"]=train_df[\"price_last_lastord\"]-train_df[\"hotel_minprice_lastord\"]\n",
    "train_df[\"order_basic_last_price_min_dif\"]=train_df[\"price_last_lastord\"]-train_df[\"basic_minprice_lastord\"]"
   ]
  },
  {
   "cell_type": "code",
   "execution_count": 18,
   "metadata": {
    "collapsed": false
   },
   "outputs": [],
   "source": [
    "train_df = press_date(train_df, ['order_hotel_last_price_min_rt', 'order_basic_last_price_min_rt', 'order_hotel_last_price_min_dif', 'order_basic_last_price_min_dif'])"
   ]
  },
  {
   "cell_type": "markdown",
   "metadata": {},
   "source": [
    "### 用户特征 "
   ]
  },
  {
   "cell_type": "code",
   "execution_count": 19,
   "metadata": {
    "collapsed": true
   },
   "outputs": [],
   "source": [
    "train_df[\"user_roomservice_8_2ratio\"]=1-train_df[\"user_roomservice_8_345ratio\"]-train_df[\"user_roomservice_8_1ratio\"]\n",
    "train_df[\"user_roomservice_4_1ratio_3month\"] = 1 - train_df[\"user_roomservice_4_0ratio_3month\"] - train_df[\"user_roomservice_4_2ratio_3month\"] - train_df[\"user_roomservice_4_3ratio_3month\"] - train_df[\"user_roomservice_4_4ratio_3month\"] - train_df[\"user_roomservice_4_5ratio_3month\"]\n",
    "train_df[\"user_roomservice_4_1ratio_1month\"] = 1 - train_df[\"user_roomservice_4_0ratio_1month\"] - train_df[\"user_roomservice_4_2ratio_1month\"] - train_df[\"user_roomservice_4_3ratio_1month\"] - train_df[\"user_roomservice_4_4ratio_1month\"] - train_df[\"user_roomservice_4_5ratio_1month\"]\n",
    "train_df[\"user_roomservice_4_1ratio_1week\"] = 1 - train_df[\"user_roomservice_4_0ratio_1week\"] - train_df[\"user_roomservice_4_2ratio_1week\"] - train_df[\"user_roomservice_4_3ratio_1week\"] - train_df[\"user_roomservice_4_4ratio_1week\"] - train_df[\"user_roomservice_4_5ratio_1week\"]\n",
    "train_df[\"user_roomservice_2_0ratio\"]=1-train_df[\"user_roomservice_2_1ratio\"]\n",
    "train_df[\"user_roomservice_3_0ratio\"]=1-train_df[\"user_roomservice_3_123ratio\"]\n",
    "train_df[\"user_roomservice_5_0ratio\"]=1-train_df[\"user_roomservice_5_1ratio\"]\n",
    "train_df[\"user_roomservice_7_1ratio\"]=1-train_df[\"user_roomservice_7_0ratio\"]\n",
    "train_df[\"user_roomservice_2_max\"] = np.argmax(train_df[[\"user_roomservice_2_%sratio\" % i for i in range(2)]].values, axis=1)\n",
    "train_df[\"user_roomservice_3_max\"] = np.argmax(train_df[[\"user_roomservice_3_%sratio\" % i for i in [0,123]]].values, axis=1)\n",
    "train_df[\"user_roomservice_5_max\"] = np.argmax(train_df[[\"user_roomservice_5_%sratio\" % i for i in range(2)]].values, axis=1)\n",
    "train_df[\"user_roomservice_7_max\"] = np.argmax(train_df[[\"user_roomservice_7_%sratio\" % i for i in range(2)]].values, axis=1)\n",
    "train_df[\"user_roomservice_4_max\"]=np.argmax(train_df[[\"user_roomservice_4_%sratio\"%i for i in range(6)]].values,axis=1)\n",
    "train_df[\"user_roomservice_6_max\"]=np.argmax(train_df[[\"user_roomservice_6_%sratio\"%i for i in range(3)]].values,axis=1)\n",
    "train_df[\"user_roomservice_8_max\"]=np.argmax(train_df[[\"user_roomservice_8_%sratio\"%i for i in [1,2,345]]].values,axis=1)\n",
    "train_df[\"user_roomservice_4_max_1week\"]=np.argmax(train_df[[\"user_roomservice_4_%sratio_1month\"%i for i in range(6)]].values,axis=1)\n",
    "train_df[\"user_roomservice_4_max_1month\"]=np.argmax(train_df[[\"user_roomservice_4_%sratio_1month\"%i for i in range(6)]].values,axis=1)\n",
    "train_df[\"user_roomservice_4_max_3month\"]=np.argmax(train_df[[\"user_roomservice_4_%sratio_3month\"%i for i in range(6)]].values,axis=1)\n",
    "train_df[\"roomservice_8\"]=train_df[\"roomservice_8\"].apply(lambda x:2 if x>2 else x-1)\n",
    "train_df[\"roomservice_3\"]=train_df[\"roomservice_3\"].apply(lambda x:1 if x>0 else 0)"
   ]
  },
  {
   "cell_type": "code",
   "execution_count": 20,
   "metadata": {
    "collapsed": false
   },
   "outputs": [],
   "source": [
    "for i in [1,2,3,4,5,6,7,8,9,10,11]:\n",
    "    train_df[\"order_ordertype_%s_num\"%i] = train_df[\"ordertype_%s_ratio\"%i] * train_df[\"user_ordernum\"]\n",
    "    del train_df[\"ordertype_%s_ratio\"%i]\n",
    "\n",
    "for c in [\"orderbehavior_1_ratio\",\"orderbehavior_2_ratio\",\"orderbehavior_6_ratio\",\"orderbehavior_7_ratio\"]:\n",
    "    train_df[c]= train_df[c] * train_df[\"user_ordernum\"]\n",
    "\n",
    "for c in [\"orderbehavior_3_ratio_1week\",\"orderbehavior_4_ratio_1week\",\"orderbehavior_5_ratio_1week\"]:\n",
    "    train_df[c]= train_df[c] * train_df[\"user_ordnum_1week\"]\n",
    "\n",
    "for c in [\"orderbehavior_3_ratio_3month\",\"orderbehavior_4_ratio_3month\",\"orderbehavior_5_ratio_3month\"]:\n",
    "    train_df[c]= train_df[c] * train_df[\"user_ordnum_3month\"]"
   ]
  },
  {
   "cell_type": "code",
   "execution_count": 21,
   "metadata": {
    "collapsed": false
   },
   "outputs": [],
   "source": [
    "train_df['orderspan'] = (now_date - train_df['orderdate_lastord']).dt.days.astype(np.float16)"
   ]
  },
  {
   "cell_type": "code",
   "execution_count": 22,
   "metadata": {
    "collapsed": false
   },
   "outputs": [],
   "source": [
    "train_df['orderhour'] = train_df['orderdate'].dt.hour.astype(np.int8)"
   ]
  },
  {
   "cell_type": "markdown",
   "metadata": {},
   "source": [
    "## 交叉特征"
   ]
  },
  {
   "cell_type": "code",
   "execution_count": 23,
   "metadata": {
    "collapsed": true
   },
   "outputs": [],
   "source": [
    "train_df['rank_roomservice_8'] = (\n",
    "    train_df['roomservice_8'].astype(str) +\n",
    "    train_df['rank'].astype(str)).astype('category').cat.codes"
   ]
  },
  {
   "cell_type": "code",
   "execution_count": 24,
   "metadata": {
    "collapsed": true
   },
   "outputs": [],
   "source": [
    "use_cols = [x for x in train_df.columns if x not in ['orderdate', 'orderdate_lastord', 'orderlabel']]"
   ]
  },
  {
   "cell_type": "code",
   "execution_count": 25,
   "metadata": {
    "collapsed": false
   },
   "outputs": [
    {
     "name": "stderr",
     "output_type": "stream",
     "text": [
      "/home/zhanglun/notebook/room/code/utils.py:30: UserWarning: column  roomid_is_equal is  may be error when meet percent max:0.0\n",
      "  warn('column  {} is  may be error when meet percent max:{}'.format(c, c_max))\n"
     ]
    }
   ],
   "source": [
    "train_df = press_date(train_df, use_cols)"
   ]
  },
  {
   "cell_type": "code",
   "execution_count": 26,
   "metadata": {
    "collapsed": true
   },
   "outputs": [],
   "source": [
    "sample = train_df[use_cols]"
   ]
  },
  {
   "cell_type": "code",
   "execution_count": null,
   "metadata": {
    "collapsed": true
   },
   "outputs": [],
   "source": [
    "not_rename = [\n",
    "        'orderid', 'uid', 'hotelid', 'basicroomid', 'hotel_roomid', 'roomid',\n",
    "        'orderlabel'\n",
    "    ]"
   ]
  },
  {
   "cell_type": "code",
   "execution_count": 27,
   "metadata": {
    "collapsed": false
   },
   "outputs": [
    {
     "name": "stderr",
     "output_type": "stream",
     "text": [
      "/home/zhanglun/.pyenv/versions/anaconda3-4.1.0/lib/python3.5/site-packages/pandas/core/frame.py:2746: SettingWithCopyWarning: \n",
      "A value is trying to be set on a copy of a slice from a DataFrame\n",
      "\n",
      "See the caveats in the documentation: http://pandas.pydata.org/pandas-docs/stable/indexing.html#indexing-view-versus-copy\n",
      "  **kwargs)\n"
     ]
    }
   ],
   "source": [
    "sample.rename_axis({x:'order_'+ x for x in use_cols if x not in not_rename}, inplace=True, axis='columns')"
   ]
  },
  {
   "cell_type": "code",
   "execution_count": 28,
   "metadata": {
    "collapsed": false
   },
   "outputs": [
    {
     "name": "stdout",
     "output_type": "stream",
     "text": [
      "2017-08-05 07:53:58.881326 save to ../dataset/train/order_feature.pkl\n"
     ]
    }
   ],
   "source": [
    "sample.to_pickle(feature_path)\n",
    "\n",
    "print(datetime.now(), 'save to', feature_path)"
   ]
  }
 ],
 "metadata": {
  "anaconda-cloud": {},
  "hide_input": false,
  "kernelspec": {
   "display_name": "Python 3",
   "language": "python",
   "name": "python3"
  },
  "language_info": {
   "codemirror_mode": {
    "name": "ipython",
    "version": 3
   },
   "file_extension": ".py",
   "mimetype": "text/x-python",
   "name": "python",
   "nbconvert_exporter": "python",
   "pygments_lexer": "ipython3",
   "version": "3.5.1"
  }
 },
 "nbformat": 4,
 "nbformat_minor": 2
}
