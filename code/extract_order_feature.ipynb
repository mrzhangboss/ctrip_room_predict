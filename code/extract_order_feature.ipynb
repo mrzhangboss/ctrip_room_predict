{
 "cells": [
  {
   "cell_type": "code",
   "execution_count": 1,
   "metadata": {
    "collapsed": true
   },
   "outputs": [],
   "source": [
    "import sys\n",
    "from datetime import datetime\n",
    "from os.path import join\n",
    "from warnings import warn\n",
    "from itertools import chain\n",
    "\n",
    "import numpy as np\n",
    "import pandas as pd\n",
    "import scipy as sp\n",
    "\n",
    "from utils import *"
   ]
  },
  {
   "cell_type": "code",
   "execution_count": 2,
   "metadata": {
    "collapsed": true
   },
   "outputs": [],
   "source": [
    "dir_arg = sys.argv[1]\n",
    "if dir_arg == '-f':\n",
    "    file_dir = join('..', 'dataset', '11')\n",
    "else:\n",
    "    file_dir = join('..', 'dataset',  dir_arg)"
   ]
  },
  {
   "cell_type": "code",
   "execution_count": 3,
   "metadata": {
    "collapsed": false
   },
   "outputs": [
    {
     "name": "stdout",
     "output_type": "stream",
     "text": [
      "2017-08-01 22:52:56.326107 2017-06-11\n",
      "2017-08-01 22:52:56.326332\n",
      "--------------------\n",
      "uid uniuqe shape 3552\n",
      "hotelid uniuqe shape 3194\n",
      "basicroomid uniuqe shape 19542\n",
      "roomid uniuqe shape 121802\n",
      "--------------------\n"
     ]
    }
   ],
   "source": [
    "train_df = pd.read_pickle(join(file_dir, 'base_feauture.pkl'))\n",
    "\n",
    "now_date = train_df.orderdate.max().date()\n",
    "print(datetime.now(), now_date)\n",
    "\n",
    "uid_shape, hotelid_shape, basicroomid_shape, roomid_shape = print_shape(\n",
    "    train_df, ['uid', 'hotelid', 'basicroomid', 'roomid'])"
   ]
  },
  {
   "cell_type": "code",
   "execution_count": 4,
   "metadata": {
    "collapsed": false
   },
   "outputs": [
    {
     "name": "stdout",
     "output_type": "stream",
     "text": [
      "2017-08-01 22:52:56.345292 begin ../dataset/11/order_feature.pkl\n"
     ]
    }
   ],
   "source": [
    "feature_path = join(file_dir, 'order_feature.pkl')\n",
    "print(datetime.now(), 'begin', feature_path)"
   ]
  },
  {
   "cell_type": "markdown",
   "metadata": {},
   "source": [
    "## 基础特征"
   ]
  },
  {
   "cell_type": "markdown",
   "metadata": {},
   "source": [
    "#### 排序特征"
   ]
  },
  {
   "cell_type": "code",
   "execution_count": 5,
   "metadata": {
    "collapsed": true
   },
   "outputs": [],
   "source": [
    "def df_roomrank_mean(df):\n",
    "    add = pd.DataFrame(df.groupby([\"roomid\"]).order_basicroomid_price_rank.mean()).reset_index()\n",
    "    add.columns = [\"roomid\",\"order_basicroomid_price_rank_mean\"]\n",
    "    df = df.merge(add, on=[\"roomid\"], how=\"left\")\n",
    "    df = press_date(df, ['order_basicroomid_price_rank_mean'])\n",
    "    return df"
   ]
  },
  {
   "cell_type": "code",
   "execution_count": 6,
   "metadata": {
    "collapsed": true
   },
   "outputs": [],
   "source": [
    "train_df['order_basicroomid_price_rank'] = train_df['price_deduct'].groupby([train_df['orderid'], train_df['basicroomid']]).rank()"
   ]
  },
  {
   "cell_type": "code",
   "execution_count": 7,
   "metadata": {
    "collapsed": true
   },
   "outputs": [],
   "source": [
    "train_df = df_roomrank_mean(train_df)"
   ]
  },
  {
   "cell_type": "code",
   "execution_count": 8,
   "metadata": {
    "collapsed": false
   },
   "outputs": [],
   "source": [
    "# train_df = press_date(train_df, ['order_basicroomid_price_rank'])"
   ]
  },
  {
   "cell_type": "code",
   "execution_count": 9,
   "metadata": {
    "collapsed": true
   },
   "outputs": [],
   "source": [
    "# 每个basicid价格的中位数\n",
    "def df_median(df):\n",
    "    add = pd.DataFrame(df.groupby([\"orderid\", \"basicroomid\"]).price_deduct.median()).reset_index()\n",
    "    add.columns = [\"orderid\", \"basicroomid\", \"basicroomid_price_deduct_median\"]\n",
    "    df = df.merge(add, on=[\"orderid\", \"basicroomid\"], how=\"left\")\n",
    "    return df\n",
    "\n",
    "# 每个basicid价格的最小值\n",
    "def df_min(df):\n",
    "    add = pd.DataFrame(df.groupby([\"orderid\", \"basicroomid\"]).price_deduct.min()).reset_index()\n",
    "    add.columns = [\"orderid\", \"basicroomid\", \"basicroomid_price_deduct_min\"]\n",
    "    df = df.merge(add, on=[\"orderid\", \"basicroomid\"], how=\"left\")\n",
    "    return df\n",
    "\n",
    "# 每个orderid价格的最小值\n",
    "def df_min_orderid(df):\n",
    "    add = pd.DataFrame(df.groupby([\"orderid\"]).price_deduct.min()).reset_index()\n",
    "    add.columns = [\"orderid\", \"orderid_price_deduct_min\"]\n",
    "    df = df.merge(add, on=[\"orderid\"], how=\"left\")\n",
    "    return df\n",
    "\n",
    "#排序特征\n",
    "def df_rank_mean(df):\n",
    "    add = pd.DataFrame(df.groupby([\"basicroomid\"]).orderid_price_deduct_min_rank.mean()).reset_index()\n",
    "    add.columns = [\"basicroomid\",\"orderid_price_deduct_min_rank_mean\"]\n",
    "    df = df.merge(add, on=[\"basicroomid\"], how=\"left\")\n",
    "    return df\n",
    "\n",
    "def df_roomrank_mean(df):\n",
    "    add = pd.DataFrame(df.groupby([\"roomid\"]).basicroomid_price_rank.mean()).reset_index()\n",
    "    add.columns = [\"roomid\",\"basicroomid_price_rank_mean\"]\n",
    "    df = df.merge(add, on=[\"roomid\"], how=\"left\")\n",
    "    return df\n"
   ]
  },
  {
   "cell_type": "code",
   "execution_count": 10,
   "metadata": {
    "collapsed": true
   },
   "outputs": [],
   "source": [
    "def df_min(df):\n",
    "    add = pd.DataFrame(df.groupby([\"orderid\", \"basicroomid\"]).price_deduct.min()).reset_index()\n",
    "    add.columns = [\"orderid\", \"basicroomid\", \"basicroomid_price_deduct_min\"]\n",
    "    df = df.merge(add, on=[\"orderid\", \"basicroomid\"], how=\"left\")\n",
    "    return df"
   ]
  },
  {
   "cell_type": "markdown",
   "metadata": {},
   "source": [
    "### 上次订购的价格和当时最低价的比"
   ]
  },
  {
   "cell_type": "code",
   "execution_count": 11,
   "metadata": {
    "collapsed": false
   },
   "outputs": [],
   "source": [
    "train_df=df_median(train_df)\n",
    "train_df=df_min(train_df)\n",
    "train_df=df_min_orderid(train_df)"
   ]
  },
  {
   "cell_type": "code",
   "execution_count": 12,
   "metadata": {
    "collapsed": true
   },
   "outputs": [],
   "source": [
    "for x in train_df.columns:\n",
    "    if type(train_df[x]) != pd.Series:\n",
    "        print(x, type(train_df[x]))"
   ]
  },
  {
   "cell_type": "code",
   "execution_count": 13,
   "metadata": {
    "collapsed": true
   },
   "outputs": [],
   "source": [
    "press_columns = [\n",
    "    'order_basic_minprice_rt', 'price_dif', 'price_dif_hotel_hotel',\n",
    "    'price_dif_basic_hotel', 'price_dif_basic_hotel_rt', 'price_dif_basic',\n",
    "    'return_dx', 'price_tail1', 'rank_equal', 'area_price',\n",
    "    'price_dif_basic_rt', 'price_ori',\n",
    "    'basicroomid_price_deduct_min_minprice_rt', 'price_max_min_rt',\n",
    "    'price_dif_rt', 'price_dx', 'city_num', 'price_dif_hotel_hotel_rt',\n",
    "    'price_dif_hotel_rt', 'basicroomid_price_deduct_min', 'price_dif_hotel'\n",
    "]"
   ]
  },
  {
   "cell_type": "code",
   "execution_count": 14,
   "metadata": {
    "collapsed": false
   },
   "outputs": [],
   "source": [
    "train_df[\"city_num\"]=train_df[\"user_ordernum\"]/train_df[\"user_citynum\"]\n",
    "train_df[\"area_price\"]=train_df[\"user_avgprice\"]/train_df[\"user_avgroomarea\"]\n",
    "train_df[\"price_max_min_rt\"]=train_df[\"user_maxprice\"]/train_df[\"user_minprice\"]\n",
    "train_df[\"basicroomid_price_deduct_min_minprice_rt\"]=train_df[\"basicroomid_price_deduct_min\"]/train_df[\"user_minprice\"]\n",
    "\n",
    "train_df[\"price_dif\"]=train_df[\"basicroomid_price_deduct_min\"]-train_df[\"price_deduct\"]\n",
    "train_df[\"price_dif_hotel\"]=train_df[\"basicroomid_price_deduct_min\"]-train_df[\"hotel_minprice_lastord\"]\n",
    "train_df[\"price_dif_basic\"]=train_df[\"basicroomid_price_deduct_min\"]-train_df[\"basic_minprice_lastord\"]\n",
    "\n",
    "train_df[\"price_dif_rt\"]=train_df[\"basicroomid_price_deduct_min\"]/train_df[\"price_deduct\"]\n",
    "train_df[\"price_dif_hotel_rt\"]=train_df[\"basicroomid_price_deduct_min\"]/train_df[\"hotel_minprice_lastord\"]\n",
    "train_df[\"price_dif_basic_rt\"]=train_df[\"basicroomid_price_deduct_min\"]/train_df[\"basic_minprice_lastord\"]\n",
    "\n",
    "train_df[\"price_dif_hotel\"]=train_df[\"orderid_price_deduct_min\"]-train_df[\"price_deduct\"]\n",
    "train_df[\"price_dif_hotel_hotel\"]=train_df[\"orderid_price_deduct_min\"]-train_df[\"hotel_minprice_lastord\"]\n",
    "train_df[\"price_dif_basic_hotel\"]=train_df[\"orderid_price_deduct_min\"]-train_df[\"basic_minprice_lastord\"]\n",
    "\n",
    "train_df[\"price_dif_hotel_rt\"]=train_df[\"orderid_price_deduct_min\"]/train_df[\"price_deduct\"]\n",
    "train_df[\"price_dif_hotel_hotel_rt\"]=train_df[\"orderid_price_deduct_min\"]/train_df[\"hotel_minprice_lastord\"]\n",
    "train_df[\"price_dif_basic_hotel_rt\"]=train_df[\"orderid_price_deduct_min\"]/train_df[\"basic_minprice_lastord\"]\n",
    "\n",
    "train_df[\"order_basic_minprice_rt\"]=train_df[\"basicroomid_price_deduct_min\"]/train_df[\"orderid_price_deduct_min\"]\n",
    "\n",
    "\n",
    "\n",
    "train_df[\"price_tail1\"]=train_df[\"price_deduct\"]%10\n",
    "train_df.loc[(train_df.price_tail1==4)|(train_df.price_tail1==7), \"price_tail1\"]= 1\n",
    "train_df.loc[(train_df.price_tail1!=4)&(train_df.price_tail1!=7), \"price_tail1\"]= 0\n",
    "\n",
    "\n",
    "#del train_df[\"hotelid_lastord\"]\n",
    "train_df[\"rank_equal\"]= (train_df[\"rank\"] ==train_df[\"rank_lastord\"]).astype(np.int8)\n",
    "\n",
    "\n",
    "#价格高低\n",
    "train_df[\"price_dx\"] = train_df[\"price_deduct\"] - train_df[\"price_last_lastord\"] \n",
    "\n",
    "train_df[\"return_dx\"] = train_df[\"returnvalue\"] - train_df[\"return_lastord\"]\n",
    "\n",
    "train_df[\"price_ori\"] = train_df[\"price_deduct\"] + train_df[\"returnvalue\"]\n"
   ]
  },
  {
   "cell_type": "code",
   "execution_count": 15,
   "metadata": {
    "collapsed": true
   },
   "outputs": [],
   "source": [
    "train_df[\"order_hotel_last_price_min_rt\"]=train_df[\"price_last_lastord\"]/train_df[\"hotel_minprice_lastord\"]\n",
    "train_df[\"order_basic_last_price_min_rt\"]=train_df[\"price_last_lastord\"]/train_df[\"basic_minprice_lastord\"]\n",
    "train_df[\"order_hotel_last_price_min_dif\"]=train_df[\"price_last_lastord\"]-train_df[\"hotel_minprice_lastord\"]\n",
    "train_df[\"order_basic_last_price_min_dif\"]=train_df[\"price_last_lastord\"]-train_df[\"basic_minprice_lastord\"]"
   ]
  },
  {
   "cell_type": "code",
   "execution_count": 16,
   "metadata": {
    "collapsed": false
   },
   "outputs": [],
   "source": [
    "train_df = press_date(train_df, ['order_hotel_last_price_min_rt', 'order_basic_last_price_min_rt', 'order_hotel_last_price_min_dif', 'order_basic_last_price_min_dif'])"
   ]
  },
  {
   "cell_type": "code",
   "execution_count": 17,
   "metadata": {
    "collapsed": false
   },
   "outputs": [],
   "source": [
    "train_df['orderspan'] = (now_date - train_df['orderdate_lastord']).dt.days.astype(np.float16)"
   ]
  },
  {
   "cell_type": "code",
   "execution_count": 18,
   "metadata": {
    "collapsed": false
   },
   "outputs": [],
   "source": [
    "train_df['orderhour'] = train_df['orderdate'].dt.hour.astype(np.int8)"
   ]
  },
  {
   "cell_type": "code",
   "execution_count": 19,
   "metadata": {
    "collapsed": false
   },
   "outputs": [],
   "source": [
    "for c in train_df.columns:\n",
    "    if train_df[c].dtype == np.object:\n",
    "        print(c)"
   ]
  },
  {
   "cell_type": "code",
   "execution_count": 20,
   "metadata": {
    "collapsed": false
   },
   "outputs": [
    {
     "name": "stderr",
     "output_type": "stream",
     "text": [
      "/home/zhanglun/notebook/room/code/utils.py:30: UserWarning: column  price_tail1 is  may be error when meet percent max:0.0\n",
      "  warn('column  {} is  may be error when meet percent max:{}'.format(c, c_max))\n"
     ]
    }
   ],
   "source": [
    "train_df = press_date(train_df, press_columns)"
   ]
  },
  {
   "cell_type": "code",
   "execution_count": 21,
   "metadata": {
    "collapsed": true
   },
   "outputs": [],
   "source": [
    "order_cols = [\n",
    "    'orderhour', 'orderid', 'uid', 'hotelid', 'basicroomid', 'hotel_roomid',\n",
    "    'roomid', 'orderlabel', 'orderspan', 'order_basicroomid_price_rank',\n",
    "    'order_basicroomid_price_rank_mean', 'order_hotel_last_price_min_rt',\n",
    "    'order_basic_last_price_min_rt', 'order_hotel_last_price_min_dif',\n",
    "    'order_basic_last_price_min_dif'\n",
    "] + press_columns"
   ]
  },
  {
   "cell_type": "code",
   "execution_count": 22,
   "metadata": {
    "collapsed": true
   },
   "outputs": [],
   "source": [
    "room_service = ['roomservice_%d' % i for i in range(1, 9)]"
   ]
  },
  {
   "cell_type": "code",
   "execution_count": 23,
   "metadata": {
    "collapsed": false
   },
   "outputs": [],
   "source": [
    "room_tag = ['roomtag_%d' % i for i in range(1, 5)]"
   ]
  },
  {
   "cell_type": "code",
   "execution_count": 24,
   "metadata": {
    "collapsed": true
   },
   "outputs": [],
   "source": [
    "total_cols = list(chain(order_cols, room_service, room_tag))"
   ]
  },
  {
   "cell_type": "code",
   "execution_count": 25,
   "metadata": {
    "collapsed": false
   },
   "outputs": [],
   "source": [
    "sample = train_df[total_cols]"
   ]
  },
  {
   "cell_type": "code",
   "execution_count": 26,
   "metadata": {
    "collapsed": true
   },
   "outputs": [],
   "source": [
    "for x in train_df.columns:\n",
    "    if type(train_df[x]) != pd.Series:\n",
    "        print(x, type(train_df[x]))"
   ]
  },
  {
   "cell_type": "code",
   "execution_count": 28,
   "metadata": {
    "collapsed": false
   },
   "outputs": [
    {
     "name": "stdout",
     "output_type": "stream",
     "text": [
      "2017-08-01 22:53:03.379235 save to ../dataset/11/order_feature.pkl\n"
     ]
    }
   ],
   "source": [
    "sample.to_pickle(feature_path)\n",
    "\n",
    "print(datetime.now(), 'save to', feature_path)"
   ]
  }
 ],
 "metadata": {
  "anaconda-cloud": {},
  "hide_input": false,
  "kernelspec": {
   "display_name": "Python 3",
   "language": "python",
   "name": "python3"
  },
  "language_info": {
   "codemirror_mode": {
    "name": "ipython",
    "version": 3
   },
   "file_extension": ".py",
   "mimetype": "text/x-python",
   "name": "python",
   "nbconvert_exporter": "python",
   "pygments_lexer": "ipython3",
   "version": "3.5.1"
  }
 },
 "nbformat": 4,
 "nbformat_minor": 2
}
