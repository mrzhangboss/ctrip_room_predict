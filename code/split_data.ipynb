{
 "cells": [
  {
   "cell_type": "code",
   "execution_count": 1,
   "metadata": {
    "collapsed": true
   },
   "outputs": [],
   "source": [
    "import pandas as pd\n",
    "import numpy as np\n",
    "import scipy as sp\n",
    "from os import mkdir\n",
    "from datetime import datetime\n",
    "from os.path import exists, join\n",
    "from itertools import chain\n",
    "\n",
    "# import matplotlib.pyplot as plt\n",
    "# import seaborn as sns\n",
    "from utils import *"
   ]
  },
  {
   "cell_type": "code",
   "execution_count": 2,
   "metadata": {
    "collapsed": false,
    "scrolled": true
   },
   "outputs": [
    {
     "name": "stdout",
     "output_type": "stream",
     "text": [
      "<class 'pandas.core.frame.DataFrame'>\n",
      "RangeIndex: 1094826 entries, 0 to 1094825\n",
      "Columns: 151 entries, orderid to hotel_roomid\n",
      "dtypes: datetime64[ns](2), float16(117), float32(12), int16(3), int32(6), int8(11)\n",
      "memory usage: 354.0 MB\n"
     ]
    }
   ],
   "source": [
    "train_df = pd.read_pickle('../dataset/train.pkl')\n",
    "train_df.info()"
   ]
  },
  {
   "cell_type": "code",
   "execution_count": 2,
   "metadata": {
    "collapsed": false
   },
   "outputs": [
    {
     "name": "stdout",
     "output_type": "stream",
     "text": [
      "<class 'pandas.core.frame.DataFrame'>\n",
      "RangeIndex: 978298 entries, 0 to 978297\n",
      "Columns: 150 entries, orderid to hotel_roomid\n",
      "dtypes: datetime64[ns](2), float16(117), float32(12), int16(2), int32(6), int8(11)\n",
      "memory usage: 314.4 MB\n"
     ]
    }
   ],
   "source": [
    "test_df = pd.read_pickle('../dataset/test.pkl')\n",
    "test_df.info()"
   ]
  },
  {
   "cell_type": "code",
   "execution_count": 3,
   "metadata": {
    "collapsed": false
   },
   "outputs": [
    {
     "ename": "NameError",
     "evalue": "name 'train_df' is not defined",
     "output_type": "error",
     "traceback": [
      "\u001b[1;31m\u001b[0m",
      "\u001b[1;31mNameError\u001b[0mTraceback (most recent call last)",
      "\u001b[1;32m<ipython-input-3-9fac31e78ec1>\u001b[0m in \u001b[0;36m<module>\u001b[1;34m()\u001b[0m\n\u001b[1;32m----> 1\u001b[1;33m \u001b[0muser_oreder_type\u001b[0m \u001b[1;33m=\u001b[0m \u001b[1;33m[\u001b[0m\u001b[0mx\u001b[0m \u001b[1;32mfor\u001b[0m \u001b[0mx\u001b[0m \u001b[1;32min\u001b[0m \u001b[0mtrain_df\u001b[0m\u001b[1;33m.\u001b[0m\u001b[0mcolumns\u001b[0m \u001b[1;32mif\u001b[0m \u001b[0mx\u001b[0m\u001b[1;33m.\u001b[0m\u001b[0mstartswith\u001b[0m\u001b[1;33m(\u001b[0m\u001b[1;34m'ordertype'\u001b[0m\u001b[1;33m)\u001b[0m\u001b[1;33m]\u001b[0m\u001b[1;33m\u001b[0m\u001b[0m\n\u001b[0m\u001b[0;32m      2\u001b[0m \u001b[0muser_orderbehavior\u001b[0m \u001b[1;33m=\u001b[0m \u001b[1;33m[\u001b[0m\u001b[0mx\u001b[0m \u001b[1;32mfor\u001b[0m \u001b[0mx\u001b[0m \u001b[1;32min\u001b[0m \u001b[0mtrain_df\u001b[0m\u001b[1;33m.\u001b[0m\u001b[0mcolumns\u001b[0m \u001b[1;32mif\u001b[0m \u001b[0mx\u001b[0m\u001b[1;33m.\u001b[0m\u001b[0mstartswith\u001b[0m\u001b[1;33m(\u001b[0m\u001b[1;34m'orderbehavior'\u001b[0m\u001b[1;33m)\u001b[0m\u001b[1;33m]\u001b[0m\u001b[1;33m\u001b[0m\u001b[0m\n\u001b[0;32m      3\u001b[0m \u001b[0muser_lastord\u001b[0m \u001b[1;33m=\u001b[0m \u001b[1;33m[\u001b[0m\u001b[0mx\u001b[0m \u001b[1;32mfor\u001b[0m \u001b[0mx\u001b[0m \u001b[1;32min\u001b[0m \u001b[0mtrain_df\u001b[0m\u001b[1;33m.\u001b[0m\u001b[0mcolumns\u001b[0m \u001b[1;32mif\u001b[0m \u001b[0mx\u001b[0m\u001b[1;33m.\u001b[0m\u001b[0mendswith\u001b[0m\u001b[1;33m(\u001b[0m\u001b[1;34m'lastord'\u001b[0m\u001b[1;33m)\u001b[0m\u001b[1;33m]\u001b[0m\u001b[1;33m\u001b[0m\u001b[0m\n\u001b[0;32m      4\u001b[0m \u001b[0muser_feature_cols\u001b[0m \u001b[1;33m=\u001b[0m \u001b[1;33m[\u001b[0m\u001b[1;34m'uid'\u001b[0m\u001b[1;33m]\u001b[0m \u001b[1;33m+\u001b[0m \u001b[1;33m[\u001b[0m\u001b[0mx\u001b[0m \u001b[1;32mfor\u001b[0m \u001b[0mx\u001b[0m \u001b[1;32min\u001b[0m \u001b[0mtrain_df\u001b[0m\u001b[1;33m.\u001b[0m\u001b[0mcolumns\u001b[0m \u001b[1;32mif\u001b[0m \u001b[0mx\u001b[0m\u001b[1;33m.\u001b[0m\u001b[0mstartswith\u001b[0m\u001b[1;33m(\u001b[0m\u001b[1;34m'user'\u001b[0m\u001b[1;33m)\u001b[0m\u001b[1;33m]\u001b[0m\u001b[1;33m\u001b[0m\u001b[0m\n\u001b[0;32m      5\u001b[0m \u001b[0muser_cols\u001b[0m \u001b[1;33m=\u001b[0m \u001b[0mlist\u001b[0m\u001b[1;33m(\u001b[0m\u001b[0mchain\u001b[0m\u001b[1;33m(\u001b[0m\u001b[0muser_oreder_type\u001b[0m\u001b[1;33m,\u001b[0m \u001b[0muser_orderbehavior\u001b[0m\u001b[1;33m,\u001b[0m \u001b[0muser_lastord\u001b[0m\u001b[1;33m,\u001b[0m \u001b[0muser_feature_cols\u001b[0m\u001b[1;33m)\u001b[0m\u001b[1;33m)\u001b[0m\u001b[1;33m\u001b[0m\u001b[0m\n",
      "\u001b[1;31mNameError\u001b[0m: name 'train_df' is not defined"
     ]
    }
   ],
   "source": [
    "user_oreder_type = [x for x in train_df.columns if x.startswith('ordertype')]\n",
    "user_orderbehavior = [x for x in train_df.columns if x.startswith('orderbehavior')]\n",
    "user_lastord = [x for x in train_df.columns if x.endswith('lastord')]\n",
    "user_feature_cols = ['uid'] + [x for x in train_df.columns if x.startswith('user')]\n",
    "user_cols = list(chain(user_oreder_type, user_orderbehavior, user_lastord, user_feature_cols))"
   ]
  },
  {
   "cell_type": "code",
   "execution_count": 4,
   "metadata": {
    "collapsed": false
   },
   "outputs": [],
   "source": [
    "timespans = [str(x.date()) for x in pd.date_range('2017/6/5', '2017/6/11')]"
   ]
  },
  {
   "cell_type": "code",
   "execution_count": 5,
   "metadata": {
    "collapsed": false
   },
   "outputs": [],
   "source": [
    "for timespan in timespans:\n",
    "    d = join('..', 'dataset', timespan[-2:])\n",
    "    if not exists(d):\n",
    "        mkdir(d)\n",
    "test_dir = join('..', 'dataset', 'test')\n",
    "if not exists(test_dir):\n",
    "    mkdir(test_dir)"
   ]
  },
  {
   "cell_type": "code",
   "execution_count": 6,
   "metadata": {
    "collapsed": false
   },
   "outputs": [],
   "source": [
    "def save_id(tdf, t, timespan, is_test=False):\n",
    "    f_dir = timespan if is_test else timespan[-2:]\n",
    "    filename = join('..', 'dataset', f_dir, '{}.pkl'.format(t))\n",
    "    print(datetime.now(), 'save id to', filename)\n",
    "    sdf = tdf[[t]].drop_duplicates().reset_index(drop=True)\n",
    "    sdf.to_pickle(filename)"
   ]
  },
  {
   "cell_type": "code",
   "execution_count": 7,
   "metadata": {
    "collapsed": true
   },
   "outputs": [],
   "source": [
    "def make_sample(train_df, timespan):\n",
    "    tdf = train_df.set_index('orderdate').loc[timespan].reset_index()\n",
    "\n",
    "    user_buy = tdf[['uid', 'orderid']].drop_duplicates().groupby('uid').count()\n",
    "\n",
    "    buyone = user_buy.loc[user_buy.orderid==1]\n",
    "\n",
    "    tdf = tdf.join(buyone, on='uid', rsuffix='_one')\n",
    "\n",
    "    old_shape = tdf.shape[0]\n",
    "\n",
    "    tdf = tdf.loc[tdf.orderid_one.notnull()]\n",
    "\n",
    "    print(timespan, 'delete', old_shape - tdf.shape[0], 'sample')\n",
    "\n",
    "    tdf.drop('orderid_one', axis=1, inplace=True)\n",
    "\n",
    "    for t in ['uid', 'hotelid' , 'basicroomid', 'roomid', 'hotel_roomid']:\n",
    "        save_id(tdf, t, timespan)\n",
    "\n",
    "    base_save_path = join('..', 'dataset', timespan[-2:], 'base_feauture.pkl')\n",
    "\n",
    "    tdf.to_pickle(base_save_path)"
   ]
  },
  {
   "cell_type": "code",
   "execution_count": 62,
   "metadata": {
    "collapsed": true
   },
   "outputs": [
    {
     "name": "stdout",
     "output_type": "stream",
     "text": [
      "2017-06-05 delete 2097 sample\n",
      "2017-07-29 22:58:24.489618 save id to ../dataset/05/uid.pkl\n",
      "2017-07-29 22:58:24.495044 save id to ../dataset/05/hotelid.pkl\n",
      "2017-07-29 22:58:24.500069 save id to ../dataset/05/basicroomid.pkl\n",
      "2017-07-29 22:58:24.506841 save id to ../dataset/05/roomid.pkl\n",
      "2017-07-29 22:58:24.521819 save id to ../dataset/05/hotel_roomid.pkl\n",
      "2017-06-06 delete 1542 sample\n",
      "2017-07-29 22:58:24.987615 save id to ../dataset/06/uid.pkl\n",
      "2017-07-29 22:58:24.998405 save id to ../dataset/06/hotelid.pkl\n",
      "2017-07-29 22:58:25.003912 save id to ../dataset/06/basicroomid.pkl\n",
      "2017-07-29 22:58:25.010868 save id to ../dataset/06/roomid.pkl\n",
      "2017-07-29 22:58:25.026489 save id to ../dataset/06/hotel_roomid.pkl\n",
      "2017-06-07 delete 1742 sample\n",
      "2017-07-29 22:58:25.443349 save id to ../dataset/07/uid.pkl\n",
      "2017-07-29 22:58:25.451644 save id to ../dataset/07/hotelid.pkl\n",
      "2017-07-29 22:58:25.459161 save id to ../dataset/07/basicroomid.pkl\n",
      "2017-07-29 22:58:25.467190 save id to ../dataset/07/roomid.pkl\n",
      "2017-07-29 22:58:25.485769 save id to ../dataset/07/hotel_roomid.pkl\n",
      "2017-06-08 delete 1759 sample\n",
      "2017-07-29 22:58:26.010746 save id to ../dataset/08/uid.pkl\n",
      "2017-07-29 22:58:26.017891 save id to ../dataset/08/hotelid.pkl\n",
      "2017-07-29 22:58:26.023319 save id to ../dataset/08/basicroomid.pkl\n",
      "2017-07-29 22:58:26.030002 save id to ../dataset/08/roomid.pkl\n",
      "2017-07-29 22:58:26.045175 save id to ../dataset/08/hotel_roomid.pkl\n",
      "2017-06-09 delete 3052 sample\n",
      "2017-07-29 22:58:26.510289 save id to ../dataset/09/uid.pkl\n",
      "2017-07-29 22:58:26.517742 save id to ../dataset/09/hotelid.pkl\n",
      "2017-07-29 22:58:26.523561 save id to ../dataset/09/basicroomid.pkl\n",
      "2017-07-29 22:58:26.530294 save id to ../dataset/09/roomid.pkl\n",
      "2017-07-29 22:58:26.545366 save id to ../dataset/09/hotel_roomid.pkl\n",
      "2017-06-10 delete 1286 sample\n",
      "2017-07-29 22:58:26.980071 save id to ../dataset/10/uid.pkl\n",
      "2017-07-29 22:58:26.986950 save id to ../dataset/10/hotelid.pkl\n",
      "2017-07-29 22:58:26.991944 save id to ../dataset/10/basicroomid.pkl\n",
      "2017-07-29 22:58:26.998405 save id to ../dataset/10/roomid.pkl\n",
      "2017-07-29 22:58:27.012772 save id to ../dataset/10/hotel_roomid.pkl\n",
      "2017-06-11 delete 2372 sample\n",
      "2017-07-29 22:58:27.411503 save id to ../dataset/11/uid.pkl\n",
      "2017-07-29 22:58:27.416058 save id to ../dataset/11/hotelid.pkl\n",
      "2017-07-29 22:58:27.420394 save id to ../dataset/11/basicroomid.pkl\n",
      "2017-07-29 22:58:27.426100 save id to ../dataset/11/roomid.pkl\n",
      "2017-07-29 22:58:27.442844 save id to ../dataset/11/hotel_roomid.pkl\n"
     ]
    }
   ],
   "source": [
    "for timespan in timespans:\n",
    "    make_sample(train_df, timespan)"
   ]
  },
  {
   "cell_type": "code",
   "execution_count": 44,
   "metadata": {
    "collapsed": false
   },
   "outputs": [
    {
     "name": "stdout",
     "output_type": "stream",
     "text": [
      "2017-07-29 22:30:14.683045 save to ../dataset/05/basicroomid.pkl\n"
     ]
    }
   ],
   "source": [
    "# save_id(tdf, 'basicroomid', timespan)"
   ]
  },
  {
   "cell_type": "code",
   "execution_count": 65,
   "metadata": {
    "collapsed": false,
    "scrolled": true
   },
   "outputs": [
    {
     "name": "stdout",
     "output_type": "stream",
     "text": [
      "2017-07-29 23:00:20.753882 save id to ../dataset/test/uid.pkl\n",
      "2017-07-29 23:00:20.781300 save id to ../dataset/test/hotelid.pkl\n",
      "2017-07-29 23:00:20.807261 save id to ../dataset/test/basicroomid.pkl\n",
      "2017-07-29 23:00:20.848147 save id to ../dataset/test/roomid.pkl\n",
      "2017-07-29 23:00:20.995448 save id to ../dataset/test/hotel_roomid.pkl\n"
     ]
    }
   ],
   "source": [
    "for t in ['uid', 'hotelid' , 'basicroomid', 'roomid', 'hotel_roomid']:\n",
    "    save_id(test_df, t, 'test', is_test=True)"
   ]
  },
  {
   "cell_type": "code",
   "execution_count": 12,
   "metadata": {
    "collapsed": true
   },
   "outputs": [],
   "source": [
    "test_file_path = join('..', 'dataset', 'test', 'base_feauture.pkl')"
   ]
  },
  {
   "cell_type": "code",
   "execution_count": 8,
   "metadata": {
    "collapsed": true
   },
   "outputs": [],
   "source": [
    "test_df['orderlabel'] = np.nan"
   ]
  },
  {
   "cell_type": "code",
   "execution_count": 10,
   "metadata": {
    "collapsed": false
   },
   "outputs": [],
   "source": [
    "test_df['orderlabel'] = test_df.orderlabel.astype(np.float16)"
   ]
  },
  {
   "cell_type": "code",
   "execution_count": 13,
   "metadata": {
    "collapsed": false
   },
   "outputs": [],
   "source": [
    "test_df.to_pickle(test_file_path)"
   ]
  }
 ],
 "metadata": {
  "anaconda-cloud": {},
  "hide_input": false,
  "kernelspec": {
   "display_name": "Python 3",
   "language": "python",
   "name": "python3"
  },
  "language_info": {
   "codemirror_mode": {
    "name": "ipython",
    "version": 3
   },
   "file_extension": ".py",
   "mimetype": "text/x-python",
   "name": "python",
   "nbconvert_exporter": "python",
   "pygments_lexer": "ipython3",
   "version": "3.5.1"
  }
 },
 "nbformat": 4,
 "nbformat_minor": 2
}
