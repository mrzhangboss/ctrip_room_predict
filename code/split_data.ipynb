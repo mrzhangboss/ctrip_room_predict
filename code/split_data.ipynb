{
 "cells": [
  {
   "cell_type": "code",
   "execution_count": 13,
   "metadata": {
    "collapsed": true
   },
   "outputs": [],
   "source": [
    "import pandas as pd\n",
    "import numpy as np\n",
    "import scipy as sp\n",
    "from os import mkdir\n",
    "from datetime import datetime\n",
    "from os.path import exists, join\n",
    "from itertools import chain\n",
    "\n",
    "# import matplotlib.pyplot as plt\n",
    "# import seaborn as sns\n",
    "from utils import *"
   ]
  },
  {
   "cell_type": "code",
   "execution_count": 14,
   "metadata": {
    "collapsed": false,
    "scrolled": true
   },
   "outputs": [
    {
     "name": "stdout",
     "output_type": "stream",
     "text": [
      "<class 'pandas.core.frame.DataFrame'>\n",
      "RangeIndex: 1094826 entries, 0 to 1094825\n",
      "Columns: 151 entries, orderid to hotel_roomid\n",
      "dtypes: datetime64[ns](2), float16(117), float32(12), int16(3), int32(6), int8(11)\n",
      "memory usage: 354.0 MB\n"
     ]
    }
   ],
   "source": [
    "train_df = pd.read_pickle('../dataset/train.pkl')\n",
    "train_df.info()"
   ]
  },
  {
   "cell_type": "code",
   "execution_count": 15,
   "metadata": {
    "collapsed": false
   },
   "outputs": [
    {
     "name": "stdout",
     "output_type": "stream",
     "text": [
      "<class 'pandas.core.frame.DataFrame'>\n",
      "RangeIndex: 978298 entries, 0 to 978297\n",
      "Columns: 150 entries, orderid to hotel_roomid\n",
      "dtypes: datetime64[ns](2), float16(117), float32(12), int16(2), int32(6), int8(11)\n",
      "memory usage: 314.4 MB\n"
     ]
    }
   ],
   "source": [
    "test_df = pd.read_pickle('../dataset/test.pkl')\n",
    "test_df.info()"
   ]
  },
  {
   "cell_type": "code",
   "execution_count": 16,
   "metadata": {
    "collapsed": false
   },
   "outputs": [],
   "source": [
    "timespans = ['train','test']"
   ]
  },
  {
   "cell_type": "code",
   "execution_count": 17,
   "metadata": {
    "collapsed": false
   },
   "outputs": [],
   "source": [
    "for timespan in timespans:\n",
    "    d = join('..', 'dataset', timespan[-2:])\n",
    "    if not exists(d):\n",
    "        mkdir(d)\n",
    "test_dir = join('..', 'dataset', 'test')\n",
    "if not exists(test_dir):\n",
    "    mkdir(test_dir)"
   ]
  },
  {
   "cell_type": "code",
   "execution_count": 18,
   "metadata": {
    "collapsed": false
   },
   "outputs": [],
   "source": [
    "def save_id(tdf, t, timespan, is_test=False):\n",
    "    f_dir = timespan \n",
    "    filename = join('..', 'dataset', f_dir, '{}.pkl'.format(t))\n",
    "    print(datetime.now(), 'save id to', filename)\n",
    "    sdf = tdf[[t]].drop_duplicates().reset_index(drop=True)\n",
    "    sdf.to_pickle(filename)"
   ]
  },
  {
   "cell_type": "code",
   "execution_count": 19,
   "metadata": {
    "collapsed": true
   },
   "outputs": [],
   "source": [
    "def make_sample(train_df, timespan):\n",
    "    tdf = train_df\n",
    "\n",
    "#     user_buy = tdf[['uid', 'orderid']].drop_duplicates().groupby('uid').count()\n",
    "\n",
    "#     buyone = user_buy.loc[user_buy.orderid==1]\n",
    "\n",
    "#     tdf = tdf.join(buyone, on='uid', rsuffix='_one')\n",
    "\n",
    "#     old_shape = tdf.shape[0]\n",
    "\n",
    "#     tdf = tdf.loc[tdf.orderid_one.notnull()]\n",
    "\n",
    "#     print(timespan, 'delete', old_shape - tdf.shape[0], 'sample')\n",
    "\n",
    "#     tdf.drop('orderid_one', axis=1, inplace=True)\n",
    "\n",
    "    for t in ['uid', 'hotelid' , 'basicroomid', 'roomid', 'hotel_roomid']:\n",
    "        save_id(tdf, t, timespan)\n",
    "\n",
    "    base_save_path = join('..', 'dataset', timespan, 'base_feauture.pkl')\n",
    "\n",
    "    tdf.to_pickle(base_save_path)"
   ]
  },
  {
   "cell_type": "code",
   "execution_count": 20,
   "metadata": {
    "collapsed": true
   },
   "outputs": [],
   "source": [
    "test_df['orderlabel'] = np.nan"
   ]
  },
  {
   "cell_type": "code",
   "execution_count": 21,
   "metadata": {
    "collapsed": false
   },
   "outputs": [],
   "source": [
    "test_df['orderlabel'] = test_df.orderlabel.astype(np.float16)"
   ]
  },
  {
   "cell_type": "code",
   "execution_count": 22,
   "metadata": {
    "collapsed": false
   },
   "outputs": [
    {
     "name": "stdout",
     "output_type": "stream",
     "text": [
      "2017-08-05 07:11:20.791492 save id to ../dataset/train/uid.pkl\n",
      "2017-08-05 07:11:20.826819 save id to ../dataset/train/hotelid.pkl\n",
      "2017-08-05 07:11:20.853255 save id to ../dataset/train/basicroomid.pkl\n",
      "2017-08-05 07:11:20.889466 save id to ../dataset/train/roomid.pkl\n",
      "2017-08-05 07:11:21.002429 save id to ../dataset/train/hotel_roomid.pkl\n"
     ]
    }
   ],
   "source": [
    "make_sample(train_df, 'train')"
   ]
  },
  {
   "cell_type": "code",
   "execution_count": 23,
   "metadata": {
    "collapsed": false
   },
   "outputs": [
    {
     "name": "stdout",
     "output_type": "stream",
     "text": [
      "2017-08-05 07:11:22.103077 save id to ../dataset/test/uid.pkl\n",
      "2017-08-05 07:11:22.232017 save id to ../dataset/test/hotelid.pkl\n",
      "2017-08-05 07:11:22.254797 save id to ../dataset/test/basicroomid.pkl\n",
      "2017-08-05 07:11:22.290914 save id to ../dataset/test/roomid.pkl\n",
      "2017-08-05 07:11:22.450781 save id to ../dataset/test/hotel_roomid.pkl\n"
     ]
    }
   ],
   "source": [
    "make_sample(test_df, 'test')"
   ]
  }
 ],
 "metadata": {
  "anaconda-cloud": {},
  "hide_input": false,
  "kernelspec": {
   "display_name": "Python 3",
   "language": "python",
   "name": "python3"
  },
  "language_info": {
   "codemirror_mode": {
    "name": "ipython",
    "version": 3
   },
   "file_extension": ".py",
   "mimetype": "text/x-python",
   "name": "python",
   "nbconvert_exporter": "python",
   "pygments_lexer": "ipython3",
   "version": "3.5.1"
  }
 },
 "nbformat": 4,
 "nbformat_minor": 2
}
