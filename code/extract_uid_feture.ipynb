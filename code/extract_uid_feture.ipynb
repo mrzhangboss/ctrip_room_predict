{
 "cells": [
  {
   "cell_type": "code",
   "execution_count": 1,
   "metadata": {
    "collapsed": true
   },
   "outputs": [],
   "source": [
    "import sys\n",
    "from datetime import datetime\n",
    "from os.path import join\n",
    "from warnings import warn\n",
    "from itertools import chain\n",
    "\n",
    "import numpy as np\n",
    "import pandas as pd\n",
    "import scipy as sp\n",
    "\n",
    "from utils import *"
   ]
  },
  {
   "cell_type": "code",
   "execution_count": 2,
   "metadata": {
    "collapsed": true
   },
   "outputs": [],
   "source": [
    "dir_arg = sys.argv[1]\n",
    "if dir_arg == '-f':\n",
    "    file_dir = join('..', 'dataset', '11')\n",
    "else:\n",
    "    file_dir = join('..', 'dataset',  dir_arg)"
   ]
  },
  {
   "cell_type": "code",
   "execution_count": 3,
   "metadata": {
    "collapsed": false,
    "scrolled": false
   },
   "outputs": [
    {
     "name": "stdout",
     "output_type": "stream",
     "text": [
      "2017-08-02 07:26:25.264923 2017-06-11\n",
      "2017-08-02 07:26:25.265136\n",
      "--------------------\n",
      "uid uniuqe shape 3552\n",
      "hotelid uniuqe shape 3194\n",
      "basicroomid uniuqe shape 19542\n",
      "roomid uniuqe shape 121802\n",
      "--------------------\n"
     ]
    }
   ],
   "source": [
    "train_df = pd.read_pickle(join(file_dir, 'base_feauture.pkl'))\n",
    "\n",
    "sample = pd.read_pickle(join(file_dir, 'uid.pkl'))\n",
    "\n",
    "now_date = train_df.orderdate.max().date()\n",
    "print(datetime.now(), now_date)\n",
    "\n",
    "uid_shape, hotelid_shape, basicroomid_shape, roomid_shape = print_shape(\n",
    "    train_df, ['uid', 'hotelid', 'basicroomid', 'roomid'])"
   ]
  },
  {
   "cell_type": "code",
   "execution_count": 4,
   "metadata": {
    "collapsed": false
   },
   "outputs": [
    {
     "name": "stdout",
     "output_type": "stream",
     "text": [
      "2017-08-02 07:26:25.286953 begin ../dataset/11/user_feature.pkl\n"
     ]
    }
   ],
   "source": [
    "feature_path = join(file_dir, 'user_feature.pkl')\n",
    "print(datetime.now(), 'begin', feature_path)"
   ]
  },
  {
   "cell_type": "code",
   "execution_count": 5,
   "metadata": {
    "collapsed": false
   },
   "outputs": [],
   "source": [
    "user_oreder_type = [x for x in train_df.columns if x.startswith('ordertype')]\n",
    "user_orderbehavior = [x for x in train_df.columns if x.startswith('orderbehavior')]\n",
    "user_lastord = [x for x in train_df.columns if x.endswith('lastord')]\n",
    "user_feature_cols = [x for x in train_df.columns if x.startswith('user')]"
   ]
  },
  {
   "cell_type": "markdown",
   "metadata": {},
   "source": [
    "## 添加基本特征"
   ]
  },
  {
   "cell_type": "code",
   "execution_count": 6,
   "metadata": {
    "collapsed": false
   },
   "outputs": [],
   "source": [
    "sample = extract_feature_count('uid', 'hotel_roomid', train_df, sample)"
   ]
  },
  {
   "cell_type": "code",
   "execution_count": 7,
   "metadata": {
    "collapsed": false
   },
   "outputs": [],
   "source": [
    "def extract_user_feature_is_equal(t, train_df, sample):\n",
    "    name = '{}_is_equal'.format(t)\n",
    "    lastord_name = t + '_lastord'\n",
    "    train_df[name] = np.nan\n",
    "    train_df.loc[(train_df[lastord_name] == train_df[t]), name] = 1\n",
    "    sample = extract_feature_count('uid', name, train_df, sample)\n",
    "    sample = press_date(sample, ['uid' + '__' + name + '_count'])\n",
    "    return sample"
   ]
  },
  {
   "cell_type": "code",
   "execution_count": 8,
   "metadata": {
    "collapsed": false,
    "scrolled": false
   },
   "outputs": [],
   "source": [
    "for i in range(2, 9):\n",
    "    t = 'roomservice_%d' % i\n",
    "    if i != 7:\n",
    "        sample = extract_user_feature_is_equal(t, train_df, sample)"
   ]
  },
  {
   "cell_type": "code",
   "execution_count": 9,
   "metadata": {
    "collapsed": false
   },
   "outputs": [],
   "source": [
    "for i in range(2, 5):\n",
    "    t = 'roomtag_%d' % i\n",
    "    sample = extract_user_feature_is_equal(t, train_df, sample)"
   ]
  },
  {
   "cell_type": "code",
   "execution_count": 10,
   "metadata": {
    "collapsed": false
   },
   "outputs": [
    {
     "name": "stderr",
     "output_type": "stream",
     "text": [
      "/home/zhanglun/notebook/room/code/utils.py:30: UserWarning: column  uid__roomid_is_equal_count is  may be error when meet percent max:0\n",
      "  warn('column  {} is  may be error when meet percent max:{}'.format(c, c_max))\n"
     ]
    }
   ],
   "source": [
    "for c in ['rank', 'star', 'basicroomid', 'roomid', 'hotelid']:\n",
    "    sample = extract_user_feature_is_equal(c, train_df, sample)"
   ]
  },
  {
   "cell_type": "code",
   "execution_count": 11,
   "metadata": {
    "collapsed": true
   },
   "outputs": [],
   "source": [
    "user_cols = list(chain(user_oreder_type, user_orderbehavior, user_feature_cols))"
   ]
  },
  {
   "cell_type": "code",
   "execution_count": 12,
   "metadata": {
    "collapsed": true
   },
   "outputs": [],
   "source": [
    "add_cols = ['hotel_minprice_lastord', 'basic_minprice_lastord', 'star_lastord'] + user_cols"
   ]
  },
  {
   "cell_type": "code",
   "execution_count": 13,
   "metadata": {
    "collapsed": true
   },
   "outputs": [],
   "source": [
    "not_use = []"
   ]
  },
  {
   "cell_type": "code",
   "execution_count": 14,
   "metadata": {
    "collapsed": false,
    "scrolled": true
   },
   "outputs": [
    {
     "name": "stderr",
     "output_type": "stream",
     "text": [
      "/home/zhanglun/notebook/room/code/utils.py:30: UserWarning: column  uid_ordertype_3_ratio is  may be error when meet percent max:0.1363525390625\n",
      "  warn('column  {} is  may be error when meet percent max:{}'.format(c, c_max))\n",
      "/home/zhanglun/notebook/room/code/utils.py:30: UserWarning: column  uid_user_roomservice_4_1ratio is  may be error when meet percent max:0.5\n",
      "  warn('column  {} is  may be error when meet percent max:{}'.format(c, c_max))\n"
     ]
    }
   ],
   "source": [
    "for col in add_cols:\n",
    "    if col not in not_use:\n",
    "        sample = add_column(train_df, sample, 'uid', col)"
   ]
  },
  {
   "cell_type": "code",
   "execution_count": 15,
   "metadata": {
    "collapsed": true
   },
   "outputs": [],
   "source": [
    "# get_corr(train_df, sample, 'uid')"
   ]
  },
  {
   "cell_type": "code",
   "execution_count": 16,
   "metadata": {
    "collapsed": true
   },
   "outputs": [],
   "source": [
    "# corr = _\n",
    "\n",
    "# cor = abs(corr['orderlabel'])\n",
    "\n",
    "# [x for x in cor.loc[np.isnan(cor)].index]\n",
    "\n",
    "# [x[4:] for x in cor.loc[cor<0.01].index]  + [x[4:] for x in cor.loc[np.isnan(cor)].index]"
   ]
  },
  {
   "cell_type": "markdown",
   "metadata": {},
   "source": [
    "## 基本交叉特征"
   ]
  },
  {
   "cell_type": "code",
   "execution_count": 17,
   "metadata": {
    "collapsed": true
   },
   "outputs": [],
   "source": [
    "press_columns = ['uid_user_roomservice_8_2ratio', 'uid_user_roomservice_4_1ratio_3month',\n",
    "   'uid_user_roomservice_4_1ratio_1month', 'uid_user_roomservice_4_1ratio_1week',\n",
    "                'uid_user_roomservice_2_0ratio', 'uid_user_roomservice_3_0ratio',\n",
    "                'uid_user_roomservice_5_0ratio', 'uid_user_roomservice_7_1ratio',\n",
    "                'uid_user_roomservice_2_max', 'uid_user_roomservice_3_max',\n",
    "                'uid_user_roomservice_5_max', 'uid_user_roomservice_7_max',\n",
    "                'uid_user_roomservice_4_max', 'vuser_roomservice_6_max',\n",
    "                'uid_user_roomservice_8_max', 'uid_user_roomservice_4_max_1week', \n",
    "                'uid_user_roomservice_4_max_1month',\n",
    "                'uid_user_roomservice_4_max_3month',\n",
    "                ]"
   ]
  },
  {
   "cell_type": "code",
   "execution_count": 18,
   "metadata": {
    "collapsed": false
   },
   "outputs": [],
   "source": [
    "# sample[\"uid_user_roomservice_4_32_rt\"]=sample[\"uid_user_roomservice_4_3ratio\"]/sample[\"uid_user_roomservice_4_2ratio\"]\n",
    "# sample[\"uid_user_roomservice_4_43_rt\"]=sample[\"uid_user_roomservice_4_4ratio\"]/sample[\"uid_user_roomservice_4_3ratio\"]"
   ]
  },
  {
   "cell_type": "code",
   "execution_count": 19,
   "metadata": {
    "collapsed": false
   },
   "outputs": [],
   "source": [
    "# sample[\"user_roomservice_8_345ratio\"]=sample[\"user_roomservice_5_345ratio\"]\n",
    "# del sample[\"user_roomservice_5_345ratio\"]\n",
    "sample[\n",
    "    \"uid_user_roomservice_8_2ratio\"] = 1 - sample[\"uid_user_roomservice_8_345ratio\"] - sample[\"uid_user_roomservice_8_1ratio\"]\n",
    "sample[\n",
    "    \"uid_user_roomservice_4_1ratio_3month\"] = 1 - sample[\"uid_user_roomservice_4_0ratio_3month\"] - sample[\"uid_user_roomservice_4_2ratio_3month\"] - sample[\"uid_user_roomservice_4_3ratio_3month\"] - sample[\"uid_user_roomservice_4_4ratio_3month\"] - sample[\"uid_user_roomservice_4_5ratio_3month\"]\n",
    "sample[\n",
    "    \"uid_user_roomservice_4_1ratio_1month\"] = 1 - sample[\"uid_user_roomservice_4_0ratio_1month\"] - sample[\"uid_user_roomservice_4_2ratio_1month\"] - sample[\"uid_user_roomservice_4_3ratio_1month\"] - sample[\"uid_user_roomservice_4_4ratio_1month\"] - sample[\"uid_user_roomservice_4_5ratio_1month\"]\n",
    "sample[\n",
    "    \"uid_user_roomservice_4_1ratio_1week\"] = 1 - sample[\"uid_user_roomservice_4_0ratio_1week\"] - sample[\"uid_user_roomservice_4_2ratio_1week\"] - sample[\"uid_user_roomservice_4_3ratio_1week\"] - sample[\"uid_user_roomservice_4_4ratio_1week\"] - sample[\"uid_user_roomservice_4_5ratio_1week\"]\n",
    "sample[\"uid_user_roomservice_2_0ratio\"] = 1 - sample[\"uid_user_roomservice_2_1ratio\"]\n",
    "sample[\"uid_user_roomservice_3_0ratio\"] = 1 - sample[\"uid_user_roomservice_3_123ratio\"]\n",
    "sample[\"uid_user_roomservice_5_0ratio\"] = 1 - sample[\"uid_user_roomservice_5_1ratio\"]\n",
    "sample[\"uid_user_roomservice_7_1ratio\"] = 1 - sample[\"uid_user_roomservice_7_0ratio\"]\n",
    "sample[\"uid_user_roomservice_2_max\"] = np.argmax(\n",
    "    sample[[\"uid_user_roomservice_2_%sratio\" % i for i in range(2)]].values,\n",
    "    axis=1)\n",
    "sample[\"uid_user_roomservice_3_max\"] = np.argmax(\n",
    "    sample[[\"uid_user_roomservice_3_%sratio\" % i for i in [0, 123]]].values,\n",
    "    axis=1)\n",
    "sample[\"uid_user_roomservice_5_max\"] = np.argmax(\n",
    "    sample[[\"uid_user_roomservice_5_%sratio\" % i for i in range(2)]].values,\n",
    "    axis=1)\n",
    "sample[\"uid_user_roomservice_7_max\"] = np.argmax(\n",
    "    sample[[\"uid_user_roomservice_7_%sratio\" % i for i in range(2)]].values,\n",
    "    axis=1)\n",
    "sample[\"uid_user_roomservice_4_max\"] = np.argmax(\n",
    "    sample[[\"uid_user_roomservice_4_%sratio\" % i for i in range(6)]].values,\n",
    "    axis=1)\n",
    "sample[\"vuser_roomservice_6_max\"] = np.argmax(\n",
    "    sample[[\"uid_user_roomservice_6_%sratio\" % i for i in range(3)]].values,\n",
    "    axis=1)\n",
    "sample[\"uid_user_roomservice_8_max\"] = np.argmax(\n",
    "    sample[[\"uid_user_roomservice_8_%sratio\" % i for i in [1, 2, 345]]].values,\n",
    "    axis=1)\n",
    "sample[\"uid_user_roomservice_4_max_1week\"] = np.argmax(\n",
    "    sample[[\"uid_user_roomservice_4_%sratio_1month\" % i for i in range(6)]].values,\n",
    "    axis=1)\n",
    "sample[\"uid_user_roomservice_4_max_1month\"] = np.argmax(\n",
    "    sample[[\"uid_user_roomservice_4_%sratio_1month\" % i for i in range(6)]].values,\n",
    "    axis=1)\n",
    "sample[\"uid_user_roomservice_4_max_3month\"] = np.argmax(\n",
    "    sample[[\"uid_user_roomservice_4_%sratio_3month\" % i for i in range(6)]].values,\n",
    "    axis=1)"
   ]
  },
  {
   "cell_type": "code",
   "execution_count": 20,
   "metadata": {
    "collapsed": false
   },
   "outputs": [],
   "source": [
    "sample = press_date(sample, press_columns)"
   ]
  },
  {
   "cell_type": "markdown",
   "metadata": {},
   "source": [
    "## 历史价格统计特征 "
   ]
  },
  {
   "cell_type": "code",
   "execution_count": 21,
   "metadata": {
    "collapsed": true
   },
   "outputs": [],
   "source": [
    "name_fmt = '{}_diff_{}'.format('uid', '{}')\n",
    "\n",
    "price_diff_name = name_fmt.format('price_last_lastord')\n",
    "hotel_minprice_diff_name = name_fmt.format('hotel_minprice_lastord')\n",
    "basic_minprice_diff_name = name_fmt.format('basic_minprice_lastord')"
   ]
  },
  {
   "cell_type": "code",
   "execution_count": 22,
   "metadata": {
    "collapsed": true
   },
   "outputs": [],
   "source": [
    "train_df[price_diff_name] = train_df['price_deduct'] - train_df['price_last_lastord']\n",
    "train_df[hotel_minprice_diff_name] = train_df['price_deduct'] - train_df['hotel_minprice_lastord']\n",
    "train_df[basic_minprice_diff_name] = train_df['price_deduct'] - train_df['basic_minprice_lastord']"
   ]
  },
  {
   "cell_type": "code",
   "execution_count": 23,
   "metadata": {
    "collapsed": true
   },
   "outputs": [],
   "source": [
    "price_describe = ['mean', 'median']"
   ]
  },
  {
   "cell_type": "code",
   "execution_count": 24,
   "metadata": {
    "collapsed": true
   },
   "outputs": [],
   "source": [
    "sample = extract_value_describe_feature('uid', price_diff_name, train_df, sample, price_describe)\n",
    "sample = extract_value_describe_feature('uid', hotel_minprice_diff_name, train_df, sample, price_describe)\n",
    "sample = extract_value_describe_feature('uid', basic_minprice_diff_name, train_df, sample, price_describe)"
   ]
  },
  {
   "cell_type": "code",
   "execution_count": 25,
   "metadata": {
    "collapsed": true
   },
   "outputs": [],
   "source": [
    "# get_corr(train_df, sample, 'uid')"
   ]
  },
  {
   "cell_type": "markdown",
   "metadata": {},
   "source": [
    "## 修改特征"
   ]
  },
  {
   "cell_type": "code",
   "execution_count": 26,
   "metadata": {
    "collapsed": false
   },
   "outputs": [],
   "source": [
    "for i in [1,2,3,4,5,6,7,8,9,10,11]:\n",
    "        sample[\"order_ordertype_%s_num\"%i] = sample[\"uid_ordertype_%s_ratio\"%i] * sample[\"uid_user_ordernum\"]\n",
    "        del sample[\"uid_ordertype_%s_ratio\"%i]"
   ]
  },
  {
   "cell_type": "code",
   "execution_count": 27,
   "metadata": {
    "collapsed": false
   },
   "outputs": [],
   "source": [
    "for c in [\"orderbehavior_1_ratio\",\"orderbehavior_2_ratio\",\"orderbehavior_6_ratio\",\"orderbehavior_7_ratio\"]:\n",
    "        sample[\"uid_\" + c]= sample[\"uid_\" + c] * sample[\"uid_user_ordernum\"]"
   ]
  },
  {
   "cell_type": "code",
   "execution_count": 28,
   "metadata": {
    "collapsed": false
   },
   "outputs": [
    {
     "data": {
      "text/plain": [
       "['uid_orderbehavior_1_ratio',\n",
       " 'uid_orderbehavior_2_ratio',\n",
       " 'uid_orderbehavior_3_ratio_1week',\n",
       " 'uid_orderbehavior_4_ratio_1week',\n",
       " 'uid_orderbehavior_5_ratio_1week',\n",
       " 'uid_orderbehavior_3_ratio_3month',\n",
       " 'uid_orderbehavior_4_ratio_3month',\n",
       " 'uid_orderbehavior_5_ratio_3month',\n",
       " 'uid_orderbehavior_6_ratio',\n",
       " 'uid_orderbehavior_7_ratio',\n",
       " 'uid_orderbehavior_8',\n",
       " 'uid_orderbehavior_9']"
      ]
     },
     "execution_count": 28,
     "metadata": {},
     "output_type": "execute_result"
    }
   ],
   "source": [
    "[x for x in sample.columns if x.startswith('uid_orderbehavior')]"
   ]
  },
  {
   "cell_type": "code",
   "execution_count": 29,
   "metadata": {
    "collapsed": true
   },
   "outputs": [],
   "source": [
    " for c in [\"orderbehavior_3_ratio_1week\",\"orderbehavior_4_ratio_1week\",\"orderbehavior_5_ratio_1week\"]:\n",
    "        sample[\"uid_\" + c]= sample[\"uid_\" + c] * sample[\"uid_user_ordnum_1week\"]"
   ]
  },
  {
   "cell_type": "code",
   "execution_count": 30,
   "metadata": {
    "collapsed": true
   },
   "outputs": [],
   "source": [
    "for c in [\"orderbehavior_3_ratio_3month\",\"orderbehavior_4_ratio_3month\",\"orderbehavior_5_ratio_3month\"]:\n",
    "        sample[\"uid_\" + c]= sample[\"uid_\" + c] * sample[\"uid_user_ordnum_3month\"]"
   ]
  },
  {
   "cell_type": "code",
   "execution_count": 31,
   "metadata": {
    "collapsed": false
   },
   "outputs": [],
   "source": [
    "sample = press_date(sample, ['uid_' + x for x in [\n",
    "    \"orderbehavior_1_ratio\", \"orderbehavior_2_ratio\", \"orderbehavior_6_ratio\",\n",
    "    \"orderbehavior_7_ratio\", \"orderbehavior_3_ratio_1week\",\n",
    "    \"orderbehavior_4_ratio_1week\", \"orderbehavior_5_ratio_1week\",\n",
    "    \"orderbehavior_3_ratio_3month\",\n",
    "    \"orderbehavior_4_ratio_3month\", \"orderbehavior_5_ratio_3month\"\n",
    "]])"
   ]
  },
  {
   "cell_type": "markdown",
   "metadata": {},
   "source": [
    "### 历史订单间隔统计特征 "
   ]
  },
  {
   "cell_type": "code",
   "execution_count": 32,
   "metadata": {
    "collapsed": true
   },
   "outputs": [],
   "source": [
    "span_name, t = '{}_ordspan'.format('uid'), 'uid'"
   ]
  },
  {
   "cell_type": "code",
   "execution_count": 33,
   "metadata": {
    "collapsed": true
   },
   "outputs": [],
   "source": [
    "# train_df[span_name] = (now_date - train_df.orderdate_lastord).dt.days\n",
    "\n",
    "# sample = extract_value_describe_feature(t, span_name, train_df, sample, ['max', 'min', 'mean'])"
   ]
  },
  {
   "cell_type": "code",
   "execution_count": 34,
   "metadata": {
    "collapsed": true
   },
   "outputs": [],
   "source": [
    "# get_corr(train_df, sample, 'uid')"
   ]
  },
  {
   "cell_type": "code",
   "execution_count": 35,
   "metadata": {
    "collapsed": false
   },
   "outputs": [
    {
     "data": {
      "text/plain": [
       "(130801, 168)"
      ]
     },
     "execution_count": 35,
     "metadata": {},
     "output_type": "execute_result"
    }
   ],
   "source": [
    "train_df.shape"
   ]
  },
  {
   "cell_type": "code",
   "execution_count": 36,
   "metadata": {
    "collapsed": false
   },
   "outputs": [
    {
     "name": "stdout",
     "output_type": "stream",
     "text": [
      "2017-08-02 07:26:30.193407 save to ../dataset/11/user_feature.pkl\n"
     ]
    }
   ],
   "source": [
    "sample.to_pickle(feature_path)\n",
    "\n",
    "print(datetime.now(), 'save to', feature_path)"
   ]
  }
 ],
 "metadata": {
  "anaconda-cloud": {},
  "hide_input": false,
  "kernelspec": {
   "display_name": "Python 3",
   "language": "python",
   "name": "python3"
  },
  "language_info": {
   "codemirror_mode": {
    "name": "ipython",
    "version": 3
   },
   "file_extension": ".py",
   "mimetype": "text/x-python",
   "name": "python",
   "nbconvert_exporter": "python",
   "pygments_lexer": "ipython3",
   "version": "3.5.1"
  }
 },
 "nbformat": 4,
 "nbformat_minor": 2
}
