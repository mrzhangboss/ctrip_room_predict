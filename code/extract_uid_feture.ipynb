{
 "cells": [
  {
   "cell_type": "code",
   "execution_count": 1,
   "metadata": {
    "collapsed": true
   },
   "outputs": [],
   "source": [
    "import sys\n",
    "from datetime import datetime\n",
    "from os.path import join\n",
    "from warnings import warn\n",
    "from itertools import chain\n",
    "\n",
    "import numpy as np\n",
    "import pandas as pd\n",
    "import scipy as sp\n",
    "\n",
    "from utils import *"
   ]
  },
  {
   "cell_type": "code",
   "execution_count": 2,
   "metadata": {
    "collapsed": true
   },
   "outputs": [],
   "source": [
    "dir_arg = sys.argv[1]\n",
    "if dir_arg == '-f':\n",
    "    file_dir = join('..', 'dataset', 'train')\n",
    "else:\n",
    "    file_dir = join('..', 'dataset',  dir_arg)"
   ]
  },
  {
   "cell_type": "code",
   "execution_count": 13,
   "metadata": {
    "collapsed": false,
    "scrolled": false
   },
   "outputs": [
    {
     "name": "stdout",
     "output_type": "stream",
     "text": [
      "2017-08-05 07:28:53.368818 2017-06-11\n",
      "2017-08-05 07:28:53.369007\n",
      "--------------------\n",
      "uid uniuqe shape 29960\n",
      "hotelid uniuqe shape 18543\n",
      "basicroomid uniuqe shape 108611\n",
      "roomid uniuqe shape 804370\n",
      "--------------------\n"
     ]
    }
   ],
   "source": [
    "train_df = pd.read_pickle(join(file_dir, 'base_feauture.pkl'))\n",
    "\n",
    "sample = pd.read_pickle(join(file_dir, 'uid.pkl'))\n",
    "\n",
    "now_date = train_df.orderdate.max().date()\n",
    "print(datetime.now(), now_date)\n",
    "\n",
    "uid_shape, hotelid_shape, basicroomid_shape, roomid_shape = print_shape(\n",
    "    train_df, ['uid', 'hotelid', 'basicroomid', 'roomid'])"
   ]
  },
  {
   "cell_type": "code",
   "execution_count": 14,
   "metadata": {
    "collapsed": false
   },
   "outputs": [
    {
     "name": "stdout",
     "output_type": "stream",
     "text": [
      "2017-08-05 07:28:56.031614 begin ../dataset/train/user_feature.pkl\n"
     ]
    }
   ],
   "source": [
    "feature_path = join(file_dir, 'user_feature.pkl')\n",
    "print(datetime.now(), 'begin', feature_path)"
   ]
  },
  {
   "cell_type": "code",
   "execution_count": 15,
   "metadata": {
    "collapsed": false
   },
   "outputs": [],
   "source": [
    "user_oreder_type = [x for x in train_df.columns if x.startswith('ordertype')]\n",
    "user_orderbehavior = [x for x in train_df.columns if x.startswith('orderbehavior')]\n",
    "user_lastord = [x for x in train_df.columns if x.endswith('lastord')]\n",
    "user_feature_cols = [x for x in train_df.columns if x.startswith('user')]"
   ]
  },
  {
   "cell_type": "markdown",
   "metadata": {},
   "source": [
    "## 添加基本特征"
   ]
  },
  {
   "cell_type": "code",
   "execution_count": 16,
   "metadata": {
    "collapsed": false
   },
   "outputs": [],
   "source": [
    "sample = extract_feature_count('uid', 'hotel_roomid', train_df, sample)"
   ]
  },
  {
   "cell_type": "code",
   "execution_count": 17,
   "metadata": {
    "collapsed": false
   },
   "outputs": [],
   "source": [
    "def extract_user_feature_is_equal(t, train_df, sample):\n",
    "    name = '{}_is_equal'.format(t)\n",
    "    lastord_name = t + '_lastord'\n",
    "    train_df[name] = np.nan\n",
    "    train_df.loc[(train_df[lastord_name] == train_df[t]), name] = 1\n",
    "    sample = extract_feature_count('uid', name, train_df, sample)\n",
    "    sample = press_date(sample, ['uid' + '__' + name + '_count'])\n",
    "    return sample"
   ]
  },
  {
   "cell_type": "code",
   "execution_count": 18,
   "metadata": {
    "collapsed": true
   },
   "outputs": [],
   "source": [
    "for i in range(2, 9):\n",
    "    t = 'roomservice_%d' % i\n",
    "    if i != 7:\n",
    "        sample = extract_user_feature_is_equal(t, train_df, sample)"
   ]
  },
  {
   "cell_type": "code",
   "execution_count": 19,
   "metadata": {
    "collapsed": false
   },
   "outputs": [],
   "source": [
    "for i in range(2, 5):\n",
    "    t = 'roomtag_%d' % i\n",
    "    sample = extract_user_feature_is_equal(t, train_df, sample)"
   ]
  },
  {
   "cell_type": "code",
   "execution_count": 20,
   "metadata": {
    "collapsed": false
   },
   "outputs": [],
   "source": [
    "for c in ['rank', 'star', 'basicroomid', 'hotelid']: \n",
    "    sample = extract_user_feature_is_equal(c, train_df, sample)"
   ]
  },
  {
   "cell_type": "code",
   "execution_count": 21,
   "metadata": {
    "collapsed": true
   },
   "outputs": [],
   "source": [
    "user_cols = list(chain(user_oreder_type, user_orderbehavior, user_feature_cols))"
   ]
  },
  {
   "cell_type": "code",
   "execution_count": 23,
   "metadata": {
    "collapsed": true
   },
   "outputs": [],
   "source": [
    "add_cols = ['hotel_minprice_lastord', 'basic_minprice_lastord', 'star_lastord'] + user_cols"
   ]
  },
  {
   "cell_type": "code",
   "execution_count": 24,
   "metadata": {
    "collapsed": false
   },
   "outputs": [],
   "source": [
    "not_use2 = [\n",
    "    'user_roomservice_3_123ratio_1month', 'user_roomservice_3_123ratio_1week',\n",
    "    'user_roomservice_3_123ratio_3month', 'user_avgroomnum',\n",
    "    'user_avgrecommendlevel', 'user_roomservice_4_3ratio_1week',\n",
    "    'user_roomservice_4_2ratio', 'user_ordnum_1week',\n",
    "    'uid_diff_basic_minprice_lastord_mean', 'user_roomservice_4_max_3month',\n",
    "    'hotelid_is_equal_count', 'user_avggoldstar',\n",
    "    'orderbehavior_5_ratio_3month', 'roomservice_8_is_equal_count',\n",
    "    'user_roomservice_4_1ratio_1week', 'user_roomservice_4_max',\n",
    "    'user_roomservice_8_max', 'user_cvprice', 'user_roomservice_5_1ratio',\n",
    "    'star_lastord', 'user_roomservice_7_0ratio_3month',\n",
    "    'orderbehavior_4_ratio_1week', 'user_roomservice_6_2ratio',\n",
    "    'user_roomservice_8_2ratio', 'user_roomservice_7_0ratio_1month',\n",
    "    'user_roomservice_8_1ratio', 'user_roomservice_7_0ratio',\n",
    "    'user_roomservice_5_0ratio', 'user_roomservice_4_max_1month',\n",
    "    'user_roomservice_4_max_1week', 'user_roomservice_4_2ratio_3month',\n",
    "    'user_roomservice_4_3ratio_1month', 'user_roomservice_6_0ratio',\n",
    "    'roomtag_3_is_equal_count', 'user_roomservice_3_123ratio',\n",
    "    'orderbehavior_3_ratio_1week', 'orderbehavior_7_ratio', 'user_avgstar',\n",
    "    'user_roomservice_4_4ratio', 'user_roomservice_7_1ratio',\n",
    "    'user_roomservice_7_max', 'user_roomservice_5_max',\n",
    "    'user_roomservice_3_max', 'user_roomservice_2_max',\n",
    "    'roomservice_3_is_equal_count', 'user_roomservice_3_0ratio',\n",
    "    'user_roomservice_2_0ratio', 'user_roomservice_4_1ratio_1month',\n",
    "    'user_roomservice_4_1ratio_3month', 'roomservice_2_is_equal_count',\n",
    "    'user_roomservice_4_0ratio_3month', 'roomservice_5_is_equal_count',\n",
    "    'user_roomservice_6_1ratio', 'user_roomservice_4_3ratio_3month',\n",
    "    'user_roomservice_4_4ratio_1week', 'user_roomservice_4_5ratio_1week',\n",
    "    'user_roomservice_7_1ratio_1week', 'user_avgroomarea',\n",
    "    'user_roomservice_4_0ratio', 'user_roomservice_8_345ratio',\n",
    "    'user_roomservice_4_3ratio', 'user_roomservice_2_1ratio',\n",
    "    'user_roomservice_4_1ratio', 'user_roomservice_4_5ratio',\n",
    "    'user_roomservice_4_0ratio_1week', 'roomtag_2_is_equal_count',\n",
    "    'roomid_is_equal_count', 'user_roomservice_4_4ratio_3month',\n",
    "    'user_roomservice_4_5ratio_3month', 'roomtag_4_is_equal_count',\n",
    "    'rank_is_equal_count', 'star_is_equal_count', 'orderbehavior_1_ratio',\n",
    "    'user_roomservice_4_0ratio_1month', 'orderbehavior_3_ratio_3month',\n",
    "    'orderbehavior_4_ratio_3month', 'user_roomservice_4_4ratio_1month',\n",
    "    'user_roomservice_4_5ratio_1month', 'orderbehavior_6_ratio'\n",
    "]\n",
    "not_use = add_cols"
   ]
  },
  {
   "cell_type": "code",
   "execution_count": 25,
   "metadata": {
    "collapsed": false,
    "scrolled": true
   },
   "outputs": [],
   "source": [
    "for col in add_cols:\n",
    "    if col not in not_use:\n",
    "        sample = add_column(train_df, sample, 'uid', col)"
   ]
  },
  {
   "cell_type": "code",
   "execution_count": 27,
   "metadata": {
    "collapsed": false
   },
   "outputs": [],
   "source": [
    "# get_corr(train_df, sample, 'uid')"
   ]
  },
  {
   "cell_type": "markdown",
   "metadata": {},
   "source": [
    "## 基本交叉特征"
   ]
  },
  {
   "cell_type": "code",
   "execution_count": 32,
   "metadata": {
    "collapsed": true
   },
   "outputs": [],
   "source": [
    "press_columns = ['uid_user_roomservice_8_2ratio', 'uid_user_roomservice_4_1ratio_3month',\n",
    "   'uid_user_roomservice_4_1ratio_1month', 'uid_user_roomservice_4_1ratio_1week',\n",
    "                'uid_user_roomservice_2_0ratio', 'uid_user_roomservice_3_0ratio',\n",
    "                'uid_user_roomservice_5_0ratio', 'uid_user_roomservice_7_1ratio',\n",
    "                'uid_user_roomservice_2_max', 'uid_user_roomservice_3_max',\n",
    "                'uid_user_roomservice_5_max', 'uid_user_roomservice_7_max',\n",
    "                'uid_user_roomservice_4_max', 'uid_user_roomservice_6_max',\n",
    "                'uid_user_roomservice_8_max', 'uid_user_roomservice_4_max_1week', \n",
    "                'uid_user_roomservice_4_max_1month',\n",
    "                'uid_user_roomservice_4_max_3month',\n",
    "                ]"
   ]
  },
  {
   "cell_type": "code",
   "execution_count": 34,
   "metadata": {
    "collapsed": false
   },
   "outputs": [
    {
     "data": {
      "text/plain": [
       "['user_roomservice_8_2ratio',\n",
       " 'user_roomservice_4_1ratio_3month',\n",
       " 'user_roomservice_4_1ratio_1month',\n",
       " 'user_roomservice_4_1ratio_1week',\n",
       " 'user_roomservice_2_0ratio',\n",
       " 'user_roomservice_3_0ratio',\n",
       " 'user_roomservice_5_0ratio',\n",
       " 'user_roomservice_7_1ratio',\n",
       " 'user_roomservice_2_max',\n",
       " 'user_roomservice_3_max',\n",
       " 'user_roomservice_5_max',\n",
       " 'user_roomservice_7_max',\n",
       " 'user_roomservice_4_max',\n",
       " 'user_roomservice_6_max',\n",
       " 'user_roomservice_8_max',\n",
       " 'user_roomservice_4_max_1week',\n",
       " 'user_roomservice_4_max_1month',\n",
       " 'user_roomservice_4_max_3month']"
      ]
     },
     "execution_count": 34,
     "metadata": {},
     "output_type": "execute_result"
    }
   ],
   "source": [
    "[x[4:] for x in press_columns]"
   ]
  },
  {
   "cell_type": "code",
   "execution_count": 35,
   "metadata": {
    "collapsed": false
   },
   "outputs": [],
   "source": [
    "# sample[\"uid_user_roomservice_4_32_rt\"]=sample[\"uid_user_roomservice_4_3ratio\"]/sample[\"uid_user_roomservice_4_2ratio\"]\n",
    "# sample[\"uid_user_roomservice_4_43_rt\"]=sample[\"uid_user_roomservice_4_4ratio\"]/sample[\"uid_user_roomservice_4_3ratio\"]"
   ]
  },
  {
   "cell_type": "markdown",
   "metadata": {},
   "source": [
    "## 历史价格统计特征 "
   ]
  },
  {
   "cell_type": "code",
   "execution_count": 36,
   "metadata": {
    "collapsed": true
   },
   "outputs": [],
   "source": [
    "name_fmt = '{}_diff_{}'.format('uid', '{}')\n",
    "\n",
    "price_diff_name = name_fmt.format('price_last_lastord')\n",
    "hotel_minprice_diff_name = name_fmt.format('hotel_minprice_lastord')\n",
    "basic_minprice_diff_name = name_fmt.format('basic_minprice_lastord')"
   ]
  },
  {
   "cell_type": "code",
   "execution_count": 37,
   "metadata": {
    "collapsed": true
   },
   "outputs": [],
   "source": [
    "train_df[price_diff_name] = train_df['price_deduct'] - train_df['price_last_lastord']\n",
    "train_df[hotel_minprice_diff_name] = train_df['price_deduct'] - train_df['hotel_minprice_lastord']\n",
    "train_df[basic_minprice_diff_name] = train_df['price_deduct'] - train_df['basic_minprice_lastord']"
   ]
  },
  {
   "cell_type": "code",
   "execution_count": 38,
   "metadata": {
    "collapsed": true
   },
   "outputs": [],
   "source": [
    "price_describe = ['mean', 'median']"
   ]
  },
  {
   "cell_type": "code",
   "execution_count": 39,
   "metadata": {
    "collapsed": true
   },
   "outputs": [],
   "source": [
    "sample = extract_value_describe_feature('uid', price_diff_name, train_df, sample, price_describe)\n",
    "sample = extract_value_describe_feature('uid', hotel_minprice_diff_name, train_df, sample, price_describe)\n",
    "sample = extract_value_describe_feature('uid', basic_minprice_diff_name, train_df, sample, price_describe)"
   ]
  },
  {
   "cell_type": "code",
   "execution_count": 40,
   "metadata": {
    "collapsed": true
   },
   "outputs": [],
   "source": [
    "# get_corr(train_df, sample, 'uid')"
   ]
  },
  {
   "cell_type": "markdown",
   "metadata": {},
   "source": [
    "## 修改特征"
   ]
  },
  {
   "cell_type": "code",
   "execution_count": 41,
   "metadata": {
    "collapsed": true
   },
   "outputs": [
    {
     "ename": "KeyError",
     "evalue": "'uid_ordertype_1_ratio'",
     "output_type": "error",
     "traceback": [
      "\u001b[1;31m\u001b[0m",
      "\u001b[1;31mKeyError\u001b[0mTraceback (most recent call last)",
      "\u001b[1;32m/home/zhanglun/.pyenv/versions/anaconda3-4.1.0/lib/python3.5/site-packages/pandas/core/indexes/base.py\u001b[0m in \u001b[0;36mget_loc\u001b[1;34m(self, key, method, tolerance)\u001b[0m\n\u001b[0;32m   2441\u001b[0m             \u001b[1;32mtry\u001b[0m\u001b[1;33m:\u001b[0m\u001b[1;33m\u001b[0m\u001b[0m\n\u001b[1;32m-> 2442\u001b[1;33m                 \u001b[1;32mreturn\u001b[0m \u001b[0mself\u001b[0m\u001b[1;33m.\u001b[0m\u001b[0m_engine\u001b[0m\u001b[1;33m.\u001b[0m\u001b[0mget_loc\u001b[0m\u001b[1;33m(\u001b[0m\u001b[0mkey\u001b[0m\u001b[1;33m)\u001b[0m\u001b[1;33m\u001b[0m\u001b[0m\n\u001b[0m\u001b[0;32m   2443\u001b[0m             \u001b[1;32mexcept\u001b[0m \u001b[0mKeyError\u001b[0m\u001b[1;33m:\u001b[0m\u001b[1;33m\u001b[0m\u001b[0m\n",
      "\u001b[1;32mpandas/_libs/index.pyx\u001b[0m in \u001b[0;36mpandas._libs.index.IndexEngine.get_loc (pandas/_libs/index.c:5280)\u001b[1;34m()\u001b[0m\n",
      "\u001b[1;32mpandas/_libs/index.pyx\u001b[0m in \u001b[0;36mpandas._libs.index.IndexEngine.get_loc (pandas/_libs/index.c:5126)\u001b[1;34m()\u001b[0m\n",
      "\u001b[1;32mpandas/_libs/hashtable_class_helper.pxi\u001b[0m in \u001b[0;36mpandas._libs.hashtable.PyObjectHashTable.get_item (pandas/_libs/hashtable.c:20523)\u001b[1;34m()\u001b[0m\n",
      "\u001b[1;32mpandas/_libs/hashtable_class_helper.pxi\u001b[0m in \u001b[0;36mpandas._libs.hashtable.PyObjectHashTable.get_item (pandas/_libs/hashtable.c:20477)\u001b[1;34m()\u001b[0m\n",
      "\u001b[1;31mKeyError\u001b[0m: 'uid_ordertype_1_ratio'",
      "\nDuring handling of the above exception, another exception occurred:\n",
      "\u001b[1;31mKeyError\u001b[0mTraceback (most recent call last)",
      "\u001b[1;32m<ipython-input-41-cbb839b71e70>\u001b[0m in \u001b[0;36m<module>\u001b[1;34m()\u001b[0m\n\u001b[0;32m      1\u001b[0m \u001b[1;32mfor\u001b[0m \u001b[0mi\u001b[0m \u001b[1;32min\u001b[0m \u001b[1;33m[\u001b[0m\u001b[1;36m1\u001b[0m\u001b[1;33m,\u001b[0m\u001b[1;36m2\u001b[0m\u001b[1;33m,\u001b[0m\u001b[1;36m3\u001b[0m\u001b[1;33m,\u001b[0m\u001b[1;36m4\u001b[0m\u001b[1;33m,\u001b[0m\u001b[1;36m5\u001b[0m\u001b[1;33m,\u001b[0m\u001b[1;36m6\u001b[0m\u001b[1;33m,\u001b[0m\u001b[1;36m7\u001b[0m\u001b[1;33m,\u001b[0m\u001b[1;36m8\u001b[0m\u001b[1;33m,\u001b[0m\u001b[1;36m9\u001b[0m\u001b[1;33m,\u001b[0m\u001b[1;36m10\u001b[0m\u001b[1;33m,\u001b[0m\u001b[1;36m11\u001b[0m\u001b[1;33m]\u001b[0m\u001b[1;33m:\u001b[0m\u001b[1;33m\u001b[0m\u001b[0m\n\u001b[1;32m----> 2\u001b[1;33m         \u001b[0msample\u001b[0m\u001b[1;33m[\u001b[0m\u001b[1;34m\"order_ordertype_%s_num\"\u001b[0m\u001b[1;33m%\u001b[0m\u001b[0mi\u001b[0m\u001b[1;33m]\u001b[0m \u001b[1;33m=\u001b[0m \u001b[0msample\u001b[0m\u001b[1;33m[\u001b[0m\u001b[1;34m\"uid_ordertype_%s_ratio\"\u001b[0m\u001b[1;33m%\u001b[0m\u001b[0mi\u001b[0m\u001b[1;33m]\u001b[0m \u001b[1;33m*\u001b[0m \u001b[0msample\u001b[0m\u001b[1;33m[\u001b[0m\u001b[1;34m\"uid_user_ordernum\"\u001b[0m\u001b[1;33m]\u001b[0m\u001b[1;33m\u001b[0m\u001b[0m\n\u001b[0m\u001b[0;32m      3\u001b[0m         \u001b[1;32mdel\u001b[0m \u001b[0msample\u001b[0m\u001b[1;33m[\u001b[0m\u001b[1;34m\"uid_ordertype_%s_ratio\"\u001b[0m\u001b[1;33m%\u001b[0m\u001b[0mi\u001b[0m\u001b[1;33m]\u001b[0m\u001b[1;33m\u001b[0m\u001b[0m\n",
      "\u001b[1;32m/home/zhanglun/.pyenv/versions/anaconda3-4.1.0/lib/python3.5/site-packages/pandas/core/frame.py\u001b[0m in \u001b[0;36m__getitem__\u001b[1;34m(self, key)\u001b[0m\n\u001b[0;32m   1962\u001b[0m             \u001b[1;32mreturn\u001b[0m \u001b[0mself\u001b[0m\u001b[1;33m.\u001b[0m\u001b[0m_getitem_multilevel\u001b[0m\u001b[1;33m(\u001b[0m\u001b[0mkey\u001b[0m\u001b[1;33m)\u001b[0m\u001b[1;33m\u001b[0m\u001b[0m\n\u001b[0;32m   1963\u001b[0m         \u001b[1;32melse\u001b[0m\u001b[1;33m:\u001b[0m\u001b[1;33m\u001b[0m\u001b[0m\n\u001b[1;32m-> 1964\u001b[1;33m             \u001b[1;32mreturn\u001b[0m \u001b[0mself\u001b[0m\u001b[1;33m.\u001b[0m\u001b[0m_getitem_column\u001b[0m\u001b[1;33m(\u001b[0m\u001b[0mkey\u001b[0m\u001b[1;33m)\u001b[0m\u001b[1;33m\u001b[0m\u001b[0m\n\u001b[0m\u001b[0;32m   1965\u001b[0m \u001b[1;33m\u001b[0m\u001b[0m\n\u001b[0;32m   1966\u001b[0m     \u001b[1;32mdef\u001b[0m \u001b[0m_getitem_column\u001b[0m\u001b[1;33m(\u001b[0m\u001b[0mself\u001b[0m\u001b[1;33m,\u001b[0m \u001b[0mkey\u001b[0m\u001b[1;33m)\u001b[0m\u001b[1;33m:\u001b[0m\u001b[1;33m\u001b[0m\u001b[0m\n",
      "\u001b[1;32m/home/zhanglun/.pyenv/versions/anaconda3-4.1.0/lib/python3.5/site-packages/pandas/core/frame.py\u001b[0m in \u001b[0;36m_getitem_column\u001b[1;34m(self, key)\u001b[0m\n\u001b[0;32m   1969\u001b[0m         \u001b[1;31m# get column\u001b[0m\u001b[1;33m\u001b[0m\u001b[1;33m\u001b[0m\u001b[0m\n\u001b[0;32m   1970\u001b[0m         \u001b[1;32mif\u001b[0m \u001b[0mself\u001b[0m\u001b[1;33m.\u001b[0m\u001b[0mcolumns\u001b[0m\u001b[1;33m.\u001b[0m\u001b[0mis_unique\u001b[0m\u001b[1;33m:\u001b[0m\u001b[1;33m\u001b[0m\u001b[0m\n\u001b[1;32m-> 1971\u001b[1;33m             \u001b[1;32mreturn\u001b[0m \u001b[0mself\u001b[0m\u001b[1;33m.\u001b[0m\u001b[0m_get_item_cache\u001b[0m\u001b[1;33m(\u001b[0m\u001b[0mkey\u001b[0m\u001b[1;33m)\u001b[0m\u001b[1;33m\u001b[0m\u001b[0m\n\u001b[0m\u001b[0;32m   1972\u001b[0m \u001b[1;33m\u001b[0m\u001b[0m\n\u001b[0;32m   1973\u001b[0m         \u001b[1;31m# duplicate columns & possible reduce dimensionality\u001b[0m\u001b[1;33m\u001b[0m\u001b[1;33m\u001b[0m\u001b[0m\n",
      "\u001b[1;32m/home/zhanglun/.pyenv/versions/anaconda3-4.1.0/lib/python3.5/site-packages/pandas/core/generic.py\u001b[0m in \u001b[0;36m_get_item_cache\u001b[1;34m(self, item)\u001b[0m\n\u001b[0;32m   1643\u001b[0m         \u001b[0mres\u001b[0m \u001b[1;33m=\u001b[0m \u001b[0mcache\u001b[0m\u001b[1;33m.\u001b[0m\u001b[0mget\u001b[0m\u001b[1;33m(\u001b[0m\u001b[0mitem\u001b[0m\u001b[1;33m)\u001b[0m\u001b[1;33m\u001b[0m\u001b[0m\n\u001b[0;32m   1644\u001b[0m         \u001b[1;32mif\u001b[0m \u001b[0mres\u001b[0m \u001b[1;32mis\u001b[0m \u001b[1;32mNone\u001b[0m\u001b[1;33m:\u001b[0m\u001b[1;33m\u001b[0m\u001b[0m\n\u001b[1;32m-> 1645\u001b[1;33m             \u001b[0mvalues\u001b[0m \u001b[1;33m=\u001b[0m \u001b[0mself\u001b[0m\u001b[1;33m.\u001b[0m\u001b[0m_data\u001b[0m\u001b[1;33m.\u001b[0m\u001b[0mget\u001b[0m\u001b[1;33m(\u001b[0m\u001b[0mitem\u001b[0m\u001b[1;33m)\u001b[0m\u001b[1;33m\u001b[0m\u001b[0m\n\u001b[0m\u001b[0;32m   1646\u001b[0m             \u001b[0mres\u001b[0m \u001b[1;33m=\u001b[0m \u001b[0mself\u001b[0m\u001b[1;33m.\u001b[0m\u001b[0m_box_item_values\u001b[0m\u001b[1;33m(\u001b[0m\u001b[0mitem\u001b[0m\u001b[1;33m,\u001b[0m \u001b[0mvalues\u001b[0m\u001b[1;33m)\u001b[0m\u001b[1;33m\u001b[0m\u001b[0m\n\u001b[0;32m   1647\u001b[0m             \u001b[0mcache\u001b[0m\u001b[1;33m[\u001b[0m\u001b[0mitem\u001b[0m\u001b[1;33m]\u001b[0m \u001b[1;33m=\u001b[0m \u001b[0mres\u001b[0m\u001b[1;33m\u001b[0m\u001b[0m\n",
      "\u001b[1;32m/home/zhanglun/.pyenv/versions/anaconda3-4.1.0/lib/python3.5/site-packages/pandas/core/internals.py\u001b[0m in \u001b[0;36mget\u001b[1;34m(self, item, fastpath)\u001b[0m\n\u001b[0;32m   3588\u001b[0m \u001b[1;33m\u001b[0m\u001b[0m\n\u001b[0;32m   3589\u001b[0m             \u001b[1;32mif\u001b[0m \u001b[1;32mnot\u001b[0m \u001b[0misnull\u001b[0m\u001b[1;33m(\u001b[0m\u001b[0mitem\u001b[0m\u001b[1;33m)\u001b[0m\u001b[1;33m:\u001b[0m\u001b[1;33m\u001b[0m\u001b[0m\n\u001b[1;32m-> 3590\u001b[1;33m                 \u001b[0mloc\u001b[0m \u001b[1;33m=\u001b[0m \u001b[0mself\u001b[0m\u001b[1;33m.\u001b[0m\u001b[0mitems\u001b[0m\u001b[1;33m.\u001b[0m\u001b[0mget_loc\u001b[0m\u001b[1;33m(\u001b[0m\u001b[0mitem\u001b[0m\u001b[1;33m)\u001b[0m\u001b[1;33m\u001b[0m\u001b[0m\n\u001b[0m\u001b[0;32m   3591\u001b[0m             \u001b[1;32melse\u001b[0m\u001b[1;33m:\u001b[0m\u001b[1;33m\u001b[0m\u001b[0m\n\u001b[0;32m   3592\u001b[0m                 \u001b[0mindexer\u001b[0m \u001b[1;33m=\u001b[0m \u001b[0mnp\u001b[0m\u001b[1;33m.\u001b[0m\u001b[0marange\u001b[0m\u001b[1;33m(\u001b[0m\u001b[0mlen\u001b[0m\u001b[1;33m(\u001b[0m\u001b[0mself\u001b[0m\u001b[1;33m.\u001b[0m\u001b[0mitems\u001b[0m\u001b[1;33m)\u001b[0m\u001b[1;33m)\u001b[0m\u001b[1;33m[\u001b[0m\u001b[0misnull\u001b[0m\u001b[1;33m(\u001b[0m\u001b[0mself\u001b[0m\u001b[1;33m.\u001b[0m\u001b[0mitems\u001b[0m\u001b[1;33m)\u001b[0m\u001b[1;33m]\u001b[0m\u001b[1;33m\u001b[0m\u001b[0m\n",
      "\u001b[1;32m/home/zhanglun/.pyenv/versions/anaconda3-4.1.0/lib/python3.5/site-packages/pandas/core/indexes/base.py\u001b[0m in \u001b[0;36mget_loc\u001b[1;34m(self, key, method, tolerance)\u001b[0m\n\u001b[0;32m   2442\u001b[0m                 \u001b[1;32mreturn\u001b[0m \u001b[0mself\u001b[0m\u001b[1;33m.\u001b[0m\u001b[0m_engine\u001b[0m\u001b[1;33m.\u001b[0m\u001b[0mget_loc\u001b[0m\u001b[1;33m(\u001b[0m\u001b[0mkey\u001b[0m\u001b[1;33m)\u001b[0m\u001b[1;33m\u001b[0m\u001b[0m\n\u001b[0;32m   2443\u001b[0m             \u001b[1;32mexcept\u001b[0m \u001b[0mKeyError\u001b[0m\u001b[1;33m:\u001b[0m\u001b[1;33m\u001b[0m\u001b[0m\n\u001b[1;32m-> 2444\u001b[1;33m                 \u001b[1;32mreturn\u001b[0m \u001b[0mself\u001b[0m\u001b[1;33m.\u001b[0m\u001b[0m_engine\u001b[0m\u001b[1;33m.\u001b[0m\u001b[0mget_loc\u001b[0m\u001b[1;33m(\u001b[0m\u001b[0mself\u001b[0m\u001b[1;33m.\u001b[0m\u001b[0m_maybe_cast_indexer\u001b[0m\u001b[1;33m(\u001b[0m\u001b[0mkey\u001b[0m\u001b[1;33m)\u001b[0m\u001b[1;33m)\u001b[0m\u001b[1;33m\u001b[0m\u001b[0m\n\u001b[0m\u001b[0;32m   2445\u001b[0m \u001b[1;33m\u001b[0m\u001b[0m\n\u001b[0;32m   2446\u001b[0m         \u001b[0mindexer\u001b[0m \u001b[1;33m=\u001b[0m \u001b[0mself\u001b[0m\u001b[1;33m.\u001b[0m\u001b[0mget_indexer\u001b[0m\u001b[1;33m(\u001b[0m\u001b[1;33m[\u001b[0m\u001b[0mkey\u001b[0m\u001b[1;33m]\u001b[0m\u001b[1;33m,\u001b[0m \u001b[0mmethod\u001b[0m\u001b[1;33m=\u001b[0m\u001b[0mmethod\u001b[0m\u001b[1;33m,\u001b[0m \u001b[0mtolerance\u001b[0m\u001b[1;33m=\u001b[0m\u001b[0mtolerance\u001b[0m\u001b[1;33m)\u001b[0m\u001b[1;33m\u001b[0m\u001b[0m\n",
      "\u001b[1;32mpandas/_libs/index.pyx\u001b[0m in \u001b[0;36mpandas._libs.index.IndexEngine.get_loc (pandas/_libs/index.c:5280)\u001b[1;34m()\u001b[0m\n",
      "\u001b[1;32mpandas/_libs/index.pyx\u001b[0m in \u001b[0;36mpandas._libs.index.IndexEngine.get_loc (pandas/_libs/index.c:5126)\u001b[1;34m()\u001b[0m\n",
      "\u001b[1;32mpandas/_libs/hashtable_class_helper.pxi\u001b[0m in \u001b[0;36mpandas._libs.hashtable.PyObjectHashTable.get_item (pandas/_libs/hashtable.c:20523)\u001b[1;34m()\u001b[0m\n",
      "\u001b[1;32mpandas/_libs/hashtable_class_helper.pxi\u001b[0m in \u001b[0;36mpandas._libs.hashtable.PyObjectHashTable.get_item (pandas/_libs/hashtable.c:20477)\u001b[1;34m()\u001b[0m\n",
      "\u001b[1;31mKeyError\u001b[0m: 'uid_ordertype_1_ratio'"
     ]
    }
   ],
   "source": [
    "# for i in [1,2,3,4,5,6,7,8,9,10,11]:\n",
    "#         sample[\"order_ordertype_%s_num\"%i] = sample[\"uid_ordertype_%s_ratio\"%i] * sample[\"uid_user_ordernum\"]\n",
    "#         del sample[\"uid_ordertype_%s_ratio\"%i]\n",
    "\n",
    "# for c in [\"orderbehavior_1_ratio\",\"orderbehavior_2_ratio\",\"orderbehavior_6_ratio\",\"orderbehavior_7_ratio\"]:\n",
    "#         sample[\"uid_\" + c]= sample[\"uid_\" + c] * sample[\"uid_user_ordernum\"]\n",
    "\n",
    "# [x for x in sample.columns if x.startswith('uid_orderbehavior')]\n",
    "\n",
    "#  for c in [\"orderbehavior_3_ratio_1week\",\"orderbehavior_4_ratio_1week\",\"orderbehavior_5_ratio_1week\"]:\n",
    "#         sample[\"uid_\" + c]= sample[\"uid_\" + c] * sample[\"uid_user_ordnum_1week\"]\n",
    "\n",
    "# for c in [\"orderbehavior_3_ratio_3month\",\"orderbehavior_4_ratio_3month\",\"orderbehavior_5_ratio_3month\"]:\n",
    "#         sample[\"uid_\" + c]= sample[\"uid_\" + c] * sample[\"uid_user_ordnum_3month\"]"
   ]
  },
  {
   "cell_type": "code",
   "execution_count": null,
   "metadata": {
    "collapsed": false
   },
   "outputs": [],
   "source": [
    "# sample = press_date(sample, ['uid_' + x for x in [\n",
    "#     \"orderbehavior_1_ratio\", \"orderbehavior_2_ratio\", \"orderbehavior_6_ratio\",\n",
    "#     \"orderbehavior_7_ratio\", \"orderbehavior_3_ratio_1week\",\n",
    "#     \"orderbehavior_4_ratio_1week\", \"orderbehavior_5_ratio_1week\",\n",
    "#     \"orderbehavior_3_ratio_3month\",\n",
    "#     \"orderbehavior_4_ratio_3month\", \"orderbehavior_5_ratio_3month\"\n",
    "# ]])"
   ]
  },
  {
   "cell_type": "markdown",
   "metadata": {},
   "source": [
    "### 历史订单间隔统计特征 "
   ]
  },
  {
   "cell_type": "code",
   "execution_count": null,
   "metadata": {
    "collapsed": true
   },
   "outputs": [],
   "source": [
    "span_name, t = '{}_ordspan'.format('uid'), 'uid'"
   ]
  },
  {
   "cell_type": "code",
   "execution_count": null,
   "metadata": {
    "collapsed": true
   },
   "outputs": [],
   "source": [
    "# train_df[span_name] = (now_date - train_df.orderdate_lastord).dt.days\n",
    "\n",
    "# sample = extract_value_describe_feature(t, span_name, train_df, sample, ['max', 'min', 'mean'])"
   ]
  },
  {
   "cell_type": "code",
   "execution_count": null,
   "metadata": {
    "collapsed": true
   },
   "outputs": [],
   "source": [
    "# get_corr(train_df, sample, 'uid')"
   ]
  },
  {
   "cell_type": "code",
   "execution_count": null,
   "metadata": {
    "collapsed": false
   },
   "outputs": [],
   "source": [
    "train_df.shape"
   ]
  },
  {
   "cell_type": "code",
   "execution_count": null,
   "metadata": {
    "collapsed": false
   },
   "outputs": [],
   "source": [
    "for c in not_use2:\n",
    "    c1 = 'uid__' + c\n",
    "    c2 = 'uid_' + c\n",
    "    drop_c = None\n",
    "    if  c1 in sample.columns:\n",
    "        drop_c = c1\n",
    "    elif c2 in sample.columns:\n",
    "        drop_c = c2\n",
    "    if drop_c:\n",
    "        print('drop ', drop_c)\n",
    "        sample.drop(drop_c, axis=1, inplace=True)"
   ]
  },
  {
   "cell_type": "code",
   "execution_count": null,
   "metadata": {
    "collapsed": false
   },
   "outputs": [],
   "source": [
    "sample.to_pickle(feature_path)\n",
    "\n",
    "print(datetime.now(), 'save to', feature_path)"
   ]
  }
 ],
 "metadata": {
  "anaconda-cloud": {},
  "hide_input": false,
  "kernelspec": {
   "display_name": "Python 3",
   "language": "python",
   "name": "python3"
  },
  "language_info": {
   "codemirror_mode": {
    "name": "ipython",
    "version": 3
   },
   "file_extension": ".py",
   "mimetype": "text/x-python",
   "name": "python",
   "nbconvert_exporter": "python",
   "pygments_lexer": "ipython3",
   "version": "3.5.1"
  }
 },
 "nbformat": 4,
 "nbformat_minor": 2
}
