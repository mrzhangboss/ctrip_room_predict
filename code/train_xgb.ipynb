{
 "cells": [
  {
   "cell_type": "code",
   "execution_count": 1,
   "metadata": {
    "collapsed": false
   },
   "outputs": [
    {
     "name": "stderr",
     "output_type": "stream",
     "text": [
      "/home/zhanglun/.pyenv/versions/anaconda3-4.1.0/lib/python3.5/site-packages/sklearn/cross_validation.py:44: DeprecationWarning: This module was deprecated in version 0.18 in favor of the model_selection module into which all the refactored classes and functions are moved. Also note that the interface of the new CV iterators are different from that of this module. This module will be removed in 0.20.\n",
      "  \"This module will be removed in 0.20.\", DeprecationWarning)\n"
     ]
    }
   ],
   "source": [
    "import pickle\n",
    "from datetime import datetime\n",
    "\n",
    "import numpy as np\n",
    "import pandas as pd\n",
    "import scipy as sp\n",
    "\n",
    "# import matplotlib.pyplot as plt\n",
    "\n",
    "from sklearn import model_selection\n",
    "from sklearn.model_selection import KFold\n",
    "from sklearn.model_selection import train_test_split\n",
    "\n",
    "import xgboost as xgb\n",
    "from xgboost import XGBClassifier\n",
    "from sklearn.ensemble import RandomForestClassifier\n",
    "from sklearn import model_selection\n",
    "from sklearn.metrics import mean_squared_error, mean_absolute_error"
   ]
  },
  {
   "cell_type": "code",
   "execution_count": 43,
   "metadata": {
    "collapsed": false
   },
   "outputs": [
    {
     "data": {
      "text/plain": [
       "(1080976, 212)"
      ]
     },
     "execution_count": 43,
     "metadata": {},
     "output_type": "execute_result"
    }
   ],
   "source": [
    "train_features = pd.read_pickle('../dataset/all_feature.pkl').reset_index(drop=True)\n",
    "train_features.shape"
   ]
  },
  {
   "cell_type": "code",
   "execution_count": 3,
   "metadata": {
    "collapsed": true
   },
   "outputs": [],
   "source": [
    "luck = 666"
   ]
  },
  {
   "cell_type": "code",
   "execution_count": 4,
   "metadata": {
    "collapsed": true
   },
   "outputs": [],
   "source": [
    "parameters = {\n",
    "#     'gamma': [0.05],\n",
    "    #     'n_estimators': [800],\n",
    "    'max_depth': [2],\n",
    "#     'learning_rate': [0.15, 0.3],\n",
    "#         'subsample': [0.9],\n",
    "#         'colsample_bytree': [0.9],\n",
    "#     'min_child_weight': [1, 2],\n",
    "    #     'reg_alpha': [0, 1, 5],\n",
    "    #     'reg_lambda': [0, 1, 4],\n",
    "}"
   ]
  },
  {
   "cell_type": "code",
   "execution_count": 5,
   "metadata": {
    "collapsed": true
   },
   "outputs": [],
   "source": [
    "model_path = '../dataset/xgbmodel.pkl'"
   ]
  },
  {
   "cell_type": "code",
   "execution_count": 6,
   "metadata": {
    "collapsed": false
   },
   "outputs": [],
   "source": [
    "model = XGBClassifier(nthread=4, silent=False, objective= 'binary:logistic', n_estimators=100, seed=luck)"
   ]
  },
  {
   "cell_type": "code",
   "execution_count": 7,
   "metadata": {
    "collapsed": false,
    "scrolled": true
   },
   "outputs": [],
   "source": [
    "clf = model_selection.GridSearchCV(model, parameters, n_jobs=-1, cv=2, verbose=True)"
   ]
  },
  {
   "cell_type": "code",
   "execution_count": 8,
   "metadata": {
    "collapsed": true
   },
   "outputs": [],
   "source": [
    "use_columns = [\n",
    "    x for x in train_features.columns\n",
    "    if x not in [\n",
    "        'orderid', 'uid', 'hotelid', 'basicroomid', 'hotel_roomid', 'roomid',\n",
    "        'orderlabel'\n",
    "    ]\n",
    "]"
   ]
  },
  {
   "cell_type": "code",
   "execution_count": 9,
   "metadata": {
    "collapsed": false
   },
   "outputs": [
    {
     "data": {
      "text/plain": [
       "(1080976, 212)"
      ]
     },
     "execution_count": 9,
     "metadata": {},
     "output_type": "execute_result"
    }
   ],
   "source": [
    "train_features.shape"
   ]
  },
  {
   "cell_type": "code",
   "execution_count": 10,
   "metadata": {
    "collapsed": true
   },
   "outputs": [],
   "source": [
    "clf_feture = train_features.sample(50000, random_state=luck)"
   ]
  },
  {
   "cell_type": "code",
   "execution_count": 11,
   "metadata": {
    "collapsed": false,
    "scrolled": true
   },
   "outputs": [
    {
     "name": "stdout",
     "output_type": "stream",
     "text": [
      "Fitting 2 folds for each of 1 candidates, totalling 2 fits\n"
     ]
    },
    {
     "name": "stderr",
     "output_type": "stream",
     "text": [
      "[Parallel(n_jobs=-1)]: Done   2 out of   2 | elapsed:   17.1s finished\n"
     ]
    },
    {
     "name": "stdout",
     "output_type": "stream",
     "text": [
      "CPU times: user 55.6 s, sys: 200 ms, total: 55.8 s\n",
      "Wall time: 31.9 s\n"
     ]
    },
    {
     "data": {
      "text/plain": [
       "GridSearchCV(cv=2, error_score='raise',\n",
       "       estimator=XGBClassifier(base_score=0.5, colsample_bylevel=1, colsample_bytree=1,\n",
       "       gamma=0, learning_rate=0.1, max_delta_step=0, max_depth=3,\n",
       "       min_child_weight=1, missing=None, n_estimators=100, nthread=4,\n",
       "       objective='binary:logistic', reg_alpha=0, reg_lambda=1,\n",
       "       scale_pos_weight=1, seed=666, silent=False, subsample=1),\n",
       "       fit_params={}, iid=True, n_jobs=-1, param_grid={'max_depth': [2]},\n",
       "       pre_dispatch='2*n_jobs', refit=True, return_train_score=True,\n",
       "       scoring=None, verbose=True)"
      ]
     },
     "execution_count": 11,
     "metadata": {},
     "output_type": "execute_result"
    }
   ],
   "source": [
    "%time clf.fit(clf_feture[use_columns], clf_feture['orderlabel'])"
   ]
  },
  {
   "cell_type": "code",
   "execution_count": 12,
   "metadata": {
    "collapsed": false
   },
   "outputs": [
    {
     "data": {
      "text/plain": [
       "0.97299999999999998"
      ]
     },
     "execution_count": 12,
     "metadata": {},
     "output_type": "execute_result"
    }
   ],
   "source": [
    "clf.best_score_"
   ]
  },
  {
   "cell_type": "code",
   "execution_count": 82,
   "metadata": {
    "collapsed": true
   },
   "outputs": [],
   "source": [
    "# # # clf.best_params_['n_estimators'] = \n",
    "clf.best_params_['max_depth'] = 4\n",
    "# # clf.best_params_['gamma'] = 2\n",
    "# clf.best_params_['subsample'] = 0.8\n",
    "# clf.best_params_['colsample_bytree'] = 0.8\n",
    "# # clf.best_params_['n_estimators'] = 1000\n",
    "clf.best_params_['learning_rate'] = 0.1\n",
    "# # clf.best_params_['min_child_weight'] = 2\n",
    "# # clf.best_params_['reg_alpha'] = 0.1\n",
    "\n",
    "clf.best_params_['scale_pos_weight'] = 5\n",
    "\n",
    "\n",
    "\n"
   ]
  },
  {
   "cell_type": "code",
   "execution_count": 46,
   "metadata": {
    "collapsed": false
   },
   "outputs": [],
   "source": [
    "X_train, X_test, y_train, y_test = train_test_split(\n",
    "    train_features[use_columns],\n",
    "    train_features['orderlabel'],\n",
    "    test_size=0.33,\n",
    "    random_state=42)"
   ]
  },
  {
   "cell_type": "code",
   "execution_count": 83,
   "metadata": {
    "collapsed": false
   },
   "outputs": [
    {
     "data": {
      "text/plain": [
       "XGBClassifier(base_score=0.5, colsample_bylevel=1, colsample_bytree=1,\n",
       "       gamma=0, learning_rate=0.1, max_delta_step=0, max_depth=4,\n",
       "       min_child_weight=1, missing=None, n_estimators=1000, nthread=4,\n",
       "       objective='binary:logistic', reg_alpha=0, reg_lambda=1,\n",
       "       scale_pos_weight=5, seed=666, silent=False, subsample=1)"
      ]
     },
     "execution_count": 83,
     "metadata": {},
     "output_type": "execute_result"
    }
   ],
   "source": [
    "model = XGBClassifier(\n",
    "    nthread=4,\n",
    "    silent=False,\n",
    "    objective='binary:logistic',\n",
    "    seed=luck,\n",
    "#     learning_rate=0.3,\n",
    "    n_estimators=1000,\n",
    "    **clf.best_params_)\n",
    "model\n",
    "# model "
   ]
  },
  {
   "cell_type": "code",
   "execution_count": 84,
   "metadata": {
    "collapsed": false
   },
   "outputs": [
    {
     "name": "stdout",
     "output_type": "stream",
     "text": [
      "[0]\tvalidation_0-auc:0.872517\tvalidation_1-auc:0.871325\n",
      "Multiple eval metrics have been passed: 'validation_1-auc' will be used for early stopping.\n",
      "\n",
      "Will train until validation_1-auc hasn't improved in 5 rounds.\n",
      "[1]\tvalidation_0-auc:0.877685\tvalidation_1-auc:0.875815\n",
      "[2]\tvalidation_0-auc:0.886814\tvalidation_1-auc:0.884203\n",
      "[3]\tvalidation_0-auc:0.888886\tvalidation_1-auc:0.886668\n",
      "[4]\tvalidation_0-auc:0.889375\tvalidation_1-auc:0.888079\n",
      "[5]\tvalidation_0-auc:0.890752\tvalidation_1-auc:0.889417\n",
      "[6]\tvalidation_0-auc:0.893289\tvalidation_1-auc:0.892016\n",
      "[7]\tvalidation_0-auc:0.894705\tvalidation_1-auc:0.893354\n",
      "[8]\tvalidation_0-auc:0.895595\tvalidation_1-auc:0.894174\n",
      "[9]\tvalidation_0-auc:0.89516\tvalidation_1-auc:0.893798\n",
      "[10]\tvalidation_0-auc:0.896659\tvalidation_1-auc:0.894969\n",
      "[11]\tvalidation_0-auc:0.897469\tvalidation_1-auc:0.895462\n",
      "[12]\tvalidation_0-auc:0.898082\tvalidation_1-auc:0.896074\n",
      "[13]\tvalidation_0-auc:0.897995\tvalidation_1-auc:0.896159\n",
      "[14]\tvalidation_0-auc:0.898433\tvalidation_1-auc:0.896653\n",
      "[15]\tvalidation_0-auc:0.898922\tvalidation_1-auc:0.897164\n",
      "[16]\tvalidation_0-auc:0.900163\tvalidation_1-auc:0.898305\n",
      "[17]\tvalidation_0-auc:0.901005\tvalidation_1-auc:0.899039\n",
      "[18]\tvalidation_0-auc:0.901495\tvalidation_1-auc:0.899475\n",
      "[19]\tvalidation_0-auc:0.902516\tvalidation_1-auc:0.900304\n",
      "[20]\tvalidation_0-auc:0.902883\tvalidation_1-auc:0.900648\n",
      "[21]\tvalidation_0-auc:0.903277\tvalidation_1-auc:0.901106\n",
      "[22]\tvalidation_0-auc:0.903822\tvalidation_1-auc:0.901549\n",
      "[23]\tvalidation_0-auc:0.904303\tvalidation_1-auc:0.901936\n",
      "[24]\tvalidation_0-auc:0.904447\tvalidation_1-auc:0.902094\n",
      "[25]\tvalidation_0-auc:0.904647\tvalidation_1-auc:0.9024\n",
      "[26]\tvalidation_0-auc:0.904964\tvalidation_1-auc:0.902667\n",
      "[27]\tvalidation_0-auc:0.905208\tvalidation_1-auc:0.902845\n",
      "[28]\tvalidation_0-auc:0.905742\tvalidation_1-auc:0.903317\n",
      "[29]\tvalidation_0-auc:0.905955\tvalidation_1-auc:0.903463\n",
      "[30]\tvalidation_0-auc:0.906221\tvalidation_1-auc:0.903725\n",
      "[31]\tvalidation_0-auc:0.906689\tvalidation_1-auc:0.904139\n",
      "[32]\tvalidation_0-auc:0.906877\tvalidation_1-auc:0.904281\n",
      "[33]\tvalidation_0-auc:0.90704\tvalidation_1-auc:0.904446\n",
      "[34]\tvalidation_0-auc:0.907644\tvalidation_1-auc:0.905048\n",
      "[35]\tvalidation_0-auc:0.907865\tvalidation_1-auc:0.905261\n",
      "[36]\tvalidation_0-auc:0.908249\tvalidation_1-auc:0.90558\n",
      "[37]\tvalidation_0-auc:0.908446\tvalidation_1-auc:0.905769\n",
      "[38]\tvalidation_0-auc:0.90871\tvalidation_1-auc:0.905966\n",
      "[39]\tvalidation_0-auc:0.908835\tvalidation_1-auc:0.905994\n",
      "[40]\tvalidation_0-auc:0.909008\tvalidation_1-auc:0.906145\n",
      "[41]\tvalidation_0-auc:0.909472\tvalidation_1-auc:0.906596\n",
      "[42]\tvalidation_0-auc:0.909759\tvalidation_1-auc:0.906822\n",
      "[43]\tvalidation_0-auc:0.909949\tvalidation_1-auc:0.906966\n",
      "[44]\tvalidation_0-auc:0.910292\tvalidation_1-auc:0.907182\n",
      "[45]\tvalidation_0-auc:0.910634\tvalidation_1-auc:0.907478\n",
      "[46]\tvalidation_0-auc:0.910784\tvalidation_1-auc:0.907596\n",
      "[47]\tvalidation_0-auc:0.911096\tvalidation_1-auc:0.90781\n",
      "[48]\tvalidation_0-auc:0.911348\tvalidation_1-auc:0.907926\n",
      "[49]\tvalidation_0-auc:0.911511\tvalidation_1-auc:0.908035\n",
      "[50]\tvalidation_0-auc:0.911705\tvalidation_1-auc:0.908149\n",
      "[51]\tvalidation_0-auc:0.911968\tvalidation_1-auc:0.908349\n",
      "[52]\tvalidation_0-auc:0.912184\tvalidation_1-auc:0.908409\n",
      "[53]\tvalidation_0-auc:0.912391\tvalidation_1-auc:0.90856\n",
      "[54]\tvalidation_0-auc:0.912505\tvalidation_1-auc:0.908597\n",
      "[55]\tvalidation_0-auc:0.912784\tvalidation_1-auc:0.908891\n",
      "[56]\tvalidation_0-auc:0.912955\tvalidation_1-auc:0.908974\n",
      "[57]\tvalidation_0-auc:0.913228\tvalidation_1-auc:0.909206\n",
      "[58]\tvalidation_0-auc:0.913407\tvalidation_1-auc:0.909283\n",
      "[59]\tvalidation_0-auc:0.913536\tvalidation_1-auc:0.909396\n",
      "[60]\tvalidation_0-auc:0.913749\tvalidation_1-auc:0.909529\n",
      "[61]\tvalidation_0-auc:0.913956\tvalidation_1-auc:0.90967\n",
      "[62]\tvalidation_0-auc:0.914154\tvalidation_1-auc:0.909793\n",
      "[63]\tvalidation_0-auc:0.914282\tvalidation_1-auc:0.909872\n",
      "[64]\tvalidation_0-auc:0.91443\tvalidation_1-auc:0.909963\n",
      "[65]\tvalidation_0-auc:0.914584\tvalidation_1-auc:0.91002\n",
      "[66]\tvalidation_0-auc:0.914819\tvalidation_1-auc:0.910165\n",
      "[67]\tvalidation_0-auc:0.914982\tvalidation_1-auc:0.910243\n",
      "[68]\tvalidation_0-auc:0.915172\tvalidation_1-auc:0.910399\n",
      "[69]\tvalidation_0-auc:0.915384\tvalidation_1-auc:0.910629\n",
      "[70]\tvalidation_0-auc:0.91559\tvalidation_1-auc:0.910755\n",
      "[71]\tvalidation_0-auc:0.915728\tvalidation_1-auc:0.9108\n",
      "[72]\tvalidation_0-auc:0.915858\tvalidation_1-auc:0.910873\n",
      "[73]\tvalidation_0-auc:0.915986\tvalidation_1-auc:0.91096\n",
      "[74]\tvalidation_0-auc:0.916086\tvalidation_1-auc:0.911005\n",
      "[75]\tvalidation_0-auc:0.916245\tvalidation_1-auc:0.911112\n",
      "[76]\tvalidation_0-auc:0.916342\tvalidation_1-auc:0.91111\n",
      "[77]\tvalidation_0-auc:0.916448\tvalidation_1-auc:0.911138\n",
      "[78]\tvalidation_0-auc:0.916568\tvalidation_1-auc:0.911233\n",
      "[79]\tvalidation_0-auc:0.91665\tvalidation_1-auc:0.911259\n",
      "[80]\tvalidation_0-auc:0.916767\tvalidation_1-auc:0.911348\n",
      "[81]\tvalidation_0-auc:0.916882\tvalidation_1-auc:0.911382\n",
      "[82]\tvalidation_0-auc:0.916988\tvalidation_1-auc:0.911476\n",
      "[83]\tvalidation_0-auc:0.917085\tvalidation_1-auc:0.911489\n",
      "[84]\tvalidation_0-auc:0.917156\tvalidation_1-auc:0.911508\n",
      "[85]\tvalidation_0-auc:0.917334\tvalidation_1-auc:0.911679\n",
      "[86]\tvalidation_0-auc:0.917475\tvalidation_1-auc:0.911778\n",
      "[87]\tvalidation_0-auc:0.91758\tvalidation_1-auc:0.91182\n",
      "[88]\tvalidation_0-auc:0.917759\tvalidation_1-auc:0.911913\n",
      "[89]\tvalidation_0-auc:0.917834\tvalidation_1-auc:0.911936\n",
      "[90]\tvalidation_0-auc:0.917946\tvalidation_1-auc:0.91198\n",
      "[91]\tvalidation_0-auc:0.918034\tvalidation_1-auc:0.911972\n",
      "[92]\tvalidation_0-auc:0.918176\tvalidation_1-auc:0.912097\n",
      "[93]\tvalidation_0-auc:0.918275\tvalidation_1-auc:0.912138\n",
      "[94]\tvalidation_0-auc:0.918412\tvalidation_1-auc:0.912208\n",
      "[95]\tvalidation_0-auc:0.918565\tvalidation_1-auc:0.912332\n",
      "[96]\tvalidation_0-auc:0.918663\tvalidation_1-auc:0.9124\n",
      "[97]\tvalidation_0-auc:0.918728\tvalidation_1-auc:0.912463\n",
      "[98]\tvalidation_0-auc:0.918823\tvalidation_1-auc:0.912499\n",
      "[99]\tvalidation_0-auc:0.918916\tvalidation_1-auc:0.912529\n",
      "[100]\tvalidation_0-auc:0.918999\tvalidation_1-auc:0.912543\n",
      "[101]\tvalidation_0-auc:0.919128\tvalidation_1-auc:0.912646\n",
      "[102]\tvalidation_0-auc:0.919269\tvalidation_1-auc:0.912728\n",
      "[103]\tvalidation_0-auc:0.919403\tvalidation_1-auc:0.912809\n",
      "[104]\tvalidation_0-auc:0.919515\tvalidation_1-auc:0.912878\n",
      "[105]\tvalidation_0-auc:0.919647\tvalidation_1-auc:0.912924\n",
      "[106]\tvalidation_0-auc:0.919726\tvalidation_1-auc:0.912957\n",
      "[107]\tvalidation_0-auc:0.919843\tvalidation_1-auc:0.912998\n",
      "[108]\tvalidation_0-auc:0.919947\tvalidation_1-auc:0.913039\n",
      "[109]\tvalidation_0-auc:0.920021\tvalidation_1-auc:0.913068\n",
      "[110]\tvalidation_0-auc:0.920105\tvalidation_1-auc:0.913089\n",
      "[111]\tvalidation_0-auc:0.920173\tvalidation_1-auc:0.913087\n",
      "[112]\tvalidation_0-auc:0.92031\tvalidation_1-auc:0.913184\n",
      "[113]\tvalidation_0-auc:0.920447\tvalidation_1-auc:0.913227\n",
      "[114]\tvalidation_0-auc:0.920496\tvalidation_1-auc:0.913228\n",
      "[115]\tvalidation_0-auc:0.920562\tvalidation_1-auc:0.913279\n",
      "[116]\tvalidation_0-auc:0.920671\tvalidation_1-auc:0.91328\n",
      "[117]\tvalidation_0-auc:0.920797\tvalidation_1-auc:0.913365\n",
      "[118]\tvalidation_0-auc:0.920896\tvalidation_1-auc:0.913386\n",
      "[119]\tvalidation_0-auc:0.921003\tvalidation_1-auc:0.913431\n",
      "[120]\tvalidation_0-auc:0.921108\tvalidation_1-auc:0.91343\n",
      "[121]\tvalidation_0-auc:0.921191\tvalidation_1-auc:0.913446\n",
      "[122]\tvalidation_0-auc:0.921264\tvalidation_1-auc:0.913473\n",
      "[123]\tvalidation_0-auc:0.921331\tvalidation_1-auc:0.913488\n",
      "[124]\tvalidation_0-auc:0.921391\tvalidation_1-auc:0.913479\n",
      "[125]\tvalidation_0-auc:0.921501\tvalidation_1-auc:0.913516\n",
      "[126]\tvalidation_0-auc:0.921554\tvalidation_1-auc:0.913533\n",
      "[127]\tvalidation_0-auc:0.921659\tvalidation_1-auc:0.913593\n",
      "[128]\tvalidation_0-auc:0.921774\tvalidation_1-auc:0.913652\n",
      "[129]\tvalidation_0-auc:0.921846\tvalidation_1-auc:0.913698\n",
      "[130]\tvalidation_0-auc:0.921948\tvalidation_1-auc:0.913737\n",
      "[131]\tvalidation_0-auc:0.922039\tvalidation_1-auc:0.913792\n",
      "[132]\tvalidation_0-auc:0.922098\tvalidation_1-auc:0.913786\n",
      "[133]\tvalidation_0-auc:0.922138\tvalidation_1-auc:0.913787\n",
      "[134]\tvalidation_0-auc:0.922202\tvalidation_1-auc:0.913781\n",
      "[135]\tvalidation_0-auc:0.922249\tvalidation_1-auc:0.913807\n",
      "[136]\tvalidation_0-auc:0.92233\tvalidation_1-auc:0.913817\n",
      "[137]\tvalidation_0-auc:0.922422\tvalidation_1-auc:0.913826\n",
      "[138]\tvalidation_0-auc:0.922445\tvalidation_1-auc:0.913818\n",
      "[139]\tvalidation_0-auc:0.922541\tvalidation_1-auc:0.91384\n",
      "[140]\tvalidation_0-auc:0.922629\tvalidation_1-auc:0.913877\n",
      "[141]\tvalidation_0-auc:0.922728\tvalidation_1-auc:0.913938\n",
      "[142]\tvalidation_0-auc:0.922802\tvalidation_1-auc:0.913957\n",
      "[143]\tvalidation_0-auc:0.922896\tvalidation_1-auc:0.913976\n",
      "[144]\tvalidation_0-auc:0.922994\tvalidation_1-auc:0.913988\n",
      "[145]\tvalidation_0-auc:0.923058\tvalidation_1-auc:0.913996\n",
      "[146]\tvalidation_0-auc:0.923211\tvalidation_1-auc:0.914072\n",
      "[147]\tvalidation_0-auc:0.923265\tvalidation_1-auc:0.914062\n",
      "[148]\tvalidation_0-auc:0.923363\tvalidation_1-auc:0.914109\n",
      "[149]\tvalidation_0-auc:0.923399\tvalidation_1-auc:0.914105\n",
      "[150]\tvalidation_0-auc:0.923542\tvalidation_1-auc:0.914145\n",
      "[151]\tvalidation_0-auc:0.923637\tvalidation_1-auc:0.914194\n",
      "[152]\tvalidation_0-auc:0.923726\tvalidation_1-auc:0.914238\n",
      "[153]\tvalidation_0-auc:0.923811\tvalidation_1-auc:0.914238\n",
      "[154]\tvalidation_0-auc:0.923851\tvalidation_1-auc:0.914273\n",
      "[155]\tvalidation_0-auc:0.92392\tvalidation_1-auc:0.914276\n",
      "[156]\tvalidation_0-auc:0.924032\tvalidation_1-auc:0.914341\n",
      "[157]\tvalidation_0-auc:0.924064\tvalidation_1-auc:0.914341\n",
      "[158]\tvalidation_0-auc:0.924138\tvalidation_1-auc:0.914333\n",
      "[159]\tvalidation_0-auc:0.924198\tvalidation_1-auc:0.91433\n",
      "[160]\tvalidation_0-auc:0.924278\tvalidation_1-auc:0.914332\n",
      "[161]\tvalidation_0-auc:0.924372\tvalidation_1-auc:0.9144\n",
      "[162]\tvalidation_0-auc:0.924455\tvalidation_1-auc:0.914421\n",
      "[163]\tvalidation_0-auc:0.924507\tvalidation_1-auc:0.914425\n",
      "[164]\tvalidation_0-auc:0.924555\tvalidation_1-auc:0.914413\n",
      "[165]\tvalidation_0-auc:0.924598\tvalidation_1-auc:0.914392\n",
      "[166]\tvalidation_0-auc:0.924687\tvalidation_1-auc:0.914438\n",
      "[167]\tvalidation_0-auc:0.9247\tvalidation_1-auc:0.914437\n",
      "[168]\tvalidation_0-auc:0.924829\tvalidation_1-auc:0.914536\n",
      "[169]\tvalidation_0-auc:0.92493\tvalidation_1-auc:0.914566\n",
      "[170]\tvalidation_0-auc:0.925069\tvalidation_1-auc:0.914632\n",
      "[171]\tvalidation_0-auc:0.925153\tvalidation_1-auc:0.914624\n",
      "[172]\tvalidation_0-auc:0.925215\tvalidation_1-auc:0.914652\n",
      "[173]\tvalidation_0-auc:0.925256\tvalidation_1-auc:0.914656\n",
      "[174]\tvalidation_0-auc:0.925314\tvalidation_1-auc:0.914674\n",
      "[175]\tvalidation_0-auc:0.925376\tvalidation_1-auc:0.914685\n",
      "[176]\tvalidation_0-auc:0.925447\tvalidation_1-auc:0.9147\n",
      "[177]\tvalidation_0-auc:0.925486\tvalidation_1-auc:0.914689\n",
      "[178]\tvalidation_0-auc:0.925552\tvalidation_1-auc:0.91471\n",
      "[179]\tvalidation_0-auc:0.925578\tvalidation_1-auc:0.914716\n",
      "[180]\tvalidation_0-auc:0.925603\tvalidation_1-auc:0.914712\n",
      "[181]\tvalidation_0-auc:0.925642\tvalidation_1-auc:0.914711\n",
      "[182]\tvalidation_0-auc:0.925672\tvalidation_1-auc:0.914683\n",
      "[183]\tvalidation_0-auc:0.925722\tvalidation_1-auc:0.914679\n",
      "[184]\tvalidation_0-auc:0.925742\tvalidation_1-auc:0.914669\n",
      "Stopping. Best iteration:\n",
      "[179]\tvalidation_0-auc:0.925578\tvalidation_1-auc:0.914716\n",
      "\n"
     ]
    },
    {
     "data": {
      "text/plain": [
       "XGBClassifier(base_score=0.5, colsample_bylevel=1, colsample_bytree=1,\n",
       "       gamma=0, learning_rate=0.1, max_delta_step=0, max_depth=4,\n",
       "       min_child_weight=1, missing=None, n_estimators=1000, nthread=4,\n",
       "       objective='binary:logistic', reg_alpha=0, reg_lambda=1,\n",
       "       scale_pos_weight=5, seed=666, silent=False, subsample=1)"
      ]
     },
     "execution_count": 84,
     "metadata": {},
     "output_type": "execute_result"
    }
   ],
   "source": [
    "model.fit(\n",
    "    X_train,\n",
    "    y_train,\n",
    "    eval_set=[(X_train, y_train), (X_test, y_test)],\n",
    "    early_stopping_rounds=5,\n",
    "    eval_metric='auc',\n",
    "    verbose=True, )"
   ]
  },
  {
   "cell_type": "code",
   "execution_count": 70,
   "metadata": {
    "collapsed": true
   },
   "outputs": [],
   "source": [
    "def get_score(model, X_train, train_features):\n",
    "    result = model.predict_proba(X_train)[:, 1]\n",
    "    train_features['prob'] = np.nan\n",
    "    train_features.loc[X_train.index, 'prob'] = result\n",
    "    train_x = train_features.loc[X_train.index, ['orderid', 'prob', 'orderlabel']]\n",
    "    train_x.sort_values('prob', ascending=False, inplace=True)\n",
    "    finall_result_x = train_x.drop_duplicates(['orderid'])\n",
    "    train_score = finall_result_x.orderlabel.mean()\n",
    "    print(train_score)\n",
    "    return train_score"
   ]
  },
  {
   "cell_type": "code",
   "execution_count": 85,
   "metadata": {
    "collapsed": false
   },
   "outputs": [
    {
     "name": "stdout",
     "output_type": "stream",
     "text": [
      "0.323835143303\n"
     ]
    },
    {
     "data": {
      "text/plain": [
       "0.32383514330311181"
      ]
     },
     "execution_count": 85,
     "metadata": {},
     "output_type": "execute_result"
    }
   ],
   "source": [
    "get_score(model, X_train, train_features)"
   ]
  },
  {
   "cell_type": "code",
   "execution_count": 86,
   "metadata": {
    "collapsed": false
   },
   "outputs": [
    {
     "name": "stdout",
     "output_type": "stream",
     "text": [
      "0.199036972187\n"
     ]
    },
    {
     "data": {
      "text/plain": [
       "0.19903697218667923"
      ]
     },
     "execution_count": 86,
     "metadata": {},
     "output_type": "execute_result"
    }
   ],
   "source": [
    "get_score(model, X_test, train_features)"
   ]
  },
  {
   "cell_type": "code",
   "execution_count": 19,
   "metadata": {
    "collapsed": false
   },
   "outputs": [
    {
     "data": {
      "text/plain": [
       "13"
      ]
     },
     "execution_count": 19,
     "metadata": {},
     "output_type": "execute_result"
    }
   ],
   "source": [
    "model.best_ntree_limit"
   ]
  },
  {
   "cell_type": "code",
   "execution_count": 87,
   "metadata": {
    "collapsed": true
   },
   "outputs": [
    {
     "data": {
      "text/plain": [
       "'hotel_roomid_rank:0.0746765285730362 , basicroomid__room_30days_ordnumratio_max:0.04842883720993996 , roomservice_8:0.040665432810783386 , uid__hotel_roomid_count:0.03696857765316963 , hotel_roomid__hotel_roomid_diff_price_last_lastord_mean:0.03585951775312424 , hotelid__room_30days_ordnumratio_max:0.025508318096399307 , roomtag_1:0.02144177444279194 , hotel_roomid__hotel_roomid_diff_price_last_lastord_max:0.021072087809443474 , uid_user_rank_ratio:0.021072087809443474 , hotel_roomid_room_30days_realratio:0.020702403038740158 , basicroomid__roomtag_1_count:0.019223660230636597 , basicroomid__price_deduct_std:0.015157116577029228 , hotel_roomid__hotel_roomid_diff_basic_minprice_lastord_mean:0.012569315731525421 , basicroomid__room_30days_realratio_mean:0.012569315731525421 , hotelid__basicroomid_count:0.012569315731525421 , uid_user_avgprice_star:0.01219963002949953 , hotelid__price_deduct_min:0.01219963002949953 , roomservice_3:0.01182994432747364 , basicroomid_is_lastord:0.01182994432747364 , hotel_roomid__hotel_roomid_diff_hotel_minprice_lastord_mean:0.01146025862544775 , roomtag_3:0.01109057292342186 , basicroomid__room_30days_ordnumratio_std:0.009981515817344189 , roomservice_7:0.009242144413292408 , basicroomid__room_30days_realratio_75:0.008872458711266518 , basicroomid__basicroomid_diff_price_last_lastord_mean:0.008872458711266518 , basicroomid__room_30days_ordnumratio_25:0.008872458711266518 , hotelid_is_lastord:0.008502773009240627 , basicroomid__room_30days_realratio_min:0.008502773009240627 , uid__uid_diff_price_last_lastord_mean:0.008133087307214737 , uid__uid_diff_hotel_minprice_lastord_mean:0.007763401139527559 , basicroomid__room_30days_ordnumratio_75:0.007763401139527559 , hotel_roomid__hotel_roomid_diff_basic_minprice_lastord_max:0.007763401139527559 , orderspan:0.007393715437501669 , hotelid__roomid_count:0.007393715437501669 , basicroomid__room_30days_realratio_25:0.007024029735475779 , basicroomid__room_30days_ordnumratio_mean:0.007024029735475779 , uid_user_avgdealpriceholiday:0.007024029735475779 , basicroomid__roomid_count:0.007024029735475779 , basicroomid__room_30days_ordnumratio_min:0.007024029735475779 , basicroomid__room_30days_ordnumratio_50:0.007024029735475779 , roomtag_2:0.006654344033449888 , hotel_roomid__hotel_roomid_diff_hotel_minprice_lastord_max:0.006654344033449888 , hotelid__room_30days_realratio_max:0.006284657865762711 , basicroomid_basic_minarea:0.006284657865762711 , uid_hotel_minprice_lastord:0.006284657865762711 , basicroomid__roomservice_3_count:0.006284657865762711 , roomservice_4:0.00591497216373682 , hotelid__basic_30days_ordnumratio_min:0.00591497216373682 , hotelid__basic_30days_ordnumratio_mean:0.00591497216373682 , hotelid__basic_30days_realratio_mean:0.00591497216373682 '"
      ]
     },
     "execution_count": 87,
     "metadata": {},
     "output_type": "execute_result"
    }
   ],
   "source": [
    "importance_df = pd.DataFrame(model.feature_importances_, index=use_columns)\n",
    "\n",
    "importance_df.sort_values(0, ascending=False, inplace=True)\n",
    "importance_df.to_pickle('xgb_importance.pkl')\n",
    "importance_top50 = ', '.join(['{}:{} '.format(x, importance_df.loc[x].values[0]) for x in importance_df.index][:50])\n",
    "importance_top50"
   ]
  },
  {
   "cell_type": "code",
   "execution_count": 88,
   "metadata": {
    "collapsed": true
   },
   "outputs": [],
   "source": [
    "pickle.dump(model, open(model_path, 'wb'))"
   ]
  }
 ],
 "metadata": {
  "anaconda-cloud": {},
  "hide_input": false,
  "kernelspec": {
   "display_name": "Python 3",
   "language": "python",
   "name": "python3"
  },
  "language_info": {
   "codemirror_mode": {
    "name": "ipython",
    "version": 3
   },
   "file_extension": ".py",
   "mimetype": "text/x-python",
   "name": "python",
   "nbconvert_exporter": "python",
   "pygments_lexer": "ipython3",
   "version": "3.5.1"
  }
 },
 "nbformat": 4,
 "nbformat_minor": 2
}
