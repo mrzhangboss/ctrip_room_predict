{
 "cells": [
  {
   "cell_type": "code",
   "execution_count": 1,
   "metadata": {
    "collapsed": false
   },
   "outputs": [
    {
     "name": "stderr",
     "output_type": "stream",
     "text": [
      "/home/zhanglun/.pyenv/versions/anaconda3-4.1.0/lib/python3.5/site-packages/sklearn/cross_validation.py:44: DeprecationWarning: This module was deprecated in version 0.18 in favor of the model_selection module into which all the refactored classes and functions are moved. Also note that the interface of the new CV iterators are different from that of this module. This module will be removed in 0.20.\n",
      "  \"This module will be removed in 0.20.\", DeprecationWarning)\n"
     ]
    }
   ],
   "source": [
    "import pickle\n",
    "import gc\n",
    "from datetime import datetime\n",
    "from os.path import exists, join\n",
    "\n",
    "import numpy as np\n",
    "import pandas as pd\n",
    "import scipy as sp\n",
    "\n",
    "# import matplotlib.pyplot as plt\n",
    "\n",
    "from sklearn import model_selection\n",
    "from sklearn.model_selection import KFold\n",
    "from sklearn.model_selection import train_test_split\n",
    "\n",
    "import xgboost as xgb\n",
    "from xgboost import XGBClassifier\n",
    "from sklearn.ensemble import RandomForestClassifier\n",
    "from sklearn import model_selection\n",
    "from sklearn.metrics import mean_squared_error, mean_absolute_error"
   ]
  },
  {
   "cell_type": "code",
   "execution_count": 2,
   "metadata": {
    "collapsed": false
   },
   "outputs": [
    {
     "data": {
      "text/plain": [
       "(879539, 443)"
      ]
     },
     "execution_count": 2,
     "metadata": {},
     "output_type": "execute_result"
    }
   ],
   "source": [
    "train_f = pd.read_pickle('../dataset/train/train_all_feature.pkl')\n",
    "train_f.shape"
   ]
  },
  {
   "cell_type": "code",
   "execution_count": 3,
   "metadata": {
    "collapsed": false
   },
   "outputs": [
    {
     "data": {
      "text/plain": [
       "(215287, 443)"
      ]
     },
     "execution_count": 3,
     "metadata": {},
     "output_type": "execute_result"
    }
   ],
   "source": [
    "test_f = pd.read_pickle('../dataset/train/test_all_feature.pkl')\n",
    "test_f.shape"
   ]
  },
  {
   "cell_type": "code",
   "execution_count": 4,
   "metadata": {
    "collapsed": true
   },
   "outputs": [],
   "source": [
    "luck = 666"
   ]
  },
  {
   "cell_type": "code",
   "execution_count": 5,
   "metadata": {
    "collapsed": true
   },
   "outputs": [],
   "source": [
    "parameters = {\n",
    "#     'gamma': [0.05],\n",
    "    #     'n_estimators': [800],\n",
    "    'max_depth': [2],\n",
    "#     'learning_rate': [0.15, 0.3],\n",
    "#         'subsample': [0.9],\n",
    "#         'colsample_bytree': [0.9],\n",
    "#     'min_child_weight': [1, 2],\n",
    "    #     'reg_alpha': [0, 1, 5],\n",
    "    #     'reg_lambda': [0, 1, 4],\n",
    "}"
   ]
  },
  {
   "cell_type": "code",
   "execution_count": 6,
   "metadata": {
    "collapsed": true
   },
   "outputs": [],
   "source": [
    "model_path = '../dataset/xgbmodel.pkl'"
   ]
  },
  {
   "cell_type": "code",
   "execution_count": 7,
   "metadata": {
    "collapsed": false
   },
   "outputs": [],
   "source": [
    "model = XGBClassifier(nthread=4, silent=False, objective= 'binary:logistic', n_estimators=100, seed=luck)"
   ]
  },
  {
   "cell_type": "code",
   "execution_count": 8,
   "metadata": {
    "collapsed": false,
    "scrolled": true
   },
   "outputs": [],
   "source": [
    "clf = model_selection.GridSearchCV(model, parameters, n_jobs=-1, cv=2, verbose=True)"
   ]
  },
  {
   "cell_type": "code",
   "execution_count": 9,
   "metadata": {
    "collapsed": true
   },
   "outputs": [],
   "source": [
    "use_columns = [\n",
    "    x for x in train_f.columns\n",
    "    if x not in [\n",
    "        'orderid', 'uid', 'hotelid', 'basicroomid', 'hotel_roomid', 'roomid',\n",
    "        'orderlabel'\n",
    "    ]\n",
    "]"
   ]
  },
  {
   "cell_type": "code",
   "execution_count": 10,
   "metadata": {
    "collapsed": false
   },
   "outputs": [
    {
     "data": {
      "text/plain": [
       "(879539, 443)"
      ]
     },
     "execution_count": 10,
     "metadata": {},
     "output_type": "execute_result"
    }
   ],
   "source": [
    "train_f.shape"
   ]
  },
  {
   "cell_type": "code",
   "execution_count": 11,
   "metadata": {
    "collapsed": true
   },
   "outputs": [],
   "source": [
    "clf_feture = train_f.sample(5000, random_state=luck)"
   ]
  },
  {
   "cell_type": "code",
   "execution_count": 12,
   "metadata": {
    "collapsed": false,
    "scrolled": true
   },
   "outputs": [
    {
     "name": "stdout",
     "output_type": "stream",
     "text": [
      "Fitting 2 folds for each of 1 candidates, totalling 2 fits\n"
     ]
    },
    {
     "name": "stderr",
     "output_type": "stream",
     "text": [
      "[Parallel(n_jobs=-1)]: Done   2 out of   2 | elapsed:    4.5s finished\n"
     ]
    },
    {
     "name": "stdout",
     "output_type": "stream",
     "text": [
      "CPU times: user 12.9 s, sys: 97.8 ms, total: 13 s\n",
      "Wall time: 8.15 s\n"
     ]
    },
    {
     "data": {
      "text/plain": [
       "GridSearchCV(cv=2, error_score='raise',\n",
       "       estimator=XGBClassifier(base_score=0.5, colsample_bylevel=1, colsample_bytree=1,\n",
       "       gamma=0, learning_rate=0.1, max_delta_step=0, max_depth=3,\n",
       "       min_child_weight=1, missing=None, n_estimators=100, nthread=4,\n",
       "       objective='binary:logistic', reg_alpha=0, reg_lambda=1,\n",
       "       scale_pos_weight=1, seed=666, silent=False, subsample=1),\n",
       "       fit_params={}, iid=True, n_jobs=-1, param_grid={'max_depth': [2]},\n",
       "       pre_dispatch='2*n_jobs', refit=True, return_train_score=True,\n",
       "       scoring=None, verbose=True)"
      ]
     },
     "execution_count": 12,
     "metadata": {},
     "output_type": "execute_result"
    }
   ],
   "source": [
    "%time clf.fit(clf_feture[use_columns], clf_feture['orderlabel'])"
   ]
  },
  {
   "cell_type": "code",
   "execution_count": 13,
   "metadata": {
    "collapsed": false
   },
   "outputs": [
    {
     "data": {
      "text/plain": [
       "0.96999999999999997"
      ]
     },
     "execution_count": 13,
     "metadata": {},
     "output_type": "execute_result"
    }
   ],
   "source": [
    "clf.best_score_"
   ]
  },
  {
   "cell_type": "code",
   "execution_count": 14,
   "metadata": {
    "collapsed": true
   },
   "outputs": [],
   "source": [
    "# # # clf.best_params_['n_estimators'] = \n",
    "clf.best_params_['max_depth'] = 6\n",
    "# # clf.best_params_['gamma'] = 2\n",
    "clf.best_params_['subsample'] = 0.8\n",
    "clf.best_params_['colsample_bytree'] = 0.8\n",
    "# # clf.best_params_['n_estimators'] = 1000\n",
    "clf.best_params_['learning_rate'] = 0.1\n",
    "# # clf.best_params_['min_child_weight'] = 2\n",
    "# # clf.best_params_['reg_alpha'] = 0.1\n",
    "\n",
    "# clf.best_params_['scale_pos_weight'] = 5\n",
    "\n",
    "\n",
    "\n"
   ]
  },
  {
   "cell_type": "code",
   "execution_count": 15,
   "metadata": {
    "collapsed": false
   },
   "outputs": [
    {
     "data": {
      "text/plain": [
       "XGBClassifier(base_score=0.5, colsample_bylevel=1, colsample_bytree=0.8,\n",
       "       gamma=0, learning_rate=0.1, max_delta_step=0, max_depth=6,\n",
       "       min_child_weight=1, missing=None, n_estimators=1000, nthread=4,\n",
       "       objective='binary:logistic', reg_alpha=0, reg_lambda=1,\n",
       "       scale_pos_weight=1, seed=666, silent=False, subsample=0.8)"
      ]
     },
     "execution_count": 15,
     "metadata": {},
     "output_type": "execute_result"
    }
   ],
   "source": [
    "model = XGBClassifier(\n",
    "    nthread=4,\n",
    "    silent=False,\n",
    "    objective='binary:logistic',\n",
    "    seed=luck,\n",
    "#     learning_rate=0.3,\n",
    "    n_estimators=1000,\n",
    "    **clf.best_params_)\n",
    "model\n",
    "# model "
   ]
  },
  {
   "cell_type": "code",
   "execution_count": 16,
   "metadata": {
    "collapsed": true
   },
   "outputs": [
    {
     "name": "stdout",
     "output_type": "stream",
     "text": [
      "[0]\tvalidation_0-auc:0.899755\tvalidation_1-auc:0.897268\n",
      "Multiple eval metrics have been passed: 'validation_1-auc' will be used for early stopping.\n",
      "\n",
      "Will train until validation_1-auc hasn't improved in 30 rounds.\n",
      "[1]\tvalidation_0-auc:0.907763\tvalidation_1-auc:0.906011\n",
      "[2]\tvalidation_0-auc:0.909966\tvalidation_1-auc:0.90784\n",
      "[3]\tvalidation_0-auc:0.911352\tvalidation_1-auc:0.909017\n",
      "[4]\tvalidation_0-auc:0.912318\tvalidation_1-auc:0.909981\n",
      "[5]\tvalidation_0-auc:0.913015\tvalidation_1-auc:0.910467\n",
      "[6]\tvalidation_0-auc:0.9135\tvalidation_1-auc:0.910766\n",
      "[7]\tvalidation_0-auc:0.91472\tvalidation_1-auc:0.911962\n",
      "[8]\tvalidation_0-auc:0.914966\tvalidation_1-auc:0.91219\n",
      "[9]\tvalidation_0-auc:0.915321\tvalidation_1-auc:0.912559\n",
      "[10]\tvalidation_0-auc:0.915493\tvalidation_1-auc:0.912886\n",
      "[11]\tvalidation_0-auc:0.915733\tvalidation_1-auc:0.913028\n",
      "[12]\tvalidation_0-auc:0.916288\tvalidation_1-auc:0.913356\n",
      "[13]\tvalidation_0-auc:0.916898\tvalidation_1-auc:0.913837\n",
      "[14]\tvalidation_0-auc:0.917126\tvalidation_1-auc:0.914173\n",
      "[15]\tvalidation_0-auc:0.917373\tvalidation_1-auc:0.914284\n",
      "[16]\tvalidation_0-auc:0.917801\tvalidation_1-auc:0.914643\n",
      "[17]\tvalidation_0-auc:0.917936\tvalidation_1-auc:0.914641\n",
      "[18]\tvalidation_0-auc:0.917964\tvalidation_1-auc:0.914652\n",
      "[19]\tvalidation_0-auc:0.918153\tvalidation_1-auc:0.914754\n",
      "[20]\tvalidation_0-auc:0.918307\tvalidation_1-auc:0.915007\n",
      "[21]\tvalidation_0-auc:0.918425\tvalidation_1-auc:0.915054\n",
      "[22]\tvalidation_0-auc:0.918463\tvalidation_1-auc:0.915013\n",
      "[23]\tvalidation_0-auc:0.918971\tvalidation_1-auc:0.915437\n",
      "[24]\tvalidation_0-auc:0.919502\tvalidation_1-auc:0.915804\n",
      "[25]\tvalidation_0-auc:0.919767\tvalidation_1-auc:0.916003\n",
      "[26]\tvalidation_0-auc:0.920042\tvalidation_1-auc:0.916275\n",
      "[27]\tvalidation_0-auc:0.920456\tvalidation_1-auc:0.916535\n",
      "[28]\tvalidation_0-auc:0.921028\tvalidation_1-auc:0.917116\n",
      "[29]\tvalidation_0-auc:0.921371\tvalidation_1-auc:0.917362\n",
      "[30]\tvalidation_0-auc:0.921594\tvalidation_1-auc:0.917485\n",
      "[31]\tvalidation_0-auc:0.922009\tvalidation_1-auc:0.917734\n",
      "[32]\tvalidation_0-auc:0.922299\tvalidation_1-auc:0.917986\n",
      "[33]\tvalidation_0-auc:0.922732\tvalidation_1-auc:0.91806\n",
      "[34]\tvalidation_0-auc:0.923182\tvalidation_1-auc:0.918458\n",
      "[35]\tvalidation_0-auc:0.923528\tvalidation_1-auc:0.918687\n",
      "[36]\tvalidation_0-auc:0.924169\tvalidation_1-auc:0.919227\n",
      "[37]\tvalidation_0-auc:0.924757\tvalidation_1-auc:0.919725\n",
      "[38]\tvalidation_0-auc:0.925183\tvalidation_1-auc:0.919991\n",
      "[39]\tvalidation_0-auc:0.92561\tvalidation_1-auc:0.920308\n",
      "[40]\tvalidation_0-auc:0.926072\tvalidation_1-auc:0.920682\n",
      "[41]\tvalidation_0-auc:0.926525\tvalidation_1-auc:0.921023\n",
      "[42]\tvalidation_0-auc:0.926968\tvalidation_1-auc:0.921188\n",
      "[43]\tvalidation_0-auc:0.927366\tvalidation_1-auc:0.921519\n",
      "[44]\tvalidation_0-auc:0.927855\tvalidation_1-auc:0.921752\n",
      "[45]\tvalidation_0-auc:0.928217\tvalidation_1-auc:0.921966\n",
      "[46]\tvalidation_0-auc:0.928596\tvalidation_1-auc:0.922062\n",
      "[47]\tvalidation_0-auc:0.928907\tvalidation_1-auc:0.922243\n",
      "[48]\tvalidation_0-auc:0.929327\tvalidation_1-auc:0.922529\n",
      "[49]\tvalidation_0-auc:0.929646\tvalidation_1-auc:0.922684\n",
      "[50]\tvalidation_0-auc:0.929944\tvalidation_1-auc:0.92285\n",
      "[51]\tvalidation_0-auc:0.930261\tvalidation_1-auc:0.923019\n",
      "[52]\tvalidation_0-auc:0.930654\tvalidation_1-auc:0.923306\n",
      "[53]\tvalidation_0-auc:0.931019\tvalidation_1-auc:0.923512\n",
      "[54]\tvalidation_0-auc:0.931553\tvalidation_1-auc:0.923993\n",
      "[55]\tvalidation_0-auc:0.93198\tvalidation_1-auc:0.924303\n",
      "[56]\tvalidation_0-auc:0.932302\tvalidation_1-auc:0.924458\n",
      "[57]\tvalidation_0-auc:0.932639\tvalidation_1-auc:0.924635\n",
      "[58]\tvalidation_0-auc:0.933014\tvalidation_1-auc:0.924901\n",
      "[59]\tvalidation_0-auc:0.933334\tvalidation_1-auc:0.925062\n",
      "[60]\tvalidation_0-auc:0.933705\tvalidation_1-auc:0.925318\n",
      "[61]\tvalidation_0-auc:0.934071\tvalidation_1-auc:0.925537\n",
      "[62]\tvalidation_0-auc:0.934399\tvalidation_1-auc:0.925644\n",
      "[63]\tvalidation_0-auc:0.93474\tvalidation_1-auc:0.925783\n",
      "[64]\tvalidation_0-auc:0.935117\tvalidation_1-auc:0.926049\n",
      "[65]\tvalidation_0-auc:0.935348\tvalidation_1-auc:0.926186\n",
      "[66]\tvalidation_0-auc:0.935613\tvalidation_1-auc:0.926348\n",
      "[67]\tvalidation_0-auc:0.935949\tvalidation_1-auc:0.926544\n",
      "[68]\tvalidation_0-auc:0.936276\tvalidation_1-auc:0.926787\n",
      "[69]\tvalidation_0-auc:0.936505\tvalidation_1-auc:0.926868\n",
      "[70]\tvalidation_0-auc:0.936799\tvalidation_1-auc:0.927012\n",
      "[71]\tvalidation_0-auc:0.937082\tvalidation_1-auc:0.92719\n",
      "[72]\tvalidation_0-auc:0.937308\tvalidation_1-auc:0.927329\n",
      "[73]\tvalidation_0-auc:0.937596\tvalidation_1-auc:0.927458\n",
      "[74]\tvalidation_0-auc:0.937861\tvalidation_1-auc:0.927529\n",
      "[75]\tvalidation_0-auc:0.938067\tvalidation_1-auc:0.927725\n",
      "[76]\tvalidation_0-auc:0.938324\tvalidation_1-auc:0.927915\n",
      "[77]\tvalidation_0-auc:0.938653\tvalidation_1-auc:0.928135\n",
      "[78]\tvalidation_0-auc:0.939003\tvalidation_1-auc:0.92849\n",
      "[79]\tvalidation_0-auc:0.939256\tvalidation_1-auc:0.928648\n",
      "[80]\tvalidation_0-auc:0.939565\tvalidation_1-auc:0.928871\n",
      "[81]\tvalidation_0-auc:0.939781\tvalidation_1-auc:0.928936\n",
      "[82]\tvalidation_0-auc:0.939945\tvalidation_1-auc:0.929029\n",
      "[83]\tvalidation_0-auc:0.940171\tvalidation_1-auc:0.929157\n",
      "[84]\tvalidation_0-auc:0.940363\tvalidation_1-auc:0.929312\n",
      "[85]\tvalidation_0-auc:0.940563\tvalidation_1-auc:0.929432\n",
      "[86]\tvalidation_0-auc:0.940757\tvalidation_1-auc:0.929579\n",
      "[87]\tvalidation_0-auc:0.940952\tvalidation_1-auc:0.929676\n",
      "[88]\tvalidation_0-auc:0.941098\tvalidation_1-auc:0.929718\n",
      "[89]\tvalidation_0-auc:0.941246\tvalidation_1-auc:0.92976\n",
      "[90]\tvalidation_0-auc:0.941352\tvalidation_1-auc:0.929823\n",
      "[91]\tvalidation_0-auc:0.941534\tvalidation_1-auc:0.929897\n",
      "[92]\tvalidation_0-auc:0.941709\tvalidation_1-auc:0.929996\n",
      "[93]\tvalidation_0-auc:0.941848\tvalidation_1-auc:0.930025\n",
      "[94]\tvalidation_0-auc:0.942034\tvalidation_1-auc:0.930158\n",
      "[95]\tvalidation_0-auc:0.942224\tvalidation_1-auc:0.930253\n",
      "[96]\tvalidation_0-auc:0.942352\tvalidation_1-auc:0.930318\n",
      "[97]\tvalidation_0-auc:0.94249\tvalidation_1-auc:0.930361\n",
      "[98]\tvalidation_0-auc:0.942672\tvalidation_1-auc:0.930408\n",
      "[99]\tvalidation_0-auc:0.942811\tvalidation_1-auc:0.930465\n",
      "[100]\tvalidation_0-auc:0.942994\tvalidation_1-auc:0.930533\n",
      "[101]\tvalidation_0-auc:0.943152\tvalidation_1-auc:0.930623\n",
      "[102]\tvalidation_0-auc:0.943361\tvalidation_1-auc:0.930774\n",
      "[103]\tvalidation_0-auc:0.943553\tvalidation_1-auc:0.930879\n",
      "[104]\tvalidation_0-auc:0.943666\tvalidation_1-auc:0.930935\n",
      "[105]\tvalidation_0-auc:0.943814\tvalidation_1-auc:0.93103\n",
      "[106]\tvalidation_0-auc:0.943976\tvalidation_1-auc:0.931095\n",
      "[107]\tvalidation_0-auc:0.944129\tvalidation_1-auc:0.93115\n",
      "[108]\tvalidation_0-auc:0.944264\tvalidation_1-auc:0.931201\n",
      "[109]\tvalidation_0-auc:0.94438\tvalidation_1-auc:0.931254\n",
      "[110]\tvalidation_0-auc:0.944448\tvalidation_1-auc:0.931274\n",
      "[111]\tvalidation_0-auc:0.944623\tvalidation_1-auc:0.931368\n",
      "[112]\tvalidation_0-auc:0.944808\tvalidation_1-auc:0.931482\n",
      "[113]\tvalidation_0-auc:0.94492\tvalidation_1-auc:0.93152\n",
      "[114]\tvalidation_0-auc:0.945111\tvalidation_1-auc:0.931595\n",
      "[115]\tvalidation_0-auc:0.945224\tvalidation_1-auc:0.931587\n",
      "[116]\tvalidation_0-auc:0.94544\tvalidation_1-auc:0.931687\n",
      "[117]\tvalidation_0-auc:0.945605\tvalidation_1-auc:0.931695\n",
      "[118]\tvalidation_0-auc:0.945674\tvalidation_1-auc:0.931734\n",
      "[119]\tvalidation_0-auc:0.945821\tvalidation_1-auc:0.931833\n",
      "[120]\tvalidation_0-auc:0.945969\tvalidation_1-auc:0.931855\n",
      "[121]\tvalidation_0-auc:0.946072\tvalidation_1-auc:0.93189\n",
      "[122]\tvalidation_0-auc:0.946209\tvalidation_1-auc:0.931881\n",
      "[123]\tvalidation_0-auc:0.946301\tvalidation_1-auc:0.931899\n",
      "[124]\tvalidation_0-auc:0.946484\tvalidation_1-auc:0.932009\n",
      "[125]\tvalidation_0-auc:0.946645\tvalidation_1-auc:0.932045\n",
      "[126]\tvalidation_0-auc:0.946824\tvalidation_1-auc:0.93212\n",
      "[127]\tvalidation_0-auc:0.94702\tvalidation_1-auc:0.932199\n",
      "[128]\tvalidation_0-auc:0.947114\tvalidation_1-auc:0.932207\n",
      "[129]\tvalidation_0-auc:0.94721\tvalidation_1-auc:0.93225\n",
      "[130]\tvalidation_0-auc:0.947391\tvalidation_1-auc:0.932286\n",
      "[131]\tvalidation_0-auc:0.947551\tvalidation_1-auc:0.932368\n",
      "[132]\tvalidation_0-auc:0.947706\tvalidation_1-auc:0.932386\n",
      "[133]\tvalidation_0-auc:0.947842\tvalidation_1-auc:0.932443\n",
      "[134]\tvalidation_0-auc:0.947875\tvalidation_1-auc:0.93245\n",
      "[135]\tvalidation_0-auc:0.94793\tvalidation_1-auc:0.932452\n",
      "[136]\tvalidation_0-auc:0.948038\tvalidation_1-auc:0.932485\n",
      "[137]\tvalidation_0-auc:0.948108\tvalidation_1-auc:0.932476\n",
      "[138]\tvalidation_0-auc:0.948178\tvalidation_1-auc:0.932503\n",
      "[139]\tvalidation_0-auc:0.948317\tvalidation_1-auc:0.932543\n",
      "[140]\tvalidation_0-auc:0.948494\tvalidation_1-auc:0.932577\n",
      "[141]\tvalidation_0-auc:0.948528\tvalidation_1-auc:0.932603\n",
      "[142]\tvalidation_0-auc:0.948625\tvalidation_1-auc:0.932577\n",
      "[143]\tvalidation_0-auc:0.948779\tvalidation_1-auc:0.932597\n",
      "[144]\tvalidation_0-auc:0.948882\tvalidation_1-auc:0.932597\n",
      "[145]\tvalidation_0-auc:0.948929\tvalidation_1-auc:0.932607\n",
      "[146]\tvalidation_0-auc:0.949\tvalidation_1-auc:0.932616\n",
      "[147]\tvalidation_0-auc:0.949042\tvalidation_1-auc:0.932647\n",
      "[148]\tvalidation_0-auc:0.949211\tvalidation_1-auc:0.932755\n",
      "[149]\tvalidation_0-auc:0.949337\tvalidation_1-auc:0.932773\n",
      "[150]\tvalidation_0-auc:0.949411\tvalidation_1-auc:0.932777\n",
      "[151]\tvalidation_0-auc:0.949551\tvalidation_1-auc:0.932781\n",
      "[152]\tvalidation_0-auc:0.949682\tvalidation_1-auc:0.932803\n",
      "[153]\tvalidation_0-auc:0.949766\tvalidation_1-auc:0.932803\n",
      "[154]\tvalidation_0-auc:0.949903\tvalidation_1-auc:0.932808\n",
      "[155]\tvalidation_0-auc:0.950016\tvalidation_1-auc:0.93282\n",
      "[156]\tvalidation_0-auc:0.9501\tvalidation_1-auc:0.932846\n",
      "[157]\tvalidation_0-auc:0.950209\tvalidation_1-auc:0.932908\n",
      "[158]\tvalidation_0-auc:0.95031\tvalidation_1-auc:0.932927\n",
      "[159]\tvalidation_0-auc:0.950419\tvalidation_1-auc:0.932949\n",
      "[160]\tvalidation_0-auc:0.950581\tvalidation_1-auc:0.933001\n",
      "[161]\tvalidation_0-auc:0.950688\tvalidation_1-auc:0.933017\n",
      "[162]\tvalidation_0-auc:0.950788\tvalidation_1-auc:0.93304\n",
      "[163]\tvalidation_0-auc:0.950903\tvalidation_1-auc:0.933051\n",
      "[164]\tvalidation_0-auc:0.950983\tvalidation_1-auc:0.933034\n",
      "[165]\tvalidation_0-auc:0.951085\tvalidation_1-auc:0.933073\n",
      "[166]\tvalidation_0-auc:0.95113\tvalidation_1-auc:0.933078\n",
      "[167]\tvalidation_0-auc:0.951266\tvalidation_1-auc:0.933115\n",
      "[168]\tvalidation_0-auc:0.951345\tvalidation_1-auc:0.933114\n",
      "[169]\tvalidation_0-auc:0.951468\tvalidation_1-auc:0.93313\n",
      "[170]\tvalidation_0-auc:0.951571\tvalidation_1-auc:0.933128\n",
      "[171]\tvalidation_0-auc:0.951634\tvalidation_1-auc:0.93313\n",
      "[172]\tvalidation_0-auc:0.951738\tvalidation_1-auc:0.933168\n",
      "[173]\tvalidation_0-auc:0.951791\tvalidation_1-auc:0.933162\n",
      "[174]\tvalidation_0-auc:0.951934\tvalidation_1-auc:0.933182\n",
      "[175]\tvalidation_0-auc:0.951963\tvalidation_1-auc:0.933203\n",
      "[176]\tvalidation_0-auc:0.95205\tvalidation_1-auc:0.933211\n",
      "[177]\tvalidation_0-auc:0.952132\tvalidation_1-auc:0.933219\n",
      "[178]\tvalidation_0-auc:0.95231\tvalidation_1-auc:0.933234\n",
      "[179]\tvalidation_0-auc:0.952422\tvalidation_1-auc:0.933266\n",
      "[180]\tvalidation_0-auc:0.952489\tvalidation_1-auc:0.933279\n",
      "[181]\tvalidation_0-auc:0.952541\tvalidation_1-auc:0.933298\n",
      "[182]\tvalidation_0-auc:0.952676\tvalidation_1-auc:0.933289\n",
      "[183]\tvalidation_0-auc:0.952729\tvalidation_1-auc:0.933277\n",
      "[184]\tvalidation_0-auc:0.952794\tvalidation_1-auc:0.933284\n",
      "[185]\tvalidation_0-auc:0.952907\tvalidation_1-auc:0.933293\n",
      "[186]\tvalidation_0-auc:0.953023\tvalidation_1-auc:0.933315\n",
      "[187]\tvalidation_0-auc:0.953127\tvalidation_1-auc:0.933318\n",
      "[188]\tvalidation_0-auc:0.953205\tvalidation_1-auc:0.933308\n",
      "[189]\tvalidation_0-auc:0.9533\tvalidation_1-auc:0.933342\n",
      "[190]\tvalidation_0-auc:0.953349\tvalidation_1-auc:0.933342\n",
      "[191]\tvalidation_0-auc:0.953437\tvalidation_1-auc:0.933328\n",
      "[192]\tvalidation_0-auc:0.953565\tvalidation_1-auc:0.93336\n",
      "[193]\tvalidation_0-auc:0.953664\tvalidation_1-auc:0.933346\n",
      "[194]\tvalidation_0-auc:0.953762\tvalidation_1-auc:0.933359\n",
      "[195]\tvalidation_0-auc:0.953877\tvalidation_1-auc:0.933381\n",
      "[196]\tvalidation_0-auc:0.953901\tvalidation_1-auc:0.933393\n",
      "[197]\tvalidation_0-auc:0.953961\tvalidation_1-auc:0.933423\n",
      "[198]\tvalidation_0-auc:0.954012\tvalidation_1-auc:0.933423\n",
      "[199]\tvalidation_0-auc:0.954068\tvalidation_1-auc:0.933428\n",
      "[200]\tvalidation_0-auc:0.954164\tvalidation_1-auc:0.933423\n",
      "[201]\tvalidation_0-auc:0.954273\tvalidation_1-auc:0.933427\n",
      "[202]\tvalidation_0-auc:0.954325\tvalidation_1-auc:0.933447\n",
      "[203]\tvalidation_0-auc:0.954368\tvalidation_1-auc:0.933453\n",
      "[204]\tvalidation_0-auc:0.954517\tvalidation_1-auc:0.933428\n",
      "[205]\tvalidation_0-auc:0.954581\tvalidation_1-auc:0.933452\n",
      "[206]\tvalidation_0-auc:0.954665\tvalidation_1-auc:0.93345\n",
      "[207]\tvalidation_0-auc:0.954696\tvalidation_1-auc:0.933465\n",
      "[208]\tvalidation_0-auc:0.954826\tvalidation_1-auc:0.933502\n",
      "[209]\tvalidation_0-auc:0.954889\tvalidation_1-auc:0.933473\n",
      "[210]\tvalidation_0-auc:0.955017\tvalidation_1-auc:0.933509\n",
      "[211]\tvalidation_0-auc:0.955133\tvalidation_1-auc:0.933549\n",
      "[212]\tvalidation_0-auc:0.955233\tvalidation_1-auc:0.933552\n",
      "[213]\tvalidation_0-auc:0.955312\tvalidation_1-auc:0.933584\n",
      "[214]\tvalidation_0-auc:0.95542\tvalidation_1-auc:0.933576\n",
      "[215]\tvalidation_0-auc:0.955532\tvalidation_1-auc:0.933575\n",
      "[216]\tvalidation_0-auc:0.955662\tvalidation_1-auc:0.933619\n",
      "[217]\tvalidation_0-auc:0.955756\tvalidation_1-auc:0.933638\n",
      "[218]\tvalidation_0-auc:0.955818\tvalidation_1-auc:0.933665\n",
      "[219]\tvalidation_0-auc:0.955902\tvalidation_1-auc:0.933653\n",
      "[220]\tvalidation_0-auc:0.955982\tvalidation_1-auc:0.933656\n",
      "[221]\tvalidation_0-auc:0.95604\tvalidation_1-auc:0.933654\n",
      "[222]\tvalidation_0-auc:0.956117\tvalidation_1-auc:0.93364\n",
      "[223]\tvalidation_0-auc:0.956218\tvalidation_1-auc:0.933638\n",
      "[224]\tvalidation_0-auc:0.956288\tvalidation_1-auc:0.933638\n",
      "[225]\tvalidation_0-auc:0.956367\tvalidation_1-auc:0.933662\n",
      "[226]\tvalidation_0-auc:0.956372\tvalidation_1-auc:0.933651\n",
      "[227]\tvalidation_0-auc:0.956532\tvalidation_1-auc:0.933675\n",
      "[228]\tvalidation_0-auc:0.956621\tvalidation_1-auc:0.933681\n",
      "[229]\tvalidation_0-auc:0.956686\tvalidation_1-auc:0.933699\n",
      "[230]\tvalidation_0-auc:0.956745\tvalidation_1-auc:0.93371\n",
      "[231]\tvalidation_0-auc:0.956805\tvalidation_1-auc:0.933727\n",
      "[232]\tvalidation_0-auc:0.956879\tvalidation_1-auc:0.933726\n",
      "[233]\tvalidation_0-auc:0.95695\tvalidation_1-auc:0.933755\n",
      "[234]\tvalidation_0-auc:0.957057\tvalidation_1-auc:0.933784\n",
      "[235]\tvalidation_0-auc:0.957123\tvalidation_1-auc:0.933768\n",
      "[236]\tvalidation_0-auc:0.957166\tvalidation_1-auc:0.933764\n",
      "[237]\tvalidation_0-auc:0.957236\tvalidation_1-auc:0.933758\n"
     ]
    },
    {
     "ename": "KeyboardInterrupt",
     "evalue": "",
     "output_type": "error",
     "traceback": [
      "\u001b[1;31m\u001b[0m",
      "\u001b[1;31mKeyboardInterrupt\u001b[0mTraceback (most recent call last)",
      "\u001b[1;32m<ipython-input-16-82149be2d5eb>\u001b[0m in \u001b[0;36m<module>\u001b[1;34m()\u001b[0m\n\u001b[0;32m      8\u001b[0m     \u001b[0meval_metric\u001b[0m\u001b[1;33m=\u001b[0m\u001b[1;34m'auc'\u001b[0m\u001b[1;33m,\u001b[0m\u001b[1;33m\u001b[0m\u001b[0m\n\u001b[0;32m      9\u001b[0m     \u001b[0mverbose\u001b[0m\u001b[1;33m=\u001b[0m\u001b[1;32mTrue\u001b[0m\u001b[1;33m,\u001b[0m\u001b[1;33m\u001b[0m\u001b[0m\n\u001b[1;32m---> 10\u001b[1;33m     \u001b[0mearly_stopping_rounds\u001b[0m\u001b[1;33m=\u001b[0m\u001b[1;36m30\u001b[0m\u001b[1;33m,\u001b[0m\u001b[1;33m\u001b[0m\u001b[0m\n\u001b[0m\u001b[0;32m     11\u001b[0m )\n",
      "\u001b[1;32m/home/zhanglun/.pyenv/versions/anaconda3-4.1.0/lib/python3.5/site-packages/xgboost/sklearn.py\u001b[0m in \u001b[0;36mfit\u001b[1;34m(self, X, y, sample_weight, eval_set, eval_metric, early_stopping_rounds, verbose)\u001b[0m\n\u001b[0;32m    443\u001b[0m                               \u001b[0mearly_stopping_rounds\u001b[0m\u001b[1;33m=\u001b[0m\u001b[0mearly_stopping_rounds\u001b[0m\u001b[1;33m,\u001b[0m\u001b[1;33m\u001b[0m\u001b[0m\n\u001b[0;32m    444\u001b[0m                               \u001b[0mevals_result\u001b[0m\u001b[1;33m=\u001b[0m\u001b[0mevals_result\u001b[0m\u001b[1;33m,\u001b[0m \u001b[0mobj\u001b[0m\u001b[1;33m=\u001b[0m\u001b[0mobj\u001b[0m\u001b[1;33m,\u001b[0m \u001b[0mfeval\u001b[0m\u001b[1;33m=\u001b[0m\u001b[0mfeval\u001b[0m\u001b[1;33m,\u001b[0m\u001b[1;33m\u001b[0m\u001b[0m\n\u001b[1;32m--> 445\u001b[1;33m                               verbose_eval=verbose)\n\u001b[0m\u001b[0;32m    446\u001b[0m \u001b[1;33m\u001b[0m\u001b[0m\n\u001b[0;32m    447\u001b[0m         \u001b[0mself\u001b[0m\u001b[1;33m.\u001b[0m\u001b[0mobjective\u001b[0m \u001b[1;33m=\u001b[0m \u001b[0mxgb_options\u001b[0m\u001b[1;33m[\u001b[0m\u001b[1;34m\"objective\"\u001b[0m\u001b[1;33m]\u001b[0m\u001b[1;33m\u001b[0m\u001b[0m\n",
      "\u001b[1;32m/home/zhanglun/.pyenv/versions/anaconda3-4.1.0/lib/python3.5/site-packages/xgboost/training.py\u001b[0m in \u001b[0;36mtrain\u001b[1;34m(params, dtrain, num_boost_round, evals, obj, feval, maximize, early_stopping_rounds, evals_result, verbose_eval, learning_rates, xgb_model, callbacks)\u001b[0m\n\u001b[0;32m    203\u001b[0m                            \u001b[0mevals\u001b[0m\u001b[1;33m=\u001b[0m\u001b[0mevals\u001b[0m\u001b[1;33m,\u001b[0m\u001b[1;33m\u001b[0m\u001b[0m\n\u001b[0;32m    204\u001b[0m                            \u001b[0mobj\u001b[0m\u001b[1;33m=\u001b[0m\u001b[0mobj\u001b[0m\u001b[1;33m,\u001b[0m \u001b[0mfeval\u001b[0m\u001b[1;33m=\u001b[0m\u001b[0mfeval\u001b[0m\u001b[1;33m,\u001b[0m\u001b[1;33m\u001b[0m\u001b[0m\n\u001b[1;32m--> 205\u001b[1;33m                            xgb_model=xgb_model, callbacks=callbacks)\n\u001b[0m\u001b[0;32m    206\u001b[0m \u001b[1;33m\u001b[0m\u001b[0m\n\u001b[0;32m    207\u001b[0m \u001b[1;33m\u001b[0m\u001b[0m\n",
      "\u001b[1;32m/home/zhanglun/.pyenv/versions/anaconda3-4.1.0/lib/python3.5/site-packages/xgboost/training.py\u001b[0m in \u001b[0;36m_train_internal\u001b[1;34m(params, dtrain, num_boost_round, evals, obj, feval, xgb_model, callbacks)\u001b[0m\n\u001b[0;32m     74\u001b[0m         \u001b[1;31m# Skip the first update if it is a recovery step.\u001b[0m\u001b[1;33m\u001b[0m\u001b[1;33m\u001b[0m\u001b[0m\n\u001b[0;32m     75\u001b[0m         \u001b[1;32mif\u001b[0m \u001b[0mversion\u001b[0m \u001b[1;33m%\u001b[0m \u001b[1;36m2\u001b[0m \u001b[1;33m==\u001b[0m \u001b[1;36m0\u001b[0m\u001b[1;33m:\u001b[0m\u001b[1;33m\u001b[0m\u001b[0m\n\u001b[1;32m---> 76\u001b[1;33m             \u001b[0mbst\u001b[0m\u001b[1;33m.\u001b[0m\u001b[0mupdate\u001b[0m\u001b[1;33m(\u001b[0m\u001b[0mdtrain\u001b[0m\u001b[1;33m,\u001b[0m \u001b[0mi\u001b[0m\u001b[1;33m,\u001b[0m \u001b[0mobj\u001b[0m\u001b[1;33m)\u001b[0m\u001b[1;33m\u001b[0m\u001b[0m\n\u001b[0m\u001b[0;32m     77\u001b[0m             \u001b[0mbst\u001b[0m\u001b[1;33m.\u001b[0m\u001b[0msave_rabit_checkpoint\u001b[0m\u001b[1;33m(\u001b[0m\u001b[1;33m)\u001b[0m\u001b[1;33m\u001b[0m\u001b[0m\n\u001b[0;32m     78\u001b[0m             \u001b[0mversion\u001b[0m \u001b[1;33m+=\u001b[0m \u001b[1;36m1\u001b[0m\u001b[1;33m\u001b[0m\u001b[0m\n",
      "\u001b[1;32m/home/zhanglun/.pyenv/versions/anaconda3-4.1.0/lib/python3.5/site-packages/xgboost/core.py\u001b[0m in \u001b[0;36mupdate\u001b[1;34m(self, dtrain, iteration, fobj)\u001b[0m\n\u001b[0;32m    804\u001b[0m \u001b[1;33m\u001b[0m\u001b[0m\n\u001b[0;32m    805\u001b[0m         \u001b[1;32mif\u001b[0m \u001b[0mfobj\u001b[0m \u001b[1;32mis\u001b[0m \u001b[1;32mNone\u001b[0m\u001b[1;33m:\u001b[0m\u001b[1;33m\u001b[0m\u001b[0m\n\u001b[1;32m--> 806\u001b[1;33m             \u001b[0m_check_call\u001b[0m\u001b[1;33m(\u001b[0m\u001b[0m_LIB\u001b[0m\u001b[1;33m.\u001b[0m\u001b[0mXGBoosterUpdateOneIter\u001b[0m\u001b[1;33m(\u001b[0m\u001b[0mself\u001b[0m\u001b[1;33m.\u001b[0m\u001b[0mhandle\u001b[0m\u001b[1;33m,\u001b[0m \u001b[0miteration\u001b[0m\u001b[1;33m,\u001b[0m \u001b[0mdtrain\u001b[0m\u001b[1;33m.\u001b[0m\u001b[0mhandle\u001b[0m\u001b[1;33m)\u001b[0m\u001b[1;33m)\u001b[0m\u001b[1;33m\u001b[0m\u001b[0m\n\u001b[0m\u001b[0;32m    807\u001b[0m         \u001b[1;32melse\u001b[0m\u001b[1;33m:\u001b[0m\u001b[1;33m\u001b[0m\u001b[0m\n\u001b[0;32m    808\u001b[0m             \u001b[0mpred\u001b[0m \u001b[1;33m=\u001b[0m \u001b[0mself\u001b[0m\u001b[1;33m.\u001b[0m\u001b[0mpredict\u001b[0m\u001b[1;33m(\u001b[0m\u001b[0mdtrain\u001b[0m\u001b[1;33m)\u001b[0m\u001b[1;33m\u001b[0m\u001b[0m\n",
      "\u001b[1;31mKeyboardInterrupt\u001b[0m: "
     ]
    }
   ],
   "source": [
    "model.fit(\n",
    "    train_f[use_columns],\n",
    "    train_f['orderlabel'],\n",
    "    eval_set=[(train_f[use_columns],\n",
    "    train_f['orderlabel']),\n",
    "             (test_f[use_columns],\n",
    "    test_f['orderlabel'])],\n",
    "    eval_metric='auc',\n",
    "    verbose=True,\n",
    "    early_stopping_rounds=30,\n",
    ")"
   ]
  },
  {
   "cell_type": "code",
   "execution_count": null,
   "metadata": {
    "collapsed": true
   },
   "outputs": [],
   "source": [
    "def get_score(model, train_f):\n",
    "    result = model.predict_proba(train_f[use_columns])[:, 1]\n",
    "    train_f['prob'] = result\n",
    "    train_x = train_f[['orderid', 'prob', 'orderlabel']]\n",
    "    train_x.sort_values('prob', ascending=False, inplace=True)\n",
    "    finall_result_x = train_x.drop_duplicates(['orderid'])\n",
    "    train_score = finall_result_x.orderlabel.mean()\n",
    "    print(train_score)\n",
    "    return train_score"
   ]
  },
  {
   "cell_type": "code",
   "execution_count": null,
   "metadata": {
    "collapsed": false
   },
   "outputs": [],
   "source": [
    "train_score = get_score(model, train_f)"
   ]
  },
  {
   "cell_type": "code",
   "execution_count": null,
   "metadata": {
    "collapsed": false
   },
   "outputs": [],
   "source": [
    "test_score = get_score(model, test_f)"
   ]
  },
  {
   "cell_type": "code",
   "execution_count": null,
   "metadata": {
    "collapsed": false
   },
   "outputs": [],
   "source": [
    "acu = model.score(test_f[use_columns], test_f['orderlabel'])\n",
    "acu"
   ]
  },
  {
   "cell_type": "code",
   "execution_count": null,
   "metadata": {
    "collapsed": false
   },
   "outputs": [],
   "source": [
    "model.best_ntree_limit"
   ]
  },
  {
   "cell_type": "code",
   "execution_count": null,
   "metadata": {
    "collapsed": false
   },
   "outputs": [],
   "source": [
    "if not exists('models'):\n",
    "    mkdir('models')\n",
    "model_importance_path = join('models', datetime.now().strftime('%d-%H%M-xgbimportance.txt'))\n",
    "model_importance_path"
   ]
  },
  {
   "cell_type": "code",
   "execution_count": null,
   "metadata": {
    "collapsed": false
   },
   "outputs": [],
   "source": [
    "importance_df = pd.DataFrame(model.feature_importances_, index=use_columns)\n",
    "\n",
    "importance_df.sort_values(0, ascending=False, inplace=True)\n",
    "importance_df.to_csv(model_importance_path)"
   ]
  },
  {
   "cell_type": "code",
   "execution_count": null,
   "metadata": {
    "collapsed": true
   },
   "outputs": [],
   "source": [
    "model.get_params()"
   ]
  },
  {
   "cell_type": "code",
   "execution_count": null,
   "metadata": {
    "collapsed": false
   },
   "outputs": [],
   "source": [
    "parms = ','.join(['{}: {}'.format(k, v) for k, v in model.get_params().items()])\n",
    "parms"
   ]
  },
  {
   "cell_type": "code",
   "execution_count": null,
   "metadata": {
    "collapsed": false
   },
   "outputs": [],
   "source": [
    "print(\n",
    "    datetime.now().strftime('%d-%H-%M:'),\n",
    "    'online',\n",
    "    '??',\n",
    "    'test_score',\n",
    "    test_score,\n",
    "    'train_score',\n",
    "    train_score,\n",
    "    'model_train',\n",
    "    model.evals_result()['validation_0']['auc'][model.best_iteration],\n",
    "    'model_test',\n",
    "    model.evals_result()['validation_1']['auc'][model.best_iteration],\n",
    "    'accu',\n",
    "    acu,\n",
    "    'n',\n",
    "    model.best_iteration,\n",
    "    'params',\n",
    "    parms,\n",
    "    'shape', train_f.shape,\n",
    "    end='\\n',\n",
    "    sep='  ')"
   ]
  },
  {
   "cell_type": "code",
   "execution_count": null,
   "metadata": {
    "collapsed": true
   },
   "outputs": [],
   "source": [
    "print(\n",
    "    datetime.now().strftime('%d-%H-%M:'),\n",
    "    'online',\n",
    "    '??',\n",
    "    'test_score',\n",
    "    test_score,\n",
    "    'train_score',\n",
    "    train_score,\n",
    "    'model_train',\n",
    "    model.evals_result()['validation_0']['auc'][model.best_iteration],\n",
    "    'model_test',\n",
    "    model.evals_result()['validation_1']['auc'][model.best_iteration],\n",
    "    'accu',\n",
    "    acu,\n",
    "    'n',\n",
    "    model.best_iteration,\n",
    "    'params',\n",
    "    parms,\n",
    "    'shape', train_f.shape,\n",
    "    end='\\n',\n",
    "    sep=',', file=open('xgb_result.txt', 'a+'))"
   ]
  },
  {
   "cell_type": "code",
   "execution_count": null,
   "metadata": {
    "collapsed": true
   },
   "outputs": [],
   "source": [
    "pickle.dump(model, open(model_path, 'wb'))"
   ]
  },
  {
   "cell_type": "code",
   "execution_count": null,
   "metadata": {
    "collapsed": true
   },
   "outputs": [],
   "source": [
    "del train_f, test_f\n",
    "\n",
    "gc.collect()"
   ]
  },
  {
   "cell_type": "code",
   "execution_count": null,
   "metadata": {
    "collapsed": true
   },
   "outputs": [],
   "source": [
    "train_f = pd.read_pickle('../dataset/train/all_feature.pkl')\n",
    "train_f.shape"
   ]
  },
  {
   "cell_type": "code",
   "execution_count": null,
   "metadata": {
    "collapsed": true
   },
   "outputs": [],
   "source": [
    "n_est = model.best_iteration + 300 if model.best_iteration > 0 else 1500"
   ]
  },
  {
   "cell_type": "code",
   "execution_count": null,
   "metadata": {
    "collapsed": true
   },
   "outputs": [],
   "source": [
    "model = XGBClassifier(\n",
    "    nthread=4,\n",
    "    silent=False,\n",
    "    objective='binary:logistic',\n",
    "    seed=luck,\n",
    "#     learning_rate=0.3,\n",
    "    n_estimators=n_est,\n",
    "    **clf.best_params_)\n",
    "model\n",
    "# model "
   ]
  },
  {
   "cell_type": "code",
   "execution_count": null,
   "metadata": {
    "collapsed": true
   },
   "outputs": [],
   "source": [
    "model.fit(\n",
    "    train_f[use_columns],\n",
    "    train_f['orderlabel'],\n",
    "    eval_set=[(train_f[use_columns],\n",
    "    train_f['orderlabel'])],\n",
    "    eval_metric='auc',\n",
    "    verbose=True,\n",
    ")"
   ]
  },
  {
   "cell_type": "code",
   "execution_count": null,
   "metadata": {
    "collapsed": true
   },
   "outputs": [],
   "source": [
    "pickle.dump(model, open(model_path, 'wb'))"
   ]
  }
 ],
 "metadata": {
  "anaconda-cloud": {},
  "hide_input": false,
  "kernelspec": {
   "display_name": "Python 3",
   "language": "python",
   "name": "python3"
  },
  "language_info": {
   "codemirror_mode": {
    "name": "ipython",
    "version": 3
   },
   "file_extension": ".py",
   "mimetype": "text/x-python",
   "name": "python",
   "nbconvert_exporter": "python",
   "pygments_lexer": "ipython3",
   "version": "3.5.1"
  }
 },
 "nbformat": 4,
 "nbformat_minor": 2
}
