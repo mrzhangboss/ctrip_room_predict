{
 "cells": [
  {
   "cell_type": "code",
   "execution_count": 1,
   "metadata": {
    "collapsed": true
   },
   "outputs": [],
   "source": [
    "import sys\n",
    "from datetime import datetime\n",
    "from os.path import join\n",
    "from warnings import warn\n",
    "\n",
    "\n",
    "import numpy as np\n",
    "import pandas as pd\n",
    "import scipy as sp\n",
    "\n",
    "from utils import *"
   ]
  },
  {
   "cell_type": "code",
   "execution_count": 3,
   "metadata": {
    "collapsed": true
   },
   "outputs": [],
   "source": [
    "# sys.argv[1] = 'test'"
   ]
  },
  {
   "cell_type": "code",
   "execution_count": 4,
   "metadata": {
    "collapsed": true
   },
   "outputs": [],
   "source": [
    "dir_arg = sys.argv[1]\n",
    "if dir_arg == '-f':\n",
    "    file_dir = join('..', 'dataset', '11')\n",
    "else:\n",
    "    file_dir = join('..', 'dataset',  dir_arg)"
   ]
  },
  {
   "cell_type": "code",
   "execution_count": 15,
   "metadata": {
    "collapsed": false
   },
   "outputs": [
    {
     "name": "stdout",
     "output_type": "stream",
     "text": [
      "2017-08-02 21:55:55.141958 2017-06-11\n",
      "2017-08-02 21:55:55.142143\n",
      "--------------------\n",
      "uid uniuqe shape 3552\n",
      "hotelid uniuqe shape 3194\n",
      "basicroomid uniuqe shape 19542\n",
      "roomid uniuqe shape 121802\n",
      "--------------------\n"
     ]
    }
   ],
   "source": [
    "train_df = pd.read_pickle(join(file_dir, 'base_feauture.pkl'))\n",
    "\n",
    "sample = pd.read_pickle(join(file_dir, 'hotelid.pkl'))\n",
    "\n",
    "now_date = train_df.orderdate.max().date()\n",
    "print(datetime.now(), now_date)\n",
    "\n",
    "uid_shape, hotelid_shape, basicroomid_shape, roomid_shape = print_shape(\n",
    "    train_df, ['uid', 'hotelid', 'basicroomid', 'roomid'])"
   ]
  },
  {
   "cell_type": "code",
   "execution_count": 16,
   "metadata": {
    "collapsed": false
   },
   "outputs": [
    {
     "name": "stdout",
     "output_type": "stream",
     "text": [
      "2017-08-02 21:55:55.542981 begin ../dataset/11/hotel_feature.pkl\n"
     ]
    }
   ],
   "source": [
    "feature_path = join(file_dir, 'hotel_feature.pkl')\n",
    "print(datetime.now(), 'begin', feature_path)"
   ]
  },
  {
   "cell_type": "markdown",
   "metadata": {},
   "source": [
    "## 添加基本特征"
   ]
  },
  {
   "cell_type": "code",
   "execution_count": 17,
   "metadata": {
    "collapsed": false
   },
   "outputs": [],
   "source": [
    "sample = add_column(train_df, sample, 'hotelid', 'star')"
   ]
  },
  {
   "cell_type": "markdown",
   "metadata": {},
   "source": [
    "## 上下级关联统计特征"
   ]
  },
  {
   "cell_type": "code",
   "execution_count": 18,
   "metadata": {
    "collapsed": false
   },
   "outputs": [
    {
     "name": "stdout",
     "output_type": "stream",
     "text": [
      "2017-08-02 21:55:57.547017 begin hotel basicroomid count\n",
      "2017-08-02 21:55:57.566323 begin hotel roomid count\n"
     ]
    }
   ],
   "source": [
    "for f in ['basicroomid', 'roomid']:\n",
    "    print(datetime.now(), 'begin hotel', f, 'count')\n",
    "    sample = extract_feature_count('hotelid', f, train_df, sample)"
   ]
  },
  {
   "cell_type": "code",
   "execution_count": 19,
   "metadata": {
    "collapsed": false
   },
   "outputs": [],
   "source": [
    "for i in range(8):\n",
    "    f = 'roomservice_%d' % (i+1)\n",
    "    sample = extract_feature_count('hotelid', f, train_df, sample)"
   ]
  },
  {
   "cell_type": "code",
   "execution_count": 20,
   "metadata": {
    "collapsed": false
   },
   "outputs": [
    {
     "data": {
      "text/plain": [
       "Index(['hotelid', 'hotelid_star', 'hotelid__basicroomid_count',\n",
       "       'hotelid__roomid_count', 'hotelid__roomservice_1_count',\n",
       "       'hotelid__roomservice_2_count', 'hotelid__roomservice_3_count',\n",
       "       'hotelid__roomservice_4_count', 'hotelid__roomservice_5_count',\n",
       "       'hotelid__roomservice_6_count', 'hotelid__roomservice_7_count',\n",
       "       'hotelid__roomservice_8_count'],\n",
       "      dtype='object')"
      ]
     },
     "execution_count": 20,
     "metadata": {},
     "output_type": "execute_result"
    }
   ],
   "source": [
    "sample.columns"
   ]
  },
  {
   "cell_type": "code",
   "execution_count": 1,
   "metadata": {
    "collapsed": false
   },
   "outputs": [],
   "source": [
    "# get_corr(train_df, sample[['hotelid', 'hotelid__roomservice_8_count']], 'hotelid')"
   ]
  },
  {
   "cell_type": "code",
   "execution_count": 24,
   "metadata": {
    "collapsed": true
   },
   "outputs": [
    {
     "data": {
      "text/html": [
       "<div>\n",
       "<style>\n",
       "    .dataframe thead tr:only-child th {\n",
       "        text-align: right;\n",
       "    }\n",
       "\n",
       "    .dataframe thead th {\n",
       "        text-align: left;\n",
       "    }\n",
       "\n",
       "    .dataframe tbody tr th {\n",
       "        vertical-align: top;\n",
       "    }\n",
       "</style>\n",
       "<table border=\"1\" class=\"dataframe\">\n",
       "  <thead>\n",
       "    <tr style=\"text-align: right;\">\n",
       "      <th></th>\n",
       "      <th>Unnamed: 0</th>\n",
       "      <th>0</th>\n",
       "    </tr>\n",
       "  </thead>\n",
       "  <tbody>\n",
       "    <tr>\n",
       "      <th>0</th>\n",
       "      <td>hotel_roomid_rank</td>\n",
       "      <td>0.055941</td>\n",
       "    </tr>\n",
       "    <tr>\n",
       "      <th>1</th>\n",
       "      <td>basicroomid__room_30days_ordnumratio_max</td>\n",
       "      <td>0.050123</td>\n",
       "    </tr>\n",
       "    <tr>\n",
       "      <th>2</th>\n",
       "      <td>order_price_dif_hotel_rt</td>\n",
       "      <td>0.043634</td>\n",
       "    </tr>\n",
       "    <tr>\n",
       "      <th>3</th>\n",
       "      <td>order_order_basicroomid_is_equal</td>\n",
       "      <td>0.024838</td>\n",
       "    </tr>\n",
       "    <tr>\n",
       "      <th>4</th>\n",
       "      <td>order_return_dx</td>\n",
       "      <td>0.024614</td>\n",
       "    </tr>\n",
       "    <tr>\n",
       "      <th>5</th>\n",
       "      <td>order_price_ave_star_dif</td>\n",
       "      <td>0.022376</td>\n",
       "    </tr>\n",
       "    <tr>\n",
       "      <th>6</th>\n",
       "      <td>order_price_dif_rt</td>\n",
       "      <td>0.021929</td>\n",
       "    </tr>\n",
       "    <tr>\n",
       "      <th>7</th>\n",
       "      <td>uid__hotel_roomid_count</td>\n",
       "      <td>0.019915</td>\n",
       "    </tr>\n",
       "    <tr>\n",
       "      <th>8</th>\n",
       "      <td>roomservice_8</td>\n",
       "      <td>0.019915</td>\n",
       "    </tr>\n",
       "    <tr>\n",
       "      <th>9</th>\n",
       "      <td>hotel_roomid_room_30days_realratio</td>\n",
       "      <td>0.019020</td>\n",
       "    </tr>\n",
       "    <tr>\n",
       "      <th>10</th>\n",
       "      <td>order_basicroomid_price_rank</td>\n",
       "      <td>0.017901</td>\n",
       "    </tr>\n",
       "    <tr>\n",
       "      <th>11</th>\n",
       "      <td>hotelid__room_30days_ordnumratio_max</td>\n",
       "      <td>0.017454</td>\n",
       "    </tr>\n",
       "    <tr>\n",
       "      <th>12</th>\n",
       "      <td>roomtag_1</td>\n",
       "      <td>0.017230</td>\n",
       "    </tr>\n",
       "    <tr>\n",
       "      <th>13</th>\n",
       "      <td>order_price_dif</td>\n",
       "      <td>0.016335</td>\n",
       "    </tr>\n",
       "    <tr>\n",
       "      <th>14</th>\n",
       "      <td>uid_user_avgpromotion</td>\n",
       "      <td>0.015440</td>\n",
       "    </tr>\n",
       "    <tr>\n",
       "      <th>15</th>\n",
       "      <td>order_order_roomservice_8_is_equal</td>\n",
       "      <td>0.014992</td>\n",
       "    </tr>\n",
       "    <tr>\n",
       "      <th>16</th>\n",
       "      <td>roomservice_3</td>\n",
       "      <td>0.013873</td>\n",
       "    </tr>\n",
       "    <tr>\n",
       "      <th>17</th>\n",
       "      <td>basicroomid__room_30days_ordnumratio_mean</td>\n",
       "      <td>0.013650</td>\n",
       "    </tr>\n",
       "    <tr>\n",
       "      <th>18</th>\n",
       "      <td>hotelid__basicroomid_count</td>\n",
       "      <td>0.013202</td>\n",
       "    </tr>\n",
       "    <tr>\n",
       "      <th>19</th>\n",
       "      <td>order_basicroomid_price_rank_mean</td>\n",
       "      <td>0.012307</td>\n",
       "    </tr>\n",
       "    <tr>\n",
       "      <th>20</th>\n",
       "      <td>order_order_roomservice_4_is_equal</td>\n",
       "      <td>0.012307</td>\n",
       "    </tr>\n",
       "    <tr>\n",
       "      <th>21</th>\n",
       "      <td>order_basic_last_price_min_rt</td>\n",
       "      <td>0.011636</td>\n",
       "    </tr>\n",
       "    <tr>\n",
       "      <th>22</th>\n",
       "      <td>order_price_dif_hotel</td>\n",
       "      <td>0.010964</td>\n",
       "    </tr>\n",
       "    <tr>\n",
       "      <th>23</th>\n",
       "      <td>basicroomid__price_deduct_std</td>\n",
       "      <td>0.010741</td>\n",
       "    </tr>\n",
       "    <tr>\n",
       "      <th>24</th>\n",
       "      <td>order_hotel_last_price_min_rt</td>\n",
       "      <td>0.010517</td>\n",
       "    </tr>\n",
       "    <tr>\n",
       "      <th>25</th>\n",
       "      <td>hotelid__basic_30days_realratio_mean</td>\n",
       "      <td>0.010069</td>\n",
       "    </tr>\n",
       "    <tr>\n",
       "      <th>26</th>\n",
       "      <td>basicroomid__room_30days_realratio_median</td>\n",
       "      <td>0.010069</td>\n",
       "    </tr>\n",
       "    <tr>\n",
       "      <th>27</th>\n",
       "      <td>uid__basicroomid_is_equal_count</td>\n",
       "      <td>0.009846</td>\n",
       "    </tr>\n",
       "    <tr>\n",
       "      <th>28</th>\n",
       "      <td>basicroomid__room_30days_realratio_mean</td>\n",
       "      <td>0.009398</td>\n",
       "    </tr>\n",
       "    <tr>\n",
       "      <th>29</th>\n",
       "      <td>uid_orderbehavior_8</td>\n",
       "      <td>0.009174</td>\n",
       "    </tr>\n",
       "    <tr>\n",
       "      <th>...</th>\n",
       "      <td>...</td>\n",
       "      <td>...</td>\n",
       "    </tr>\n",
       "    <tr>\n",
       "      <th>310</th>\n",
       "      <td>uid_orderbehavior_1_ratio</td>\n",
       "      <td>0.000000</td>\n",
       "    </tr>\n",
       "    <tr>\n",
       "      <th>311</th>\n",
       "      <td>hotelid__roomtag_4_count</td>\n",
       "      <td>0.000000</td>\n",
       "    </tr>\n",
       "    <tr>\n",
       "      <th>312</th>\n",
       "      <td>uid_user_roomservice_4_4ratio</td>\n",
       "      <td>0.000000</td>\n",
       "    </tr>\n",
       "    <tr>\n",
       "      <th>313</th>\n",
       "      <td>uid_user_roomservice_4_4ratio_1week</td>\n",
       "      <td>0.000000</td>\n",
       "    </tr>\n",
       "    <tr>\n",
       "      <th>314</th>\n",
       "      <td>uid_user_roomservice_4_5ratio_1week</td>\n",
       "      <td>0.000000</td>\n",
       "    </tr>\n",
       "    <tr>\n",
       "      <th>315</th>\n",
       "      <td>uid_user_ordnum_1week</td>\n",
       "      <td>0.000000</td>\n",
       "    </tr>\n",
       "    <tr>\n",
       "      <th>316</th>\n",
       "      <td>uid_user_roomservice_8_345ratio</td>\n",
       "      <td>0.000000</td>\n",
       "    </tr>\n",
       "    <tr>\n",
       "      <th>317</th>\n",
       "      <td>uid_user_roomservice_8_1ratio</td>\n",
       "      <td>0.000000</td>\n",
       "    </tr>\n",
       "    <tr>\n",
       "      <th>318</th>\n",
       "      <td>uid_user_roomservice_2_1ratio</td>\n",
       "      <td>0.000000</td>\n",
       "    </tr>\n",
       "    <tr>\n",
       "      <th>319</th>\n",
       "      <td>uid_user_roomservice_7_0ratio</td>\n",
       "      <td>0.000000</td>\n",
       "    </tr>\n",
       "    <tr>\n",
       "      <th>320</th>\n",
       "      <td>uid_user_roomservice_5_1ratio</td>\n",
       "      <td>0.000000</td>\n",
       "    </tr>\n",
       "    <tr>\n",
       "      <th>321</th>\n",
       "      <td>uid_user_roomservice_6_0ratio</td>\n",
       "      <td>0.000000</td>\n",
       "    </tr>\n",
       "    <tr>\n",
       "      <th>322</th>\n",
       "      <td>uid_user_roomservice_3_123ratio</td>\n",
       "      <td>0.000000</td>\n",
       "    </tr>\n",
       "    <tr>\n",
       "      <th>323</th>\n",
       "      <td>uid_user_roomservice_4_5ratio</td>\n",
       "      <td>0.000000</td>\n",
       "    </tr>\n",
       "    <tr>\n",
       "      <th>324</th>\n",
       "      <td>basicroomid__price_real_median</td>\n",
       "      <td>0.000000</td>\n",
       "    </tr>\n",
       "    <tr>\n",
       "      <th>325</th>\n",
       "      <td>uid_user_roomservice_4_3ratio</td>\n",
       "      <td>0.000000</td>\n",
       "    </tr>\n",
       "    <tr>\n",
       "      <th>326</th>\n",
       "      <td>uid_orderbehavior_3_ratio_1week</td>\n",
       "      <td>0.000000</td>\n",
       "    </tr>\n",
       "    <tr>\n",
       "      <th>327</th>\n",
       "      <td>uid_user_roomservice_4_2ratio</td>\n",
       "      <td>0.000000</td>\n",
       "    </tr>\n",
       "    <tr>\n",
       "      <th>328</th>\n",
       "      <td>uid_user_roomservice_4_0ratio</td>\n",
       "      <td>0.000000</td>\n",
       "    </tr>\n",
       "    <tr>\n",
       "      <th>329</th>\n",
       "      <td>uid_user_avgroomarea</td>\n",
       "      <td>0.000000</td>\n",
       "    </tr>\n",
       "    <tr>\n",
       "      <th>330</th>\n",
       "      <td>uid_user_cvprice</td>\n",
       "      <td>0.000000</td>\n",
       "    </tr>\n",
       "    <tr>\n",
       "      <th>331</th>\n",
       "      <td>hotelid_lastord_is_nan</td>\n",
       "      <td>0.000000</td>\n",
       "    </tr>\n",
       "    <tr>\n",
       "      <th>332</th>\n",
       "      <td>basicroomid_basic_week_ordernum_ratio</td>\n",
       "      <td>0.000000</td>\n",
       "    </tr>\n",
       "    <tr>\n",
       "      <th>333</th>\n",
       "      <td>basicroomid_basic_recent3_ordernum_ratio</td>\n",
       "      <td>0.000000</td>\n",
       "    </tr>\n",
       "    <tr>\n",
       "      <th>334</th>\n",
       "      <td>basicroomid_basic_comment_ratio</td>\n",
       "      <td>0.000000</td>\n",
       "    </tr>\n",
       "    <tr>\n",
       "      <th>335</th>\n",
       "      <td>basicroomid_basic_30days_ordnumratio</td>\n",
       "      <td>0.000000</td>\n",
       "    </tr>\n",
       "    <tr>\n",
       "      <th>336</th>\n",
       "      <td>uid_orderbehavior_6_ratio</td>\n",
       "      <td>0.000000</td>\n",
       "    </tr>\n",
       "    <tr>\n",
       "      <th>337</th>\n",
       "      <td>uid_orderbehavior_4_ratio_3month</td>\n",
       "      <td>0.000000</td>\n",
       "    </tr>\n",
       "    <tr>\n",
       "      <th>338</th>\n",
       "      <td>basicroomid_basic_30days_realratio</td>\n",
       "      <td>0.000000</td>\n",
       "    </tr>\n",
       "    <tr>\n",
       "      <th>339</th>\n",
       "      <td>order_ordertype_11_num</td>\n",
       "      <td>0.000000</td>\n",
       "    </tr>\n",
       "  </tbody>\n",
       "</table>\n",
       "<p>340 rows × 2 columns</p>\n",
       "</div>"
      ],
      "text/plain": [
       "                                    Unnamed: 0         0\n",
       "0                            hotel_roomid_rank  0.055941\n",
       "1     basicroomid__room_30days_ordnumratio_max  0.050123\n",
       "2                     order_price_dif_hotel_rt  0.043634\n",
       "3             order_order_basicroomid_is_equal  0.024838\n",
       "4                              order_return_dx  0.024614\n",
       "5                     order_price_ave_star_dif  0.022376\n",
       "6                           order_price_dif_rt  0.021929\n",
       "7                      uid__hotel_roomid_count  0.019915\n",
       "8                                roomservice_8  0.019915\n",
       "9           hotel_roomid_room_30days_realratio  0.019020\n",
       "10                order_basicroomid_price_rank  0.017901\n",
       "11        hotelid__room_30days_ordnumratio_max  0.017454\n",
       "12                                   roomtag_1  0.017230\n",
       "13                             order_price_dif  0.016335\n",
       "14                       uid_user_avgpromotion  0.015440\n",
       "15          order_order_roomservice_8_is_equal  0.014992\n",
       "16                               roomservice_3  0.013873\n",
       "17   basicroomid__room_30days_ordnumratio_mean  0.013650\n",
       "18                  hotelid__basicroomid_count  0.013202\n",
       "19           order_basicroomid_price_rank_mean  0.012307\n",
       "20          order_order_roomservice_4_is_equal  0.012307\n",
       "21               order_basic_last_price_min_rt  0.011636\n",
       "22                       order_price_dif_hotel  0.010964\n",
       "23               basicroomid__price_deduct_std  0.010741\n",
       "24               order_hotel_last_price_min_rt  0.010517\n",
       "25        hotelid__basic_30days_realratio_mean  0.010069\n",
       "26   basicroomid__room_30days_realratio_median  0.010069\n",
       "27             uid__basicroomid_is_equal_count  0.009846\n",
       "28     basicroomid__room_30days_realratio_mean  0.009398\n",
       "29                         uid_orderbehavior_8  0.009174\n",
       "..                                         ...       ...\n",
       "310                  uid_orderbehavior_1_ratio  0.000000\n",
       "311                   hotelid__roomtag_4_count  0.000000\n",
       "312              uid_user_roomservice_4_4ratio  0.000000\n",
       "313        uid_user_roomservice_4_4ratio_1week  0.000000\n",
       "314        uid_user_roomservice_4_5ratio_1week  0.000000\n",
       "315                      uid_user_ordnum_1week  0.000000\n",
       "316            uid_user_roomservice_8_345ratio  0.000000\n",
       "317              uid_user_roomservice_8_1ratio  0.000000\n",
       "318              uid_user_roomservice_2_1ratio  0.000000\n",
       "319              uid_user_roomservice_7_0ratio  0.000000\n",
       "320              uid_user_roomservice_5_1ratio  0.000000\n",
       "321              uid_user_roomservice_6_0ratio  0.000000\n",
       "322            uid_user_roomservice_3_123ratio  0.000000\n",
       "323              uid_user_roomservice_4_5ratio  0.000000\n",
       "324             basicroomid__price_real_median  0.000000\n",
       "325              uid_user_roomservice_4_3ratio  0.000000\n",
       "326            uid_orderbehavior_3_ratio_1week  0.000000\n",
       "327              uid_user_roomservice_4_2ratio  0.000000\n",
       "328              uid_user_roomservice_4_0ratio  0.000000\n",
       "329                       uid_user_avgroomarea  0.000000\n",
       "330                           uid_user_cvprice  0.000000\n",
       "331                     hotelid_lastord_is_nan  0.000000\n",
       "332      basicroomid_basic_week_ordernum_ratio  0.000000\n",
       "333   basicroomid_basic_recent3_ordernum_ratio  0.000000\n",
       "334            basicroomid_basic_comment_ratio  0.000000\n",
       "335       basicroomid_basic_30days_ordnumratio  0.000000\n",
       "336                  uid_orderbehavior_6_ratio  0.000000\n",
       "337           uid_orderbehavior_4_ratio_3month  0.000000\n",
       "338         basicroomid_basic_30days_realratio  0.000000\n",
       "339                     order_ordertype_11_num  0.000000\n",
       "\n",
       "[340 rows x 2 columns]"
      ]
     },
     "execution_count": 24,
     "metadata": {},
     "output_type": "execute_result"
    }
   ],
   "source": [
    "pd.read_csv('models/02-0753-importance.txt')"
   ]
  },
  {
   "cell_type": "code",
   "execution_count": 9,
   "metadata": {
    "collapsed": true
   },
   "outputs": [],
   "source": [
    "for i in range(1, 4):\n",
    "    f = 'roomtag_%d' % (i+1)\n",
    "    sample = extract_feature_count('hotelid', f, train_df, sample)"
   ]
  },
  {
   "cell_type": "code",
   "execution_count": 10,
   "metadata": {
    "collapsed": false
   },
   "outputs": [],
   "source": [
    "# get_corr(train_df, sample, 'hotelid')"
   ]
  },
  {
   "cell_type": "markdown",
   "metadata": {},
   "source": [
    "### 删除无历史记录却有历史返现值的记录值(默认值为200）"
   ]
  },
  {
   "cell_type": "code",
   "execution_count": 11,
   "metadata": {
    "collapsed": false
   },
   "outputs": [],
   "source": [
    "lastord_cols = [x for x in train_df.columns if x.endswith('lastord')]"
   ]
  },
  {
   "cell_type": "code",
   "execution_count": 12,
   "metadata": {
    "collapsed": true
   },
   "outputs": [],
   "source": [
    "train_df.loc[train_df.orderdate_lastord.isnull(), 'return_lastord'] = np.nan"
   ]
  },
  {
   "cell_type": "code",
   "execution_count": 13,
   "metadata": {
    "collapsed": false
   },
   "outputs": [
    {
     "data": {
      "text/plain": [
       "count    130801.000000\n",
       "mean       2909.073242\n",
       "std        8405.767068\n",
       "min         236.000000\n",
       "25%         986.000000\n",
       "50%        1625.000000\n",
       "75%        3050.000000\n",
       "max      780200.000000\n",
       "Name: price_deduct, dtype: float64"
      ]
     },
     "execution_count": 13,
     "metadata": {},
     "output_type": "execute_result"
    }
   ],
   "source": [
    "train_df.price_deduct.describe()"
   ]
  },
  {
   "cell_type": "markdown",
   "metadata": {},
   "source": [
    "## 基本特征 "
   ]
  },
  {
   "cell_type": "markdown",
   "metadata": {},
   "source": [
    "## 显示的最终价格和原价格的特征 "
   ]
  },
  {
   "cell_type": "code",
   "execution_count": 15,
   "metadata": {
    "collapsed": true
   },
   "outputs": [],
   "source": [
    "use_describe = ['max', 'min', 'median', 'mean', 'std', 'nunique']"
   ]
  },
  {
   "cell_type": "code",
   "execution_count": 16,
   "metadata": {
    "collapsed": true
   },
   "outputs": [],
   "source": [
    "train_df['price_real'] = train_df['price_deduct'] + train_df['returnvalue']"
   ]
  },
  {
   "cell_type": "code",
   "execution_count": 17,
   "metadata": {
    "collapsed": true
   },
   "outputs": [],
   "source": [
    "sample = extract_value_describe_feature('hotelid', 'price_deduct', train_df, sample, use_describe)\n",
    "\n",
    "sample = extract_value_describe_feature('hotelid', 'price_real', train_df, sample, ['max', 'mean', 'std'])\n",
    "\n",
    "sample = extract_value_describe_feature('hotelid', 'returnvalue', train_df, sample, ['max', 'mean', 'median'])"
   ]
  },
  {
   "cell_type": "markdown",
   "metadata": {},
   "source": [
    "### 房间的面积统计特征"
   ]
  },
  {
   "cell_type": "markdown",
   "metadata": {},
   "source": [
    "###  删掉为负的值"
   ]
  },
  {
   "cell_type": "code",
   "execution_count": 18,
   "metadata": {
    "collapsed": true
   },
   "outputs": [],
   "source": [
    "train_df.loc[train_df.basic_minarea<0, 'basic_minarea'] = np.nan"
   ]
  },
  {
   "cell_type": "code",
   "execution_count": 19,
   "metadata": {
    "collapsed": true
   },
   "outputs": [],
   "source": [
    "sample = extract_value_describe_feature('hotelid', 'basic_minarea', train_df, sample, ['max', 'mean', 'median'])\n",
    "\n",
    "sample = extract_value_describe_feature('hotelid', 'basic_maxarea', train_df, sample, ['min', 'mean', 'median'])"
   ]
  },
  {
   "cell_type": "code",
   "execution_count": 20,
   "metadata": {
    "collapsed": true
   },
   "outputs": [],
   "source": [
    "# get_corr(train_df, sample, 'hotelid').tail(25)"
   ]
  },
  {
   "cell_type": "markdown",
   "metadata": {},
   "source": [
    "## 过去物理房型和子房型的统计特征 "
   ]
  },
  {
   "cell_type": "code",
   "execution_count": 21,
   "metadata": {
    "collapsed": true
   },
   "outputs": [],
   "source": [
    "# get_corr(train_df, sample, 'hotelid')"
   ]
  },
  {
   "cell_type": "code",
   "execution_count": 22,
   "metadata": {
    "collapsed": false
   },
   "outputs": [],
   "source": [
    "basic_cols = [\n",
    "    'basic_week_ordernum_ratio', 'basic_recent3_ordernum_ratio',\n",
    "    'basic_comment_ratio', 'basic_30days_ordnumratio', 'basic_30days_realratio'\n",
    "]"
   ]
  },
  {
   "cell_type": "code",
   "execution_count": 23,
   "metadata": {
    "collapsed": true
   },
   "outputs": [],
   "source": [
    "stat_describe = ['min', 'mean', 'max']"
   ]
  },
  {
   "cell_type": "code",
   "execution_count": 24,
   "metadata": {
    "collapsed": false,
    "scrolled": true
   },
   "outputs": [],
   "source": [
    "for col in basic_cols:\n",
    "    sample = extract_value_describe_feature('hotelid', col, train_df, sample, stat_describe)"
   ]
  },
  {
   "cell_type": "code",
   "execution_count": null,
   "metadata": {
    "collapsed": true
   },
   "outputs": [],
   "source": [
    "sample = extract_value_describe_feature('hotelid', 'basic_week_ordernum_ratio', train_df, sample, ['count'])"
   ]
  },
  {
   "cell_type": "code",
   "execution_count": 25,
   "metadata": {
    "collapsed": true
   },
   "outputs": [],
   "source": [
    "room_cols = ['room_30days_ordnumratio', 'room_30days_realratio']"
   ]
  },
  {
   "cell_type": "code",
   "execution_count": 26,
   "metadata": {
    "collapsed": false
   },
   "outputs": [],
   "source": [
    "for col in room_cols:\n",
    "    sample = extract_value_describe_feature('hotelid', col, train_df, sample, ['max', 'min', 'mean'])"
   ]
  },
  {
   "cell_type": "code",
   "execution_count": null,
   "metadata": {
    "collapsed": true
   },
   "outputs": [],
   "source": [
    "sample = extract_value_describe_feature('hotelid', 'room_30days_ordnumratio', train_df, sample, ['count'])"
   ]
  },
  {
   "cell_type": "code",
   "execution_count": 27,
   "metadata": {
    "collapsed": true
   },
   "outputs": [],
   "source": [
    "name_fmt = '{}_diff_{}'.format('hotelid', '{}')\n",
    "\n",
    "price_diff_name = name_fmt.format('price_last_lastord')\n",
    "hotel_minprice_diff_name = name_fmt.format('hotel_minprice_lastord')\n",
    "basic_minprice_diff_name = name_fmt.format('basic_minprice_lastord')"
   ]
  },
  {
   "cell_type": "code",
   "execution_count": 28,
   "metadata": {
    "collapsed": false
   },
   "outputs": [],
   "source": [
    "train_df[price_diff_name] = train_df['price_deduct'] - train_df['price_last_lastord']\n",
    "train_df[hotel_minprice_diff_name] = train_df['price_deduct'] - train_df['hotel_minprice_lastord']\n",
    "train_df[basic_minprice_diff_name] = train_df['price_deduct'] - train_df['basic_minprice_lastord']"
   ]
  },
  {
   "cell_type": "code",
   "execution_count": 29,
   "metadata": {
    "collapsed": true
   },
   "outputs": [],
   "source": [
    "price_desr = ['mean', 'max', 'min']"
   ]
  },
  {
   "cell_type": "code",
   "execution_count": 30,
   "metadata": {
    "collapsed": true
   },
   "outputs": [],
   "source": [
    "sample = extract_value_describe_feature('hotelid', price_diff_name, train_df, sample, price_desr)\n",
    "sample = extract_value_describe_feature('hotelid', hotel_minprice_diff_name, train_df, sample, price_desr)\n",
    "sample = extract_value_describe_feature('hotelid', basic_minprice_diff_name, train_df, sample, price_desr)"
   ]
  },
  {
   "cell_type": "code",
   "execution_count": 31,
   "metadata": {
    "collapsed": true
   },
   "outputs": [],
   "source": [
    "# get_corr(train_df, sample, 'hotelid').tail(24)"
   ]
  },
  {
   "cell_type": "markdown",
   "metadata": {},
   "source": [
    "## 历史价格与现在差价统计特征"
   ]
  },
  {
   "cell_type": "code",
   "execution_count": 32,
   "metadata": {
    "collapsed": false
   },
   "outputs": [],
   "source": [
    "hotel_lastord = train_df[[\n",
    "    'uid', 'hotelid_lastord', 'hotelid', 'star_lastord',\n",
    "    'hotel_minprice_lastord', 'orderdate_lastord'\n",
    "]].drop_duplicates()"
   ]
  },
  {
   "cell_type": "code",
   "execution_count": 33,
   "metadata": {
    "collapsed": false
   },
   "outputs": [],
   "source": [
    "if uid_shape != hotel_lastord.shape[0]:\n",
    "    warn('uid_shape not equal [uid ,hotelid_lastord, hotelid]')"
   ]
  },
  {
   "cell_type": "markdown",
   "metadata": {},
   "source": [
    "## 历史购买时间间隔统计特征 "
   ]
  },
  {
   "cell_type": "code",
   "execution_count": 34,
   "metadata": {
    "collapsed": true
   },
   "outputs": [],
   "source": [
    "span_name, t = '{}_span'.format('hotelid'), 'hotelid'"
   ]
  },
  {
   "cell_type": "code",
   "execution_count": 35,
   "metadata": {
    "collapsed": true
   },
   "outputs": [],
   "source": [
    "# train_df[span_name] = (now_date - train_df.orderdate_lastord).dt.days\n",
    "\n",
    "# sample = extract_value_describe_feature(t, span_name, train_df, sample, ['max', 'min', 'mean'])"
   ]
  },
  {
   "cell_type": "code",
   "execution_count": 36,
   "metadata": {
    "collapsed": false
   },
   "outputs": [],
   "source": [
    "# get_corr(train_df, sample, 'hotelid').tail(8)"
   ]
  },
  {
   "cell_type": "markdown",
   "metadata": {},
   "source": [
    "## 用户过去是否购买或者没有记录"
   ]
  },
  {
   "cell_type": "code",
   "execution_count": 37,
   "metadata": {
    "collapsed": false
   },
   "outputs": [],
   "source": [
    "sample = extract_lastord_is_nan(hotel_lastord, sample, 'hotelid', 'hotelid_lastord')"
   ]
  },
  {
   "cell_type": "code",
   "execution_count": 38,
   "metadata": {
    "collapsed": false
   },
   "outputs": [],
   "source": [
    "# sample = extract_is_lastord(hotel_lastord, sample, 'hotelid', 'hotelid_lastord')"
   ]
  },
  {
   "cell_type": "code",
   "execution_count": 39,
   "metadata": {
    "collapsed": false
   },
   "outputs": [],
   "source": [
    "# get_corr(train_df, sample, 'hotelid').tail()"
   ]
  },
  {
   "cell_type": "code",
   "execution_count": 40,
   "metadata": {
    "collapsed": true
   },
   "outputs": [],
   "source": [
    "def extract_lastord_feature_max_min(t, hotel_lastord, sample):\n",
    "    min_fmt = '{}_min'.format(t)\n",
    "    max_fmt = '{}_max'.format(t)\n",
    "    series = hotel_lastord.groupby('hotelid')[t].min()\n",
    "    series.name = min_fmt\n",
    "    sample = sample.join(series, on='hotelid')\n",
    "    series = hotel_lastord.groupby('hotelid')[t].max()\n",
    "    series.name = max_fmt\n",
    "    sample = sample.join(series, on='hotelid')\n",
    "    max_equal_min_fmt = '{}_max_equeal_min'.format(t)\n",
    "    sample[max_equal_min_fmt] = (sample[max_fmt] == sample[min_fmt]).astype(np.int8)\n",
    "    sample = press_date(sample, [max_equal_min_fmt, max_fmt, min_fmt])\n",
    "    return sample"
   ]
  },
  {
   "cell_type": "code",
   "execution_count": 41,
   "metadata": {
    "collapsed": true
   },
   "outputs": [],
   "source": [
    "# sample = extract_lastord_feature_max_min('star_lastord', hotel_lastord, sample)\n",
    "\n",
    "# sample = extract_lastord_feature_max_min('hotel_minprice_lastord', hotel_lastord, sample)\n",
    "\n",
    "# hotel_lastord['orderdate_lastord_days'] = (now_date - hotel_lastord.orderdate_lastord).dt.days\n",
    "\n",
    "# sample = extract_lastord_feature_max_min('orderdate_lastord_days', hotel_lastord, sample)"
   ]
  },
  {
   "cell_type": "code",
   "execution_count": 42,
   "metadata": {
    "collapsed": false
   },
   "outputs": [],
   "source": [
    "# get_corr(train_df, sample, 'hotelid')"
   ]
  },
  {
   "cell_type": "code",
   "execution_count": 43,
   "metadata": {
    "collapsed": false
   },
   "outputs": [],
   "source": [
    "# sample.info()"
   ]
  },
  {
   "cell_type": "code",
   "execution_count": 44,
   "metadata": {
    "collapsed": false
   },
   "outputs": [
    {
     "name": "stdout",
     "output_type": "stream",
     "text": [
      "2017-08-01 20:42:32.677711 save to ../dataset/11/hotel_feature.pkl\n"
     ]
    }
   ],
   "source": [
    "sample.to_pickle(feature_path)\n",
    "\n",
    "print(datetime.now(), 'save to', feature_path)"
   ]
  }
 ],
 "metadata": {
  "anaconda-cloud": {},
  "hide_input": false,
  "kernelspec": {
   "display_name": "Python 3",
   "language": "python",
   "name": "python3"
  },
  "language_info": {
   "codemirror_mode": {
    "name": "ipython",
    "version": 3
   },
   "file_extension": ".py",
   "mimetype": "text/x-python",
   "name": "python",
   "nbconvert_exporter": "python",
   "pygments_lexer": "ipython3",
   "version": "3.5.1"
  }
 },
 "nbformat": 4,
 "nbformat_minor": 2
}
