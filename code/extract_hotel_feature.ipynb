{
 "cells": [
  {
   "cell_type": "code",
   "execution_count": 1,
   "metadata": {
    "collapsed": true
   },
   "outputs": [],
   "source": [
    "import sys\n",
    "from datetime import datetime\n",
    "from os.path import join\n",
    "from warnings import warn\n",
    "\n",
    "\n",
    "import numpy as np\n",
    "import pandas as pd\n",
    "import scipy as sp\n",
    "\n",
    "from utils import *"
   ]
  },
  {
   "cell_type": "code",
   "execution_count": 2,
   "metadata": {
    "collapsed": true
   },
   "outputs": [],
   "source": [
    "# sys.argv[1] = 'test'"
   ]
  },
  {
   "cell_type": "code",
   "execution_count": 3,
   "metadata": {
    "collapsed": true
   },
   "outputs": [],
   "source": [
    "dir_arg = sys.argv[1]\n",
    "if dir_arg == '-f':\n",
    "    file_dir = join('..', 'dataset', '11')\n",
    "else:\n",
    "    file_dir = join('..', 'dataset',  dir_arg)"
   ]
  },
  {
   "cell_type": "code",
   "execution_count": 4,
   "metadata": {
    "collapsed": false
   },
   "outputs": [
    {
     "name": "stdout",
     "output_type": "stream",
     "text": [
      "2017-08-01 20:42:30.907624 2017-06-11\n",
      "2017-08-01 20:42:30.908053\n",
      "--------------------\n",
      "uid uniuqe shape 3552\n",
      "hotelid uniuqe shape 3194\n",
      "basicroomid uniuqe shape 19542\n",
      "roomid uniuqe shape 121802\n",
      "--------------------\n"
     ]
    }
   ],
   "source": [
    "train_df = pd.read_pickle(join(file_dir, 'base_feauture.pkl'))\n",
    "\n",
    "sample = pd.read_pickle(join(file_dir, 'hotelid.pkl'))\n",
    "\n",
    "now_date = train_df.orderdate.max().date()\n",
    "print(datetime.now(), now_date)\n",
    "\n",
    "uid_shape, hotelid_shape, basicroomid_shape, roomid_shape = print_shape(\n",
    "    train_df, ['uid', 'hotelid', 'basicroomid', 'roomid'])"
   ]
  },
  {
   "cell_type": "code",
   "execution_count": 5,
   "metadata": {
    "collapsed": false
   },
   "outputs": [
    {
     "name": "stdout",
     "output_type": "stream",
     "text": [
      "2017-08-01 20:42:30.938257 begin ../dataset/11/hotel_feature.pkl\n"
     ]
    }
   ],
   "source": [
    "feature_path = join(file_dir, 'hotel_feature.pkl')\n",
    "print(datetime.now(), 'begin', feature_path)"
   ]
  },
  {
   "cell_type": "markdown",
   "metadata": {},
   "source": [
    "## 添加基本特征"
   ]
  },
  {
   "cell_type": "code",
   "execution_count": 6,
   "metadata": {
    "collapsed": false
   },
   "outputs": [],
   "source": [
    "sample = add_column(train_df, sample, 'hotelid', 'star')"
   ]
  },
  {
   "cell_type": "markdown",
   "metadata": {},
   "source": [
    "## 上下级关联统计特征"
   ]
  },
  {
   "cell_type": "code",
   "execution_count": 7,
   "metadata": {
    "collapsed": false
   },
   "outputs": [
    {
     "name": "stdout",
     "output_type": "stream",
     "text": [
      "2017-08-01 20:42:30.984829 begin hotel basicroomid count\n",
      "2017-08-01 20:42:31.008483 begin hotel roomid count\n"
     ]
    }
   ],
   "source": [
    "for f in ['basicroomid', 'roomid']:\n",
    "    print(datetime.now(), 'begin hotel', f, 'count')\n",
    "    sample = extract_feature_count('hotelid', f, train_df, sample)"
   ]
  },
  {
   "cell_type": "code",
   "execution_count": 8,
   "metadata": {
    "collapsed": true
   },
   "outputs": [],
   "source": [
    "for i in range(8):\n",
    "    f = 'roomservice_%d' % (i+1)\n",
    "    sample = extract_feature_count('hotelid', f, train_df, sample)"
   ]
  },
  {
   "cell_type": "code",
   "execution_count": 9,
   "metadata": {
    "collapsed": true
   },
   "outputs": [],
   "source": [
    "for i in range(1, 4):\n",
    "    f = 'roomtag_%d' % (i+1)\n",
    "    sample = extract_feature_count('hotelid', f, train_df, sample)"
   ]
  },
  {
   "cell_type": "code",
   "execution_count": 10,
   "metadata": {
    "collapsed": false
   },
   "outputs": [],
   "source": [
    "# get_corr(train_df, sample, 'hotelid')"
   ]
  },
  {
   "cell_type": "markdown",
   "metadata": {},
   "source": [
    "### 删除无历史记录却有历史返现值的记录值(默认值为200）"
   ]
  },
  {
   "cell_type": "code",
   "execution_count": 11,
   "metadata": {
    "collapsed": false
   },
   "outputs": [],
   "source": [
    "lastord_cols = [x for x in train_df.columns if x.endswith('lastord')]"
   ]
  },
  {
   "cell_type": "code",
   "execution_count": 12,
   "metadata": {
    "collapsed": true
   },
   "outputs": [],
   "source": [
    "train_df.loc[train_df.orderdate_lastord.isnull(), 'return_lastord'] = np.nan"
   ]
  },
  {
   "cell_type": "code",
   "execution_count": 13,
   "metadata": {
    "collapsed": false
   },
   "outputs": [
    {
     "data": {
      "text/plain": [
       "count    130801.000000\n",
       "mean       2909.073242\n",
       "std        8405.767068\n",
       "min         236.000000\n",
       "25%         986.000000\n",
       "50%        1625.000000\n",
       "75%        3050.000000\n",
       "max      780200.000000\n",
       "Name: price_deduct, dtype: float64"
      ]
     },
     "execution_count": 13,
     "metadata": {},
     "output_type": "execute_result"
    }
   ],
   "source": [
    "train_df.price_deduct.describe()"
   ]
  },
  {
   "cell_type": "markdown",
   "metadata": {},
   "source": [
    "## 基本特征 "
   ]
  },
  {
   "cell_type": "markdown",
   "metadata": {},
   "source": [
    "## 显示的最终价格和原价格的特征 "
   ]
  },
  {
   "cell_type": "code",
   "execution_count": 15,
   "metadata": {
    "collapsed": true
   },
   "outputs": [],
   "source": [
    "use_describe = ['max', 'min', 'median', 'mean', 'std', 'nunique']"
   ]
  },
  {
   "cell_type": "code",
   "execution_count": 16,
   "metadata": {
    "collapsed": true
   },
   "outputs": [],
   "source": [
    "train_df['price_real'] = train_df['price_deduct'] + train_df['returnvalue']"
   ]
  },
  {
   "cell_type": "code",
   "execution_count": 17,
   "metadata": {
    "collapsed": true
   },
   "outputs": [],
   "source": [
    "sample = extract_value_describe_feature('hotelid', 'price_deduct', train_df, sample, use_describe)\n",
    "\n",
    "sample = extract_value_describe_feature('hotelid', 'price_real', train_df, sample, ['max', 'mean', 'std'])\n",
    "\n",
    "sample = extract_value_describe_feature('hotelid', 'returnvalue', train_df, sample, ['max', 'mean', 'median'])"
   ]
  },
  {
   "cell_type": "markdown",
   "metadata": {},
   "source": [
    "### 房间的面积统计特征"
   ]
  },
  {
   "cell_type": "markdown",
   "metadata": {},
   "source": [
    "###  删掉为负的值"
   ]
  },
  {
   "cell_type": "code",
   "execution_count": 18,
   "metadata": {
    "collapsed": true
   },
   "outputs": [],
   "source": [
    "train_df.loc[train_df.basic_minarea<0, 'basic_minarea'] = np.nan"
   ]
  },
  {
   "cell_type": "code",
   "execution_count": 19,
   "metadata": {
    "collapsed": true
   },
   "outputs": [],
   "source": [
    "sample = extract_value_describe_feature('hotelid', 'basic_minarea', train_df, sample, ['max', 'mean', 'median'])\n",
    "\n",
    "sample = extract_value_describe_feature('hotelid', 'basic_maxarea', train_df, sample, ['min', 'mean', 'median'])"
   ]
  },
  {
   "cell_type": "code",
   "execution_count": 20,
   "metadata": {
    "collapsed": true
   },
   "outputs": [],
   "source": [
    "# get_corr(train_df, sample, 'hotelid').tail(25)"
   ]
  },
  {
   "cell_type": "markdown",
   "metadata": {},
   "source": [
    "## 过去物理房型和子房型的统计特征 "
   ]
  },
  {
   "cell_type": "code",
   "execution_count": 21,
   "metadata": {
    "collapsed": true
   },
   "outputs": [],
   "source": [
    "# get_corr(train_df, sample, 'hotelid')"
   ]
  },
  {
   "cell_type": "code",
   "execution_count": 22,
   "metadata": {
    "collapsed": false
   },
   "outputs": [],
   "source": [
    "basic_cols = [\n",
    "    'basic_week_ordernum_ratio', 'basic_recent3_ordernum_ratio',\n",
    "    'basic_comment_ratio', 'basic_30days_ordnumratio', 'basic_30days_realratio'\n",
    "]"
   ]
  },
  {
   "cell_type": "code",
   "execution_count": 23,
   "metadata": {
    "collapsed": true
   },
   "outputs": [],
   "source": [
    "stat_describe = ['min', 'mean']"
   ]
  },
  {
   "cell_type": "code",
   "execution_count": 24,
   "metadata": {
    "collapsed": false,
    "scrolled": true
   },
   "outputs": [],
   "source": [
    "for col in basic_cols:\n",
    "    sample = extract_value_describe_feature('hotelid', col, train_df, sample, stat_describe)"
   ]
  },
  {
   "cell_type": "code",
   "execution_count": 25,
   "metadata": {
    "collapsed": true
   },
   "outputs": [],
   "source": [
    "room_cols = ['room_30days_ordnumratio', 'room_30days_realratio']"
   ]
  },
  {
   "cell_type": "code",
   "execution_count": 26,
   "metadata": {
    "collapsed": false
   },
   "outputs": [],
   "source": [
    "for col in room_cols:\n",
    "    sample = extract_value_describe_feature('hotelid', col, train_df, sample, ['max', 'min'])"
   ]
  },
  {
   "cell_type": "code",
   "execution_count": 27,
   "metadata": {
    "collapsed": true
   },
   "outputs": [],
   "source": [
    "name_fmt = '{}_diff_{}'.format('hotelid', '{}')\n",
    "\n",
    "price_diff_name = name_fmt.format('price_last_lastord')\n",
    "hotel_minprice_diff_name = name_fmt.format('hotel_minprice_lastord')\n",
    "basic_minprice_diff_name = name_fmt.format('basic_minprice_lastord')"
   ]
  },
  {
   "cell_type": "code",
   "execution_count": 28,
   "metadata": {
    "collapsed": false
   },
   "outputs": [],
   "source": [
    "train_df[price_diff_name] = train_df['price_deduct'] - train_df['price_last_lastord']\n",
    "train_df[hotel_minprice_diff_name] = train_df['price_deduct'] - train_df['hotel_minprice_lastord']\n",
    "train_df[basic_minprice_diff_name] = train_df['price_deduct'] - train_df['basic_minprice_lastord']"
   ]
  },
  {
   "cell_type": "code",
   "execution_count": 29,
   "metadata": {
    "collapsed": true
   },
   "outputs": [],
   "source": [
    "price_desr = ['mean', 'max', 'min']"
   ]
  },
  {
   "cell_type": "code",
   "execution_count": 30,
   "metadata": {
    "collapsed": true
   },
   "outputs": [],
   "source": [
    "sample = extract_value_describe_feature('hotelid', price_diff_name, train_df, sample, price_desr)\n",
    "sample = extract_value_describe_feature('hotelid', hotel_minprice_diff_name, train_df, sample, price_desr)\n",
    "sample = extract_value_describe_feature('hotelid', basic_minprice_diff_name, train_df, sample, price_desr)"
   ]
  },
  {
   "cell_type": "code",
   "execution_count": 31,
   "metadata": {
    "collapsed": true
   },
   "outputs": [],
   "source": [
    "# get_corr(train_df, sample, 'hotelid').tail(24)"
   ]
  },
  {
   "cell_type": "markdown",
   "metadata": {},
   "source": [
    "## 历史价格与现在差价统计特征"
   ]
  },
  {
   "cell_type": "code",
   "execution_count": 32,
   "metadata": {
    "collapsed": false
   },
   "outputs": [],
   "source": [
    "hotel_lastord = train_df[[\n",
    "    'uid', 'hotelid_lastord', 'hotelid', 'star_lastord',\n",
    "    'hotel_minprice_lastord', 'orderdate_lastord'\n",
    "]].drop_duplicates()"
   ]
  },
  {
   "cell_type": "code",
   "execution_count": 33,
   "metadata": {
    "collapsed": false
   },
   "outputs": [],
   "source": [
    "if uid_shape != hotel_lastord.shape[0]:\n",
    "    warn('uid_shape not equal [uid ,hotelid_lastord, hotelid]')"
   ]
  },
  {
   "cell_type": "markdown",
   "metadata": {},
   "source": [
    "## 历史购买时间间隔统计特征 "
   ]
  },
  {
   "cell_type": "code",
   "execution_count": 34,
   "metadata": {
    "collapsed": true
   },
   "outputs": [],
   "source": [
    "span_name, t = '{}_span'.format('hotelid'), 'hotelid'"
   ]
  },
  {
   "cell_type": "code",
   "execution_count": 35,
   "metadata": {
    "collapsed": true
   },
   "outputs": [],
   "source": [
    "# train_df[span_name] = (now_date - train_df.orderdate_lastord).dt.days\n",
    "\n",
    "# sample = extract_value_describe_feature(t, span_name, train_df, sample, ['max', 'min', 'mean'])"
   ]
  },
  {
   "cell_type": "code",
   "execution_count": 36,
   "metadata": {
    "collapsed": false
   },
   "outputs": [],
   "source": [
    "# get_corr(train_df, sample, 'hotelid').tail(8)"
   ]
  },
  {
   "cell_type": "markdown",
   "metadata": {},
   "source": [
    "## 用户过去是否购买或者没有记录"
   ]
  },
  {
   "cell_type": "code",
   "execution_count": 37,
   "metadata": {
    "collapsed": false
   },
   "outputs": [],
   "source": [
    "sample = extract_lastord_is_nan(hotel_lastord, sample, 'hotelid', 'hotelid_lastord')"
   ]
  },
  {
   "cell_type": "code",
   "execution_count": 38,
   "metadata": {
    "collapsed": false
   },
   "outputs": [],
   "source": [
    "# sample = extract_is_lastord(hotel_lastord, sample, 'hotelid', 'hotelid_lastord')"
   ]
  },
  {
   "cell_type": "code",
   "execution_count": 39,
   "metadata": {
    "collapsed": false
   },
   "outputs": [],
   "source": [
    "# get_corr(train_df, sample, 'hotelid').tail()"
   ]
  },
  {
   "cell_type": "code",
   "execution_count": 40,
   "metadata": {
    "collapsed": true
   },
   "outputs": [],
   "source": [
    "def extract_lastord_feature_max_min(t, hotel_lastord, sample):\n",
    "    min_fmt = '{}_min'.format(t)\n",
    "    max_fmt = '{}_max'.format(t)\n",
    "    series = hotel_lastord.groupby('hotelid')[t].min()\n",
    "    series.name = min_fmt\n",
    "    sample = sample.join(series, on='hotelid')\n",
    "    series = hotel_lastord.groupby('hotelid')[t].max()\n",
    "    series.name = max_fmt\n",
    "    sample = sample.join(series, on='hotelid')\n",
    "    max_equal_min_fmt = '{}_max_equeal_min'.format(t)\n",
    "    sample[max_equal_min_fmt] = (sample[max_fmt] == sample[min_fmt]).astype(np.int8)\n",
    "    sample = press_date(sample, [max_equal_min_fmt, max_fmt, min_fmt])\n",
    "    return sample"
   ]
  },
  {
   "cell_type": "code",
   "execution_count": 41,
   "metadata": {
    "collapsed": true
   },
   "outputs": [],
   "source": [
    "# sample = extract_lastord_feature_max_min('star_lastord', hotel_lastord, sample)\n",
    "\n",
    "# sample = extract_lastord_feature_max_min('hotel_minprice_lastord', hotel_lastord, sample)\n",
    "\n",
    "# hotel_lastord['orderdate_lastord_days'] = (now_date - hotel_lastord.orderdate_lastord).dt.days\n",
    "\n",
    "# sample = extract_lastord_feature_max_min('orderdate_lastord_days', hotel_lastord, sample)"
   ]
  },
  {
   "cell_type": "code",
   "execution_count": 42,
   "metadata": {
    "collapsed": false
   },
   "outputs": [],
   "source": [
    "# get_corr(train_df, sample, 'hotelid')"
   ]
  },
  {
   "cell_type": "code",
   "execution_count": 43,
   "metadata": {
    "collapsed": false
   },
   "outputs": [],
   "source": [
    "# sample.info()"
   ]
  },
  {
   "cell_type": "code",
   "execution_count": 44,
   "metadata": {
    "collapsed": false
   },
   "outputs": [
    {
     "name": "stdout",
     "output_type": "stream",
     "text": [
      "2017-08-01 20:42:32.677711 save to ../dataset/11/hotel_feature.pkl\n"
     ]
    }
   ],
   "source": [
    "sample.to_pickle(feature_path)\n",
    "\n",
    "print(datetime.now(), 'save to', feature_path)"
   ]
  }
 ],
 "metadata": {
  "anaconda-cloud": {},
  "hide_input": false,
  "kernelspec": {
   "display_name": "Python 3",
   "language": "python",
   "name": "python3"
  },
  "language_info": {
   "codemirror_mode": {
    "name": "ipython",
    "version": 3
   },
   "file_extension": ".py",
   "mimetype": "text/x-python",
   "name": "python",
   "nbconvert_exporter": "python",
   "pygments_lexer": "ipython3",
   "version": "3.5.1"
  }
 },
 "nbformat": 4,
 "nbformat_minor": 2
}
