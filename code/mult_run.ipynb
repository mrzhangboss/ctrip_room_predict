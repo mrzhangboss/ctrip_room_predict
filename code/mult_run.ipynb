{
 "cells": [
  {
   "cell_type": "code",
   "execution_count": 1,
   "metadata": {
    "collapsed": true
   },
   "outputs": [],
   "source": [
    "import time\n",
    "from datetime import datetime\n",
    "from os import mkdir\n",
    "from os.path import exists, join\n",
    "\n",
    "import pandas as pd\n",
    "import numpy as np\n",
    "import scipy as sp\n",
    "\n",
    "import psutil"
   ]
  },
  {
   "cell_type": "code",
   "execution_count": 2,
   "metadata": {
    "collapsed": true
   },
   "outputs": [],
   "source": [
    "if not exists('logs'):\n",
    "    mkdir(log_dir)"
   ]
  },
  {
   "cell_type": "code",
   "execution_count": 3,
   "metadata": {
    "collapsed": false
   },
   "outputs": [
    {
     "data": {
      "text/plain": [
       "'logs/01-20'"
      ]
     },
     "execution_count": 3,
     "metadata": {},
     "output_type": "execute_result"
    }
   ],
   "source": [
    "now = datetime.now()\n",
    "log_dir = join('logs', now.strftime('%d-%H'))\n",
    "if not exists(log_dir):\n",
    "    mkdir(log_dir)\n",
    "log_dir"
   ]
  },
  {
   "cell_type": "code",
   "execution_count": 4,
   "metadata": {
    "collapsed": false
   },
   "outputs": [],
   "source": [
    "timespans = [str(x.date())[-2:] for x in pd.date_range('2017/6/5', '2017/6/11')]"
   ]
  },
  {
   "cell_type": "code",
   "execution_count": 5,
   "metadata": {
    "collapsed": true
   },
   "outputs": [],
   "source": [
    "worker_dirs = timespans + ['test']"
   ]
  },
  {
   "cell_type": "code",
   "execution_count": 6,
   "metadata": {
    "collapsed": true
   },
   "outputs": [],
   "source": [
    "feture_extract_path = ['extract_hotel_feature', 'extract_basic_room_feature',\n",
    "                      'extract_hotel_room_feature', 'extract_room_feature',\n",
    "                      'extract_uid_feture', 'extract_order_feature']"
   ]
  },
  {
   "cell_type": "code",
   "execution_count": 7,
   "metadata": {
    "collapsed": true
   },
   "outputs": [],
   "source": [
    "# feture_extract_path = ['extract_order_feature']"
   ]
  },
  {
   "cell_type": "code",
   "execution_count": 8,
   "metadata": {
    "collapsed": true
   },
   "outputs": [],
   "source": [
    "feture_combine_path = ['combine_sample']"
   ]
  },
  {
   "cell_type": "code",
   "execution_count": 9,
   "metadata": {
    "collapsed": true
   },
   "outputs": [],
   "source": [
    "max_run = 4"
   ]
  },
  {
   "cell_type": "code",
   "execution_count": 10,
   "metadata": {
    "collapsed": true
   },
   "outputs": [],
   "source": [
    "def get_args(feture_extract_path, worker_dirs):\n",
    "    for p in feture_extract_path:\n",
    "        for d in worker_dirs:\n",
    "            yield [p, d]"
   ]
  },
  {
   "cell_type": "code",
   "execution_count": 11,
   "metadata": {
    "collapsed": true
   },
   "outputs": [],
   "source": [
    "def check(p):\n",
    "    pm = p.memory_info()\n",
    "    is_zero = all(map(lambda x:getattr(pm, x)==0, ['rss','vms', 'shared', 'text', 'lib', 'data', 'dirty']))\n",
    "    return is_zero"
   ]
  },
  {
   "cell_type": "code",
   "execution_count": 12,
   "metadata": {
    "collapsed": true
   },
   "outputs": [],
   "source": [
    "def is_wait(pool, max_pool=4):\n",
    "    if len(pool) < max_pool:\n",
    "        print(datetime.now(), 'pool size', len(pool))\n",
    "        return False\n",
    "    else:\n",
    "        time.sleep(10)\n",
    "        not_run_p = []\n",
    "        for i, p in enumerate(pool[:]):\n",
    "            not_run = check(p)\n",
    "            print(datetime.now(), 'process', i, 'not runing' if not_run else 'run')\n",
    "            if not_run:\n",
    "                not_run_p.append(i)\n",
    "        not_run_p.sort(reverse=True)\n",
    "        for i in not_run_p:\n",
    "            p = pool.pop(i)\n",
    "            p.kill()\n",
    "        return True"
   ]
  },
  {
   "cell_type": "code",
   "execution_count": 13,
   "metadata": {
    "collapsed": false
   },
   "outputs": [],
   "source": [
    "def run_args(extract_args, max_pool=4):\n",
    "    pool = []\n",
    "    for p, n in extract_args:\n",
    "        print(datetime.now(), 'begin', p, n)\n",
    "        fn = join(log_dir, '{}_{}.txt'.format(p, n))\n",
    "        pool.append(psutil.Popen(['python', p+'.py', n], stdout=open(fn, 'w')))\n",
    "        while is_wait(pool, max_pool):\n",
    "            print(datetime.now(), 'run in ', p, n)\n",
    "    while is_wait(pool, 1):\n",
    "        print('wait for pool over')"
   ]
  },
  {
   "cell_type": "code",
   "execution_count": 14,
   "metadata": {
    "collapsed": true
   },
   "outputs": [],
   "source": [
    "# for p, n in extract_args:\n",
    "#     print(datetime.now(), 'begin', p, n)\n",
    "#     fn = join(log_dir, '{}_{}.txt'.format(p, n))\n",
    "#     pool.append(psutil.Popen(['python', p+'.py', n], stdout=open(fn, 'w')))\n",
    "#     while is_wait(pool):\n",
    "#         print(datetime.now(), 'run in ', p, n)"
   ]
  },
  {
   "cell_type": "code",
   "execution_count": 15,
   "metadata": {
    "collapsed": true
   },
   "outputs": [],
   "source": [
    "extract_args = get_args(feture_extract_path, worker_dirs)\n",
    "combine_args = get_args(feture_combine_path, worker_dirs)"
   ]
  },
  {
   "cell_type": "code",
   "execution_count": 16,
   "metadata": {
    "collapsed": false
   },
   "outputs": [
    {
     "name": "stdout",
     "output_type": "stream",
     "text": [
      "2017-08-01 20:44:43.818346 begin extract_hotel_feature 05\n",
      "2017-08-01 20:44:43.825060 pool size 1\n",
      "2017-08-01 20:44:43.825165 begin extract_hotel_feature 06\n",
      "2017-08-01 20:44:43.830011 pool size 2\n",
      "2017-08-01 20:44:43.830129 begin extract_hotel_feature 07\n",
      "2017-08-01 20:44:43.835656 pool size 3\n",
      "2017-08-01 20:44:43.835732 begin extract_hotel_feature 08\n",
      "2017-08-01 20:45:13.872013 process 0 not runing\n",
      "2017-08-01 20:45:13.872935 process 1 not runing\n",
      "2017-08-01 20:45:13.873222 process 2 not runing\n",
      "2017-08-01 20:45:13.873447 process 3 not runing\n",
      "2017-08-01 20:45:13.875094 run in  extract_hotel_feature 08\n",
      "2017-08-01 20:45:13.875192 pool size 0\n",
      "2017-08-01 20:45:13.875256 begin extract_hotel_feature 09\n",
      "2017-08-01 20:45:13.881016 pool size 1\n",
      "2017-08-01 20:45:13.881111 begin extract_hotel_feature 10\n",
      "2017-08-01 20:45:13.886034 pool size 2\n",
      "2017-08-01 20:45:13.886130 begin extract_hotel_feature 11\n",
      "2017-08-01 20:45:13.890634 pool size 3\n",
      "2017-08-01 20:45:13.890746 begin extract_hotel_feature test\n",
      "2017-08-01 20:45:43.927210 process 0 not runing\n",
      "2017-08-01 20:45:43.927905 process 1 not runing\n",
      "2017-08-01 20:45:43.928557 process 2 not runing\n",
      "2017-08-01 20:45:43.928837 process 3 not runing\n",
      "2017-08-01 20:45:43.930467 run in  extract_hotel_feature test\n",
      "2017-08-01 20:45:43.930565 pool size 0\n",
      "2017-08-01 20:45:43.930631 begin extract_basic_room_feature 05\n",
      "2017-08-01 20:45:43.938936 pool size 1\n",
      "2017-08-01 20:45:43.939052 begin extract_basic_room_feature 06\n",
      "2017-08-01 20:45:43.944444 pool size 2\n",
      "2017-08-01 20:45:43.944589 begin extract_basic_room_feature 07\n",
      "2017-08-01 20:45:43.951979 pool size 3\n",
      "2017-08-01 20:45:43.952082 begin extract_basic_room_feature 08\n",
      "2017-08-01 20:46:13.969308 process 0 not runing\n",
      "2017-08-01 20:46:13.969799 process 1 not runing\n",
      "2017-08-01 20:46:13.969940 process 2 not runing\n",
      "2017-08-01 20:46:13.970151 process 3 not runing\n",
      "2017-08-01 20:46:13.970973 run in  extract_basic_room_feature 08\n",
      "2017-08-01 20:46:13.971045 pool size 0\n",
      "2017-08-01 20:46:13.971097 begin extract_basic_room_feature 09\n",
      "2017-08-01 20:46:13.975163 pool size 1\n",
      "2017-08-01 20:46:13.975237 begin extract_basic_room_feature 10\n",
      "2017-08-01 20:46:13.979208 pool size 2\n",
      "2017-08-01 20:46:13.979283 begin extract_basic_room_feature 11\n",
      "2017-08-01 20:46:13.984041 pool size 3\n",
      "2017-08-01 20:46:13.984116 begin extract_basic_room_feature test\n",
      "2017-08-01 20:46:44.021372 process 0 not runing\n",
      "2017-08-01 20:46:44.021783 process 1 not runing\n",
      "2017-08-01 20:46:44.021902 process 2 not runing\n",
      "2017-08-01 20:46:44.022003 process 3 not runing\n",
      "2017-08-01 20:46:44.022577 run in  extract_basic_room_feature test\n",
      "2017-08-01 20:46:44.022612 pool size 0\n",
      "2017-08-01 20:46:44.022636 begin extract_hotel_room_feature 05\n",
      "2017-08-01 20:46:44.026810 pool size 1\n",
      "2017-08-01 20:46:44.026916 begin extract_hotel_room_feature 06\n",
      "2017-08-01 20:46:44.033114 pool size 2\n",
      "2017-08-01 20:46:44.033217 begin extract_hotel_room_feature 07\n",
      "2017-08-01 20:46:44.040537 pool size 3\n",
      "2017-08-01 20:46:44.040616 begin extract_hotel_room_feature 08\n",
      "2017-08-01 20:47:14.082481 process 0 not runing\n",
      "2017-08-01 20:47:14.083392 process 1 not runing\n",
      "2017-08-01 20:47:14.083678 process 2 not runing\n",
      "2017-08-01 20:47:14.083907 process 3 not runing\n",
      "2017-08-01 20:47:14.085426 run in  extract_hotel_room_feature 08\n",
      "2017-08-01 20:47:14.085520 pool size 0\n",
      "2017-08-01 20:47:14.085582 begin extract_hotel_room_feature 09\n",
      "2017-08-01 20:47:14.094290 pool size 1\n",
      "2017-08-01 20:47:14.094431 begin extract_hotel_room_feature 10\n",
      "2017-08-01 20:47:14.099502 pool size 2\n",
      "2017-08-01 20:47:14.099578 begin extract_hotel_room_feature 11\n",
      "2017-08-01 20:47:14.104026 pool size 3\n",
      "2017-08-01 20:47:14.104100 begin extract_hotel_room_feature test\n",
      "2017-08-01 20:47:44.139798 process 0 not runing\n",
      "2017-08-01 20:47:44.140444 process 1 not runing\n",
      "2017-08-01 20:47:44.140684 process 2 not runing\n",
      "2017-08-01 20:47:44.140895 process 3 not runing\n",
      "2017-08-01 20:47:44.142270 run in  extract_hotel_room_feature test\n",
      "2017-08-01 20:47:44.142351 pool size 0\n",
      "2017-08-01 20:47:44.142410 begin extract_room_feature 05\n",
      "2017-08-01 20:47:44.147979 pool size 1\n",
      "2017-08-01 20:47:44.148057 begin extract_room_feature 06\n",
      "2017-08-01 20:47:44.157040 pool size 2\n",
      "2017-08-01 20:47:44.157164 begin extract_room_feature 07\n",
      "2017-08-01 20:47:44.162892 pool size 3\n",
      "2017-08-01 20:47:44.162986 begin extract_room_feature 08\n",
      "2017-08-01 20:48:14.198940 process 0 not runing\n",
      "2017-08-01 20:48:14.199265 process 1 not runing\n",
      "2017-08-01 20:48:14.199697 process 2 not runing\n",
      "2017-08-01 20:48:14.199903 process 3 not runing\n",
      "2017-08-01 20:48:14.200968 run in  extract_room_feature 08\n",
      "2017-08-01 20:48:14.201024 pool size 0\n",
      "2017-08-01 20:48:14.201062 begin extract_room_feature 09\n",
      "2017-08-01 20:48:14.206059 pool size 1\n",
      "2017-08-01 20:48:14.206168 begin extract_room_feature 10\n",
      "2017-08-01 20:48:14.213777 pool size 2\n",
      "2017-08-01 20:48:14.213893 begin extract_room_feature 11\n",
      "2017-08-01 20:48:14.223216 pool size 3\n",
      "2017-08-01 20:48:14.223327 begin extract_room_feature test\n",
      "2017-08-01 20:48:44.261125 process 0 not runing\n",
      "2017-08-01 20:48:44.262132 process 1 not runing\n",
      "2017-08-01 20:48:44.262420 process 2 not runing\n",
      "2017-08-01 20:48:44.262644 process 3 not runing\n",
      "2017-08-01 20:48:44.264173 run in  extract_room_feature test\n",
      "2017-08-01 20:48:44.264269 pool size 0\n",
      "2017-08-01 20:48:44.264333 begin extract_uid_feture 05\n",
      "2017-08-01 20:48:44.272803 pool size 1\n",
      "2017-08-01 20:48:44.273064 begin extract_uid_feture 06\n",
      "2017-08-01 20:48:44.278748 pool size 2\n",
      "2017-08-01 20:48:44.278840 begin extract_uid_feture 07\n",
      "2017-08-01 20:48:44.283712 pool size 3\n",
      "2017-08-01 20:48:44.283787 begin extract_uid_feture 08\n",
      "2017-08-01 20:49:14.313468 process 0 not runing\n",
      "2017-08-01 20:49:14.314418 process 1 not runing\n",
      "2017-08-01 20:49:14.314680 process 2 not runing\n",
      "2017-08-01 20:49:14.314903 process 3 not runing\n",
      "2017-08-01 20:49:14.316452 run in  extract_uid_feture 08\n",
      "2017-08-01 20:49:14.316548 pool size 0\n",
      "2017-08-01 20:49:14.316611 begin extract_uid_feture 09\n",
      "2017-08-01 20:49:14.323684 pool size 1\n",
      "2017-08-01 20:49:14.323789 begin extract_uid_feture 10\n",
      "2017-08-01 20:49:14.328300 pool size 2\n",
      "2017-08-01 20:49:14.328376 begin extract_uid_feture 11\n",
      "2017-08-01 20:49:14.333791 pool size 3\n",
      "2017-08-01 20:49:14.333897 begin extract_uid_feture test\n",
      "2017-08-01 20:49:44.344666 process 0 not runing\n",
      "2017-08-01 20:49:44.344886 process 1 not runing\n",
      "2017-08-01 20:49:44.345013 process 2 not runing\n",
      "2017-08-01 20:49:44.345133 process 3 run\n",
      "2017-08-01 20:49:44.345840 run in  extract_uid_feture test\n",
      "2017-08-01 20:49:44.345896 pool size 1\n",
      "2017-08-01 20:49:44.345936 begin extract_order_feature 05\n",
      "2017-08-01 20:49:44.353103 pool size 2\n",
      "2017-08-01 20:49:44.353254 begin extract_order_feature 06\n",
      "2017-08-01 20:49:44.361508 pool size 3\n",
      "2017-08-01 20:49:44.361610 begin extract_order_feature 07\n",
      "2017-08-01 20:50:14.405339 process 0 run\n",
      "2017-08-01 20:50:14.405704 process 1 not runing\n",
      "2017-08-01 20:50:14.405801 process 2 not runing\n",
      "2017-08-01 20:50:14.405883 process 3 not runing\n",
      "2017-08-01 20:50:14.406373 run in  extract_order_feature 07\n",
      "2017-08-01 20:50:14.406409 pool size 1\n",
      "2017-08-01 20:50:14.406432 begin extract_order_feature 08\n",
      "2017-08-01 20:50:14.410799 pool size 2\n",
      "2017-08-01 20:50:14.410886 begin extract_order_feature 09\n",
      "2017-08-01 20:50:14.416195 pool size 3\n",
      "2017-08-01 20:50:14.416325 begin extract_order_feature 10\n",
      "2017-08-01 20:50:44.436384 process 0 not runing\n",
      "2017-08-01 20:50:44.437198 process 1 not runing\n",
      "2017-08-01 20:50:44.437453 process 2 not runing\n",
      "2017-08-01 20:50:44.437654 process 3 not runing\n",
      "2017-08-01 20:50:44.439203 run in  extract_order_feature 10\n",
      "2017-08-01 20:50:44.439300 pool size 0\n",
      "2017-08-01 20:50:44.439363 begin extract_order_feature 11\n",
      "2017-08-01 20:50:44.445080 pool size 1\n",
      "2017-08-01 20:50:44.445174 begin extract_order_feature test\n",
      "2017-08-01 20:50:44.449729 pool size 2\n",
      "2017-08-01 20:51:14.474765 process 0 not runing\n",
      "2017-08-01 20:51:14.475102 process 1 run\n",
      "wait for pool over\n",
      "2017-08-01 20:51:44.505800 process 0 not runing\n",
      "wait for pool over\n",
      "2017-08-01 20:51:44.506997 pool size 0\n"
     ]
    }
   ],
   "source": [
    "run_args(extract_args, max_run)"
   ]
  },
  {
   "cell_type": "code",
   "execution_count": 17,
   "metadata": {
    "collapsed": false
   },
   "outputs": [
    {
     "name": "stdout",
     "output_type": "stream",
     "text": [
      "2017-08-01 20:51:44.517065 begin combine_sample 05\n",
      "2017-08-01 20:51:44.523457 pool size 1\n",
      "2017-08-01 20:51:44.523581 begin combine_sample 06\n",
      "2017-08-01 20:51:44.528743 pool size 2\n",
      "2017-08-01 20:51:44.528841 begin combine_sample 07\n",
      "2017-08-01 20:51:44.533807 pool size 3\n",
      "2017-08-01 20:51:44.533909 begin combine_sample 08\n",
      "2017-08-01 20:52:14.557395 process 0 not runing\n",
      "2017-08-01 20:52:14.558207 process 1 not runing\n",
      "2017-08-01 20:52:14.558470 process 2 not runing\n",
      "2017-08-01 20:52:14.558700 process 3 not runing\n",
      "2017-08-01 20:52:14.560243 run in  combine_sample 08\n",
      "2017-08-01 20:52:14.560340 pool size 0\n",
      "2017-08-01 20:52:14.560403 begin combine_sample 09\n",
      "2017-08-01 20:52:14.567198 pool size 1\n",
      "2017-08-01 20:52:14.567378 begin combine_sample 10\n",
      "2017-08-01 20:52:14.575662 pool size 2\n",
      "2017-08-01 20:52:14.575794 begin combine_sample 11\n",
      "2017-08-01 20:52:14.581675 pool size 3\n",
      "2017-08-01 20:52:14.581773 begin combine_sample test\n",
      "2017-08-01 20:52:44.620889 process 0 not runing\n",
      "2017-08-01 20:52:44.621832 process 1 not runing\n",
      "2017-08-01 20:52:44.622161 process 2 not runing\n",
      "2017-08-01 20:52:44.622389 process 3 not runing\n",
      "2017-08-01 20:52:44.623862 run in  combine_sample test\n",
      "2017-08-01 20:52:44.623958 pool size 0\n",
      "2017-08-01 20:52:44.624029 pool size 0\n"
     ]
    }
   ],
   "source": [
    "run_args(combine_args, max_run)"
   ]
  }
 ],
 "metadata": {
  "anaconda-cloud": {},
  "hide_input": false,
  "kernelspec": {
   "display_name": "Python 3",
   "language": "python",
   "name": "python3"
  },
  "language_info": {
   "codemirror_mode": {
    "name": "ipython",
    "version": 3
   },
   "file_extension": ".py",
   "mimetype": "text/x-python",
   "name": "python",
   "nbconvert_exporter": "python",
   "pygments_lexer": "ipython3",
   "version": "3.5.1"
  }
 },
 "nbformat": 4,
 "nbformat_minor": 2
}
