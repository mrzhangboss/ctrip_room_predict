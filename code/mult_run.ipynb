{
 "cells": [
  {
   "cell_type": "code",
   "execution_count": 1,
   "metadata": {
    "collapsed": true
   },
   "outputs": [],
   "source": [
    "import time\n",
    "from datetime import datetime\n",
    "from os import mkdir\n",
    "from os.path import exists, join\n",
    "\n",
    "import pandas as pd\n",
    "import numpy as np\n",
    "import scipy as sp\n",
    "\n",
    "import psutil"
   ]
  },
  {
   "cell_type": "code",
   "execution_count": 2,
   "metadata": {
    "collapsed": true
   },
   "outputs": [],
   "source": [
    "if not exists('logs'):\n",
    "    mkdir(log_dir)"
   ]
  },
  {
   "cell_type": "code",
   "execution_count": 3,
   "metadata": {
    "collapsed": false
   },
   "outputs": [
    {
     "data": {
      "text/plain": [
       "'logs/31-21'"
      ]
     },
     "execution_count": 3,
     "metadata": {},
     "output_type": "execute_result"
    }
   ],
   "source": [
    "now = datetime.now()\n",
    "log_dir = join('logs', now.strftime('%d-%H'))\n",
    "if not exists(log_dir):\n",
    "    mkdir(log_dir)\n",
    "log_dir"
   ]
  },
  {
   "cell_type": "code",
   "execution_count": 4,
   "metadata": {
    "collapsed": false
   },
   "outputs": [],
   "source": [
    "timespans = [str(x.date())[-2:] for x in pd.date_range('2017/6/5', '2017/6/11')]"
   ]
  },
  {
   "cell_type": "code",
   "execution_count": 5,
   "metadata": {
    "collapsed": true
   },
   "outputs": [],
   "source": [
    "worker_dirs = timespans + ['test']"
   ]
  },
  {
   "cell_type": "code",
   "execution_count": 6,
   "metadata": {
    "collapsed": true
   },
   "outputs": [],
   "source": [
    "feture_extract_path = ['extract_hotel_feature', 'extract_basic_room_feature',\n",
    "                      'extract_hotel_room_feature', 'extract_room_feature',\n",
    "                      'extract_uid_feture', 'extract_order_feature']"
   ]
  },
  {
   "cell_type": "code",
   "execution_count": 48,
   "metadata": {
    "collapsed": true
   },
   "outputs": [],
   "source": [
    "# feture_extract_path = ['extract_uid_feture']"
   ]
  },
  {
   "cell_type": "code",
   "execution_count": 18,
   "metadata": {
    "collapsed": true
   },
   "outputs": [],
   "source": [
    "feture_combine_path = ['combine_sample']"
   ]
  },
  {
   "cell_type": "code",
   "execution_count": 19,
   "metadata": {
    "collapsed": true
   },
   "outputs": [],
   "source": [
    "max_run = 4"
   ]
  },
  {
   "cell_type": "code",
   "execution_count": 22,
   "metadata": {
    "collapsed": true
   },
   "outputs": [],
   "source": [
    "def get_args(feture_extract_path, worker_dirs):\n",
    "    for p in feture_extract_path:\n",
    "        for d in worker_dirs:\n",
    "            yield [p, d]"
   ]
  },
  {
   "cell_type": "code",
   "execution_count": 40,
   "metadata": {
    "collapsed": true
   },
   "outputs": [],
   "source": [
    "def check(p):\n",
    "    pm = p.memory_info()\n",
    "    is_zero = all(map(lambda x:getattr(pm, x)==0, ['rss','vms', 'shared', 'text', 'lib', 'data', 'dirty']))\n",
    "    return is_zero"
   ]
  },
  {
   "cell_type": "code",
   "execution_count": 41,
   "metadata": {
    "collapsed": true
   },
   "outputs": [],
   "source": [
    "def is_wait(pool, max_pool=4):\n",
    "    if len(pool) < max_pool:\n",
    "        return False\n",
    "    else:\n",
    "        time.sleep(30)\n",
    "        not_run_p = []\n",
    "        for i, p in enumerate(pool[:]):\n",
    "            not_run = check(p)\n",
    "            print(datetime.now(), 'process', i, 'not runing' if not_run else 'run')\n",
    "            if not_run:\n",
    "                not_run_p.append(i)\n",
    "        not_run_p.sort(reverse=True)\n",
    "        for i in not_run_p:\n",
    "            p = pool.pop(i)\n",
    "            p.kill()\n",
    "        return True"
   ]
  },
  {
   "cell_type": "code",
   "execution_count": 42,
   "metadata": {
    "collapsed": false
   },
   "outputs": [],
   "source": [
    "def run_args(extract_args, max_pool=4):\n",
    "    pool = []\n",
    "    for p, n in extract_args:\n",
    "        print(datetime.now(), 'begin', p, n)\n",
    "        fn = join(log_dir, '{}_{}.txt'.format(p, n))\n",
    "        pool.append(psutil.Popen(['python', p+'.py', n], stdout=open(fn, 'w')))\n",
    "        while is_wait(pool, max_pool):\n",
    "            print(datetime.now(), 'run in ', p, n)"
   ]
  },
  {
   "cell_type": "code",
   "execution_count": 28,
   "metadata": {
    "collapsed": true
   },
   "outputs": [],
   "source": [
    "# for p, n in extract_args:\n",
    "#     print(datetime.now(), 'begin', p, n)\n",
    "#     fn = join(log_dir, '{}_{}.txt'.format(p, n))\n",
    "#     pool.append(psutil.Popen(['python', p+'.py', n], stdout=open(fn, 'w')))\n",
    "#     while is_wait(pool):\n",
    "#         print(datetime.now(), 'run in ', p, n)"
   ]
  },
  {
   "cell_type": "code",
   "execution_count": 45,
   "metadata": {
    "collapsed": true
   },
   "outputs": [],
   "source": [
    "extract_args = get_args(feture_extract_path, worker_dirs)\n",
    "combine_args = get_args(feture_combine_path, worker_dirs)"
   ]
  },
  {
   "cell_type": "code",
   "execution_count": 46,
   "metadata": {
    "collapsed": false
   },
   "outputs": [
    {
     "name": "stdout",
     "output_type": "stream",
     "text": [
      "2017-07-31 22:36:58.820711 begin extract_uid_feture 05\n",
      "2017-07-31 22:36:58.835152 begin extract_uid_feture 06\n",
      "2017-07-31 22:36:58.844220 begin extract_uid_feture 07\n",
      "2017-07-31 22:36:58.853939 begin extract_uid_feture 08\n",
      "2017-07-31 22:37:28.894839 process 0 run\n",
      "2017-07-31 22:37:28.895091 process 1 run\n",
      "2017-07-31 22:37:28.895238 process 2 run\n",
      "2017-07-31 22:37:28.895379 process 3 run\n",
      "2017-07-31 22:37:28.895443 run in  extract_uid_feture 08\n",
      "2017-07-31 22:37:58.925609 process 0 run\n",
      "2017-07-31 22:37:58.925837 process 1 run\n",
      "2017-07-31 22:37:58.925987 process 2 not runing\n",
      "2017-07-31 22:37:58.926130 process 3 run\n",
      "2017-07-31 22:37:58.926503 run in  extract_uid_feture 08\n",
      "2017-07-31 22:37:58.926571 begin extract_uid_feture 09\n",
      "2017-07-31 22:38:28.962794 process 0 not runing\n",
      "2017-07-31 22:38:28.963231 process 1 not runing\n",
      "2017-07-31 22:38:28.963331 process 2 not runing\n",
      "2017-07-31 22:38:28.963407 process 3 run\n",
      "2017-07-31 22:38:28.963891 run in  extract_uid_feture 09\n",
      "2017-07-31 22:38:28.963930 begin extract_uid_feture 10\n",
      "2017-07-31 22:38:28.968515 begin extract_uid_feture 11\n",
      "2017-07-31 22:38:28.976003 begin extract_uid_feture test\n",
      "2017-07-31 22:38:59.010811 process 0 not runing\n",
      "2017-07-31 22:38:59.011061 process 1 run\n",
      "2017-07-31 22:38:59.011207 process 2 run\n",
      "2017-07-31 22:38:59.011345 process 3 run\n",
      "2017-07-31 22:38:59.011691 run in  extract_uid_feture test\n"
     ]
    }
   ],
   "source": [
    "run_args(extract_args, max_run)"
   ]
  },
  {
   "cell_type": "code",
   "execution_count": 47,
   "metadata": {
    "collapsed": false
   },
   "outputs": [
    {
     "name": "stdout",
     "output_type": "stream",
     "text": [
      "2017-07-31 22:38:59.025224 begin combine_sample 05\n",
      "2017-07-31 22:38:59.053224 begin combine_sample 06\n",
      "2017-07-31 22:38:59.069343 begin combine_sample 07\n",
      "2017-07-31 22:38:59.097851 begin combine_sample 08\n",
      "2017-07-31 22:39:29.145021 process 0 not runing\n",
      "2017-07-31 22:39:29.145600 process 1 not runing\n",
      "2017-07-31 22:39:29.145736 process 2 not runing\n",
      "2017-07-31 22:39:29.145903 process 3 not runing\n",
      "2017-07-31 22:39:29.146761 run in  combine_sample 08\n",
      "2017-07-31 22:39:29.146824 begin combine_sample 09\n",
      "2017-07-31 22:39:29.159262 begin combine_sample 10\n",
      "2017-07-31 22:39:29.164537 begin combine_sample 11\n",
      "2017-07-31 22:39:29.172568 begin combine_sample test\n",
      "2017-07-31 22:39:59.225203 process 0 not runing\n",
      "2017-07-31 22:39:59.238380 process 1 not runing\n",
      "2017-07-31 22:39:59.238492 process 2 not runing\n",
      "2017-07-31 22:39:59.238620 process 3 not runing\n",
      "2017-07-31 22:39:59.251642 run in  combine_sample test\n"
     ]
    }
   ],
   "source": [
    "run_args(combine_args, max_run)"
   ]
  },
  {
   "cell_type": "code",
   "execution_count": null,
   "metadata": {
    "collapsed": true
   },
   "outputs": [],
   "source": []
  }
 ],
 "metadata": {
  "anaconda-cloud": {},
  "hide_input": false,
  "kernelspec": {
   "display_name": "Python 3",
   "language": "python",
   "name": "python3"
  },
  "language_info": {
   "codemirror_mode": {
    "name": "ipython",
    "version": 3
   },
   "file_extension": ".py",
   "mimetype": "text/x-python",
   "name": "python",
   "nbconvert_exporter": "python",
   "pygments_lexer": "ipython3",
   "version": "3.5.1"
  }
 },
 "nbformat": 4,
 "nbformat_minor": 2
}
