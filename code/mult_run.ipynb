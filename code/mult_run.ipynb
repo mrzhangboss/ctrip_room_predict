{
 "cells": [
  {
   "cell_type": "code",
   "execution_count": 1,
   "metadata": {
    "collapsed": true
   },
   "outputs": [],
   "source": [
    "import time\n",
    "from datetime import datetime\n",
    "from os import mkdir\n",
    "from os.path import exists, join\n",
    "\n",
    "import pandas as pd\n",
    "import numpy as np\n",
    "import scipy as sp\n",
    "\n",
    "import psutil"
   ]
  },
  {
   "cell_type": "code",
   "execution_count": 2,
   "metadata": {
    "collapsed": true
   },
   "outputs": [],
   "source": [
    "if not exists('logs'):\n",
    "    mkdir(log_dir)"
   ]
  },
  {
   "cell_type": "code",
   "execution_count": 3,
   "metadata": {
    "collapsed": false
   },
   "outputs": [
    {
     "data": {
      "text/plain": [
       "'logs/05-08'"
      ]
     },
     "execution_count": 3,
     "metadata": {},
     "output_type": "execute_result"
    }
   ],
   "source": [
    "now = datetime.now()\n",
    "log_dir = join('logs', now.strftime('%d-%H'))\n",
    "if not exists(log_dir):\n",
    "    mkdir(log_dir)\n",
    "log_dir"
   ]
  },
  {
   "cell_type": "code",
   "execution_count": 4,
   "metadata": {
    "collapsed": true
   },
   "outputs": [],
   "source": [
    "worker_dirs = ['train'] + ['test']"
   ]
  },
  {
   "cell_type": "code",
   "execution_count": 5,
   "metadata": {
    "collapsed": true
   },
   "outputs": [],
   "source": [
    "feture_extract_path = ['extract_hotel_feature', 'extract_basic_room_feature',\n",
    "                      'extract_hotel_room_feature', 'extract_room_feature',\n",
    "                      'extract_uid_feture']"
   ]
  },
  {
   "cell_type": "code",
   "execution_count": 6,
   "metadata": {
    "collapsed": true
   },
   "outputs": [],
   "source": [
    "# feture_extract_path = ['extract_order_feature']"
   ]
  },
  {
   "cell_type": "code",
   "execution_count": 7,
   "metadata": {
    "collapsed": true
   },
   "outputs": [],
   "source": [
    "# feture_combine_path = ['combine_sample']\n",
    "feture_combine_path = ['extract_order_feature']"
   ]
  },
  {
   "cell_type": "code",
   "execution_count": 8,
   "metadata": {
    "collapsed": true
   },
   "outputs": [],
   "source": [
    "max_run = 4"
   ]
  },
  {
   "cell_type": "code",
   "execution_count": 9,
   "metadata": {
    "collapsed": true
   },
   "outputs": [],
   "source": [
    "def get_args(feture_extract_path, worker_dirs):\n",
    "    for p in feture_extract_path:\n",
    "        for d in worker_dirs:\n",
    "            yield [p, d]"
   ]
  },
  {
   "cell_type": "code",
   "execution_count": 10,
   "metadata": {
    "collapsed": true
   },
   "outputs": [],
   "source": [
    "def check(p):\n",
    "    pm = p.memory_info()\n",
    "    is_zero = all(map(lambda x:getattr(pm, x)==0, ['rss','vms', 'shared', 'text', 'lib', 'data', 'dirty']))\n",
    "    return is_zero"
   ]
  },
  {
   "cell_type": "code",
   "execution_count": 11,
   "metadata": {
    "collapsed": true
   },
   "outputs": [],
   "source": [
    "def is_wait(pool, max_pool=4):\n",
    "    if len(pool) < max_pool:\n",
    "        print(datetime.now(), 'pool size', len(pool))\n",
    "        return False\n",
    "    else:\n",
    "        time.sleep(10)\n",
    "        not_run_p = []\n",
    "        for i, p in enumerate(pool[:]):\n",
    "            not_run = check(p)\n",
    "            print(datetime.now(), 'process', i, 'not runing' if not_run else 'run')\n",
    "            if not_run:\n",
    "                not_run_p.append(i)\n",
    "        not_run_p.sort(reverse=True)\n",
    "        for i in not_run_p:\n",
    "            p = pool.pop(i)\n",
    "            p.kill()\n",
    "        return True"
   ]
  },
  {
   "cell_type": "code",
   "execution_count": 12,
   "metadata": {
    "collapsed": false
   },
   "outputs": [],
   "source": [
    "def run_args(extract_args, max_pool=4):\n",
    "    pool = []\n",
    "    for p, n in extract_args:\n",
    "        print(datetime.now(), 'begin', p, n)\n",
    "        fn = join(log_dir, '{}_{}.txt'.format(p, n))\n",
    "        pool.append(psutil.Popen(['python', p+'.py', n], stdout=open(fn, 'w')))\n",
    "        while is_wait(pool, max_pool):\n",
    "            print(datetime.now(), 'run in ', p, n)\n",
    "    while is_wait(pool, 1):\n",
    "        print('wait for pool over')"
   ]
  },
  {
   "cell_type": "code",
   "execution_count": 13,
   "metadata": {
    "collapsed": true
   },
   "outputs": [],
   "source": [
    "# for p, n in extract_args:\n",
    "#     print(datetime.now(), 'begin', p, n)\n",
    "#     fn = join(log_dir, '{}_{}.txt'.format(p, n))\n",
    "#     pool.append(psutil.Popen(['python', p+'.py', n], stdout=open(fn, 'w')))\n",
    "#     while is_wait(pool):\n",
    "#         print(datetime.now(), 'run in ', p, n)"
   ]
  },
  {
   "cell_type": "code",
   "execution_count": 14,
   "metadata": {
    "collapsed": true
   },
   "outputs": [],
   "source": [
    "extract_args = get_args(feture_extract_path, worker_dirs)\n",
    "combine_args = get_args(feture_combine_path, worker_dirs)"
   ]
  },
  {
   "cell_type": "code",
   "execution_count": 15,
   "metadata": {
    "collapsed": true
   },
   "outputs": [
    {
     "name": "stdout",
     "output_type": "stream",
     "text": [
      "2017-08-05 08:52:30.592402 begin extract_hotel_feature train\n",
      "2017-08-05 08:52:30.598291 pool size 1\n",
      "2017-08-05 08:52:30.598392 begin extract_hotel_feature test\n",
      "2017-08-05 08:52:30.603747 pool size 2\n",
      "2017-08-05 08:52:30.603826 begin extract_basic_room_feature train\n",
      "2017-08-05 08:52:30.609969 pool size 3\n",
      "2017-08-05 08:52:30.610077 begin extract_basic_room_feature test\n",
      "2017-08-05 08:52:40.631900 process 0 run\n",
      "2017-08-05 08:52:40.632135 process 1 run\n",
      "2017-08-05 08:52:40.632252 process 2 run\n",
      "2017-08-05 08:52:40.632363 process 3 run\n",
      "2017-08-05 08:52:40.632418 run in  extract_basic_room_feature test\n",
      "2017-08-05 08:52:50.642969 process 0 not runing\n",
      "2017-08-05 08:52:50.643384 process 1 not runing\n",
      "2017-08-05 08:52:50.643891 process 2 not runing\n",
      "2017-08-05 08:52:50.644517 process 3 not runing\n",
      "2017-08-05 08:52:50.646239 run in  extract_basic_room_feature test\n",
      "2017-08-05 08:52:50.646338 pool size 0\n",
      "2017-08-05 08:52:50.646402 begin extract_hotel_room_feature train\n",
      "2017-08-05 08:52:50.653799 pool size 1\n",
      "2017-08-05 08:52:50.653903 begin extract_hotel_room_feature test\n",
      "2017-08-05 08:52:50.658868 pool size 2\n",
      "2017-08-05 08:52:50.658954 begin extract_room_feature train\n",
      "2017-08-05 08:52:50.665038 pool size 3\n",
      "2017-08-05 08:52:50.665149 begin extract_room_feature test\n",
      "2017-08-05 08:53:00.679824 process 0 run\n",
      "2017-08-05 08:53:00.680197 process 1 run\n",
      "2017-08-05 08:53:00.680295 process 2 not runing\n",
      "2017-08-05 08:53:00.680371 process 3 not runing\n",
      "2017-08-05 08:53:00.680753 run in  extract_room_feature test\n",
      "2017-08-05 08:53:00.680791 pool size 2\n",
      "2017-08-05 08:53:00.680815 begin extract_uid_feture train\n",
      "2017-08-05 08:53:00.686664 pool size 3\n",
      "2017-08-05 08:53:00.686805 begin extract_uid_feture test\n",
      "2017-08-05 08:53:10.702438 process 0 not runing\n",
      "2017-08-05 08:53:10.703373 process 1 not runing\n",
      "2017-08-05 08:53:10.703707 process 2 not runing\n",
      "2017-08-05 08:53:10.703932 process 3 not runing\n",
      "2017-08-05 08:53:10.705505 run in  extract_uid_feture test\n",
      "2017-08-05 08:53:10.705600 pool size 0\n",
      "2017-08-05 08:53:10.705666 begin extract_order_feature train\n",
      "2017-08-05 08:53:10.715072 pool size 1\n",
      "2017-08-05 08:53:10.715340 begin extract_order_feature test\n",
      "2017-08-05 08:53:10.721306 pool size 2\n",
      "2017-08-05 08:53:20.731700 process 0 run\n",
      "2017-08-05 08:53:20.731957 process 1 run\n",
      "wait for pool over\n",
      "2017-08-05 08:53:30.742259 process 0 run\n",
      "2017-08-05 08:53:30.742504 process 1 run\n",
      "wait for pool over\n",
      "2017-08-05 08:53:40.752811 process 0 run\n",
      "2017-08-05 08:53:40.753046 process 1 run\n",
      "wait for pool over\n",
      "2017-08-05 08:53:50.763492 process 0 run\n",
      "2017-08-05 08:53:50.763843 process 1 run\n",
      "wait for pool over\n",
      "2017-08-05 08:54:00.771783 process 0 run\n",
      "2017-08-05 08:54:00.772122 process 1 run\n",
      "wait for pool over\n",
      "2017-08-05 08:54:10.781580 process 0 run\n",
      "2017-08-05 08:54:10.781957 process 1 run\n",
      "wait for pool over\n",
      "2017-08-05 08:54:20.791784 process 0 run\n",
      "2017-08-05 08:54:20.792201 process 1 run\n",
      "wait for pool over\n",
      "2017-08-05 08:54:30.793372 process 0 run\n",
      "2017-08-05 08:54:30.793696 process 1 run\n",
      "wait for pool over\n",
      "2017-08-05 08:54:40.803776 process 0 run\n",
      "2017-08-05 08:54:40.804148 process 1 run\n",
      "wait for pool over\n",
      "2017-08-05 08:54:50.814663 process 0 not runing\n",
      "2017-08-05 08:54:50.815533 process 1 not runing\n",
      "wait for pool over\n",
      "2017-08-05 08:54:50.816623 pool size 0\n"
     ]
    }
   ],
   "source": [
    "run_args(extract_args, max_run)"
   ]
  },
  {
   "cell_type": "code",
   "execution_count": 16,
   "metadata": {
    "collapsed": true
   },
   "outputs": [],
   "source": [
    "run_args(combine_args, max_run)"
   ]
  }
 ],
 "metadata": {
  "anaconda-cloud": {},
  "hide_input": false,
  "kernelspec": {
   "display_name": "Python 3",
   "language": "python",
   "name": "python3"
  },
  "language_info": {
   "codemirror_mode": {
    "name": "ipython",
    "version": 3
   },
   "file_extension": ".py",
   "mimetype": "text/x-python",
   "name": "python",
   "nbconvert_exporter": "python",
   "pygments_lexer": "ipython3",
   "version": "3.5.1"
  }
 },
 "nbformat": 4,
 "nbformat_minor": 2
}
